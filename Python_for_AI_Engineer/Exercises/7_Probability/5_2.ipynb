{
  "nbformat": 4,
  "nbformat_minor": 0,
  "metadata": {
    "orig_nbformat": 4,
    "language_info": {
      "name": "python",
      "version": "3.9.6",
      "mimetype": "text/x-python",
      "codemirror_mode": {
        "name": "ipython",
        "version": 3
      },
      "pygments_lexer": "ipython3",
      "nbconvert_exporter": "python",
      "file_extension": ".py"
    },
    "kernelspec": {
      "name": "python3",
      "display_name": "Python 3.9.6 64-bit ('.venv': venv)"
    },
    "interpreter": {
      "hash": "1238cea64977e04b1c07caf2b8804f0d4759ebaf8b269537aa7a505716b480d0"
    },
    "colab": {
      "name": "solution.ipynb",
      "provenance": []
    }
  },
  "cells": [
    {
      "cell_type": "code",
      "metadata": {
        "id": "CZpOF206kYz5"
      },
      "source": [
        "# Statistics and probability concluding exercise"
      ],
      "execution_count": null,
      "outputs": []
    },
    {
      "cell_type": "code",
      "metadata": {
        "id": "VjWHu1-5kYz_"
      },
      "source": [
        "# Exercise 5.2"
      ],
      "execution_count": null,
      "outputs": []
    },
    {
      "cell_type": "code",
      "metadata": {
        "id": "DMqh3E4kl8Sp"
      },
      "source": [
        "# imports\n",
        "\n",
        "import matplotlib.pyplot as plt\n",
        "import numpy as np\n",
        "import pandas as pd\n",
        "\n",
        "from scipy.stats import uniform\n",
        "from scipy.stats import norm\n",
        "from scipy.stats import gamma"
      ],
      "execution_count": 22,
      "outputs": []
    },
    {
      "cell_type": "code",
      "metadata": {
        "id": "-LScEA-Bkp66"
      },
      "source": [
        "# prepare distrubution"
      ],
      "execution_count": 1,
      "outputs": []
    },
    {
      "cell_type": "code",
      "metadata": {
        "id": "effn0ccwkY0A"
      },
      "source": [
        "# Select distribution\n",
        "\n",
        "# https://www.datacamp.com/community/tutorials/probability-distributions-python\n",
        "\n",
        "# random numbers from uniform distribution\n",
        "\n",
        "\n",
        "n = 10000\n",
        "start_1 = -10\n",
        "width_1 = 20\n",
        "data_uniform_1 = uniform.rvs(size=n, loc = start_1, scale=width_1)\n",
        "\n",
        "mu_1 = start_1 + width_1 / 2\n",
        "sigma_1 = np.sqrt(width_1 / 12)a\n"
      ],
      "execution_count": 4,
      "outputs": []
    },
    {
      "cell_type": "code",
      "metadata": {
        "id": "9I6pQZF3mo45"
      },
      "source": [
        ""
      ],
      "execution_count": null,
      "outputs": []
    },
    {
      "cell_type": "code",
      "metadata": {
        "id": "bXI5UUQYmcap"
      },
      "source": [
        ""
      ],
      "execution_count": null,
      "outputs": []
    },
    {
      "cell_type": "code",
      "metadata": {
        "id": "_CChAq6EmcUg"
      },
      "source": [
        ""
      ],
      "execution_count": null,
      "outputs": []
    },
    {
      "cell_type": "code",
      "metadata": {
        "id": "psGxZyxjmcOf"
      },
      "source": [
        ""
      ],
      "execution_count": null,
      "outputs": []
    },
    {
      "cell_type": "code",
      "metadata": {
        "id": "1V4nJG9Embc5"
      },
      "source": [
        ""
      ],
      "execution_count": null,
      "outputs": []
    },
    {
      "cell_type": "code",
      "metadata": {
        "id": "w3V91bFkkqra"
      },
      "source": [
        "# generate random numbers from N(0,1)\n",
        "data_normal = norm.rvs(size=10000,loc=0,scale=1)\n",
        "\n",
        "data_gamma = gamma.rvs(a=5, size=10000)\n",
        "\n"
      ],
      "execution_count": 23,
      "outputs": []
    },
    {
      "cell_type": "code",
      "metadata": {
        "id": "UaLE065mmszf"
      },
      "source": [
        "dist_array = [data_uniform_1, data_normal, data_gamma]\n",
        "dist_name = [\"data_uniform_1\", \"data_normal\", \"data_gamma\"]"
      ],
      "execution_count": 24,
      "outputs": []
    },
    {
      "cell_type": "code",
      "metadata": {
        "colab": {
          "base_uri": "https://localhost:8080/",
          "height": 585
        },
        "id": "8lQzN2jVmpsA",
        "outputId": "e4c9021e-9c5b-41bc-b982-80be47aef515"
      },
      "source": [
        "fig, _ = plt.subplots(1, 3, figsize=(8,8))\n",
        "\n",
        "for kk, ax in zip(range(2), fig.axes):\n",
        "    dist = dist_array[kk]\n",
        "    ax = sns.distplot(dist,\n",
        "                  kde=True,\n",
        "                  bins=100,\n",
        "                  color='skyblue',\n",
        "                  hist_kws={\"linewidth\": 15,'alpha':1})\n",
        "    ax.set_title(dist_name[kk])\n",
        "\n",
        "plt.tight_layout()\n",
        "plt.show()"
      ],
      "execution_count": 25,
      "outputs": [
        {
          "output_type": "display_data",
          "data": {
            "image/png": "[encoded data removed]",
            "text/plain": [
              "<Figure size 576x576 with 3 Axes>"
            ]
          },
          "metadata": {
            "needs_background": "light"
          }
        }
      ]
    },
    {
      "cell_type": "code",
      "metadata": {
        "id": "OSl3r_z5kY0D",
        "outputId": "0dde440a-50b8-4cf8-bac7-9801277422b3"
      },
      "source": [
        "# https://numpy.org/doc/stable/reference/random/generated/numpy.random.choice.html\n",
        "\n",
        "random_100 = np.random.choice(data_uniform, 100)\n",
        "\n",
        "print(np.mean(random_100))\n"
      ],
      "execution_count": null,
      "outputs": [
        {
          "output_type": "stream",
          "name": "stdout",
          "text": [
            "1.0618648838419147\n"
          ]
        }
      ]
    },
    {
      "cell_type": "code",
      "metadata": {
        "id": "1UURB2HEkY0E"
      },
      "source": [
        "x_bar = np.zeros(1000)\n",
        "\n",
        "for i in range(len(x_bar)):\n",
        "    random_100 = np.random.choice(data_uniform, 100)\n",
        "    x_bar[i] = np.mean(random_100)\n",
        "\n",
        "x_tilda = (x_bar - mu) / (sigma / np.sqrt(n))"
      ],
      "execution_count": null,
      "outputs": []
    },
    {
      "cell_type": "code",
      "metadata": {
        "id": "KTvQZiMskY0F",
        "outputId": "f4b98aaa-0f8b-4a4b-f114-d2c3c728d5a8"
      },
      "source": [
        "# https://numpy.org/doc/stable/reference/generated/numpy.histogram.html\n",
        "\n",
        "\n",
        "plt.hist(x_bar, bins='auto')\n",
        "plt.show()"
      ],
      "execution_count": null,
      "outputs": [
        {
          "output_type": "display_data",
          "data": {
            "image/png": "[encoded data removed]",
            "text/plain": [
              "<Figure size 432x288 with 1 Axes>"
            ]
          },
          "metadata": {
            "needs_background": "light"
          }
        }
      ]
    },
    {
      "cell_type": "code",
      "metadata": {
        "id": "lgkyK1FakY0G",
        "outputId": "2d0e2535-b050-4b85-dcd5-a3644137f4bd"
      },
      "source": [
        "plt.hist(x_tilda, bins='auto')\n",
        "plt.show()"
      ],
      "execution_count": null,
      "outputs": [
        {
          "output_type": "display_data",
          "data": {
            "image/png": "[encoded data removed]",
            "text/plain": [
              "<Figure size 432x288 with 1 Axes>"
            ]
          },
          "metadata": {
            "needs_background": "light"
          }
        }
      ]
    },
    {
      "cell_type": "code",
      "metadata": {
        "id": "7AnuQxYykY0I",
        "outputId": "283aba45-848c-4b24-91b0-84cc68fee846"
      },
      "source": [
        "import statsmodels.api as sm\n",
        "\n",
        "sm.qqplot(x_tilda,line='r') \n",
        "plt.show()\n",
        "    "
      ],
      "execution_count": null,
      "outputs": [
        {
          "output_type": "stream",
          "name": "stderr",
          "text": [
            "c:\\Courses\\Python_for_AI_Engineer\\Probability\\exercise\\.venv\\lib\\site-packages\\statsmodels\\graphics\\gofplots.py:993: UserWarning: marker is redundantly defined by the 'marker' keyword argument and the fmt string \"bo\" (-> marker='o'). The keyword argument will take precedence.\n",
            "  ax.plot(x, y, fmt, **plot_style)\n"
          ]
        },
        {
          "output_type": "display_data",
          "data": {
            "image/png": "[encoded data removed]",
            "text/plain": [
              "<Figure size 432x288 with 1 Axes>"
            ]
          },
          "metadata": {
            "needs_background": "light"
          }
        }
      ]
    },
    {
      "cell_type": "code",
      "metadata": {
        "id": "soXdA4x5kY0J"
      },
      "source": [
        "# according the CLT,\n",
        "# The sample averages will converge to the N(0,1) as we take more samples,\n",
        "# And indeed for n=1000 the distribution of x tilda (normalized x) is closer to the N(0,1)."
      ],
      "execution_count": null,
      "outputs": []
    },
    {
      "cell_type": "code",
      "metadata": {
        "id": "ZIjiSGBzkY0K"
      },
      "source": [
        "# Q 6.2\n",
        "\n",
        "import numpy as np\n",
        "import scipy.stats\n",
        "\n",
        "# wait_time ~ U[0, theta]\n",
        "\n",
        "wait_time = np.array([2, 7, 5, 11, 1])\n",
        "\n",
        "# 6.2.1: Find the ML for theta \n",
        "# theta = theta(ML) = Xn = max(wait_time) = 11\n",
        "\n",
        "# 6.2.2: Find the quantile function Qp\n",
        "# Since it is uniform distribution, the Q is simply Qp = theta*p = 11p\n",
        "\n",
        "# 6.2.3: Construct a confidence level of 0.95:\n",
        "\n",
        "# theta = 11\n",
        "# Find p1, p2 such that 0 <= p1 <= p2 <= 1, p2-p2 = 1 - alpha = 0.95\n",
        "# p1 = 0.025\n",
        "# p2 = 0.975\n",
        "\n",
        "# 1. Find ML for theta: theta = 11 (from section 6.2.1)\n",
        "# 2. Qp = 11*p (from section 6.2.2)\n",
        "# 3. Qp1 = 11*0.025 = 0.275\n",
        "# 4. Qp2 = 11*0.975 = 10.725\n",
        "\n",
        "# Confidence Intrval = [0.275, 10.725]"
      ],
      "execution_count": null,
      "outputs": []
    },
    {
      "cell_type": "code",
      "metadata": {
        "id": "mYrqk1BDkY0L"
      },
      "source": [
        " # 10.1\n",
        "\n",
        " # 10.1.1 Build confidence range for the mean diffenceses\n",
        "\n",
        "data_frame = pd.read_csv('Advertising.csv')"
      ],
      "execution_count": null,
      "outputs": []
    },
    {
      "cell_type": "code",
      "metadata": {
        "id": "r-UWvrkykY0M",
        "outputId": "7a368cab-89a2-41bd-8bc1-20a15f635a9b"
      },
      "source": [
        "data_frame.describe()"
      ],
      "execution_count": null,
      "outputs": [
        {
          "output_type": "execute_result",
          "data": {
            "text/html": [
              "<div>\n",
              "<style scoped>\n",
              "    .dataframe tbody tr th:only-of-type {\n",
              "        vertical-align: middle;\n",
              "    }\n",
              "\n",
              "    .dataframe tbody tr th {\n",
              "        vertical-align: top;\n",
              "    }\n",
              "\n",
              "    .dataframe thead th {\n",
              "        text-align: right;\n",
              "    }\n",
              "</style>\n",
              "<table border=\"1\" class=\"dataframe\">\n",
              "  <thead>\n",
              "    <tr style=\"text-align: right;\">\n",
              "      <th></th>\n",
              "      <th>Unnamed: 0</th>\n",
              "      <th>TV</th>\n",
              "      <th>radio</th>\n",
              "      <th>newspaper</th>\n",
              "      <th>sales</th>\n",
              "    </tr>\n",
              "  </thead>\n",
              "  <tbody>\n",
              "    <tr>\n",
              "      <th>count</th>\n",
              "      <td>200.000000</td>\n",
              "      <td>200.000000</td>\n",
              "      <td>200.000000</td>\n",
              "      <td>200.000000</td>\n",
              "      <td>200.000000</td>\n",
              "    </tr>\n",
              "    <tr>\n",
              "      <th>mean</th>\n",
              "      <td>100.500000</td>\n",
              "      <td>147.042500</td>\n",
              "      <td>23.264000</td>\n",
              "      <td>30.554000</td>\n",
              "      <td>14.022500</td>\n",
              "    </tr>\n",
              "    <tr>\n",
              "      <th>std</th>\n",
              "      <td>57.879185</td>\n",
              "      <td>85.854236</td>\n",
              "      <td>14.846809</td>\n",
              "      <td>21.778621</td>\n",
              "      <td>5.217457</td>\n",
              "    </tr>\n",
              "    <tr>\n",
              "      <th>min</th>\n",
              "      <td>1.000000</td>\n",
              "      <td>0.700000</td>\n",
              "      <td>0.000000</td>\n",
              "      <td>0.300000</td>\n",
              "      <td>1.600000</td>\n",
              "    </tr>\n",
              "    <tr>\n",
              "      <th>25%</th>\n",
              "      <td>50.750000</td>\n",
              "      <td>74.375000</td>\n",
              "      <td>9.975000</td>\n",
              "      <td>12.750000</td>\n",
              "      <td>10.375000</td>\n",
              "    </tr>\n",
              "    <tr>\n",
              "      <th>50%</th>\n",
              "      <td>100.500000</td>\n",
              "      <td>149.750000</td>\n",
              "      <td>22.900000</td>\n",
              "      <td>25.750000</td>\n",
              "      <td>12.900000</td>\n",
              "    </tr>\n",
              "    <tr>\n",
              "      <th>75%</th>\n",
              "      <td>150.250000</td>\n",
              "      <td>218.825000</td>\n",
              "      <td>36.525000</td>\n",
              "      <td>45.100000</td>\n",
              "      <td>17.400000</td>\n",
              "    </tr>\n",
              "    <tr>\n",
              "      <th>max</th>\n",
              "      <td>200.000000</td>\n",
              "      <td>296.400000</td>\n",
              "      <td>49.600000</td>\n",
              "      <td>114.000000</td>\n",
              "      <td>27.000000</td>\n",
              "    </tr>\n",
              "  </tbody>\n",
              "</table>\n",
              "</div>"
            ],
            "text/plain": [
              "       Unnamed: 0          TV       radio   newspaper       sales\n",
              "count  200.000000  200.000000  200.000000  200.000000  200.000000\n",
              "mean   100.500000  147.042500   23.264000   30.554000   14.022500\n",
              "std     57.879185   85.854236   14.846809   21.778621    5.217457\n",
              "min      1.000000    0.700000    0.000000    0.300000    1.600000\n",
              "25%     50.750000   74.375000    9.975000   12.750000   10.375000\n",
              "50%    100.500000  149.750000   22.900000   25.750000   12.900000\n",
              "75%    150.250000  218.825000   36.525000   45.100000   17.400000\n",
              "max    200.000000  296.400000   49.600000  114.000000   27.000000"
            ]
          },
          "metadata": {},
          "execution_count": 23
        }
      ]
    },
    {
      "cell_type": "code",
      "metadata": {
        "id": "yC84KkU5kY0N",
        "outputId": "87120355-08bb-4658-d724-a2e29c3de32b"
      },
      "source": [
        "mu_0 = 0\n",
        "n = len(data_frame.newspaper)\n",
        "d = data_frame.newspaper - data_frame.radio\n",
        "d_bar = np.mean(d)\n",
        "print(d_bar)"
      ],
      "execution_count": null,
      "outputs": [
        {
          "output_type": "stream",
          "name": "stdout",
          "text": [
            "7.29\n"
          ]
        }
      ]
    },
    {
      "cell_type": "code",
      "metadata": {
        "id": "QCYD9o8xkY0N",
        "outputId": "44e7a9b3-e3fb-4d51-d6dc-d6b1298d112c"
      },
      "source": [
        "# since we assume it is normal distribution, we can estimate the variance\n",
        "\n",
        "s_d = np.sqrt((np.sum((d - d_bar) ** 2)) / (n - 1))\n",
        "s_d"
      ],
      "execution_count": null,
      "outputs": [
        {
          "output_type": "execute_result",
          "data": {
            "text/plain": [
              "21.58105906930343"
            ]
          },
          "metadata": {},
          "execution_count": 25
        }
      ]
    },
    {
      "cell_type": "code",
      "metadata": {
        "id": "uS_s5vVfkY0O",
        "outputId": "ded30349-284e-417d-f562-d0a34b8fdd8f"
      },
      "source": [
        "from scipy import stats\n",
        "t = stats.t.ppf(1-0.025, n - 1)\n",
        "wing = t * s_d / np.sqrt(n)\n",
        "print(wing)"
      ],
      "execution_count": null,
      "outputs": [
        {
          "output_type": "stream",
          "name": "stdout",
          "text": [
            "3.0092280116543226\n"
          ]
        }
      ]
    },
    {
      "cell_type": "code",
      "metadata": {
        "id": "vkK7eml-kY0P",
        "outputId": "fc136ab8-0d28-4851-9e00-6681517f1242"
      },
      "source": [
        "# The confidence_range is\n",
        "confidence_range = [d_bar - wing, d_bar + wing]\n",
        "print(confidence_range)"
      ],
      "execution_count": null,
      "outputs": [
        {
          "output_type": "stream",
          "name": "stdout",
          "text": [
            "[4.280771988345677, 10.299228011654323]\n"
          ]
        }
      ]
    },
    {
      "cell_type": "code",
      "metadata": {
        "id": "Fvnszo6YkY0Q"
      },
      "source": [
        "# 10.1.2: Make the coresponding hypothesis\n",
        "\n",
        "# H0: There is no difference in profit from newaspaper and radio advertising\n",
        "# H1: The advertising in the newaspaper is more profitable"
      ],
      "execution_count": null,
      "outputs": []
    },
    {
      "cell_type": "code",
      "metadata": {
        "id": "frx83mbJkY0Q",
        "outputId": "4f2c2558-6d02-4620-ba7e-f697c89502c8"
      },
      "source": [
        "T = (d_bar - mu_0) / (s_d / np.sqrt(n))\n",
        "T"
      ],
      "execution_count": null,
      "outputs": [
        {
          "output_type": "execute_result",
          "data": {
            "text/plain": [
              "4.777159840299083"
            ]
          },
          "metadata": {},
          "execution_count": 29
        }
      ]
    },
    {
      "cell_type": "code",
      "metadata": {
        "id": "uwWzR96vkY0R",
        "outputId": "0ed9b75c-c88c-406d-c00d-fe9503cde0fe"
      },
      "source": [
        "T > stats.t.ppf(1-0.025, n - 1)\n",
        "\n",
        "# Thus, we can reject the H0 hypothesis"
      ],
      "execution_count": null,
      "outputs": [
        {
          "output_type": "execute_result",
          "data": {
            "text/plain": [
              "True"
            ]
          },
          "metadata": {},
          "execution_count": 30
        }
      ]
    },
    {
      "cell_type": "code",
      "metadata": {
        "id": "AvQ5NLHykY0S"
      },
      "source": [
        "# 12.1 Preform analysis of the Cirrhosis_death_rate data\n",
        "\n",
        "data_frame = pd.read_csv('Cirrhosis_death_rate.csv')"
      ],
      "execution_count": null,
      "outputs": []
    },
    {
      "cell_type": "code",
      "metadata": {
        "id": "uc06-mWWkY0T",
        "outputId": "2a4491f9-a5d6-498d-a653-bac8afee18b1"
      },
      "source": [
        "data_frame.head()"
      ],
      "execution_count": null,
      "outputs": [
        {
          "output_type": "execute_result",
          "data": {
            "text/html": [
              "<div>\n",
              "<style scoped>\n",
              "    .dataframe tbody tr th:only-of-type {\n",
              "        vertical-align: middle;\n",
              "    }\n",
              "\n",
              "    .dataframe tbody tr th {\n",
              "        vertical-align: top;\n",
              "    }\n",
              "\n",
              "    .dataframe thead th {\n",
              "        text-align: right;\n",
              "    }\n",
              "</style>\n",
              "<table border=\"1\" class=\"dataframe\">\n",
              "  <thead>\n",
              "    <tr style=\"text-align: right;\">\n",
              "      <th></th>\n",
              "      <th>Population</th>\n",
              "      <th>Late_births</th>\n",
              "      <th>Wine_consumption</th>\n",
              "      <th>Liquor_consumption</th>\n",
              "      <th>Cirrhosis_death_rate</th>\n",
              "    </tr>\n",
              "  </thead>\n",
              "  <tbody>\n",
              "    <tr>\n",
              "      <th>0</th>\n",
              "      <td>44</td>\n",
              "      <td>33.2</td>\n",
              "      <td>5</td>\n",
              "      <td>30</td>\n",
              "      <td>41.2</td>\n",
              "    </tr>\n",
              "    <tr>\n",
              "      <th>1</th>\n",
              "      <td>43</td>\n",
              "      <td>33.8</td>\n",
              "      <td>4</td>\n",
              "      <td>41</td>\n",
              "      <td>31.7</td>\n",
              "    </tr>\n",
              "    <tr>\n",
              "      <th>2</th>\n",
              "      <td>48</td>\n",
              "      <td>40.6</td>\n",
              "      <td>3</td>\n",
              "      <td>38</td>\n",
              "      <td>39.4</td>\n",
              "    </tr>\n",
              "    <tr>\n",
              "      <th>3</th>\n",
              "      <td>52</td>\n",
              "      <td>39.2</td>\n",
              "      <td>7</td>\n",
              "      <td>48</td>\n",
              "      <td>57.5</td>\n",
              "    </tr>\n",
              "    <tr>\n",
              "      <th>4</th>\n",
              "      <td>71</td>\n",
              "      <td>45.5</td>\n",
              "      <td>11</td>\n",
              "      <td>53</td>\n",
              "      <td>74.8</td>\n",
              "    </tr>\n",
              "  </tbody>\n",
              "</table>\n",
              "</div>"
            ],
            "text/plain": [
              "   Population  Late_births  Wine_consumption  Liquor_consumption  \\\n",
              "0          44         33.2                 5                  30   \n",
              "1          43         33.8                 4                  41   \n",
              "2          48         40.6                 3                  38   \n",
              "3          52         39.2                 7                  48   \n",
              "4          71         45.5                11                  53   \n",
              "\n",
              "   Cirrhosis_death_rate  \n",
              "0                  41.2  \n",
              "1                  31.7  \n",
              "2                  39.4  \n",
              "3                  57.5  \n",
              "4                  74.8  "
            ]
          },
          "metadata": {},
          "execution_count": 32
        }
      ]
    },
    {
      "cell_type": "code",
      "metadata": {
        "id": "VgdCUFEskY0T",
        "outputId": "d4c1a173-4f8e-40ee-f96d-9d136549135a"
      },
      "source": [
        "data_frame.describe()"
      ],
      "execution_count": null,
      "outputs": [
        {
          "output_type": "execute_result",
          "data": {
            "text/html": [
              "<div>\n",
              "<style scoped>\n",
              "    .dataframe tbody tr th:only-of-type {\n",
              "        vertical-align: middle;\n",
              "    }\n",
              "\n",
              "    .dataframe tbody tr th {\n",
              "        vertical-align: top;\n",
              "    }\n",
              "\n",
              "    .dataframe thead th {\n",
              "        text-align: right;\n",
              "    }\n",
              "</style>\n",
              "<table border=\"1\" class=\"dataframe\">\n",
              "  <thead>\n",
              "    <tr style=\"text-align: right;\">\n",
              "      <th></th>\n",
              "      <th>Population</th>\n",
              "      <th>Late_births</th>\n",
              "      <th>Wine_consumption</th>\n",
              "      <th>Liquor_consumption</th>\n",
              "      <th>Cirrhosis_death_rate</th>\n",
              "    </tr>\n",
              "  </thead>\n",
              "  <tbody>\n",
              "    <tr>\n",
              "      <th>count</th>\n",
              "      <td>46.000000</td>\n",
              "      <td>46.000000</td>\n",
              "      <td>46.000000</td>\n",
              "      <td>46.000000</td>\n",
              "      <td>46.000000</td>\n",
              "    </tr>\n",
              "    <tr>\n",
              "      <th>mean</th>\n",
              "      <td>56.260870</td>\n",
              "      <td>41.476087</td>\n",
              "      <td>11.586957</td>\n",
              "      <td>57.500000</td>\n",
              "      <td>63.493478</td>\n",
              "    </tr>\n",
              "    <tr>\n",
              "      <th>std</th>\n",
              "      <td>15.747218</td>\n",
              "      <td>7.044342</td>\n",
              "      <td>6.920424</td>\n",
              "      <td>22.140712</td>\n",
              "      <td>23.447979</td>\n",
              "    </tr>\n",
              "    <tr>\n",
              "      <th>min</th>\n",
              "      <td>27.000000</td>\n",
              "      <td>31.200000</td>\n",
              "      <td>2.000000</td>\n",
              "      <td>26.000000</td>\n",
              "      <td>28.000000</td>\n",
              "    </tr>\n",
              "    <tr>\n",
              "      <th>25%</th>\n",
              "      <td>44.250000</td>\n",
              "      <td>35.625000</td>\n",
              "      <td>6.250000</td>\n",
              "      <td>41.500000</td>\n",
              "      <td>48.900000</td>\n",
              "    </tr>\n",
              "    <tr>\n",
              "      <th>50%</th>\n",
              "      <td>55.000000</td>\n",
              "      <td>42.250000</td>\n",
              "      <td>10.000000</td>\n",
              "      <td>56.000000</td>\n",
              "      <td>57.650000</td>\n",
              "    </tr>\n",
              "    <tr>\n",
              "      <th>75%</th>\n",
              "      <td>65.000000</td>\n",
              "      <td>45.825000</td>\n",
              "      <td>15.750000</td>\n",
              "      <td>68.750000</td>\n",
              "      <td>75.700000</td>\n",
              "    </tr>\n",
              "    <tr>\n",
              "      <th>max</th>\n",
              "      <td>87.000000</td>\n",
              "      <td>56.100000</td>\n",
              "      <td>31.000000</td>\n",
              "      <td>149.000000</td>\n",
              "      <td>129.900000</td>\n",
              "    </tr>\n",
              "  </tbody>\n",
              "</table>\n",
              "</div>"
            ],
            "text/plain": [
              "       Population  Late_births  Wine_consumption  Liquor_consumption  \\\n",
              "count   46.000000    46.000000         46.000000           46.000000   \n",
              "mean    56.260870    41.476087         11.586957           57.500000   \n",
              "std     15.747218     7.044342          6.920424           22.140712   \n",
              "min     27.000000    31.200000          2.000000           26.000000   \n",
              "25%     44.250000    35.625000          6.250000           41.500000   \n",
              "50%     55.000000    42.250000         10.000000           56.000000   \n",
              "75%     65.000000    45.825000         15.750000           68.750000   \n",
              "max     87.000000    56.100000         31.000000          149.000000   \n",
              "\n",
              "       Cirrhosis_death_rate  \n",
              "count             46.000000  \n",
              "mean              63.493478  \n",
              "std               23.447979  \n",
              "min               28.000000  \n",
              "25%               48.900000  \n",
              "50%               57.650000  \n",
              "75%               75.700000  \n",
              "max              129.900000  "
            ]
          },
          "metadata": {},
          "execution_count": 33
        }
      ]
    },
    {
      "cell_type": "code",
      "metadata": {
        "id": "7nYo79AekY0U",
        "outputId": "613bf72b-302c-4421-8efc-83128c65fa4f"
      },
      "source": [
        "sns.pairplot(data_frame)"
      ],
      "execution_count": null,
      "outputs": [
        {
          "output_type": "error",
          "ename": "NameError",
          "evalue": "name 'sns' is not defined",
          "traceback": [
            "\u001b[1;31m---------------------------------------------------------------------------\u001b[0m",
            "\u001b[1;31mNameError\u001b[0m                                 Traceback (most recent call last)",
            "\u001b[1;32m~\\AppData\\Local\\Temp/ipykernel_22480/8852952.py\u001b[0m in \u001b[0;36m<module>\u001b[1;34m\u001b[0m\n\u001b[1;32m----> 1\u001b[1;33m \u001b[0msns\u001b[0m\u001b[1;33m.\u001b[0m\u001b[0mpairplot\u001b[0m\u001b[1;33m(\u001b[0m\u001b[0mdata_frame\u001b[0m\u001b[1;33m)\u001b[0m\u001b[1;33m\u001b[0m\u001b[1;33m\u001b[0m\u001b[0m\n\u001b[0m",
            "\u001b[1;31mNameError\u001b[0m: name 'sns' is not defined"
          ]
        }
      ]
    },
    {
      "cell_type": "code",
      "metadata": {
        "id": "QzZg1iBjkY0U"
      },
      "source": [
        "# 12.1: Use Population for Cirrhosis_death_rate linear regression\n",
        "\n",
        "from sklearn.linear_model import LinearRegression\n",
        "\n",
        "X = data_frame.Population.values.reshape(-1,1)\n",
        "y = data_frame.Cirrhosis_death_rate.values.reshape(-1,1)\n",
        "\n",
        "reg = LinearRegression()\n",
        "reg.fit(X, y)\n",
        "\n",
        "print(reg.coef_[0][0])\n",
        "print(reg.intercept_[0])\n",
        "\n",
        "print(\"The linear model is: Y = {:.5} + {:.5}X\".format(reg.intercept_[0], reg.coef_[0][0]))"
      ],
      "execution_count": null,
      "outputs": []
    },
    {
      "cell_type": "code",
      "metadata": {
        "id": "g5iiWBVWkY0V"
      },
      "source": [
        "predictions = reg.predict(X)\n",
        "\n",
        "plt.figure(figsize=(16, 8))\n",
        "plt.scatter(\n",
        "    data_frame.Population,\n",
        "    data_frame.Cirrhosis_death_rate,\n",
        "    c='black'\n",
        ")\n",
        "plt.plot(\n",
        "    data_frame.Population,\n",
        "    predictions,\n",
        "    c='blue',\n",
        "    linewidth=2\n",
        ")\n",
        "plt.xlabel(\"Population\")\n",
        "plt.ylabel(\"Cirrhosis_death_rate\")\n",
        "plt.show()"
      ],
      "execution_count": null,
      "outputs": []
    },
    {
      "cell_type": "code",
      "metadata": {
        "id": "14q9ozB1kY0V"
      },
      "source": [
        "X = data_frame.Population\n",
        "y = data_frame.Cirrhosis_death_rate\n",
        "\n",
        "X2 = sm.add_constant(X) #Adds a column of ones to an array.\n",
        "est = sm.OLS(y, X2)\n",
        "est2 = est.fit()\n",
        "print(est2.summary())"
      ],
      "execution_count": null,
      "outputs": []
    },
    {
      "cell_type": "code",
      "metadata": {
        "id": "SEnrol9SkY0V"
      },
      "source": [
        "# H0: Population is linear correlated (coef = 0) regression of the Cirrhosis_death_rate target\n",
        "# H1: Population is significant (p_value =  0.05) for linear regression of the Cirrhosis_death_rate target\n",
        "\n",
        "# Since both:\n",
        "# 1. The Prob (F-statistic) is close to zero  2.13e-09)\n",
        "# 2. t-test: the value is close to zero (0.000), \n",
        "# we can't reject the null hypothesis (H0)"
      ],
      "execution_count": null,
      "outputs": []
    },
    {
      "cell_type": "code",
      "metadata": {
        "id": "h9MKhN8IkY0V"
      },
      "source": [
        "# 12.1: Use Population and Liquor_consumption for Cirrhosis_death_rate linear regression"
      ],
      "execution_count": null,
      "outputs": []
    },
    {
      "cell_type": "code",
      "metadata": {
        "id": "Ryls1E-UkY0W"
      },
      "source": [
        "X = data_frame[[\"Population\", \"Liquor_consumption\"]]\n",
        "\n",
        "X = sm.add_constant(X)\n",
        "est = sm.OLS(y, X)\n",
        "est2 = est.fit()\n",
        "print(est2.summary())"
      ],
      "execution_count": null,
      "outputs": []
    },
    {
      "cell_type": "code",
      "metadata": {
        "id": "_lafVzsOkY0W"
      },
      "source": [
        "# H0: Population and Liquor_consumption are not significant for linear regression of the Cirrhosis_death_rate target\n",
        "# H1: Population and Liquor_consumption is significant (p_value =  0.05) for linear regression of the Cirrhosis_death_rate target\n",
        "\n",
        "# Since the Prob (F-statistic) is close to zero  2.13e-09) we can't reject the null hypothesis (H0)\n",
        "# In addition, both features (Population and Liquor_consumption) are significant since the \n",
        "# t-test of both of them is below 0.05 \n",
        "\n",
        "# https://machinelearningmastery.com/feature-selection-for-regression-data/"
      ],
      "execution_count": null,
      "outputs": []
    },
    {
      "cell_type": "code",
      "metadata": {
        "id": "I8IWsh6nkY0W"
      },
      "source": [
        "# 12.1: Use all the features to perform linear regression for Cirrhosis_death_rate \n",
        "\n",
        "X = data_frame.loc[:, data_frame.columns != 'Cirrhosis_death_rate']\n",
        "y = data_frame.loc[:, 'Cirrhosis_death_rate']\n",
        "\n",
        "X = sm.add_constant(X)\n",
        "est = sm.OLS(y, X)\n",
        "est2 = est.fit()\n",
        "print(est2.summary())"
      ],
      "execution_count": null,
      "outputs": []
    },
    {
      "cell_type": "code",
      "metadata": {
        "id": "SJNyMJWAkY0X"
      },
      "source": [
        "# H0: None of the features are significant for linear regression of the Cirrhosis_death_rate target\n",
        "# H1: None of the features are significant for linear regression of the Cirrhosis_death_rate target\n",
        "\n",
        "# Since the Prob (F-statistic) is close to zero  2.13e-09) we can't reject the null hypothesis (H0)\n",
        "# But, we can see that when considering all features the Wine_consumption has the most significance (t_test of 0.000)\n",
        "# while the other features are not significant (with threshold of 0.05) by this order:\n",
        "# 1. Late_births (0.056)\n",
        "# 2. Population (0.689)     \n",
        "# 3. Liquor_consumption (0.720)\n",
        "\n",
        "# Also, we can see th adjusted R squared was decreased because of the negative impact of adding the features\n",
        "# from 0.814 to 0.795"
      ],
      "execution_count": null,
      "outputs": []
    },
    {
      "cell_type": "code",
      "metadata": {
        "id": "OhmzLuAqkY0X"
      },
      "source": [
        "est2.pvalues"
      ],
      "execution_count": null,
      "outputs": []
    },
    {
      "cell_type": "code",
      "metadata": {
        "id": "2cpEjZyBkY0X"
      },
      "source": [
        "plt.xticks(rotation=45)\n",
        "plt.axhline(y=0.05, color='r', linestyle='-')\n",
        "plt.scatter(X.columns, est2.pvalues)"
      ],
      "execution_count": null,
      "outputs": []
    }
  ]
}