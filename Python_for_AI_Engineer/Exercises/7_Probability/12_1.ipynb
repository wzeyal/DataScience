{
 "cells": [
  {
   "cell_type": "markdown",
   "metadata": {},
   "source": [
    "# Exercise 12.1"
   ]
  },
  {
   "cell_type": "markdown",
   "metadata": {},
   "source": [
    "## Imports"
   ]
  },
  {
   "cell_type": "code",
   "execution_count": null,
   "metadata": {},
   "outputs": [],
   "source": [
    "import pandas as pd\n",
    "import seaborn as sns\n",
    "import matplotlib.pyplot as plt\n",
    "import numpy as np \n",
    "\n",
    "import statsmodels.api   as sm\n",
    "import statsmodels.formula.api as smf\n",
    "\n",
    "from sklearn.linear_model import LinearRegression"
   ]
  },
  {
   "cell_type": "markdown",
   "metadata": {},
   "source": [
    "## Preform analysis of the Cirrhosis_death_rate data"
   ]
  },
  {
   "cell_type": "code",
   "execution_count": null,
   "metadata": {},
   "outputs": [],
   "source": [
    "data_frame = pd.read_csv('data\\Cirrhosis_death_rate.csv')"
   ]
  },
  {
   "cell_type": "code",
   "execution_count": null,
   "metadata": {},
   "outputs": [],
   "source": [
    "data_frame.info()"
   ]
  },
  {
   "cell_type": "code",
   "execution_count": null,
   "metadata": {},
   "outputs": [],
   "source": [
    "data_frame.head()"
   ]
  },
  {
   "cell_type": "code",
   "execution_count": null,
   "metadata": {},
   "outputs": [],
   "source": [
    "data_frame.describe()"
   ]
  },
  {
   "cell_type": "code",
   "execution_count": null,
   "metadata": {},
   "outputs": [],
   "source": [
    "from matplotlib.pyplot import figure\n",
    "\n",
    "figure(figsize=(15, 6))\n",
    "data_frame.boxplot()"
   ]
  },
  {
   "cell_type": "code",
   "execution_count": null,
   "metadata": {},
   "outputs": [],
   "source": [
    "sns.pairplot(data_frame)"
   ]
  },
  {
   "cell_type": "markdown",
   "metadata": {},
   "source": [
    "### *from the last row in pairplot it seems that all features have some linear correlation to the Cirrhosis_death_rate*"
   ]
  },
  {
   "cell_type": "markdown",
   "metadata": {},
   "source": [
    "## Use Population for Cirrhosis_death_rate linear regression"
   ]
  },
  {
   "cell_type": "code",
   "execution_count": null,
   "metadata": {},
   "outputs": [],
   "source": [
    "# gather regression statistics for comparison\n",
    "\n",
    "dictLogLikelihood = {}\n",
    "dictAdjR_squared = {}"
   ]
  },
  {
   "cell_type": "markdown",
   "metadata": {},
   "source": [
    "### Using sklearn LinearRegression"
   ]
  },
  {
   "cell_type": "code",
   "execution_count": null,
   "metadata": {},
   "outputs": [],
   "source": [
    "X = data_frame.Population.values.reshape(-1,1)\n",
    "y = data_frame.Cirrhosis_death_rate.values.reshape(-1,1)\n",
    "\n",
    "reg = LinearRegression()\n",
    "reg.fit(X, y)\n",
    "\n",
    "print(reg.coef_[0][0])\n",
    "print(reg.intercept_[0])\n",
    "\n",
    "print(\"The linear model is: Y = {:.5} + {:.5}X\".format(reg.intercept_[0], reg.coef_[0][0]))"
   ]
  },
  {
   "cell_type": "code",
   "execution_count": null,
   "metadata": {},
   "outputs": [],
   "source": [
    "predictions = reg.predict(X)\n",
    "\n",
    "plt.figure(figsize=(8, 4))\n",
    "plt.scatter(\n",
    "    data_frame.Population,\n",
    "    data_frame.Cirrhosis_death_rate,\n",
    "    c='black'\n",
    ")\n",
    "plt.plot(\n",
    "    data_frame.Population,\n",
    "    predictions,\n",
    "    c='blue',\n",
    "    linewidth=2\n",
    ")\n",
    "plt.xlabel(\"Population\")\n",
    "plt.ylabel(\"Cirrhosis_death_rate\")\n",
    "plt.show()"
   ]
  },
  {
   "cell_type": "markdown",
   "metadata": {},
   "source": [
    "### using seaborn regression"
   ]
  },
  {
   "cell_type": "code",
   "execution_count": null,
   "metadata": {},
   "outputs": [],
   "source": [
    "sns.regplot(x=\"Population\", y=\"Cirrhosis_death_rate\", data=data_frame);"
   ]
  },
  {
   "cell_type": "code",
   "execution_count": null,
   "metadata": {},
   "outputs": [],
   "source": [
    "oModel = smf.ols(\n",
    "    formula='Cirrhosis_death_rate ~ Population', \n",
    "    data=data_frame).fit()\n",
    "print(oModel.summary())"
   ]
  },
  {
   "cell_type": "code",
   "execution_count": null,
   "metadata": {},
   "outputs": [],
   "source": [
    "dictLogLikelihood['Population'] = oModel.llf\n",
    "dictAdjR_squared['Population']  = oModel.rsquared_adj"
   ]
  },
  {
   "cell_type": "code",
   "execution_count": null,
   "metadata": {},
   "outputs": [],
   "source": [
    "fig = sm.graphics.plot_fit(oModel, \"Population\")\n",
    "fig.tight_layout(pad=1.0)"
   ]
  },
  {
   "cell_type": "code",
   "execution_count": null,
   "metadata": {},
   "outputs": [],
   "source": [
    "# Video 2 from https://icedrive.net/1/d3S4bGEtBN\n",
    "\n",
    "# 1. Coef: coefficients of the linear regrssion (the same as in sklearn linear regression)\n",
    "# 2. std err: those are the std of the coef, \n",
    "# 3. t: using the std err from section 2 we build the student t test for the H1 (big t -> small p_value)\n",
    "# 4. p>|t: p_value, lower the p_value means the population is more significant in predicating the Cirrhosis_death_rate target\n",
    "# 5. CI: the probability that the value is outside the range is 5% (e.g. Population [0.816, 1.415])\n",
    "# 6. Log-Likelihood: compare between diffrent model regressions\n",
    "# 7. Prob (F-statistic): the lower the value means that the all set of the features predicts well thr Cirrhosis_death_rate target\n",
    "\n",
    "# since both 4 and 7 are extremely low we can reject H0"
   ]
  },
  {
   "cell_type": "markdown",
   "metadata": {},
   "source": [
    "### Assumptions:"
   ]
  },
  {
   "cell_type": "markdown",
   "metadata": {},
   "source": [
    "### *We can predict the **Cirrhosis_death_rate** using the population*\n",
    "\n",
    "### *Or in hypothesis style:*\n",
    "### *H0: **Population** is linear correlated regression of the **Cirrhosis_death_rate** target (wi = 0)*\n",
    "### *H1: **Population** is significant predicting of the **Cirrhosis_death_rate** target (wi != 0)*"
   ]
  },
  {
   "cell_type": "markdown",
   "metadata": {},
   "source": [
    "### Conclusions"
   ]
  },
  {
   "cell_type": "markdown",
   "metadata": {},
   "source": [
    "### *There is a linear relation between **Population** and **Cirrhosis_death_rate** target*\n",
    "### *We can reject the H0 hypothesis (p_value 2.13e-09)*"
   ]
  },
  {
   "cell_type": "markdown",
   "metadata": {},
   "source": [
    "## Use Population and Liquor_consumption for Cirrhosis_death_rate linear regression"
   ]
  },
  {
   "cell_type": "code",
   "execution_count": null,
   "metadata": {},
   "outputs": [],
   "source": [
    "oModel = smf.ols(\n",
    "    formula='Cirrhosis_death_rate ~ Population + Liquor_consumption', \n",
    "    data=data_frame).fit()\n",
    "\n",
    "print(oModel.summary())"
   ]
  },
  {
   "cell_type": "code",
   "execution_count": null,
   "metadata": {},
   "outputs": [],
   "source": [
    "dictLogLikelihood['Population+Liquor_consumption'] = oModel.llf\n",
    "dictAdjR_squared['Population+Liquor_consumption']  = oModel.rsquared_adj"
   ]
  },
  {
   "cell_type": "code",
   "execution_count": null,
   "metadata": {},
   "outputs": [],
   "source": [
    "# plot the regression in 3d visualization\n",
    "\n",
    "# https://medium.com/@dhwajraj/python-regression-analysis-part-4-multiple-linear-regression-ed09a0c31c74\n",
    "\n",
    "x_surf, y_surf = np.meshgrid(\n",
    "    np.linspace(\n",
    "        data_frame.Population.min(),\n",
    "        data_frame.Population.max(), 20),\n",
    "    np.linspace(\n",
    "        data_frame.Liquor_consumption.min(),\n",
    "        data_frame.Liquor_consumption.max(), 20),\n",
    ")    \n",
    "onlyX = pd.DataFrame({'Population': x_surf.ravel(), 'Liquor_consumption': y_surf.ravel()})\n",
    "fittedY=oModel.predict(exog=onlyX)\n",
    "\n",
    "fig = plt.figure(figsize=(10,10))\n",
    "ax = fig.add_subplot(111, projection='3d')\n",
    "ax.scatter(\n",
    "    data_frame['Population'],\n",
    "    data_frame['Liquor_consumption'],\n",
    "    data_frame['Cirrhosis_death_rate'],\n",
    "    c='blue',\n",
    "    marker='o',\n",
    "    alpha=0.5)\n",
    "ax.plot_surface(x_surf,y_surf,fittedY.values.reshape(x_surf.shape), alpha=0.2, cmap=plt.cm.jet, edgecolor='none')\n",
    "ax.set_xlabel('Population')\n",
    "ax.set_ylabel('Liquor_consumption')\n",
    "ax.set_zlabel('Cirrhosis_death_rate')\n",
    "plt.show()\n"
   ]
  },
  {
   "cell_type": "markdown",
   "metadata": {},
   "source": [
    "### Assumptions:"
   ]
  },
  {
   "cell_type": "markdown",
   "metadata": {},
   "source": [
    "### *We can predict the **Cirrhosis_death_rate** using the population and Liquor_consumption*\n",
    "\n",
    "### *Or in hypothesis style:*\n",
    "### *H0: Population and Liquor_consumption are not significant for estimating the Cirrhosis_death_rate target (wi=0)\n",
    "### H1: Population, Liquor_consumption are significant for estimating the Cirrhosis_death_rate target (wi!=0)"
   ]
  },
  {
   "cell_type": "markdown",
   "metadata": {},
   "source": [
    "### Conclusions:"
   ]
  },
  {
   "cell_type": "markdown",
   "metadata": {},
   "source": [
    "### *There is a linear relation between **Population**,**Liquor_consumption** and **Cirrhosis_death_rate** target*\n",
    "### *both features (Population and Liquor_consumption) are significant since the p_value of both of them is small*\n",
    "### *We can reject the H0 hypothesis (p_value 1.91e-12)*"
   ]
  },
  {
   "cell_type": "code",
   "execution_count": null,
   "metadata": {},
   "outputs": [],
   "source": [
    "# Since the Prob (F-statistic) is close to zero  2.13e-09 we can reject the null hypothesis (H0)\n",
    "# In addition, 5 \n",
    "\n",
    "# https://machinelearningmastery.com/feature-selection-for-regression-data/"
   ]
  },
  {
   "cell_type": "code",
   "execution_count": null,
   "metadata": {},
   "outputs": [],
   "source": [
    "fig = sm.graphics.plot_partregress_grid(oModel)\n",
    "fig.tight_layout(pad=1.0)"
   ]
  },
  {
   "cell_type": "code",
   "execution_count": null,
   "metadata": {},
   "outputs": [],
   "source": [
    "# 12.1: Use all the features to perform linear regression for Cirrhosis_death_rate \n",
    "\n",
    "features_cols  = data_frame.columns[:-1]\n",
    "target_col = data_frame.columns[-1]\n",
    "\n",
    "formula = target_col + ' ~ ' + (' + ').join(features_cols)\n",
    "\n",
    "oModel = smf.ols(\n",
    "    formula=formula, \n",
    "    data=data_frame).fit()\n",
    "\n",
    "print(oModel.summary())"
   ]
  },
  {
   "cell_type": "code",
   "execution_count": null,
   "metadata": {},
   "outputs": [],
   "source": [
    "dictLogLikelihood['All'] = oModel.llf\n",
    "dictAdjR_squared['All']  = oModel.rsquared_adj"
   ]
  },
  {
   "cell_type": "code",
   "execution_count": null,
   "metadata": {},
   "outputs": [],
   "source": [
    "fig = sm.graphics.plot_partregress_grid(oModel)\n",
    "fig.tight_layout(pad=1.0)"
   ]
  },
  {
   "cell_type": "markdown",
   "metadata": {},
   "source": [
    "### Assumptions:"
   ]
  },
  {
   "cell_type": "markdown",
   "metadata": {},
   "source": [
    "### *We can predict the **Cirrhosis_death_rate** using all the features*\n",
    "\n",
    "### *Or in hypothesis style:*\n",
    "### *H0: None of the features are significant for estimating the of the Cirrhosis_death_rate target (wi=0)\n",
    "### *H1: At least one of the features is significant for estimating the Cirrhosis_death_rate target (wi!=0)"
   ]
  },
  {
   "cell_type": "markdown",
   "metadata": {},
   "source": [
    "### Conclusions:"
   ]
  },
  {
   "cell_type": "markdown",
   "metadata": {},
   "source": [
    "### *Since the Prob (F-statistic) is close to zero  2.13e-09) we can reject the null hypothesis (H0)*\n",
    "\n",
    "\n",
    "### Also, we can see that the adjusted R squared kept increasing as we added more features."
   ]
  },
  {
   "cell_type": "markdown",
   "metadata": {},
   "source": [
    "### *The other features are significant by this order:*\n",
    "### *1. Wine_consumption  (0.000)*\n",
    "### *2. Late_births (0.056)*\n",
    "### *3. Population (0.689)*     \n",
    "### *4. Liquor_consumption (0.720)* "
   ]
  },
  {
   "cell_type": "code",
   "execution_count": null,
   "metadata": {},
   "outputs": [],
   "source": [
    "oModel.pvalues.sort_values()"
   ]
  },
  {
   "cell_type": "code",
   "execution_count": null,
   "metadata": {},
   "outputs": [],
   "source": [
    "# Comparing the p_values in the all features multiple regression\n",
    "plt.xticks(rotation=45)\n",
    "plt.axhline(y=0.05, color='r', linestyle='-')\n",
    "plt.scatter(features_cols, oModel.pvalues[1:])"
   ]
  },
  {
   "cell_type": "markdown",
   "metadata": {},
   "source": [
    "## Comparing the regression models"
   ]
  },
  {
   "cell_type": "code",
   "execution_count": null,
   "metadata": {},
   "outputs": [],
   "source": [
    "fig, (ax1, ax2) = plt.subplots(1, 2, figsize=(15,5))\n",
    "\n",
    "ax1.set_title('Log-Likelihood')\n",
    "ax1.plot(*zip(*dictLogLikelihood.items()), '-o')\n",
    "\n",
    "ax2.set_title('AdjR-squared')\n",
    "ax2.plot(*zip(*dictAdjR_squared.items()), '-o')\n",
    "plt.show()"
   ]
  },
  {
   "cell_type": "markdown",
   "metadata": {},
   "source": [
    "### *we can see the regression is getting better as we add more features*"
   ]
  }
 ],
 "metadata": {
  "interpreter": {
   "hash": "15a341826d82edf9fa8097179f50b393f31375491a317a24c4037eb2d061365c"
  },
  "kernelspec": {
   "display_name": "Python 3.9.6 64-bit ('.venv': venv)",
   "name": "python3"
  },
  "language_info": {
   "codemirror_mode": {
    "name": "ipython",
    "version": 3
   },
   "file_extension": ".py",
   "mimetype": "text/x-python",
   "name": "python",
   "nbconvert_exporter": "python",
   "pygments_lexer": "ipython3",
   "version": "3.9.6"
  },
  "orig_nbformat": 4
 },
 "nbformat": 4,
 "nbformat_minor": 2
}
