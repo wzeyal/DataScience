{
 "cells": [
  {
   "cell_type": "code",
   "execution_count": 31,
   "source": [
    "# Statistics and probability concluding exercise"
   ],
   "outputs": [],
   "metadata": {}
  },
  {
   "cell_type": "code",
   "execution_count": 32,
   "source": [
    "# Exercise 5.2"
   ],
   "outputs": [],
   "metadata": {}
  },
  {
   "cell_type": "code",
   "execution_count": 33,
   "source": [
    "# Select distribution\r\n",
    "\r\n",
    "# https://www.datacamp.com/community/tutorials/probability-distributions-python\r\n",
    "\r\n",
    "# random numbers from uniform distribution\r\n",
    "\r\n",
    "# import uniform distribution\r\n",
    "import matplotlib.pyplot as plt\r\n",
    "import numpy as np\r\n",
    "import pandas as pd\r\n",
    "\r\n",
    "from scipy.stats import uniform\r\n",
    "n = 10000\r\n",
    "start = -10\r\n",
    "width = 20\r\n",
    "data_uniform = uniform.rvs(size=n, loc = start, scale=width)\r\n",
    "\r\n",
    "mu = start + width / 2\r\n",
    "sigma = np.sqrt(width / 12)\r\n"
   ],
   "outputs": [],
   "metadata": {}
  },
  {
   "cell_type": "code",
   "execution_count": 34,
   "source": [
    "# https://numpy.org/doc/stable/reference/random/generated/numpy.random.choice.html\r\n",
    "\r\n",
    "random_100 = np.random.choice(data_uniform, 100)\r\n",
    "\r\n",
    "print(np.mean(random_100))\r\n"
   ],
   "outputs": [
    {
     "output_type": "stream",
     "name": "stdout",
     "text": [
      "-0.3315510959354995\n"
     ]
    }
   ],
   "metadata": {}
  },
  {
   "cell_type": "code",
   "execution_count": 35,
   "source": [
    "x_bar = np.zeros(1000)\r\n",
    "\r\n",
    "for i in range(len(x_bar)):\r\n",
    "    random_100 = np.random.choice(data_uniform, 100)\r\n",
    "    x_bar[i] = np.mean(random_100)\r\n",
    "\r\n",
    "x_tilda = (x_bar - mu) / (sigma / np.sqrt(n))"
   ],
   "outputs": [],
   "metadata": {}
  },
  {
   "cell_type": "code",
   "execution_count": 36,
   "source": [
    "# https://numpy.org/doc/stable/reference/generated/numpy.histogram.html\r\n",
    "\r\n",
    "\r\n",
    "plt.hist(x_bar, bins='auto')\r\n",
    "plt.show()"
   ],
   "outputs": [
    {
     "output_type": "display_data",
     "data": {
      "image/png": "[encoded data removed]",
      "text/plain": [
       "<Figure size 432x288 with 1 Axes>"
      ]
     },
     "metadata": {
      "needs_background": "light"
     }
    }
   ],
   "metadata": {}
  },
  {
   "cell_type": "code",
   "execution_count": 37,
   "source": [
    "plt.hist(x_tilda, bins='auto')\r\n",
    "plt.show()"
   ],
   "outputs": [
    {
     "output_type": "display_data",
     "data": {
      "image/png": "[encoded data removed]",
      "text/plain": [
       "<Figure size 432x288 with 1 Axes>"
      ]
     },
     "metadata": {
      "needs_background": "light"
     }
    }
   ],
   "metadata": {}
  },
  {
   "cell_type": "code",
   "execution_count": 38,
   "source": [
    "# https://ipywidgets.readthedocs.io/en/latest/examples/Using%20Interact.html\r\n",
    "\r\n",
    "from ipywidgets import interact, interactive, fixed, interact_manual\r\n",
    "import ipywidgets as widgets\r\n"
   ],
   "outputs": [],
   "metadata": {}
  },
  {
   "cell_type": "code",
   "execution_count": 39,
   "source": [
    "import seaborn as sns\r\n",
    "import scipy\r\n",
    "import statsmodels.api as sm\r\n",
    "\r\n",
    "def plot_hist(sample_size=100):\r\n",
    "    x_bar = np.zeros(sample_size)\r\n",
    "\r\n",
    "    for i in range(len(x_bar)):\r\n",
    "        random_sample = np.random.choice(data_uniform, sample_size)\r\n",
    "        x_bar[i] = np.mean(random_sample)\r\n",
    "\r\n",
    "    x_tilda = (x_bar - mu) / (sigma / np.sqrt(n))\r\n",
    "\r\n",
    "    sm.qqplot(x_tilda,line='r') \r\n",
    "    plt.show()\r\n",
    "    "
   ],
   "outputs": [],
   "metadata": {}
  },
  {
   "cell_type": "code",
   "execution_count": 40,
   "source": [
    "interact(plot_hist, sample_size=widgets.IntSlider(min=1, max=1000, step=1, value=10))"
   ],
   "outputs": [
    {
     "output_type": "display_data",
     "data": {
      "application/vnd.jupyter.widget-view+json": {
       "version_major": 2,
       "version_minor": 0,
       "model_id": "7dc802d2cff44e588e23426a03317c52"
      },
      "text/plain": [
       "interactive(children=(IntSlider(value=10, description='sample_size', max=1000, min=1), Output()), _dom_classes…"
      ]
     },
     "metadata": {}
    },
    {
     "output_type": "execute_result",
     "data": {
      "text/plain": [
       "<function __main__.plot_hist(sample_size=100)>"
      ]
     },
     "metadata": {},
     "execution_count": 40
    }
   ],
   "metadata": {}
  },
  {
   "cell_type": "code",
   "execution_count": 41,
   "source": [
    "# according the CLT,\r\n",
    "# The sample averages will converge to the N(0,1) as we take more samples,\r\n",
    "# And indeed for n=1000 the distribution of x tilda (normalized x) is closer to the N(0,1)."
   ],
   "outputs": [],
   "metadata": {}
  },
  {
   "cell_type": "code",
   "execution_count": 42,
   "source": [
    "# Q 6.2\r\n",
    "\r\n",
    "import numpy as np\r\n",
    "import scipy.stats\r\n",
    "\r\n",
    "# wait_time ~ U[0, theta]\r\n",
    "\r\n",
    "wait_time = np.array([2, 7, 5, 11, 1])\r\n",
    "\r\n",
    "# 6.2.1: Find the ML for theta \r\n",
    "# theta = theta(ML) = Xn = max(wait_time) = 11\r\n",
    "\r\n",
    "# 6.2.2: Find the quantile function Qp\r\n",
    "# Since it is uniform distribution, the Q is simply Qp = theta*p = 11p\r\n",
    "\r\n",
    "# 6.2.3: Construct a confidence level of 0.95:\r\n",
    "\r\n",
    "# theta = 11\r\n",
    "# Find p1, p2 such that 0 <= p1 <= p2 <= 1, p2-p2 = 1 - alpha = 0.95\r\n",
    "# p1 = 0.025\r\n",
    "# p2 = 0.975\r\n",
    "\r\n",
    "# 1. Find ML for theta: theta = 11 (from section 6.2.1)\r\n",
    "# 2. Qp = 11*p (from section 6.2.2)\r\n",
    "# 3. Qp1 = 11*0.025 = 0.275\r\n",
    "# 4. Qp2 = 11*0.975 = 10.725\r\n",
    "\r\n",
    "# Confidence Intrval = [0.275, 10.725]"
   ],
   "outputs": [],
   "metadata": {}
  },
  {
   "cell_type": "code",
   "execution_count": 43,
   "source": [
    " # 10.1\r\n",
    "\r\n",
    " # 10.1.1 Build confidence range for the mean diffenceses\r\n",
    "\r\n",
    "data_frame = pd.read_csv('Advertising.csv')"
   ],
   "outputs": [],
   "metadata": {}
  },
  {
   "cell_type": "code",
   "execution_count": 44,
   "source": [
    "data_frame.describe()"
   ],
   "outputs": [
    {
     "output_type": "execute_result",
     "data": {
      "text/html": [
       "<div>\n",
       "<style scoped>\n",
       "    .dataframe tbody tr th:only-of-type {\n",
       "        vertical-align: middle;\n",
       "    }\n",
       "\n",
       "    .dataframe tbody tr th {\n",
       "        vertical-align: top;\n",
       "    }\n",
       "\n",
       "    .dataframe thead th {\n",
       "        text-align: right;\n",
       "    }\n",
       "</style>\n",
       "<table border=\"1\" class=\"dataframe\">\n",
       "  <thead>\n",
       "    <tr style=\"text-align: right;\">\n",
       "      <th></th>\n",
       "      <th>Unnamed: 0</th>\n",
       "      <th>TV</th>\n",
       "      <th>radio</th>\n",
       "      <th>newspaper</th>\n",
       "      <th>sales</th>\n",
       "    </tr>\n",
       "  </thead>\n",
       "  <tbody>\n",
       "    <tr>\n",
       "      <th>count</th>\n",
       "      <td>200.000000</td>\n",
       "      <td>200.000000</td>\n",
       "      <td>200.000000</td>\n",
       "      <td>200.000000</td>\n",
       "      <td>200.000000</td>\n",
       "    </tr>\n",
       "    <tr>\n",
       "      <th>mean</th>\n",
       "      <td>100.500000</td>\n",
       "      <td>147.042500</td>\n",
       "      <td>23.264000</td>\n",
       "      <td>30.554000</td>\n",
       "      <td>14.022500</td>\n",
       "    </tr>\n",
       "    <tr>\n",
       "      <th>std</th>\n",
       "      <td>57.879185</td>\n",
       "      <td>85.854236</td>\n",
       "      <td>14.846809</td>\n",
       "      <td>21.778621</td>\n",
       "      <td>5.217457</td>\n",
       "    </tr>\n",
       "    <tr>\n",
       "      <th>min</th>\n",
       "      <td>1.000000</td>\n",
       "      <td>0.700000</td>\n",
       "      <td>0.000000</td>\n",
       "      <td>0.300000</td>\n",
       "      <td>1.600000</td>\n",
       "    </tr>\n",
       "    <tr>\n",
       "      <th>25%</th>\n",
       "      <td>50.750000</td>\n",
       "      <td>74.375000</td>\n",
       "      <td>9.975000</td>\n",
       "      <td>12.750000</td>\n",
       "      <td>10.375000</td>\n",
       "    </tr>\n",
       "    <tr>\n",
       "      <th>50%</th>\n",
       "      <td>100.500000</td>\n",
       "      <td>149.750000</td>\n",
       "      <td>22.900000</td>\n",
       "      <td>25.750000</td>\n",
       "      <td>12.900000</td>\n",
       "    </tr>\n",
       "    <tr>\n",
       "      <th>75%</th>\n",
       "      <td>150.250000</td>\n",
       "      <td>218.825000</td>\n",
       "      <td>36.525000</td>\n",
       "      <td>45.100000</td>\n",
       "      <td>17.400000</td>\n",
       "    </tr>\n",
       "    <tr>\n",
       "      <th>max</th>\n",
       "      <td>200.000000</td>\n",
       "      <td>296.400000</td>\n",
       "      <td>49.600000</td>\n",
       "      <td>114.000000</td>\n",
       "      <td>27.000000</td>\n",
       "    </tr>\n",
       "  </tbody>\n",
       "</table>\n",
       "</div>"
      ],
      "text/plain": [
       "       Unnamed: 0          TV       radio   newspaper       sales\n",
       "count  200.000000  200.000000  200.000000  200.000000  200.000000\n",
       "mean   100.500000  147.042500   23.264000   30.554000   14.022500\n",
       "std     57.879185   85.854236   14.846809   21.778621    5.217457\n",
       "min      1.000000    0.700000    0.000000    0.300000    1.600000\n",
       "25%     50.750000   74.375000    9.975000   12.750000   10.375000\n",
       "50%    100.500000  149.750000   22.900000   25.750000   12.900000\n",
       "75%    150.250000  218.825000   36.525000   45.100000   17.400000\n",
       "max    200.000000  296.400000   49.600000  114.000000   27.000000"
      ]
     },
     "metadata": {},
     "execution_count": 44
    }
   ],
   "metadata": {}
  },
  {
   "cell_type": "code",
   "execution_count": 45,
   "source": [
    "mu_0 = 0\r\n",
    "n = len(data_frame.newspaper)\r\n",
    "d = data_frame.newspaper - data_frame.radio\r\n",
    "d_bar = np.mean(d)\r\n",
    "print(d_bar)"
   ],
   "outputs": [
    {
     "output_type": "stream",
     "name": "stdout",
     "text": [
      "7.29\n"
     ]
    }
   ],
   "metadata": {}
  },
  {
   "cell_type": "code",
   "execution_count": 46,
   "source": [
    "# since we assume it is normal distribution, we can estimate the variance\r\n",
    "\r\n",
    "s_d = np.sqrt((np.sum((d - d_bar) ** 2)) / (n - 1))\r\n",
    "s_d"
   ],
   "outputs": [
    {
     "output_type": "execute_result",
     "data": {
      "text/plain": [
       "21.58105906930343"
      ]
     },
     "metadata": {},
     "execution_count": 46
    }
   ],
   "metadata": {}
  },
  {
   "cell_type": "code",
   "execution_count": 47,
   "source": [
    "from scipy import stats\r\n",
    "t = stats.t.ppf(1-0.025, n - 1)\r\n",
    "wing = t * s_d / np.sqrt(n)\r\n",
    "print(wing)"
   ],
   "outputs": [
    {
     "output_type": "stream",
     "name": "stdout",
     "text": [
      "3.0092280116543226\n"
     ]
    }
   ],
   "metadata": {}
  },
  {
   "cell_type": "code",
   "execution_count": 48,
   "source": [
    "# The confidence_range is\r\n",
    "confidence_range = [d_bar - wing, d_bar + wing]\r\n",
    "print(confidence_range)"
   ],
   "outputs": [
    {
     "output_type": "stream",
     "name": "stdout",
     "text": [
      "[4.280771988345677, 10.299228011654323]\n"
     ]
    }
   ],
   "metadata": {}
  },
  {
   "cell_type": "code",
   "execution_count": 49,
   "source": [
    "# 10.1.2: Make the coresponding hypothesis\r\n",
    "\r\n",
    "# H0: There is no difference in profit from newaspaper and radio advertising\r\n",
    "# H1: The advertising in the newaspaper is more profitable"
   ],
   "outputs": [],
   "metadata": {}
  },
  {
   "cell_type": "code",
   "execution_count": 50,
   "source": [
    "T = (d_bar - mu_0) / (s_d / np.sqrt(n))\r\n",
    "T"
   ],
   "outputs": [
    {
     "output_type": "execute_result",
     "data": {
      "text/plain": [
       "4.777159840299083"
      ]
     },
     "metadata": {},
     "execution_count": 50
    }
   ],
   "metadata": {}
  },
  {
   "cell_type": "code",
   "execution_count": 51,
   "source": [
    "T > stats.t.ppf(1-0.025, n - 1)\r\n",
    "\r\n",
    "# Thus, we can reject the H0 hypothesis"
   ],
   "outputs": [
    {
     "output_type": "execute_result",
     "data": {
      "text/plain": [
       "True"
      ]
     },
     "metadata": {},
     "execution_count": 51
    }
   ],
   "metadata": {}
  },
  {
   "cell_type": "code",
   "execution_count": 52,
   "source": [
    "# 12.1 Preform analysis of the Cirrhosis_death_rate data\r\n",
    "\r\n",
    "data_frame = pd.read_csv('Cirrhosis_death_rate.csv')"
   ],
   "outputs": [],
   "metadata": {}
  },
  {
   "cell_type": "code",
   "execution_count": 53,
   "source": [
    "data_frame.head()"
   ],
   "outputs": [
    {
     "output_type": "execute_result",
     "data": {
      "text/html": [
       "<div>\n",
       "<style scoped>\n",
       "    .dataframe tbody tr th:only-of-type {\n",
       "        vertical-align: middle;\n",
       "    }\n",
       "\n",
       "    .dataframe tbody tr th {\n",
       "        vertical-align: top;\n",
       "    }\n",
       "\n",
       "    .dataframe thead th {\n",
       "        text-align: right;\n",
       "    }\n",
       "</style>\n",
       "<table border=\"1\" class=\"dataframe\">\n",
       "  <thead>\n",
       "    <tr style=\"text-align: right;\">\n",
       "      <th></th>\n",
       "      <th>Population</th>\n",
       "      <th>Late_births</th>\n",
       "      <th>Wine_consumption</th>\n",
       "      <th>Liquor_consumption</th>\n",
       "      <th>Cirrhosis_death_rate</th>\n",
       "    </tr>\n",
       "  </thead>\n",
       "  <tbody>\n",
       "    <tr>\n",
       "      <th>0</th>\n",
       "      <td>44</td>\n",
       "      <td>33.2</td>\n",
       "      <td>5</td>\n",
       "      <td>30</td>\n",
       "      <td>41.2</td>\n",
       "    </tr>\n",
       "    <tr>\n",
       "      <th>1</th>\n",
       "      <td>43</td>\n",
       "      <td>33.8</td>\n",
       "      <td>4</td>\n",
       "      <td>41</td>\n",
       "      <td>31.7</td>\n",
       "    </tr>\n",
       "    <tr>\n",
       "      <th>2</th>\n",
       "      <td>48</td>\n",
       "      <td>40.6</td>\n",
       "      <td>3</td>\n",
       "      <td>38</td>\n",
       "      <td>39.4</td>\n",
       "    </tr>\n",
       "    <tr>\n",
       "      <th>3</th>\n",
       "      <td>52</td>\n",
       "      <td>39.2</td>\n",
       "      <td>7</td>\n",
       "      <td>48</td>\n",
       "      <td>57.5</td>\n",
       "    </tr>\n",
       "    <tr>\n",
       "      <th>4</th>\n",
       "      <td>71</td>\n",
       "      <td>45.5</td>\n",
       "      <td>11</td>\n",
       "      <td>53</td>\n",
       "      <td>74.8</td>\n",
       "    </tr>\n",
       "  </tbody>\n",
       "</table>\n",
       "</div>"
      ],
      "text/plain": [
       "   Population  Late_births  Wine_consumption  Liquor_consumption  \\\n",
       "0          44         33.2                 5                  30   \n",
       "1          43         33.8                 4                  41   \n",
       "2          48         40.6                 3                  38   \n",
       "3          52         39.2                 7                  48   \n",
       "4          71         45.5                11                  53   \n",
       "\n",
       "   Cirrhosis_death_rate  \n",
       "0                  41.2  \n",
       "1                  31.7  \n",
       "2                  39.4  \n",
       "3                  57.5  \n",
       "4                  74.8  "
      ]
     },
     "metadata": {},
     "execution_count": 53
    }
   ],
   "metadata": {}
  },
  {
   "cell_type": "code",
   "execution_count": 54,
   "source": [
    "data_frame.describe()"
   ],
   "outputs": [
    {
     "output_type": "execute_result",
     "data": {
      "text/html": [
       "<div>\n",
       "<style scoped>\n",
       "    .dataframe tbody tr th:only-of-type {\n",
       "        vertical-align: middle;\n",
       "    }\n",
       "\n",
       "    .dataframe tbody tr th {\n",
       "        vertical-align: top;\n",
       "    }\n",
       "\n",
       "    .dataframe thead th {\n",
       "        text-align: right;\n",
       "    }\n",
       "</style>\n",
       "<table border=\"1\" class=\"dataframe\">\n",
       "  <thead>\n",
       "    <tr style=\"text-align: right;\">\n",
       "      <th></th>\n",
       "      <th>Population</th>\n",
       "      <th>Late_births</th>\n",
       "      <th>Wine_consumption</th>\n",
       "      <th>Liquor_consumption</th>\n",
       "      <th>Cirrhosis_death_rate</th>\n",
       "    </tr>\n",
       "  </thead>\n",
       "  <tbody>\n",
       "    <tr>\n",
       "      <th>count</th>\n",
       "      <td>46.000000</td>\n",
       "      <td>46.000000</td>\n",
       "      <td>46.000000</td>\n",
       "      <td>46.000000</td>\n",
       "      <td>46.000000</td>\n",
       "    </tr>\n",
       "    <tr>\n",
       "      <th>mean</th>\n",
       "      <td>56.260870</td>\n",
       "      <td>41.476087</td>\n",
       "      <td>11.586957</td>\n",
       "      <td>57.500000</td>\n",
       "      <td>63.493478</td>\n",
       "    </tr>\n",
       "    <tr>\n",
       "      <th>std</th>\n",
       "      <td>15.747218</td>\n",
       "      <td>7.044342</td>\n",
       "      <td>6.920424</td>\n",
       "      <td>22.140712</td>\n",
       "      <td>23.447979</td>\n",
       "    </tr>\n",
       "    <tr>\n",
       "      <th>min</th>\n",
       "      <td>27.000000</td>\n",
       "      <td>31.200000</td>\n",
       "      <td>2.000000</td>\n",
       "      <td>26.000000</td>\n",
       "      <td>28.000000</td>\n",
       "    </tr>\n",
       "    <tr>\n",
       "      <th>25%</th>\n",
       "      <td>44.250000</td>\n",
       "      <td>35.625000</td>\n",
       "      <td>6.250000</td>\n",
       "      <td>41.500000</td>\n",
       "      <td>48.900000</td>\n",
       "    </tr>\n",
       "    <tr>\n",
       "      <th>50%</th>\n",
       "      <td>55.000000</td>\n",
       "      <td>42.250000</td>\n",
       "      <td>10.000000</td>\n",
       "      <td>56.000000</td>\n",
       "      <td>57.650000</td>\n",
       "    </tr>\n",
       "    <tr>\n",
       "      <th>75%</th>\n",
       "      <td>65.000000</td>\n",
       "      <td>45.825000</td>\n",
       "      <td>15.750000</td>\n",
       "      <td>68.750000</td>\n",
       "      <td>75.700000</td>\n",
       "    </tr>\n",
       "    <tr>\n",
       "      <th>max</th>\n",
       "      <td>87.000000</td>\n",
       "      <td>56.100000</td>\n",
       "      <td>31.000000</td>\n",
       "      <td>149.000000</td>\n",
       "      <td>129.900000</td>\n",
       "    </tr>\n",
       "  </tbody>\n",
       "</table>\n",
       "</div>"
      ],
      "text/plain": [
       "       Population  Late_births  Wine_consumption  Liquor_consumption  \\\n",
       "count   46.000000    46.000000         46.000000           46.000000   \n",
       "mean    56.260870    41.476087         11.586957           57.500000   \n",
       "std     15.747218     7.044342          6.920424           22.140712   \n",
       "min     27.000000    31.200000          2.000000           26.000000   \n",
       "25%     44.250000    35.625000          6.250000           41.500000   \n",
       "50%     55.000000    42.250000         10.000000           56.000000   \n",
       "75%     65.000000    45.825000         15.750000           68.750000   \n",
       "max     87.000000    56.100000         31.000000          149.000000   \n",
       "\n",
       "       Cirrhosis_death_rate  \n",
       "count             46.000000  \n",
       "mean              63.493478  \n",
       "std               23.447979  \n",
       "min               28.000000  \n",
       "25%               48.900000  \n",
       "50%               57.650000  \n",
       "75%               75.700000  \n",
       "max              129.900000  "
      ]
     },
     "metadata": {},
     "execution_count": 54
    }
   ],
   "metadata": {}
  },
  {
   "cell_type": "code",
   "execution_count": 55,
   "source": [
    "sns.pairplot(data_frame)"
   ],
   "outputs": [
    {
     "output_type": "execute_result",
     "data": {
      "text/plain": [
       "<seaborn.axisgrid.PairGrid at 0x21980225a90>"
      ]
     },
     "metadata": {},
     "execution_count": 55
    },
    {
     "output_type": "display_data",
     "data": {
      "image/png": "[encoded data removed]",
      "text/plain": [
       "<Figure size 900x900 with 30 Axes>"
      ]
     },
     "metadata": {
      "needs_background": "light"
     }
    }
   ],
   "metadata": {}
  },
  {
   "cell_type": "code",
   "execution_count": 56,
   "source": [
    "# 12.1: Use Population for Cirrhosis_death_rate linear regression\r\n",
    "\r\n",
    "from sklearn.linear_model import LinearRegression\r\n",
    "\r\n",
    "X = data_frame.Population.values.reshape(-1,1)\r\n",
    "y = data_frame.Cirrhosis_death_rate.values.reshape(-1,1)\r\n",
    "\r\n",
    "reg = LinearRegression()\r\n",
    "reg.fit(X, y)\r\n",
    "\r\n",
    "print(reg.coef_[0][0])\r\n",
    "print(reg.intercept_[0])\r\n",
    "\r\n",
    "print(\"The linear model is: Y = {:.5} + {:.5}X\".format(reg.intercept_[0], reg.coef_[0][0]))"
   ],
   "outputs": [
    {
     "output_type": "stream",
     "name": "stdout",
     "text": [
      "1.1153888113958872\n",
      "0.7407338284226839\n",
      "The linear model is: Y = 0.74073 + 1.1154X\n"
     ]
    }
   ],
   "metadata": {}
  },
  {
   "cell_type": "code",
   "execution_count": 57,
   "source": [
    "predictions = reg.predict(X)\r\n",
    "\r\n",
    "plt.figure(figsize=(16, 8))\r\n",
    "plt.scatter(\r\n",
    "    data_frame.Population,\r\n",
    "    data_frame.Cirrhosis_death_rate,\r\n",
    "    c='black'\r\n",
    ")\r\n",
    "plt.plot(\r\n",
    "    data_frame.Population,\r\n",
    "    predictions,\r\n",
    "    c='blue',\r\n",
    "    linewidth=2\r\n",
    ")\r\n",
    "plt.xlabel(\"Population\")\r\n",
    "plt.ylabel(\"Cirrhosis_death_rate\")\r\n",
    "plt.show()"
   ],
   "outputs": [
    {
     "output_type": "display_data",
     "data": {
      "image/png": "[encoded data removed]",
      "text/plain": [
       "<Figure size 1152x576 with 1 Axes>"
      ]
     },
     "metadata": {
      "needs_background": "light"
     }
    }
   ],
   "metadata": {}
  },
  {
   "cell_type": "code",
   "execution_count": 58,
   "source": [
    "X = data_frame.Population\r\n",
    "y = data_frame.Cirrhosis_death_rate\r\n",
    "\r\n",
    "X2 = sm.add_constant(X) #Adds a column of ones to an array.\r\n",
    "est = sm.OLS(y, X2)\r\n",
    "est2 = est.fit()\r\n",
    "print(est2.summary())"
   ],
   "outputs": [
    {
     "output_type": "stream",
     "name": "stdout",
     "text": [
      "                             OLS Regression Results                             \n",
      "================================================================================\n",
      "Dep. Variable:     Cirrhosis_death_rate   R-squared:                       0.561\n",
      "Model:                              OLS   Adj. R-squared:                  0.551\n",
      "Method:                   Least Squares   F-statistic:                     56.25\n",
      "Date:                  Sat, 02 Oct 2021   Prob (F-statistic):           2.13e-09\n",
      "Time:                          17:00:05   Log-Likelihood:                -190.94\n",
      "No. Observations:                    46   AIC:                             385.9\n",
      "Df Residuals:                        44   BIC:                             389.5\n",
      "Df Model:                             1                                         \n",
      "Covariance Type:              nonrobust                                         \n",
      "==============================================================================\n",
      "                 coef    std err          t      P>|t|      [0.025      0.975]\n",
      "------------------------------------------------------------------------------\n",
      "const          0.7407      8.681      0.085      0.932     -16.756      18.237\n",
      "Population     1.1154      0.149      7.500      0.000       0.816       1.415\n",
      "==============================================================================\n",
      "Omnibus:                       19.664   Durbin-Watson:                   2.203\n",
      "Prob(Omnibus):                  0.000   Jarque-Bera (JB):               36.860\n",
      "Skew:                           1.165   Prob(JB):                     9.91e-09\n",
      "Kurtosis:                       6.715   Cond. No.                         219.\n",
      "==============================================================================\n",
      "\n",
      "Notes:\n",
      "[1] Standard Errors assume that the covariance matrix of the errors is correctly specified.\n"
     ]
    },
    {
     "output_type": "stream",
     "name": "stderr",
     "text": [
      "c:\\Courses\\Python_for_AI_Engineer\\Probability\\exercise\\.venv\\lib\\site-packages\\statsmodels\\tsa\\tsatools.py:142: FutureWarning: In a future version of pandas all arguments of concat except for the argument 'objs' will be keyword-only\n",
      "  x = pd.concat(x[::order], 1)\n"
     ]
    }
   ],
   "metadata": {}
  },
  {
   "cell_type": "code",
   "execution_count": 67,
   "source": [
    "# H0: Population is linear correlated (coef = 0) regression of the Cirrhosis_death_rate target\r\n",
    "# H1: Population is significant (p_value =  0.05) for linear regression of the Cirrhosis_death_rate target\r\n",
    "\r\n",
    "# Since both:\r\n",
    "# 1. The Prob (F-statistic) is close to zero  2.13e-09)\r\n",
    "# 2. t-test: the value is close to zero (0.000), \r\n",
    "# we can't reject the null hypothesis (H0)"
   ],
   "outputs": [],
   "metadata": {}
  },
  {
   "cell_type": "code",
   "execution_count": 60,
   "source": [
    "# 12.1: Use Population and Liquor_consumption for Cirrhosis_death_rate linear regression"
   ],
   "outputs": [],
   "metadata": {}
  },
  {
   "cell_type": "code",
   "execution_count": 61,
   "source": [
    "X = data_frame[[\"Population\", \"Liquor_consumption\"]]\r\n",
    "\r\n",
    "X = sm.add_constant(X)\r\n",
    "est = sm.OLS(y, X)\r\n",
    "est2 = est.fit()\r\n",
    "print(est2.summary())"
   ],
   "outputs": [
    {
     "output_type": "stream",
     "name": "stdout",
     "text": [
      "                             OLS Regression Results                             \n",
      "================================================================================\n",
      "Dep. Variable:     Cirrhosis_death_rate   R-squared:                       0.715\n",
      "Model:                              OLS   Adj. R-squared:                  0.702\n",
      "Method:                   Least Squares   F-statistic:                     53.92\n",
      "Date:                  Sat, 02 Oct 2021   Prob (F-statistic):           1.91e-12\n",
      "Time:                          17:00:06   Log-Likelihood:                -181.02\n",
      "No. Observations:                    46   AIC:                             368.0\n",
      "Df Residuals:                        43   BIC:                             373.5\n",
      "Df Model:                             2                                         \n",
      "Covariance Type:              nonrobust                                         \n",
      "======================================================================================\n",
      "                         coef    std err          t      P>|t|      [0.025      0.975]\n",
      "--------------------------------------------------------------------------------------\n",
      "const                 -9.7477      7.405     -1.316      0.195     -24.681       5.185\n",
      "Population             0.8290      0.135      6.139      0.000       0.557       1.101\n",
      "Liquor_consumption     0.4626      0.096      4.817      0.000       0.269       0.656\n",
      "==============================================================================\n",
      "Omnibus:                        2.442   Durbin-Watson:                   2.535\n",
      "Prob(Omnibus):                  0.295   Jarque-Bera (JB):                1.571\n",
      "Skew:                           0.423   Prob(JB):                        0.456\n",
      "Kurtosis:                       3.321   Cond. No.                         328.\n",
      "==============================================================================\n",
      "\n",
      "Notes:\n",
      "[1] Standard Errors assume that the covariance matrix of the errors is correctly specified.\n"
     ]
    },
    {
     "output_type": "stream",
     "name": "stderr",
     "text": [
      "c:\\Courses\\Python_for_AI_Engineer\\Probability\\exercise\\.venv\\lib\\site-packages\\statsmodels\\tsa\\tsatools.py:142: FutureWarning: In a future version of pandas all arguments of concat except for the argument 'objs' will be keyword-only\n",
      "  x = pd.concat(x[::order], 1)\n"
     ]
    }
   ],
   "metadata": {}
  },
  {
   "cell_type": "code",
   "execution_count": 62,
   "source": [
    "# H0: Population and Liquor_consumption are not significant for linear regression of the Cirrhosis_death_rate target\r\n",
    "# H1: Population and Liquor_consumption is significant (p_value =  0.05) for linear regression of the Cirrhosis_death_rate target\r\n",
    "\r\n",
    "# Since the Prob (F-statistic) is close to zero  2.13e-09) we can't reject the null hypothesis (H0)\r\n",
    "# In addition, both features (Population and Liquor_consumption) are significant since the \r\n",
    "# t-test of both of them is below 0.05 \r\n",
    "\r\n",
    "# https://machinelearningmastery.com/feature-selection-for-regression-data/"
   ],
   "outputs": [],
   "metadata": {}
  },
  {
   "cell_type": "code",
   "execution_count": 63,
   "source": [
    "# 12.1: Use all the features to perform linear regression for Cirrhosis_death_rate \r\n",
    "\r\n",
    "X = data_frame.loc[:, data_frame.columns != 'Cirrhosis_death_rate']\r\n",
    "y = data_frame.loc[:, 'Cirrhosis_death_rate']\r\n",
    "\r\n",
    "X = sm.add_constant(X)\r\n",
    "est = sm.OLS(y, X)\r\n",
    "est2 = est.fit()\r\n",
    "print(est2.summary())"
   ],
   "outputs": [
    {
     "output_type": "stream",
     "name": "stdout",
     "text": [
      "                             OLS Regression Results                             \n",
      "================================================================================\n",
      "Dep. Variable:     Cirrhosis_death_rate   R-squared:                       0.814\n",
      "Model:                              OLS   Adj. R-squared:                  0.795\n",
      "Method:                   Least Squares   F-statistic:                     44.75\n",
      "Date:                  Sat, 02 Oct 2021   Prob (F-statistic):           1.95e-14\n",
      "Time:                          17:00:06   Log-Likelihood:                -171.25\n",
      "No. Observations:                    46   AIC:                             352.5\n",
      "Df Residuals:                        41   BIC:                             361.6\n",
      "Df Model:                             4                                         \n",
      "Covariance Type:              nonrobust                                         \n",
      "======================================================================================\n",
      "                         coef    std err          t      P>|t|      [0.025      0.975]\n",
      "--------------------------------------------------------------------------------------\n",
      "const                -13.9631     11.400     -1.225      0.228     -36.987       9.060\n",
      "Population             0.0983      0.244      0.403      0.689      -0.395       0.591\n",
      "Late_births            1.1484      0.583      1.970      0.056      -0.029       2.326\n",
      "Wine_consumption       1.8579      0.401      4.634      0.000       1.048       2.668\n",
      "Liquor_consumption     0.0482      0.133      0.361      0.720      -0.221       0.317\n",
      "==============================================================================\n",
      "Omnibus:                        3.887   Durbin-Watson:                   2.549\n",
      "Prob(Omnibus):                  0.143   Jarque-Bera (JB):                1.988\n",
      "Skew:                          -0.211   Prob(JB):                        0.370\n",
      "Kurtosis:                       2.073   Cond. No.                         688.\n",
      "==============================================================================\n",
      "\n",
      "Notes:\n",
      "[1] Standard Errors assume that the covariance matrix of the errors is correctly specified.\n"
     ]
    },
    {
     "output_type": "stream",
     "name": "stderr",
     "text": [
      "c:\\Courses\\Python_for_AI_Engineer\\Probability\\exercise\\.venv\\lib\\site-packages\\statsmodels\\tsa\\tsatools.py:142: FutureWarning: In a future version of pandas all arguments of concat except for the argument 'objs' will be keyword-only\n",
      "  x = pd.concat(x[::order], 1)\n"
     ]
    }
   ],
   "metadata": {}
  },
  {
   "cell_type": "code",
   "execution_count": 64,
   "source": [
    "# H0: None of the features are significant for linear regression of the Cirrhosis_death_rate target\r\n",
    "# H1: None of the features are significant for linear regression of the Cirrhosis_death_rate target\r\n",
    "\r\n",
    "# Since the Prob (F-statistic) is close to zero  2.13e-09) we can't reject the null hypothesis (H0)\r\n",
    "# But, we can see that when considering all features the Wine_consumption has the most significance (t_test of 0.000)\r\n",
    "# while the other features are not significant (with threshold of 0.05) by this order:\r\n",
    "# 1. Late_births (0.056)\r\n",
    "# 2. Population (0.689)     \r\n",
    "# 3. Liquor_consumption (0.720)\r\n",
    "\r\n",
    "# Also, we can see th adjusted R squared was decreased because of the negative impact of adding the features\r\n",
    "# from 0.814 to 0.795"
   ],
   "outputs": [],
   "metadata": {}
  },
  {
   "cell_type": "code",
   "execution_count": 65,
   "source": [
    "est2.pvalues"
   ],
   "outputs": [
    {
     "output_type": "execute_result",
     "data": {
      "text/plain": [
       "const                 0.227643\n",
       "Population            0.689259\n",
       "Late_births           0.055644\n",
       "Wine_consumption      0.000036\n",
       "Liquor_consumption    0.719793\n",
       "dtype: float64"
      ]
     },
     "metadata": {},
     "execution_count": 65
    }
   ],
   "metadata": {}
  },
  {
   "cell_type": "code",
   "execution_count": 66,
   "source": [
    "plt.xticks(rotation=45)\r\n",
    "plt.axhline(y=0.05, color='r', linestyle='-')\r\n",
    "plt.scatter(X.columns, est2.pvalues)"
   ],
   "outputs": [
    {
     "output_type": "execute_result",
     "data": {
      "text/plain": [
       "<matplotlib.collections.PathCollection at 0x219836b8b50>"
      ]
     },
     "metadata": {},
     "execution_count": 66
    },
    {
     "output_type": "display_data",
     "data": {
      "image/png": "[encoded data removed]",
      "text/plain": [
       "<Figure size 432x288 with 1 Axes>"
      ]
     },
     "metadata": {
      "needs_background": "light"
     }
    }
   ],
   "metadata": {}
  }
 ],
 "metadata": {
  "orig_nbformat": 4,
  "language_info": {
   "name": "python",
   "version": "3.9.6",
   "mimetype": "text/x-python",
   "codemirror_mode": {
    "name": "ipython",
    "version": 3
   },
   "pygments_lexer": "ipython3",
   "nbconvert_exporter": "python",
   "file_extension": ".py"
  },
  "kernelspec": {
   "name": "python3",
   "display_name": "Python 3.9.6 64-bit ('.venv': venv)"
  },
  "interpreter": {
   "hash": "1238cea64977e04b1c07caf2b8804f0d4759ebaf8b269537aa7a505716b480d0"
  }
 },
 "nbformat": 4,
 "nbformat_minor": 2
}