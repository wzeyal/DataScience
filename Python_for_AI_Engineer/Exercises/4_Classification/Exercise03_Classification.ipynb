{
 "cells": [
  {
   "cell_type": "markdown",
   "metadata": {},
   "source": [
    "![Fixel Algorithms](https://fixelalgorithms.co/images/CCExt.png)"
   ]
  },
  {
   "cell_type": "markdown",
   "metadata": {},
   "source": [
    "# <center> Machine Learning Methods </center>\n",
    "## <center> Exercise 03 - Hearth Disease Classification </center>"
   ]
  },
  {
   "cell_type": "markdown",
   "metadata": {},
   "source": [
    "[![Open In Colab](https://colab.research.google.com/assets/colab-badge.svg)](https://colab.research.google.com/github/FixelAlgorithmsTeam/FixelCourses/blob/master/MachineLearningMethod/Exercises/Exercise03_Classification.ipynb)"
   ]
  },
  {
   "cell_type": "code",
   "execution_count": 1,
   "metadata": {},
   "outputs": [
    {
     "output_type": "display_data",
     "data": {
      "text/plain": "<IPython.core.display.HTML object>",
      "text/html": "<style>.container { width:80% !important; }</style>"
     },
     "metadata": {}
    }
   ],
   "source": [
    "from IPython.core.display import display, HTML\n",
    "display(HTML(\"<style>.container { width:80% !important; }</style>\"))"
   ]
  },
  {
   "cell_type": "code",
   "execution_count": 2,
   "metadata": {},
   "outputs": [],
   "source": [
    "import numpy             as np\n",
    "import pandas            as pd\n",
    "import seaborn           as sns\n",
    "import matplotlib.pyplot as plt\n",
    "import matplotlib\n",
    "\n",
    "matplotlib.rc('font', **{'size' : 16})\n",
    "# np.random.seed(1)"
   ]
  },
  {
   "cell_type": "markdown",
   "metadata": {},
   "source": [
    "### Load the dataset:\n",
    "https://www.kaggle.com/cherngs/heart-disease-cleveland-uci?select=heart_cleveland_upload.csv"
   ]
  },
  {
   "cell_type": "code",
   "execution_count": 3,
   "metadata": {},
   "outputs": [
    {
     "output_type": "execute_result",
     "data": {
      "text/plain": [
       "     age  sex  cp  trestbps  chol  fbs  restecg  thalach  exang  oldpeak  \\\n",
       "0     69    1   0       160   234    1        2      131      0      0.1   \n",
       "1     69    0   0       140   239    0        0      151      0      1.8   \n",
       "2     66    0   0       150   226    0        0      114      0      2.6   \n",
       "3     65    1   0       138   282    1        2      174      0      1.4   \n",
       "4     64    1   0       110   211    0        2      144      1      1.8   \n",
       "..   ...  ...  ..       ...   ...  ...      ...      ...    ...      ...   \n",
       "292   40    1   3       152   223    0        0      181      0      0.0   \n",
       "293   39    1   3       118   219    0        0      140      0      1.2   \n",
       "294   35    1   3       120   198    0        0      130      1      1.6   \n",
       "295   35    0   3       138   183    0        0      182      0      1.4   \n",
       "296   35    1   3       126   282    0        2      156      1      0.0   \n",
       "\n",
       "     slope  ca  thal  condition  \n",
       "0        1   1     0          0  \n",
       "1        0   2     0          0  \n",
       "2        2   0     0          0  \n",
       "3        1   1     0          1  \n",
       "4        1   0     0          0  \n",
       "..     ...  ..   ...        ...  \n",
       "292      0   0     2          1  \n",
       "293      1   0     2          1  \n",
       "294      1   0     2          1  \n",
       "295      0   0     0          0  \n",
       "296      0   0     2          1  \n",
       "\n",
       "[297 rows x 14 columns]"
      ],
      "text/html": "<div>\n<style scoped>\n    .dataframe tbody tr th:only-of-type {\n        vertical-align: middle;\n    }\n\n    .dataframe tbody tr th {\n        vertical-align: top;\n    }\n\n    .dataframe thead th {\n        text-align: right;\n    }\n</style>\n<table border=\"1\" class=\"dataframe\">\n  <thead>\n    <tr style=\"text-align: right;\">\n      <th></th>\n      <th>age</th>\n      <th>sex</th>\n      <th>cp</th>\n      <th>trestbps</th>\n      <th>chol</th>\n      <th>fbs</th>\n      <th>restecg</th>\n      <th>thalach</th>\n      <th>exang</th>\n      <th>oldpeak</th>\n      <th>slope</th>\n      <th>ca</th>\n      <th>thal</th>\n      <th>condition</th>\n    </tr>\n  </thead>\n  <tbody>\n    <tr>\n      <th>0</th>\n      <td>69</td>\n      <td>1</td>\n      <td>0</td>\n      <td>160</td>\n      <td>234</td>\n      <td>1</td>\n      <td>2</td>\n      <td>131</td>\n      <td>0</td>\n      <td>0.1</td>\n      <td>1</td>\n      <td>1</td>\n      <td>0</td>\n      <td>0</td>\n    </tr>\n    <tr>\n      <th>1</th>\n      <td>69</td>\n      <td>0</td>\n      <td>0</td>\n      <td>140</td>\n      <td>239</td>\n      <td>0</td>\n      <td>0</td>\n      <td>151</td>\n      <td>0</td>\n      <td>1.8</td>\n      <td>0</td>\n      <td>2</td>\n      <td>0</td>\n      <td>0</td>\n    </tr>\n    <tr>\n      <th>2</th>\n      <td>66</td>\n      <td>0</td>\n      <td>0</td>\n      <td>150</td>\n      <td>226</td>\n      <td>0</td>\n      <td>0</td>\n      <td>114</td>\n      <td>0</td>\n      <td>2.6</td>\n      <td>2</td>\n      <td>0</td>\n      <td>0</td>\n      <td>0</td>\n    </tr>\n    <tr>\n      <th>3</th>\n      <td>65</td>\n      <td>1</td>\n      <td>0</td>\n      <td>138</td>\n      <td>282</td>\n      <td>1</td>\n      <td>2</td>\n      <td>174</td>\n      <td>0</td>\n      <td>1.4</td>\n      <td>1</td>\n      <td>1</td>\n      <td>0</td>\n      <td>1</td>\n    </tr>\n    <tr>\n      <th>4</th>\n      <td>64</td>\n      <td>1</td>\n      <td>0</td>\n      <td>110</td>\n      <td>211</td>\n      <td>0</td>\n      <td>2</td>\n      <td>144</td>\n      <td>1</td>\n      <td>1.8</td>\n      <td>1</td>\n      <td>0</td>\n      <td>0</td>\n      <td>0</td>\n    </tr>\n    <tr>\n      <th>...</th>\n      <td>...</td>\n      <td>...</td>\n      <td>...</td>\n      <td>...</td>\n      <td>...</td>\n      <td>...</td>\n      <td>...</td>\n      <td>...</td>\n      <td>...</td>\n      <td>...</td>\n      <td>...</td>\n      <td>...</td>\n      <td>...</td>\n      <td>...</td>\n    </tr>\n    <tr>\n      <th>292</th>\n      <td>40</td>\n      <td>1</td>\n      <td>3</td>\n      <td>152</td>\n      <td>223</td>\n      <td>0</td>\n      <td>0</td>\n      <td>181</td>\n      <td>0</td>\n      <td>0.0</td>\n      <td>0</td>\n      <td>0</td>\n      <td>2</td>\n      <td>1</td>\n    </tr>\n    <tr>\n      <th>293</th>\n      <td>39</td>\n      <td>1</td>\n      <td>3</td>\n      <td>118</td>\n      <td>219</td>\n      <td>0</td>\n      <td>0</td>\n      <td>140</td>\n      <td>0</td>\n      <td>1.2</td>\n      <td>1</td>\n      <td>0</td>\n      <td>2</td>\n      <td>1</td>\n    </tr>\n    <tr>\n      <th>294</th>\n      <td>35</td>\n      <td>1</td>\n      <td>3</td>\n      <td>120</td>\n      <td>198</td>\n      <td>0</td>\n      <td>0</td>\n      <td>130</td>\n      <td>1</td>\n      <td>1.6</td>\n      <td>1</td>\n      <td>0</td>\n      <td>2</td>\n      <td>1</td>\n    </tr>\n    <tr>\n      <th>295</th>\n      <td>35</td>\n      <td>0</td>\n      <td>3</td>\n      <td>138</td>\n      <td>183</td>\n      <td>0</td>\n      <td>0</td>\n      <td>182</td>\n      <td>0</td>\n      <td>1.4</td>\n      <td>0</td>\n      <td>0</td>\n      <td>0</td>\n      <td>0</td>\n    </tr>\n    <tr>\n      <th>296</th>\n      <td>35</td>\n      <td>1</td>\n      <td>3</td>\n      <td>126</td>\n      <td>282</td>\n      <td>0</td>\n      <td>2</td>\n      <td>156</td>\n      <td>1</td>\n      <td>0.0</td>\n      <td>0</td>\n      <td>0</td>\n      <td>2</td>\n      <td>1</td>\n    </tr>\n  </tbody>\n</table>\n<p>297 rows × 14 columns</p>\n</div>"
     },
     "metadata": {},
     "execution_count": 3
    }
   ],
   "source": [
    "dData = pd.read_csv('heart_cleveland_upload.csv')\n",
    "dData"
   ]
  },
  {
   "cell_type": "markdown",
   "metadata": {},
   "source": [
    "### Display target balance:"
   ]
  },
  {
   "cell_type": "code",
   "execution_count": 4,
   "metadata": {},
   "outputs": [
    {
     "output_type": "stream",
     "name": "stdout",
     "text": [
      "age       = Age\nsex       = Sex\ncp        = ChestPainType\ntrestbps  = RestingBloodPressure\nchol      = Cholesterol\nfbs       = FastingBloodSugar\nrestecg   = RestECG\nthalach   = MaxHeartRateAchieved\nexang     = ExerciseInducedAngina\noldpeak   = StDepression\nslope     = StSlope\nca        = NumMajorVessels\nthal      = Thalassemia\ncondition = Target\n"
     ]
    }
   ],
   "source": [
    "lFullName = ['Age', 'Sex', 'ChestPainType', 'RestingBloodPressure', 'Cholesterol', 'FastingBloodSugar', 'RestECG', 'MaxHeartRateAchieved', 'ExerciseInducedAngina', 'StDepression', 'StSlope', 'NumMajorVessels', 'Thalassemia', 'Target']\n",
    "space     = max(map(len, dData.columns))\n",
    "for (shortName, fullName) in zip(dData.columns, lFullName):\n",
    "    print(f'{shortName:{space}s} = {fullName}')"
   ]
  },
  {
   "cell_type": "markdown",
   "metadata": {},
   "source": [
    "### Get data and normalization:"
   ]
  },
  {
   "cell_type": "code",
   "execution_count": 5,
   "metadata": {},
   "outputs": [
    {
     "output_type": "execute_result",
     "data": {
      "text/plain": [
       "((297, 13), (297,))"
      ]
     },
     "metadata": {},
     "execution_count": 5
    }
   ],
   "source": [
    "mX = dData.drop(columns='condition').values\n",
    "vY = dData['condition'].values\n",
    "\n",
    "mX.shape, vY.shape"
   ]
  },
  {
   "cell_type": "code",
   "execution_count": 6,
   "metadata": {},
   "outputs": [],
   "source": [
    "#-- Normalize data:\n",
    "mX -= mX.mean(0)\n",
    "mX /= mX.std(0)"
   ]
  },
  {
   "cell_type": "markdown",
   "metadata": {},
   "source": [
    "### Basic classification:\n",
    "Let us try several default classifiers"
   ]
  },
  {
   "cell_type": "code",
   "execution_count": 7,
   "metadata": {},
   "outputs": [
    {
     "output_type": "stream",
     "name": "stdout",
     "text": [
      "SVM                 = 82.83%\n",
      "Logistic Regression = 83.16%\n",
      "KNN                 = 82.49%\n",
      "Tree                = 69.70%\n"
     ]
    }
   ],
   "source": [
    "from sklearn.linear_model    import LogisticRegression\n",
    "from sklearn.svm             import SVC\n",
    "from sklearn.neighbors       import KNeighborsClassifier\n",
    "from sklearn.tree            import DecisionTreeClassifier\n",
    "from sklearn.model_selection import cross_val_predict, KFold\n",
    "\n",
    "#-- Classifiers:\n",
    "#-- You can set the hyper-parameters as well\n",
    "lModels  = []\n",
    "lModels += [(SVC                   (C=1), 'SVM'                )]\n",
    "lModels += [(LogisticRegression    (),    'Logistic Regression')]\n",
    "lModels += [(KNeighborsClassifier  (),    'KNN'                )]\n",
    "lModels += [(DecisionTreeClassifier(),    'Tree'               )]\n",
    "\n",
    "\n",
    "N = len(vY)\n",
    "for (oClassifier, name) in lModels:\n",
    "    vHatY    = cross_val_predict(oClassifier, mX, vY, cv=KFold(N))\n",
    "    accuracy = np.mean(vY == vHatY)\n",
    "    print(f'{name:19s} = {100*accuracy:2.2f}%')"
   ]
  },
  {
   "cell_type": "markdown",
   "metadata": {},
   "source": [
    "### Exercise A:\n",
    "* Use `KNeighborsClassifier` and get above 84% leave-one-out cross validation accuracy.  \n",
    "(Play with the hyper-parameters)"
   ]
  },
  {
   "cell_type": "code",
   "execution_count": 8,
   "metadata": {},
   "outputs": [
    {
     "output_type": "stream",
     "name": "stdout",
     "text": [
      "Fitting 5 folds for each of 20 candidates, totalling 100 fits\n"
     ]
    }
   ],
   "source": [
    "#-- Your solution\n",
    "# https://medium.com/@erikgreenj/k-neighbors-classifier-with-gridsearchcv-basics-3c445ddeb657\n",
    "from sklearn.model_selection import GridSearchCV\n",
    "\n",
    "grid_params = {\n",
    "    'n_neighbors' : np.arange(1, 21, 2),\n",
    "    'metric' : ['euclidean', 'manhattan'],\n",
    "}\n",
    "\n",
    "N = len(vY)\n",
    "gs = GridSearchCV(\n",
    "    KNeighborsClassifier(),\n",
    "    grid_params,\n",
    "    verbose=2,\n",
    "    #cv = KFold(N), \n",
    "    n_jobs = -1)\n",
    "\n",
    "gs_result = gs.fit(mX, vY)\n"
   ]
  },
  {
   "cell_type": "code",
   "execution_count": 9,
   "metadata": {},
   "outputs": [
    {
     "output_type": "stream",
     "name": "stdout",
     "text": [
      "83.18%\nKNeighborsClassifier(metric='euclidean', n_neighbors=17)\n{'metric': 'euclidean', 'n_neighbors': 17}\n"
     ]
    }
   ],
   "source": [
    "print(f'{100*gs_result.best_score_:2.2f}%')\n",
    "print(gs_result.best_estimator_)\n",
    "print(gs_result.best_params_)"
   ]
  },
  {
   "cell_type": "code",
   "execution_count": null,
   "metadata": {},
   "outputs": [],
   "source": []
  },
  {
   "cell_type": "code",
   "execution_count": 10,
   "metadata": {},
   "outputs": [
    {
     "output_type": "execute_result",
     "data": {
      "text/plain": [
       "     Age  Sex  ChestPainType  RestingBloodPressure  Cholesterol  \\\n",
       "0     69    1              0                   160          234   \n",
       "1     69    0              0                   140          239   \n",
       "2     66    0              0                   150          226   \n",
       "3     65    1              0                   138          282   \n",
       "4     64    1              0                   110          211   \n",
       "..   ...  ...            ...                   ...          ...   \n",
       "292   40    1              3                   152          223   \n",
       "293   39    1              3                   118          219   \n",
       "294   35    1              3                   120          198   \n",
       "295   35    0              3                   138          183   \n",
       "296   35    1              3                   126          282   \n",
       "\n",
       "     FastingBloodSugar  RestECG  MaxHeartRateAchieved  ExerciseInducedAngina  \\\n",
       "0                    1        2                   131                      0   \n",
       "1                    0        0                   151                      0   \n",
       "2                    0        0                   114                      0   \n",
       "3                    1        2                   174                      0   \n",
       "4                    0        2                   144                      1   \n",
       "..                 ...      ...                   ...                    ...   \n",
       "292                  0        0                   181                      0   \n",
       "293                  0        0                   140                      0   \n",
       "294                  0        0                   130                      1   \n",
       "295                  0        0                   182                      0   \n",
       "296                  0        2                   156                      1   \n",
       "\n",
       "     StDepression  StSlope  NumMajorVessels  Thalassemia  Target  \n",
       "0             0.1        1                1            0       0  \n",
       "1             1.8        0                2            0       0  \n",
       "2             2.6        2                0            0       0  \n",
       "3             1.4        1                1            0       1  \n",
       "4             1.8        1                0            0       0  \n",
       "..            ...      ...              ...          ...     ...  \n",
       "292           0.0        0                0            2       1  \n",
       "293           1.2        1                0            2       1  \n",
       "294           1.6        1                0            2       1  \n",
       "295           1.4        0                0            0       0  \n",
       "296           0.0        0                0            2       1  \n",
       "\n",
       "[297 rows x 14 columns]"
      ],
      "text/html": "<div>\n<style scoped>\n    .dataframe tbody tr th:only-of-type {\n        vertical-align: middle;\n    }\n\n    .dataframe tbody tr th {\n        vertical-align: top;\n    }\n\n    .dataframe thead th {\n        text-align: right;\n    }\n</style>\n<table border=\"1\" class=\"dataframe\">\n  <thead>\n    <tr style=\"text-align: right;\">\n      <th></th>\n      <th>Age</th>\n      <th>Sex</th>\n      <th>ChestPainType</th>\n      <th>RestingBloodPressure</th>\n      <th>Cholesterol</th>\n      <th>FastingBloodSugar</th>\n      <th>RestECG</th>\n      <th>MaxHeartRateAchieved</th>\n      <th>ExerciseInducedAngina</th>\n      <th>StDepression</th>\n      <th>StSlope</th>\n      <th>NumMajorVessels</th>\n      <th>Thalassemia</th>\n      <th>Target</th>\n    </tr>\n  </thead>\n  <tbody>\n    <tr>\n      <th>0</th>\n      <td>69</td>\n      <td>1</td>\n      <td>0</td>\n      <td>160</td>\n      <td>234</td>\n      <td>1</td>\n      <td>2</td>\n      <td>131</td>\n      <td>0</td>\n      <td>0.1</td>\n      <td>1</td>\n      <td>1</td>\n      <td>0</td>\n      <td>0</td>\n    </tr>\n    <tr>\n      <th>1</th>\n      <td>69</td>\n      <td>0</td>\n      <td>0</td>\n      <td>140</td>\n      <td>239</td>\n      <td>0</td>\n      <td>0</td>\n      <td>151</td>\n      <td>0</td>\n      <td>1.8</td>\n      <td>0</td>\n      <td>2</td>\n      <td>0</td>\n      <td>0</td>\n    </tr>\n    <tr>\n      <th>2</th>\n      <td>66</td>\n      <td>0</td>\n      <td>0</td>\n      <td>150</td>\n      <td>226</td>\n      <td>0</td>\n      <td>0</td>\n      <td>114</td>\n      <td>0</td>\n      <td>2.6</td>\n      <td>2</td>\n      <td>0</td>\n      <td>0</td>\n      <td>0</td>\n    </tr>\n    <tr>\n      <th>3</th>\n      <td>65</td>\n      <td>1</td>\n      <td>0</td>\n      <td>138</td>\n      <td>282</td>\n      <td>1</td>\n      <td>2</td>\n      <td>174</td>\n      <td>0</td>\n      <td>1.4</td>\n      <td>1</td>\n      <td>1</td>\n      <td>0</td>\n      <td>1</td>\n    </tr>\n    <tr>\n      <th>4</th>\n      <td>64</td>\n      <td>1</td>\n      <td>0</td>\n      <td>110</td>\n      <td>211</td>\n      <td>0</td>\n      <td>2</td>\n      <td>144</td>\n      <td>1</td>\n      <td>1.8</td>\n      <td>1</td>\n      <td>0</td>\n      <td>0</td>\n      <td>0</td>\n    </tr>\n    <tr>\n      <th>...</th>\n      <td>...</td>\n      <td>...</td>\n      <td>...</td>\n      <td>...</td>\n      <td>...</td>\n      <td>...</td>\n      <td>...</td>\n      <td>...</td>\n      <td>...</td>\n      <td>...</td>\n      <td>...</td>\n      <td>...</td>\n      <td>...</td>\n      <td>...</td>\n    </tr>\n    <tr>\n      <th>292</th>\n      <td>40</td>\n      <td>1</td>\n      <td>3</td>\n      <td>152</td>\n      <td>223</td>\n      <td>0</td>\n      <td>0</td>\n      <td>181</td>\n      <td>0</td>\n      <td>0.0</td>\n      <td>0</td>\n      <td>0</td>\n      <td>2</td>\n      <td>1</td>\n    </tr>\n    <tr>\n      <th>293</th>\n      <td>39</td>\n      <td>1</td>\n      <td>3</td>\n      <td>118</td>\n      <td>219</td>\n      <td>0</td>\n      <td>0</td>\n      <td>140</td>\n      <td>0</td>\n      <td>1.2</td>\n      <td>1</td>\n      <td>0</td>\n      <td>2</td>\n      <td>1</td>\n    </tr>\n    <tr>\n      <th>294</th>\n      <td>35</td>\n      <td>1</td>\n      <td>3</td>\n      <td>120</td>\n      <td>198</td>\n      <td>0</td>\n      <td>0</td>\n      <td>130</td>\n      <td>1</td>\n      <td>1.6</td>\n      <td>1</td>\n      <td>0</td>\n      <td>2</td>\n      <td>1</td>\n    </tr>\n    <tr>\n      <th>295</th>\n      <td>35</td>\n      <td>0</td>\n      <td>3</td>\n      <td>138</td>\n      <td>183</td>\n      <td>0</td>\n      <td>0</td>\n      <td>182</td>\n      <td>0</td>\n      <td>1.4</td>\n      <td>0</td>\n      <td>0</td>\n      <td>0</td>\n      <td>0</td>\n    </tr>\n    <tr>\n      <th>296</th>\n      <td>35</td>\n      <td>1</td>\n      <td>3</td>\n      <td>126</td>\n      <td>282</td>\n      <td>0</td>\n      <td>2</td>\n      <td>156</td>\n      <td>1</td>\n      <td>0.0</td>\n      <td>0</td>\n      <td>0</td>\n      <td>2</td>\n      <td>1</td>\n    </tr>\n  </tbody>\n</table>\n<p>297 rows × 14 columns</p>\n</div>"
     },
     "metadata": {},
     "execution_count": 10
    }
   ],
   "source": [
    "dData2         = dData.copy()\n",
    "dData2.columns = lFullName\n",
    "dData2"
   ]
  },
  {
   "cell_type": "code",
   "execution_count": null,
   "metadata": {},
   "outputs": [],
   "source": []
  },
  {
   "cell_type": "markdown",
   "metadata": {},
   "source": [
    "### Meaningful categorical data:\n",
    "(Based on the data description)"
   ]
  },
  {
   "cell_type": "code",
   "execution_count": 11,
   "metadata": {},
   "outputs": [
    {
     "output_type": "execute_result",
     "data": {
      "text/plain": [
       "     Age     Sex   ChestPainType  RestingBloodPressure  Cholesterol  \\\n",
       "0     69    male    asymptomatic                   160          234   \n",
       "1     69  female    asymptomatic                   140          239   \n",
       "2     66  female    asymptomatic                   150          226   \n",
       "3     65    male    asymptomatic                   138          282   \n",
       "4     64    male    asymptomatic                   110          211   \n",
       "..   ...     ...             ...                   ...          ...   \n",
       "292   40    male  typical angina                   152          223   \n",
       "293   39    male  typical angina                   118          219   \n",
       "294   35    male  typical angina                   120          198   \n",
       "295   35  female  typical angina                   138          183   \n",
       "296   35    male  typical angina                   126          282   \n",
       "\n",
       "         FastingBloodSugar                       RestECG  \\\n",
       "0    greater than 120mg/ml  left ventricular hypertrophy   \n",
       "1      lower than 120mg/ml                        normal   \n",
       "2      lower than 120mg/ml                        normal   \n",
       "3    greater than 120mg/ml  left ventricular hypertrophy   \n",
       "4      lower than 120mg/ml  left ventricular hypertrophy   \n",
       "..                     ...                           ...   \n",
       "292    lower than 120mg/ml                        normal   \n",
       "293    lower than 120mg/ml                        normal   \n",
       "294    lower than 120mg/ml                        normal   \n",
       "295    lower than 120mg/ml                        normal   \n",
       "296    lower than 120mg/ml  left ventricular hypertrophy   \n",
       "\n",
       "     MaxHeartRateAchieved ExerciseInducedAngina  StDepression      StSlope  \\\n",
       "0                     131                    no           0.1         flat   \n",
       "1                     151                    no           1.8    upsloping   \n",
       "2                     114                    no           2.6  downsloping   \n",
       "3                     174                    no           1.4         flat   \n",
       "4                     144                   yes           1.8         flat   \n",
       "..                    ...                   ...           ...          ...   \n",
       "292                   181                    no           0.0    upsloping   \n",
       "293                   140                    no           1.2         flat   \n",
       "294                   130                   yes           1.6         flat   \n",
       "295                   182                    no           1.4    upsloping   \n",
       "296                   156                   yes           0.0    upsloping   \n",
       "\n",
       "     NumMajorVessels        Thalassemia            Target  \n",
       "0                  1             normal  no heart disease  \n",
       "1                  2             normal  no heart disease  \n",
       "2                  0             normal  no heart disease  \n",
       "3                  1             normal     heart disease  \n",
       "4                  0             normal  no heart disease  \n",
       "..               ...                ...               ...  \n",
       "292                0  reversable defect     heart disease  \n",
       "293                0  reversable defect     heart disease  \n",
       "294                0  reversable defect     heart disease  \n",
       "295                0             normal  no heart disease  \n",
       "296                0  reversable defect     heart disease  \n",
       "\n",
       "[297 rows x 14 columns]"
      ],
      "text/html": "<div>\n<style scoped>\n    .dataframe tbody tr th:only-of-type {\n        vertical-align: middle;\n    }\n\n    .dataframe tbody tr th {\n        vertical-align: top;\n    }\n\n    .dataframe thead th {\n        text-align: right;\n    }\n</style>\n<table border=\"1\" class=\"dataframe\">\n  <thead>\n    <tr style=\"text-align: right;\">\n      <th></th>\n      <th>Age</th>\n      <th>Sex</th>\n      <th>ChestPainType</th>\n      <th>RestingBloodPressure</th>\n      <th>Cholesterol</th>\n      <th>FastingBloodSugar</th>\n      <th>RestECG</th>\n      <th>MaxHeartRateAchieved</th>\n      <th>ExerciseInducedAngina</th>\n      <th>StDepression</th>\n      <th>StSlope</th>\n      <th>NumMajorVessels</th>\n      <th>Thalassemia</th>\n      <th>Target</th>\n    </tr>\n  </thead>\n  <tbody>\n    <tr>\n      <th>0</th>\n      <td>69</td>\n      <td>male</td>\n      <td>asymptomatic</td>\n      <td>160</td>\n      <td>234</td>\n      <td>greater than 120mg/ml</td>\n      <td>left ventricular hypertrophy</td>\n      <td>131</td>\n      <td>no</td>\n      <td>0.1</td>\n      <td>flat</td>\n      <td>1</td>\n      <td>normal</td>\n      <td>no heart disease</td>\n    </tr>\n    <tr>\n      <th>1</th>\n      <td>69</td>\n      <td>female</td>\n      <td>asymptomatic</td>\n      <td>140</td>\n      <td>239</td>\n      <td>lower than 120mg/ml</td>\n      <td>normal</td>\n      <td>151</td>\n      <td>no</td>\n      <td>1.8</td>\n      <td>upsloping</td>\n      <td>2</td>\n      <td>normal</td>\n      <td>no heart disease</td>\n    </tr>\n    <tr>\n      <th>2</th>\n      <td>66</td>\n      <td>female</td>\n      <td>asymptomatic</td>\n      <td>150</td>\n      <td>226</td>\n      <td>lower than 120mg/ml</td>\n      <td>normal</td>\n      <td>114</td>\n      <td>no</td>\n      <td>2.6</td>\n      <td>downsloping</td>\n      <td>0</td>\n      <td>normal</td>\n      <td>no heart disease</td>\n    </tr>\n    <tr>\n      <th>3</th>\n      <td>65</td>\n      <td>male</td>\n      <td>asymptomatic</td>\n      <td>138</td>\n      <td>282</td>\n      <td>greater than 120mg/ml</td>\n      <td>left ventricular hypertrophy</td>\n      <td>174</td>\n      <td>no</td>\n      <td>1.4</td>\n      <td>flat</td>\n      <td>1</td>\n      <td>normal</td>\n      <td>heart disease</td>\n    </tr>\n    <tr>\n      <th>4</th>\n      <td>64</td>\n      <td>male</td>\n      <td>asymptomatic</td>\n      <td>110</td>\n      <td>211</td>\n      <td>lower than 120mg/ml</td>\n      <td>left ventricular hypertrophy</td>\n      <td>144</td>\n      <td>yes</td>\n      <td>1.8</td>\n      <td>flat</td>\n      <td>0</td>\n      <td>normal</td>\n      <td>no heart disease</td>\n    </tr>\n    <tr>\n      <th>...</th>\n      <td>...</td>\n      <td>...</td>\n      <td>...</td>\n      <td>...</td>\n      <td>...</td>\n      <td>...</td>\n      <td>...</td>\n      <td>...</td>\n      <td>...</td>\n      <td>...</td>\n      <td>...</td>\n      <td>...</td>\n      <td>...</td>\n      <td>...</td>\n    </tr>\n    <tr>\n      <th>292</th>\n      <td>40</td>\n      <td>male</td>\n      <td>typical angina</td>\n      <td>152</td>\n      <td>223</td>\n      <td>lower than 120mg/ml</td>\n      <td>normal</td>\n      <td>181</td>\n      <td>no</td>\n      <td>0.0</td>\n      <td>upsloping</td>\n      <td>0</td>\n      <td>reversable defect</td>\n      <td>heart disease</td>\n    </tr>\n    <tr>\n      <th>293</th>\n      <td>39</td>\n      <td>male</td>\n      <td>typical angina</td>\n      <td>118</td>\n      <td>219</td>\n      <td>lower than 120mg/ml</td>\n      <td>normal</td>\n      <td>140</td>\n      <td>no</td>\n      <td>1.2</td>\n      <td>flat</td>\n      <td>0</td>\n      <td>reversable defect</td>\n      <td>heart disease</td>\n    </tr>\n    <tr>\n      <th>294</th>\n      <td>35</td>\n      <td>male</td>\n      <td>typical angina</td>\n      <td>120</td>\n      <td>198</td>\n      <td>lower than 120mg/ml</td>\n      <td>normal</td>\n      <td>130</td>\n      <td>yes</td>\n      <td>1.6</td>\n      <td>flat</td>\n      <td>0</td>\n      <td>reversable defect</td>\n      <td>heart disease</td>\n    </tr>\n    <tr>\n      <th>295</th>\n      <td>35</td>\n      <td>female</td>\n      <td>typical angina</td>\n      <td>138</td>\n      <td>183</td>\n      <td>lower than 120mg/ml</td>\n      <td>normal</td>\n      <td>182</td>\n      <td>no</td>\n      <td>1.4</td>\n      <td>upsloping</td>\n      <td>0</td>\n      <td>normal</td>\n      <td>no heart disease</td>\n    </tr>\n    <tr>\n      <th>296</th>\n      <td>35</td>\n      <td>male</td>\n      <td>typical angina</td>\n      <td>126</td>\n      <td>282</td>\n      <td>lower than 120mg/ml</td>\n      <td>left ventricular hypertrophy</td>\n      <td>156</td>\n      <td>yes</td>\n      <td>0.0</td>\n      <td>upsloping</td>\n      <td>0</td>\n      <td>reversable defect</td>\n      <td>heart disease</td>\n    </tr>\n  </tbody>\n</table>\n<p>297 rows × 14 columns</p>\n</div>"
     },
     "metadata": {},
     "execution_count": 11
    }
   ],
   "source": [
    "dData2.loc[dData2['Sex']                   == 0, 'Sex']                   = 'female'\n",
    "dData2.loc[dData2['Sex']                   == 1, 'Sex']                   = 'male'\n",
    "  \n",
    "dData2.loc[dData2['ChestPainType']         == 0, 'ChestPainType']         = 'asymptomatic'\n",
    "dData2.loc[dData2['ChestPainType']         == 1, 'ChestPainType']         = 'atypical angina'\n",
    "dData2.loc[dData2['ChestPainType']         == 2, 'ChestPainType']         = 'non-anginal pain'\n",
    "dData2.loc[dData2['ChestPainType']         == 3, 'ChestPainType']         = 'typical angina'\n",
    "\n",
    "dData2.loc[dData2['FastingBloodSugar']     == 0, 'FastingBloodSugar']     = 'lower than 120mg/ml'\n",
    "dData2.loc[dData2['FastingBloodSugar']     == 1, 'FastingBloodSugar']     = 'greater than 120mg/ml'\n",
    "\n",
    "dData2.loc[dData2['RestECG']               == 0, 'RestECG']               = 'normal'\n",
    "dData2.loc[dData2['RestECG']               == 1, 'RestECG']               = 'ST-T wave abnormality'\n",
    "dData2.loc[dData2['RestECG']               == 2, 'RestECG']               = 'left ventricular hypertrophy'\n",
    "\n",
    "dData2.loc[dData2['ExerciseInducedAngina'] == 0, 'ExerciseInducedAngina'] = 'no'\n",
    "dData2.loc[dData2['ExerciseInducedAngina'] == 1, 'ExerciseInducedAngina'] = 'yes'\n",
    "\n",
    "dData2.loc[dData2['StSlope']               == 0, 'StSlope']               = 'upsloping'\n",
    "dData2.loc[dData2['StSlope']               == 1, 'StSlope']               = 'flat'\n",
    "dData2.loc[dData2['StSlope']               == 2, 'StSlope']               = 'downsloping'\n",
    "\n",
    "dData2.loc[dData2['Thalassemia']           == 0, 'Thalassemia']           = 'normal'\n",
    "dData2.loc[dData2['Thalassemia']           == 1, 'Thalassemia']           = 'fixed defect'\n",
    "dData2.loc[dData2['Thalassemia']           == 2, 'Thalassemia']           = 'reversable defect'\n",
    "\n",
    "dData2.loc[dData2['Target']                == 0, 'Target']                = 'no heart disease'\n",
    "dData2.loc[dData2['Target']                == 1, 'Target']                = 'heart disease'\n",
    "dData2"
   ]
  },
  {
   "cell_type": "markdown",
   "metadata": {},
   "source": [
    "### Convert non-numeric features to dummy features:"
   ]
  },
  {
   "cell_type": "code",
   "execution_count": 12,
   "metadata": {},
   "outputs": [
    {
     "output_type": "execute_result",
     "data": {
      "text/plain": [
       "     Age  RestingBloodPressure  Cholesterol  MaxHeartRateAchieved  \\\n",
       "0     69                   160          234                   131   \n",
       "1     69                   140          239                   151   \n",
       "2     66                   150          226                   114   \n",
       "3     65                   138          282                   174   \n",
       "4     64                   110          211                   144   \n",
       "..   ...                   ...          ...                   ...   \n",
       "292   40                   152          223                   181   \n",
       "293   39                   118          219                   140   \n",
       "294   35                   120          198                   130   \n",
       "295   35                   138          183                   182   \n",
       "296   35                   126          282                   156   \n",
       "\n",
       "     StDepression  NumMajorVessels  Sex_male  ChestPainType_atypical angina  \\\n",
       "0             0.1                1         1                              0   \n",
       "1             1.8                2         0                              0   \n",
       "2             2.6                0         0                              0   \n",
       "3             1.4                1         1                              0   \n",
       "4             1.8                0         1                              0   \n",
       "..            ...              ...       ...                            ...   \n",
       "292           0.0                0         1                              0   \n",
       "293           1.2                0         1                              0   \n",
       "294           1.6                0         1                              0   \n",
       "295           1.4                0         0                              0   \n",
       "296           0.0                0         1                              0   \n",
       "\n",
       "     ChestPainType_non-anginal pain  ChestPainType_typical angina  \\\n",
       "0                                 0                             0   \n",
       "1                                 0                             0   \n",
       "2                                 0                             0   \n",
       "3                                 0                             0   \n",
       "4                                 0                             0   \n",
       "..                              ...                           ...   \n",
       "292                               0                             1   \n",
       "293                               0                             1   \n",
       "294                               0                             1   \n",
       "295                               0                             1   \n",
       "296                               0                             1   \n",
       "\n",
       "     FastingBloodSugar_lower than 120mg/ml  \\\n",
       "0                                        0   \n",
       "1                                        1   \n",
       "2                                        1   \n",
       "3                                        0   \n",
       "4                                        1   \n",
       "..                                     ...   \n",
       "292                                      1   \n",
       "293                                      1   \n",
       "294                                      1   \n",
       "295                                      1   \n",
       "296                                      1   \n",
       "\n",
       "     RestECG_left ventricular hypertrophy  RestECG_normal  \\\n",
       "0                                       1               0   \n",
       "1                                       0               1   \n",
       "2                                       0               1   \n",
       "3                                       1               0   \n",
       "4                                       1               0   \n",
       "..                                    ...             ...   \n",
       "292                                     0               1   \n",
       "293                                     0               1   \n",
       "294                                     0               1   \n",
       "295                                     0               1   \n",
       "296                                     1               0   \n",
       "\n",
       "     ExerciseInducedAngina_yes  StSlope_flat  StSlope_upsloping  \\\n",
       "0                            0             1                  0   \n",
       "1                            0             0                  1   \n",
       "2                            0             0                  0   \n",
       "3                            0             1                  0   \n",
       "4                            1             1                  0   \n",
       "..                         ...           ...                ...   \n",
       "292                          0             0                  1   \n",
       "293                          0             1                  0   \n",
       "294                          1             1                  0   \n",
       "295                          0             0                  1   \n",
       "296                          1             0                  1   \n",
       "\n",
       "     Thalassemia_normal  Thalassemia_reversable defect  \\\n",
       "0                     1                              0   \n",
       "1                     1                              0   \n",
       "2                     1                              0   \n",
       "3                     1                              0   \n",
       "4                     1                              0   \n",
       "..                  ...                            ...   \n",
       "292                   0                              1   \n",
       "293                   0                              1   \n",
       "294                   0                              1   \n",
       "295                   1                              0   \n",
       "296                   0                              1   \n",
       "\n",
       "     Target_no heart disease  \n",
       "0                          1  \n",
       "1                          1  \n",
       "2                          1  \n",
       "3                          0  \n",
       "4                          1  \n",
       "..                       ...  \n",
       "292                        0  \n",
       "293                        0  \n",
       "294                        0  \n",
       "295                        1  \n",
       "296                        0  \n",
       "\n",
       "[297 rows x 19 columns]"
      ],
      "text/html": "<div>\n<style scoped>\n    .dataframe tbody tr th:only-of-type {\n        vertical-align: middle;\n    }\n\n    .dataframe tbody tr th {\n        vertical-align: top;\n    }\n\n    .dataframe thead th {\n        text-align: right;\n    }\n</style>\n<table border=\"1\" class=\"dataframe\">\n  <thead>\n    <tr style=\"text-align: right;\">\n      <th></th>\n      <th>Age</th>\n      <th>RestingBloodPressure</th>\n      <th>Cholesterol</th>\n      <th>MaxHeartRateAchieved</th>\n      <th>StDepression</th>\n      <th>NumMajorVessels</th>\n      <th>Sex_male</th>\n      <th>ChestPainType_atypical angina</th>\n      <th>ChestPainType_non-anginal pain</th>\n      <th>ChestPainType_typical angina</th>\n      <th>FastingBloodSugar_lower than 120mg/ml</th>\n      <th>RestECG_left ventricular hypertrophy</th>\n      <th>RestECG_normal</th>\n      <th>ExerciseInducedAngina_yes</th>\n      <th>StSlope_flat</th>\n      <th>StSlope_upsloping</th>\n      <th>Thalassemia_normal</th>\n      <th>Thalassemia_reversable defect</th>\n      <th>Target_no heart disease</th>\n    </tr>\n  </thead>\n  <tbody>\n    <tr>\n      <th>0</th>\n      <td>69</td>\n      <td>160</td>\n      <td>234</td>\n      <td>131</td>\n      <td>0.1</td>\n      <td>1</td>\n      <td>1</td>\n      <td>0</td>\n      <td>0</td>\n      <td>0</td>\n      <td>0</td>\n      <td>1</td>\n      <td>0</td>\n      <td>0</td>\n      <td>1</td>\n      <td>0</td>\n      <td>1</td>\n      <td>0</td>\n      <td>1</td>\n    </tr>\n    <tr>\n      <th>1</th>\n      <td>69</td>\n      <td>140</td>\n      <td>239</td>\n      <td>151</td>\n      <td>1.8</td>\n      <td>2</td>\n      <td>0</td>\n      <td>0</td>\n      <td>0</td>\n      <td>0</td>\n      <td>1</td>\n      <td>0</td>\n      <td>1</td>\n      <td>0</td>\n      <td>0</td>\n      <td>1</td>\n      <td>1</td>\n      <td>0</td>\n      <td>1</td>\n    </tr>\n    <tr>\n      <th>2</th>\n      <td>66</td>\n      <td>150</td>\n      <td>226</td>\n      <td>114</td>\n      <td>2.6</td>\n      <td>0</td>\n      <td>0</td>\n      <td>0</td>\n      <td>0</td>\n      <td>0</td>\n      <td>1</td>\n      <td>0</td>\n      <td>1</td>\n      <td>0</td>\n      <td>0</td>\n      <td>0</td>\n      <td>1</td>\n      <td>0</td>\n      <td>1</td>\n    </tr>\n    <tr>\n      <th>3</th>\n      <td>65</td>\n      <td>138</td>\n      <td>282</td>\n      <td>174</td>\n      <td>1.4</td>\n      <td>1</td>\n      <td>1</td>\n      <td>0</td>\n      <td>0</td>\n      <td>0</td>\n      <td>0</td>\n      <td>1</td>\n      <td>0</td>\n      <td>0</td>\n      <td>1</td>\n      <td>0</td>\n      <td>1</td>\n      <td>0</td>\n      <td>0</td>\n    </tr>\n    <tr>\n      <th>4</th>\n      <td>64</td>\n      <td>110</td>\n      <td>211</td>\n      <td>144</td>\n      <td>1.8</td>\n      <td>0</td>\n      <td>1</td>\n      <td>0</td>\n      <td>0</td>\n      <td>0</td>\n      <td>1</td>\n      <td>1</td>\n      <td>0</td>\n      <td>1</td>\n      <td>1</td>\n      <td>0</td>\n      <td>1</td>\n      <td>0</td>\n      <td>1</td>\n    </tr>\n    <tr>\n      <th>...</th>\n      <td>...</td>\n      <td>...</td>\n      <td>...</td>\n      <td>...</td>\n      <td>...</td>\n      <td>...</td>\n      <td>...</td>\n      <td>...</td>\n      <td>...</td>\n      <td>...</td>\n      <td>...</td>\n      <td>...</td>\n      <td>...</td>\n      <td>...</td>\n      <td>...</td>\n      <td>...</td>\n      <td>...</td>\n      <td>...</td>\n      <td>...</td>\n    </tr>\n    <tr>\n      <th>292</th>\n      <td>40</td>\n      <td>152</td>\n      <td>223</td>\n      <td>181</td>\n      <td>0.0</td>\n      <td>0</td>\n      <td>1</td>\n      <td>0</td>\n      <td>0</td>\n      <td>1</td>\n      <td>1</td>\n      <td>0</td>\n      <td>1</td>\n      <td>0</td>\n      <td>0</td>\n      <td>1</td>\n      <td>0</td>\n      <td>1</td>\n      <td>0</td>\n    </tr>\n    <tr>\n      <th>293</th>\n      <td>39</td>\n      <td>118</td>\n      <td>219</td>\n      <td>140</td>\n      <td>1.2</td>\n      <td>0</td>\n      <td>1</td>\n      <td>0</td>\n      <td>0</td>\n      <td>1</td>\n      <td>1</td>\n      <td>0</td>\n      <td>1</td>\n      <td>0</td>\n      <td>1</td>\n      <td>0</td>\n      <td>0</td>\n      <td>1</td>\n      <td>0</td>\n    </tr>\n    <tr>\n      <th>294</th>\n      <td>35</td>\n      <td>120</td>\n      <td>198</td>\n      <td>130</td>\n      <td>1.6</td>\n      <td>0</td>\n      <td>1</td>\n      <td>0</td>\n      <td>0</td>\n      <td>1</td>\n      <td>1</td>\n      <td>0</td>\n      <td>1</td>\n      <td>1</td>\n      <td>1</td>\n      <td>0</td>\n      <td>0</td>\n      <td>1</td>\n      <td>0</td>\n    </tr>\n    <tr>\n      <th>295</th>\n      <td>35</td>\n      <td>138</td>\n      <td>183</td>\n      <td>182</td>\n      <td>1.4</td>\n      <td>0</td>\n      <td>0</td>\n      <td>0</td>\n      <td>0</td>\n      <td>1</td>\n      <td>1</td>\n      <td>0</td>\n      <td>1</td>\n      <td>0</td>\n      <td>0</td>\n      <td>1</td>\n      <td>1</td>\n      <td>0</td>\n      <td>1</td>\n    </tr>\n    <tr>\n      <th>296</th>\n      <td>35</td>\n      <td>126</td>\n      <td>282</td>\n      <td>156</td>\n      <td>0.0</td>\n      <td>0</td>\n      <td>1</td>\n      <td>0</td>\n      <td>0</td>\n      <td>1</td>\n      <td>1</td>\n      <td>1</td>\n      <td>0</td>\n      <td>1</td>\n      <td>0</td>\n      <td>1</td>\n      <td>0</td>\n      <td>1</td>\n      <td>0</td>\n    </tr>\n  </tbody>\n</table>\n<p>297 rows × 19 columns</p>\n</div>"
     },
     "metadata": {},
     "execution_count": 12
    }
   ],
   "source": [
    "dData3 = pd.get_dummies(dData2, drop_first=True)\n",
    "dData3"
   ]
  },
  {
   "cell_type": "code",
   "execution_count": 13,
   "metadata": {},
   "outputs": [
    {
     "output_type": "stream",
     "name": "stdout",
     "text": [
      "<class 'pandas.core.frame.DataFrame'>\nRangeIndex: 297 entries, 0 to 296\nData columns (total 19 columns):\n #   Column                                 Non-Null Count  Dtype  \n---  ------                                 --------------  -----  \n 0   Age                                    297 non-null    int64  \n 1   RestingBloodPressure                   297 non-null    int64  \n 2   Cholesterol                            297 non-null    int64  \n 3   MaxHeartRateAchieved                   297 non-null    int64  \n 4   StDepression                           297 non-null    float64\n 5   NumMajorVessels                        297 non-null    int64  \n 6   Sex_male                               297 non-null    uint8  \n 7   ChestPainType_atypical angina          297 non-null    uint8  \n 8   ChestPainType_non-anginal pain         297 non-null    uint8  \n 9   ChestPainType_typical angina           297 non-null    uint8  \n 10  FastingBloodSugar_lower than 120mg/ml  297 non-null    uint8  \n 11  RestECG_left ventricular hypertrophy   297 non-null    uint8  \n 12  RestECG_normal                         297 non-null    uint8  \n 13  ExerciseInducedAngina_yes              297 non-null    uint8  \n 14  StSlope_flat                           297 non-null    uint8  \n 15  StSlope_upsloping                      297 non-null    uint8  \n 16  Thalassemia_normal                     297 non-null    uint8  \n 17  Thalassemia_reversable defect          297 non-null    uint8  \n 18  Target_no heart disease                297 non-null    uint8  \ndtypes: float64(1), int64(5), uint8(13)\nmemory usage: 17.8 KB\n"
     ]
    }
   ],
   "source": [
    "dData3.info()"
   ]
  },
  {
   "cell_type": "markdown",
   "metadata": {},
   "source": [
    "### Exercise B:\n",
    "1. Use `dData3` and get above 85% leave-one-out cross validation accuracy.\n",
    "2. You are allowed you to only 6 features (from the given 18).  \n",
    "Get more than 80% accuracy with only 6 features.  \n",
    "What is the right approach for this task?"
   ]
  },
  {
   "source": [
    "#-- Your solution to 1\n",
    "# https://scikit-learn.org/stable/modules/feature_selection.html\n",
    "mX3  = dData3.drop(columns='Target_no heart disease')\n",
    "mX3 -= mX3.mean(0)\n",
    "mX3 /= mX3.std(0)\n",
    "mX3.shape\n",
    "\n",
    "gs = GridSearchCV(\n",
    "    KNeighborsClassifier(),\n",
    "    grid_params,\n",
    "    verbose = 3,\n",
    "    #cv = KFold(N, shuffle=True),\n",
    "    n_jobs = -1)\n",
    "gs_result = gs.fit(mX3, vY)\n",
    "print(f'{100*gs_result.best_score_:2.2f}%')\n",
    "print(gs_result.best_estimator_)\n",
    "print(gs_result.best_params_)\n"
   ],
   "cell_type": "code",
   "metadata": {},
   "execution_count": 14,
   "outputs": [
    {
     "output_type": "stream",
     "name": "stdout",
     "text": [
      "Fitting 5 folds for each of 20 candidates, totalling 100 fits\n",
      "79.17%\n",
      "KNeighborsClassifier(metric='manhattan', n_neighbors=17)\n",
      "{'metric': 'manhattan', 'n_neighbors': 17}\n"
     ]
    }
   ]
  },
  {
   "cell_type": "code",
   "execution_count": 15,
   "metadata": {},
   "outputs": [],
   "source": [
    "#-- Your solution to 2"
   ]
  },
  {
   "cell_type": "code",
   "execution_count": 16,
   "metadata": {},
   "outputs": [],
   "source": [
    "# Try 1 - Using SelectFromModel : failed since the KNeighborsClassifier does not have any `coef_` or `feature_importances_` attribute\n",
    "\n",
    "# https://scikit-learn.org/stable/modules/generated/sklearn.feature_selection.SelectFromModel.html\n",
    "\n",
    "# from sklearn.feature_selection import SelectFromModel\n",
    "\n",
    "# selector = SelectFromModel(estimator=gs_result.best_estimator_, max_features=6).fit(mX3, vY)\n",
    "# selector.estimator_\n",
    "# selector.fit_transform(mX3, vY)\n",
    "\n",
    "# ValueError: when `importance_getter=='auto'`, the underlying estimator KNeighborsClassifier should have `coef_` or `feature_importances_` attribute. Either pass a fitted estimator to feature selector or call fit before calling transform."
   ]
  },
  {
   "cell_type": "code",
   "execution_count": 17,
   "metadata": {},
   "outputs": [
    {
     "output_type": "stream",
     "name": "stdout",
     "text": [
      "Top 6 features selected by forward sequential selection:['Cholesterol', 'MaxHeartRateAchieved', 'StDepression', 'NumMajorVessels', 'Thalassemia_normal', 'Thalassemia_reversable defect']\nFitting 5 folds for each of 20 candidates, totalling 100 fits\n81.51%\nKNeighborsClassifier(metric='euclidean', n_neighbors=13)\n{'metric': 'euclidean', 'n_neighbors': 13}\n"
     ]
    }
   ],
   "source": [
    "# Try 2 - Using scikit-learn SequentialFeatureSelector\n",
    "\n",
    "# http://rasbt.github.io/mlxtend/user_guide/feature_selection/SequentialFeatureSelector/\n",
    "# https://towardsdatascience.com/new-features-of-scikit-learn-fbbfe7652bfb\n",
    "from sklearn.feature_selection import SequentialFeatureSelector\n",
    "n_features = 6\n",
    "sfs_forward = SequentialFeatureSelector(gs_result.best_estimator_, \n",
    "                                n_features_to_select = n_features, \n",
    "                                direction='forward',\n",
    "                                #cv = KFold(N, shuffle=True)\n",
    "                                )\n",
    "sfs_forward.fit(mX3, vY)\n",
    "print(\"Top {} features selected by forward sequential selection:{}\"\\\n",
    "      .format(n_features, list(mX3.columns[sfs_forward.get_support()])))\n",
    "\n",
    "gs_result = gs.fit(sfs_forward.transform(mX3), vY)\n",
    "print(f'{100*gs_result.best_score_:2.2f}%')\n",
    "print(gs_result.best_estimator_)\n",
    "print(gs_result.best_params_)\n",
    "\n",
    "\n"
   ]
  },
  {
   "cell_type": "code",
   "execution_count": 18,
   "metadata": {},
   "outputs": [
    {
     "output_type": "stream",
     "name": "stdout",
     "text": [
      "Top 6 features selected by baclward sequential selection:['Cholesterol', 'MaxHeartRateAchieved', 'StDepression', 'NumMajorVessels', 'Thalassemia_normal', 'Thalassemia_reversable defect']\nFitting 5 folds for each of 20 candidates, totalling 100 fits\n83.86%\nKNeighborsClassifier(metric='euclidean', n_neighbors=11)\n{'metric': 'euclidean', 'n_neighbors': 11}\n"
     ]
    }
   ],
   "source": [
    "sfs_backward = SequentialFeatureSelector(gs_result.best_estimator_, \n",
    "                                n_features_to_select = n_features, \n",
    "                                direction='backward',\n",
    "                                #cv = KFold(N, shuffle=True)\n",
    "                                )\n",
    "sfs_backward.fit(mX3, vY)\n",
    "\n",
    "print(\"Top {} features selected by baclward sequential selection:{}\"\\\n",
    "      .format(n_features, list(mX3.columns[sfs_forward.get_support()])))\n",
    "\n",
    "\n",
    "gs_result = gs.fit(sfs_backward.transform(mX3), vY)\n",
    "print(f'{100*gs_result.best_score_:2.2f}%')\n",
    "print(gs_result.best_estimator_)\n",
    "print(gs_result.best_params_)"
   ]
  },
  {
   "cell_type": "code",
   "execution_count": 19,
   "metadata": {},
   "outputs": [],
   "source": [
    "# Try 3 - Using the mlxtend SequentialFeatureSelector (enables to get the score without additional fit)\n",
    "\n",
    "# Finding the score WITHOUT perfomring with only one fit\n",
    "\n",
    "# https://www.kdnuggets.com/2018/06/step-forward-feature-selection-python.html\n",
    "# http://rasbt.github.io/mlxtend/user_guide/feature_selection/SequentialFeatureSelector/\n",
    "\n",
    "# pip install mlxtend\n",
    "\n",
    "from sklearn.metrics import accuracy_score as acc\n",
    "from mlxtend.feature_selection import SequentialFeatureSelector as mlxtend_sfs\n"
   ]
  },
  {
   "cell_type": "code",
   "execution_count": 20,
   "metadata": {},
   "outputs": [
    {
     "output_type": "stream",
     "name": "stderr",
     "text": [
      "[Parallel(n_jobs=1)]: Using backend SequentialBackend with 1 concurrent workers.\n",
      "[Parallel(n_jobs=1)]: Done   1 out of   1 | elapsed:    0.0s remaining:    0.0s\n",
      "[Parallel(n_jobs=1)]: Done  18 out of  18 | elapsed:    0.3s finished\n",
      "\n",
      "[2021-07-15 21:44:29] Features: 1/6 -- score: 0.7109604519774011[Parallel(n_jobs=1)]: Using backend SequentialBackend with 1 concurrent workers.\n",
      "[Parallel(n_jobs=1)]: Done   1 out of   1 | elapsed:    0.0s remaining:    0.0s\n",
      "[Parallel(n_jobs=1)]: Done  17 out of  17 | elapsed:    0.3s finished\n",
      "\n",
      "[2021-07-15 21:44:29] Features: 2/6 -- score: 0.7410169491525423[Parallel(n_jobs=1)]: Using backend SequentialBackend with 1 concurrent workers.\n",
      "[Parallel(n_jobs=1)]: Done   1 out of   1 | elapsed:    0.0s remaining:    0.0s\n",
      "[Parallel(n_jobs=1)]: Done  16 out of  16 | elapsed:    0.2s finished\n",
      "\n",
      "[2021-07-15 21:44:29] Features: 3/6 -- score: 0.7613559322033898[Parallel(n_jobs=1)]: Using backend SequentialBackend with 1 concurrent workers.\n",
      "[Parallel(n_jobs=1)]: Done   1 out of   1 | elapsed:    0.0s remaining:    0.0s\n",
      "[Parallel(n_jobs=1)]: Done  15 out of  15 | elapsed:    0.2s finished\n",
      "\n",
      "[2021-07-15 21:44:30] Features: 4/6 -- score: 0.8050282485875705[Parallel(n_jobs=1)]: Using backend SequentialBackend with 1 concurrent workers.\n",
      "[Parallel(n_jobs=1)]: Done   1 out of   1 | elapsed:    0.0s remaining:    0.0s\n",
      "[Parallel(n_jobs=1)]: Done  14 out of  14 | elapsed:    0.2s finished\n",
      "\n",
      "[2021-07-15 21:44:30] Features: 5/6 -- score: 0.8185310734463276[Parallel(n_jobs=1)]: Using backend SequentialBackend with 1 concurrent workers.\n",
      "[Parallel(n_jobs=1)]: Done   1 out of   1 | elapsed:    0.0s remaining:    0.0s\n",
      "[Parallel(n_jobs=1)]: Done  13 out of  13 | elapsed:    0.2s finished\n",
      "\n",
      "[2021-07-15 21:44:30] Features: 6/6 -- score: 0.815084745762712"
     ]
    }
   ],
   "source": [
    "sfs1_forward = mlxtend_sfs(gs_result.best_estimator_,\n",
    "           k_features=6,\n",
    "           forward=True,\n",
    "           floating=False,\n",
    "           verbose=2,\n",
    "           scoring='accuracy',\n",
    "           #cv=KFold(N, shuffle=True),\n",
    "           )\n",
    "\n",
    "sfs1_forward = sfs1_forward.fit(mX3, vY)\n"
   ]
  },
  {
   "cell_type": "code",
   "execution_count": 21,
   "metadata": {},
   "outputs": [
    {
     "output_type": "stream",
     "name": "stdout",
     "text": [
      "0.815084745762712\n('Cholesterol', 'MaxHeartRateAchieved', 'StDepression', 'NumMajorVessels', 'ExerciseInducedAngina_yes', 'Thalassemia_normal')\n"
     ]
    }
   ],
   "source": [
    "print(sfs1_forward.k_score_)\n",
    "print(sfs1_forward.k_feature_names_)"
   ]
  },
  {
   "cell_type": "code",
   "execution_count": 25,
   "metadata": {},
   "outputs": [
    {
     "output_type": "stream",
     "name": "stderr",
     "text": [
      "[Parallel(n_jobs=1)]: Using backend SequentialBackend with 1 concurrent workers.\n",
      "[Parallel(n_jobs=1)]: Done   1 out of   1 | elapsed:    0.0s remaining:    0.0s\n",
      "[Parallel(n_jobs=1)]: Done  18 out of  18 | elapsed:    0.3s finished\n",
      "\n",
      "[2021-07-15 21:46:04] Features: 17/6 -- score: 0.801638418079096[Parallel(n_jobs=1)]: Using backend SequentialBackend with 1 concurrent workers.\n",
      "[Parallel(n_jobs=1)]: Done   1 out of   1 | elapsed:    0.0s remaining:    0.0s\n",
      "[Parallel(n_jobs=1)]: Done  17 out of  17 | elapsed:    0.2s finished\n",
      "\n",
      "[2021-07-15 21:46:05] Features: 16/6 -- score: 0.8216949152542373[Parallel(n_jobs=1)]: Using backend SequentialBackend with 1 concurrent workers.\n",
      "[Parallel(n_jobs=1)]: Done   1 out of   1 | elapsed:    0.0s remaining:    0.0s\n",
      "[Parallel(n_jobs=1)]: Done  16 out of  16 | elapsed:    0.3s finished\n",
      "\n",
      "[2021-07-15 21:46:05] Features: 15/6 -- score: 0.8217514124293783[Parallel(n_jobs=1)]: Using backend SequentialBackend with 1 concurrent workers.\n",
      "[Parallel(n_jobs=1)]: Done   1 out of   1 | elapsed:    0.0s remaining:    0.0s\n",
      "[Parallel(n_jobs=1)]: Done  15 out of  15 | elapsed:    0.3s finished\n",
      "\n",
      "[2021-07-15 21:46:05] Features: 14/6 -- score: 0.831864406779661[Parallel(n_jobs=1)]: Using backend SequentialBackend with 1 concurrent workers.\n",
      "[Parallel(n_jobs=1)]: Done   1 out of   1 | elapsed:    0.0s remaining:    0.0s\n",
      "[Parallel(n_jobs=1)]: Done  14 out of  14 | elapsed:    0.2s finished\n",
      "\n",
      "[2021-07-15 21:46:06] Features: 13/6 -- score: 0.8285310734463277[Parallel(n_jobs=1)]: Using backend SequentialBackend with 1 concurrent workers.\n",
      "[Parallel(n_jobs=1)]: Done   1 out of   1 | elapsed:    0.0s remaining:    0.0s\n",
      "[Parallel(n_jobs=1)]: Done  13 out of  13 | elapsed:    0.2s finished\n",
      "\n",
      "[2021-07-15 21:46:06] Features: 12/6 -- score: 0.831864406779661[Parallel(n_jobs=1)]: Using backend SequentialBackend with 1 concurrent workers.\n",
      "[Parallel(n_jobs=1)]: Done   1 out of   1 | elapsed:    0.0s remaining:    0.0s\n",
      "[Parallel(n_jobs=1)]: Done  12 out of  12 | elapsed:    0.2s finished\n",
      "\n",
      "[2021-07-15 21:46:06] Features: 11/6 -- score: 0.8353672316384181[Parallel(n_jobs=1)]: Using backend SequentialBackend with 1 concurrent workers.\n",
      "[Parallel(n_jobs=1)]: Done   1 out of   1 | elapsed:    0.0s remaining:    0.0s\n",
      "[Parallel(n_jobs=1)]: Done  11 out of  11 | elapsed:    0.1s finished\n",
      "\n",
      "[2021-07-15 21:46:07] Features: 10/6 -- score: 0.8352542372881355[Parallel(n_jobs=1)]: Using backend SequentialBackend with 1 concurrent workers.\n",
      "[Parallel(n_jobs=1)]: Done   1 out of   1 | elapsed:    0.0s remaining:    0.0s\n",
      "[Parallel(n_jobs=1)]: Done  10 out of  10 | elapsed:    0.1s finished\n",
      "\n",
      "[2021-07-15 21:46:07] Features: 9/6 -- score: 0.8419209039548022[Parallel(n_jobs=1)]: Using backend SequentialBackend with 1 concurrent workers.\n",
      "[Parallel(n_jobs=1)]: Done   1 out of   1 | elapsed:    0.0s remaining:    0.0s\n",
      "[Parallel(n_jobs=1)]: Done   9 out of   9 | elapsed:    0.1s finished\n",
      "\n",
      "[2021-07-15 21:46:07] Features: 8/6 -- score: 0.8419774011299435[Parallel(n_jobs=1)]: Using backend SequentialBackend with 1 concurrent workers.\n",
      "[Parallel(n_jobs=1)]: Done   1 out of   1 | elapsed:    0.0s remaining:    0.0s\n",
      "[Parallel(n_jobs=1)]: Done   8 out of   8 | elapsed:    0.1s finished\n",
      "\n",
      "[2021-07-15 21:46:07] Features: 7/6 -- score: 0.8286440677966102[Parallel(n_jobs=1)]: Using backend SequentialBackend with 1 concurrent workers.\n",
      "[Parallel(n_jobs=1)]: Done   1 out of   1 | elapsed:    0.0s remaining:    0.0s\n",
      "[Parallel(n_jobs=1)]: Done   7 out of   7 | elapsed:    0.0s finished\n",
      "\n",
      "[2021-07-15 21:46:07] Features: 6/6 -- score: 0.8251977401129944"
     ]
    }
   ],
   "source": [
    "sfs1_backward = mlxtend_sfs(gs_result.best_estimator_,\n",
    "           k_features=6,\n",
    "           forward=False,\n",
    "           floating=False,\n",
    "           verbose=2,\n",
    "           scoring='accuracy',\n",
    "           #cv=KFold(N, shuffle=True),\n",
    "           )\n",
    "sfs1_backward = sfs1_backward.fit(mX3, vY)"
   ]
  },
  {
   "cell_type": "code",
   "execution_count": 26,
   "metadata": {},
   "outputs": [
    {
     "output_type": "stream",
     "name": "stdout",
     "text": [
      "0.8251977401129944\n('StDepression', 'NumMajorVessels', 'ChestPainType_typical angina', 'RestECG_left ventricular hypertrophy', 'ExerciseInducedAngina_yes', 'Thalassemia_normal')\n"
     ]
    }
   ],
   "source": [
    "print(sfs1_backward.k_score_)\n",
    "print(sfs1_backward.k_feature_names_)"
   ]
  },
  {
   "cell_type": "code",
   "execution_count": 135,
   "metadata": {},
   "outputs": [
    {
     "output_type": "stream",
     "name": "stdout",
     "text": [
      "['Thalassemia_reversable defect'] 0.7441077441077442\n",
      "['Thalassemia_reversable defect', 'NumMajorVessels'] 0.7676767676767676\n",
      "['Thalassemia_reversable defect', 'NumMajorVessels', 'Sex_male'] 0.7878787878787878\n",
      "['Thalassemia_reversable defect', 'NumMajorVessels', 'Sex_male', 'StSlope_upsloping'] 0.8080808080808081\n",
      "['Thalassemia_normal', 'NumMajorVessels', 'Sex_male', 'StSlope_upsloping', 'Thalassemia_reversable defect'] 0.8215488215488216\n",
      "['Thalassemia_normal', 'NumMajorVessels', 'Sex_male', 'StSlope_upsloping', 'Thalassemia_reversable defect', 'ChestPainType_typical angina'] 0.8451178451178452\n"
     ]
    }
   ],
   "source": [
    "# Try 4 - Old School\n",
    "\n",
    "from sklearn.model_selection import cross_val_predict, KFold\n",
    "from sklearn.metrics import accuracy_score\n",
    "\n",
    "# Initialztion:\n",
    "dfAccuracy = pd.DataFrame(columns=['Feature', 'Accuracy'])\n",
    "reduced_feature_list = []\n",
    "feature_list_for_prediction = mX3.columns\n",
    "\n",
    "while len(reduced_feature_list) != n_features:\n",
    "    dfAccuracy = dfAccuracy.iloc[0:0]\n",
    "    for index, col in enumerate(feature_list_for_prediction):\n",
    "        current_cols = [col] + reduced_feature_list\n",
    "        y_pred = cross_val_predict(gs_result.best_estimator_, mX3[current_cols], vY)\n",
    "        dfAccuracy.loc[index] =[col, accuracy_score(vY, y_pred)]\n",
    "    print(current_cols, dfAccuracy.Accuracy.max())\n",
    "    max_feature = dfAccuracy.Feature.iloc[dfAccuracy.Accuracy.idxmax()]\n",
    "    feature_list_for_prediction = feature_list_for_prediction.drop(max_feature)\n",
    "    reduced_feature_list.append(max_feature)\n",
    "    \n"
   ]
  },
  {
   "cell_type": "code",
   "execution_count": 132,
   "metadata": {},
   "outputs": [
    {
     "output_type": "execute_result",
     "data": {
      "text/plain": [
       "     ExerciseInducedAngina_yes  StDepression  NumMajorVessels  \\\n",
       "0                    -0.695246     -0.819430         0.344243   \n",
       "1                    -0.695246      0.638393         1.409246   \n",
       "2                    -0.695246      1.324427        -0.720760   \n",
       "3                    -0.695246      0.295376         0.344243   \n",
       "4                     1.433497      0.638393        -0.720760   \n",
       "..                         ...           ...              ...   \n",
       "292                  -0.695246     -0.905184        -0.720760   \n",
       "293                  -0.695246      0.123867        -0.720760   \n",
       "294                   1.433497      0.466884        -0.720760   \n",
       "295                  -0.695246      0.295376        -0.720760   \n",
       "296                   1.433497     -0.905184        -0.720760   \n",
       "\n",
       "     Thalassemia_normal  MaxHeartRateAchieved  Cholesterol  \n",
       "0              0.899025             -0.810726    -0.256746  \n",
       "1              0.899025              0.061054    -0.160588  \n",
       "2              0.899025             -1.551739    -0.410599  \n",
       "3              0.899025              1.063601     0.666374  \n",
       "4              0.899025             -0.244069    -0.699074  \n",
       "..                  ...                   ...          ...  \n",
       "292           -1.108572              1.368724    -0.468294  \n",
       "293           -1.108572             -0.418425    -0.545221  \n",
       "294           -1.108572             -0.854315    -0.949086  \n",
       "295            0.899025              1.412313    -1.237561  \n",
       "296           -1.108572              0.278999     0.666374  \n",
       "\n",
       "[297 rows x 6 columns]"
      ],
      "text/html": "<div>\n<style scoped>\n    .dataframe tbody tr th:only-of-type {\n        vertical-align: middle;\n    }\n\n    .dataframe tbody tr th {\n        vertical-align: top;\n    }\n\n    .dataframe thead th {\n        text-align: right;\n    }\n</style>\n<table border=\"1\" class=\"dataframe\">\n  <thead>\n    <tr style=\"text-align: right;\">\n      <th></th>\n      <th>ExerciseInducedAngina_yes</th>\n      <th>StDepression</th>\n      <th>NumMajorVessels</th>\n      <th>Thalassemia_normal</th>\n      <th>MaxHeartRateAchieved</th>\n      <th>Cholesterol</th>\n    </tr>\n  </thead>\n  <tbody>\n    <tr>\n      <th>0</th>\n      <td>-0.695246</td>\n      <td>-0.819430</td>\n      <td>0.344243</td>\n      <td>0.899025</td>\n      <td>-0.810726</td>\n      <td>-0.256746</td>\n    </tr>\n    <tr>\n      <th>1</th>\n      <td>-0.695246</td>\n      <td>0.638393</td>\n      <td>1.409246</td>\n      <td>0.899025</td>\n      <td>0.061054</td>\n      <td>-0.160588</td>\n    </tr>\n    <tr>\n      <th>2</th>\n      <td>-0.695246</td>\n      <td>1.324427</td>\n      <td>-0.720760</td>\n      <td>0.899025</td>\n      <td>-1.551739</td>\n      <td>-0.410599</td>\n    </tr>\n    <tr>\n      <th>3</th>\n      <td>-0.695246</td>\n      <td>0.295376</td>\n      <td>0.344243</td>\n      <td>0.899025</td>\n      <td>1.063601</td>\n      <td>0.666374</td>\n    </tr>\n    <tr>\n      <th>4</th>\n      <td>1.433497</td>\n      <td>0.638393</td>\n      <td>-0.720760</td>\n      <td>0.899025</td>\n      <td>-0.244069</td>\n      <td>-0.699074</td>\n    </tr>\n    <tr>\n      <th>...</th>\n      <td>...</td>\n      <td>...</td>\n      <td>...</td>\n      <td>...</td>\n      <td>...</td>\n      <td>...</td>\n    </tr>\n    <tr>\n      <th>292</th>\n      <td>-0.695246</td>\n      <td>-0.905184</td>\n      <td>-0.720760</td>\n      <td>-1.108572</td>\n      <td>1.368724</td>\n      <td>-0.468294</td>\n    </tr>\n    <tr>\n      <th>293</th>\n      <td>-0.695246</td>\n      <td>0.123867</td>\n      <td>-0.720760</td>\n      <td>-1.108572</td>\n      <td>-0.418425</td>\n      <td>-0.545221</td>\n    </tr>\n    <tr>\n      <th>294</th>\n      <td>1.433497</td>\n      <td>0.466884</td>\n      <td>-0.720760</td>\n      <td>-1.108572</td>\n      <td>-0.854315</td>\n      <td>-0.949086</td>\n    </tr>\n    <tr>\n      <th>295</th>\n      <td>-0.695246</td>\n      <td>0.295376</td>\n      <td>-0.720760</td>\n      <td>0.899025</td>\n      <td>1.412313</td>\n      <td>-1.237561</td>\n    </tr>\n    <tr>\n      <th>296</th>\n      <td>1.433497</td>\n      <td>-0.905184</td>\n      <td>-0.720760</td>\n      <td>-1.108572</td>\n      <td>0.278999</td>\n      <td>0.666374</td>\n    </tr>\n  </tbody>\n</table>\n<p>297 rows × 6 columns</p>\n</div>"
     },
     "metadata": {},
     "execution_count": 132
    }
   ],
   "source": []
  },
  {
   "cell_type": "code",
   "execution_count": 29,
   "metadata": {},
   "outputs": [
    {
     "output_type": "execute_result",
     "data": {
      "text/plain": [
       "Index(['Age', 'RestingBloodPressure', 'Cholesterol', 'MaxHeartRateAchieved',\n",
       "       'StDepression', 'NumMajorVessels', 'Sex_male',\n",
       "       'ChestPainType_atypical angina', 'ChestPainType_non-anginal pain',\n",
       "       'ChestPainType_typical angina', 'FastingBloodSugar_lower than 120mg/ml',\n",
       "       'RestECG_left ventricular hypertrophy', 'RestECG_normal',\n",
       "       'ExerciseInducedAngina_yes', 'StSlope_flat', 'StSlope_upsloping',\n",
       "       'Thalassemia_normal', 'Thalassemia_reversable defect',\n",
       "       'Target_no heart disease'],\n",
       "      dtype='object')"
      ]
     },
     "metadata": {},
     "execution_count": 29
    }
   ],
   "source": [
    "dData3.columns"
   ]
  },
  {
   "cell_type": "code",
   "execution_count": 37,
   "metadata": {},
   "outputs": [
    {
     "output_type": "execute_result",
     "data": {
      "text/plain": [
       "     Age  RestingBloodPressure  Cholesterol  MaxHeartRateAchieved  \\\n",
       "0     69                   160          234                   131   \n",
       "1     69                   140          239                   151   \n",
       "2     66                   150          226                   114   \n",
       "3     65                   138          282                   174   \n",
       "4     64                   110          211                   144   \n",
       "..   ...                   ...          ...                   ...   \n",
       "292   40                   152          223                   181   \n",
       "293   39                   118          219                   140   \n",
       "294   35                   120          198                   130   \n",
       "295   35                   138          183                   182   \n",
       "296   35                   126          282                   156   \n",
       "\n",
       "     StDepression  NumMajorVessels  Sex_male  ChestPainType_atypical angina  \\\n",
       "0             0.1                1         1                              0   \n",
       "1             1.8                2         0                              0   \n",
       "2             2.6                0         0                              0   \n",
       "3             1.4                1         1                              0   \n",
       "4             1.8                0         1                              0   \n",
       "..            ...              ...       ...                            ...   \n",
       "292           0.0                0         1                              0   \n",
       "293           1.2                0         1                              0   \n",
       "294           1.6                0         1                              0   \n",
       "295           1.4                0         0                              0   \n",
       "296           0.0                0         1                              0   \n",
       "\n",
       "     ChestPainType_non-anginal pain  ChestPainType_typical angina  \\\n",
       "0                                 0                             0   \n",
       "1                                 0                             0   \n",
       "2                                 0                             0   \n",
       "3                                 0                             0   \n",
       "4                                 0                             0   \n",
       "..                              ...                           ...   \n",
       "292                               0                             1   \n",
       "293                               0                             1   \n",
       "294                               0                             1   \n",
       "295                               0                             1   \n",
       "296                               0                             1   \n",
       "\n",
       "     FastingBloodSugar_lower than 120mg/ml  \\\n",
       "0                                        0   \n",
       "1                                        1   \n",
       "2                                        1   \n",
       "3                                        0   \n",
       "4                                        1   \n",
       "..                                     ...   \n",
       "292                                      1   \n",
       "293                                      1   \n",
       "294                                      1   \n",
       "295                                      1   \n",
       "296                                      1   \n",
       "\n",
       "     RestECG_left ventricular hypertrophy  RestECG_normal  \\\n",
       "0                                       1               0   \n",
       "1                                       0               1   \n",
       "2                                       0               1   \n",
       "3                                       1               0   \n",
       "4                                       1               0   \n",
       "..                                    ...             ...   \n",
       "292                                     0               1   \n",
       "293                                     0               1   \n",
       "294                                     0               1   \n",
       "295                                     0               1   \n",
       "296                                     1               0   \n",
       "\n",
       "     ExerciseInducedAngina_yes  StSlope_flat  StSlope_upsloping  \\\n",
       "0                            0             1                  0   \n",
       "1                            0             0                  1   \n",
       "2                            0             0                  0   \n",
       "3                            0             1                  0   \n",
       "4                            1             1                  0   \n",
       "..                         ...           ...                ...   \n",
       "292                          0             0                  1   \n",
       "293                          0             1                  0   \n",
       "294                          1             1                  0   \n",
       "295                          0             0                  1   \n",
       "296                          1             0                  1   \n",
       "\n",
       "     Thalassemia_normal  Thalassemia_reversable defect  \\\n",
       "0                     1                              0   \n",
       "1                     1                              0   \n",
       "2                     1                              0   \n",
       "3                     1                              0   \n",
       "4                     1                              0   \n",
       "..                  ...                            ...   \n",
       "292                   0                              1   \n",
       "293                   0                              1   \n",
       "294                   0                              1   \n",
       "295                   1                              0   \n",
       "296                   0                              1   \n",
       "\n",
       "     Target_no heart disease  \n",
       "0                          1  \n",
       "1                          1  \n",
       "2                          1  \n",
       "3                          0  \n",
       "4                          1  \n",
       "..                       ...  \n",
       "292                        0  \n",
       "293                        0  \n",
       "294                        0  \n",
       "295                        1  \n",
       "296                        0  \n",
       "\n",
       "[297 rows x 19 columns]"
      ],
      "text/html": "<div>\n<style scoped>\n    .dataframe tbody tr th:only-of-type {\n        vertical-align: middle;\n    }\n\n    .dataframe tbody tr th {\n        vertical-align: top;\n    }\n\n    .dataframe thead th {\n        text-align: right;\n    }\n</style>\n<table border=\"1\" class=\"dataframe\">\n  <thead>\n    <tr style=\"text-align: right;\">\n      <th></th>\n      <th>Age</th>\n      <th>RestingBloodPressure</th>\n      <th>Cholesterol</th>\n      <th>MaxHeartRateAchieved</th>\n      <th>StDepression</th>\n      <th>NumMajorVessels</th>\n      <th>Sex_male</th>\n      <th>ChestPainType_atypical angina</th>\n      <th>ChestPainType_non-anginal pain</th>\n      <th>ChestPainType_typical angina</th>\n      <th>FastingBloodSugar_lower than 120mg/ml</th>\n      <th>RestECG_left ventricular hypertrophy</th>\n      <th>RestECG_normal</th>\n      <th>ExerciseInducedAngina_yes</th>\n      <th>StSlope_flat</th>\n      <th>StSlope_upsloping</th>\n      <th>Thalassemia_normal</th>\n      <th>Thalassemia_reversable defect</th>\n      <th>Target_no heart disease</th>\n    </tr>\n  </thead>\n  <tbody>\n    <tr>\n      <th>0</th>\n      <td>69</td>\n      <td>160</td>\n      <td>234</td>\n      <td>131</td>\n      <td>0.1</td>\n      <td>1</td>\n      <td>1</td>\n      <td>0</td>\n      <td>0</td>\n      <td>0</td>\n      <td>0</td>\n      <td>1</td>\n      <td>0</td>\n      <td>0</td>\n      <td>1</td>\n      <td>0</td>\n      <td>1</td>\n      <td>0</td>\n      <td>1</td>\n    </tr>\n    <tr>\n      <th>1</th>\n      <td>69</td>\n      <td>140</td>\n      <td>239</td>\n      <td>151</td>\n      <td>1.8</td>\n      <td>2</td>\n      <td>0</td>\n      <td>0</td>\n      <td>0</td>\n      <td>0</td>\n      <td>1</td>\n      <td>0</td>\n      <td>1</td>\n      <td>0</td>\n      <td>0</td>\n      <td>1</td>\n      <td>1</td>\n      <td>0</td>\n      <td>1</td>\n    </tr>\n    <tr>\n      <th>2</th>\n      <td>66</td>\n      <td>150</td>\n      <td>226</td>\n      <td>114</td>\n      <td>2.6</td>\n      <td>0</td>\n      <td>0</td>\n      <td>0</td>\n      <td>0</td>\n      <td>0</td>\n      <td>1</td>\n      <td>0</td>\n      <td>1</td>\n      <td>0</td>\n      <td>0</td>\n      <td>0</td>\n      <td>1</td>\n      <td>0</td>\n      <td>1</td>\n    </tr>\n    <tr>\n      <th>3</th>\n      <td>65</td>\n      <td>138</td>\n      <td>282</td>\n      <td>174</td>\n      <td>1.4</td>\n      <td>1</td>\n      <td>1</td>\n      <td>0</td>\n      <td>0</td>\n      <td>0</td>\n      <td>0</td>\n      <td>1</td>\n      <td>0</td>\n      <td>0</td>\n      <td>1</td>\n      <td>0</td>\n      <td>1</td>\n      <td>0</td>\n      <td>0</td>\n    </tr>\n    <tr>\n      <th>4</th>\n      <td>64</td>\n      <td>110</td>\n      <td>211</td>\n      <td>144</td>\n      <td>1.8</td>\n      <td>0</td>\n      <td>1</td>\n      <td>0</td>\n      <td>0</td>\n      <td>0</td>\n      <td>1</td>\n      <td>1</td>\n      <td>0</td>\n      <td>1</td>\n      <td>1</td>\n      <td>0</td>\n      <td>1</td>\n      <td>0</td>\n      <td>1</td>\n    </tr>\n    <tr>\n      <th>...</th>\n      <td>...</td>\n      <td>...</td>\n      <td>...</td>\n      <td>...</td>\n      <td>...</td>\n      <td>...</td>\n      <td>...</td>\n      <td>...</td>\n      <td>...</td>\n      <td>...</td>\n      <td>...</td>\n      <td>...</td>\n      <td>...</td>\n      <td>...</td>\n      <td>...</td>\n      <td>...</td>\n      <td>...</td>\n      <td>...</td>\n      <td>...</td>\n    </tr>\n    <tr>\n      <th>292</th>\n      <td>40</td>\n      <td>152</td>\n      <td>223</td>\n      <td>181</td>\n      <td>0.0</td>\n      <td>0</td>\n      <td>1</td>\n      <td>0</td>\n      <td>0</td>\n      <td>1</td>\n      <td>1</td>\n      <td>0</td>\n      <td>1</td>\n      <td>0</td>\n      <td>0</td>\n      <td>1</td>\n      <td>0</td>\n      <td>1</td>\n      <td>0</td>\n    </tr>\n    <tr>\n      <th>293</th>\n      <td>39</td>\n      <td>118</td>\n      <td>219</td>\n      <td>140</td>\n      <td>1.2</td>\n      <td>0</td>\n      <td>1</td>\n      <td>0</td>\n      <td>0</td>\n      <td>1</td>\n      <td>1</td>\n      <td>0</td>\n      <td>1</td>\n      <td>0</td>\n      <td>1</td>\n      <td>0</td>\n      <td>0</td>\n      <td>1</td>\n      <td>0</td>\n    </tr>\n    <tr>\n      <th>294</th>\n      <td>35</td>\n      <td>120</td>\n      <td>198</td>\n      <td>130</td>\n      <td>1.6</td>\n      <td>0</td>\n      <td>1</td>\n      <td>0</td>\n      <td>0</td>\n      <td>1</td>\n      <td>1</td>\n      <td>0</td>\n      <td>1</td>\n      <td>1</td>\n      <td>1</td>\n      <td>0</td>\n      <td>0</td>\n      <td>1</td>\n      <td>0</td>\n    </tr>\n    <tr>\n      <th>295</th>\n      <td>35</td>\n      <td>138</td>\n      <td>183</td>\n      <td>182</td>\n      <td>1.4</td>\n      <td>0</td>\n      <td>0</td>\n      <td>0</td>\n      <td>0</td>\n      <td>1</td>\n      <td>1</td>\n      <td>0</td>\n      <td>1</td>\n      <td>0</td>\n      <td>0</td>\n      <td>1</td>\n      <td>1</td>\n      <td>0</td>\n      <td>1</td>\n    </tr>\n    <tr>\n      <th>296</th>\n      <td>35</td>\n      <td>126</td>\n      <td>282</td>\n      <td>156</td>\n      <td>0.0</td>\n      <td>0</td>\n      <td>1</td>\n      <td>0</td>\n      <td>0</td>\n      <td>1</td>\n      <td>1</td>\n      <td>1</td>\n      <td>0</td>\n      <td>1</td>\n      <td>0</td>\n      <td>1</td>\n      <td>0</td>\n      <td>1</td>\n      <td>0</td>\n    </tr>\n  </tbody>\n</table>\n<p>297 rows × 19 columns</p>\n</div>"
     },
     "metadata": {},
     "execution_count": 37
    }
   ],
   "source": [
    "dData3"
   ]
  },
  {
   "cell_type": "code",
   "execution_count": 30,
   "metadata": {},
   "outputs": [
    {
     "output_type": "execute_result",
     "data": {
      "text/plain": [
       "['StDepression',\n",
       " 'NumMajorVessels',\n",
       " 'ChestPainType_typical angina',\n",
       " 'RestECG_left ventricular hypertrophy',\n",
       " 'ExerciseInducedAngina_yes',\n",
       " 'Thalassemia_normal']"
      ]
     },
     "metadata": {},
     "execution_count": 30
    }
   ],
   "source": [
    "list(sfs1_backward.k_feature_names_)"
   ]
  },
  {
   "cell_type": "code",
   "execution_count": 32,
   "metadata": {},
   "outputs": [
    {
     "output_type": "execute_result",
     "data": {
      "text/plain": [
       "     StDepression  NumMajorVessels  ChestPainType_typical angina  \\\n",
       "0             0.1                1                             0   \n",
       "1             1.8                2                             0   \n",
       "2             2.6                0                             0   \n",
       "3             1.4                1                             0   \n",
       "4             1.8                0                             0   \n",
       "..            ...              ...                           ...   \n",
       "292           0.0                0                             1   \n",
       "293           1.2                0                             1   \n",
       "294           1.6                0                             1   \n",
       "295           1.4                0                             1   \n",
       "296           0.0                0                             1   \n",
       "\n",
       "     RestECG_left ventricular hypertrophy  ExerciseInducedAngina_yes  \\\n",
       "0                                       1                          0   \n",
       "1                                       0                          0   \n",
       "2                                       0                          0   \n",
       "3                                       1                          0   \n",
       "4                                       1                          1   \n",
       "..                                    ...                        ...   \n",
       "292                                     0                          0   \n",
       "293                                     0                          0   \n",
       "294                                     0                          1   \n",
       "295                                     0                          0   \n",
       "296                                     1                          1   \n",
       "\n",
       "     Thalassemia_normal  \n",
       "0                     1  \n",
       "1                     1  \n",
       "2                     1  \n",
       "3                     1  \n",
       "4                     1  \n",
       "..                  ...  \n",
       "292                   0  \n",
       "293                   0  \n",
       "294                   0  \n",
       "295                   1  \n",
       "296                   0  \n",
       "\n",
       "[297 rows x 6 columns]"
      ],
      "text/html": "<div>\n<style scoped>\n    .dataframe tbody tr th:only-of-type {\n        vertical-align: middle;\n    }\n\n    .dataframe tbody tr th {\n        vertical-align: top;\n    }\n\n    .dataframe thead th {\n        text-align: right;\n    }\n</style>\n<table border=\"1\" class=\"dataframe\">\n  <thead>\n    <tr style=\"text-align: right;\">\n      <th></th>\n      <th>StDepression</th>\n      <th>NumMajorVessels</th>\n      <th>ChestPainType_typical angina</th>\n      <th>RestECG_left ventricular hypertrophy</th>\n      <th>ExerciseInducedAngina_yes</th>\n      <th>Thalassemia_normal</th>\n    </tr>\n  </thead>\n  <tbody>\n    <tr>\n      <th>0</th>\n      <td>0.1</td>\n      <td>1</td>\n      <td>0</td>\n      <td>1</td>\n      <td>0</td>\n      <td>1</td>\n    </tr>\n    <tr>\n      <th>1</th>\n      <td>1.8</td>\n      <td>2</td>\n      <td>0</td>\n      <td>0</td>\n      <td>0</td>\n      <td>1</td>\n    </tr>\n    <tr>\n      <th>2</th>\n      <td>2.6</td>\n      <td>0</td>\n      <td>0</td>\n      <td>0</td>\n      <td>0</td>\n      <td>1</td>\n    </tr>\n    <tr>\n      <th>3</th>\n      <td>1.4</td>\n      <td>1</td>\n      <td>0</td>\n      <td>1</td>\n      <td>0</td>\n      <td>1</td>\n    </tr>\n    <tr>\n      <th>4</th>\n      <td>1.8</td>\n      <td>0</td>\n      <td>0</td>\n      <td>1</td>\n      <td>1</td>\n      <td>1</td>\n    </tr>\n    <tr>\n      <th>...</th>\n      <td>...</td>\n      <td>...</td>\n      <td>...</td>\n      <td>...</td>\n      <td>...</td>\n      <td>...</td>\n    </tr>\n    <tr>\n      <th>292</th>\n      <td>0.0</td>\n      <td>0</td>\n      <td>1</td>\n      <td>0</td>\n      <td>0</td>\n      <td>0</td>\n    </tr>\n    <tr>\n      <th>293</th>\n      <td>1.2</td>\n      <td>0</td>\n      <td>1</td>\n      <td>0</td>\n      <td>0</td>\n      <td>0</td>\n    </tr>\n    <tr>\n      <th>294</th>\n      <td>1.6</td>\n      <td>0</td>\n      <td>1</td>\n      <td>0</td>\n      <td>1</td>\n      <td>0</td>\n    </tr>\n    <tr>\n      <th>295</th>\n      <td>1.4</td>\n      <td>0</td>\n      <td>1</td>\n      <td>0</td>\n      <td>0</td>\n      <td>1</td>\n    </tr>\n    <tr>\n      <th>296</th>\n      <td>0.0</td>\n      <td>0</td>\n      <td>1</td>\n      <td>1</td>\n      <td>1</td>\n      <td>0</td>\n    </tr>\n  </tbody>\n</table>\n<p>297 rows × 6 columns</p>\n</div>"
     },
     "metadata": {},
     "execution_count": 32
    }
   ],
   "source": [
    "#-- Choose 6 features\n",
    "lCol   = list(sfs1_backward.k_feature_names_)\n",
    "dData4 = dData3[lCol]\n",
    "dData4"
   ]
  },
  {
   "cell_type": "code",
   "execution_count": null,
   "metadata": {},
   "outputs": [],
   "source": []
  },
  {
   "cell_type": "code",
   "execution_count": null,
   "metadata": {},
   "outputs": [],
   "source": []
  },
  {
   "cell_type": "code",
   "execution_count": null,
   "metadata": {},
   "outputs": [],
   "source": []
  },
  {
   "cell_type": "code",
   "execution_count": null,
   "metadata": {},
   "outputs": [],
   "source": []
  },
  {
   "cell_type": "code",
   "execution_count": null,
   "metadata": {},
   "outputs": [],
   "source": []
  },
  {
   "cell_type": "code",
   "execution_count": 32,
   "metadata": {},
   "outputs": [
    {
     "output_type": "execute_result",
     "data": {
      "text/plain": [
       "(297, 18)"
      ]
     },
     "metadata": {},
     "execution_count": 32
    }
   ],
   "source": [
    "mX3  = dData3.drop(columns='Target_no heart disease')\n",
    "mX3 -= mX3.mean(0)\n",
    "mX3 /= mX3.std(0)\n",
    "mX3.shape"
   ]
  },
  {
   "cell_type": "markdown",
   "metadata": {},
   "source": [
    "### ELI5 (Explain Like I'm Five):\n",
    "https://eli5.readthedocs.io/en/latest/index.html"
   ]
  },
  {
   "cell_type": "code",
   "execution_count": 23,
   "metadata": {},
   "outputs": [
    {
     "data": {
      "text/html": [
       "\n",
       "    <style>\n",
       "    table.eli5-weights tr:hover {\n",
       "        filter: brightness(85%);\n",
       "    }\n",
       "</style>\n",
       "\n",
       "\n",
       "\n",
       "    \n",
       "\n",
       "    \n",
       "\n",
       "    \n",
       "\n",
       "    \n",
       "\n",
       "    \n",
       "\n",
       "    \n",
       "\n",
       "\n",
       "    \n",
       "\n",
       "    \n",
       "\n",
       "    \n",
       "\n",
       "    \n",
       "        \n",
       "\n",
       "    \n",
       "\n",
       "        \n",
       "            \n",
       "                \n",
       "                \n",
       "    \n",
       "        <p style=\"margin-bottom: 0.5em; margin-top: 0em\">\n",
       "            <b>\n",
       "    \n",
       "        y=hearth disease\n",
       "    \n",
       "</b>\n",
       "\n",
       "top features\n",
       "        </p>\n",
       "    \n",
       "    <table class=\"eli5-weights\"\n",
       "           style=\"border-collapse: collapse; border: none; margin-top: 0em; table-layout: auto; margin-bottom: 2em;\">\n",
       "        <thead>\n",
       "        <tr style=\"border: none;\">\n",
       "            \n",
       "                <th style=\"padding: 0 1em 0 0.5em; text-align: right; border: none;\" title=\"Feature weights. Note that weights do not account for feature value scales, so if feature values have different scales, features with highest weights might not be the most important.\">\n",
       "                    Weight<sup>?</sup>\n",
       "                </th>\n",
       "            \n",
       "            <th style=\"padding: 0 0.5em 0 0.5em; text-align: left; border: none;\">Feature</th>\n",
       "            \n",
       "        </tr>\n",
       "        </thead>\n",
       "        <tbody>\n",
       "        \n",
       "            <tr style=\"background-color: hsl(120, 100.00%, 80.00%); border: none;\">\n",
       "    <td style=\"padding: 0 1em 0 0.5em; text-align: right; border: none;\">\n",
       "        +0.954\n",
       "    </td>\n",
       "    <td style=\"padding: 0 0.5em 0 0.5em; text-align: left; border: none;\">\n",
       "        NumMajorVessels\n",
       "    </td>\n",
       "    \n",
       "</tr>\n",
       "        \n",
       "            <tr style=\"background-color: hsl(120, 100.00%, 82.26%); border: none;\">\n",
       "    <td style=\"padding: 0 1em 0 0.5em; text-align: right; border: none;\">\n",
       "        +0.804\n",
       "    </td>\n",
       "    <td style=\"padding: 0 0.5em 0 0.5em; text-align: left; border: none;\">\n",
       "        ChestPainType_typical angina\n",
       "    </td>\n",
       "    \n",
       "</tr>\n",
       "        \n",
       "            <tr style=\"background-color: hsl(120, 100.00%, 87.75%); border: none;\">\n",
       "    <td style=\"padding: 0 1em 0 0.5em; text-align: right; border: none;\">\n",
       "        +0.473\n",
       "    </td>\n",
       "    <td style=\"padding: 0 0.5em 0 0.5em; text-align: left; border: none;\">\n",
       "        Sex_male\n",
       "    </td>\n",
       "    \n",
       "</tr>\n",
       "        \n",
       "            <tr style=\"background-color: hsl(120, 100.00%, 88.61%); border: none;\">\n",
       "    <td style=\"padding: 0 1em 0 0.5em; text-align: right; border: none;\">\n",
       "        +0.427\n",
       "    </td>\n",
       "    <td style=\"padding: 0 0.5em 0 0.5em; text-align: left; border: none;\">\n",
       "        ChestPainType_atypical angina\n",
       "    </td>\n",
       "    \n",
       "</tr>\n",
       "        \n",
       "            <tr style=\"background-color: hsl(120, 100.00%, 90.66%); border: none;\">\n",
       "    <td style=\"padding: 0 1em 0 0.5em; text-align: right; border: none;\">\n",
       "        +0.321\n",
       "    </td>\n",
       "    <td style=\"padding: 0 0.5em 0 0.5em; text-align: left; border: none;\">\n",
       "        StDepression\n",
       "    </td>\n",
       "    \n",
       "</tr>\n",
       "        \n",
       "            <tr style=\"background-color: hsl(120, 100.00%, 90.83%); border: none;\">\n",
       "    <td style=\"padding: 0 1em 0 0.5em; text-align: right; border: none;\">\n",
       "        +0.313\n",
       "    </td>\n",
       "    <td style=\"padding: 0 0.5em 0 0.5em; text-align: left; border: none;\">\n",
       "        RestingBloodPressure\n",
       "    </td>\n",
       "    \n",
       "</tr>\n",
       "        \n",
       "            <tr style=\"background-color: hsl(120, 100.00%, 91.08%); border: none;\">\n",
       "    <td style=\"padding: 0 1em 0 0.5em; text-align: right; border: none;\">\n",
       "        +0.301\n",
       "    </td>\n",
       "    <td style=\"padding: 0 0.5em 0 0.5em; text-align: left; border: none;\">\n",
       "        Thalassemia_reversable defect\n",
       "    </td>\n",
       "    \n",
       "</tr>\n",
       "        \n",
       "            <tr style=\"background-color: hsl(120, 100.00%, 92.06%); border: none;\">\n",
       "    <td style=\"padding: 0 1em 0 0.5em; text-align: right; border: none;\">\n",
       "        +0.255\n",
       "    </td>\n",
       "    <td style=\"padding: 0 0.5em 0 0.5em; text-align: left; border: none;\">\n",
       "        StSlope_flat\n",
       "    </td>\n",
       "    \n",
       "</tr>\n",
       "        \n",
       "            <tr style=\"background-color: hsl(120, 100.00%, 92.11%); border: none;\">\n",
       "    <td style=\"padding: 0 1em 0 0.5em; text-align: right; border: none;\">\n",
       "        +0.253\n",
       "    </td>\n",
       "    <td style=\"padding: 0 0.5em 0 0.5em; text-align: left; border: none;\">\n",
       "        ExerciseInducedAngina_yes\n",
       "    </td>\n",
       "    \n",
       "</tr>\n",
       "        \n",
       "            <tr style=\"background-color: hsl(120, 100.00%, 92.55%); border: none;\">\n",
       "    <td style=\"padding: 0 1em 0 0.5em; text-align: right; border: none;\">\n",
       "        +0.233\n",
       "    </td>\n",
       "    <td style=\"padding: 0 0.5em 0 0.5em; text-align: left; border: none;\">\n",
       "        FastingBloodSugar_lower than 120mg/ml\n",
       "    </td>\n",
       "    \n",
       "</tr>\n",
       "        \n",
       "            <tr style=\"background-color: hsl(120, 100.00%, 92.78%); border: none;\">\n",
       "    <td style=\"padding: 0 1em 0 0.5em; text-align: right; border: none;\">\n",
       "        +0.223\n",
       "    </td>\n",
       "    <td style=\"padding: 0 0.5em 0 0.5em; text-align: left; border: none;\">\n",
       "        ChestPainType_non-anginal pain\n",
       "    </td>\n",
       "    \n",
       "</tr>\n",
       "        \n",
       "            <tr style=\"background-color: hsl(120, 100.00%, 97.02%); border: none;\">\n",
       "    <td style=\"padding: 0 1em 0 0.5em; text-align: right; border: none;\">\n",
       "        +0.063\n",
       "    </td>\n",
       "    <td style=\"padding: 0 0.5em 0 0.5em; text-align: left; border: none;\">\n",
       "        Cholesterol\n",
       "    </td>\n",
       "    \n",
       "</tr>\n",
       "        \n",
       "            <tr style=\"background-color: hsl(120, 100.00%, 98.21%); border: none;\">\n",
       "    <td style=\"padding: 0 1em 0 0.5em; text-align: right; border: none;\">\n",
       "        +0.030\n",
       "    </td>\n",
       "    <td style=\"padding: 0 0.5em 0 0.5em; text-align: left; border: none;\">\n",
       "        RestECG_left ventricular hypertrophy\n",
       "    </td>\n",
       "    \n",
       "</tr>\n",
       "        \n",
       "        \n",
       "\n",
       "        \n",
       "        \n",
       "            <tr style=\"background-color: hsl(0, 100.00%, 98.40%); border: none;\">\n",
       "    <td style=\"padding: 0 1em 0 0.5em; text-align: right; border: none;\">\n",
       "        -0.026\n",
       "    </td>\n",
       "    <td style=\"padding: 0 0.5em 0 0.5em; text-align: left; border: none;\">\n",
       "        &lt;BIAS&gt;\n",
       "    </td>\n",
       "    \n",
       "</tr>\n",
       "        \n",
       "            <tr style=\"background-color: hsl(0, 100.00%, 98.21%); border: none;\">\n",
       "    <td style=\"padding: 0 1em 0 0.5em; text-align: right; border: none;\">\n",
       "        -0.030\n",
       "    </td>\n",
       "    <td style=\"padding: 0 0.5em 0 0.5em; text-align: left; border: none;\">\n",
       "        RestECG_normal\n",
       "    </td>\n",
       "    \n",
       "</tr>\n",
       "        \n",
       "            <tr style=\"background-color: hsl(0, 100.00%, 96.32%); border: none;\">\n",
       "    <td style=\"padding: 0 1em 0 0.5em; text-align: right; border: none;\">\n",
       "        -0.085\n",
       "    </td>\n",
       "    <td style=\"padding: 0 0.5em 0 0.5em; text-align: left; border: none;\">\n",
       "        Age\n",
       "    </td>\n",
       "    \n",
       "</tr>\n",
       "        \n",
       "            <tr style=\"background-color: hsl(0, 100.00%, 92.07%); border: none;\">\n",
       "    <td style=\"padding: 0 1em 0 0.5em; text-align: right; border: none;\">\n",
       "        -0.255\n",
       "    </td>\n",
       "    <td style=\"padding: 0 0.5em 0 0.5em; text-align: left; border: none;\">\n",
       "        StSlope_upsloping\n",
       "    </td>\n",
       "    \n",
       "</tr>\n",
       "        \n",
       "            <tr style=\"background-color: hsl(0, 100.00%, 91.20%); border: none;\">\n",
       "    <td style=\"padding: 0 1em 0 0.5em; text-align: right; border: none;\">\n",
       "        -0.295\n",
       "    </td>\n",
       "    <td style=\"padding: 0 0.5em 0 0.5em; text-align: left; border: none;\">\n",
       "        Thalassemia_normal\n",
       "    </td>\n",
       "    \n",
       "</tr>\n",
       "        \n",
       "            <tr style=\"background-color: hsl(0, 100.00%, 90.33%); border: none;\">\n",
       "    <td style=\"padding: 0 1em 0 0.5em; text-align: right; border: none;\">\n",
       "        -0.338\n",
       "    </td>\n",
       "    <td style=\"padding: 0 0.5em 0 0.5em; text-align: left; border: none;\">\n",
       "        MaxHeartRateAchieved\n",
       "    </td>\n",
       "    \n",
       "</tr>\n",
       "        \n",
       "\n",
       "        </tbody>\n",
       "    </table>\n",
       "\n",
       "            \n",
       "        \n",
       "\n",
       "        \n",
       "\n",
       "\n",
       "\n",
       "    \n",
       "\n",
       "    \n",
       "\n",
       "    \n",
       "\n",
       "    \n",
       "\n",
       "\n",
       "    \n",
       "\n",
       "    \n",
       "\n",
       "    \n",
       "\n",
       "    \n",
       "\n",
       "    \n",
       "\n",
       "    \n",
       "\n",
       "\n",
       "    \n",
       "\n",
       "    \n",
       "\n",
       "    \n",
       "\n",
       "    \n",
       "\n",
       "    \n",
       "\n",
       "    \n",
       "\n",
       "\n",
       "\n"
      ],
      "text/plain": [
       "<IPython.core.display.HTML object>"
      ]
     },
     "execution_count": 23,
     "metadata": {},
     "output_type": "execute_result"
    }
   ],
   "source": [
    "import eli5\n",
    "\n",
    "oLinearSVM = SVC(kernel='linear', C=3).fit(mX3, vY)\n",
    "eli5.show_weights(oLinearSVM, feature_names=dData3.columns[:-1].tolist(), target_names=['no hearth disease', 'hearth disease'])"
   ]
  },
  {
   "cell_type": "markdown",
   "metadata": {},
   "source": [
    "### Grid Search:"
   ]
  },
  {
   "cell_type": "code",
   "execution_count": 35,
   "metadata": {},
   "outputs": [
    {
     "name": "stdout",
     "output_type": "stream",
     "text": [
      "Linear best parameters CV score = 0.8518518518518519\n",
      "{'C': 3.0069999999999997, 'kernel': 'linear'}\n"
     ]
    }
   ],
   "source": [
    "from sklearn.model_selection import GridSearchCV\n",
    "\n",
    "dSvmParams = {'kernel': ('linear',),\n",
    "              'C'     : np.linspace(0.01, 10, 21)}\n",
    "oSearch    = GridSearchCV(SVC(), dSvmParams, cv=KFold(N, shuffle=True)).fit(mX3, vY)\n",
    "\n",
    "print(f'Linear best parameters CV score = {oSearch.best_score_}')\n",
    "print(oSearch.best_params_)"
   ]
  },
  {
   "cell_type": "code",
   "execution_count": 39,
   "metadata": {},
   "outputs": [
    {
     "name": "stdout",
     "output_type": "stream",
     "text": [
      "RBF best parameters CV score = 0.8518518518518519\n",
      "{'C': 30.0, 'gamma': 0.0002834467120181406, 'kernel': 'rbf'}\n"
     ]
    }
   ],
   "source": [
    "from sklearn.model_selection import GridSearchCV\n",
    "\n",
    "vσ         = np.linspace(30, 50, 11)\n",
    "dSvmParams = {'kernel': ('rbf',),\n",
    "              'C'     : np.linspace(30, 40, 3),\n",
    "              'gamma' : 1 / (2 * vσ**2)}\n",
    "oSearch    = GridSearchCV(SVC(), dSvmParams, cv=KFold(N, shuffle=True)).fit(mX3, vY)\n",
    "\n",
    "print(f'RBF best parameters CV score = {oSearch.best_score_}')\n",
    "print(oSearch.best_params_)"
   ]
  }
 ],
 "metadata": {
  "kernelspec": {
   "name": "python3",
   "display_name": "Python 3.8.8 64-bit ('base': conda)"
  },
  "language_info": {
   "codemirror_mode": {
    "name": "ipython",
    "version": 3
   },
   "file_extension": ".py",
   "mimetype": "text/x-python",
   "name": "python",
   "nbconvert_exporter": "python",
   "pygments_lexer": "ipython3",
   "version": "3.8.8"
  },
  "toc": {
   "base_numbering": 1,
   "nav_menu": {},
   "number_sections": false,
   "sideBar": true,
   "skip_h1_title": false,
   "title_cell": "Table of Contents",
   "title_sidebar": "Contents",
   "toc_cell": false,
   "toc_position": {},
   "toc_section_display": true,
   "toc_window_display": false
  },
  "varInspector": {
   "cols": {
    "lenName": 16,
    "lenType": 16,
    "lenVar": 40
   },
   "kernels_config": {
    "python": {
     "delete_cmd_postfix": "",
     "delete_cmd_prefix": "del ",
     "library": "var_list.py",
     "varRefreshCmd": "print(var_dic_list())"
    },
    "r": {
     "delete_cmd_postfix": ") ",
     "delete_cmd_prefix": "rm(",
     "library": "var_list.r",
     "varRefreshCmd": "cat(var_dic_list()) "
    }
   },
   "types_to_exclude": [
    "module",
    "function",
    "builtin_function_or_method",
    "instance",
    "_Feature"
   ],
   "window_display": false
  },
  "interpreter": {
   "hash": "6438134d2751295b28bc239e6140ab5fcf89695af8bbf5309092a238fa8acf3a"
  }
 },
 "nbformat": 4,
 "nbformat_minor": 4
}