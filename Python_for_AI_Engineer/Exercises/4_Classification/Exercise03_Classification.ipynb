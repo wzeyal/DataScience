{
 "cells": [
  {
   "cell_type": "markdown",
   "metadata": {},
   "source": [
    "![Fixel Algorithms](https://fixelalgorithms.co/images/CCExt.png)"
   ]
  },
  {
   "cell_type": "markdown",
   "metadata": {},
   "source": [
    "# <center> Machine Learning Methods </center>\n",
    "## <center> Exercise 03 - Hearth Disease Classification </center>"
   ]
  },
  {
   "cell_type": "markdown",
   "metadata": {},
   "source": [
    "[![Open In Colab](https://colab.research.google.com/assets/colab-badge.svg)](https://colab.research.google.com/github/FixelAlgorithmsTeam/FixelCourses/blob/master/MachineLearningMethod/Exercises/Exercise03_Classification.ipynb)"
   ]
  },
  {
   "cell_type": "code",
   "execution_count": 1,
   "metadata": {},
   "outputs": [
    {
     "output_type": "display_data",
     "data": {
      "text/plain": "<IPython.core.display.HTML object>",
      "text/html": "<style>.container { width:80% !important; }</style>"
     },
     "metadata": {}
    }
   ],
   "source": [
    "from IPython.core.display import display, HTML\n",
    "display(HTML(\"<style>.container { width:80% !important; }</style>\"))\n",
    "\n"
   ]
  },
  {
   "cell_type": "code",
   "execution_count": 2,
   "metadata": {},
   "outputs": [],
   "source": [
    "import numpy             as np\n",
    "import pandas            as pd\n",
    "import seaborn           as sns\n",
    "import matplotlib.pyplot as plt\n",
    "import matplotlib\n",
    "\n",
    "matplotlib.rc('font', **{'size' : 16})\n",
    "\n",
    "pd.set_option('display.max_colwidth', 0)\n",
    "\n",
    "# np.random.seed(1)"
   ]
  },
  {
   "cell_type": "markdown",
   "metadata": {},
   "source": [
    "### Load the dataset:\n",
    "https://www.kaggle.com/cherngs/heart-disease-cleveland-uci?select=heart_cleveland_upload.csv"
   ]
  },
  {
   "cell_type": "code",
   "execution_count": 3,
   "metadata": {},
   "outputs": [
    {
     "output_type": "execute_result",
     "data": {
      "text/plain": [
       "     age  sex  cp  trestbps  chol  fbs  restecg  thalach  exang  oldpeak  \\\n",
       "0    69   1    0   160       234   1    2        131      0      0.1       \n",
       "1    69   0    0   140       239   0    0        151      0      1.8       \n",
       "2    66   0    0   150       226   0    0        114      0      2.6       \n",
       "3    65   1    0   138       282   1    2        174      0      1.4       \n",
       "4    64   1    0   110       211   0    2        144      1      1.8       \n",
       "..   ..  ..   ..   ...       ...  ..   ..        ...     ..      ...       \n",
       "292  40   1    3   152       223   0    0        181      0      0.0       \n",
       "293  39   1    3   118       219   0    0        140      0      1.2       \n",
       "294  35   1    3   120       198   0    0        130      1      1.6       \n",
       "295  35   0    3   138       183   0    0        182      0      1.4       \n",
       "296  35   1    3   126       282   0    2        156      1      0.0       \n",
       "\n",
       "     slope  ca  thal  condition  \n",
       "0    1      1   0     0          \n",
       "1    0      2   0     0          \n",
       "2    2      0   0     0          \n",
       "3    1      1   0     1          \n",
       "4    1      0   0     0          \n",
       "..  ..     ..  ..    ..          \n",
       "292  0      0   2     1          \n",
       "293  1      0   2     1          \n",
       "294  1      0   2     1          \n",
       "295  0      0   0     0          \n",
       "296  0      0   2     1          \n",
       "\n",
       "[297 rows x 14 columns]"
      ],
      "text/html": "<div>\n<style scoped>\n    .dataframe tbody tr th:only-of-type {\n        vertical-align: middle;\n    }\n\n    .dataframe tbody tr th {\n        vertical-align: top;\n    }\n\n    .dataframe thead th {\n        text-align: right;\n    }\n</style>\n<table border=\"1\" class=\"dataframe\">\n  <thead>\n    <tr style=\"text-align: right;\">\n      <th></th>\n      <th>age</th>\n      <th>sex</th>\n      <th>cp</th>\n      <th>trestbps</th>\n      <th>chol</th>\n      <th>fbs</th>\n      <th>restecg</th>\n      <th>thalach</th>\n      <th>exang</th>\n      <th>oldpeak</th>\n      <th>slope</th>\n      <th>ca</th>\n      <th>thal</th>\n      <th>condition</th>\n    </tr>\n  </thead>\n  <tbody>\n    <tr>\n      <th>0</th>\n      <td>69</td>\n      <td>1</td>\n      <td>0</td>\n      <td>160</td>\n      <td>234</td>\n      <td>1</td>\n      <td>2</td>\n      <td>131</td>\n      <td>0</td>\n      <td>0.1</td>\n      <td>1</td>\n      <td>1</td>\n      <td>0</td>\n      <td>0</td>\n    </tr>\n    <tr>\n      <th>1</th>\n      <td>69</td>\n      <td>0</td>\n      <td>0</td>\n      <td>140</td>\n      <td>239</td>\n      <td>0</td>\n      <td>0</td>\n      <td>151</td>\n      <td>0</td>\n      <td>1.8</td>\n      <td>0</td>\n      <td>2</td>\n      <td>0</td>\n      <td>0</td>\n    </tr>\n    <tr>\n      <th>2</th>\n      <td>66</td>\n      <td>0</td>\n      <td>0</td>\n      <td>150</td>\n      <td>226</td>\n      <td>0</td>\n      <td>0</td>\n      <td>114</td>\n      <td>0</td>\n      <td>2.6</td>\n      <td>2</td>\n      <td>0</td>\n      <td>0</td>\n      <td>0</td>\n    </tr>\n    <tr>\n      <th>3</th>\n      <td>65</td>\n      <td>1</td>\n      <td>0</td>\n      <td>138</td>\n      <td>282</td>\n      <td>1</td>\n      <td>2</td>\n      <td>174</td>\n      <td>0</td>\n      <td>1.4</td>\n      <td>1</td>\n      <td>1</td>\n      <td>0</td>\n      <td>1</td>\n    </tr>\n    <tr>\n      <th>4</th>\n      <td>64</td>\n      <td>1</td>\n      <td>0</td>\n      <td>110</td>\n      <td>211</td>\n      <td>0</td>\n      <td>2</td>\n      <td>144</td>\n      <td>1</td>\n      <td>1.8</td>\n      <td>1</td>\n      <td>0</td>\n      <td>0</td>\n      <td>0</td>\n    </tr>\n    <tr>\n      <th>...</th>\n      <td>...</td>\n      <td>...</td>\n      <td>...</td>\n      <td>...</td>\n      <td>...</td>\n      <td>...</td>\n      <td>...</td>\n      <td>...</td>\n      <td>...</td>\n      <td>...</td>\n      <td>...</td>\n      <td>...</td>\n      <td>...</td>\n      <td>...</td>\n    </tr>\n    <tr>\n      <th>292</th>\n      <td>40</td>\n      <td>1</td>\n      <td>3</td>\n      <td>152</td>\n      <td>223</td>\n      <td>0</td>\n      <td>0</td>\n      <td>181</td>\n      <td>0</td>\n      <td>0.0</td>\n      <td>0</td>\n      <td>0</td>\n      <td>2</td>\n      <td>1</td>\n    </tr>\n    <tr>\n      <th>293</th>\n      <td>39</td>\n      <td>1</td>\n      <td>3</td>\n      <td>118</td>\n      <td>219</td>\n      <td>0</td>\n      <td>0</td>\n      <td>140</td>\n      <td>0</td>\n      <td>1.2</td>\n      <td>1</td>\n      <td>0</td>\n      <td>2</td>\n      <td>1</td>\n    </tr>\n    <tr>\n      <th>294</th>\n      <td>35</td>\n      <td>1</td>\n      <td>3</td>\n      <td>120</td>\n      <td>198</td>\n      <td>0</td>\n      <td>0</td>\n      <td>130</td>\n      <td>1</td>\n      <td>1.6</td>\n      <td>1</td>\n      <td>0</td>\n      <td>2</td>\n      <td>1</td>\n    </tr>\n    <tr>\n      <th>295</th>\n      <td>35</td>\n      <td>0</td>\n      <td>3</td>\n      <td>138</td>\n      <td>183</td>\n      <td>0</td>\n      <td>0</td>\n      <td>182</td>\n      <td>0</td>\n      <td>1.4</td>\n      <td>0</td>\n      <td>0</td>\n      <td>0</td>\n      <td>0</td>\n    </tr>\n    <tr>\n      <th>296</th>\n      <td>35</td>\n      <td>1</td>\n      <td>3</td>\n      <td>126</td>\n      <td>282</td>\n      <td>0</td>\n      <td>2</td>\n      <td>156</td>\n      <td>1</td>\n      <td>0.0</td>\n      <td>0</td>\n      <td>0</td>\n      <td>2</td>\n      <td>1</td>\n    </tr>\n  </tbody>\n</table>\n<p>297 rows × 14 columns</p>\n</div>"
     },
     "metadata": {},
     "execution_count": 3
    }
   ],
   "source": [
    "dData = pd.read_csv('heart_cleveland_upload.csv')\n",
    "dData"
   ]
  },
  {
   "cell_type": "markdown",
   "metadata": {},
   "source": [
    "### Display target balance:"
   ]
  },
  {
   "cell_type": "code",
   "execution_count": 4,
   "metadata": {},
   "outputs": [
    {
     "output_type": "stream",
     "name": "stdout",
     "text": [
      "age       = Age\nsex       = Sex\ncp        = ChestPainType\ntrestbps  = RestingBloodPressure\nchol      = Cholesterol\nfbs       = FastingBloodSugar\nrestecg   = RestECG\nthalach   = MaxHeartRateAchieved\nexang     = ExerciseInducedAngina\noldpeak   = StDepression\nslope     = StSlope\nca        = NumMajorVessels\nthal      = Thalassemia\ncondition = Target\n"
     ]
    }
   ],
   "source": [
    "lFullName = ['Age', 'Sex', 'ChestPainType', 'RestingBloodPressure', 'Cholesterol', 'FastingBloodSugar', 'RestECG', 'MaxHeartRateAchieved', 'ExerciseInducedAngina', 'StDepression', 'StSlope', 'NumMajorVessels', 'Thalassemia', 'Target']\n",
    "space     = max(map(len, dData.columns))\n",
    "for (shortName, fullName) in zip(dData.columns, lFullName):\n",
    "    print(f'{shortName:{space}s} = {fullName}')"
   ]
  },
  {
   "cell_type": "markdown",
   "metadata": {},
   "source": [
    "### Get data and normalization:"
   ]
  },
  {
   "cell_type": "code",
   "execution_count": 5,
   "metadata": {},
   "outputs": [
    {
     "output_type": "execute_result",
     "data": {
      "text/plain": [
       "((297, 13), (297,))"
      ]
     },
     "metadata": {},
     "execution_count": 5
    }
   ],
   "source": [
    "mX = dData.drop(columns='condition').values\n",
    "vY = dData['condition'].values\n",
    "\n",
    "mX.shape, vY.shape"
   ]
  },
  {
   "cell_type": "code",
   "execution_count": 6,
   "metadata": {},
   "outputs": [],
   "source": [
    "#-- Normalize data:\n",
    "mX -= mX.mean(0)\n",
    "mX /= mX.std(0)"
   ]
  },
  {
   "cell_type": "markdown",
   "metadata": {},
   "source": [
    "### Basic classification:\n",
    "Let us try several default classifiers"
   ]
  },
  {
   "cell_type": "code",
   "execution_count": 7,
   "metadata": {},
   "outputs": [
    {
     "output_type": "stream",
     "name": "stdout",
     "text": [
      "SVM                 = 82.83%\n",
      "Logistic Regression = 83.16%\n",
      "KNN                 = 82.49%\n",
      "Tree                = 71.38%\n"
     ]
    }
   ],
   "source": [
    "from sklearn.linear_model    import LogisticRegression\n",
    "from sklearn.svm             import SVC\n",
    "from sklearn.neighbors       import KNeighborsClassifier\n",
    "from sklearn.tree            import DecisionTreeClassifier\n",
    "from sklearn.model_selection import cross_val_predict, KFold\n",
    "\n",
    "#-- Classifiers:\n",
    "#-- You can set the hyper-parameters as well\n",
    "lModels  = []\n",
    "lModels += [(SVC                   (C=1), 'SVM'                )]\n",
    "lModels += [(LogisticRegression    (),    'Logistic Regression')]\n",
    "lModels += [(KNeighborsClassifier  (),    'KNN'                )]\n",
    "lModels += [(DecisionTreeClassifier(),    'Tree'               )]\n",
    "\n",
    "\n",
    "N = len(vY)\n",
    "for (oClassifier, name) in lModels:\n",
    "    vHatY    = cross_val_predict(oClassifier, mX, vY, cv=KFold(N))\n",
    "    accuracy = np.mean(vY == vHatY)\n",
    "    print(f'{name:19s} = {100*accuracy:2.2f}%')"
   ]
  },
  {
   "source": [
    "### Exercise A:\n",
    "* Use `KNeighborsClassifier` and get above 84% leave-one-out cross validation accuracy.  \n",
    "(Play with the hyper-parameters)"
   ],
   "cell_type": "markdown",
   "metadata": {}
  },
  {
   "cell_type": "code",
   "execution_count": 8,
   "metadata": {},
   "outputs": [
    {
     "output_type": "stream",
     "name": "stdout",
     "text": [
      "Fitting 297 folds for each of 20 candidates, totalling 5940 fits\n"
     ]
    }
   ],
   "source": [
    "#-- Your solution\n",
    "\n",
    "dfAnswers = pd.DataFrame(columns=['Exercise', 'Decription', 'Answer_1', 'Answer_2', 'Answer_3'])\n",
    "dfAnswers.style.set_properties(**{'text-align': 'left'})\n",
    "dfAnswers.style.highlight_max(color = 'lightgreen', axis = 0)\n",
    "\n",
    "cv = KFold(N, shuffle=True)\n",
    "\n",
    "# https://medium.com/@erikgreenj/k-neighbors-classifier-with-gridsearchcv-basics-3c445ddeb657\n",
    "\n",
    "from sklearn.model_selection import GridSearchCV\n",
    "\n",
    "grid_params = {\n",
    "    'n_neighbors' : np.arange(1, 21, 2),\n",
    "    'metric' : ['euclidean', 'manhattan'],\n",
    "}\n",
    "\n",
    "N = len(vY)\n",
    "gs = GridSearchCV(\n",
    "    KNeighborsClassifier(),\n",
    "    grid_params,\n",
    "    verbose=2,\n",
    "    cv=cv, \n",
    "    n_jobs=-1)\n",
    "\n",
    "gs_result = gs.fit(mX, vY)\n"
   ]
  },
  {
   "cell_type": "code",
   "execution_count": 9,
   "metadata": {},
   "outputs": [],
   "source": [
    "\n",
    "dfAnswers.loc[0] = [\n",
    "    'A',\n",
    "    'KNeighborsClassifier',\n",
    "    'Original Data',\n",
    "    f'Score: {100*gs_result.best_score_:2.2f}%'\n",
    "    '',\n",
    "    '',\n",
    "]"
   ]
  },
  {
   "cell_type": "code",
   "execution_count": 10,
   "metadata": {},
   "outputs": [
    {
     "output_type": "execute_result",
     "data": {
      "text/plain": [
       "  Exercise            Decription       Answer_1       Answer_2 Answer_3\n",
       "0  A        KNeighborsClassifier  Original Data  Score: 84.85%         "
      ],
      "text/html": "<div>\n<style scoped>\n    .dataframe tbody tr th:only-of-type {\n        vertical-align: middle;\n    }\n\n    .dataframe tbody tr th {\n        vertical-align: top;\n    }\n\n    .dataframe thead th {\n        text-align: right;\n    }\n</style>\n<table border=\"1\" class=\"dataframe\">\n  <thead>\n    <tr style=\"text-align: right;\">\n      <th></th>\n      <th>Exercise</th>\n      <th>Decription</th>\n      <th>Answer_1</th>\n      <th>Answer_2</th>\n      <th>Answer_3</th>\n    </tr>\n  </thead>\n  <tbody>\n    <tr>\n      <th>0</th>\n      <td>A</td>\n      <td>KNeighborsClassifier</td>\n      <td>Original Data</td>\n      <td>Score: 84.85%</td>\n      <td></td>\n    </tr>\n  </tbody>\n</table>\n</div>"
     },
     "metadata": {},
     "execution_count": 10
    }
   ],
   "source": [
    "dfAnswers"
   ]
  },
  {
   "cell_type": "code",
   "execution_count": 11,
   "metadata": {},
   "outputs": [
    {
     "output_type": "execute_result",
     "data": {
      "text/plain": [
       "     Age  Sex  ChestPainType  RestingBloodPressure  Cholesterol  \\\n",
       "0    69   1    0              160                   234           \n",
       "1    69   0    0              140                   239           \n",
       "2    66   0    0              150                   226           \n",
       "3    65   1    0              138                   282           \n",
       "4    64   1    0              110                   211           \n",
       "..   ..  ..   ..              ...                   ...           \n",
       "292  40   1    3              152                   223           \n",
       "293  39   1    3              118                   219           \n",
       "294  35   1    3              120                   198           \n",
       "295  35   0    3              138                   183           \n",
       "296  35   1    3              126                   282           \n",
       "\n",
       "     FastingBloodSugar  RestECG  MaxHeartRateAchieved  ExerciseInducedAngina  \\\n",
       "0    1                  2        131                   0                       \n",
       "1    0                  0        151                   0                       \n",
       "2    0                  0        114                   0                       \n",
       "3    1                  2        174                   0                       \n",
       "4    0                  2        144                   1                       \n",
       "..  ..                 ..        ...                  ..                       \n",
       "292  0                  0        181                   0                       \n",
       "293  0                  0        140                   0                       \n",
       "294  0                  0        130                   1                       \n",
       "295  0                  0        182                   0                       \n",
       "296  0                  2        156                   1                       \n",
       "\n",
       "     StDepression  StSlope  NumMajorVessels  Thalassemia  Target  \n",
       "0    0.1           1        1                0            0       \n",
       "1    1.8           0        2                0            0       \n",
       "2    2.6           2        0                0            0       \n",
       "3    1.4           1        1                0            1       \n",
       "4    1.8           1        0                0            0       \n",
       "..   ...          ..       ..               ..           ..       \n",
       "292  0.0           0        0                2            1       \n",
       "293  1.2           1        0                2            1       \n",
       "294  1.6           1        0                2            1       \n",
       "295  1.4           0        0                0            0       \n",
       "296  0.0           0        0                2            1       \n",
       "\n",
       "[297 rows x 14 columns]"
      ],
      "text/html": "<div>\n<style scoped>\n    .dataframe tbody tr th:only-of-type {\n        vertical-align: middle;\n    }\n\n    .dataframe tbody tr th {\n        vertical-align: top;\n    }\n\n    .dataframe thead th {\n        text-align: right;\n    }\n</style>\n<table border=\"1\" class=\"dataframe\">\n  <thead>\n    <tr style=\"text-align: right;\">\n      <th></th>\n      <th>Age</th>\n      <th>Sex</th>\n      <th>ChestPainType</th>\n      <th>RestingBloodPressure</th>\n      <th>Cholesterol</th>\n      <th>FastingBloodSugar</th>\n      <th>RestECG</th>\n      <th>MaxHeartRateAchieved</th>\n      <th>ExerciseInducedAngina</th>\n      <th>StDepression</th>\n      <th>StSlope</th>\n      <th>NumMajorVessels</th>\n      <th>Thalassemia</th>\n      <th>Target</th>\n    </tr>\n  </thead>\n  <tbody>\n    <tr>\n      <th>0</th>\n      <td>69</td>\n      <td>1</td>\n      <td>0</td>\n      <td>160</td>\n      <td>234</td>\n      <td>1</td>\n      <td>2</td>\n      <td>131</td>\n      <td>0</td>\n      <td>0.1</td>\n      <td>1</td>\n      <td>1</td>\n      <td>0</td>\n      <td>0</td>\n    </tr>\n    <tr>\n      <th>1</th>\n      <td>69</td>\n      <td>0</td>\n      <td>0</td>\n      <td>140</td>\n      <td>239</td>\n      <td>0</td>\n      <td>0</td>\n      <td>151</td>\n      <td>0</td>\n      <td>1.8</td>\n      <td>0</td>\n      <td>2</td>\n      <td>0</td>\n      <td>0</td>\n    </tr>\n    <tr>\n      <th>2</th>\n      <td>66</td>\n      <td>0</td>\n      <td>0</td>\n      <td>150</td>\n      <td>226</td>\n      <td>0</td>\n      <td>0</td>\n      <td>114</td>\n      <td>0</td>\n      <td>2.6</td>\n      <td>2</td>\n      <td>0</td>\n      <td>0</td>\n      <td>0</td>\n    </tr>\n    <tr>\n      <th>3</th>\n      <td>65</td>\n      <td>1</td>\n      <td>0</td>\n      <td>138</td>\n      <td>282</td>\n      <td>1</td>\n      <td>2</td>\n      <td>174</td>\n      <td>0</td>\n      <td>1.4</td>\n      <td>1</td>\n      <td>1</td>\n      <td>0</td>\n      <td>1</td>\n    </tr>\n    <tr>\n      <th>4</th>\n      <td>64</td>\n      <td>1</td>\n      <td>0</td>\n      <td>110</td>\n      <td>211</td>\n      <td>0</td>\n      <td>2</td>\n      <td>144</td>\n      <td>1</td>\n      <td>1.8</td>\n      <td>1</td>\n      <td>0</td>\n      <td>0</td>\n      <td>0</td>\n    </tr>\n    <tr>\n      <th>...</th>\n      <td>...</td>\n      <td>...</td>\n      <td>...</td>\n      <td>...</td>\n      <td>...</td>\n      <td>...</td>\n      <td>...</td>\n      <td>...</td>\n      <td>...</td>\n      <td>...</td>\n      <td>...</td>\n      <td>...</td>\n      <td>...</td>\n      <td>...</td>\n    </tr>\n    <tr>\n      <th>292</th>\n      <td>40</td>\n      <td>1</td>\n      <td>3</td>\n      <td>152</td>\n      <td>223</td>\n      <td>0</td>\n      <td>0</td>\n      <td>181</td>\n      <td>0</td>\n      <td>0.0</td>\n      <td>0</td>\n      <td>0</td>\n      <td>2</td>\n      <td>1</td>\n    </tr>\n    <tr>\n      <th>293</th>\n      <td>39</td>\n      <td>1</td>\n      <td>3</td>\n      <td>118</td>\n      <td>219</td>\n      <td>0</td>\n      <td>0</td>\n      <td>140</td>\n      <td>0</td>\n      <td>1.2</td>\n      <td>1</td>\n      <td>0</td>\n      <td>2</td>\n      <td>1</td>\n    </tr>\n    <tr>\n      <th>294</th>\n      <td>35</td>\n      <td>1</td>\n      <td>3</td>\n      <td>120</td>\n      <td>198</td>\n      <td>0</td>\n      <td>0</td>\n      <td>130</td>\n      <td>1</td>\n      <td>1.6</td>\n      <td>1</td>\n      <td>0</td>\n      <td>2</td>\n      <td>1</td>\n    </tr>\n    <tr>\n      <th>295</th>\n      <td>35</td>\n      <td>0</td>\n      <td>3</td>\n      <td>138</td>\n      <td>183</td>\n      <td>0</td>\n      <td>0</td>\n      <td>182</td>\n      <td>0</td>\n      <td>1.4</td>\n      <td>0</td>\n      <td>0</td>\n      <td>0</td>\n      <td>0</td>\n    </tr>\n    <tr>\n      <th>296</th>\n      <td>35</td>\n      <td>1</td>\n      <td>3</td>\n      <td>126</td>\n      <td>282</td>\n      <td>0</td>\n      <td>2</td>\n      <td>156</td>\n      <td>1</td>\n      <td>0.0</td>\n      <td>0</td>\n      <td>0</td>\n      <td>2</td>\n      <td>1</td>\n    </tr>\n  </tbody>\n</table>\n<p>297 rows × 14 columns</p>\n</div>"
     },
     "metadata": {},
     "execution_count": 11
    }
   ],
   "source": [
    "dData2         = dData.copy()\n",
    "dData2.columns = lFullName\n",
    "dData2"
   ]
  },
  {
   "cell_type": "markdown",
   "metadata": {},
   "source": [
    "### Meaningful categorical data:\n",
    "(Based on the data description)"
   ]
  },
  {
   "cell_type": "code",
   "execution_count": 12,
   "metadata": {},
   "outputs": [
    {
     "output_type": "execute_result",
     "data": {
      "text/plain": [
       "     Age     Sex   ChestPainType  RestingBloodPressure  Cholesterol  \\\n",
       "0    69   male    asymptomatic    160                   234           \n",
       "1    69   female  asymptomatic    140                   239           \n",
       "2    66   female  asymptomatic    150                   226           \n",
       "3    65   male    asymptomatic    138                   282           \n",
       "4    64   male    asymptomatic    110                   211           \n",
       "..   ..    ...             ...    ...                   ...           \n",
       "292  40   male    typical angina  152                   223           \n",
       "293  39   male    typical angina  118                   219           \n",
       "294  35   male    typical angina  120                   198           \n",
       "295  35   female  typical angina  138                   183           \n",
       "296  35   male    typical angina  126                   282           \n",
       "\n",
       "         FastingBloodSugar                       RestECG  \\\n",
       "0    greater than 120mg/ml  left ventricular hypertrophy   \n",
       "1    lower than 120mg/ml    normal                         \n",
       "2    lower than 120mg/ml    normal                         \n",
       "3    greater than 120mg/ml  left ventricular hypertrophy   \n",
       "4    lower than 120mg/ml    left ventricular hypertrophy   \n",
       "..                   ...                             ...   \n",
       "292  lower than 120mg/ml    normal                         \n",
       "293  lower than 120mg/ml    normal                         \n",
       "294  lower than 120mg/ml    normal                         \n",
       "295  lower than 120mg/ml    normal                         \n",
       "296  lower than 120mg/ml    left ventricular hypertrophy   \n",
       "\n",
       "     MaxHeartRateAchieved ExerciseInducedAngina  StDepression      StSlope  \\\n",
       "0    131                   no                    0.1           flat          \n",
       "1    151                   no                    1.8           upsloping     \n",
       "2    114                   no                    2.6           downsloping   \n",
       "3    174                   no                    1.4           flat          \n",
       "4    144                   yes                   1.8           flat          \n",
       "..   ...                   ...                   ...            ...          \n",
       "292  181                   no                    0.0           upsloping     \n",
       "293  140                   no                    1.2           flat          \n",
       "294  130                   yes                   1.6           flat          \n",
       "295  182                   no                    1.4           upsloping     \n",
       "296  156                   yes                   0.0           upsloping     \n",
       "\n",
       "     NumMajorVessels        Thalassemia            Target  \n",
       "0    1                normal             no heart disease  \n",
       "1    2                normal             no heart disease  \n",
       "2    0                normal             no heart disease  \n",
       "3    1                normal             heart disease     \n",
       "4    0                normal             no heart disease  \n",
       "..  ..                   ...                          ...  \n",
       "292  0                reversable defect  heart disease     \n",
       "293  0                reversable defect  heart disease     \n",
       "294  0                reversable defect  heart disease     \n",
       "295  0                normal             no heart disease  \n",
       "296  0                reversable defect  heart disease     \n",
       "\n",
       "[297 rows x 14 columns]"
      ],
      "text/html": "<div>\n<style scoped>\n    .dataframe tbody tr th:only-of-type {\n        vertical-align: middle;\n    }\n\n    .dataframe tbody tr th {\n        vertical-align: top;\n    }\n\n    .dataframe thead th {\n        text-align: right;\n    }\n</style>\n<table border=\"1\" class=\"dataframe\">\n  <thead>\n    <tr style=\"text-align: right;\">\n      <th></th>\n      <th>Age</th>\n      <th>Sex</th>\n      <th>ChestPainType</th>\n      <th>RestingBloodPressure</th>\n      <th>Cholesterol</th>\n      <th>FastingBloodSugar</th>\n      <th>RestECG</th>\n      <th>MaxHeartRateAchieved</th>\n      <th>ExerciseInducedAngina</th>\n      <th>StDepression</th>\n      <th>StSlope</th>\n      <th>NumMajorVessels</th>\n      <th>Thalassemia</th>\n      <th>Target</th>\n    </tr>\n  </thead>\n  <tbody>\n    <tr>\n      <th>0</th>\n      <td>69</td>\n      <td>male</td>\n      <td>asymptomatic</td>\n      <td>160</td>\n      <td>234</td>\n      <td>greater than 120mg/ml</td>\n      <td>left ventricular hypertrophy</td>\n      <td>131</td>\n      <td>no</td>\n      <td>0.1</td>\n      <td>flat</td>\n      <td>1</td>\n      <td>normal</td>\n      <td>no heart disease</td>\n    </tr>\n    <tr>\n      <th>1</th>\n      <td>69</td>\n      <td>female</td>\n      <td>asymptomatic</td>\n      <td>140</td>\n      <td>239</td>\n      <td>lower than 120mg/ml</td>\n      <td>normal</td>\n      <td>151</td>\n      <td>no</td>\n      <td>1.8</td>\n      <td>upsloping</td>\n      <td>2</td>\n      <td>normal</td>\n      <td>no heart disease</td>\n    </tr>\n    <tr>\n      <th>2</th>\n      <td>66</td>\n      <td>female</td>\n      <td>asymptomatic</td>\n      <td>150</td>\n      <td>226</td>\n      <td>lower than 120mg/ml</td>\n      <td>normal</td>\n      <td>114</td>\n      <td>no</td>\n      <td>2.6</td>\n      <td>downsloping</td>\n      <td>0</td>\n      <td>normal</td>\n      <td>no heart disease</td>\n    </tr>\n    <tr>\n      <th>3</th>\n      <td>65</td>\n      <td>male</td>\n      <td>asymptomatic</td>\n      <td>138</td>\n      <td>282</td>\n      <td>greater than 120mg/ml</td>\n      <td>left ventricular hypertrophy</td>\n      <td>174</td>\n      <td>no</td>\n      <td>1.4</td>\n      <td>flat</td>\n      <td>1</td>\n      <td>normal</td>\n      <td>heart disease</td>\n    </tr>\n    <tr>\n      <th>4</th>\n      <td>64</td>\n      <td>male</td>\n      <td>asymptomatic</td>\n      <td>110</td>\n      <td>211</td>\n      <td>lower than 120mg/ml</td>\n      <td>left ventricular hypertrophy</td>\n      <td>144</td>\n      <td>yes</td>\n      <td>1.8</td>\n      <td>flat</td>\n      <td>0</td>\n      <td>normal</td>\n      <td>no heart disease</td>\n    </tr>\n    <tr>\n      <th>...</th>\n      <td>...</td>\n      <td>...</td>\n      <td>...</td>\n      <td>...</td>\n      <td>...</td>\n      <td>...</td>\n      <td>...</td>\n      <td>...</td>\n      <td>...</td>\n      <td>...</td>\n      <td>...</td>\n      <td>...</td>\n      <td>...</td>\n      <td>...</td>\n    </tr>\n    <tr>\n      <th>292</th>\n      <td>40</td>\n      <td>male</td>\n      <td>typical angina</td>\n      <td>152</td>\n      <td>223</td>\n      <td>lower than 120mg/ml</td>\n      <td>normal</td>\n      <td>181</td>\n      <td>no</td>\n      <td>0.0</td>\n      <td>upsloping</td>\n      <td>0</td>\n      <td>reversable defect</td>\n      <td>heart disease</td>\n    </tr>\n    <tr>\n      <th>293</th>\n      <td>39</td>\n      <td>male</td>\n      <td>typical angina</td>\n      <td>118</td>\n      <td>219</td>\n      <td>lower than 120mg/ml</td>\n      <td>normal</td>\n      <td>140</td>\n      <td>no</td>\n      <td>1.2</td>\n      <td>flat</td>\n      <td>0</td>\n      <td>reversable defect</td>\n      <td>heart disease</td>\n    </tr>\n    <tr>\n      <th>294</th>\n      <td>35</td>\n      <td>male</td>\n      <td>typical angina</td>\n      <td>120</td>\n      <td>198</td>\n      <td>lower than 120mg/ml</td>\n      <td>normal</td>\n      <td>130</td>\n      <td>yes</td>\n      <td>1.6</td>\n      <td>flat</td>\n      <td>0</td>\n      <td>reversable defect</td>\n      <td>heart disease</td>\n    </tr>\n    <tr>\n      <th>295</th>\n      <td>35</td>\n      <td>female</td>\n      <td>typical angina</td>\n      <td>138</td>\n      <td>183</td>\n      <td>lower than 120mg/ml</td>\n      <td>normal</td>\n      <td>182</td>\n      <td>no</td>\n      <td>1.4</td>\n      <td>upsloping</td>\n      <td>0</td>\n      <td>normal</td>\n      <td>no heart disease</td>\n    </tr>\n    <tr>\n      <th>296</th>\n      <td>35</td>\n      <td>male</td>\n      <td>typical angina</td>\n      <td>126</td>\n      <td>282</td>\n      <td>lower than 120mg/ml</td>\n      <td>left ventricular hypertrophy</td>\n      <td>156</td>\n      <td>yes</td>\n      <td>0.0</td>\n      <td>upsloping</td>\n      <td>0</td>\n      <td>reversable defect</td>\n      <td>heart disease</td>\n    </tr>\n  </tbody>\n</table>\n<p>297 rows × 14 columns</p>\n</div>"
     },
     "metadata": {},
     "execution_count": 12
    }
   ],
   "source": [
    "dData2.loc[dData2['Sex']                   == 0, 'Sex']                   = 'female'\n",
    "dData2.loc[dData2['Sex']                   == 1, 'Sex']                   = 'male'\n",
    "  \n",
    "dData2.loc[dData2['ChestPainType']         == 0, 'ChestPainType']         = 'asymptomatic'\n",
    "dData2.loc[dData2['ChestPainType']         == 1, 'ChestPainType']         = 'atypical angina'\n",
    "dData2.loc[dData2['ChestPainType']         == 2, 'ChestPainType']         = 'non-anginal pain'\n",
    "dData2.loc[dData2['ChestPainType']         == 3, 'ChestPainType']         = 'typical angina'\n",
    "\n",
    "dData2.loc[dData2['FastingBloodSugar']     == 0, 'FastingBloodSugar']     = 'lower than 120mg/ml'\n",
    "dData2.loc[dData2['FastingBloodSugar']     == 1, 'FastingBloodSugar']     = 'greater than 120mg/ml'\n",
    "\n",
    "dData2.loc[dData2['RestECG']               == 0, 'RestECG']               = 'normal'\n",
    "dData2.loc[dData2['RestECG']               == 1, 'RestECG']               = 'ST-T wave abnormality'\n",
    "dData2.loc[dData2['RestECG']               == 2, 'RestECG']               = 'left ventricular hypertrophy'\n",
    "\n",
    "dData2.loc[dData2['ExerciseInducedAngina'] == 0, 'ExerciseInducedAngina'] = 'no'\n",
    "dData2.loc[dData2['ExerciseInducedAngina'] == 1, 'ExerciseInducedAngina'] = 'yes'\n",
    "\n",
    "dData2.loc[dData2['StSlope']               == 0, 'StSlope']               = 'upsloping'\n",
    "dData2.loc[dData2['StSlope']               == 1, 'StSlope']               = 'flat'\n",
    "dData2.loc[dData2['StSlope']               == 2, 'StSlope']               = 'downsloping'\n",
    "\n",
    "dData2.loc[dData2['Thalassemia']           == 0, 'Thalassemia']           = 'normal'\n",
    "dData2.loc[dData2['Thalassemia']           == 1, 'Thalassemia']           = 'fixed defect'\n",
    "dData2.loc[dData2['Thalassemia']           == 2, 'Thalassemia']           = 'reversable defect'\n",
    "\n",
    "dData2.loc[dData2['Target']                == 0, 'Target']                = 'no heart disease'\n",
    "dData2.loc[dData2['Target']                == 1, 'Target']                = 'heart disease'\n",
    "dData2"
   ]
  },
  {
   "cell_type": "markdown",
   "metadata": {},
   "source": [
    "### Convert non-numeric features to dummy features:"
   ]
  },
  {
   "cell_type": "code",
   "execution_count": 13,
   "metadata": {},
   "outputs": [
    {
     "output_type": "execute_result",
     "data": {
      "text/plain": [
       "     Age  RestingBloodPressure  Cholesterol  MaxHeartRateAchieved  \\\n",
       "0    69   160                   234          131                    \n",
       "1    69   140                   239          151                    \n",
       "2    66   150                   226          114                    \n",
       "3    65   138                   282          174                    \n",
       "4    64   110                   211          144                    \n",
       "..   ..   ...                   ...          ...                    \n",
       "292  40   152                   223          181                    \n",
       "293  39   118                   219          140                    \n",
       "294  35   120                   198          130                    \n",
       "295  35   138                   183          182                    \n",
       "296  35   126                   282          156                    \n",
       "\n",
       "     StDepression  NumMajorVessels  Sex_male  ChestPainType_atypical angina  \\\n",
       "0    0.1           1                1         0                               \n",
       "1    1.8           2                0         0                               \n",
       "2    2.6           0                0         0                               \n",
       "3    1.4           1                1         0                               \n",
       "4    1.8           0                1         0                               \n",
       "..   ...          ..               ..        ..                               \n",
       "292  0.0           0                1         0                               \n",
       "293  1.2           0                1         0                               \n",
       "294  1.6           0                1         0                               \n",
       "295  1.4           0                0         0                               \n",
       "296  0.0           0                1         0                               \n",
       "\n",
       "     ChestPainType_non-anginal pain  ChestPainType_typical angina  \\\n",
       "0    0                               0                              \n",
       "1    0                               0                              \n",
       "2    0                               0                              \n",
       "3    0                               0                              \n",
       "4    0                               0                              \n",
       "..  ..                              ..                              \n",
       "292  0                               1                              \n",
       "293  0                               1                              \n",
       "294  0                               1                              \n",
       "295  0                               1                              \n",
       "296  0                               1                              \n",
       "\n",
       "     FastingBloodSugar_lower than 120mg/ml  \\\n",
       "0    0                                       \n",
       "1    1                                       \n",
       "2    1                                       \n",
       "3    0                                       \n",
       "4    1                                       \n",
       "..  ..                                       \n",
       "292  1                                       \n",
       "293  1                                       \n",
       "294  1                                       \n",
       "295  1                                       \n",
       "296  1                                       \n",
       "\n",
       "     RestECG_left ventricular hypertrophy  RestECG_normal  \\\n",
       "0    1                                     0                \n",
       "1    0                                     1                \n",
       "2    0                                     1                \n",
       "3    1                                     0                \n",
       "4    1                                     0                \n",
       "..  ..                                    ..                \n",
       "292  0                                     1                \n",
       "293  0                                     1                \n",
       "294  0                                     1                \n",
       "295  0                                     1                \n",
       "296  1                                     0                \n",
       "\n",
       "     ExerciseInducedAngina_yes  StSlope_flat  StSlope_upsloping  \\\n",
       "0    0                          1             0                   \n",
       "1    0                          0             1                   \n",
       "2    0                          0             0                   \n",
       "3    0                          1             0                   \n",
       "4    1                          1             0                   \n",
       "..  ..                         ..            ..                   \n",
       "292  0                          0             1                   \n",
       "293  0                          1             0                   \n",
       "294  1                          1             0                   \n",
       "295  0                          0             1                   \n",
       "296  1                          0             1                   \n",
       "\n",
       "     Thalassemia_normal  Thalassemia_reversable defect  \\\n",
       "0    1                   0                               \n",
       "1    1                   0                               \n",
       "2    1                   0                               \n",
       "3    1                   0                               \n",
       "4    1                   0                               \n",
       "..  ..                  ..                               \n",
       "292  0                   1                               \n",
       "293  0                   1                               \n",
       "294  0                   1                               \n",
       "295  1                   0                               \n",
       "296  0                   1                               \n",
       "\n",
       "     Target_no heart disease  \n",
       "0    1                        \n",
       "1    1                        \n",
       "2    1                        \n",
       "3    0                        \n",
       "4    1                        \n",
       "..  ..                        \n",
       "292  0                        \n",
       "293  0                        \n",
       "294  0                        \n",
       "295  1                        \n",
       "296  0                        \n",
       "\n",
       "[297 rows x 19 columns]"
      ],
      "text/html": "<div>\n<style scoped>\n    .dataframe tbody tr th:only-of-type {\n        vertical-align: middle;\n    }\n\n    .dataframe tbody tr th {\n        vertical-align: top;\n    }\n\n    .dataframe thead th {\n        text-align: right;\n    }\n</style>\n<table border=\"1\" class=\"dataframe\">\n  <thead>\n    <tr style=\"text-align: right;\">\n      <th></th>\n      <th>Age</th>\n      <th>RestingBloodPressure</th>\n      <th>Cholesterol</th>\n      <th>MaxHeartRateAchieved</th>\n      <th>StDepression</th>\n      <th>NumMajorVessels</th>\n      <th>Sex_male</th>\n      <th>ChestPainType_atypical angina</th>\n      <th>ChestPainType_non-anginal pain</th>\n      <th>ChestPainType_typical angina</th>\n      <th>FastingBloodSugar_lower than 120mg/ml</th>\n      <th>RestECG_left ventricular hypertrophy</th>\n      <th>RestECG_normal</th>\n      <th>ExerciseInducedAngina_yes</th>\n      <th>StSlope_flat</th>\n      <th>StSlope_upsloping</th>\n      <th>Thalassemia_normal</th>\n      <th>Thalassemia_reversable defect</th>\n      <th>Target_no heart disease</th>\n    </tr>\n  </thead>\n  <tbody>\n    <tr>\n      <th>0</th>\n      <td>69</td>\n      <td>160</td>\n      <td>234</td>\n      <td>131</td>\n      <td>0.1</td>\n      <td>1</td>\n      <td>1</td>\n      <td>0</td>\n      <td>0</td>\n      <td>0</td>\n      <td>0</td>\n      <td>1</td>\n      <td>0</td>\n      <td>0</td>\n      <td>1</td>\n      <td>0</td>\n      <td>1</td>\n      <td>0</td>\n      <td>1</td>\n    </tr>\n    <tr>\n      <th>1</th>\n      <td>69</td>\n      <td>140</td>\n      <td>239</td>\n      <td>151</td>\n      <td>1.8</td>\n      <td>2</td>\n      <td>0</td>\n      <td>0</td>\n      <td>0</td>\n      <td>0</td>\n      <td>1</td>\n      <td>0</td>\n      <td>1</td>\n      <td>0</td>\n      <td>0</td>\n      <td>1</td>\n      <td>1</td>\n      <td>0</td>\n      <td>1</td>\n    </tr>\n    <tr>\n      <th>2</th>\n      <td>66</td>\n      <td>150</td>\n      <td>226</td>\n      <td>114</td>\n      <td>2.6</td>\n      <td>0</td>\n      <td>0</td>\n      <td>0</td>\n      <td>0</td>\n      <td>0</td>\n      <td>1</td>\n      <td>0</td>\n      <td>1</td>\n      <td>0</td>\n      <td>0</td>\n      <td>0</td>\n      <td>1</td>\n      <td>0</td>\n      <td>1</td>\n    </tr>\n    <tr>\n      <th>3</th>\n      <td>65</td>\n      <td>138</td>\n      <td>282</td>\n      <td>174</td>\n      <td>1.4</td>\n      <td>1</td>\n      <td>1</td>\n      <td>0</td>\n      <td>0</td>\n      <td>0</td>\n      <td>0</td>\n      <td>1</td>\n      <td>0</td>\n      <td>0</td>\n      <td>1</td>\n      <td>0</td>\n      <td>1</td>\n      <td>0</td>\n      <td>0</td>\n    </tr>\n    <tr>\n      <th>4</th>\n      <td>64</td>\n      <td>110</td>\n      <td>211</td>\n      <td>144</td>\n      <td>1.8</td>\n      <td>0</td>\n      <td>1</td>\n      <td>0</td>\n      <td>0</td>\n      <td>0</td>\n      <td>1</td>\n      <td>1</td>\n      <td>0</td>\n      <td>1</td>\n      <td>1</td>\n      <td>0</td>\n      <td>1</td>\n      <td>0</td>\n      <td>1</td>\n    </tr>\n    <tr>\n      <th>...</th>\n      <td>...</td>\n      <td>...</td>\n      <td>...</td>\n      <td>...</td>\n      <td>...</td>\n      <td>...</td>\n      <td>...</td>\n      <td>...</td>\n      <td>...</td>\n      <td>...</td>\n      <td>...</td>\n      <td>...</td>\n      <td>...</td>\n      <td>...</td>\n      <td>...</td>\n      <td>...</td>\n      <td>...</td>\n      <td>...</td>\n      <td>...</td>\n    </tr>\n    <tr>\n      <th>292</th>\n      <td>40</td>\n      <td>152</td>\n      <td>223</td>\n      <td>181</td>\n      <td>0.0</td>\n      <td>0</td>\n      <td>1</td>\n      <td>0</td>\n      <td>0</td>\n      <td>1</td>\n      <td>1</td>\n      <td>0</td>\n      <td>1</td>\n      <td>0</td>\n      <td>0</td>\n      <td>1</td>\n      <td>0</td>\n      <td>1</td>\n      <td>0</td>\n    </tr>\n    <tr>\n      <th>293</th>\n      <td>39</td>\n      <td>118</td>\n      <td>219</td>\n      <td>140</td>\n      <td>1.2</td>\n      <td>0</td>\n      <td>1</td>\n      <td>0</td>\n      <td>0</td>\n      <td>1</td>\n      <td>1</td>\n      <td>0</td>\n      <td>1</td>\n      <td>0</td>\n      <td>1</td>\n      <td>0</td>\n      <td>0</td>\n      <td>1</td>\n      <td>0</td>\n    </tr>\n    <tr>\n      <th>294</th>\n      <td>35</td>\n      <td>120</td>\n      <td>198</td>\n      <td>130</td>\n      <td>1.6</td>\n      <td>0</td>\n      <td>1</td>\n      <td>0</td>\n      <td>0</td>\n      <td>1</td>\n      <td>1</td>\n      <td>0</td>\n      <td>1</td>\n      <td>1</td>\n      <td>1</td>\n      <td>0</td>\n      <td>0</td>\n      <td>1</td>\n      <td>0</td>\n    </tr>\n    <tr>\n      <th>295</th>\n      <td>35</td>\n      <td>138</td>\n      <td>183</td>\n      <td>182</td>\n      <td>1.4</td>\n      <td>0</td>\n      <td>0</td>\n      <td>0</td>\n      <td>0</td>\n      <td>1</td>\n      <td>1</td>\n      <td>0</td>\n      <td>1</td>\n      <td>0</td>\n      <td>0</td>\n      <td>1</td>\n      <td>1</td>\n      <td>0</td>\n      <td>1</td>\n    </tr>\n    <tr>\n      <th>296</th>\n      <td>35</td>\n      <td>126</td>\n      <td>282</td>\n      <td>156</td>\n      <td>0.0</td>\n      <td>0</td>\n      <td>1</td>\n      <td>0</td>\n      <td>0</td>\n      <td>1</td>\n      <td>1</td>\n      <td>1</td>\n      <td>0</td>\n      <td>1</td>\n      <td>0</td>\n      <td>1</td>\n      <td>0</td>\n      <td>1</td>\n      <td>0</td>\n    </tr>\n  </tbody>\n</table>\n<p>297 rows × 19 columns</p>\n</div>"
     },
     "metadata": {},
     "execution_count": 13
    }
   ],
   "source": [
    "dData3 = pd.get_dummies(dData2, drop_first=True)\n",
    "dData3"
   ]
  },
  {
   "cell_type": "code",
   "execution_count": 14,
   "metadata": {},
   "outputs": [
    {
     "output_type": "stream",
     "name": "stdout",
     "text": [
      "<class 'pandas.core.frame.DataFrame'>\nRangeIndex: 297 entries, 0 to 296\nData columns (total 19 columns):\n #   Column                                 Non-Null Count  Dtype  \n---  ------                                 --------------  -----  \n 0   Age                                    297 non-null    int64  \n 1   RestingBloodPressure                   297 non-null    int64  \n 2   Cholesterol                            297 non-null    int64  \n 3   MaxHeartRateAchieved                   297 non-null    int64  \n 4   StDepression                           297 non-null    float64\n 5   NumMajorVessels                        297 non-null    int64  \n 6   Sex_male                               297 non-null    uint8  \n 7   ChestPainType_atypical angina          297 non-null    uint8  \n 8   ChestPainType_non-anginal pain         297 non-null    uint8  \n 9   ChestPainType_typical angina           297 non-null    uint8  \n 10  FastingBloodSugar_lower than 120mg/ml  297 non-null    uint8  \n 11  RestECG_left ventricular hypertrophy   297 non-null    uint8  \n 12  RestECG_normal                         297 non-null    uint8  \n 13  ExerciseInducedAngina_yes              297 non-null    uint8  \n 14  StSlope_flat                           297 non-null    uint8  \n 15  StSlope_upsloping                      297 non-null    uint8  \n 16  Thalassemia_normal                     297 non-null    uint8  \n 17  Thalassemia_reversable defect          297 non-null    uint8  \n 18  Target_no heart disease                297 non-null    uint8  \ndtypes: float64(1), int64(5), uint8(13)\nmemory usage: 17.8 KB\n"
     ]
    }
   ],
   "source": [
    "dData3.info()"
   ]
  },
  {
   "cell_type": "markdown",
   "metadata": {},
   "source": [
    "### Exercise B:\n",
    "1. Use `dData3` and get above 85% leave-one-out cross validation accuracy.\n",
    "2. You are allowed you to only 6 features (from the given 18).  \n",
    "Get more than 80% accuracy with only 6 features.  \n",
    "What is the right approach for this task?"
   ]
  },
  {
   "source": [
    "#-- Your solution to 1\n",
    "\n",
    "# https://scikit-learn.org/stable/modules/feature_selection.html\n",
    "\n",
    "mX3  = dData3.drop(columns='Target_no heart disease')\n",
    "mX3 -= mX3.mean(0)\n",
    "mX3 /= mX3.std(0)\n",
    "mX3.shape\n",
    "\n",
    "gs = GridSearchCV(\n",
    "    KNeighborsClassifier(),\n",
    "    grid_params,\n",
    "    verbose=3,\n",
    "    cv=cv,\n",
    "    n_jobs=-1)\n",
    "gs_result = gs.fit(mX3, vY)\n",
    "\n",
    "dfAnswers.loc[1] = [\n",
    "    'B-1',\n",
    "    'KNeighborsClassifier',\n",
    "    'Data with dummies',\n",
    "    f'Score: {100*gs_result.best_score_:2.2f}%'\n",
    "    '',\n",
    "    '',\n",
    "]"
   ],
   "cell_type": "code",
   "metadata": {},
   "execution_count": 15,
   "outputs": [
    {
     "output_type": "stream",
     "name": "stdout",
     "text": [
      "Fitting 297 folds for each of 20 candidates, totalling 5940 fits\n"
     ]
    }
   ]
  },
  {
   "cell_type": "code",
   "execution_count": 16,
   "metadata": {},
   "outputs": [
    {
     "output_type": "execute_result",
     "data": {
      "text/plain": [
       "  Exercise            Decription           Answer_1       Answer_2 Answer_3\n",
       "0  A        KNeighborsClassifier  Original Data      Score: 84.85%         \n",
       "1  B-1      KNeighborsClassifier  Data with dummies  Score: 83.50%         "
      ],
      "text/html": "<div>\n<style scoped>\n    .dataframe tbody tr th:only-of-type {\n        vertical-align: middle;\n    }\n\n    .dataframe tbody tr th {\n        vertical-align: top;\n    }\n\n    .dataframe thead th {\n        text-align: right;\n    }\n</style>\n<table border=\"1\" class=\"dataframe\">\n  <thead>\n    <tr style=\"text-align: right;\">\n      <th></th>\n      <th>Exercise</th>\n      <th>Decription</th>\n      <th>Answer_1</th>\n      <th>Answer_2</th>\n      <th>Answer_3</th>\n    </tr>\n  </thead>\n  <tbody>\n    <tr>\n      <th>0</th>\n      <td>A</td>\n      <td>KNeighborsClassifier</td>\n      <td>Original Data</td>\n      <td>Score: 84.85%</td>\n      <td></td>\n    </tr>\n    <tr>\n      <th>1</th>\n      <td>B-1</td>\n      <td>KNeighborsClassifier</td>\n      <td>Data with dummies</td>\n      <td>Score: 83.50%</td>\n      <td></td>\n    </tr>\n  </tbody>\n</table>\n</div>"
     },
     "metadata": {},
     "execution_count": 16
    }
   ],
   "source": [
    "dfAnswers"
   ]
  },
  {
   "cell_type": "code",
   "execution_count": 17,
   "metadata": {},
   "outputs": [],
   "source": [
    "#-- Your solution to 2"
   ]
  },
  {
   "cell_type": "code",
   "execution_count": 18,
   "metadata": {},
   "outputs": [],
   "source": [
    "# Try 1 - Using SelectFromModel : failed since the KNeighborsClassifier does not have any `coef_` or `feature_importances_` attribute\n",
    "\n",
    "# https://scikit-learn.org/stable/modules/generated/sklearn.feature_selection.SelectFromModel.html\n",
    "\n",
    "# from sklearn.feature_selection import SelectFromModel\n",
    "\n",
    "# selector = SelectFromModel(estimator=gs_result.best_estimator_, max_features=6).fit(mX3, vY)\n",
    "# selector.estimator_\n",
    "# selector.fit_transform(mX3, vY)\n",
    "\n",
    "# ValueError: when `importance_getter=='auto'`, the underlying estimator KNeighborsClassifier should have `coef_` or `feature_importances_` attribute. Either pass a fitted estimator to feature selector or call fit before calling transform."
   ]
  },
  {
   "cell_type": "code",
   "execution_count": 19,
   "metadata": {},
   "outputs": [
    {
     "output_type": "stream",
     "name": "stdout",
     "text": [
      "Fitting 297 folds for each of 20 candidates, totalling 5940 fits\n"
     ]
    }
   ],
   "source": [
    "# Try 2 - Using scikit-learn SequentialFeatureSelector\n",
    "\n",
    "# http://rasbt.github.io/mlxtend/user_guide/feature_selection/SequentialFeatureSelector/\n",
    "# https://towardsdatascience.com/new-features-of-scikit-learn-fbbfe7652bfb\n",
    "\n",
    "from sklearn.feature_selection import SequentialFeatureSelector\n",
    "n_features = 6\n",
    "sfs_forward = SequentialFeatureSelector(gs_result.best_estimator_, \n",
    "                                n_features_to_select=n_features, \n",
    "                                direction='forward',\n",
    "                                cv=cv,\n",
    "                                )\n",
    "sfs_forward.fit(mX3, vY)\n",
    "\n",
    "gs_result = gs.fit(sfs_forward.transform(mX3), vY)\n",
    "\n",
    "dfAnswers.loc[2] = [\n",
    "    'B-2',\n",
    "    'Feature Selection',\n",
    "    'sklearn.feature_selection forward',\n",
    "    f'Score {100*gs_result.best_score_:2.2f}%',\n",
    "    np.arange(sfs_forward.n_features_in_)[sfs_forward.get_support()],\n",
    "]"
   ]
  },
  {
   "cell_type": "code",
   "execution_count": 20,
   "metadata": {},
   "outputs": [
    {
     "output_type": "execute_result",
     "data": {
      "text/plain": [
       "  Exercise            Decription                           Answer_1  \\\n",
       "0  A        KNeighborsClassifier  Original Data                       \n",
       "1  B-1      KNeighborsClassifier  Data with dummies                   \n",
       "2  B-2      Feature Selection     sklearn.feature_selection forward   \n",
       "\n",
       "        Answer_2               Answer_3  \n",
       "0  Score: 84.85%                         \n",
       "1  Score: 83.50%                         \n",
       "2  Score 84.51%   [4, 5, 9, 14, 15, 16]  "
      ],
      "text/html": "<div>\n<style scoped>\n    .dataframe tbody tr th:only-of-type {\n        vertical-align: middle;\n    }\n\n    .dataframe tbody tr th {\n        vertical-align: top;\n    }\n\n    .dataframe thead th {\n        text-align: right;\n    }\n</style>\n<table border=\"1\" class=\"dataframe\">\n  <thead>\n    <tr style=\"text-align: right;\">\n      <th></th>\n      <th>Exercise</th>\n      <th>Decription</th>\n      <th>Answer_1</th>\n      <th>Answer_2</th>\n      <th>Answer_3</th>\n    </tr>\n  </thead>\n  <tbody>\n    <tr>\n      <th>0</th>\n      <td>A</td>\n      <td>KNeighborsClassifier</td>\n      <td>Original Data</td>\n      <td>Score: 84.85%</td>\n      <td></td>\n    </tr>\n    <tr>\n      <th>1</th>\n      <td>B-1</td>\n      <td>KNeighborsClassifier</td>\n      <td>Data with dummies</td>\n      <td>Score: 83.50%</td>\n      <td></td>\n    </tr>\n    <tr>\n      <th>2</th>\n      <td>B-2</td>\n      <td>Feature Selection</td>\n      <td>sklearn.feature_selection forward</td>\n      <td>Score 84.51%</td>\n      <td>[4, 5, 9, 14, 15, 16]</td>\n    </tr>\n  </tbody>\n</table>\n</div>"
     },
     "metadata": {},
     "execution_count": 20
    }
   ],
   "source": [
    "dfAnswers"
   ]
  },
  {
   "cell_type": "code",
   "execution_count": 21,
   "metadata": {},
   "outputs": [
    {
     "output_type": "stream",
     "name": "stdout",
     "text": [
      "Fitting 297 folds for each of 20 candidates, totalling 5940 fits\n"
     ]
    }
   ],
   "source": [
    "sfs_backward = SequentialFeatureSelector(gs_result.best_estimator_, \n",
    "                                n_features_to_select=n_features, \n",
    "                                direction='backward',\n",
    "                                cv=cv\n",
    "                                )\n",
    "sfs_backward.fit(mX3, vY)\n",
    "\n",
    "gs_result = gs.fit(sfs_backward.transform(mX3), vY)\n",
    "\n",
    "dfAnswers.loc[3] = [\n",
    "    'B-2',\n",
    "    'Feature Selection',\n",
    "    'sklearn.feature_selection backward',\n",
    "    f'Score {100*gs_result.best_score_:2.2f}%',\n",
    "    np.arange(sfs_backward.n_features_in_)[sfs_backward.get_support()],\n",
    "]"
   ]
  },
  {
   "cell_type": "code",
   "execution_count": 22,
   "metadata": {},
   "outputs": [
    {
     "output_type": "execute_result",
     "data": {
      "text/plain": [
       "  Exercise            Decription                            Answer_1  \\\n",
       "0  A        KNeighborsClassifier  Original Data                        \n",
       "1  B-1      KNeighborsClassifier  Data with dummies                    \n",
       "2  B-2      Feature Selection     sklearn.feature_selection forward    \n",
       "3  B-2      Feature Selection     sklearn.feature_selection backward   \n",
       "\n",
       "        Answer_2                Answer_3  \n",
       "0  Score: 84.85%                          \n",
       "1  Score: 83.50%                          \n",
       "2  Score 84.51%   [4, 5, 9, 14, 15, 16]   \n",
       "3  Score 84.85%   [5, 9, 13, 14, 15, 16]  "
      ],
      "text/html": "<div>\n<style scoped>\n    .dataframe tbody tr th:only-of-type {\n        vertical-align: middle;\n    }\n\n    .dataframe tbody tr th {\n        vertical-align: top;\n    }\n\n    .dataframe thead th {\n        text-align: right;\n    }\n</style>\n<table border=\"1\" class=\"dataframe\">\n  <thead>\n    <tr style=\"text-align: right;\">\n      <th></th>\n      <th>Exercise</th>\n      <th>Decription</th>\n      <th>Answer_1</th>\n      <th>Answer_2</th>\n      <th>Answer_3</th>\n    </tr>\n  </thead>\n  <tbody>\n    <tr>\n      <th>0</th>\n      <td>A</td>\n      <td>KNeighborsClassifier</td>\n      <td>Original Data</td>\n      <td>Score: 84.85%</td>\n      <td></td>\n    </tr>\n    <tr>\n      <th>1</th>\n      <td>B-1</td>\n      <td>KNeighborsClassifier</td>\n      <td>Data with dummies</td>\n      <td>Score: 83.50%</td>\n      <td></td>\n    </tr>\n    <tr>\n      <th>2</th>\n      <td>B-2</td>\n      <td>Feature Selection</td>\n      <td>sklearn.feature_selection forward</td>\n      <td>Score 84.51%</td>\n      <td>[4, 5, 9, 14, 15, 16]</td>\n    </tr>\n    <tr>\n      <th>3</th>\n      <td>B-2</td>\n      <td>Feature Selection</td>\n      <td>sklearn.feature_selection backward</td>\n      <td>Score 84.85%</td>\n      <td>[5, 9, 13, 14, 15, 16]</td>\n    </tr>\n  </tbody>\n</table>\n</div>"
     },
     "metadata": {},
     "execution_count": 22
    }
   ],
   "source": [
    "dfAnswers"
   ]
  },
  {
   "cell_type": "code",
   "execution_count": 23,
   "metadata": {},
   "outputs": [],
   "source": [
    "# Try 3 - Using the mlxtend SequentialFeatureSelector (enables to get the score without additional fit)\n",
    "\n",
    "# Finding the score WITHOUT perfomring with only one fit\n",
    "\n",
    "# https://www.kdnuggets.com/2018/06/step-forward-feature-selection-python.html\n",
    "# http://rasbt.github.io/mlxtend/user_guide/feature_selection/SequentialFeatureSelector/\n",
    "\n",
    "# pip install mlxtend\n",
    "\n",
    "from sklearn.metrics import accuracy_score as acc\n",
    "from mlxtend.feature_selection import SequentialFeatureSelector as mlxtend_sfs\n"
   ]
  },
  {
   "cell_type": "code",
   "execution_count": 24,
   "metadata": {},
   "outputs": [
    {
     "output_type": "stream",
     "name": "stderr",
     "text": [
      "[Parallel(n_jobs=1)]: Using backend SequentialBackend with 1 concurrent workers.\n",
      "[Parallel(n_jobs=1)]: Done   1 out of   1 | elapsed:    0.5s remaining:    0.0s\n",
      "[Parallel(n_jobs=1)]: Done  18 out of  18 | elapsed:    8.9s finished\n",
      "\n",
      "[2021-07-16 23:42:53] Features: 1/6 -- score: 0.7542087542087542[Parallel(n_jobs=1)]: Using backend SequentialBackend with 1 concurrent workers.\n",
      "[Parallel(n_jobs=1)]: Done   1 out of   1 | elapsed:    0.4s remaining:    0.0s\n",
      "[Parallel(n_jobs=1)]: Done  17 out of  17 | elapsed:    8.5s finished\n",
      "\n",
      "[2021-07-16 23:43:02] Features: 2/6 -- score: 0.7777777777777778[Parallel(n_jobs=1)]: Using backend SequentialBackend with 1 concurrent workers.\n",
      "[Parallel(n_jobs=1)]: Done   1 out of   1 | elapsed:    0.4s remaining:    0.0s\n",
      "[Parallel(n_jobs=1)]: Done  16 out of  16 | elapsed:    8.1s finished\n",
      "\n",
      "[2021-07-16 23:43:10] Features: 3/6 -- score: 0.8114478114478114[Parallel(n_jobs=1)]: Using backend SequentialBackend with 1 concurrent workers.\n",
      "[Parallel(n_jobs=1)]: Done   1 out of   1 | elapsed:    0.5s remaining:    0.0s\n",
      "[Parallel(n_jobs=1)]: Done  15 out of  15 | elapsed:    7.9s finished\n",
      "\n",
      "[2021-07-16 23:43:18] Features: 4/6 -- score: 0.835016835016835[Parallel(n_jobs=1)]: Using backend SequentialBackend with 1 concurrent workers.\n",
      "[Parallel(n_jobs=1)]: Done   1 out of   1 | elapsed:    0.5s remaining:    0.0s\n",
      "[Parallel(n_jobs=1)]: Done  14 out of  14 | elapsed:    7.5s finished\n",
      "\n",
      "[2021-07-16 23:43:26] Features: 5/6 -- score: 0.8484848484848485[Parallel(n_jobs=1)]: Using backend SequentialBackend with 1 concurrent workers.\n",
      "[Parallel(n_jobs=1)]: Done   1 out of   1 | elapsed:    0.5s remaining:    0.0s\n",
      "[Parallel(n_jobs=1)]: Done  13 out of  13 | elapsed:    7.4s finished\n",
      "\n",
      "[2021-07-16 23:43:33] Features: 6/6 -- score: 0.8451178451178452"
     ]
    }
   ],
   "source": [
    "sfs1_forward = mlxtend_sfs(gs_result.best_estimator_,\n",
    "           k_features=n_features,\n",
    "           forward=True,\n",
    "           floating=False,\n",
    "           verbose=2,\n",
    "           scoring='accuracy',\n",
    "           cv=cv,\n",
    "           )\n",
    "\n",
    "sfs1_forward = sfs1_forward.fit(mX3, vY)\n"
   ]
  },
  {
   "cell_type": "code",
   "execution_count": 25,
   "metadata": {},
   "outputs": [],
   "source": [
    "dfAnswers.loc[4] = [\n",
    "    'B-2',\n",
    "    'Feature Selection',\n",
    "    'mlextend.feature_selection forward',\n",
    "    f'Score {100*sfs1_forward.k_score_:2.2f}%',\n",
    "    sfs1_forward.k_feature_idx_,\n",
    "]"
   ]
  },
  {
   "cell_type": "code",
   "execution_count": 27,
   "metadata": {},
   "outputs": [
    {
     "output_type": "stream",
     "name": "stderr",
     "text": [
      "[Parallel(n_jobs=1)]: Using backend SequentialBackend with 1 concurrent workers.\n",
      "[Parallel(n_jobs=1)]: Done   1 out of   1 | elapsed:    0.3s remaining:    0.0s\n",
      "[Parallel(n_jobs=1)]: Done  18 out of  18 | elapsed:    6.7s finished\n",
      "\n",
      "[2021-07-16 23:45:04] Features: 17/6 -- score: 0.8383838383838383[Parallel(n_jobs=1)]: Using backend SequentialBackend with 1 concurrent workers.\n",
      "[Parallel(n_jobs=1)]: Done   1 out of   1 | elapsed:    0.3s remaining:    0.0s\n",
      "[Parallel(n_jobs=1)]: Done  17 out of  17 | elapsed:    5.8s finished\n",
      "\n",
      "[2021-07-16 23:45:10] Features: 16/6 -- score: 0.8383838383838383[Parallel(n_jobs=1)]: Using backend SequentialBackend with 1 concurrent workers.\n",
      "[Parallel(n_jobs=1)]: Done   1 out of   1 | elapsed:    0.5s remaining:    0.0s\n",
      "[Parallel(n_jobs=1)]: Done  16 out of  16 | elapsed:    9.4s finished\n",
      "\n",
      "[2021-07-16 23:45:19] Features: 15/6 -- score: 0.8417508417508418[Parallel(n_jobs=1)]: Using backend SequentialBackend with 1 concurrent workers.\n",
      "[Parallel(n_jobs=1)]: Done   1 out of   1 | elapsed:    0.5s remaining:    0.0s\n",
      "[Parallel(n_jobs=1)]: Done  15 out of  15 | elapsed:    8.6s finished\n",
      "\n",
      "[2021-07-16 23:45:28] Features: 14/6 -- score: 0.8383838383838383[Parallel(n_jobs=1)]: Using backend SequentialBackend with 1 concurrent workers.\n",
      "[Parallel(n_jobs=1)]: Done   1 out of   1 | elapsed:    0.5s remaining:    0.0s\n",
      "[Parallel(n_jobs=1)]: Done  14 out of  14 | elapsed:    8.1s finished\n",
      "\n",
      "[2021-07-16 23:45:36] Features: 13/6 -- score: 0.835016835016835[Parallel(n_jobs=1)]: Using backend SequentialBackend with 1 concurrent workers.\n",
      "[Parallel(n_jobs=1)]: Done   1 out of   1 | elapsed:    0.5s remaining:    0.0s\n",
      "[Parallel(n_jobs=1)]: Done  13 out of  13 | elapsed:    7.0s finished\n",
      "\n",
      "[2021-07-16 23:45:43] Features: 12/6 -- score: 0.8316498316498316[Parallel(n_jobs=1)]: Using backend SequentialBackend with 1 concurrent workers.\n",
      "[Parallel(n_jobs=1)]: Done   1 out of   1 | elapsed:    0.5s remaining:    0.0s\n",
      "[Parallel(n_jobs=1)]: Done  12 out of  12 | elapsed:    6.4s finished\n",
      "\n",
      "[2021-07-16 23:45:50] Features: 11/6 -- score: 0.8451178451178452[Parallel(n_jobs=1)]: Using backend SequentialBackend with 1 concurrent workers.\n",
      "[Parallel(n_jobs=1)]: Done   1 out of   1 | elapsed:    0.4s remaining:    0.0s\n",
      "[Parallel(n_jobs=1)]: Done  11 out of  11 | elapsed:    5.8s finished\n",
      "\n",
      "[2021-07-16 23:45:55] Features: 10/6 -- score: 0.8451178451178452[Parallel(n_jobs=1)]: Using backend SequentialBackend with 1 concurrent workers.\n",
      "[Parallel(n_jobs=1)]: Done   1 out of   1 | elapsed:    0.4s remaining:    0.0s\n",
      "[Parallel(n_jobs=1)]: Done  10 out of  10 | elapsed:    5.1s finished\n",
      "\n",
      "[2021-07-16 23:46:01] Features: 9/6 -- score: 0.8518518518518519[Parallel(n_jobs=1)]: Using backend SequentialBackend with 1 concurrent workers.\n",
      "[Parallel(n_jobs=1)]: Done   1 out of   1 | elapsed:    0.4s remaining:    0.0s\n",
      "[Parallel(n_jobs=1)]: Done   9 out of   9 | elapsed:    4.5s finished\n",
      "\n",
      "[2021-07-16 23:46:05] Features: 8/6 -- score: 0.8484848484848485[Parallel(n_jobs=1)]: Using backend SequentialBackend with 1 concurrent workers.\n",
      "[Parallel(n_jobs=1)]: Done   1 out of   1 | elapsed:    0.4s remaining:    0.0s\n",
      "[Parallel(n_jobs=1)]: Done   8 out of   8 | elapsed:    3.9s finished\n",
      "\n",
      "[2021-07-16 23:46:09] Features: 7/6 -- score: 0.835016835016835[Parallel(n_jobs=1)]: Using backend SequentialBackend with 1 concurrent workers.\n",
      "[Parallel(n_jobs=1)]: Done   1 out of   1 | elapsed:    0.4s remaining:    0.0s\n",
      "[Parallel(n_jobs=1)]: Done   7 out of   7 | elapsed:    3.3s finished\n",
      "\n",
      "[2021-07-16 23:46:13] Features: 6/6 -- score: 0.8383838383838383"
     ]
    }
   ],
   "source": [
    "sfs1_backward = mlxtend_sfs(gs_result.best_estimator_,\n",
    "           k_features=n_features,\n",
    "           forward=False,\n",
    "           floating=False,\n",
    "           verbose=2,\n",
    "           scoring='accuracy',\n",
    "           cv=cv,\n",
    "           )\n",
    "sfs1_backward = sfs1_backward.fit(mX3, vY)"
   ]
  },
  {
   "cell_type": "code",
   "execution_count": 28,
   "metadata": {},
   "outputs": [],
   "source": [
    "dfAnswers.loc[5] = [\n",
    "    'B-2',\n",
    "    'Feature Selection',\n",
    "    'mlextend.feature_selection backward',\n",
    "    f'Score {100*sfs1_backward.k_score_:2.2f}%',\n",
    "    sfs1_backward.k_feature_idx_,\n",
    "]"
   ]
  },
  {
   "cell_type": "code",
   "execution_count": 29,
   "metadata": {},
   "outputs": [],
   "source": [
    "# Try 4 - Old School\n",
    "\n",
    "from sklearn.model_selection import cross_val_predict, KFold\n",
    "from sklearn.metrics import accuracy_score\n",
    "\n",
    "# Initialztion:\n",
    "dfAccuracy = pd.DataFrame(columns=['Feature', 'Accuracy'])\n",
    "reduced_feature_list = []\n",
    "feature_list_for_prediction = mX3.columns\n",
    "\n",
    "while len(reduced_feature_list) != n_features:\n",
    "    dfAccuracy = dfAccuracy.iloc[0:0]\n",
    "    for index, col in enumerate(feature_list_for_prediction):\n",
    "        current_cols = [col] + reduced_feature_list\n",
    "        y_pred = cross_val_predict(gs_result.best_estimator_, mX3[current_cols], vY, cv=cv)\n",
    "        dfAccuracy.loc[index] =[col, accuracy_score(vY, y_pred)]\n",
    "    max_feature = dfAccuracy.Feature.iloc[dfAccuracy.Accuracy.idxmax()]\n",
    "    feature_list_for_prediction = feature_list_for_prediction.drop(max_feature)\n",
    "    reduced_feature_list.append(max_feature)\n",
    "    dfAnswers.loc[len(dfAnswers)] = [\n",
    "        'B-2',\n",
    "        'Feature Selection',\n",
    "        'Explicit loop',\n",
    "        f'Score: {100*accuracy_score(vY, y_pred):2.2f}%',\n",
    "        [mX3.columns.get_loc(col) for col in current_cols],\n",
    "        ]\n"
   ]
  },
  {
   "cell_type": "code",
   "execution_count": 30,
   "metadata": {},
   "outputs": [
    {
     "output_type": "execute_result",
     "data": {
      "text/plain": [
       "   Exercise            Decription                             Answer_1  \\\n",
       "0   A        KNeighborsClassifier  Original Data                         \n",
       "1   B-1      KNeighborsClassifier  Data with dummies                     \n",
       "2   B-2      Feature Selection     sklearn.feature_selection forward     \n",
       "3   B-2      Feature Selection     sklearn.feature_selection backward    \n",
       "4   B-2      Feature Selection     mlextend.feature_selection forward    \n",
       "5   B-2      Feature Selection     mlextend.feature_selection backward   \n",
       "6   B-2      Feature Selection     Explicit loop                         \n",
       "7   B-2      Feature Selection     Explicit loop                         \n",
       "8   B-2      Feature Selection     Explicit loop                         \n",
       "9   B-2      Feature Selection     Explicit loop                         \n",
       "10  B-2      Feature Selection     Explicit loop                         \n",
       "11  B-2      Feature Selection     Explicit loop                         \n",
       "\n",
       "         Answer_2                Answer_3  \n",
       "0   Score: 84.85%                          \n",
       "1   Score: 83.50%                          \n",
       "2   Score 84.51%   [4, 5, 9, 14, 15, 16]   \n",
       "3   Score 84.85%   [5, 9, 13, 14, 15, 16]  \n",
       "4   Score 84.51%   (4, 5, 9, 14, 15, 16)   \n",
       "5   Score 83.84%   (4, 5, 9, 10, 15, 17)   \n",
       "6   Score: 74.41%  [17]                    \n",
       "7   Score: 74.75%  [17, 9]                 \n",
       "8   Score: 73.40%  [17, 9, 4]              \n",
       "9   Score: 81.48%  [17, 9, 4, 5]           \n",
       "10  Score: 81.14%  [17, 9, 4, 5, 16]       \n",
       "11  Score: 83.84%  [17, 9, 4, 5, 16, 14]   "
      ],
      "text/html": "<div>\n<style scoped>\n    .dataframe tbody tr th:only-of-type {\n        vertical-align: middle;\n    }\n\n    .dataframe tbody tr th {\n        vertical-align: top;\n    }\n\n    .dataframe thead th {\n        text-align: right;\n    }\n</style>\n<table border=\"1\" class=\"dataframe\">\n  <thead>\n    <tr style=\"text-align: right;\">\n      <th></th>\n      <th>Exercise</th>\n      <th>Decription</th>\n      <th>Answer_1</th>\n      <th>Answer_2</th>\n      <th>Answer_3</th>\n    </tr>\n  </thead>\n  <tbody>\n    <tr>\n      <th>0</th>\n      <td>A</td>\n      <td>KNeighborsClassifier</td>\n      <td>Original Data</td>\n      <td>Score: 84.85%</td>\n      <td></td>\n    </tr>\n    <tr>\n      <th>1</th>\n      <td>B-1</td>\n      <td>KNeighborsClassifier</td>\n      <td>Data with dummies</td>\n      <td>Score: 83.50%</td>\n      <td></td>\n    </tr>\n    <tr>\n      <th>2</th>\n      <td>B-2</td>\n      <td>Feature Selection</td>\n      <td>sklearn.feature_selection forward</td>\n      <td>Score 84.51%</td>\n      <td>[4, 5, 9, 14, 15, 16]</td>\n    </tr>\n    <tr>\n      <th>3</th>\n      <td>B-2</td>\n      <td>Feature Selection</td>\n      <td>sklearn.feature_selection backward</td>\n      <td>Score 84.85%</td>\n      <td>[5, 9, 13, 14, 15, 16]</td>\n    </tr>\n    <tr>\n      <th>4</th>\n      <td>B-2</td>\n      <td>Feature Selection</td>\n      <td>mlextend.feature_selection forward</td>\n      <td>Score 84.51%</td>\n      <td>(4, 5, 9, 14, 15, 16)</td>\n    </tr>\n    <tr>\n      <th>5</th>\n      <td>B-2</td>\n      <td>Feature Selection</td>\n      <td>mlextend.feature_selection backward</td>\n      <td>Score 83.84%</td>\n      <td>(4, 5, 9, 10, 15, 17)</td>\n    </tr>\n    <tr>\n      <th>6</th>\n      <td>B-2</td>\n      <td>Feature Selection</td>\n      <td>Explicit loop</td>\n      <td>Score: 74.41%</td>\n      <td>[17]</td>\n    </tr>\n    <tr>\n      <th>7</th>\n      <td>B-2</td>\n      <td>Feature Selection</td>\n      <td>Explicit loop</td>\n      <td>Score: 74.75%</td>\n      <td>[17, 9]</td>\n    </tr>\n    <tr>\n      <th>8</th>\n      <td>B-2</td>\n      <td>Feature Selection</td>\n      <td>Explicit loop</td>\n      <td>Score: 73.40%</td>\n      <td>[17, 9, 4]</td>\n    </tr>\n    <tr>\n      <th>9</th>\n      <td>B-2</td>\n      <td>Feature Selection</td>\n      <td>Explicit loop</td>\n      <td>Score: 81.48%</td>\n      <td>[17, 9, 4, 5]</td>\n    </tr>\n    <tr>\n      <th>10</th>\n      <td>B-2</td>\n      <td>Feature Selection</td>\n      <td>Explicit loop</td>\n      <td>Score: 81.14%</td>\n      <td>[17, 9, 4, 5, 16]</td>\n    </tr>\n    <tr>\n      <th>11</th>\n      <td>B-2</td>\n      <td>Feature Selection</td>\n      <td>Explicit loop</td>\n      <td>Score: 83.84%</td>\n      <td>[17, 9, 4, 5, 16, 14]</td>\n    </tr>\n  </tbody>\n</table>\n</div>"
     },
     "metadata": {},
     "execution_count": 30
    }
   ],
   "source": [
    "dfAnswers"
   ]
  },
  {
   "cell_type": "code",
   "execution_count": 31,
   "metadata": {},
   "outputs": [
    {
     "output_type": "execute_result",
     "data": {
      "text/plain": [
       "Index(['Age', 'RestingBloodPressure', 'Cholesterol', 'MaxHeartRateAchieved',\n",
       "       'StDepression', 'NumMajorVessels', 'Sex_male',\n",
       "       'ChestPainType_atypical angina', 'ChestPainType_non-anginal pain',\n",
       "       'ChestPainType_typical angina', 'FastingBloodSugar_lower than 120mg/ml',\n",
       "       'RestECG_left ventricular hypertrophy', 'RestECG_normal',\n",
       "       'ExerciseInducedAngina_yes', 'StSlope_flat', 'StSlope_upsloping',\n",
       "       'Thalassemia_normal', 'Thalassemia_reversable defect',\n",
       "       'Target_no heart disease'],\n",
       "      dtype='object')"
      ]
     },
     "metadata": {},
     "execution_count": 31
    }
   ],
   "source": [
    "dData3.columns"
   ]
  },
  {
   "cell_type": "code",
   "execution_count": 32,
   "metadata": {},
   "outputs": [
    {
     "output_type": "execute_result",
     "data": {
      "text/plain": [
       "     Age  RestingBloodPressure  Cholesterol  MaxHeartRateAchieved  \\\n",
       "0    69   160                   234          131                    \n",
       "1    69   140                   239          151                    \n",
       "2    66   150                   226          114                    \n",
       "3    65   138                   282          174                    \n",
       "4    64   110                   211          144                    \n",
       "..   ..   ...                   ...          ...                    \n",
       "292  40   152                   223          181                    \n",
       "293  39   118                   219          140                    \n",
       "294  35   120                   198          130                    \n",
       "295  35   138                   183          182                    \n",
       "296  35   126                   282          156                    \n",
       "\n",
       "     StDepression  NumMajorVessels  Sex_male  ChestPainType_atypical angina  \\\n",
       "0    0.1           1                1         0                               \n",
       "1    1.8           2                0         0                               \n",
       "2    2.6           0                0         0                               \n",
       "3    1.4           1                1         0                               \n",
       "4    1.8           0                1         0                               \n",
       "..   ...          ..               ..        ..                               \n",
       "292  0.0           0                1         0                               \n",
       "293  1.2           0                1         0                               \n",
       "294  1.6           0                1         0                               \n",
       "295  1.4           0                0         0                               \n",
       "296  0.0           0                1         0                               \n",
       "\n",
       "     ChestPainType_non-anginal pain  ChestPainType_typical angina  \\\n",
       "0    0                               0                              \n",
       "1    0                               0                              \n",
       "2    0                               0                              \n",
       "3    0                               0                              \n",
       "4    0                               0                              \n",
       "..  ..                              ..                              \n",
       "292  0                               1                              \n",
       "293  0                               1                              \n",
       "294  0                               1                              \n",
       "295  0                               1                              \n",
       "296  0                               1                              \n",
       "\n",
       "     FastingBloodSugar_lower than 120mg/ml  \\\n",
       "0    0                                       \n",
       "1    1                                       \n",
       "2    1                                       \n",
       "3    0                                       \n",
       "4    1                                       \n",
       "..  ..                                       \n",
       "292  1                                       \n",
       "293  1                                       \n",
       "294  1                                       \n",
       "295  1                                       \n",
       "296  1                                       \n",
       "\n",
       "     RestECG_left ventricular hypertrophy  RestECG_normal  \\\n",
       "0    1                                     0                \n",
       "1    0                                     1                \n",
       "2    0                                     1                \n",
       "3    1                                     0                \n",
       "4    1                                     0                \n",
       "..  ..                                    ..                \n",
       "292  0                                     1                \n",
       "293  0                                     1                \n",
       "294  0                                     1                \n",
       "295  0                                     1                \n",
       "296  1                                     0                \n",
       "\n",
       "     ExerciseInducedAngina_yes  StSlope_flat  StSlope_upsloping  \\\n",
       "0    0                          1             0                   \n",
       "1    0                          0             1                   \n",
       "2    0                          0             0                   \n",
       "3    0                          1             0                   \n",
       "4    1                          1             0                   \n",
       "..  ..                         ..            ..                   \n",
       "292  0                          0             1                   \n",
       "293  0                          1             0                   \n",
       "294  1                          1             0                   \n",
       "295  0                          0             1                   \n",
       "296  1                          0             1                   \n",
       "\n",
       "     Thalassemia_normal  Thalassemia_reversable defect  \\\n",
       "0    1                   0                               \n",
       "1    1                   0                               \n",
       "2    1                   0                               \n",
       "3    1                   0                               \n",
       "4    1                   0                               \n",
       "..  ..                  ..                               \n",
       "292  0                   1                               \n",
       "293  0                   1                               \n",
       "294  0                   1                               \n",
       "295  1                   0                               \n",
       "296  0                   1                               \n",
       "\n",
       "     Target_no heart disease  \n",
       "0    1                        \n",
       "1    1                        \n",
       "2    1                        \n",
       "3    0                        \n",
       "4    1                        \n",
       "..  ..                        \n",
       "292  0                        \n",
       "293  0                        \n",
       "294  0                        \n",
       "295  1                        \n",
       "296  0                        \n",
       "\n",
       "[297 rows x 19 columns]"
      ],
      "text/html": "<div>\n<style scoped>\n    .dataframe tbody tr th:only-of-type {\n        vertical-align: middle;\n    }\n\n    .dataframe tbody tr th {\n        vertical-align: top;\n    }\n\n    .dataframe thead th {\n        text-align: right;\n    }\n</style>\n<table border=\"1\" class=\"dataframe\">\n  <thead>\n    <tr style=\"text-align: right;\">\n      <th></th>\n      <th>Age</th>\n      <th>RestingBloodPressure</th>\n      <th>Cholesterol</th>\n      <th>MaxHeartRateAchieved</th>\n      <th>StDepression</th>\n      <th>NumMajorVessels</th>\n      <th>Sex_male</th>\n      <th>ChestPainType_atypical angina</th>\n      <th>ChestPainType_non-anginal pain</th>\n      <th>ChestPainType_typical angina</th>\n      <th>FastingBloodSugar_lower than 120mg/ml</th>\n      <th>RestECG_left ventricular hypertrophy</th>\n      <th>RestECG_normal</th>\n      <th>ExerciseInducedAngina_yes</th>\n      <th>StSlope_flat</th>\n      <th>StSlope_upsloping</th>\n      <th>Thalassemia_normal</th>\n      <th>Thalassemia_reversable defect</th>\n      <th>Target_no heart disease</th>\n    </tr>\n  </thead>\n  <tbody>\n    <tr>\n      <th>0</th>\n      <td>69</td>\n      <td>160</td>\n      <td>234</td>\n      <td>131</td>\n      <td>0.1</td>\n      <td>1</td>\n      <td>1</td>\n      <td>0</td>\n      <td>0</td>\n      <td>0</td>\n      <td>0</td>\n      <td>1</td>\n      <td>0</td>\n      <td>0</td>\n      <td>1</td>\n      <td>0</td>\n      <td>1</td>\n      <td>0</td>\n      <td>1</td>\n    </tr>\n    <tr>\n      <th>1</th>\n      <td>69</td>\n      <td>140</td>\n      <td>239</td>\n      <td>151</td>\n      <td>1.8</td>\n      <td>2</td>\n      <td>0</td>\n      <td>0</td>\n      <td>0</td>\n      <td>0</td>\n      <td>1</td>\n      <td>0</td>\n      <td>1</td>\n      <td>0</td>\n      <td>0</td>\n      <td>1</td>\n      <td>1</td>\n      <td>0</td>\n      <td>1</td>\n    </tr>\n    <tr>\n      <th>2</th>\n      <td>66</td>\n      <td>150</td>\n      <td>226</td>\n      <td>114</td>\n      <td>2.6</td>\n      <td>0</td>\n      <td>0</td>\n      <td>0</td>\n      <td>0</td>\n      <td>0</td>\n      <td>1</td>\n      <td>0</td>\n      <td>1</td>\n      <td>0</td>\n      <td>0</td>\n      <td>0</td>\n      <td>1</td>\n      <td>0</td>\n      <td>1</td>\n    </tr>\n    <tr>\n      <th>3</th>\n      <td>65</td>\n      <td>138</td>\n      <td>282</td>\n      <td>174</td>\n      <td>1.4</td>\n      <td>1</td>\n      <td>1</td>\n      <td>0</td>\n      <td>0</td>\n      <td>0</td>\n      <td>0</td>\n      <td>1</td>\n      <td>0</td>\n      <td>0</td>\n      <td>1</td>\n      <td>0</td>\n      <td>1</td>\n      <td>0</td>\n      <td>0</td>\n    </tr>\n    <tr>\n      <th>4</th>\n      <td>64</td>\n      <td>110</td>\n      <td>211</td>\n      <td>144</td>\n      <td>1.8</td>\n      <td>0</td>\n      <td>1</td>\n      <td>0</td>\n      <td>0</td>\n      <td>0</td>\n      <td>1</td>\n      <td>1</td>\n      <td>0</td>\n      <td>1</td>\n      <td>1</td>\n      <td>0</td>\n      <td>1</td>\n      <td>0</td>\n      <td>1</td>\n    </tr>\n    <tr>\n      <th>...</th>\n      <td>...</td>\n      <td>...</td>\n      <td>...</td>\n      <td>...</td>\n      <td>...</td>\n      <td>...</td>\n      <td>...</td>\n      <td>...</td>\n      <td>...</td>\n      <td>...</td>\n      <td>...</td>\n      <td>...</td>\n      <td>...</td>\n      <td>...</td>\n      <td>...</td>\n      <td>...</td>\n      <td>...</td>\n      <td>...</td>\n      <td>...</td>\n    </tr>\n    <tr>\n      <th>292</th>\n      <td>40</td>\n      <td>152</td>\n      <td>223</td>\n      <td>181</td>\n      <td>0.0</td>\n      <td>0</td>\n      <td>1</td>\n      <td>0</td>\n      <td>0</td>\n      <td>1</td>\n      <td>1</td>\n      <td>0</td>\n      <td>1</td>\n      <td>0</td>\n      <td>0</td>\n      <td>1</td>\n      <td>0</td>\n      <td>1</td>\n      <td>0</td>\n    </tr>\n    <tr>\n      <th>293</th>\n      <td>39</td>\n      <td>118</td>\n      <td>219</td>\n      <td>140</td>\n      <td>1.2</td>\n      <td>0</td>\n      <td>1</td>\n      <td>0</td>\n      <td>0</td>\n      <td>1</td>\n      <td>1</td>\n      <td>0</td>\n      <td>1</td>\n      <td>0</td>\n      <td>1</td>\n      <td>0</td>\n      <td>0</td>\n      <td>1</td>\n      <td>0</td>\n    </tr>\n    <tr>\n      <th>294</th>\n      <td>35</td>\n      <td>120</td>\n      <td>198</td>\n      <td>130</td>\n      <td>1.6</td>\n      <td>0</td>\n      <td>1</td>\n      <td>0</td>\n      <td>0</td>\n      <td>1</td>\n      <td>1</td>\n      <td>0</td>\n      <td>1</td>\n      <td>1</td>\n      <td>1</td>\n      <td>0</td>\n      <td>0</td>\n      <td>1</td>\n      <td>0</td>\n    </tr>\n    <tr>\n      <th>295</th>\n      <td>35</td>\n      <td>138</td>\n      <td>183</td>\n      <td>182</td>\n      <td>1.4</td>\n      <td>0</td>\n      <td>0</td>\n      <td>0</td>\n      <td>0</td>\n      <td>1</td>\n      <td>1</td>\n      <td>0</td>\n      <td>1</td>\n      <td>0</td>\n      <td>0</td>\n      <td>1</td>\n      <td>1</td>\n      <td>0</td>\n      <td>1</td>\n    </tr>\n    <tr>\n      <th>296</th>\n      <td>35</td>\n      <td>126</td>\n      <td>282</td>\n      <td>156</td>\n      <td>0.0</td>\n      <td>0</td>\n      <td>1</td>\n      <td>0</td>\n      <td>0</td>\n      <td>1</td>\n      <td>1</td>\n      <td>1</td>\n      <td>0</td>\n      <td>1</td>\n      <td>0</td>\n      <td>1</td>\n      <td>0</td>\n      <td>1</td>\n      <td>0</td>\n    </tr>\n  </tbody>\n</table>\n<p>297 rows × 19 columns</p>\n</div>"
     },
     "metadata": {},
     "execution_count": 32
    }
   ],
   "source": [
    "dData3"
   ]
  },
  {
   "cell_type": "code",
   "execution_count": 33,
   "metadata": {},
   "outputs": [
    {
     "output_type": "execute_result",
     "data": {
      "text/plain": [
       "['StDepression',\n",
       " 'NumMajorVessels',\n",
       " 'ChestPainType_typical angina',\n",
       " 'FastingBloodSugar_lower than 120mg/ml',\n",
       " 'StSlope_upsloping',\n",
       " 'Thalassemia_reversable defect']"
      ]
     },
     "metadata": {},
     "execution_count": 33
    }
   ],
   "source": [
    "list(sfs1_backward.k_feature_names_)"
   ]
  },
  {
   "cell_type": "code",
   "execution_count": 34,
   "metadata": {},
   "outputs": [
    {
     "output_type": "execute_result",
     "data": {
      "text/plain": [
       "     StDepression  NumMajorVessels  ChestPainType_typical angina  \\\n",
       "0    0.1           1                0                              \n",
       "1    1.8           2                0                              \n",
       "2    2.6           0                0                              \n",
       "3    1.4           1                0                              \n",
       "4    1.8           0                0                              \n",
       "..   ...          ..               ..                              \n",
       "292  0.0           0                1                              \n",
       "293  1.2           0                1                              \n",
       "294  1.6           0                1                              \n",
       "295  1.4           0                1                              \n",
       "296  0.0           0                1                              \n",
       "\n",
       "     FastingBloodSugar_lower than 120mg/ml  StSlope_upsloping  \\\n",
       "0    0                                      0                   \n",
       "1    1                                      1                   \n",
       "2    1                                      0                   \n",
       "3    0                                      0                   \n",
       "4    1                                      0                   \n",
       "..  ..                                     ..                   \n",
       "292  1                                      1                   \n",
       "293  1                                      0                   \n",
       "294  1                                      0                   \n",
       "295  1                                      1                   \n",
       "296  1                                      1                   \n",
       "\n",
       "     Thalassemia_reversable defect  \n",
       "0    0                              \n",
       "1    0                              \n",
       "2    0                              \n",
       "3    0                              \n",
       "4    0                              \n",
       "..  ..                              \n",
       "292  1                              \n",
       "293  1                              \n",
       "294  1                              \n",
       "295  0                              \n",
       "296  1                              \n",
       "\n",
       "[297 rows x 6 columns]"
      ],
      "text/html": "<div>\n<style scoped>\n    .dataframe tbody tr th:only-of-type {\n        vertical-align: middle;\n    }\n\n    .dataframe tbody tr th {\n        vertical-align: top;\n    }\n\n    .dataframe thead th {\n        text-align: right;\n    }\n</style>\n<table border=\"1\" class=\"dataframe\">\n  <thead>\n    <tr style=\"text-align: right;\">\n      <th></th>\n      <th>StDepression</th>\n      <th>NumMajorVessels</th>\n      <th>ChestPainType_typical angina</th>\n      <th>FastingBloodSugar_lower than 120mg/ml</th>\n      <th>StSlope_upsloping</th>\n      <th>Thalassemia_reversable defect</th>\n    </tr>\n  </thead>\n  <tbody>\n    <tr>\n      <th>0</th>\n      <td>0.1</td>\n      <td>1</td>\n      <td>0</td>\n      <td>0</td>\n      <td>0</td>\n      <td>0</td>\n    </tr>\n    <tr>\n      <th>1</th>\n      <td>1.8</td>\n      <td>2</td>\n      <td>0</td>\n      <td>1</td>\n      <td>1</td>\n      <td>0</td>\n    </tr>\n    <tr>\n      <th>2</th>\n      <td>2.6</td>\n      <td>0</td>\n      <td>0</td>\n      <td>1</td>\n      <td>0</td>\n      <td>0</td>\n    </tr>\n    <tr>\n      <th>3</th>\n      <td>1.4</td>\n      <td>1</td>\n      <td>0</td>\n      <td>0</td>\n      <td>0</td>\n      <td>0</td>\n    </tr>\n    <tr>\n      <th>4</th>\n      <td>1.8</td>\n      <td>0</td>\n      <td>0</td>\n      <td>1</td>\n      <td>0</td>\n      <td>0</td>\n    </tr>\n    <tr>\n      <th>...</th>\n      <td>...</td>\n      <td>...</td>\n      <td>...</td>\n      <td>...</td>\n      <td>...</td>\n      <td>...</td>\n    </tr>\n    <tr>\n      <th>292</th>\n      <td>0.0</td>\n      <td>0</td>\n      <td>1</td>\n      <td>1</td>\n      <td>1</td>\n      <td>1</td>\n    </tr>\n    <tr>\n      <th>293</th>\n      <td>1.2</td>\n      <td>0</td>\n      <td>1</td>\n      <td>1</td>\n      <td>0</td>\n      <td>1</td>\n    </tr>\n    <tr>\n      <th>294</th>\n      <td>1.6</td>\n      <td>0</td>\n      <td>1</td>\n      <td>1</td>\n      <td>0</td>\n      <td>1</td>\n    </tr>\n    <tr>\n      <th>295</th>\n      <td>1.4</td>\n      <td>0</td>\n      <td>1</td>\n      <td>1</td>\n      <td>1</td>\n      <td>0</td>\n    </tr>\n    <tr>\n      <th>296</th>\n      <td>0.0</td>\n      <td>0</td>\n      <td>1</td>\n      <td>1</td>\n      <td>1</td>\n      <td>1</td>\n    </tr>\n  </tbody>\n</table>\n<p>297 rows × 6 columns</p>\n</div>"
     },
     "metadata": {},
     "execution_count": 34
    }
   ],
   "source": [
    "#-- Choose 6 features\n",
    "lCol   = list(sfs1_backward.k_feature_names_)\n",
    "dData4 = dData3[lCol]\n",
    "dData4"
   ]
  },
  {
   "cell_type": "code",
   "execution_count": null,
   "metadata": {},
   "outputs": [],
   "source": []
  },
  {
   "cell_type": "code",
   "execution_count": null,
   "metadata": {},
   "outputs": [],
   "source": []
  },
  {
   "cell_type": "code",
   "execution_count": null,
   "metadata": {},
   "outputs": [],
   "source": []
  },
  {
   "cell_type": "code",
   "execution_count": null,
   "metadata": {},
   "outputs": [],
   "source": []
  },
  {
   "cell_type": "code",
   "execution_count": null,
   "metadata": {},
   "outputs": [],
   "source": []
  },
  {
   "cell_type": "code",
   "execution_count": 35,
   "metadata": {},
   "outputs": [
    {
     "output_type": "execute_result",
     "data": {
      "text/plain": [
       "(297, 18)"
      ]
     },
     "metadata": {},
     "execution_count": 35
    }
   ],
   "source": [
    "mX3  = dData3.drop(columns='Target_no heart disease')\n",
    "mX3 -= mX3.mean(0)\n",
    "mX3 /= mX3.std(0)\n",
    "mX3.shape"
   ]
  },
  {
   "cell_type": "markdown",
   "metadata": {},
   "source": [
    "### ELI5 (Explain Like I'm Five):\n",
    "https://eli5.readthedocs.io/en/latest/index.html"
   ]
  },
  {
   "cell_type": "code",
   "execution_count": 36,
   "metadata": {},
   "outputs": [
    {
     "output_type": "error",
     "ename": "ModuleNotFoundError",
     "evalue": "No module named 'eli5'",
     "traceback": [
      "\u001b[1;31m---------------------------------------------------------------------------\u001b[0m",
      "\u001b[1;31mModuleNotFoundError\u001b[0m                       Traceback (most recent call last)",
      "\u001b[1;32m<ipython-input-36-d9ad9488060f>\u001b[0m in \u001b[0;36m<module>\u001b[1;34m\u001b[0m\n\u001b[1;32m----> 1\u001b[1;33m \u001b[1;32mimport\u001b[0m \u001b[0meli5\u001b[0m\u001b[1;33m\u001b[0m\u001b[1;33m\u001b[0m\u001b[0m\n\u001b[0m\u001b[0;32m      2\u001b[0m \u001b[1;33m\u001b[0m\u001b[0m\n\u001b[0;32m      3\u001b[0m \u001b[0moLinearSVM\u001b[0m \u001b[1;33m=\u001b[0m \u001b[0mSVC\u001b[0m\u001b[1;33m(\u001b[0m\u001b[0mkernel\u001b[0m\u001b[1;33m=\u001b[0m\u001b[1;34m'linear'\u001b[0m\u001b[1;33m,\u001b[0m \u001b[0mC\u001b[0m\u001b[1;33m=\u001b[0m\u001b[1;36m3\u001b[0m\u001b[1;33m)\u001b[0m\u001b[1;33m.\u001b[0m\u001b[0mfit\u001b[0m\u001b[1;33m(\u001b[0m\u001b[0mmX3\u001b[0m\u001b[1;33m,\u001b[0m \u001b[0mvY\u001b[0m\u001b[1;33m)\u001b[0m\u001b[1;33m\u001b[0m\u001b[1;33m\u001b[0m\u001b[0m\n\u001b[0;32m      4\u001b[0m \u001b[0meli5\u001b[0m\u001b[1;33m.\u001b[0m\u001b[0mshow_weights\u001b[0m\u001b[1;33m(\u001b[0m\u001b[0moLinearSVM\u001b[0m\u001b[1;33m,\u001b[0m \u001b[0mfeature_names\u001b[0m\u001b[1;33m=\u001b[0m\u001b[0mdData3\u001b[0m\u001b[1;33m.\u001b[0m\u001b[0mcolumns\u001b[0m\u001b[1;33m[\u001b[0m\u001b[1;33m:\u001b[0m\u001b[1;33m-\u001b[0m\u001b[1;36m1\u001b[0m\u001b[1;33m]\u001b[0m\u001b[1;33m.\u001b[0m\u001b[0mtolist\u001b[0m\u001b[1;33m(\u001b[0m\u001b[1;33m)\u001b[0m\u001b[1;33m,\u001b[0m \u001b[0mtarget_names\u001b[0m\u001b[1;33m=\u001b[0m\u001b[1;33m[\u001b[0m\u001b[1;34m'no hearth disease'\u001b[0m\u001b[1;33m,\u001b[0m \u001b[1;34m'hearth disease'\u001b[0m\u001b[1;33m]\u001b[0m\u001b[1;33m)\u001b[0m\u001b[1;33m\u001b[0m\u001b[1;33m\u001b[0m\u001b[0m\n",
      "\u001b[1;31mModuleNotFoundError\u001b[0m: No module named 'eli5'"
     ]
    }
   ],
   "source": [
    "import eli5\n",
    "\n",
    "oLinearSVM = SVC(kernel='linear', C=3).fit(mX3, vY)\n",
    "eli5.show_weights(oLinearSVM, feature_names=dData3.columns[:-1].tolist(), target_names=['no hearth disease', 'hearth disease'])"
   ]
  },
  {
   "cell_type": "markdown",
   "metadata": {},
   "source": [
    "### Grid Search:"
   ]
  },
  {
   "cell_type": "code",
   "execution_count": null,
   "metadata": {},
   "outputs": [],
   "source": [
    "from sklearn.model_selection import GridSearchCV\n",
    "\n",
    "dSvmParams = {'kernel': ('linear',),\n",
    "              'C'     : np.linspace(0.01, 10, 21)}\n",
    "oSearch    = GridSearchCV(SVC(), dSvmParams, cv=KFold(N, shuffle=True)).fit(mX3, vY)\n",
    "\n",
    "print(f'Linear best parameters CV score = {oSearch.best_score_}')\n",
    "print(oSearch.best_params_)"
   ]
  },
  {
   "cell_type": "code",
   "execution_count": null,
   "metadata": {},
   "outputs": [],
   "source": [
    "from sklearn.model_selection import GridSearchCV\n",
    "\n",
    "vσ         = np.linspace(30, 50, 11)\n",
    "dSvmParams = {'kernel': ('rbf',),\n",
    "              'C'     : np.linspace(30, 40, 3),\n",
    "              'gamma' : 1 / (2 * vσ**2)}\n",
    "oSearch    = GridSearchCV(SVC(), dSvmParams, cv=KFold(N, shuffle=True)).fit(mX3, vY)\n",
    "\n",
    "print(f'RBF best parameters CV score = {oSearch.best_score_}')\n",
    "print(oSearch.best_params_)"
   ]
  }
 ],
 "metadata": {
  "kernelspec": {
   "name": "python3",
   "display_name": "Python 3.8.8 64-bit ('base': conda)"
  },
  "language_info": {
   "codemirror_mode": {
    "name": "ipython",
    "version": 3
   },
   "file_extension": ".py",
   "mimetype": "text/x-python",
   "name": "python",
   "nbconvert_exporter": "python",
   "pygments_lexer": "ipython3",
   "version": "3.8.8"
  },
  "toc": {
   "base_numbering": 1,
   "nav_menu": {},
   "number_sections": false,
   "sideBar": true,
   "skip_h1_title": false,
   "title_cell": "Table of Contents",
   "title_sidebar": "Contents",
   "toc_cell": false,
   "toc_position": {},
   "toc_section_display": true,
   "toc_window_display": false
  },
  "varInspector": {
   "cols": {
    "lenName": 16,
    "lenType": 16,
    "lenVar": 40
   },
   "kernels_config": {
    "python": {
     "delete_cmd_postfix": "",
     "delete_cmd_prefix": "del ",
     "library": "var_list.py",
     "varRefreshCmd": "print(var_dic_list())"
    },
    "r": {
     "delete_cmd_postfix": ") ",
     "delete_cmd_prefix": "rm(",
     "library": "var_list.r",
     "varRefreshCmd": "cat(var_dic_list()) "
    }
   },
   "types_to_exclude": [
    "module",
    "function",
    "builtin_function_or_method",
    "instance",
    "_Feature"
   ],
   "window_display": false
  },
  "interpreter": {
   "hash": "6438134d2751295b28bc239e6140ab5fcf89695af8bbf5309092a238fa8acf3a"
  }
 },
 "nbformat": 4,
 "nbformat_minor": 4
}