{
 "cells": [
  {
   "cell_type": "markdown",
   "metadata": {},
   "source": [
    "![Fixel Algorithms](https://fixelalgorithms.co/images/CCExt.png)"
   ]
  },
  {
   "cell_type": "markdown",
   "metadata": {},
   "source": [
    "# <center> Machine Learning Methods </center>\n",
    "## <center> Exercise 03 - Hearth Disease Classification </center>"
   ]
  },
  {
   "cell_type": "markdown",
   "metadata": {},
   "source": [
    "[![Open In Colab](https://colab.research.google.com/assets/colab-badge.svg)](https://colab.research.google.com/github/FixelAlgorithmsTeam/FixelCourses/blob/master/MachineLearningMethod/Exercises/Exercise03_Classification.ipynb)"
   ]
  },
  {
   "cell_type": "code",
   "execution_count": 1,
   "metadata": {},
   "outputs": [
    {
     "output_type": "display_data",
     "data": {
      "text/plain": "<IPython.core.display.HTML object>",
      "text/html": "<style>.container { width:80% !important; }</style>"
     },
     "metadata": {}
    }
   ],
   "source": [
    "from IPython.core.display import display, HTML\n",
    "display(HTML(\"<style>.container { width:80% !important; }</style>\"))\n",
    "\n"
   ]
  },
  {
   "cell_type": "code",
   "execution_count": 2,
   "metadata": {},
   "outputs": [],
   "source": [
    "import numpy             as np\n",
    "import pandas            as pd\n",
    "import seaborn           as sns\n",
    "import matplotlib.pyplot as plt\n",
    "import matplotlib\n",
    "\n",
    "matplotlib.rc('font', **{'size' : 16})\n",
    "\n",
    "pd.set_option('display.max_colwidth', 0)\n",
    "\n",
    "# np.random.seed(1)"
   ]
  },
  {
   "cell_type": "markdown",
   "metadata": {},
   "source": [
    "### Load the dataset:\n",
    "https://www.kaggle.com/cherngs/heart-disease-cleveland-uci?select=heart_cleveland_upload.csv"
   ]
  },
  {
   "cell_type": "code",
   "execution_count": 3,
   "metadata": {},
   "outputs": [
    {
     "output_type": "execute_result",
     "data": {
      "text/plain": [
       "     age  sex  cp  trestbps  chol  fbs  restecg  thalach  exang  oldpeak  \\\n",
       "0    69   1    0   160       234   1    2        131      0      0.1       \n",
       "1    69   0    0   140       239   0    0        151      0      1.8       \n",
       "2    66   0    0   150       226   0    0        114      0      2.6       \n",
       "3    65   1    0   138       282   1    2        174      0      1.4       \n",
       "4    64   1    0   110       211   0    2        144      1      1.8       \n",
       "..   ..  ..   ..   ...       ...  ..   ..        ...     ..      ...       \n",
       "292  40   1    3   152       223   0    0        181      0      0.0       \n",
       "293  39   1    3   118       219   0    0        140      0      1.2       \n",
       "294  35   1    3   120       198   0    0        130      1      1.6       \n",
       "295  35   0    3   138       183   0    0        182      0      1.4       \n",
       "296  35   1    3   126       282   0    2        156      1      0.0       \n",
       "\n",
       "     slope  ca  thal  condition  \n",
       "0    1      1   0     0          \n",
       "1    0      2   0     0          \n",
       "2    2      0   0     0          \n",
       "3    1      1   0     1          \n",
       "4    1      0   0     0          \n",
       "..  ..     ..  ..    ..          \n",
       "292  0      0   2     1          \n",
       "293  1      0   2     1          \n",
       "294  1      0   2     1          \n",
       "295  0      0   0     0          \n",
       "296  0      0   2     1          \n",
       "\n",
       "[297 rows x 14 columns]"
      ],
      "text/html": "<div>\n<style scoped>\n    .dataframe tbody tr th:only-of-type {\n        vertical-align: middle;\n    }\n\n    .dataframe tbody tr th {\n        vertical-align: top;\n    }\n\n    .dataframe thead th {\n        text-align: right;\n    }\n</style>\n<table border=\"1\" class=\"dataframe\">\n  <thead>\n    <tr style=\"text-align: right;\">\n      <th></th>\n      <th>age</th>\n      <th>sex</th>\n      <th>cp</th>\n      <th>trestbps</th>\n      <th>chol</th>\n      <th>fbs</th>\n      <th>restecg</th>\n      <th>thalach</th>\n      <th>exang</th>\n      <th>oldpeak</th>\n      <th>slope</th>\n      <th>ca</th>\n      <th>thal</th>\n      <th>condition</th>\n    </tr>\n  </thead>\n  <tbody>\n    <tr>\n      <th>0</th>\n      <td>69</td>\n      <td>1</td>\n      <td>0</td>\n      <td>160</td>\n      <td>234</td>\n      <td>1</td>\n      <td>2</td>\n      <td>131</td>\n      <td>0</td>\n      <td>0.1</td>\n      <td>1</td>\n      <td>1</td>\n      <td>0</td>\n      <td>0</td>\n    </tr>\n    <tr>\n      <th>1</th>\n      <td>69</td>\n      <td>0</td>\n      <td>0</td>\n      <td>140</td>\n      <td>239</td>\n      <td>0</td>\n      <td>0</td>\n      <td>151</td>\n      <td>0</td>\n      <td>1.8</td>\n      <td>0</td>\n      <td>2</td>\n      <td>0</td>\n      <td>0</td>\n    </tr>\n    <tr>\n      <th>2</th>\n      <td>66</td>\n      <td>0</td>\n      <td>0</td>\n      <td>150</td>\n      <td>226</td>\n      <td>0</td>\n      <td>0</td>\n      <td>114</td>\n      <td>0</td>\n      <td>2.6</td>\n      <td>2</td>\n      <td>0</td>\n      <td>0</td>\n      <td>0</td>\n    </tr>\n    <tr>\n      <th>3</th>\n      <td>65</td>\n      <td>1</td>\n      <td>0</td>\n      <td>138</td>\n      <td>282</td>\n      <td>1</td>\n      <td>2</td>\n      <td>174</td>\n      <td>0</td>\n      <td>1.4</td>\n      <td>1</td>\n      <td>1</td>\n      <td>0</td>\n      <td>1</td>\n    </tr>\n    <tr>\n      <th>4</th>\n      <td>64</td>\n      <td>1</td>\n      <td>0</td>\n      <td>110</td>\n      <td>211</td>\n      <td>0</td>\n      <td>2</td>\n      <td>144</td>\n      <td>1</td>\n      <td>1.8</td>\n      <td>1</td>\n      <td>0</td>\n      <td>0</td>\n      <td>0</td>\n    </tr>\n    <tr>\n      <th>...</th>\n      <td>...</td>\n      <td>...</td>\n      <td>...</td>\n      <td>...</td>\n      <td>...</td>\n      <td>...</td>\n      <td>...</td>\n      <td>...</td>\n      <td>...</td>\n      <td>...</td>\n      <td>...</td>\n      <td>...</td>\n      <td>...</td>\n      <td>...</td>\n    </tr>\n    <tr>\n      <th>292</th>\n      <td>40</td>\n      <td>1</td>\n      <td>3</td>\n      <td>152</td>\n      <td>223</td>\n      <td>0</td>\n      <td>0</td>\n      <td>181</td>\n      <td>0</td>\n      <td>0.0</td>\n      <td>0</td>\n      <td>0</td>\n      <td>2</td>\n      <td>1</td>\n    </tr>\n    <tr>\n      <th>293</th>\n      <td>39</td>\n      <td>1</td>\n      <td>3</td>\n      <td>118</td>\n      <td>219</td>\n      <td>0</td>\n      <td>0</td>\n      <td>140</td>\n      <td>0</td>\n      <td>1.2</td>\n      <td>1</td>\n      <td>0</td>\n      <td>2</td>\n      <td>1</td>\n    </tr>\n    <tr>\n      <th>294</th>\n      <td>35</td>\n      <td>1</td>\n      <td>3</td>\n      <td>120</td>\n      <td>198</td>\n      <td>0</td>\n      <td>0</td>\n      <td>130</td>\n      <td>1</td>\n      <td>1.6</td>\n      <td>1</td>\n      <td>0</td>\n      <td>2</td>\n      <td>1</td>\n    </tr>\n    <tr>\n      <th>295</th>\n      <td>35</td>\n      <td>0</td>\n      <td>3</td>\n      <td>138</td>\n      <td>183</td>\n      <td>0</td>\n      <td>0</td>\n      <td>182</td>\n      <td>0</td>\n      <td>1.4</td>\n      <td>0</td>\n      <td>0</td>\n      <td>0</td>\n      <td>0</td>\n    </tr>\n    <tr>\n      <th>296</th>\n      <td>35</td>\n      <td>1</td>\n      <td>3</td>\n      <td>126</td>\n      <td>282</td>\n      <td>0</td>\n      <td>2</td>\n      <td>156</td>\n      <td>1</td>\n      <td>0.0</td>\n      <td>0</td>\n      <td>0</td>\n      <td>2</td>\n      <td>1</td>\n    </tr>\n  </tbody>\n</table>\n<p>297 rows × 14 columns</p>\n</div>"
     },
     "metadata": {},
     "execution_count": 3
    }
   ],
   "source": [
    "dData = pd.read_csv('heart_cleveland_upload.csv')\n",
    "dData"
   ]
  },
  {
   "cell_type": "markdown",
   "metadata": {},
   "source": [
    "### Display target balance:"
   ]
  },
  {
   "cell_type": "code",
   "execution_count": 4,
   "metadata": {},
   "outputs": [
    {
     "output_type": "stream",
     "name": "stdout",
     "text": [
      "age       = Age\nsex       = Sex\ncp        = ChestPainType\ntrestbps  = RestingBloodPressure\nchol      = Cholesterol\nfbs       = FastingBloodSugar\nrestecg   = RestECG\nthalach   = MaxHeartRateAchieved\nexang     = ExerciseInducedAngina\noldpeak   = StDepression\nslope     = StSlope\nca        = NumMajorVessels\nthal      = Thalassemia\ncondition = Target\n"
     ]
    }
   ],
   "source": [
    "lFullName = ['Age', 'Sex', 'ChestPainType', 'RestingBloodPressure', 'Cholesterol', 'FastingBloodSugar', 'RestECG', 'MaxHeartRateAchieved', 'ExerciseInducedAngina', 'StDepression', 'StSlope', 'NumMajorVessels', 'Thalassemia', 'Target']\n",
    "space     = max(map(len, dData.columns))\n",
    "for (shortName, fullName) in zip(dData.columns, lFullName):\n",
    "    print(f'{shortName:{space}s} = {fullName}')"
   ]
  },
  {
   "cell_type": "markdown",
   "metadata": {},
   "source": [
    "### Get data and normalization:"
   ]
  },
  {
   "cell_type": "code",
   "execution_count": 5,
   "metadata": {},
   "outputs": [
    {
     "output_type": "execute_result",
     "data": {
      "text/plain": [
       "((297, 13), (297,))"
      ]
     },
     "metadata": {},
     "execution_count": 5
    }
   ],
   "source": [
    "mX = dData.drop(columns='condition').values\n",
    "vY = dData['condition'].values\n",
    "\n",
    "N = len(vY)\n",
    "\n",
    "mX.shape, vY.shape"
   ]
  },
  {
   "cell_type": "code",
   "execution_count": 6,
   "metadata": {},
   "outputs": [],
   "source": [
    "#-- Normalize data:\n",
    "mX -= mX.mean(0)\n",
    "mX /= mX.std(0)"
   ]
  },
  {
   "cell_type": "markdown",
   "metadata": {},
   "source": [
    "### Basic classification:\n",
    "Let us try several default classifiers"
   ]
  },
  {
   "cell_type": "code",
   "execution_count": 7,
   "metadata": {},
   "outputs": [
    {
     "output_type": "stream",
     "name": "stdout",
     "text": [
      "SVM                 = 82.83%\n",
      "Logistic Regression = 83.16%\n",
      "KNN                 = 82.49%\n",
      "Tree                = 72.39%\n"
     ]
    }
   ],
   "source": [
    "from sklearn.linear_model    import LogisticRegression\n",
    "from sklearn.svm             import SVC\n",
    "from sklearn.neighbors       import KNeighborsClassifier\n",
    "from sklearn.tree            import DecisionTreeClassifier\n",
    "from sklearn.model_selection import cross_val_predict, KFold\n",
    "\n",
    "# https://scikit-learn.org/stable/auto_examples/model_selection/plot_grid_search_digits.html\n",
    "svc_grid_params = [{'kernel': ['rbf'], 'gamma': [1e-3, 1e-4],\n",
    "                     'C': [1, 10, 100, 1000]},\n",
    "                    {'kernel': ['linear'], 'C': [1, 10, 100, 1000]}]\n",
    "\n",
    "\n",
    "# https://www.kaggle.com/enespolat/grid-search-with-logistic-regression\n",
    "lr_grid_params=  {\"C\":np.logspace(-3,3,7), \"penalty\":[\"l1\",\"l2\"]}# l1 lasso l2 ridge\n",
    "\n",
    "\n",
    "knn_grid_params = {\n",
    "    'n_neighbors' : np.arange(1, 21, 2),\n",
    "    'metric' : ['euclidean', 'manhattan'],\n",
    "}\n",
    "\n",
    "# https://stackoverflow.com/questions/38709690/scikit-learn-using-gridsearchcv-on-decisiontreeclassifier\n",
    "\n",
    "dtc_grid_params = {'criterion':['gini','entropy'],'max_depth':[4,5,6,7,8,9,10,11,12,15,20,30,40,50,70,90,120,150]}\n",
    "\n",
    "\n",
    "\n",
    "#-- Classifiers:\n",
    "#-- You can set the hyper-parameters as well\n",
    "lModels  = []\n",
    "lModels += [(SVC                   (C=1), 'SVM'                 ,svc_grid_params)]\n",
    "lModels += [(LogisticRegression    (),    'Logistic Regression' , lr_grid_params)]\n",
    "lModels += [(KNeighborsClassifier  (),    'KNN'                , knn_grid_params)]\n",
    "lModels += [(DecisionTreeClassifier(),    'Tree'               , dtc_grid_params)]\n",
    "\n",
    "\n",
    "#N = len(vY)\n",
    "for (oClassifier, name, params) in lModels:\n",
    "    vHatY    = cross_val_predict(oClassifier, mX, vY, cv=KFold(N))\n",
    "    accuracy = np.mean(vY == vHatY)\n",
    "    print(f'{name:19s} = {100*accuracy:2.2f}%')"
   ]
  },
  {
   "cell_type": "code",
   "execution_count": 8,
   "metadata": {},
   "outputs": [
    {
     "output_type": "execute_result",
     "data": {
      "text/plain": [
       "[(SVC(C=1),\n",
       "  'SVM',\n",
       "  [{'kernel': ['rbf'], 'gamma': [0.001, 0.0001], 'C': [1, 10, 100, 1000]},\n",
       "   {'kernel': ['linear'], 'C': [1, 10, 100, 1000]}]),\n",
       " (LogisticRegression(),\n",
       "  'Logistic Regression',\n",
       "  {'C': array([1.e-03, 1.e-02, 1.e-01, 1.e+00, 1.e+01, 1.e+02, 1.e+03]),\n",
       "   'penalty': ['l1', 'l2']}),\n",
       " (KNeighborsClassifier(),\n",
       "  'KNN',\n",
       "  {'n_neighbors': array([ 1,  3,  5,  7,  9, 11, 13, 15, 17, 19]),\n",
       "   'metric': ['euclidean', 'manhattan']}),\n",
       " (DecisionTreeClassifier(),\n",
       "  'Tree',\n",
       "  {'criterion': ['gini', 'entropy'],\n",
       "   'max_depth': [4,\n",
       "    5,\n",
       "    6,\n",
       "    7,\n",
       "    8,\n",
       "    9,\n",
       "    10,\n",
       "    11,\n",
       "    12,\n",
       "    15,\n",
       "    20,\n",
       "    30,\n",
       "    40,\n",
       "    50,\n",
       "    70,\n",
       "    90,\n",
       "    120,\n",
       "    150]})]"
      ]
     },
     "metadata": {},
     "execution_count": 8
    }
   ],
   "source": [
    "lModels"
   ]
  },
  {
   "source": [
    "### Exercise A:\n",
    "* Use `KNeighborsClassifier` and get above 84% leave-one-out cross validation accuracy.  \n",
    "(Play with the hyper-parameters)"
   ],
   "cell_type": "markdown",
   "metadata": {}
  },
  {
   "cell_type": "code",
   "execution_count": 9,
   "metadata": {},
   "outputs": [
    {
     "output_type": "stream",
     "name": "stdout",
     "text": [
      "Fitting 297 folds for each of 20 candidates, totalling 5940 fits\n"
     ]
    }
   ],
   "source": [
    "#-- Your solution\n",
    "\n",
    "dfAnswers = pd.DataFrame(columns=['Exercise', 'Decription', 'Answer_1', 'Answer_2', 'Answer_3'])\n",
    "dfAnswers.style.set_properties(**{'text-align': 'left'})\n",
    "dfAnswers.style.highlight_max(color = 'lightgreen', axis = 0)\n",
    "\n",
    "\n",
    "cv = KFold(N, shuffle=True)\n",
    "# cv = KFold(5, shuffle=True)\n",
    "\n",
    "# https://medium.com/@erikgreenj/k-neighbors-classifier-with-gridsearchcv-basics-3c445ddeb657\n",
    "\n",
    "from sklearn.model_selection import GridSearchCV\n",
    "\n",
    "knn_grid_params = {\n",
    "    'n_neighbors' : np.arange(1, 21, 2),\n",
    "    'metric' : ['euclidean', 'manhattan'],\n",
    "}\n",
    "\n",
    "\n",
    "gs = GridSearchCV(\n",
    "    KNeighborsClassifier(),\n",
    "    knn_grid_params,\n",
    "    verbose=2,\n",
    "    cv=cv, \n",
    "    n_jobs=-1)\n",
    "\n",
    "gs_result = gs.fit(mX, vY)\n"
   ]
  },
  {
   "cell_type": "code",
   "execution_count": 10,
   "metadata": {},
   "outputs": [],
   "source": [
    "\n",
    "dfAnswers.loc[len(dfAnswers)] = [\n",
    "    'A',\n",
    "    'KNeighborsClassifier',\n",
    "    'Original Data',\n",
    "    f'Score: {100*gs_result.best_score_:2.2f}%'\n",
    "    '',\n",
    "    '',\n",
    "    ]"
   ]
  },
  {
   "cell_type": "code",
   "execution_count": 11,
   "metadata": {},
   "outputs": [
    {
     "output_type": "execute_result",
     "data": {
      "text/plain": [
       "  Exercise            Decription       Answer_1       Answer_2 Answer_3\n",
       "0  A        KNeighborsClassifier  Original Data  Score: 84.85%         "
      ],
      "text/html": "<div>\n<style scoped>\n    .dataframe tbody tr th:only-of-type {\n        vertical-align: middle;\n    }\n\n    .dataframe tbody tr th {\n        vertical-align: top;\n    }\n\n    .dataframe thead th {\n        text-align: right;\n    }\n</style>\n<table border=\"1\" class=\"dataframe\">\n  <thead>\n    <tr style=\"text-align: right;\">\n      <th></th>\n      <th>Exercise</th>\n      <th>Decription</th>\n      <th>Answer_1</th>\n      <th>Answer_2</th>\n      <th>Answer_3</th>\n    </tr>\n  </thead>\n  <tbody>\n    <tr>\n      <th>0</th>\n      <td>A</td>\n      <td>KNeighborsClassifier</td>\n      <td>Original Data</td>\n      <td>Score: 84.85%</td>\n      <td></td>\n    </tr>\n  </tbody>\n</table>\n</div>"
     },
     "metadata": {},
     "execution_count": 11
    }
   ],
   "source": [
    "dfAnswers"
   ]
  },
  {
   "cell_type": "code",
   "execution_count": 12,
   "metadata": {},
   "outputs": [
    {
     "output_type": "execute_result",
     "data": {
      "text/plain": [
       "     Age  Sex  ChestPainType  RestingBloodPressure  Cholesterol  \\\n",
       "0    69   1    0              160                   234           \n",
       "1    69   0    0              140                   239           \n",
       "2    66   0    0              150                   226           \n",
       "3    65   1    0              138                   282           \n",
       "4    64   1    0              110                   211           \n",
       "..   ..  ..   ..              ...                   ...           \n",
       "292  40   1    3              152                   223           \n",
       "293  39   1    3              118                   219           \n",
       "294  35   1    3              120                   198           \n",
       "295  35   0    3              138                   183           \n",
       "296  35   1    3              126                   282           \n",
       "\n",
       "     FastingBloodSugar  RestECG  MaxHeartRateAchieved  ExerciseInducedAngina  \\\n",
       "0    1                  2        131                   0                       \n",
       "1    0                  0        151                   0                       \n",
       "2    0                  0        114                   0                       \n",
       "3    1                  2        174                   0                       \n",
       "4    0                  2        144                   1                       \n",
       "..  ..                 ..        ...                  ..                       \n",
       "292  0                  0        181                   0                       \n",
       "293  0                  0        140                   0                       \n",
       "294  0                  0        130                   1                       \n",
       "295  0                  0        182                   0                       \n",
       "296  0                  2        156                   1                       \n",
       "\n",
       "     StDepression  StSlope  NumMajorVessels  Thalassemia  Target  \n",
       "0    0.1           1        1                0            0       \n",
       "1    1.8           0        2                0            0       \n",
       "2    2.6           2        0                0            0       \n",
       "3    1.4           1        1                0            1       \n",
       "4    1.8           1        0                0            0       \n",
       "..   ...          ..       ..               ..           ..       \n",
       "292  0.0           0        0                2            1       \n",
       "293  1.2           1        0                2            1       \n",
       "294  1.6           1        0                2            1       \n",
       "295  1.4           0        0                0            0       \n",
       "296  0.0           0        0                2            1       \n",
       "\n",
       "[297 rows x 14 columns]"
      ],
      "text/html": "<div>\n<style scoped>\n    .dataframe tbody tr th:only-of-type {\n        vertical-align: middle;\n    }\n\n    .dataframe tbody tr th {\n        vertical-align: top;\n    }\n\n    .dataframe thead th {\n        text-align: right;\n    }\n</style>\n<table border=\"1\" class=\"dataframe\">\n  <thead>\n    <tr style=\"text-align: right;\">\n      <th></th>\n      <th>Age</th>\n      <th>Sex</th>\n      <th>ChestPainType</th>\n      <th>RestingBloodPressure</th>\n      <th>Cholesterol</th>\n      <th>FastingBloodSugar</th>\n      <th>RestECG</th>\n      <th>MaxHeartRateAchieved</th>\n      <th>ExerciseInducedAngina</th>\n      <th>StDepression</th>\n      <th>StSlope</th>\n      <th>NumMajorVessels</th>\n      <th>Thalassemia</th>\n      <th>Target</th>\n    </tr>\n  </thead>\n  <tbody>\n    <tr>\n      <th>0</th>\n      <td>69</td>\n      <td>1</td>\n      <td>0</td>\n      <td>160</td>\n      <td>234</td>\n      <td>1</td>\n      <td>2</td>\n      <td>131</td>\n      <td>0</td>\n      <td>0.1</td>\n      <td>1</td>\n      <td>1</td>\n      <td>0</td>\n      <td>0</td>\n    </tr>\n    <tr>\n      <th>1</th>\n      <td>69</td>\n      <td>0</td>\n      <td>0</td>\n      <td>140</td>\n      <td>239</td>\n      <td>0</td>\n      <td>0</td>\n      <td>151</td>\n      <td>0</td>\n      <td>1.8</td>\n      <td>0</td>\n      <td>2</td>\n      <td>0</td>\n      <td>0</td>\n    </tr>\n    <tr>\n      <th>2</th>\n      <td>66</td>\n      <td>0</td>\n      <td>0</td>\n      <td>150</td>\n      <td>226</td>\n      <td>0</td>\n      <td>0</td>\n      <td>114</td>\n      <td>0</td>\n      <td>2.6</td>\n      <td>2</td>\n      <td>0</td>\n      <td>0</td>\n      <td>0</td>\n    </tr>\n    <tr>\n      <th>3</th>\n      <td>65</td>\n      <td>1</td>\n      <td>0</td>\n      <td>138</td>\n      <td>282</td>\n      <td>1</td>\n      <td>2</td>\n      <td>174</td>\n      <td>0</td>\n      <td>1.4</td>\n      <td>1</td>\n      <td>1</td>\n      <td>0</td>\n      <td>1</td>\n    </tr>\n    <tr>\n      <th>4</th>\n      <td>64</td>\n      <td>1</td>\n      <td>0</td>\n      <td>110</td>\n      <td>211</td>\n      <td>0</td>\n      <td>2</td>\n      <td>144</td>\n      <td>1</td>\n      <td>1.8</td>\n      <td>1</td>\n      <td>0</td>\n      <td>0</td>\n      <td>0</td>\n    </tr>\n    <tr>\n      <th>...</th>\n      <td>...</td>\n      <td>...</td>\n      <td>...</td>\n      <td>...</td>\n      <td>...</td>\n      <td>...</td>\n      <td>...</td>\n      <td>...</td>\n      <td>...</td>\n      <td>...</td>\n      <td>...</td>\n      <td>...</td>\n      <td>...</td>\n      <td>...</td>\n    </tr>\n    <tr>\n      <th>292</th>\n      <td>40</td>\n      <td>1</td>\n      <td>3</td>\n      <td>152</td>\n      <td>223</td>\n      <td>0</td>\n      <td>0</td>\n      <td>181</td>\n      <td>0</td>\n      <td>0.0</td>\n      <td>0</td>\n      <td>0</td>\n      <td>2</td>\n      <td>1</td>\n    </tr>\n    <tr>\n      <th>293</th>\n      <td>39</td>\n      <td>1</td>\n      <td>3</td>\n      <td>118</td>\n      <td>219</td>\n      <td>0</td>\n      <td>0</td>\n      <td>140</td>\n      <td>0</td>\n      <td>1.2</td>\n      <td>1</td>\n      <td>0</td>\n      <td>2</td>\n      <td>1</td>\n    </tr>\n    <tr>\n      <th>294</th>\n      <td>35</td>\n      <td>1</td>\n      <td>3</td>\n      <td>120</td>\n      <td>198</td>\n      <td>0</td>\n      <td>0</td>\n      <td>130</td>\n      <td>1</td>\n      <td>1.6</td>\n      <td>1</td>\n      <td>0</td>\n      <td>2</td>\n      <td>1</td>\n    </tr>\n    <tr>\n      <th>295</th>\n      <td>35</td>\n      <td>0</td>\n      <td>3</td>\n      <td>138</td>\n      <td>183</td>\n      <td>0</td>\n      <td>0</td>\n      <td>182</td>\n      <td>0</td>\n      <td>1.4</td>\n      <td>0</td>\n      <td>0</td>\n      <td>0</td>\n      <td>0</td>\n    </tr>\n    <tr>\n      <th>296</th>\n      <td>35</td>\n      <td>1</td>\n      <td>3</td>\n      <td>126</td>\n      <td>282</td>\n      <td>0</td>\n      <td>2</td>\n      <td>156</td>\n      <td>1</td>\n      <td>0.0</td>\n      <td>0</td>\n      <td>0</td>\n      <td>2</td>\n      <td>1</td>\n    </tr>\n  </tbody>\n</table>\n<p>297 rows × 14 columns</p>\n</div>"
     },
     "metadata": {},
     "execution_count": 12
    }
   ],
   "source": [
    "dData2         = dData.copy()\n",
    "dData2.columns = lFullName\n",
    "dData2"
   ]
  },
  {
   "cell_type": "markdown",
   "metadata": {},
   "source": [
    "### Meaningful categorical data:\n",
    "(Based on the data description)"
   ]
  },
  {
   "cell_type": "code",
   "execution_count": 13,
   "metadata": {},
   "outputs": [
    {
     "output_type": "execute_result",
     "data": {
      "text/plain": [
       "     Age     Sex   ChestPainType  RestingBloodPressure  Cholesterol  \\\n",
       "0    69   male    asymptomatic    160                   234           \n",
       "1    69   female  asymptomatic    140                   239           \n",
       "2    66   female  asymptomatic    150                   226           \n",
       "3    65   male    asymptomatic    138                   282           \n",
       "4    64   male    asymptomatic    110                   211           \n",
       "..   ..    ...             ...    ...                   ...           \n",
       "292  40   male    typical angina  152                   223           \n",
       "293  39   male    typical angina  118                   219           \n",
       "294  35   male    typical angina  120                   198           \n",
       "295  35   female  typical angina  138                   183           \n",
       "296  35   male    typical angina  126                   282           \n",
       "\n",
       "         FastingBloodSugar                       RestECG  \\\n",
       "0    greater than 120mg/ml  left ventricular hypertrophy   \n",
       "1    lower than 120mg/ml    normal                         \n",
       "2    lower than 120mg/ml    normal                         \n",
       "3    greater than 120mg/ml  left ventricular hypertrophy   \n",
       "4    lower than 120mg/ml    left ventricular hypertrophy   \n",
       "..                   ...                             ...   \n",
       "292  lower than 120mg/ml    normal                         \n",
       "293  lower than 120mg/ml    normal                         \n",
       "294  lower than 120mg/ml    normal                         \n",
       "295  lower than 120mg/ml    normal                         \n",
       "296  lower than 120mg/ml    left ventricular hypertrophy   \n",
       "\n",
       "     MaxHeartRateAchieved ExerciseInducedAngina  StDepression      StSlope  \\\n",
       "0    131                   no                    0.1           flat          \n",
       "1    151                   no                    1.8           upsloping     \n",
       "2    114                   no                    2.6           downsloping   \n",
       "3    174                   no                    1.4           flat          \n",
       "4    144                   yes                   1.8           flat          \n",
       "..   ...                   ...                   ...            ...          \n",
       "292  181                   no                    0.0           upsloping     \n",
       "293  140                   no                    1.2           flat          \n",
       "294  130                   yes                   1.6           flat          \n",
       "295  182                   no                    1.4           upsloping     \n",
       "296  156                   yes                   0.0           upsloping     \n",
       "\n",
       "     NumMajorVessels        Thalassemia            Target  \n",
       "0    1                normal             no heart disease  \n",
       "1    2                normal             no heart disease  \n",
       "2    0                normal             no heart disease  \n",
       "3    1                normal             heart disease     \n",
       "4    0                normal             no heart disease  \n",
       "..  ..                   ...                          ...  \n",
       "292  0                reversable defect  heart disease     \n",
       "293  0                reversable defect  heart disease     \n",
       "294  0                reversable defect  heart disease     \n",
       "295  0                normal             no heart disease  \n",
       "296  0                reversable defect  heart disease     \n",
       "\n",
       "[297 rows x 14 columns]"
      ],
      "text/html": "<div>\n<style scoped>\n    .dataframe tbody tr th:only-of-type {\n        vertical-align: middle;\n    }\n\n    .dataframe tbody tr th {\n        vertical-align: top;\n    }\n\n    .dataframe thead th {\n        text-align: right;\n    }\n</style>\n<table border=\"1\" class=\"dataframe\">\n  <thead>\n    <tr style=\"text-align: right;\">\n      <th></th>\n      <th>Age</th>\n      <th>Sex</th>\n      <th>ChestPainType</th>\n      <th>RestingBloodPressure</th>\n      <th>Cholesterol</th>\n      <th>FastingBloodSugar</th>\n      <th>RestECG</th>\n      <th>MaxHeartRateAchieved</th>\n      <th>ExerciseInducedAngina</th>\n      <th>StDepression</th>\n      <th>StSlope</th>\n      <th>NumMajorVessels</th>\n      <th>Thalassemia</th>\n      <th>Target</th>\n    </tr>\n  </thead>\n  <tbody>\n    <tr>\n      <th>0</th>\n      <td>69</td>\n      <td>male</td>\n      <td>asymptomatic</td>\n      <td>160</td>\n      <td>234</td>\n      <td>greater than 120mg/ml</td>\n      <td>left ventricular hypertrophy</td>\n      <td>131</td>\n      <td>no</td>\n      <td>0.1</td>\n      <td>flat</td>\n      <td>1</td>\n      <td>normal</td>\n      <td>no heart disease</td>\n    </tr>\n    <tr>\n      <th>1</th>\n      <td>69</td>\n      <td>female</td>\n      <td>asymptomatic</td>\n      <td>140</td>\n      <td>239</td>\n      <td>lower than 120mg/ml</td>\n      <td>normal</td>\n      <td>151</td>\n      <td>no</td>\n      <td>1.8</td>\n      <td>upsloping</td>\n      <td>2</td>\n      <td>normal</td>\n      <td>no heart disease</td>\n    </tr>\n    <tr>\n      <th>2</th>\n      <td>66</td>\n      <td>female</td>\n      <td>asymptomatic</td>\n      <td>150</td>\n      <td>226</td>\n      <td>lower than 120mg/ml</td>\n      <td>normal</td>\n      <td>114</td>\n      <td>no</td>\n      <td>2.6</td>\n      <td>downsloping</td>\n      <td>0</td>\n      <td>normal</td>\n      <td>no heart disease</td>\n    </tr>\n    <tr>\n      <th>3</th>\n      <td>65</td>\n      <td>male</td>\n      <td>asymptomatic</td>\n      <td>138</td>\n      <td>282</td>\n      <td>greater than 120mg/ml</td>\n      <td>left ventricular hypertrophy</td>\n      <td>174</td>\n      <td>no</td>\n      <td>1.4</td>\n      <td>flat</td>\n      <td>1</td>\n      <td>normal</td>\n      <td>heart disease</td>\n    </tr>\n    <tr>\n      <th>4</th>\n      <td>64</td>\n      <td>male</td>\n      <td>asymptomatic</td>\n      <td>110</td>\n      <td>211</td>\n      <td>lower than 120mg/ml</td>\n      <td>left ventricular hypertrophy</td>\n      <td>144</td>\n      <td>yes</td>\n      <td>1.8</td>\n      <td>flat</td>\n      <td>0</td>\n      <td>normal</td>\n      <td>no heart disease</td>\n    </tr>\n    <tr>\n      <th>...</th>\n      <td>...</td>\n      <td>...</td>\n      <td>...</td>\n      <td>...</td>\n      <td>...</td>\n      <td>...</td>\n      <td>...</td>\n      <td>...</td>\n      <td>...</td>\n      <td>...</td>\n      <td>...</td>\n      <td>...</td>\n      <td>...</td>\n      <td>...</td>\n    </tr>\n    <tr>\n      <th>292</th>\n      <td>40</td>\n      <td>male</td>\n      <td>typical angina</td>\n      <td>152</td>\n      <td>223</td>\n      <td>lower than 120mg/ml</td>\n      <td>normal</td>\n      <td>181</td>\n      <td>no</td>\n      <td>0.0</td>\n      <td>upsloping</td>\n      <td>0</td>\n      <td>reversable defect</td>\n      <td>heart disease</td>\n    </tr>\n    <tr>\n      <th>293</th>\n      <td>39</td>\n      <td>male</td>\n      <td>typical angina</td>\n      <td>118</td>\n      <td>219</td>\n      <td>lower than 120mg/ml</td>\n      <td>normal</td>\n      <td>140</td>\n      <td>no</td>\n      <td>1.2</td>\n      <td>flat</td>\n      <td>0</td>\n      <td>reversable defect</td>\n      <td>heart disease</td>\n    </tr>\n    <tr>\n      <th>294</th>\n      <td>35</td>\n      <td>male</td>\n      <td>typical angina</td>\n      <td>120</td>\n      <td>198</td>\n      <td>lower than 120mg/ml</td>\n      <td>normal</td>\n      <td>130</td>\n      <td>yes</td>\n      <td>1.6</td>\n      <td>flat</td>\n      <td>0</td>\n      <td>reversable defect</td>\n      <td>heart disease</td>\n    </tr>\n    <tr>\n      <th>295</th>\n      <td>35</td>\n      <td>female</td>\n      <td>typical angina</td>\n      <td>138</td>\n      <td>183</td>\n      <td>lower than 120mg/ml</td>\n      <td>normal</td>\n      <td>182</td>\n      <td>no</td>\n      <td>1.4</td>\n      <td>upsloping</td>\n      <td>0</td>\n      <td>normal</td>\n      <td>no heart disease</td>\n    </tr>\n    <tr>\n      <th>296</th>\n      <td>35</td>\n      <td>male</td>\n      <td>typical angina</td>\n      <td>126</td>\n      <td>282</td>\n      <td>lower than 120mg/ml</td>\n      <td>left ventricular hypertrophy</td>\n      <td>156</td>\n      <td>yes</td>\n      <td>0.0</td>\n      <td>upsloping</td>\n      <td>0</td>\n      <td>reversable defect</td>\n      <td>heart disease</td>\n    </tr>\n  </tbody>\n</table>\n<p>297 rows × 14 columns</p>\n</div>"
     },
     "metadata": {},
     "execution_count": 13
    }
   ],
   "source": [
    "dData2.loc[dData2['Sex']                   == 0, 'Sex']                   = 'female'\n",
    "dData2.loc[dData2['Sex']                   == 1, 'Sex']                   = 'male'\n",
    "  \n",
    "dData2.loc[dData2['ChestPainType']         == 0, 'ChestPainType']         = 'asymptomatic'\n",
    "dData2.loc[dData2['ChestPainType']         == 1, 'ChestPainType']         = 'atypical angina'\n",
    "dData2.loc[dData2['ChestPainType']         == 2, 'ChestPainType']         = 'non-anginal pain'\n",
    "dData2.loc[dData2['ChestPainType']         == 3, 'ChestPainType']         = 'typical angina'\n",
    "\n",
    "dData2.loc[dData2['FastingBloodSugar']     == 0, 'FastingBloodSugar']     = 'lower than 120mg/ml'\n",
    "dData2.loc[dData2['FastingBloodSugar']     == 1, 'FastingBloodSugar']     = 'greater than 120mg/ml'\n",
    "\n",
    "dData2.loc[dData2['RestECG']               == 0, 'RestECG']               = 'normal'\n",
    "dData2.loc[dData2['RestECG']               == 1, 'RestECG']               = 'ST-T wave abnormality'\n",
    "dData2.loc[dData2['RestECG']               == 2, 'RestECG']               = 'left ventricular hypertrophy'\n",
    "\n",
    "dData2.loc[dData2['ExerciseInducedAngina'] == 0, 'ExerciseInducedAngina'] = 'no'\n",
    "dData2.loc[dData2['ExerciseInducedAngina'] == 1, 'ExerciseInducedAngina'] = 'yes'\n",
    "\n",
    "dData2.loc[dData2['StSlope']               == 0, 'StSlope']               = 'upsloping'\n",
    "dData2.loc[dData2['StSlope']               == 1, 'StSlope']               = 'flat'\n",
    "dData2.loc[dData2['StSlope']               == 2, 'StSlope']               = 'downsloping'\n",
    "\n",
    "dData2.loc[dData2['Thalassemia']           == 0, 'Thalassemia']           = 'normal'\n",
    "dData2.loc[dData2['Thalassemia']           == 1, 'Thalassemia']           = 'fixed defect'\n",
    "dData2.loc[dData2['Thalassemia']           == 2, 'Thalassemia']           = 'reversable defect'\n",
    "\n",
    "dData2.loc[dData2['Target']                == 0, 'Target']                = 'no heart disease'\n",
    "dData2.loc[dData2['Target']                == 1, 'Target']                = 'heart disease'\n",
    "dData2"
   ]
  },
  {
   "cell_type": "markdown",
   "metadata": {},
   "source": [
    "### Convert non-numeric features to dummy features:"
   ]
  },
  {
   "cell_type": "code",
   "execution_count": 14,
   "metadata": {},
   "outputs": [
    {
     "output_type": "execute_result",
     "data": {
      "text/plain": [
       "     Age  RestingBloodPressure  Cholesterol  MaxHeartRateAchieved  \\\n",
       "0    69   160                   234          131                    \n",
       "1    69   140                   239          151                    \n",
       "2    66   150                   226          114                    \n",
       "3    65   138                   282          174                    \n",
       "4    64   110                   211          144                    \n",
       "..   ..   ...                   ...          ...                    \n",
       "292  40   152                   223          181                    \n",
       "293  39   118                   219          140                    \n",
       "294  35   120                   198          130                    \n",
       "295  35   138                   183          182                    \n",
       "296  35   126                   282          156                    \n",
       "\n",
       "     StDepression  NumMajorVessels  Sex_male  ChestPainType_atypical angina  \\\n",
       "0    0.1           1                1         0                               \n",
       "1    1.8           2                0         0                               \n",
       "2    2.6           0                0         0                               \n",
       "3    1.4           1                1         0                               \n",
       "4    1.8           0                1         0                               \n",
       "..   ...          ..               ..        ..                               \n",
       "292  0.0           0                1         0                               \n",
       "293  1.2           0                1         0                               \n",
       "294  1.6           0                1         0                               \n",
       "295  1.4           0                0         0                               \n",
       "296  0.0           0                1         0                               \n",
       "\n",
       "     ChestPainType_non-anginal pain  ChestPainType_typical angina  \\\n",
       "0    0                               0                              \n",
       "1    0                               0                              \n",
       "2    0                               0                              \n",
       "3    0                               0                              \n",
       "4    0                               0                              \n",
       "..  ..                              ..                              \n",
       "292  0                               1                              \n",
       "293  0                               1                              \n",
       "294  0                               1                              \n",
       "295  0                               1                              \n",
       "296  0                               1                              \n",
       "\n",
       "     FastingBloodSugar_lower than 120mg/ml  \\\n",
       "0    0                                       \n",
       "1    1                                       \n",
       "2    1                                       \n",
       "3    0                                       \n",
       "4    1                                       \n",
       "..  ..                                       \n",
       "292  1                                       \n",
       "293  1                                       \n",
       "294  1                                       \n",
       "295  1                                       \n",
       "296  1                                       \n",
       "\n",
       "     RestECG_left ventricular hypertrophy  RestECG_normal  \\\n",
       "0    1                                     0                \n",
       "1    0                                     1                \n",
       "2    0                                     1                \n",
       "3    1                                     0                \n",
       "4    1                                     0                \n",
       "..  ..                                    ..                \n",
       "292  0                                     1                \n",
       "293  0                                     1                \n",
       "294  0                                     1                \n",
       "295  0                                     1                \n",
       "296  1                                     0                \n",
       "\n",
       "     ExerciseInducedAngina_yes  StSlope_flat  StSlope_upsloping  \\\n",
       "0    0                          1             0                   \n",
       "1    0                          0             1                   \n",
       "2    0                          0             0                   \n",
       "3    0                          1             0                   \n",
       "4    1                          1             0                   \n",
       "..  ..                         ..            ..                   \n",
       "292  0                          0             1                   \n",
       "293  0                          1             0                   \n",
       "294  1                          1             0                   \n",
       "295  0                          0             1                   \n",
       "296  1                          0             1                   \n",
       "\n",
       "     Thalassemia_normal  Thalassemia_reversable defect  \\\n",
       "0    1                   0                               \n",
       "1    1                   0                               \n",
       "2    1                   0                               \n",
       "3    1                   0                               \n",
       "4    1                   0                               \n",
       "..  ..                  ..                               \n",
       "292  0                   1                               \n",
       "293  0                   1                               \n",
       "294  0                   1                               \n",
       "295  1                   0                               \n",
       "296  0                   1                               \n",
       "\n",
       "     Target_no heart disease  \n",
       "0    1                        \n",
       "1    1                        \n",
       "2    1                        \n",
       "3    0                        \n",
       "4    1                        \n",
       "..  ..                        \n",
       "292  0                        \n",
       "293  0                        \n",
       "294  0                        \n",
       "295  1                        \n",
       "296  0                        \n",
       "\n",
       "[297 rows x 19 columns]"
      ],
      "text/html": "<div>\n<style scoped>\n    .dataframe tbody tr th:only-of-type {\n        vertical-align: middle;\n    }\n\n    .dataframe tbody tr th {\n        vertical-align: top;\n    }\n\n    .dataframe thead th {\n        text-align: right;\n    }\n</style>\n<table border=\"1\" class=\"dataframe\">\n  <thead>\n    <tr style=\"text-align: right;\">\n      <th></th>\n      <th>Age</th>\n      <th>RestingBloodPressure</th>\n      <th>Cholesterol</th>\n      <th>MaxHeartRateAchieved</th>\n      <th>StDepression</th>\n      <th>NumMajorVessels</th>\n      <th>Sex_male</th>\n      <th>ChestPainType_atypical angina</th>\n      <th>ChestPainType_non-anginal pain</th>\n      <th>ChestPainType_typical angina</th>\n      <th>FastingBloodSugar_lower than 120mg/ml</th>\n      <th>RestECG_left ventricular hypertrophy</th>\n      <th>RestECG_normal</th>\n      <th>ExerciseInducedAngina_yes</th>\n      <th>StSlope_flat</th>\n      <th>StSlope_upsloping</th>\n      <th>Thalassemia_normal</th>\n      <th>Thalassemia_reversable defect</th>\n      <th>Target_no heart disease</th>\n    </tr>\n  </thead>\n  <tbody>\n    <tr>\n      <th>0</th>\n      <td>69</td>\n      <td>160</td>\n      <td>234</td>\n      <td>131</td>\n      <td>0.1</td>\n      <td>1</td>\n      <td>1</td>\n      <td>0</td>\n      <td>0</td>\n      <td>0</td>\n      <td>0</td>\n      <td>1</td>\n      <td>0</td>\n      <td>0</td>\n      <td>1</td>\n      <td>0</td>\n      <td>1</td>\n      <td>0</td>\n      <td>1</td>\n    </tr>\n    <tr>\n      <th>1</th>\n      <td>69</td>\n      <td>140</td>\n      <td>239</td>\n      <td>151</td>\n      <td>1.8</td>\n      <td>2</td>\n      <td>0</td>\n      <td>0</td>\n      <td>0</td>\n      <td>0</td>\n      <td>1</td>\n      <td>0</td>\n      <td>1</td>\n      <td>0</td>\n      <td>0</td>\n      <td>1</td>\n      <td>1</td>\n      <td>0</td>\n      <td>1</td>\n    </tr>\n    <tr>\n      <th>2</th>\n      <td>66</td>\n      <td>150</td>\n      <td>226</td>\n      <td>114</td>\n      <td>2.6</td>\n      <td>0</td>\n      <td>0</td>\n      <td>0</td>\n      <td>0</td>\n      <td>0</td>\n      <td>1</td>\n      <td>0</td>\n      <td>1</td>\n      <td>0</td>\n      <td>0</td>\n      <td>0</td>\n      <td>1</td>\n      <td>0</td>\n      <td>1</td>\n    </tr>\n    <tr>\n      <th>3</th>\n      <td>65</td>\n      <td>138</td>\n      <td>282</td>\n      <td>174</td>\n      <td>1.4</td>\n      <td>1</td>\n      <td>1</td>\n      <td>0</td>\n      <td>0</td>\n      <td>0</td>\n      <td>0</td>\n      <td>1</td>\n      <td>0</td>\n      <td>0</td>\n      <td>1</td>\n      <td>0</td>\n      <td>1</td>\n      <td>0</td>\n      <td>0</td>\n    </tr>\n    <tr>\n      <th>4</th>\n      <td>64</td>\n      <td>110</td>\n      <td>211</td>\n      <td>144</td>\n      <td>1.8</td>\n      <td>0</td>\n      <td>1</td>\n      <td>0</td>\n      <td>0</td>\n      <td>0</td>\n      <td>1</td>\n      <td>1</td>\n      <td>0</td>\n      <td>1</td>\n      <td>1</td>\n      <td>0</td>\n      <td>1</td>\n      <td>0</td>\n      <td>1</td>\n    </tr>\n    <tr>\n      <th>...</th>\n      <td>...</td>\n      <td>...</td>\n      <td>...</td>\n      <td>...</td>\n      <td>...</td>\n      <td>...</td>\n      <td>...</td>\n      <td>...</td>\n      <td>...</td>\n      <td>...</td>\n      <td>...</td>\n      <td>...</td>\n      <td>...</td>\n      <td>...</td>\n      <td>...</td>\n      <td>...</td>\n      <td>...</td>\n      <td>...</td>\n      <td>...</td>\n    </tr>\n    <tr>\n      <th>292</th>\n      <td>40</td>\n      <td>152</td>\n      <td>223</td>\n      <td>181</td>\n      <td>0.0</td>\n      <td>0</td>\n      <td>1</td>\n      <td>0</td>\n      <td>0</td>\n      <td>1</td>\n      <td>1</td>\n      <td>0</td>\n      <td>1</td>\n      <td>0</td>\n      <td>0</td>\n      <td>1</td>\n      <td>0</td>\n      <td>1</td>\n      <td>0</td>\n    </tr>\n    <tr>\n      <th>293</th>\n      <td>39</td>\n      <td>118</td>\n      <td>219</td>\n      <td>140</td>\n      <td>1.2</td>\n      <td>0</td>\n      <td>1</td>\n      <td>0</td>\n      <td>0</td>\n      <td>1</td>\n      <td>1</td>\n      <td>0</td>\n      <td>1</td>\n      <td>0</td>\n      <td>1</td>\n      <td>0</td>\n      <td>0</td>\n      <td>1</td>\n      <td>0</td>\n    </tr>\n    <tr>\n      <th>294</th>\n      <td>35</td>\n      <td>120</td>\n      <td>198</td>\n      <td>130</td>\n      <td>1.6</td>\n      <td>0</td>\n      <td>1</td>\n      <td>0</td>\n      <td>0</td>\n      <td>1</td>\n      <td>1</td>\n      <td>0</td>\n      <td>1</td>\n      <td>1</td>\n      <td>1</td>\n      <td>0</td>\n      <td>0</td>\n      <td>1</td>\n      <td>0</td>\n    </tr>\n    <tr>\n      <th>295</th>\n      <td>35</td>\n      <td>138</td>\n      <td>183</td>\n      <td>182</td>\n      <td>1.4</td>\n      <td>0</td>\n      <td>0</td>\n      <td>0</td>\n      <td>0</td>\n      <td>1</td>\n      <td>1</td>\n      <td>0</td>\n      <td>1</td>\n      <td>0</td>\n      <td>0</td>\n      <td>1</td>\n      <td>1</td>\n      <td>0</td>\n      <td>1</td>\n    </tr>\n    <tr>\n      <th>296</th>\n      <td>35</td>\n      <td>126</td>\n      <td>282</td>\n      <td>156</td>\n      <td>0.0</td>\n      <td>0</td>\n      <td>1</td>\n      <td>0</td>\n      <td>0</td>\n      <td>1</td>\n      <td>1</td>\n      <td>1</td>\n      <td>0</td>\n      <td>1</td>\n      <td>0</td>\n      <td>1</td>\n      <td>0</td>\n      <td>1</td>\n      <td>0</td>\n    </tr>\n  </tbody>\n</table>\n<p>297 rows × 19 columns</p>\n</div>"
     },
     "metadata": {},
     "execution_count": 14
    }
   ],
   "source": [
    "dData3 = pd.get_dummies(dData2, drop_first=True)\n",
    "dData3"
   ]
  },
  {
   "cell_type": "code",
   "execution_count": 15,
   "metadata": {},
   "outputs": [
    {
     "output_type": "stream",
     "name": "stdout",
     "text": [
      "<class 'pandas.core.frame.DataFrame'>\nRangeIndex: 297 entries, 0 to 296\nData columns (total 19 columns):\n #   Column                                 Non-Null Count  Dtype  \n---  ------                                 --------------  -----  \n 0   Age                                    297 non-null    int64  \n 1   RestingBloodPressure                   297 non-null    int64  \n 2   Cholesterol                            297 non-null    int64  \n 3   MaxHeartRateAchieved                   297 non-null    int64  \n 4   StDepression                           297 non-null    float64\n 5   NumMajorVessels                        297 non-null    int64  \n 6   Sex_male                               297 non-null    uint8  \n 7   ChestPainType_atypical angina          297 non-null    uint8  \n 8   ChestPainType_non-anginal pain         297 non-null    uint8  \n 9   ChestPainType_typical angina           297 non-null    uint8  \n 10  FastingBloodSugar_lower than 120mg/ml  297 non-null    uint8  \n 11  RestECG_left ventricular hypertrophy   297 non-null    uint8  \n 12  RestECG_normal                         297 non-null    uint8  \n 13  ExerciseInducedAngina_yes              297 non-null    uint8  \n 14  StSlope_flat                           297 non-null    uint8  \n 15  StSlope_upsloping                      297 non-null    uint8  \n 16  Thalassemia_normal                     297 non-null    uint8  \n 17  Thalassemia_reversable defect          297 non-null    uint8  \n 18  Target_no heart disease                297 non-null    uint8  \ndtypes: float64(1), int64(5), uint8(13)\nmemory usage: 17.8 KB\n"
     ]
    }
   ],
   "source": [
    "dData3.info()"
   ]
  },
  {
   "cell_type": "markdown",
   "metadata": {},
   "source": [
    "### Exercise B:\n",
    "1. Use `dData3` and get above 85% leave-one-out cross validation accuracy.\n",
    "2. You are allowed you to only 6 features (from the given 18).  \n",
    "Get more than 80% accuracy with only 6 features.  \n",
    "What is the right approach for this task?"
   ]
  },
  {
   "source": [
    "#-- Your solution to 1\n",
    "\n",
    "# https://scikit-learn.org/stable/modules/feature_selection.html\n",
    "\n",
    "mX3  = dData3.drop(columns='Target_no heart disease')\n",
    "mX3 -= mX3.mean(0)\n",
    "mX3 /= mX3.std(0)\n",
    "mX3.shape\n",
    "\n",
    "lGsModels  = []\n",
    "\n",
    "# cv = KFold(5, shuffle=True)\n",
    "\n",
    "for (oClassifier, name, grid_params) in lModels:\n",
    "    gs_res = GridSearchCV(\n",
    "                        oClassifier,\n",
    "                        grid_params,\n",
    "                        verbose=3,\n",
    "                        cv=cv,\n",
    "                        n_jobs=-1\n",
    "                    ).fit(mX3, vY)\n",
    "    print(f'{name:19s} = {100*gs_res.best_score_:2.2f}, {gs_res.best_params_} %')\n",
    "    lGsModels += [gs_res.best_estimator_]\n",
    "    dfAnswers.loc[len(dfAnswers)] = [\n",
    "        'B-1',\n",
    "        name,\n",
    "        'dummies',\n",
    "        f'Score: {100*gs_res.best_score_:2.2f}%',\n",
    "        gs_res.best_params_,\n",
    "    ]\n"
   ],
   "cell_type": "code",
   "metadata": {},
   "execution_count": 16,
   "outputs": [
    {
     "output_type": "stream",
     "name": "stdout",
     "text": [
      "Fitting 297 folds for each of 12 candidates, totalling 3564 fits\n",
      "SVM                 = 85.19, {'C': 10, 'kernel': 'linear'} %\n",
      "Fitting 297 folds for each of 14 candidates, totalling 4158 fits\n",
      "C:\\Users\\eyalshw\\Anaconda3\\lib\\site-packages\\sklearn\\model_selection\\_search.py:918: UserWarning: One or more of the test scores are non-finite: [       nan 0.79461279        nan 0.83164983        nan 0.84175084\n",
      "        nan 0.83838384        nan 0.83838384        nan 0.83838384\n",
      "        nan 0.83501684]\n",
      "  warnings.warn(\n",
      "Logistic Regression = 84.18, {'C': 0.1, 'penalty': 'l2'} %\n",
      "Fitting 297 folds for each of 20 candidates, totalling 5940 fits\n",
      "KNN                 = 83.50, {'metric': 'euclidean', 'n_neighbors': 9} %\n",
      "Fitting 297 folds for each of 36 candidates, totalling 10692 fits\n",
      "Tree                = 77.44, {'criterion': 'gini', 'max_depth': 4} %\n"
     ]
    }
   ]
  },
  {
   "cell_type": "code",
   "execution_count": 17,
   "metadata": {},
   "outputs": [
    {
     "output_type": "execute_result",
     "data": {
      "text/plain": [
       "  Exercise            Decription       Answer_1       Answer_2  \\\n",
       "0  A        KNeighborsClassifier  Original Data  Score: 84.85%   \n",
       "1  B-1      SVM                   dummies        Score: 85.19%   \n",
       "2  B-1      Logistic Regression   dummies        Score: 84.18%   \n",
       "3  B-1      KNN                   dummies        Score: 83.50%   \n",
       "4  B-1      Tree                  dummies        Score: 77.44%   \n",
       "\n",
       "                                    Answer_3  \n",
       "0                                             \n",
       "1  {'C': 10, 'kernel': 'linear'}              \n",
       "2  {'C': 0.1, 'penalty': 'l2'}                \n",
       "3  {'metric': 'euclidean', 'n_neighbors': 9}  \n",
       "4  {'criterion': 'gini', 'max_depth': 4}      "
      ],
      "text/html": "<div>\n<style scoped>\n    .dataframe tbody tr th:only-of-type {\n        vertical-align: middle;\n    }\n\n    .dataframe tbody tr th {\n        vertical-align: top;\n    }\n\n    .dataframe thead th {\n        text-align: right;\n    }\n</style>\n<table border=\"1\" class=\"dataframe\">\n  <thead>\n    <tr style=\"text-align: right;\">\n      <th></th>\n      <th>Exercise</th>\n      <th>Decription</th>\n      <th>Answer_1</th>\n      <th>Answer_2</th>\n      <th>Answer_3</th>\n    </tr>\n  </thead>\n  <tbody>\n    <tr>\n      <th>0</th>\n      <td>A</td>\n      <td>KNeighborsClassifier</td>\n      <td>Original Data</td>\n      <td>Score: 84.85%</td>\n      <td></td>\n    </tr>\n    <tr>\n      <th>1</th>\n      <td>B-1</td>\n      <td>SVM</td>\n      <td>dummies</td>\n      <td>Score: 85.19%</td>\n      <td>{'C': 10, 'kernel': 'linear'}</td>\n    </tr>\n    <tr>\n      <th>2</th>\n      <td>B-1</td>\n      <td>Logistic Regression</td>\n      <td>dummies</td>\n      <td>Score: 84.18%</td>\n      <td>{'C': 0.1, 'penalty': 'l2'}</td>\n    </tr>\n    <tr>\n      <th>3</th>\n      <td>B-1</td>\n      <td>KNN</td>\n      <td>dummies</td>\n      <td>Score: 83.50%</td>\n      <td>{'metric': 'euclidean', 'n_neighbors': 9}</td>\n    </tr>\n    <tr>\n      <th>4</th>\n      <td>B-1</td>\n      <td>Tree</td>\n      <td>dummies</td>\n      <td>Score: 77.44%</td>\n      <td>{'criterion': 'gini', 'max_depth': 4}</td>\n    </tr>\n  </tbody>\n</table>\n</div>"
     },
     "metadata": {},
     "execution_count": 17
    }
   ],
   "source": [
    "dfAnswers"
   ]
  },
  {
   "cell_type": "code",
   "execution_count": 18,
   "metadata": {},
   "outputs": [],
   "source": [
    "# Try 1 - Using SelectFromModel : failed since the KNeighborsClassifier does not have any `coef_` or `feature_importances_` attribute\n",
    "\n",
    "# https://scikit-learn.org/stable/modules/generated/sklearn.feature_selection.SelectFromModel.html\n",
    "\n",
    "# from sklearn.feature_selection import SelectFromModel\n",
    "\n",
    "# selector = SelectFromModel(estimator=gs_result.best_estimator_, max_features=6).fit(mX3, vY)\n",
    "# selector.estimator_\n",
    "# selector.fit_transform(mX3, vY)\n",
    "\n",
    "# ValueError: when `importance_getter=='auto'`, the underlying estimator KNeighborsClassifier should have `coef_` or `feature_importances_` attribute. Either pass a fitted estimator to feature selector or call fit before calling transform."
   ]
  },
  {
   "cell_type": "code",
   "execution_count": 19,
   "metadata": {},
   "outputs": [],
   "source": [
    "#-- Your solution to 2"
   ]
  },
  {
   "cell_type": "code",
   "execution_count": 20,
   "metadata": {},
   "outputs": [
    {
     "output_type": "stream",
     "name": "stdout",
     "text": [
      "lGsModel SVC(C=10, kernel='linear') forward: Score: 80.13%\n",
      "lGsModel SVC(C=10, kernel='linear') backward: Score: 86.53%\n",
      "lGsModel (mlextend): SVC(C=10, kernel='linear') True: Score: 80.13%\n",
      "lGsModel (mlextend): SVC(C=10, kernel='linear') False: Score: 86.53%\n",
      "Model SVC(C=10, kernel='linear'), Score: 74.41%\n",
      "Model SVC(C=10, kernel='linear'), Score: 76.43%\n",
      "Model SVC(C=10, kernel='linear'), Score: 76.43%\n",
      "Model SVC(C=10, kernel='linear'), Score: 76.43%\n",
      "Model SVC(C=10, kernel='linear'), Score: 76.43%\n",
      "Model SVC(C=10, kernel='linear'), Score: 76.43%\n",
      "lGsModel LogisticRegression(C=0.1) forward: Score: 85.19%\n",
      "lGsModel LogisticRegression(C=0.1) backward: Score: 85.86%\n",
      "lGsModel (mlextend): LogisticRegression(C=0.1) True: Score: 85.19%\n",
      "lGsModel (mlextend): LogisticRegression(C=0.1) False: Score: 85.86%\n",
      "Model LogisticRegression(C=0.1), Score: 74.41%\n",
      "Model LogisticRegression(C=0.1), Score: 76.43%\n",
      "Model LogisticRegression(C=0.1), Score: 79.12%\n",
      "Model LogisticRegression(C=0.1), Score: 84.18%\n",
      "Model LogisticRegression(C=0.1), Score: 84.18%\n",
      "Model LogisticRegression(C=0.1), Score: 84.18%\n",
      "lGsModel KNeighborsClassifier(metric='euclidean', n_neighbors=9) forward: Score: 84.51%\n",
      "lGsModel KNeighborsClassifier(metric='euclidean', n_neighbors=9) backward: Score: 84.85%\n",
      "lGsModel (mlextend): KNeighborsClassifier(metric='euclidean', n_neighbors=9) True: Score: 84.51%\n",
      "lGsModel (mlextend): KNeighborsClassifier(metric='euclidean', n_neighbors=9) False: Score: 83.84%\n",
      "Model KNeighborsClassifier(metric='euclidean', n_neighbors=9), Score: 74.41%\n",
      "Model KNeighborsClassifier(metric='euclidean', n_neighbors=9), Score: 74.75%\n",
      "Model KNeighborsClassifier(metric='euclidean', n_neighbors=9), Score: 73.40%\n",
      "Model KNeighborsClassifier(metric='euclidean', n_neighbors=9), Score: 81.48%\n",
      "Model KNeighborsClassifier(metric='euclidean', n_neighbors=9), Score: 81.14%\n",
      "Model KNeighborsClassifier(metric='euclidean', n_neighbors=9), Score: 83.84%\n",
      "lGsModel DecisionTreeClassifier(max_depth=4) forward: Score: 84.85%\n",
      "lGsModel DecisionTreeClassifier(max_depth=4) backward: Score: 83.50%\n",
      "lGsModel (mlextend): DecisionTreeClassifier(max_depth=4) True: Score: 84.85%\n",
      "lGsModel (mlextend): DecisionTreeClassifier(max_depth=4) False: Score: 81.82%\n",
      "Model DecisionTreeClassifier(max_depth=4), Score: 74.41%\n",
      "Model DecisionTreeClassifier(max_depth=4), Score: 76.43%\n",
      "Model DecisionTreeClassifier(max_depth=4), Score: 76.09%\n",
      "Model DecisionTreeClassifier(max_depth=4), Score: 84.85%\n",
      "Model DecisionTreeClassifier(max_depth=4), Score: 82.15%\n",
      "Model DecisionTreeClassifier(max_depth=4), Score: 82.15%\n"
     ]
    }
   ],
   "source": [
    "# http://rasbt.github.io/mlxtend/user_guide/feature_selection/SequentialFeatureSelector/\n",
    "# https://towardsdatascience.com/new-features-of-scikit-learn-fbbfe7652bfb\n",
    "\n",
    "from sklearn.feature_selection import SequentialFeatureSelector\n",
    "from sklearn.metrics import accuracy_score as acc\n",
    "from mlxtend.feature_selection import SequentialFeatureSelector as mlxtend_sfs\n",
    "\n",
    "n_features = 6\n",
    "# cv = KFold(5, shuffle=True)\n",
    "\n",
    "def classication_with_sfs(model, direction, cv):\n",
    "    sfs = SequentialFeatureSelector(lGsModel, \n",
    "                                n_features_to_select=n_features, \n",
    "                                direction=direction,\n",
    "                                cv=cv,\n",
    "                                )\n",
    "\n",
    "    sfs.fit(mX3, vY)\n",
    "    vHatY    = cross_val_predict(lGsModel, sfs.transform(mX3), vY, cv=cv)\n",
    "    score = 100*accuracy_score(vY, vHatY)\n",
    "    print(f'lGsModel {model} {direction}: Score: {score:2.2f}%')\n",
    "    dfAnswers.loc[len(dfAnswers)] = [\n",
    "            'B-2',\n",
    "            'sfs, ' + direction,\n",
    "            model,\n",
    "            f'{score:2.2f}%',\n",
    "            np.arange(sfs.n_features_in_)[sfs.get_support()],\n",
    "            ]\n",
    "\n",
    "def classication_with_mlxtend_sfs(model, forward, cv):\n",
    "    xsfs = mlxtend_sfs(\n",
    "        model,\n",
    "        k_features=n_features,\n",
    "        forward=forward,\n",
    "        floating=False,\n",
    "        verbose=0,\n",
    "        scoring='accuracy',\n",
    "        cv=cv,\n",
    "        ).fit(mX3,vY)\n",
    "    \n",
    "    print(f'lGsModel (mlextend): {lGsModel} {forward}: Score: {100*xsfs.k_score_:2.2f}%')\n",
    "    forward_str = 'forward' if forward else 'backward'\n",
    "    dfAnswers.loc[len(dfAnswers)] = [\n",
    "            'B-2',\n",
    "            'xsfs, ' + forward_str,\n",
    "            model,\n",
    "            f'{100*xsfs.k_score_:2.2f}%',\n",
    "            xsfs.k_feature_idx_,\n",
    "            ]\n",
    "\n",
    "from sklearn.model_selection import cross_val_predict, KFold\n",
    "from sklearn.metrics import accuracy_score\n",
    "\n",
    "def calc_explicit_loop(model):\n",
    "    dfAccuracy = pd.DataFrame(columns=['Feature', 'Accuracy'])\n",
    "    reduced_feature_list = []\n",
    "    feature_list_for_prediction = mX3.columns\n",
    "\n",
    "    while len(reduced_feature_list) != n_features:\n",
    "        dfAccuracy = dfAccuracy.iloc[0:0]\n",
    "        for index, col in enumerate(feature_list_for_prediction):\n",
    "            current_cols = [col] + reduced_feature_list\n",
    "            y_pred = cross_val_predict(model, mX3[current_cols], vY, cv=cv)\n",
    "            dfAccuracy.loc[index] =[col, accuracy_score(vY, y_pred)]\n",
    "            max_feature = dfAccuracy.Feature.iloc[dfAccuracy.Accuracy.idxmax()]\n",
    "        feature_list_for_prediction = feature_list_for_prediction.drop(max_feature)\n",
    "        reduced_feature_list.append(max_feature)\n",
    "        print(f'Model {model}, Score: {100*accuracy_score(vY, y_pred):2.2f}%')\n",
    "        dfAnswers.loc[len(dfAnswers)] = [\n",
    "            'B-2',\n",
    "            'Explicit loop',\n",
    "            model,\n",
    "            f'{100*accuracy_score(vY, y_pred):2.2f}%',\n",
    "            [mX3.columns.get_loc(col) for col in current_cols],\n",
    "            ]\n",
    "\n",
    "\n",
    "for lGsModel in lGsModels:\n",
    "    classication_with_sfs(lGsModel, 'forward', cv)\n",
    "    classication_with_sfs(lGsModel, 'backward', cv)\n",
    "\n",
    "    classication_with_mlxtend_sfs(lGsModel, True, cv)\n",
    "    classication_with_mlxtend_sfs(lGsModel, False, cv)\n",
    "\n",
    "    calc_explicit_loop(lGsModel)"
   ]
  },
  {
   "cell_type": "code",
   "execution_count": 21,
   "metadata": {},
   "outputs": [
    {
     "output_type": "execute_result",
     "data": {
      "text/plain": [
       "   Exercise            Decription  \\\n",
       "0   A        KNeighborsClassifier   \n",
       "1   B-1      SVM                    \n",
       "2   B-1      Logistic Regression    \n",
       "3   B-1      KNN                    \n",
       "4   B-1      Tree                   \n",
       "5   B-2      sfs, forward           \n",
       "6   B-2      sfs, backward          \n",
       "7   B-2      xsfs, forward          \n",
       "8   B-2      xsfs, backward         \n",
       "9   B-2      Explicit loop          \n",
       "10  B-2      Explicit loop          \n",
       "11  B-2      Explicit loop          \n",
       "12  B-2      Explicit loop          \n",
       "13  B-2      Explicit loop          \n",
       "14  B-2      Explicit loop          \n",
       "15  B-2      sfs, forward           \n",
       "16  B-2      sfs, backward          \n",
       "17  B-2      xsfs, forward          \n",
       "18  B-2      xsfs, backward         \n",
       "19  B-2      Explicit loop          \n",
       "20  B-2      Explicit loop          \n",
       "21  B-2      Explicit loop          \n",
       "22  B-2      Explicit loop          \n",
       "23  B-2      Explicit loop          \n",
       "24  B-2      Explicit loop          \n",
       "25  B-2      sfs, forward           \n",
       "26  B-2      sfs, backward          \n",
       "27  B-2      xsfs, forward          \n",
       "28  B-2      xsfs, backward         \n",
       "29  B-2      Explicit loop          \n",
       "30  B-2      Explicit loop          \n",
       "31  B-2      Explicit loop          \n",
       "32  B-2      Explicit loop          \n",
       "33  B-2      Explicit loop          \n",
       "34  B-2      Explicit loop          \n",
       "35  B-2      sfs, forward           \n",
       "36  B-2      sfs, backward          \n",
       "37  B-2      xsfs, forward          \n",
       "38  B-2      xsfs, backward         \n",
       "39  B-2      Explicit loop          \n",
       "40  B-2      Explicit loop          \n",
       "41  B-2      Explicit loop          \n",
       "42  B-2      Explicit loop          \n",
       "43  B-2      Explicit loop          \n",
       "44  B-2      Explicit loop          \n",
       "\n",
       "                                                   Answer_1       Answer_2  \\\n",
       "0   Original Data                                            Score: 84.85%   \n",
       "1   dummies                                                  Score: 85.19%   \n",
       "2   dummies                                                  Score: 84.18%   \n",
       "3   dummies                                                  Score: 83.50%   \n",
       "4   dummies                                                  Score: 77.44%   \n",
       "5   SVC(C=10, kernel='linear')                               80.13%          \n",
       "6   SVC(C=10, kernel='linear')                               86.53%          \n",
       "7   SVC(C=10, kernel='linear')                               80.13%          \n",
       "8   SVC(C=10, kernel='linear')                               86.53%          \n",
       "9   SVC(C=10, kernel='linear')                               74.41%          \n",
       "10  SVC(C=10, kernel='linear')                               76.43%          \n",
       "11  SVC(C=10, kernel='linear')                               76.43%          \n",
       "12  SVC(C=10, kernel='linear')                               76.43%          \n",
       "13  SVC(C=10, kernel='linear')                               76.43%          \n",
       "14  SVC(C=10, kernel='linear')                               76.43%          \n",
       "15  LogisticRegression(C=0.1)                                85.19%          \n",
       "16  LogisticRegression(C=0.1)                                85.86%          \n",
       "17  LogisticRegression(C=0.1)                                85.19%          \n",
       "18  LogisticRegression(C=0.1)                                85.86%          \n",
       "19  LogisticRegression(C=0.1)                                74.41%          \n",
       "20  LogisticRegression(C=0.1)                                76.43%          \n",
       "21  LogisticRegression(C=0.1)                                79.12%          \n",
       "22  LogisticRegression(C=0.1)                                84.18%          \n",
       "23  LogisticRegression(C=0.1)                                84.18%          \n",
       "24  LogisticRegression(C=0.1)                                84.18%          \n",
       "25  KNeighborsClassifier(metric='euclidean', n_neighbors=9)  84.51%          \n",
       "26  KNeighborsClassifier(metric='euclidean', n_neighbors=9)  84.85%          \n",
       "27  KNeighborsClassifier(metric='euclidean', n_neighbors=9)  84.51%          \n",
       "28  KNeighborsClassifier(metric='euclidean', n_neighbors=9)  83.84%          \n",
       "29  KNeighborsClassifier(metric='euclidean', n_neighbors=9)  74.41%          \n",
       "30  KNeighborsClassifier(metric='euclidean', n_neighbors=9)  74.75%          \n",
       "31  KNeighborsClassifier(metric='euclidean', n_neighbors=9)  73.40%          \n",
       "32  KNeighborsClassifier(metric='euclidean', n_neighbors=9)  81.48%          \n",
       "33  KNeighborsClassifier(metric='euclidean', n_neighbors=9)  81.14%          \n",
       "34  KNeighborsClassifier(metric='euclidean', n_neighbors=9)  83.84%          \n",
       "35  DecisionTreeClassifier(max_depth=4)                      84.85%          \n",
       "36  DecisionTreeClassifier(max_depth=4)                      83.50%          \n",
       "37  DecisionTreeClassifier(max_depth=4)                      84.85%          \n",
       "38  DecisionTreeClassifier(max_depth=4)                      81.82%          \n",
       "39  DecisionTreeClassifier(max_depth=4)                      74.41%          \n",
       "40  DecisionTreeClassifier(max_depth=4)                      76.43%          \n",
       "41  DecisionTreeClassifier(max_depth=4)                      76.09%          \n",
       "42  DecisionTreeClassifier(max_depth=4)                      84.85%          \n",
       "43  DecisionTreeClassifier(max_depth=4)                      82.15%          \n",
       "44  DecisionTreeClassifier(max_depth=4)                      82.15%          \n",
       "\n",
       "                                     Answer_3  \n",
       "0                                              \n",
       "1   {'C': 10, 'kernel': 'linear'}              \n",
       "2   {'C': 0.1, 'penalty': 'l2'}                \n",
       "3   {'metric': 'euclidean', 'n_neighbors': 9}  \n",
       "4   {'criterion': 'gini', 'max_depth': 4}      \n",
       "5   [0, 1, 2, 3, 5, 16]                        \n",
       "6   [5, 6, 9, 13, 15, 17]                      \n",
       "7   (0, 1, 2, 3, 5, 16)                        \n",
       "8   (5, 6, 9, 13, 15, 17)                      \n",
       "9   [17]                                       \n",
       "10  [17, 16]                                   \n",
       "11  [17, 16, 0]                                \n",
       "12  [17, 16, 0, 1]                             \n",
       "13  [17, 16, 0, 1, 2]                          \n",
       "14  [17, 16, 0, 1, 2, 3]                       \n",
       "15  [5, 6, 7, 8, 9, 16]                        \n",
       "16  [1, 5, 9, 10, 15, 16]                      \n",
       "17  (5, 6, 7, 8, 9, 16)                        \n",
       "18  (3, 5, 9, 13, 15, 17)                      \n",
       "19  [17]                                       \n",
       "20  [17, 16]                                   \n",
       "21  [17, 16, 5]                                \n",
       "22  [17, 16, 5, 9]                             \n",
       "23  [17, 16, 5, 9, 6]                          \n",
       "24  [17, 16, 5, 9, 6, 7]                       \n",
       "25  [4, 5, 9, 14, 15, 16]                      \n",
       "26  [5, 9, 13, 14, 15, 16]                     \n",
       "27  (4, 5, 9, 14, 15, 16)                      \n",
       "28  (4, 5, 9, 10, 15, 17)                      \n",
       "29  [17]                                       \n",
       "30  [17, 9]                                    \n",
       "31  [17, 9, 4]                                 \n",
       "32  [17, 9, 4, 5]                              \n",
       "33  [17, 9, 4, 5, 16]                          \n",
       "34  [17, 9, 4, 5, 16, 14]                      \n",
       "35  [5, 7, 8, 9, 16, 17]                       \n",
       "36  [1, 2, 5, 9, 16, 17]                       \n",
       "37  (5, 7, 8, 9, 16, 17)                       \n",
       "38  (1, 2, 4, 5, 9, 16)                        \n",
       "39  [17]                                       \n",
       "40  [17, 16]                                   \n",
       "41  [17, 16, 9]                                \n",
       "42  [17, 16, 9, 5]                             \n",
       "43  [15, 16, 9, 5, 17]                         \n",
       "44  [15, 16, 9, 5, 17, 7]                      "
      ],
      "text/html": "<div>\n<style scoped>\n    .dataframe tbody tr th:only-of-type {\n        vertical-align: middle;\n    }\n\n    .dataframe tbody tr th {\n        vertical-align: top;\n    }\n\n    .dataframe thead th {\n        text-align: right;\n    }\n</style>\n<table border=\"1\" class=\"dataframe\">\n  <thead>\n    <tr style=\"text-align: right;\">\n      <th></th>\n      <th>Exercise</th>\n      <th>Decription</th>\n      <th>Answer_1</th>\n      <th>Answer_2</th>\n      <th>Answer_3</th>\n    </tr>\n  </thead>\n  <tbody>\n    <tr>\n      <th>0</th>\n      <td>A</td>\n      <td>KNeighborsClassifier</td>\n      <td>Original Data</td>\n      <td>Score: 84.85%</td>\n      <td></td>\n    </tr>\n    <tr>\n      <th>1</th>\n      <td>B-1</td>\n      <td>SVM</td>\n      <td>dummies</td>\n      <td>Score: 85.19%</td>\n      <td>{'C': 10, 'kernel': 'linear'}</td>\n    </tr>\n    <tr>\n      <th>2</th>\n      <td>B-1</td>\n      <td>Logistic Regression</td>\n      <td>dummies</td>\n      <td>Score: 84.18%</td>\n      <td>{'C': 0.1, 'penalty': 'l2'}</td>\n    </tr>\n    <tr>\n      <th>3</th>\n      <td>B-1</td>\n      <td>KNN</td>\n      <td>dummies</td>\n      <td>Score: 83.50%</td>\n      <td>{'metric': 'euclidean', 'n_neighbors': 9}</td>\n    </tr>\n    <tr>\n      <th>4</th>\n      <td>B-1</td>\n      <td>Tree</td>\n      <td>dummies</td>\n      <td>Score: 77.44%</td>\n      <td>{'criterion': 'gini', 'max_depth': 4}</td>\n    </tr>\n    <tr>\n      <th>5</th>\n      <td>B-2</td>\n      <td>sfs, forward</td>\n      <td>SVC(C=10, kernel='linear')</td>\n      <td>80.13%</td>\n      <td>[0, 1, 2, 3, 5, 16]</td>\n    </tr>\n    <tr>\n      <th>6</th>\n      <td>B-2</td>\n      <td>sfs, backward</td>\n      <td>SVC(C=10, kernel='linear')</td>\n      <td>86.53%</td>\n      <td>[5, 6, 9, 13, 15, 17]</td>\n    </tr>\n    <tr>\n      <th>7</th>\n      <td>B-2</td>\n      <td>xsfs, forward</td>\n      <td>SVC(C=10, kernel='linear')</td>\n      <td>80.13%</td>\n      <td>(0, 1, 2, 3, 5, 16)</td>\n    </tr>\n    <tr>\n      <th>8</th>\n      <td>B-2</td>\n      <td>xsfs, backward</td>\n      <td>SVC(C=10, kernel='linear')</td>\n      <td>86.53%</td>\n      <td>(5, 6, 9, 13, 15, 17)</td>\n    </tr>\n    <tr>\n      <th>9</th>\n      <td>B-2</td>\n      <td>Explicit loop</td>\n      <td>SVC(C=10, kernel='linear')</td>\n      <td>74.41%</td>\n      <td>[17]</td>\n    </tr>\n    <tr>\n      <th>10</th>\n      <td>B-2</td>\n      <td>Explicit loop</td>\n      <td>SVC(C=10, kernel='linear')</td>\n      <td>76.43%</td>\n      <td>[17, 16]</td>\n    </tr>\n    <tr>\n      <th>11</th>\n      <td>B-2</td>\n      <td>Explicit loop</td>\n      <td>SVC(C=10, kernel='linear')</td>\n      <td>76.43%</td>\n      <td>[17, 16, 0]</td>\n    </tr>\n    <tr>\n      <th>12</th>\n      <td>B-2</td>\n      <td>Explicit loop</td>\n      <td>SVC(C=10, kernel='linear')</td>\n      <td>76.43%</td>\n      <td>[17, 16, 0, 1]</td>\n    </tr>\n    <tr>\n      <th>13</th>\n      <td>B-2</td>\n      <td>Explicit loop</td>\n      <td>SVC(C=10, kernel='linear')</td>\n      <td>76.43%</td>\n      <td>[17, 16, 0, 1, 2]</td>\n    </tr>\n    <tr>\n      <th>14</th>\n      <td>B-2</td>\n      <td>Explicit loop</td>\n      <td>SVC(C=10, kernel='linear')</td>\n      <td>76.43%</td>\n      <td>[17, 16, 0, 1, 2, 3]</td>\n    </tr>\n    <tr>\n      <th>15</th>\n      <td>B-2</td>\n      <td>sfs, forward</td>\n      <td>LogisticRegression(C=0.1)</td>\n      <td>85.19%</td>\n      <td>[5, 6, 7, 8, 9, 16]</td>\n    </tr>\n    <tr>\n      <th>16</th>\n      <td>B-2</td>\n      <td>sfs, backward</td>\n      <td>LogisticRegression(C=0.1)</td>\n      <td>85.86%</td>\n      <td>[1, 5, 9, 10, 15, 16]</td>\n    </tr>\n    <tr>\n      <th>17</th>\n      <td>B-2</td>\n      <td>xsfs, forward</td>\n      <td>LogisticRegression(C=0.1)</td>\n      <td>85.19%</td>\n      <td>(5, 6, 7, 8, 9, 16)</td>\n    </tr>\n    <tr>\n      <th>18</th>\n      <td>B-2</td>\n      <td>xsfs, backward</td>\n      <td>LogisticRegression(C=0.1)</td>\n      <td>85.86%</td>\n      <td>(3, 5, 9, 13, 15, 17)</td>\n    </tr>\n    <tr>\n      <th>19</th>\n      <td>B-2</td>\n      <td>Explicit loop</td>\n      <td>LogisticRegression(C=0.1)</td>\n      <td>74.41%</td>\n      <td>[17]</td>\n    </tr>\n    <tr>\n      <th>20</th>\n      <td>B-2</td>\n      <td>Explicit loop</td>\n      <td>LogisticRegression(C=0.1)</td>\n      <td>76.43%</td>\n      <td>[17, 16]</td>\n    </tr>\n    <tr>\n      <th>21</th>\n      <td>B-2</td>\n      <td>Explicit loop</td>\n      <td>LogisticRegression(C=0.1)</td>\n      <td>79.12%</td>\n      <td>[17, 16, 5]</td>\n    </tr>\n    <tr>\n      <th>22</th>\n      <td>B-2</td>\n      <td>Explicit loop</td>\n      <td>LogisticRegression(C=0.1)</td>\n      <td>84.18%</td>\n      <td>[17, 16, 5, 9]</td>\n    </tr>\n    <tr>\n      <th>23</th>\n      <td>B-2</td>\n      <td>Explicit loop</td>\n      <td>LogisticRegression(C=0.1)</td>\n      <td>84.18%</td>\n      <td>[17, 16, 5, 9, 6]</td>\n    </tr>\n    <tr>\n      <th>24</th>\n      <td>B-2</td>\n      <td>Explicit loop</td>\n      <td>LogisticRegression(C=0.1)</td>\n      <td>84.18%</td>\n      <td>[17, 16, 5, 9, 6, 7]</td>\n    </tr>\n    <tr>\n      <th>25</th>\n      <td>B-2</td>\n      <td>sfs, forward</td>\n      <td>KNeighborsClassifier(metric='euclidean', n_neighbors=9)</td>\n      <td>84.51%</td>\n      <td>[4, 5, 9, 14, 15, 16]</td>\n    </tr>\n    <tr>\n      <th>26</th>\n      <td>B-2</td>\n      <td>sfs, backward</td>\n      <td>KNeighborsClassifier(metric='euclidean', n_neighbors=9)</td>\n      <td>84.85%</td>\n      <td>[5, 9, 13, 14, 15, 16]</td>\n    </tr>\n    <tr>\n      <th>27</th>\n      <td>B-2</td>\n      <td>xsfs, forward</td>\n      <td>KNeighborsClassifier(metric='euclidean', n_neighbors=9)</td>\n      <td>84.51%</td>\n      <td>(4, 5, 9, 14, 15, 16)</td>\n    </tr>\n    <tr>\n      <th>28</th>\n      <td>B-2</td>\n      <td>xsfs, backward</td>\n      <td>KNeighborsClassifier(metric='euclidean', n_neighbors=9)</td>\n      <td>83.84%</td>\n      <td>(4, 5, 9, 10, 15, 17)</td>\n    </tr>\n    <tr>\n      <th>29</th>\n      <td>B-2</td>\n      <td>Explicit loop</td>\n      <td>KNeighborsClassifier(metric='euclidean', n_neighbors=9)</td>\n      <td>74.41%</td>\n      <td>[17]</td>\n    </tr>\n    <tr>\n      <th>30</th>\n      <td>B-2</td>\n      <td>Explicit loop</td>\n      <td>KNeighborsClassifier(metric='euclidean', n_neighbors=9)</td>\n      <td>74.75%</td>\n      <td>[17, 9]</td>\n    </tr>\n    <tr>\n      <th>31</th>\n      <td>B-2</td>\n      <td>Explicit loop</td>\n      <td>KNeighborsClassifier(metric='euclidean', n_neighbors=9)</td>\n      <td>73.40%</td>\n      <td>[17, 9, 4]</td>\n    </tr>\n    <tr>\n      <th>32</th>\n      <td>B-2</td>\n      <td>Explicit loop</td>\n      <td>KNeighborsClassifier(metric='euclidean', n_neighbors=9)</td>\n      <td>81.48%</td>\n      <td>[17, 9, 4, 5]</td>\n    </tr>\n    <tr>\n      <th>33</th>\n      <td>B-2</td>\n      <td>Explicit loop</td>\n      <td>KNeighborsClassifier(metric='euclidean', n_neighbors=9)</td>\n      <td>81.14%</td>\n      <td>[17, 9, 4, 5, 16]</td>\n    </tr>\n    <tr>\n      <th>34</th>\n      <td>B-2</td>\n      <td>Explicit loop</td>\n      <td>KNeighborsClassifier(metric='euclidean', n_neighbors=9)</td>\n      <td>83.84%</td>\n      <td>[17, 9, 4, 5, 16, 14]</td>\n    </tr>\n    <tr>\n      <th>35</th>\n      <td>B-2</td>\n      <td>sfs, forward</td>\n      <td>DecisionTreeClassifier(max_depth=4)</td>\n      <td>84.85%</td>\n      <td>[5, 7, 8, 9, 16, 17]</td>\n    </tr>\n    <tr>\n      <th>36</th>\n      <td>B-2</td>\n      <td>sfs, backward</td>\n      <td>DecisionTreeClassifier(max_depth=4)</td>\n      <td>83.50%</td>\n      <td>[1, 2, 5, 9, 16, 17]</td>\n    </tr>\n    <tr>\n      <th>37</th>\n      <td>B-2</td>\n      <td>xsfs, forward</td>\n      <td>DecisionTreeClassifier(max_depth=4)</td>\n      <td>84.85%</td>\n      <td>(5, 7, 8, 9, 16, 17)</td>\n    </tr>\n    <tr>\n      <th>38</th>\n      <td>B-2</td>\n      <td>xsfs, backward</td>\n      <td>DecisionTreeClassifier(max_depth=4)</td>\n      <td>81.82%</td>\n      <td>(1, 2, 4, 5, 9, 16)</td>\n    </tr>\n    <tr>\n      <th>39</th>\n      <td>B-2</td>\n      <td>Explicit loop</td>\n      <td>DecisionTreeClassifier(max_depth=4)</td>\n      <td>74.41%</td>\n      <td>[17]</td>\n    </tr>\n    <tr>\n      <th>40</th>\n      <td>B-2</td>\n      <td>Explicit loop</td>\n      <td>DecisionTreeClassifier(max_depth=4)</td>\n      <td>76.43%</td>\n      <td>[17, 16]</td>\n    </tr>\n    <tr>\n      <th>41</th>\n      <td>B-2</td>\n      <td>Explicit loop</td>\n      <td>DecisionTreeClassifier(max_depth=4)</td>\n      <td>76.09%</td>\n      <td>[17, 16, 9]</td>\n    </tr>\n    <tr>\n      <th>42</th>\n      <td>B-2</td>\n      <td>Explicit loop</td>\n      <td>DecisionTreeClassifier(max_depth=4)</td>\n      <td>84.85%</td>\n      <td>[17, 16, 9, 5]</td>\n    </tr>\n    <tr>\n      <th>43</th>\n      <td>B-2</td>\n      <td>Explicit loop</td>\n      <td>DecisionTreeClassifier(max_depth=4)</td>\n      <td>82.15%</td>\n      <td>[15, 16, 9, 5, 17]</td>\n    </tr>\n    <tr>\n      <th>44</th>\n      <td>B-2</td>\n      <td>Explicit loop</td>\n      <td>DecisionTreeClassifier(max_depth=4)</td>\n      <td>82.15%</td>\n      <td>[15, 16, 9, 5, 17, 7]</td>\n    </tr>\n  </tbody>\n</table>\n</div>"
     },
     "metadata": {},
     "execution_count": 21
    }
   ],
   "source": [
    "dfAnswers"
   ]
  },
  {
   "cell_type": "code",
   "execution_count": 26,
   "metadata": {},
   "outputs": [
    {
     "output_type": "execute_result",
     "data": {
      "text/plain": [
       "   Exercise      Decription  \\\n",
       "8   B-2      xsfs, backward   \n",
       "6   B-2      sfs, backward    \n",
       "18  B-2      xsfs, backward   \n",
       "16  B-2      sfs, backward    \n",
       "15  B-2      sfs, forward     \n",
       "17  B-2      xsfs, forward    \n",
       "42  B-2      Explicit loop    \n",
       "37  B-2      xsfs, forward    \n",
       "35  B-2      sfs, forward     \n",
       "26  B-2      sfs, backward    \n",
       "25  B-2      sfs, forward     \n",
       "27  B-2      xsfs, forward    \n",
       "22  B-2      Explicit loop    \n",
       "23  B-2      Explicit loop    \n",
       "24  B-2      Explicit loop    \n",
       "34  B-2      Explicit loop    \n",
       "28  B-2      xsfs, backward   \n",
       "36  B-2      sfs, backward    \n",
       "43  B-2      Explicit loop    \n",
       "44  B-2      Explicit loop    \n",
       "38  B-2      xsfs, backward   \n",
       "32  B-2      Explicit loop    \n",
       "33  B-2      Explicit loop    \n",
       "5   B-2      sfs, forward     \n",
       "7   B-2      xsfs, forward    \n",
       "21  B-2      Explicit loop    \n",
       "13  B-2      Explicit loop    \n",
       "20  B-2      Explicit loop    \n",
       "11  B-2      Explicit loop    \n",
       "10  B-2      Explicit loop    \n",
       "14  B-2      Explicit loop    \n",
       "40  B-2      Explicit loop    \n",
       "12  B-2      Explicit loop    \n",
       "41  B-2      Explicit loop    \n",
       "30  B-2      Explicit loop    \n",
       "29  B-2      Explicit loop    \n",
       "39  B-2      Explicit loop    \n",
       "9   B-2      Explicit loop    \n",
       "19  B-2      Explicit loop    \n",
       "31  B-2      Explicit loop    \n",
       "\n",
       "                                                   Answer_1 Answer_2  \\\n",
       "8   SVC(C=10, kernel='linear')                               86.53%    \n",
       "6   SVC(C=10, kernel='linear')                               86.53%    \n",
       "18  LogisticRegression(C=0.1)                                85.86%    \n",
       "16  LogisticRegression(C=0.1)                                85.86%    \n",
       "15  LogisticRegression(C=0.1)                                85.19%    \n",
       "17  LogisticRegression(C=0.1)                                85.19%    \n",
       "42  DecisionTreeClassifier(max_depth=4)                      84.85%    \n",
       "37  DecisionTreeClassifier(max_depth=4)                      84.85%    \n",
       "35  DecisionTreeClassifier(max_depth=4)                      84.85%    \n",
       "26  KNeighborsClassifier(metric='euclidean', n_neighbors=9)  84.85%    \n",
       "25  KNeighborsClassifier(metric='euclidean', n_neighbors=9)  84.51%    \n",
       "27  KNeighborsClassifier(metric='euclidean', n_neighbors=9)  84.51%    \n",
       "22  LogisticRegression(C=0.1)                                84.18%    \n",
       "23  LogisticRegression(C=0.1)                                84.18%    \n",
       "24  LogisticRegression(C=0.1)                                84.18%    \n",
       "34  KNeighborsClassifier(metric='euclidean', n_neighbors=9)  83.84%    \n",
       "28  KNeighborsClassifier(metric='euclidean', n_neighbors=9)  83.84%    \n",
       "36  DecisionTreeClassifier(max_depth=4)                      83.50%    \n",
       "43  DecisionTreeClassifier(max_depth=4)                      82.15%    \n",
       "44  DecisionTreeClassifier(max_depth=4)                      82.15%    \n",
       "38  DecisionTreeClassifier(max_depth=4)                      81.82%    \n",
       "32  KNeighborsClassifier(metric='euclidean', n_neighbors=9)  81.48%    \n",
       "33  KNeighborsClassifier(metric='euclidean', n_neighbors=9)  81.14%    \n",
       "5   SVC(C=10, kernel='linear')                               80.13%    \n",
       "7   SVC(C=10, kernel='linear')                               80.13%    \n",
       "21  LogisticRegression(C=0.1)                                79.12%    \n",
       "13  SVC(C=10, kernel='linear')                               76.43%    \n",
       "20  LogisticRegression(C=0.1)                                76.43%    \n",
       "11  SVC(C=10, kernel='linear')                               76.43%    \n",
       "10  SVC(C=10, kernel='linear')                               76.43%    \n",
       "14  SVC(C=10, kernel='linear')                               76.43%    \n",
       "40  DecisionTreeClassifier(max_depth=4)                      76.43%    \n",
       "12  SVC(C=10, kernel='linear')                               76.43%    \n",
       "41  DecisionTreeClassifier(max_depth=4)                      76.09%    \n",
       "30  KNeighborsClassifier(metric='euclidean', n_neighbors=9)  74.75%    \n",
       "29  KNeighborsClassifier(metric='euclidean', n_neighbors=9)  74.41%    \n",
       "39  DecisionTreeClassifier(max_depth=4)                      74.41%    \n",
       "9   SVC(C=10, kernel='linear')                               74.41%    \n",
       "19  LogisticRegression(C=0.1)                                74.41%    \n",
       "31  KNeighborsClassifier(metric='euclidean', n_neighbors=9)  73.40%    \n",
       "\n",
       "                  Answer_3  \n",
       "8   (5, 6, 9, 13, 15, 17)   \n",
       "6   [5, 6, 9, 13, 15, 17]   \n",
       "18  (3, 5, 9, 13, 15, 17)   \n",
       "16  [1, 5, 9, 10, 15, 16]   \n",
       "15  [5, 6, 7, 8, 9, 16]     \n",
       "17  (5, 6, 7, 8, 9, 16)     \n",
       "42  [17, 16, 9, 5]          \n",
       "37  (5, 7, 8, 9, 16, 17)    \n",
       "35  [5, 7, 8, 9, 16, 17]    \n",
       "26  [5, 9, 13, 14, 15, 16]  \n",
       "25  [4, 5, 9, 14, 15, 16]   \n",
       "27  (4, 5, 9, 14, 15, 16)   \n",
       "22  [17, 16, 5, 9]          \n",
       "23  [17, 16, 5, 9, 6]       \n",
       "24  [17, 16, 5, 9, 6, 7]    \n",
       "34  [17, 9, 4, 5, 16, 14]   \n",
       "28  (4, 5, 9, 10, 15, 17)   \n",
       "36  [1, 2, 5, 9, 16, 17]    \n",
       "43  [15, 16, 9, 5, 17]      \n",
       "44  [15, 16, 9, 5, 17, 7]   \n",
       "38  (1, 2, 4, 5, 9, 16)     \n",
       "32  [17, 9, 4, 5]           \n",
       "33  [17, 9, 4, 5, 16]       \n",
       "5   [0, 1, 2, 3, 5, 16]     \n",
       "7   (0, 1, 2, 3, 5, 16)     \n",
       "21  [17, 16, 5]             \n",
       "13  [17, 16, 0, 1, 2]       \n",
       "20  [17, 16]                \n",
       "11  [17, 16, 0]             \n",
       "10  [17, 16]                \n",
       "14  [17, 16, 0, 1, 2, 3]    \n",
       "40  [17, 16]                \n",
       "12  [17, 16, 0, 1]          \n",
       "41  [17, 16, 9]             \n",
       "30  [17, 9]                 \n",
       "29  [17]                    \n",
       "39  [17]                    \n",
       "9   [17]                    \n",
       "19  [17]                    \n",
       "31  [17, 9, 4]              "
      ],
      "text/html": "<div>\n<style scoped>\n    .dataframe tbody tr th:only-of-type {\n        vertical-align: middle;\n    }\n\n    .dataframe tbody tr th {\n        vertical-align: top;\n    }\n\n    .dataframe thead th {\n        text-align: right;\n    }\n</style>\n<table border=\"1\" class=\"dataframe\">\n  <thead>\n    <tr style=\"text-align: right;\">\n      <th></th>\n      <th>Exercise</th>\n      <th>Decription</th>\n      <th>Answer_1</th>\n      <th>Answer_2</th>\n      <th>Answer_3</th>\n    </tr>\n  </thead>\n  <tbody>\n    <tr>\n      <th>8</th>\n      <td>B-2</td>\n      <td>xsfs, backward</td>\n      <td>SVC(C=10, kernel='linear')</td>\n      <td>86.53%</td>\n      <td>(5, 6, 9, 13, 15, 17)</td>\n    </tr>\n    <tr>\n      <th>6</th>\n      <td>B-2</td>\n      <td>sfs, backward</td>\n      <td>SVC(C=10, kernel='linear')</td>\n      <td>86.53%</td>\n      <td>[5, 6, 9, 13, 15, 17]</td>\n    </tr>\n    <tr>\n      <th>18</th>\n      <td>B-2</td>\n      <td>xsfs, backward</td>\n      <td>LogisticRegression(C=0.1)</td>\n      <td>85.86%</td>\n      <td>(3, 5, 9, 13, 15, 17)</td>\n    </tr>\n    <tr>\n      <th>16</th>\n      <td>B-2</td>\n      <td>sfs, backward</td>\n      <td>LogisticRegression(C=0.1)</td>\n      <td>85.86%</td>\n      <td>[1, 5, 9, 10, 15, 16]</td>\n    </tr>\n    <tr>\n      <th>15</th>\n      <td>B-2</td>\n      <td>sfs, forward</td>\n      <td>LogisticRegression(C=0.1)</td>\n      <td>85.19%</td>\n      <td>[5, 6, 7, 8, 9, 16]</td>\n    </tr>\n    <tr>\n      <th>17</th>\n      <td>B-2</td>\n      <td>xsfs, forward</td>\n      <td>LogisticRegression(C=0.1)</td>\n      <td>85.19%</td>\n      <td>(5, 6, 7, 8, 9, 16)</td>\n    </tr>\n    <tr>\n      <th>42</th>\n      <td>B-2</td>\n      <td>Explicit loop</td>\n      <td>DecisionTreeClassifier(max_depth=4)</td>\n      <td>84.85%</td>\n      <td>[17, 16, 9, 5]</td>\n    </tr>\n    <tr>\n      <th>37</th>\n      <td>B-2</td>\n      <td>xsfs, forward</td>\n      <td>DecisionTreeClassifier(max_depth=4)</td>\n      <td>84.85%</td>\n      <td>(5, 7, 8, 9, 16, 17)</td>\n    </tr>\n    <tr>\n      <th>35</th>\n      <td>B-2</td>\n      <td>sfs, forward</td>\n      <td>DecisionTreeClassifier(max_depth=4)</td>\n      <td>84.85%</td>\n      <td>[5, 7, 8, 9, 16, 17]</td>\n    </tr>\n    <tr>\n      <th>26</th>\n      <td>B-2</td>\n      <td>sfs, backward</td>\n      <td>KNeighborsClassifier(metric='euclidean', n_neighbors=9)</td>\n      <td>84.85%</td>\n      <td>[5, 9, 13, 14, 15, 16]</td>\n    </tr>\n    <tr>\n      <th>25</th>\n      <td>B-2</td>\n      <td>sfs, forward</td>\n      <td>KNeighborsClassifier(metric='euclidean', n_neighbors=9)</td>\n      <td>84.51%</td>\n      <td>[4, 5, 9, 14, 15, 16]</td>\n    </tr>\n    <tr>\n      <th>27</th>\n      <td>B-2</td>\n      <td>xsfs, forward</td>\n      <td>KNeighborsClassifier(metric='euclidean', n_neighbors=9)</td>\n      <td>84.51%</td>\n      <td>(4, 5, 9, 14, 15, 16)</td>\n    </tr>\n    <tr>\n      <th>22</th>\n      <td>B-2</td>\n      <td>Explicit loop</td>\n      <td>LogisticRegression(C=0.1)</td>\n      <td>84.18%</td>\n      <td>[17, 16, 5, 9]</td>\n    </tr>\n    <tr>\n      <th>23</th>\n      <td>B-2</td>\n      <td>Explicit loop</td>\n      <td>LogisticRegression(C=0.1)</td>\n      <td>84.18%</td>\n      <td>[17, 16, 5, 9, 6]</td>\n    </tr>\n    <tr>\n      <th>24</th>\n      <td>B-2</td>\n      <td>Explicit loop</td>\n      <td>LogisticRegression(C=0.1)</td>\n      <td>84.18%</td>\n      <td>[17, 16, 5, 9, 6, 7]</td>\n    </tr>\n    <tr>\n      <th>34</th>\n      <td>B-2</td>\n      <td>Explicit loop</td>\n      <td>KNeighborsClassifier(metric='euclidean', n_neighbors=9)</td>\n      <td>83.84%</td>\n      <td>[17, 9, 4, 5, 16, 14]</td>\n    </tr>\n    <tr>\n      <th>28</th>\n      <td>B-2</td>\n      <td>xsfs, backward</td>\n      <td>KNeighborsClassifier(metric='euclidean', n_neighbors=9)</td>\n      <td>83.84%</td>\n      <td>(4, 5, 9, 10, 15, 17)</td>\n    </tr>\n    <tr>\n      <th>36</th>\n      <td>B-2</td>\n      <td>sfs, backward</td>\n      <td>DecisionTreeClassifier(max_depth=4)</td>\n      <td>83.50%</td>\n      <td>[1, 2, 5, 9, 16, 17]</td>\n    </tr>\n    <tr>\n      <th>43</th>\n      <td>B-2</td>\n      <td>Explicit loop</td>\n      <td>DecisionTreeClassifier(max_depth=4)</td>\n      <td>82.15%</td>\n      <td>[15, 16, 9, 5, 17]</td>\n    </tr>\n    <tr>\n      <th>44</th>\n      <td>B-2</td>\n      <td>Explicit loop</td>\n      <td>DecisionTreeClassifier(max_depth=4)</td>\n      <td>82.15%</td>\n      <td>[15, 16, 9, 5, 17, 7]</td>\n    </tr>\n    <tr>\n      <th>38</th>\n      <td>B-2</td>\n      <td>xsfs, backward</td>\n      <td>DecisionTreeClassifier(max_depth=4)</td>\n      <td>81.82%</td>\n      <td>(1, 2, 4, 5, 9, 16)</td>\n    </tr>\n    <tr>\n      <th>32</th>\n      <td>B-2</td>\n      <td>Explicit loop</td>\n      <td>KNeighborsClassifier(metric='euclidean', n_neighbors=9)</td>\n      <td>81.48%</td>\n      <td>[17, 9, 4, 5]</td>\n    </tr>\n    <tr>\n      <th>33</th>\n      <td>B-2</td>\n      <td>Explicit loop</td>\n      <td>KNeighborsClassifier(metric='euclidean', n_neighbors=9)</td>\n      <td>81.14%</td>\n      <td>[17, 9, 4, 5, 16]</td>\n    </tr>\n    <tr>\n      <th>5</th>\n      <td>B-2</td>\n      <td>sfs, forward</td>\n      <td>SVC(C=10, kernel='linear')</td>\n      <td>80.13%</td>\n      <td>[0, 1, 2, 3, 5, 16]</td>\n    </tr>\n    <tr>\n      <th>7</th>\n      <td>B-2</td>\n      <td>xsfs, forward</td>\n      <td>SVC(C=10, kernel='linear')</td>\n      <td>80.13%</td>\n      <td>(0, 1, 2, 3, 5, 16)</td>\n    </tr>\n    <tr>\n      <th>21</th>\n      <td>B-2</td>\n      <td>Explicit loop</td>\n      <td>LogisticRegression(C=0.1)</td>\n      <td>79.12%</td>\n      <td>[17, 16, 5]</td>\n    </tr>\n    <tr>\n      <th>13</th>\n      <td>B-2</td>\n      <td>Explicit loop</td>\n      <td>SVC(C=10, kernel='linear')</td>\n      <td>76.43%</td>\n      <td>[17, 16, 0, 1, 2]</td>\n    </tr>\n    <tr>\n      <th>20</th>\n      <td>B-2</td>\n      <td>Explicit loop</td>\n      <td>LogisticRegression(C=0.1)</td>\n      <td>76.43%</td>\n      <td>[17, 16]</td>\n    </tr>\n    <tr>\n      <th>11</th>\n      <td>B-2</td>\n      <td>Explicit loop</td>\n      <td>SVC(C=10, kernel='linear')</td>\n      <td>76.43%</td>\n      <td>[17, 16, 0]</td>\n    </tr>\n    <tr>\n      <th>10</th>\n      <td>B-2</td>\n      <td>Explicit loop</td>\n      <td>SVC(C=10, kernel='linear')</td>\n      <td>76.43%</td>\n      <td>[17, 16]</td>\n    </tr>\n    <tr>\n      <th>14</th>\n      <td>B-2</td>\n      <td>Explicit loop</td>\n      <td>SVC(C=10, kernel='linear')</td>\n      <td>76.43%</td>\n      <td>[17, 16, 0, 1, 2, 3]</td>\n    </tr>\n    <tr>\n      <th>40</th>\n      <td>B-2</td>\n      <td>Explicit loop</td>\n      <td>DecisionTreeClassifier(max_depth=4)</td>\n      <td>76.43%</td>\n      <td>[17, 16]</td>\n    </tr>\n    <tr>\n      <th>12</th>\n      <td>B-2</td>\n      <td>Explicit loop</td>\n      <td>SVC(C=10, kernel='linear')</td>\n      <td>76.43%</td>\n      <td>[17, 16, 0, 1]</td>\n    </tr>\n    <tr>\n      <th>41</th>\n      <td>B-2</td>\n      <td>Explicit loop</td>\n      <td>DecisionTreeClassifier(max_depth=4)</td>\n      <td>76.09%</td>\n      <td>[17, 16, 9]</td>\n    </tr>\n    <tr>\n      <th>30</th>\n      <td>B-2</td>\n      <td>Explicit loop</td>\n      <td>KNeighborsClassifier(metric='euclidean', n_neighbors=9)</td>\n      <td>74.75%</td>\n      <td>[17, 9]</td>\n    </tr>\n    <tr>\n      <th>29</th>\n      <td>B-2</td>\n      <td>Explicit loop</td>\n      <td>KNeighborsClassifier(metric='euclidean', n_neighbors=9)</td>\n      <td>74.41%</td>\n      <td>[17]</td>\n    </tr>\n    <tr>\n      <th>39</th>\n      <td>B-2</td>\n      <td>Explicit loop</td>\n      <td>DecisionTreeClassifier(max_depth=4)</td>\n      <td>74.41%</td>\n      <td>[17]</td>\n    </tr>\n    <tr>\n      <th>9</th>\n      <td>B-2</td>\n      <td>Explicit loop</td>\n      <td>SVC(C=10, kernel='linear')</td>\n      <td>74.41%</td>\n      <td>[17]</td>\n    </tr>\n    <tr>\n      <th>19</th>\n      <td>B-2</td>\n      <td>Explicit loop</td>\n      <td>LogisticRegression(C=0.1)</td>\n      <td>74.41%</td>\n      <td>[17]</td>\n    </tr>\n    <tr>\n      <th>31</th>\n      <td>B-2</td>\n      <td>Explicit loop</td>\n      <td>KNeighborsClassifier(metric='euclidean', n_neighbors=9)</td>\n      <td>73.40%</td>\n      <td>[17, 9, 4]</td>\n    </tr>\n  </tbody>\n</table>\n</div>"
     },
     "metadata": {},
     "execution_count": 26
    }
   ],
   "source": [
    "dfAnswers[dfAnswers.Exercise=='B-2'].sort_values('Answer_2', ascending=False)"
   ]
  },
  {
   "cell_type": "code",
   "execution_count": 22,
   "metadata": {},
   "outputs": [],
   "source": [
    "col_idx = (dfAnswers[dfAnswers.Exercise=='B-2'].sort_values('Answer_2', ascending=False)).iloc[0].Answer_3"
   ]
  },
  {
   "cell_type": "code",
   "execution_count": null,
   "metadata": {},
   "outputs": [],
   "source": []
  },
  {
   "cell_type": "code",
   "execution_count": 23,
   "metadata": {},
   "outputs": [
    {
     "output_type": "execute_result",
     "data": {
      "text/plain": [
       "     NumMajorVessels  Sex_male  ChestPainType_typical angina  \\\n",
       "0    1                1         0                              \n",
       "1    2                0         0                              \n",
       "2    0                0         0                              \n",
       "3    1                1         0                              \n",
       "4    0                1         0                              \n",
       "..  ..               ..        ..                              \n",
       "292  0                1         1                              \n",
       "293  0                1         1                              \n",
       "294  0                1         1                              \n",
       "295  0                0         1                              \n",
       "296  0                1         1                              \n",
       "\n",
       "     ExerciseInducedAngina_yes  StSlope_upsloping  \\\n",
       "0    0                          0                   \n",
       "1    0                          1                   \n",
       "2    0                          0                   \n",
       "3    0                          0                   \n",
       "4    1                          0                   \n",
       "..  ..                         ..                   \n",
       "292  0                          1                   \n",
       "293  0                          0                   \n",
       "294  1                          0                   \n",
       "295  0                          1                   \n",
       "296  1                          1                   \n",
       "\n",
       "     Thalassemia_reversable defect  \n",
       "0    0                              \n",
       "1    0                              \n",
       "2    0                              \n",
       "3    0                              \n",
       "4    0                              \n",
       "..  ..                              \n",
       "292  1                              \n",
       "293  1                              \n",
       "294  1                              \n",
       "295  0                              \n",
       "296  1                              \n",
       "\n",
       "[297 rows x 6 columns]"
      ],
      "text/html": "<div>\n<style scoped>\n    .dataframe tbody tr th:only-of-type {\n        vertical-align: middle;\n    }\n\n    .dataframe tbody tr th {\n        vertical-align: top;\n    }\n\n    .dataframe thead th {\n        text-align: right;\n    }\n</style>\n<table border=\"1\" class=\"dataframe\">\n  <thead>\n    <tr style=\"text-align: right;\">\n      <th></th>\n      <th>NumMajorVessels</th>\n      <th>Sex_male</th>\n      <th>ChestPainType_typical angina</th>\n      <th>ExerciseInducedAngina_yes</th>\n      <th>StSlope_upsloping</th>\n      <th>Thalassemia_reversable defect</th>\n    </tr>\n  </thead>\n  <tbody>\n    <tr>\n      <th>0</th>\n      <td>1</td>\n      <td>1</td>\n      <td>0</td>\n      <td>0</td>\n      <td>0</td>\n      <td>0</td>\n    </tr>\n    <tr>\n      <th>1</th>\n      <td>2</td>\n      <td>0</td>\n      <td>0</td>\n      <td>0</td>\n      <td>1</td>\n      <td>0</td>\n    </tr>\n    <tr>\n      <th>2</th>\n      <td>0</td>\n      <td>0</td>\n      <td>0</td>\n      <td>0</td>\n      <td>0</td>\n      <td>0</td>\n    </tr>\n    <tr>\n      <th>3</th>\n      <td>1</td>\n      <td>1</td>\n      <td>0</td>\n      <td>0</td>\n      <td>0</td>\n      <td>0</td>\n    </tr>\n    <tr>\n      <th>4</th>\n      <td>0</td>\n      <td>1</td>\n      <td>0</td>\n      <td>1</td>\n      <td>0</td>\n      <td>0</td>\n    </tr>\n    <tr>\n      <th>...</th>\n      <td>...</td>\n      <td>...</td>\n      <td>...</td>\n      <td>...</td>\n      <td>...</td>\n      <td>...</td>\n    </tr>\n    <tr>\n      <th>292</th>\n      <td>0</td>\n      <td>1</td>\n      <td>1</td>\n      <td>0</td>\n      <td>1</td>\n      <td>1</td>\n    </tr>\n    <tr>\n      <th>293</th>\n      <td>0</td>\n      <td>1</td>\n      <td>1</td>\n      <td>0</td>\n      <td>0</td>\n      <td>1</td>\n    </tr>\n    <tr>\n      <th>294</th>\n      <td>0</td>\n      <td>1</td>\n      <td>1</td>\n      <td>1</td>\n      <td>0</td>\n      <td>1</td>\n    </tr>\n    <tr>\n      <th>295</th>\n      <td>0</td>\n      <td>0</td>\n      <td>1</td>\n      <td>0</td>\n      <td>1</td>\n      <td>0</td>\n    </tr>\n    <tr>\n      <th>296</th>\n      <td>0</td>\n      <td>1</td>\n      <td>1</td>\n      <td>1</td>\n      <td>1</td>\n      <td>1</td>\n    </tr>\n  </tbody>\n</table>\n<p>297 rows × 6 columns</p>\n</div>"
     },
     "metadata": {},
     "execution_count": 23
    }
   ],
   "source": [
    "#-- Choose 6 features\n",
    "lCol   = dData3.columns.values[np.asarray(col_idx)]\n",
    "dData4 = dData3[lCol]\n",
    "dData4"
   ]
  },
  {
   "cell_type": "code",
   "execution_count": null,
   "metadata": {},
   "outputs": [],
   "source": []
  },
  {
   "cell_type": "code",
   "execution_count": null,
   "metadata": {},
   "outputs": [],
   "source": []
  },
  {
   "cell_type": "code",
   "execution_count": null,
   "metadata": {},
   "outputs": [],
   "source": []
  },
  {
   "cell_type": "code",
   "execution_count": null,
   "metadata": {},
   "outputs": [],
   "source": []
  },
  {
   "cell_type": "code",
   "execution_count": null,
   "metadata": {},
   "outputs": [],
   "source": []
  },
  {
   "cell_type": "markdown",
   "metadata": {},
   "source": [
    "### ELI5 (Explain Like I'm Five):\n",
    "https://eli5.readthedocs.io/en/latest/index.html"
   ]
  },
  {
   "cell_type": "code",
   "execution_count": 24,
   "metadata": {},
   "outputs": [
    {
     "output_type": "stream",
     "name": "stdout",
     "text": [
      "Requirement already satisfied: eli5 in c:\\users\\eyalshw\\anaconda3\\lib\\site-packages (0.11.0)\nRequirement already satisfied: six in c:\\users\\eyalshw\\anaconda3\\lib\\site-packages (from eli5) (1.15.0)\nRequirement already satisfied: attrs>16.0.0 in c:\\users\\eyalshw\\anaconda3\\lib\\site-packages (from eli5) (20.3.0)\nRequirement already satisfied: graphviz in c:\\users\\eyalshw\\anaconda3\\lib\\site-packages (from eli5) (0.17)\nRequirement already satisfied: scikit-learn>=0.20 in c:\\users\\eyalshw\\anaconda3\\lib\\site-packages (from eli5) (0.24.1)\nRequirement already satisfied: jinja2 in c:\\users\\eyalshw\\anaconda3\\lib\\site-packages (from eli5) (2.11.3)\nRequirement already satisfied: tabulate>=0.7.7 in c:\\users\\eyalshw\\anaconda3\\lib\\site-packages (from eli5) (0.8.9)\nRequirement already satisfied: scipy in c:\\users\\eyalshw\\anaconda3\\lib\\site-packages (from eli5) (1.6.2)\nRequirement already satisfied: numpy>=1.9.0 in c:\\users\\eyalshw\\anaconda3\\lib\\site-packages (from eli5) (1.20.1)\nRequirement already satisfied: threadpoolctl>=2.0.0 in c:\\users\\eyalshw\\anaconda3\\lib\\site-packages (from scikit-learn>=0.20->eli5) (2.1.0)\nRequirement already satisfied: joblib>=0.11 in c:\\users\\eyalshw\\anaconda3\\lib\\site-packages (from scikit-learn>=0.20->eli5) (1.0.1)\nRequirement already satisfied: MarkupSafe>=0.23 in c:\\users\\eyalshw\\anaconda3\\lib\\site-packages (from jinja2->eli5) (1.1.1)\nNote: you may need to restart the kernel to use updated packages.\n"
     ]
    }
   ],
   "source": [
    "pip install eli5"
   ]
  },
  {
   "cell_type": "code",
   "execution_count": 25,
   "metadata": {},
   "outputs": [
    {
     "output_type": "error",
     "ename": "AttributeError",
     "evalue": "type object 'h5py.h5.H5PYConfig' has no attribute '__reduce_cython__'",
     "traceback": [
      "\u001b[1;31m---------------------------------------------------------------------------\u001b[0m",
      "\u001b[1;31mAttributeError\u001b[0m                            Traceback (most recent call last)",
      "\u001b[1;32m<ipython-input-25-d9ad9488060f>\u001b[0m in \u001b[0;36m<module>\u001b[1;34m\u001b[0m\n\u001b[1;32m----> 1\u001b[1;33m \u001b[1;32mimport\u001b[0m \u001b[0meli5\u001b[0m\u001b[1;33m\u001b[0m\u001b[1;33m\u001b[0m\u001b[0m\n\u001b[0m\u001b[0;32m      2\u001b[0m \u001b[1;33m\u001b[0m\u001b[0m\n\u001b[0;32m      3\u001b[0m \u001b[0moLinearSVM\u001b[0m \u001b[1;33m=\u001b[0m \u001b[0mSVC\u001b[0m\u001b[1;33m(\u001b[0m\u001b[0mkernel\u001b[0m\u001b[1;33m=\u001b[0m\u001b[1;34m'linear'\u001b[0m\u001b[1;33m,\u001b[0m \u001b[0mC\u001b[0m\u001b[1;33m=\u001b[0m\u001b[1;36m3\u001b[0m\u001b[1;33m)\u001b[0m\u001b[1;33m.\u001b[0m\u001b[0mfit\u001b[0m\u001b[1;33m(\u001b[0m\u001b[0mmX3\u001b[0m\u001b[1;33m,\u001b[0m \u001b[0mvY\u001b[0m\u001b[1;33m)\u001b[0m\u001b[1;33m\u001b[0m\u001b[1;33m\u001b[0m\u001b[0m\n\u001b[0;32m      4\u001b[0m \u001b[0meli5\u001b[0m\u001b[1;33m.\u001b[0m\u001b[0mshow_weights\u001b[0m\u001b[1;33m(\u001b[0m\u001b[0moLinearSVM\u001b[0m\u001b[1;33m,\u001b[0m \u001b[0mfeature_names\u001b[0m\u001b[1;33m=\u001b[0m\u001b[0mdData3\u001b[0m\u001b[1;33m.\u001b[0m\u001b[0mcolumns\u001b[0m\u001b[1;33m[\u001b[0m\u001b[1;33m:\u001b[0m\u001b[1;33m-\u001b[0m\u001b[1;36m1\u001b[0m\u001b[1;33m]\u001b[0m\u001b[1;33m.\u001b[0m\u001b[0mtolist\u001b[0m\u001b[1;33m(\u001b[0m\u001b[1;33m)\u001b[0m\u001b[1;33m,\u001b[0m \u001b[0mtarget_names\u001b[0m\u001b[1;33m=\u001b[0m\u001b[1;33m[\u001b[0m\u001b[1;34m'no hearth disease'\u001b[0m\u001b[1;33m,\u001b[0m \u001b[1;34m'hearth disease'\u001b[0m\u001b[1;33m]\u001b[0m\u001b[1;33m)\u001b[0m\u001b[1;33m\u001b[0m\u001b[1;33m\u001b[0m\u001b[0m\n",
      "\u001b[1;32m~\\Anaconda3\\lib\\site-packages\\eli5\\__init__.py\u001b[0m in \u001b[0;36m<module>\u001b[1;34m\u001b[0m\n\u001b[0;32m     91\u001b[0m \u001b[1;33m\u001b[0m\u001b[0m\n\u001b[0;32m     92\u001b[0m \u001b[1;32mtry\u001b[0m\u001b[1;33m:\u001b[0m\u001b[1;33m\u001b[0m\u001b[1;33m\u001b[0m\u001b[0m\n\u001b[1;32m---> 93\u001b[1;33m     from .keras import (\n\u001b[0m\u001b[0;32m     94\u001b[0m         \u001b[0mexplain_prediction_keras\u001b[0m\u001b[1;33m\u001b[0m\u001b[1;33m\u001b[0m\u001b[0m\n\u001b[0;32m     95\u001b[0m     )\n",
      "\u001b[1;32m~\\Anaconda3\\lib\\site-packages\\eli5\\keras\\__init__.py\u001b[0m in \u001b[0;36m<module>\u001b[1;34m\u001b[0m\n\u001b[0;32m      1\u001b[0m \u001b[1;31m# -*- coding: utf-8 -*-\u001b[0m\u001b[1;33m\u001b[0m\u001b[1;33m\u001b[0m\u001b[1;33m\u001b[0m\u001b[0m\n\u001b[0;32m      2\u001b[0m \u001b[1;33m\u001b[0m\u001b[0m\n\u001b[1;32m----> 3\u001b[1;33m \u001b[1;32mfrom\u001b[0m \u001b[1;33m.\u001b[0m\u001b[0mexplain_prediction\u001b[0m \u001b[1;32mimport\u001b[0m \u001b[0mexplain_prediction_keras\u001b[0m\u001b[1;33m\u001b[0m\u001b[1;33m\u001b[0m\u001b[0m\n\u001b[0m\u001b[0;32m      4\u001b[0m \u001b[1;32mfrom\u001b[0m \u001b[1;33m.\u001b[0m\u001b[0mgradcam\u001b[0m \u001b[1;32mimport\u001b[0m \u001b[0mgradcam\u001b[0m\u001b[1;33m,\u001b[0m \u001b[0mgradcam_backend\u001b[0m\u001b[1;33m\u001b[0m\u001b[1;33m\u001b[0m\u001b[0m\n",
      "\u001b[1;32m~\\Anaconda3\\lib\\site-packages\\eli5\\keras\\explain_prediction.py\u001b[0m in \u001b[0;36m<module>\u001b[1;34m\u001b[0m\n\u001b[0;32m      6\u001b[0m \u001b[1;33m\u001b[0m\u001b[0m\n\u001b[0;32m      7\u001b[0m \u001b[1;32mimport\u001b[0m \u001b[0mnumpy\u001b[0m \u001b[1;32mas\u001b[0m \u001b[0mnp\u001b[0m\u001b[1;33m\u001b[0m\u001b[1;33m\u001b[0m\u001b[0m\n\u001b[1;32m----> 8\u001b[1;33m \u001b[1;32mimport\u001b[0m \u001b[0mkeras\u001b[0m\u001b[1;33m\u001b[0m\u001b[1;33m\u001b[0m\u001b[0m\n\u001b[0m\u001b[0;32m      9\u001b[0m \u001b[1;32mimport\u001b[0m \u001b[0mkeras\u001b[0m\u001b[1;33m.\u001b[0m\u001b[0mbackend\u001b[0m \u001b[1;32mas\u001b[0m \u001b[0mK\u001b[0m\u001b[1;33m\u001b[0m\u001b[1;33m\u001b[0m\u001b[0m\n\u001b[0;32m     10\u001b[0m \u001b[1;32mfrom\u001b[0m \u001b[0mkeras\u001b[0m\u001b[1;33m.\u001b[0m\u001b[0mmodels\u001b[0m \u001b[1;32mimport\u001b[0m \u001b[0mModel\u001b[0m\u001b[1;33m\u001b[0m\u001b[1;33m\u001b[0m\u001b[0m\n",
      "\u001b[1;32m~\\Anaconda3\\lib\\site-packages\\keras\\__init__.py\u001b[0m in \u001b[0;36m<module>\u001b[1;34m\u001b[0m\n\u001b[0;32m     19\u001b[0m \"\"\"\n\u001b[0;32m     20\u001b[0m \u001b[1;31m# pylint: disable=unused-import\u001b[0m\u001b[1;33m\u001b[0m\u001b[1;33m\u001b[0m\u001b[1;33m\u001b[0m\u001b[0m\n\u001b[1;32m---> 21\u001b[1;33m \u001b[1;32mfrom\u001b[0m \u001b[0mtensorflow\u001b[0m\u001b[1;33m.\u001b[0m\u001b[0mpython\u001b[0m \u001b[1;32mimport\u001b[0m \u001b[0mtf2\u001b[0m\u001b[1;33m\u001b[0m\u001b[1;33m\u001b[0m\u001b[0m\n\u001b[0m\u001b[0;32m     22\u001b[0m \u001b[1;32mfrom\u001b[0m \u001b[0mkeras\u001b[0m \u001b[1;32mimport\u001b[0m \u001b[0mdistribute\u001b[0m\u001b[1;33m\u001b[0m\u001b[1;33m\u001b[0m\u001b[0m\n\u001b[0;32m     23\u001b[0m \u001b[1;33m\u001b[0m\u001b[0m\n",
      "\u001b[1;32m~\\Anaconda3\\lib\\site-packages\\tensorflow\\__init__.py\u001b[0m in \u001b[0;36m<module>\u001b[1;34m\u001b[0m\n\u001b[0;32m     39\u001b[0m \u001b[1;32mimport\u001b[0m \u001b[0msys\u001b[0m \u001b[1;32mas\u001b[0m \u001b[0m_sys\u001b[0m\u001b[1;33m\u001b[0m\u001b[1;33m\u001b[0m\u001b[0m\n\u001b[0;32m     40\u001b[0m \u001b[1;33m\u001b[0m\u001b[0m\n\u001b[1;32m---> 41\u001b[1;33m \u001b[1;32mfrom\u001b[0m \u001b[0mtensorflow\u001b[0m\u001b[1;33m.\u001b[0m\u001b[0mpython\u001b[0m\u001b[1;33m.\u001b[0m\u001b[0mtools\u001b[0m \u001b[1;32mimport\u001b[0m \u001b[0mmodule_util\u001b[0m \u001b[1;32mas\u001b[0m \u001b[0m_module_util\u001b[0m\u001b[1;33m\u001b[0m\u001b[1;33m\u001b[0m\u001b[0m\n\u001b[0m\u001b[0;32m     42\u001b[0m \u001b[1;32mfrom\u001b[0m \u001b[0mtensorflow\u001b[0m\u001b[1;33m.\u001b[0m\u001b[0mpython\u001b[0m\u001b[1;33m.\u001b[0m\u001b[0mutil\u001b[0m\u001b[1;33m.\u001b[0m\u001b[0mlazy_loader\u001b[0m \u001b[1;32mimport\u001b[0m \u001b[0mLazyLoader\u001b[0m \u001b[1;32mas\u001b[0m \u001b[0m_LazyLoader\u001b[0m\u001b[1;33m\u001b[0m\u001b[1;33m\u001b[0m\u001b[0m\n\u001b[0;32m     43\u001b[0m \u001b[1;33m\u001b[0m\u001b[0m\n",
      "\u001b[1;32m~\\Anaconda3\\lib\\site-packages\\tensorflow\\python\\__init__.py\u001b[0m in \u001b[0;36m<module>\u001b[1;34m\u001b[0m\n\u001b[0;32m     46\u001b[0m \u001b[1;32mfrom\u001b[0m \u001b[0mtensorflow\u001b[0m\u001b[1;33m.\u001b[0m\u001b[0mpython\u001b[0m \u001b[1;32mimport\u001b[0m \u001b[0mdata\u001b[0m\u001b[1;33m\u001b[0m\u001b[1;33m\u001b[0m\u001b[0m\n\u001b[0;32m     47\u001b[0m \u001b[1;32mfrom\u001b[0m \u001b[0mtensorflow\u001b[0m\u001b[1;33m.\u001b[0m\u001b[0mpython\u001b[0m \u001b[1;32mimport\u001b[0m \u001b[0mdistribute\u001b[0m\u001b[1;33m\u001b[0m\u001b[1;33m\u001b[0m\u001b[0m\n\u001b[1;32m---> 48\u001b[1;33m \u001b[1;32mfrom\u001b[0m \u001b[0mtensorflow\u001b[0m\u001b[1;33m.\u001b[0m\u001b[0mpython\u001b[0m \u001b[1;32mimport\u001b[0m \u001b[0mkeras\u001b[0m\u001b[1;33m\u001b[0m\u001b[1;33m\u001b[0m\u001b[0m\n\u001b[0m\u001b[0;32m     49\u001b[0m \u001b[1;32mfrom\u001b[0m \u001b[0mtensorflow\u001b[0m\u001b[1;33m.\u001b[0m\u001b[0mpython\u001b[0m\u001b[1;33m.\u001b[0m\u001b[0mfeature_column\u001b[0m \u001b[1;32mimport\u001b[0m \u001b[0mfeature_column_lib\u001b[0m \u001b[1;32mas\u001b[0m \u001b[0mfeature_column\u001b[0m\u001b[1;33m\u001b[0m\u001b[1;33m\u001b[0m\u001b[0m\n\u001b[0;32m     50\u001b[0m \u001b[1;32mfrom\u001b[0m \u001b[0mtensorflow\u001b[0m\u001b[1;33m.\u001b[0m\u001b[0mpython\u001b[0m\u001b[1;33m.\u001b[0m\u001b[0mlayers\u001b[0m \u001b[1;32mimport\u001b[0m \u001b[0mlayers\u001b[0m\u001b[1;33m\u001b[0m\u001b[1;33m\u001b[0m\u001b[0m\n",
      "\u001b[1;32m~\\Anaconda3\\lib\\site-packages\\tensorflow\\python\\keras\\__init__.py\u001b[0m in \u001b[0;36m<module>\u001b[1;34m\u001b[0m\n\u001b[0;32m     23\u001b[0m \u001b[1;33m\u001b[0m\u001b[0m\n\u001b[0;32m     24\u001b[0m \u001b[1;31m# See b/110718070#comment18 for more details about this import.\u001b[0m\u001b[1;33m\u001b[0m\u001b[1;33m\u001b[0m\u001b[1;33m\u001b[0m\u001b[0m\n\u001b[1;32m---> 25\u001b[1;33m \u001b[1;32mfrom\u001b[0m \u001b[0mtensorflow\u001b[0m\u001b[1;33m.\u001b[0m\u001b[0mpython\u001b[0m\u001b[1;33m.\u001b[0m\u001b[0mkeras\u001b[0m \u001b[1;32mimport\u001b[0m \u001b[0mmodels\u001b[0m\u001b[1;33m\u001b[0m\u001b[1;33m\u001b[0m\u001b[0m\n\u001b[0m\u001b[0;32m     26\u001b[0m \u001b[1;33m\u001b[0m\u001b[0m\n\u001b[0;32m     27\u001b[0m \u001b[1;32mfrom\u001b[0m \u001b[0mtensorflow\u001b[0m\u001b[1;33m.\u001b[0m\u001b[0mpython\u001b[0m\u001b[1;33m.\u001b[0m\u001b[0mkeras\u001b[0m\u001b[1;33m.\u001b[0m\u001b[0mengine\u001b[0m\u001b[1;33m.\u001b[0m\u001b[0minput_layer\u001b[0m \u001b[1;32mimport\u001b[0m \u001b[0mInput\u001b[0m\u001b[1;33m\u001b[0m\u001b[1;33m\u001b[0m\u001b[0m\n",
      "\u001b[1;32m~\\Anaconda3\\lib\\site-packages\\tensorflow\\python\\keras\\models.py\u001b[0m in \u001b[0;36m<module>\u001b[1;34m\u001b[0m\n\u001b[0;32m     20\u001b[0m \u001b[1;32mfrom\u001b[0m \u001b[0mtensorflow\u001b[0m\u001b[1;33m.\u001b[0m\u001b[0mpython\u001b[0m\u001b[1;33m.\u001b[0m\u001b[0mkeras\u001b[0m \u001b[1;32mimport\u001b[0m \u001b[0mmetrics\u001b[0m \u001b[1;32mas\u001b[0m \u001b[0mmetrics_module\u001b[0m\u001b[1;33m\u001b[0m\u001b[1;33m\u001b[0m\u001b[0m\n\u001b[0;32m     21\u001b[0m \u001b[1;32mfrom\u001b[0m \u001b[0mtensorflow\u001b[0m\u001b[1;33m.\u001b[0m\u001b[0mpython\u001b[0m\u001b[1;33m.\u001b[0m\u001b[0mkeras\u001b[0m \u001b[1;32mimport\u001b[0m \u001b[0moptimizer_v1\u001b[0m\u001b[1;33m\u001b[0m\u001b[1;33m\u001b[0m\u001b[0m\n\u001b[1;32m---> 22\u001b[1;33m \u001b[1;32mfrom\u001b[0m \u001b[0mtensorflow\u001b[0m\u001b[1;33m.\u001b[0m\u001b[0mpython\u001b[0m\u001b[1;33m.\u001b[0m\u001b[0mkeras\u001b[0m\u001b[1;33m.\u001b[0m\u001b[0mengine\u001b[0m \u001b[1;32mimport\u001b[0m \u001b[0mfunctional\u001b[0m\u001b[1;33m\u001b[0m\u001b[1;33m\u001b[0m\u001b[0m\n\u001b[0m\u001b[0;32m     23\u001b[0m \u001b[1;32mfrom\u001b[0m \u001b[0mtensorflow\u001b[0m\u001b[1;33m.\u001b[0m\u001b[0mpython\u001b[0m\u001b[1;33m.\u001b[0m\u001b[0mkeras\u001b[0m\u001b[1;33m.\u001b[0m\u001b[0mengine\u001b[0m \u001b[1;32mimport\u001b[0m \u001b[0msequential\u001b[0m\u001b[1;33m\u001b[0m\u001b[1;33m\u001b[0m\u001b[0m\n\u001b[0;32m     24\u001b[0m \u001b[1;32mfrom\u001b[0m \u001b[0mtensorflow\u001b[0m\u001b[1;33m.\u001b[0m\u001b[0mpython\u001b[0m\u001b[1;33m.\u001b[0m\u001b[0mkeras\u001b[0m\u001b[1;33m.\u001b[0m\u001b[0mengine\u001b[0m \u001b[1;32mimport\u001b[0m \u001b[0mtraining\u001b[0m\u001b[1;33m\u001b[0m\u001b[1;33m\u001b[0m\u001b[0m\n",
      "\u001b[1;32m~\\Anaconda3\\lib\\site-packages\\tensorflow\\python\\keras\\engine\\functional.py\u001b[0m in \u001b[0;36m<module>\u001b[1;34m\u001b[0m\n\u001b[0;32m     30\u001b[0m \u001b[1;32mfrom\u001b[0m \u001b[0mtensorflow\u001b[0m\u001b[1;33m.\u001b[0m\u001b[0mpython\u001b[0m\u001b[1;33m.\u001b[0m\u001b[0mkeras\u001b[0m\u001b[1;33m.\u001b[0m\u001b[0mengine\u001b[0m \u001b[1;32mimport\u001b[0m \u001b[0minput_spec\u001b[0m\u001b[1;33m\u001b[0m\u001b[1;33m\u001b[0m\u001b[0m\n\u001b[0;32m     31\u001b[0m \u001b[1;32mfrom\u001b[0m \u001b[0mtensorflow\u001b[0m\u001b[1;33m.\u001b[0m\u001b[0mpython\u001b[0m\u001b[1;33m.\u001b[0m\u001b[0mkeras\u001b[0m\u001b[1;33m.\u001b[0m\u001b[0mengine\u001b[0m \u001b[1;32mimport\u001b[0m \u001b[0mnode\u001b[0m \u001b[1;32mas\u001b[0m \u001b[0mnode_module\u001b[0m\u001b[1;33m\u001b[0m\u001b[1;33m\u001b[0m\u001b[0m\n\u001b[1;32m---> 32\u001b[1;33m \u001b[1;32mfrom\u001b[0m \u001b[0mtensorflow\u001b[0m\u001b[1;33m.\u001b[0m\u001b[0mpython\u001b[0m\u001b[1;33m.\u001b[0m\u001b[0mkeras\u001b[0m\u001b[1;33m.\u001b[0m\u001b[0mengine\u001b[0m \u001b[1;32mimport\u001b[0m \u001b[0mtraining\u001b[0m \u001b[1;32mas\u001b[0m \u001b[0mtraining_lib\u001b[0m\u001b[1;33m\u001b[0m\u001b[1;33m\u001b[0m\u001b[0m\n\u001b[0m\u001b[0;32m     33\u001b[0m \u001b[1;32mfrom\u001b[0m \u001b[0mtensorflow\u001b[0m\u001b[1;33m.\u001b[0m\u001b[0mpython\u001b[0m\u001b[1;33m.\u001b[0m\u001b[0mkeras\u001b[0m\u001b[1;33m.\u001b[0m\u001b[0mengine\u001b[0m \u001b[1;32mimport\u001b[0m \u001b[0mtraining_utils\u001b[0m\u001b[1;33m\u001b[0m\u001b[1;33m\u001b[0m\u001b[0m\n\u001b[0;32m     34\u001b[0m \u001b[1;32mfrom\u001b[0m \u001b[0mtensorflow\u001b[0m\u001b[1;33m.\u001b[0m\u001b[0mpython\u001b[0m\u001b[1;33m.\u001b[0m\u001b[0mkeras\u001b[0m\u001b[1;33m.\u001b[0m\u001b[0msaving\u001b[0m\u001b[1;33m.\u001b[0m\u001b[0msaved_model\u001b[0m \u001b[1;32mimport\u001b[0m \u001b[0mnetwork_serialization\u001b[0m\u001b[1;33m\u001b[0m\u001b[1;33m\u001b[0m\u001b[0m\n",
      "\u001b[1;32m~\\Anaconda3\\lib\\site-packages\\tensorflow\\python\\keras\\engine\\training.py\u001b[0m in \u001b[0;36m<module>\u001b[1;34m\u001b[0m\n\u001b[0;32m     49\u001b[0m \u001b[1;32mfrom\u001b[0m \u001b[0mtensorflow\u001b[0m\u001b[1;33m.\u001b[0m\u001b[0mpython\u001b[0m\u001b[1;33m.\u001b[0m\u001b[0mkeras\u001b[0m\u001b[1;33m.\u001b[0m\u001b[0mmixed_precision\u001b[0m \u001b[1;32mimport\u001b[0m \u001b[0mpolicy\u001b[0m\u001b[1;33m\u001b[0m\u001b[1;33m\u001b[0m\u001b[0m\n\u001b[0;32m     50\u001b[0m \u001b[1;32mfrom\u001b[0m \u001b[0mtensorflow\u001b[0m\u001b[1;33m.\u001b[0m\u001b[0mpython\u001b[0m\u001b[1;33m.\u001b[0m\u001b[0mkeras\u001b[0m\u001b[1;33m.\u001b[0m\u001b[0msaving\u001b[0m \u001b[1;32mimport\u001b[0m \u001b[0mhdf5_format\u001b[0m\u001b[1;33m\u001b[0m\u001b[1;33m\u001b[0m\u001b[0m\n\u001b[1;32m---> 51\u001b[1;33m \u001b[1;32mfrom\u001b[0m \u001b[0mtensorflow\u001b[0m\u001b[1;33m.\u001b[0m\u001b[0mpython\u001b[0m\u001b[1;33m.\u001b[0m\u001b[0mkeras\u001b[0m\u001b[1;33m.\u001b[0m\u001b[0msaving\u001b[0m \u001b[1;32mimport\u001b[0m \u001b[0msave\u001b[0m\u001b[1;33m\u001b[0m\u001b[1;33m\u001b[0m\u001b[0m\n\u001b[0m\u001b[0;32m     52\u001b[0m \u001b[1;32mfrom\u001b[0m \u001b[0mtensorflow\u001b[0m\u001b[1;33m.\u001b[0m\u001b[0mpython\u001b[0m\u001b[1;33m.\u001b[0m\u001b[0mkeras\u001b[0m\u001b[1;33m.\u001b[0m\u001b[0msaving\u001b[0m \u001b[1;32mimport\u001b[0m \u001b[0msaving_utils\u001b[0m\u001b[1;33m\u001b[0m\u001b[1;33m\u001b[0m\u001b[0m\n\u001b[0;32m     53\u001b[0m \u001b[1;32mfrom\u001b[0m \u001b[0mtensorflow\u001b[0m\u001b[1;33m.\u001b[0m\u001b[0mpython\u001b[0m\u001b[1;33m.\u001b[0m\u001b[0mkeras\u001b[0m\u001b[1;33m.\u001b[0m\u001b[0msaving\u001b[0m\u001b[1;33m.\u001b[0m\u001b[0msaved_model\u001b[0m \u001b[1;32mimport\u001b[0m \u001b[0mjson_utils\u001b[0m\u001b[1;33m\u001b[0m\u001b[1;33m\u001b[0m\u001b[0m\n",
      "\u001b[1;32m~\\Anaconda3\\lib\\site-packages\\tensorflow\\python\\keras\\saving\\save.py\u001b[0m in \u001b[0;36m<module>\u001b[1;34m\u001b[0m\n\u001b[0;32m     28\u001b[0m \u001b[1;31m# pylint: disable=g-import-not-at-top\u001b[0m\u001b[1;33m\u001b[0m\u001b[1;33m\u001b[0m\u001b[1;33m\u001b[0m\u001b[0m\n\u001b[0;32m     29\u001b[0m \u001b[1;32mtry\u001b[0m\u001b[1;33m:\u001b[0m\u001b[1;33m\u001b[0m\u001b[1;33m\u001b[0m\u001b[0m\n\u001b[1;32m---> 30\u001b[1;33m   \u001b[1;32mimport\u001b[0m \u001b[0mh5py\u001b[0m\u001b[1;33m\u001b[0m\u001b[1;33m\u001b[0m\u001b[0m\n\u001b[0m\u001b[0;32m     31\u001b[0m \u001b[1;32mexcept\u001b[0m \u001b[0mImportError\u001b[0m\u001b[1;33m:\u001b[0m\u001b[1;33m\u001b[0m\u001b[1;33m\u001b[0m\u001b[0m\n\u001b[0;32m     32\u001b[0m   \u001b[0mh5py\u001b[0m \u001b[1;33m=\u001b[0m \u001b[1;32mNone\u001b[0m\u001b[1;33m\u001b[0m\u001b[1;33m\u001b[0m\u001b[0m\n",
      "\u001b[1;32m~\\Anaconda3\\lib\\site-packages\\h5py\\__init__.py\u001b[0m in \u001b[0;36m<module>\u001b[1;34m\u001b[0m\n\u001b[0;32m     32\u001b[0m         \u001b[1;32mraise\u001b[0m\u001b[1;33m\u001b[0m\u001b[1;33m\u001b[0m\u001b[0m\n\u001b[0;32m     33\u001b[0m \u001b[1;33m\u001b[0m\u001b[0m\n\u001b[1;32m---> 34\u001b[1;33m \u001b[1;32mfrom\u001b[0m \u001b[1;33m.\u001b[0m \u001b[1;32mimport\u001b[0m \u001b[0mversion\u001b[0m\u001b[1;33m\u001b[0m\u001b[1;33m\u001b[0m\u001b[0m\n\u001b[0m\u001b[0;32m     35\u001b[0m \u001b[1;33m\u001b[0m\u001b[0m\n\u001b[0;32m     36\u001b[0m \u001b[1;32mif\u001b[0m \u001b[0mversion\u001b[0m\u001b[1;33m.\u001b[0m\u001b[0mhdf5_version_tuple\u001b[0m \u001b[1;33m!=\u001b[0m \u001b[0mversion\u001b[0m\u001b[1;33m.\u001b[0m\u001b[0mhdf5_built_version_tuple\u001b[0m\u001b[1;33m:\u001b[0m\u001b[1;33m\u001b[0m\u001b[1;33m\u001b[0m\u001b[0m\n",
      "\u001b[1;32m~\\Anaconda3\\lib\\site-packages\\h5py\\version.py\u001b[0m in \u001b[0;36m<module>\u001b[1;34m\u001b[0m\n\u001b[0;32m     15\u001b[0m \u001b[1;33m\u001b[0m\u001b[0m\n\u001b[0;32m     16\u001b[0m \u001b[1;32mfrom\u001b[0m \u001b[0mcollections\u001b[0m \u001b[1;32mimport\u001b[0m \u001b[0mnamedtuple\u001b[0m\u001b[1;33m\u001b[0m\u001b[1;33m\u001b[0m\u001b[0m\n\u001b[1;32m---> 17\u001b[1;33m \u001b[1;32mfrom\u001b[0m \u001b[1;33m.\u001b[0m \u001b[1;32mimport\u001b[0m \u001b[0mh5\u001b[0m \u001b[1;32mas\u001b[0m \u001b[0m_h5\u001b[0m\u001b[1;33m\u001b[0m\u001b[1;33m\u001b[0m\u001b[0m\n\u001b[0m\u001b[0;32m     18\u001b[0m \u001b[1;32mimport\u001b[0m \u001b[0msys\u001b[0m\u001b[1;33m\u001b[0m\u001b[1;33m\u001b[0m\u001b[0m\n\u001b[0;32m     19\u001b[0m \u001b[1;32mimport\u001b[0m \u001b[0mnumpy\u001b[0m\u001b[1;33m\u001b[0m\u001b[1;33m\u001b[0m\u001b[0m\n",
      "\u001b[1;32mh5py\\h5.pyx\u001b[0m in \u001b[0;36minit h5py.h5\u001b[1;34m()\u001b[0m\n",
      "\u001b[1;31mAttributeError\u001b[0m: type object 'h5py.h5.H5PYConfig' has no attribute '__reduce_cython__'"
     ]
    }
   ],
   "source": [
    "import eli5\n",
    "\n",
    "oLinearSVM = SVC(kernel='linear', C=3).fit(mX3, vY)\n",
    "eli5.show_weights(oLinearSVM, feature_names=dData3.columns[:-1].tolist(), target_names=['no hearth disease', 'hearth disease'])"
   ]
  },
  {
   "cell_type": "markdown",
   "metadata": {},
   "source": [
    "### Grid Search:"
   ]
  },
  {
   "cell_type": "code",
   "execution_count": null,
   "metadata": {},
   "outputs": [],
   "source": [
    "from sklearn.model_selection import GridSearchCV\n",
    "\n",
    "dSvmParams = {'kernel': ('linear',),\n",
    "              'C'     : np.linspace(0.01, 10, 21)}\n",
    "oSearch    = GridSearchCV(SVC(), dSvmParams, cv=KFold(N, shuffle=True)).fit(mX3, vY)\n",
    "\n",
    "print(f'Linear best parameters CV score = {oSearch.best_score_}')\n",
    "print(oSearch.best_params_)"
   ]
  },
  {
   "cell_type": "code",
   "execution_count": null,
   "metadata": {},
   "outputs": [],
   "source": [
    "from sklearn.model_selection import GridSearchCV\n",
    "\n",
    "vσ         = np.linspace(30, 50, 11)\n",
    "dSvmParams = {'kernel': ('rbf',),\n",
    "              'C'     : np.linspace(30, 40, 3),\n",
    "              'gamma' : 1 / (2 * vσ**2)}\n",
    "oSearch    = GridSearchCV(SVC(), dSvmParams, cv=KFold(N, shuffle=True)).fit(mX3, vY)\n",
    "\n",
    "print(f'RBF best parameters CV score = {oSearch.best_score_}')\n",
    "print(oSearch.best_params_)"
   ]
  }
 ],
 "metadata": {
  "kernelspec": {
   "name": "python3",
   "display_name": "Python 3.8.8 64-bit ('base': conda)"
  },
  "language_info": {
   "codemirror_mode": {
    "name": "ipython",
    "version": 3
   },
   "file_extension": ".py",
   "mimetype": "text/x-python",
   "name": "python",
   "nbconvert_exporter": "python",
   "pygments_lexer": "ipython3",
   "version": "3.8.8"
  },
  "toc": {
   "base_numbering": 1,
   "nav_menu": {},
   "number_sections": false,
   "sideBar": true,
   "skip_h1_title": false,
   "title_cell": "Table of Contents",
   "title_sidebar": "Contents",
   "toc_cell": false,
   "toc_position": {},
   "toc_section_display": true,
   "toc_window_display": false
  },
  "varInspector": {
   "cols": {
    "lenName": 16,
    "lenType": 16,
    "lenVar": 40
   },
   "kernels_config": {
    "python": {
     "delete_cmd_postfix": "",
     "delete_cmd_prefix": "del ",
     "library": "var_list.py",
     "varRefreshCmd": "print(var_dic_list())"
    },
    "r": {
     "delete_cmd_postfix": ") ",
     "delete_cmd_prefix": "rm(",
     "library": "var_list.r",
     "varRefreshCmd": "cat(var_dic_list()) "
    }
   },
   "types_to_exclude": [
    "module",
    "function",
    "builtin_function_or_method",
    "instance",
    "_Feature"
   ],
   "window_display": false
  },
  "interpreter": {
   "hash": "6438134d2751295b28bc239e6140ab5fcf89695af8bbf5309092a238fa8acf3a"
  }
 },
 "nbformat": 4,
 "nbformat_minor": 4
}