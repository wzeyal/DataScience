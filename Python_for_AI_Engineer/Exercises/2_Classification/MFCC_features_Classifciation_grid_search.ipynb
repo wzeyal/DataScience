{
 "metadata": {
  "language_info": {
   "codemirror_mode": {
    "name": "ipython",
    "version": 3
   },
   "file_extension": ".py",
   "mimetype": "text/x-python",
   "name": "python",
   "nbconvert_exporter": "python",
   "pygments_lexer": "ipython3",
   "version": "3.8.8"
  },
  "orig_nbformat": 4,
  "kernelspec": {
   "name": "python3",
   "display_name": "Python 3.8.8 64-bit ('base': conda)"
  },
  "interpreter": {
   "hash": "6438134d2751295b28bc239e6140ab5fcf89695af8bbf5309092a238fa8acf3a"
  }
 },
 "nbformat": 4,
 "nbformat_minor": 2,
 "cells": [
  {
   "source": [
    "https://www.vebuso.com/2020/03/svm-hyperparameter-tuning-using-gridsearchcv/"
   ],
   "cell_type": "markdown",
   "metadata": {}
  },
  {
   "cell_type": "code",
   "execution_count": null,
   "metadata": {},
   "outputs": [],
   "source": [
    "import numpy as np\n",
    "from sklearn.model_selection import train_test_split\n",
    "from scipy.io import loadmat\n",
    "from sklearn.svm import SVC\n",
    "import pandas as pd\n",
    "from sklearn.model_selection import cross_val_predict, KFold\n",
    "from sklearn.metrics import accuracy_score\n",
    "from sklearn.model_selection import GridSearchCV"
   ]
  },
  {
   "cell_type": "code",
   "execution_count": 14,
   "metadata": {},
   "outputs": [
    {
     "output_type": "stream",
     "name": "stdout",
     "text": [
      "Fitting 5 folds for each of 16 candidates, totalling 80 fits\n",
      "[CV] END .....................C=1, gamma=0.01, kernel=linear; total time=   2.7s\n",
      "[CV] END .....................C=1, gamma=0.01, kernel=linear; total time=   2.7s\n",
      "[CV] END .....................C=1, gamma=0.01, kernel=linear; total time=   2.6s\n",
      "[CV] END .....................C=1, gamma=0.01, kernel=linear; total time=   2.6s\n",
      "[CV] END .....................C=1, gamma=0.01, kernel=linear; total time=   2.6s\n",
      "[CV] END ........................C=1, gamma=0.01, kernel=rbf; total time=   1.5s\n",
      "[CV] END ........................C=1, gamma=0.01, kernel=rbf; total time=   1.5s\n",
      "[CV] END ........................C=1, gamma=0.01, kernel=rbf; total time=   1.6s\n",
      "[CV] END ........................C=1, gamma=0.01, kernel=rbf; total time=   1.5s\n",
      "[CV] END ........................C=1, gamma=0.01, kernel=rbf; total time=   1.5s\n",
      "[CV] END .......................C=1, gamma=0.01, kernel=poly; total time=   2.2s\n",
      "[CV] END .......................C=1, gamma=0.01, kernel=poly; total time=   2.2s\n",
      "[CV] END .......................C=1, gamma=0.01, kernel=poly; total time=   2.0s\n",
      "[CV] END .......................C=1, gamma=0.01, kernel=poly; total time=   2.0s\n",
      "[CV] END .......................C=1, gamma=0.01, kernel=poly; total time=   2.0s\n",
      "[CV] END ....................C=1, gamma=0.01, kernel=sigmoid; total time=   1.4s\n",
      "[CV] END ....................C=1, gamma=0.01, kernel=sigmoid; total time=   1.3s\n",
      "[CV] END ....................C=1, gamma=0.01, kernel=sigmoid; total time=   1.3s\n",
      "[CV] END ....................C=1, gamma=0.01, kernel=sigmoid; total time=   1.4s\n",
      "[CV] END ....................C=1, gamma=0.01, kernel=sigmoid; total time=   1.3s\n",
      "[CV] END ....................C=1, gamma=0.001, kernel=linear; total time=   2.9s\n",
      "[CV] END ....................C=1, gamma=0.001, kernel=linear; total time=   2.7s\n",
      "[CV] END ....................C=1, gamma=0.001, kernel=linear; total time=   2.6s\n",
      "[CV] END ....................C=1, gamma=0.001, kernel=linear; total time=   2.5s\n",
      "[CV] END ....................C=1, gamma=0.001, kernel=linear; total time=   2.7s\n",
      "[CV] END .......................C=1, gamma=0.001, kernel=rbf; total time=   2.0s\n",
      "[CV] END .......................C=1, gamma=0.001, kernel=rbf; total time=   2.0s\n",
      "[CV] END .......................C=1, gamma=0.001, kernel=rbf; total time=   2.0s\n",
      "[CV] END .......................C=1, gamma=0.001, kernel=rbf; total time=   1.9s\n",
      "[CV] END .......................C=1, gamma=0.001, kernel=rbf; total time=   2.0s\n",
      "[CV] END ......................C=1, gamma=0.001, kernel=poly; total time=   2.2s\n",
      "[CV] END ......................C=1, gamma=0.001, kernel=poly; total time=   1.9s\n",
      "[CV] END ......................C=1, gamma=0.001, kernel=poly; total time=   1.9s\n",
      "[CV] END ......................C=1, gamma=0.001, kernel=poly; total time=   1.9s\n",
      "[CV] END ......................C=1, gamma=0.001, kernel=poly; total time=   1.9s\n",
      "[CV] END ...................C=1, gamma=0.001, kernel=sigmoid; total time=   1.9s\n",
      "[CV] END ...................C=1, gamma=0.001, kernel=sigmoid; total time=   2.4s\n",
      "[CV] END ...................C=1, gamma=0.001, kernel=sigmoid; total time=   1.9s\n",
      "[CV] END ...................C=1, gamma=0.001, kernel=sigmoid; total time=   2.0s\n",
      "[CV] END ...................C=1, gamma=0.001, kernel=sigmoid; total time=   2.0s\n",
      "[CV] END ....................C=10, gamma=0.01, kernel=linear; total time=  14.5s\n",
      "[CV] END ....................C=10, gamma=0.01, kernel=linear; total time=  13.9s\n",
      "[CV] END ....................C=10, gamma=0.01, kernel=linear; total time=  13.9s\n",
      "[CV] END ....................C=10, gamma=0.01, kernel=linear; total time=  14.3s\n",
      "[CV] END ....................C=10, gamma=0.01, kernel=linear; total time=  18.6s\n",
      "[CV] END .......................C=10, gamma=0.01, kernel=rbf; total time=   2.9s\n",
      "[CV] END .......................C=10, gamma=0.01, kernel=rbf; total time=   2.0s\n",
      "[CV] END .......................C=10, gamma=0.01, kernel=rbf; total time=   1.8s\n",
      "[CV] END .......................C=10, gamma=0.01, kernel=rbf; total time=   1.7s\n",
      "[CV] END .......................C=10, gamma=0.01, kernel=rbf; total time=   1.6s\n",
      "[CV] END ......................C=10, gamma=0.01, kernel=poly; total time=   1.7s\n",
      "[CV] END ......................C=10, gamma=0.01, kernel=poly; total time=   2.0s\n",
      "[CV] END ......................C=10, gamma=0.01, kernel=poly; total time=   1.8s\n",
      "[CV] END ......................C=10, gamma=0.01, kernel=poly; total time=   1.8s\n",
      "[CV] END ......................C=10, gamma=0.01, kernel=poly; total time=   1.7s\n",
      "[CV] END ...................C=10, gamma=0.01, kernel=sigmoid; total time=   1.4s\n",
      "[CV] END ...................C=10, gamma=0.01, kernel=sigmoid; total time=   1.6s\n",
      "[CV] END ...................C=10, gamma=0.01, kernel=sigmoid; total time=   1.7s\n",
      "[CV] END ...................C=10, gamma=0.01, kernel=sigmoid; total time=   1.5s\n",
      "[CV] END ...................C=10, gamma=0.01, kernel=sigmoid; total time=   1.4s\n",
      "[CV] END ...................C=10, gamma=0.001, kernel=linear; total time=  15.7s\n",
      "[CV] END ...................C=10, gamma=0.001, kernel=linear; total time=  15.1s\n",
      "[CV] END ...................C=10, gamma=0.001, kernel=linear; total time=  14.0s\n",
      "[CV] END ...................C=10, gamma=0.001, kernel=linear; total time=  13.6s\n",
      "[CV] END ...................C=10, gamma=0.001, kernel=linear; total time=  13.8s\n",
      "[CV] END ......................C=10, gamma=0.001, kernel=rbf; total time=   1.5s\n",
      "[CV] END ......................C=10, gamma=0.001, kernel=rbf; total time=   1.4s\n",
      "[CV] END ......................C=10, gamma=0.001, kernel=rbf; total time=   1.5s\n",
      "[CV] END ......................C=10, gamma=0.001, kernel=rbf; total time=   1.4s\n",
      "[CV] END ......................C=10, gamma=0.001, kernel=rbf; total time=   1.4s\n",
      "[CV] END .....................C=10, gamma=0.001, kernel=poly; total time=   2.0s\n",
      "[CV] END .....................C=10, gamma=0.001, kernel=poly; total time=   2.1s\n",
      "[CV] END .....................C=10, gamma=0.001, kernel=poly; total time=   2.0s\n",
      "[CV] END .....................C=10, gamma=0.001, kernel=poly; total time=   1.9s\n",
      "[CV] END .....................C=10, gamma=0.001, kernel=poly; total time=   2.2s\n",
      "[CV] END ..................C=10, gamma=0.001, kernel=sigmoid; total time=   1.3s\n",
      "[CV] END ..................C=10, gamma=0.001, kernel=sigmoid; total time=   1.4s\n",
      "[CV] END ..................C=10, gamma=0.001, kernel=sigmoid; total time=   1.3s\n",
      "[CV] END ..................C=10, gamma=0.001, kernel=sigmoid; total time=   1.3s\n",
      "[CV] END ..................C=10, gamma=0.001, kernel=sigmoid; total time=   1.3s\n"
     ]
    },
    {
     "output_type": "execute_result",
     "data": {
      "text/plain": [
       "GridSearchCV(estimator=SVC(),\n",
       "             param_grid={'C': [1, 10], 'gamma': [0.01, 0.001],\n",
       "                         'kernel': ['linear', 'rbf', 'poly', 'sigmoid']},\n",
       "             verbose=2)"
      ]
     },
     "metadata": {},
     "execution_count": 14
    }
   ],
   "source": [
    "dData = loadmat('data/TIMIT_Train.mat')\n",
    "mX = dData['mX']\n",
    "vY = dData['vY'].squeeze()\n",
    "mX_train, mX_test, vY_train, vY_test = train_test_split(mX, vY, test_size=0.2, random_state=42)\n",
    "\n",
    "#param_grid = {'C': [0.1,1, 10, 100], 'gamma': [1,0.1,0.01,0.001],'kernel': ['rbf', 'poly', 'sigmoid']}\n",
    "param_grid = {'C': [1, 10], 'gamma': [0.01,0.001],'kernel': ['linear', 'rbf', 'poly', 'sigmoid']}\n",
    "grid = GridSearchCV(SVC(),param_grid,refit=True,verbose=2)\n",
    "grid.fit(mX_train,vY_train)\n"
   ]
  },
  {
   "cell_type": "code",
   "execution_count": 15,
   "metadata": {},
   "outputs": [
    {
     "output_type": "execute_result",
     "data": {
      "text/plain": [
       "0.9065"
      ]
     },
     "metadata": {},
     "execution_count": 15
    }
   ],
   "source": [
    "grid.score(mX_train, vY_train)"
   ]
  },
  {
   "cell_type": "code",
   "execution_count": 16,
   "metadata": {},
   "outputs": [
    {
     "output_type": "execute_result",
     "data": {
      "text/plain": [
       "SVC(C=1, gamma=0.01)"
      ]
     },
     "metadata": {},
     "execution_count": 16
    }
   ],
   "source": [
    "grid.best_estimator_"
   ]
  },
  {
   "cell_type": "code",
   "execution_count": 17,
   "metadata": {},
   "outputs": [],
   "source": [
    "grid_predictions = grid.predict(mX_test)"
   ]
  },
  {
   "cell_type": "code",
   "execution_count": 18,
   "metadata": {},
   "outputs": [
    {
     "output_type": "stream",
     "name": "stdout",
     "text": [
      "[[944 145]\n [ 92 819]]\n[[944 145]\n [ 92 819]]\n              precision    recall  f1-score   support\n\n           0       0.91      0.87      0.89      1089\n           1       0.85      0.90      0.87       911\n\n    accuracy                           0.88      2000\n   macro avg       0.88      0.88      0.88      2000\nweighted avg       0.88      0.88      0.88      2000\n\n"
     ]
    }
   ],
   "source": [
    "from sklearn.metrics import classification_report, confusion_matrix  \n",
    "\n",
    "print(confusion_matrix(vY_test,grid_predictions))\n",
    "\n",
    "print(confusion_matrix(vY_test,grid_predictions))\n",
    "print(classification_report(vY_test,grid_predictions))"
   ]
  },
  {
   "cell_type": "code",
   "execution_count": null,
   "metadata": {},
   "outputs": [],
   "source": []
  }
 ]
}