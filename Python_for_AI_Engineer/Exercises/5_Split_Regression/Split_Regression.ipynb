{
 "cells": [
  {
   "cell_type": "markdown",
   "metadata": {},
   "source": [
    "![Fixel Algorithms](https://fixelalgorithms.co/images/CCExt.png)"
   ]
  },
  {
   "cell_type": "markdown",
   "metadata": {},
   "source": [
    "# <center> Machine Learning Methods </center>\n",
    "## <center> Exercise 04 - Insurance Regression - Solution </center>"
   ]
  },
  {
   "cell_type": "markdown",
   "metadata": {},
   "source": [
    "[![Open In Colab](https://colab.research.google.com/assets/colab-badge.svg)](https://colab.research.google.com/github/FixelAlgorithmsTeam/FixelCourses/blob/master/MachineLearningMethod/Exercises/Exercise04_Regression_Solution.ipynb)"
   ]
  },
  {
   "cell_type": "code",
   "execution_count": 1,
   "metadata": {},
   "outputs": [
    {
     "output_type": "display_data",
     "data": {
      "text/plain": "<IPython.core.display.HTML object>",
      "text/html": "<style>.container { width:80% !important; }</style>"
     },
     "metadata": {}
    }
   ],
   "source": [
    "from IPython.core.display import display, HTML\n",
    "display(HTML(\"<style>.container { width:80% !important; }</style>\"))"
   ]
  },
  {
   "cell_type": "code",
   "execution_count": 2,
   "metadata": {},
   "outputs": [],
   "source": [
    "import numpy             as np\n",
    "import pandas            as pd\n",
    "import seaborn           as sns\n",
    "import matplotlib.pyplot as plt\n",
    "import matplotlib\n",
    "\n",
    "matplotlib.rc('font', **{'size' : 16})\n",
    "\n",
    "# np.random.seed(1)\n",
    "# %matplotlib notebook"
   ]
  },
  {
   "cell_type": "markdown",
   "metadata": {},
   "source": [
    "### Get data:\n",
    "From Kaggle: https://www.kaggle.com/mirichoi0218/insurance"
   ]
  },
  {
   "cell_type": "code",
   "execution_count": 3,
   "metadata": {},
   "outputs": [
    {
     "output_type": "error",
     "ename": "FileNotFoundError",
     "evalue": "[Errno 2] No such file or directory: 'insurance.csv'",
     "traceback": [
      "\u001b[1;31m---------------------------------------------------------------------------\u001b[0m",
      "\u001b[1;31mFileNotFoundError\u001b[0m                         Traceback (most recent call last)",
      "\u001b[1;32m<ipython-input-3-d802bad5e55c>\u001b[0m in \u001b[0;36m<module>\u001b[1;34m\u001b[0m\n\u001b[1;32m----> 1\u001b[1;33m \u001b[0mdData\u001b[0m \u001b[1;33m=\u001b[0m \u001b[0mpd\u001b[0m\u001b[1;33m.\u001b[0m\u001b[0mread_csv\u001b[0m\u001b[1;33m(\u001b[0m\u001b[1;34m'insurance.csv'\u001b[0m\u001b[1;33m)\u001b[0m\u001b[1;33m\u001b[0m\u001b[1;33m\u001b[0m\u001b[0m\n\u001b[0m\u001b[0;32m      2\u001b[0m \u001b[0mdData\u001b[0m\u001b[1;33m\u001b[0m\u001b[1;33m\u001b[0m\u001b[0m\n",
      "\u001b[1;32m~\\Anaconda3\\lib\\site-packages\\pandas\\io\\parsers.py\u001b[0m in \u001b[0;36mread_csv\u001b[1;34m(filepath_or_buffer, sep, delimiter, header, names, index_col, usecols, squeeze, prefix, mangle_dupe_cols, dtype, engine, converters, true_values, false_values, skipinitialspace, skiprows, skipfooter, nrows, na_values, keep_default_na, na_filter, verbose, skip_blank_lines, parse_dates, infer_datetime_format, keep_date_col, date_parser, dayfirst, cache_dates, iterator, chunksize, compression, thousands, decimal, lineterminator, quotechar, quoting, doublequote, escapechar, comment, encoding, dialect, error_bad_lines, warn_bad_lines, delim_whitespace, low_memory, memory_map, float_precision, storage_options)\u001b[0m\n\u001b[0;32m    608\u001b[0m     \u001b[0mkwds\u001b[0m\u001b[1;33m.\u001b[0m\u001b[0mupdate\u001b[0m\u001b[1;33m(\u001b[0m\u001b[0mkwds_defaults\u001b[0m\u001b[1;33m)\u001b[0m\u001b[1;33m\u001b[0m\u001b[1;33m\u001b[0m\u001b[0m\n\u001b[0;32m    609\u001b[0m \u001b[1;33m\u001b[0m\u001b[0m\n\u001b[1;32m--> 610\u001b[1;33m     \u001b[1;32mreturn\u001b[0m \u001b[0m_read\u001b[0m\u001b[1;33m(\u001b[0m\u001b[0mfilepath_or_buffer\u001b[0m\u001b[1;33m,\u001b[0m \u001b[0mkwds\u001b[0m\u001b[1;33m)\u001b[0m\u001b[1;33m\u001b[0m\u001b[1;33m\u001b[0m\u001b[0m\n\u001b[0m\u001b[0;32m    611\u001b[0m \u001b[1;33m\u001b[0m\u001b[0m\n\u001b[0;32m    612\u001b[0m \u001b[1;33m\u001b[0m\u001b[0m\n",
      "\u001b[1;32m~\\Anaconda3\\lib\\site-packages\\pandas\\io\\parsers.py\u001b[0m in \u001b[0;36m_read\u001b[1;34m(filepath_or_buffer, kwds)\u001b[0m\n\u001b[0;32m    460\u001b[0m \u001b[1;33m\u001b[0m\u001b[0m\n\u001b[0;32m    461\u001b[0m     \u001b[1;31m# Create the parser.\u001b[0m\u001b[1;33m\u001b[0m\u001b[1;33m\u001b[0m\u001b[1;33m\u001b[0m\u001b[0m\n\u001b[1;32m--> 462\u001b[1;33m     \u001b[0mparser\u001b[0m \u001b[1;33m=\u001b[0m \u001b[0mTextFileReader\u001b[0m\u001b[1;33m(\u001b[0m\u001b[0mfilepath_or_buffer\u001b[0m\u001b[1;33m,\u001b[0m \u001b[1;33m**\u001b[0m\u001b[0mkwds\u001b[0m\u001b[1;33m)\u001b[0m\u001b[1;33m\u001b[0m\u001b[1;33m\u001b[0m\u001b[0m\n\u001b[0m\u001b[0;32m    463\u001b[0m \u001b[1;33m\u001b[0m\u001b[0m\n\u001b[0;32m    464\u001b[0m     \u001b[1;32mif\u001b[0m \u001b[0mchunksize\u001b[0m \u001b[1;32mor\u001b[0m \u001b[0miterator\u001b[0m\u001b[1;33m:\u001b[0m\u001b[1;33m\u001b[0m\u001b[1;33m\u001b[0m\u001b[0m\n",
      "\u001b[1;32m~\\Anaconda3\\lib\\site-packages\\pandas\\io\\parsers.py\u001b[0m in \u001b[0;36m__init__\u001b[1;34m(self, f, engine, **kwds)\u001b[0m\n\u001b[0;32m    817\u001b[0m             \u001b[0mself\u001b[0m\u001b[1;33m.\u001b[0m\u001b[0moptions\u001b[0m\u001b[1;33m[\u001b[0m\u001b[1;34m\"has_index_names\"\u001b[0m\u001b[1;33m]\u001b[0m \u001b[1;33m=\u001b[0m \u001b[0mkwds\u001b[0m\u001b[1;33m[\u001b[0m\u001b[1;34m\"has_index_names\"\u001b[0m\u001b[1;33m]\u001b[0m\u001b[1;33m\u001b[0m\u001b[1;33m\u001b[0m\u001b[0m\n\u001b[0;32m    818\u001b[0m \u001b[1;33m\u001b[0m\u001b[0m\n\u001b[1;32m--> 819\u001b[1;33m         \u001b[0mself\u001b[0m\u001b[1;33m.\u001b[0m\u001b[0m_engine\u001b[0m \u001b[1;33m=\u001b[0m \u001b[0mself\u001b[0m\u001b[1;33m.\u001b[0m\u001b[0m_make_engine\u001b[0m\u001b[1;33m(\u001b[0m\u001b[0mself\u001b[0m\u001b[1;33m.\u001b[0m\u001b[0mengine\u001b[0m\u001b[1;33m)\u001b[0m\u001b[1;33m\u001b[0m\u001b[1;33m\u001b[0m\u001b[0m\n\u001b[0m\u001b[0;32m    820\u001b[0m \u001b[1;33m\u001b[0m\u001b[0m\n\u001b[0;32m    821\u001b[0m     \u001b[1;32mdef\u001b[0m \u001b[0mclose\u001b[0m\u001b[1;33m(\u001b[0m\u001b[0mself\u001b[0m\u001b[1;33m)\u001b[0m\u001b[1;33m:\u001b[0m\u001b[1;33m\u001b[0m\u001b[1;33m\u001b[0m\u001b[0m\n",
      "\u001b[1;32m~\\Anaconda3\\lib\\site-packages\\pandas\\io\\parsers.py\u001b[0m in \u001b[0;36m_make_engine\u001b[1;34m(self, engine)\u001b[0m\n\u001b[0;32m   1048\u001b[0m             )\n\u001b[0;32m   1049\u001b[0m         \u001b[1;31m# error: Too many arguments for \"ParserBase\"\u001b[0m\u001b[1;33m\u001b[0m\u001b[1;33m\u001b[0m\u001b[1;33m\u001b[0m\u001b[0m\n\u001b[1;32m-> 1050\u001b[1;33m         \u001b[1;32mreturn\u001b[0m \u001b[0mmapping\u001b[0m\u001b[1;33m[\u001b[0m\u001b[0mengine\u001b[0m\u001b[1;33m]\u001b[0m\u001b[1;33m(\u001b[0m\u001b[0mself\u001b[0m\u001b[1;33m.\u001b[0m\u001b[0mf\u001b[0m\u001b[1;33m,\u001b[0m \u001b[1;33m**\u001b[0m\u001b[0mself\u001b[0m\u001b[1;33m.\u001b[0m\u001b[0moptions\u001b[0m\u001b[1;33m)\u001b[0m  \u001b[1;31m# type: ignore[call-arg]\u001b[0m\u001b[1;33m\u001b[0m\u001b[1;33m\u001b[0m\u001b[0m\n\u001b[0m\u001b[0;32m   1051\u001b[0m \u001b[1;33m\u001b[0m\u001b[0m\n\u001b[0;32m   1052\u001b[0m     \u001b[1;32mdef\u001b[0m \u001b[0m_failover_to_python\u001b[0m\u001b[1;33m(\u001b[0m\u001b[0mself\u001b[0m\u001b[1;33m)\u001b[0m\u001b[1;33m:\u001b[0m\u001b[1;33m\u001b[0m\u001b[1;33m\u001b[0m\u001b[0m\n",
      "\u001b[1;32m~\\Anaconda3\\lib\\site-packages\\pandas\\io\\parsers.py\u001b[0m in \u001b[0;36m__init__\u001b[1;34m(self, src, **kwds)\u001b[0m\n\u001b[0;32m   1865\u001b[0m \u001b[1;33m\u001b[0m\u001b[0m\n\u001b[0;32m   1866\u001b[0m         \u001b[1;31m# open handles\u001b[0m\u001b[1;33m\u001b[0m\u001b[1;33m\u001b[0m\u001b[1;33m\u001b[0m\u001b[0m\n\u001b[1;32m-> 1867\u001b[1;33m         \u001b[0mself\u001b[0m\u001b[1;33m.\u001b[0m\u001b[0m_open_handles\u001b[0m\u001b[1;33m(\u001b[0m\u001b[0msrc\u001b[0m\u001b[1;33m,\u001b[0m \u001b[0mkwds\u001b[0m\u001b[1;33m)\u001b[0m\u001b[1;33m\u001b[0m\u001b[1;33m\u001b[0m\u001b[0m\n\u001b[0m\u001b[0;32m   1868\u001b[0m         \u001b[1;32massert\u001b[0m \u001b[0mself\u001b[0m\u001b[1;33m.\u001b[0m\u001b[0mhandles\u001b[0m \u001b[1;32mis\u001b[0m \u001b[1;32mnot\u001b[0m \u001b[1;32mNone\u001b[0m\u001b[1;33m\u001b[0m\u001b[1;33m\u001b[0m\u001b[0m\n\u001b[0;32m   1869\u001b[0m         \u001b[1;32mfor\u001b[0m \u001b[0mkey\u001b[0m \u001b[1;32min\u001b[0m \u001b[1;33m(\u001b[0m\u001b[1;34m\"storage_options\"\u001b[0m\u001b[1;33m,\u001b[0m \u001b[1;34m\"encoding\"\u001b[0m\u001b[1;33m,\u001b[0m \u001b[1;34m\"memory_map\"\u001b[0m\u001b[1;33m,\u001b[0m \u001b[1;34m\"compression\"\u001b[0m\u001b[1;33m)\u001b[0m\u001b[1;33m:\u001b[0m\u001b[1;33m\u001b[0m\u001b[1;33m\u001b[0m\u001b[0m\n",
      "\u001b[1;32m~\\Anaconda3\\lib\\site-packages\\pandas\\io\\parsers.py\u001b[0m in \u001b[0;36m_open_handles\u001b[1;34m(self, src, kwds)\u001b[0m\n\u001b[0;32m   1360\u001b[0m         \u001b[0mLet\u001b[0m \u001b[0mthe\u001b[0m \u001b[0mreaders\u001b[0m \u001b[0mopen\u001b[0m \u001b[0mIOHanldes\u001b[0m \u001b[0mafter\u001b[0m \u001b[0mthey\u001b[0m \u001b[0mare\u001b[0m \u001b[0mdone\u001b[0m \u001b[1;32mwith\u001b[0m \u001b[0mtheir\u001b[0m \u001b[0mpotential\u001b[0m \u001b[0mraises\u001b[0m\u001b[1;33m.\u001b[0m\u001b[1;33m\u001b[0m\u001b[1;33m\u001b[0m\u001b[0m\n\u001b[0;32m   1361\u001b[0m         \"\"\"\n\u001b[1;32m-> 1362\u001b[1;33m         self.handles = get_handle(\n\u001b[0m\u001b[0;32m   1363\u001b[0m             \u001b[0msrc\u001b[0m\u001b[1;33m,\u001b[0m\u001b[1;33m\u001b[0m\u001b[1;33m\u001b[0m\u001b[0m\n\u001b[0;32m   1364\u001b[0m             \u001b[1;34m\"r\"\u001b[0m\u001b[1;33m,\u001b[0m\u001b[1;33m\u001b[0m\u001b[1;33m\u001b[0m\u001b[0m\n",
      "\u001b[1;32m~\\Anaconda3\\lib\\site-packages\\pandas\\io\\common.py\u001b[0m in \u001b[0;36mget_handle\u001b[1;34m(path_or_buf, mode, encoding, compression, memory_map, is_text, errors, storage_options)\u001b[0m\n\u001b[0;32m    640\u001b[0m                 \u001b[0merrors\u001b[0m \u001b[1;33m=\u001b[0m \u001b[1;34m\"replace\"\u001b[0m\u001b[1;33m\u001b[0m\u001b[1;33m\u001b[0m\u001b[0m\n\u001b[0;32m    641\u001b[0m             \u001b[1;31m# Encoding\u001b[0m\u001b[1;33m\u001b[0m\u001b[1;33m\u001b[0m\u001b[1;33m\u001b[0m\u001b[0m\n\u001b[1;32m--> 642\u001b[1;33m             handle = open(\n\u001b[0m\u001b[0;32m    643\u001b[0m                 \u001b[0mhandle\u001b[0m\u001b[1;33m,\u001b[0m\u001b[1;33m\u001b[0m\u001b[1;33m\u001b[0m\u001b[0m\n\u001b[0;32m    644\u001b[0m                 \u001b[0mioargs\u001b[0m\u001b[1;33m.\u001b[0m\u001b[0mmode\u001b[0m\u001b[1;33m,\u001b[0m\u001b[1;33m\u001b[0m\u001b[1;33m\u001b[0m\u001b[0m\n",
      "\u001b[1;31mFileNotFoundError\u001b[0m: [Errno 2] No such file or directory: 'insurance.csv'"
     ]
    }
   ],
   "source": [
    "dData = pd.read_csv('insurance.csv')\n",
    "dData"
   ]
  },
  {
   "cell_type": "markdown",
   "metadata": {},
   "source": [
    "#### Change columns names:"
   ]
  },
  {
   "cell_type": "code",
   "execution_count": 4,
   "metadata": {},
   "outputs": [
    {
     "output_type": "execute_result",
     "data": {
      "text/plain": [
       "      Age     Sex     BMI  NumberOfChildren Smoker     Region      Charges\n",
       "0      19  female  27.900                 0    yes  southwest  16884.92400\n",
       "1      18    male  33.770                 1     no  southeast   1725.55230\n",
       "2      28    male  33.000                 3     no  southeast   4449.46200\n",
       "3      33    male  22.705                 0     no  northwest  21984.47061\n",
       "4      32    male  28.880                 0     no  northwest   3866.85520\n",
       "...   ...     ...     ...               ...    ...        ...          ...\n",
       "1333   50    male  30.970                 3     no  northwest  10600.54830\n",
       "1334   18  female  31.920                 0     no  northeast   2205.98080\n",
       "1335   18  female  36.850                 0     no  southeast   1629.83350\n",
       "1336   21  female  25.800                 0     no  southwest   2007.94500\n",
       "1337   61  female  29.070                 0    yes  northwest  29141.36030\n",
       "\n",
       "[1338 rows x 7 columns]"
      ],
      "text/html": "<div>\n<style scoped>\n    .dataframe tbody tr th:only-of-type {\n        vertical-align: middle;\n    }\n\n    .dataframe tbody tr th {\n        vertical-align: top;\n    }\n\n    .dataframe thead th {\n        text-align: right;\n    }\n</style>\n<table border=\"1\" class=\"dataframe\">\n  <thead>\n    <tr style=\"text-align: right;\">\n      <th></th>\n      <th>Age</th>\n      <th>Sex</th>\n      <th>BMI</th>\n      <th>NumberOfChildren</th>\n      <th>Smoker</th>\n      <th>Region</th>\n      <th>Charges</th>\n    </tr>\n  </thead>\n  <tbody>\n    <tr>\n      <th>0</th>\n      <td>19</td>\n      <td>female</td>\n      <td>27.900</td>\n      <td>0</td>\n      <td>yes</td>\n      <td>southwest</td>\n      <td>16884.92400</td>\n    </tr>\n    <tr>\n      <th>1</th>\n      <td>18</td>\n      <td>male</td>\n      <td>33.770</td>\n      <td>1</td>\n      <td>no</td>\n      <td>southeast</td>\n      <td>1725.55230</td>\n    </tr>\n    <tr>\n      <th>2</th>\n      <td>28</td>\n      <td>male</td>\n      <td>33.000</td>\n      <td>3</td>\n      <td>no</td>\n      <td>southeast</td>\n      <td>4449.46200</td>\n    </tr>\n    <tr>\n      <th>3</th>\n      <td>33</td>\n      <td>male</td>\n      <td>22.705</td>\n      <td>0</td>\n      <td>no</td>\n      <td>northwest</td>\n      <td>21984.47061</td>\n    </tr>\n    <tr>\n      <th>4</th>\n      <td>32</td>\n      <td>male</td>\n      <td>28.880</td>\n      <td>0</td>\n      <td>no</td>\n      <td>northwest</td>\n      <td>3866.85520</td>\n    </tr>\n    <tr>\n      <th>...</th>\n      <td>...</td>\n      <td>...</td>\n      <td>...</td>\n      <td>...</td>\n      <td>...</td>\n      <td>...</td>\n      <td>...</td>\n    </tr>\n    <tr>\n      <th>1333</th>\n      <td>50</td>\n      <td>male</td>\n      <td>30.970</td>\n      <td>3</td>\n      <td>no</td>\n      <td>northwest</td>\n      <td>10600.54830</td>\n    </tr>\n    <tr>\n      <th>1334</th>\n      <td>18</td>\n      <td>female</td>\n      <td>31.920</td>\n      <td>0</td>\n      <td>no</td>\n      <td>northeast</td>\n      <td>2205.98080</td>\n    </tr>\n    <tr>\n      <th>1335</th>\n      <td>18</td>\n      <td>female</td>\n      <td>36.850</td>\n      <td>0</td>\n      <td>no</td>\n      <td>southeast</td>\n      <td>1629.83350</td>\n    </tr>\n    <tr>\n      <th>1336</th>\n      <td>21</td>\n      <td>female</td>\n      <td>25.800</td>\n      <td>0</td>\n      <td>no</td>\n      <td>southwest</td>\n      <td>2007.94500</td>\n    </tr>\n    <tr>\n      <th>1337</th>\n      <td>61</td>\n      <td>female</td>\n      <td>29.070</td>\n      <td>0</td>\n      <td>yes</td>\n      <td>northwest</td>\n      <td>29141.36030</td>\n    </tr>\n  </tbody>\n</table>\n<p>1338 rows × 7 columns</p>\n</div>"
     },
     "metadata": {},
     "execution_count": 4
    }
   ],
   "source": [
    "dData.columns = ['Age', 'Sex', 'BMI', 'NumberOfChildren', 'Smoker', 'Region', 'Charges']\n",
    "dData"
   ]
  },
  {
   "cell_type": "markdown",
   "metadata": {},
   "source": [
    "#### Create dummies variables:"
   ]
  },
  {
   "cell_type": "code",
   "execution_count": 5,
   "metadata": {},
   "outputs": [
    {
     "output_type": "execute_result",
     "data": {
      "text/plain": [
       "      Age     BMI  NumberOfChildren  Sex_male  Smoker_yes  Region_northwest  \\\n",
       "0      19  27.900                 0         0           1                 0   \n",
       "1      18  33.770                 1         1           0                 0   \n",
       "2      28  33.000                 3         1           0                 0   \n",
       "3      33  22.705                 0         1           0                 1   \n",
       "4      32  28.880                 0         1           0                 1   \n",
       "...   ...     ...               ...       ...         ...               ...   \n",
       "1333   50  30.970                 3         1           0                 1   \n",
       "1334   18  31.920                 0         0           0                 0   \n",
       "1335   18  36.850                 0         0           0                 0   \n",
       "1336   21  25.800                 0         0           0                 0   \n",
       "1337   61  29.070                 0         0           1                 1   \n",
       "\n",
       "      Region_southeast  Region_southwest      Charges  \n",
       "0                    0                 1  16884.92400  \n",
       "1                    1                 0   1725.55230  \n",
       "2                    1                 0   4449.46200  \n",
       "3                    0                 0  21984.47061  \n",
       "4                    0                 0   3866.85520  \n",
       "...                ...               ...          ...  \n",
       "1333                 0                 0  10600.54830  \n",
       "1334                 0                 0   2205.98080  \n",
       "1335                 1                 0   1629.83350  \n",
       "1336                 0                 1   2007.94500  \n",
       "1337                 0                 0  29141.36030  \n",
       "\n",
       "[1338 rows x 9 columns]"
      ],
      "text/html": "<div>\n<style scoped>\n    .dataframe tbody tr th:only-of-type {\n        vertical-align: middle;\n    }\n\n    .dataframe tbody tr th {\n        vertical-align: top;\n    }\n\n    .dataframe thead th {\n        text-align: right;\n    }\n</style>\n<table border=\"1\" class=\"dataframe\">\n  <thead>\n    <tr style=\"text-align: right;\">\n      <th></th>\n      <th>Age</th>\n      <th>BMI</th>\n      <th>NumberOfChildren</th>\n      <th>Sex_male</th>\n      <th>Smoker_yes</th>\n      <th>Region_northwest</th>\n      <th>Region_southeast</th>\n      <th>Region_southwest</th>\n      <th>Charges</th>\n    </tr>\n  </thead>\n  <tbody>\n    <tr>\n      <th>0</th>\n      <td>19</td>\n      <td>27.900</td>\n      <td>0</td>\n      <td>0</td>\n      <td>1</td>\n      <td>0</td>\n      <td>0</td>\n      <td>1</td>\n      <td>16884.92400</td>\n    </tr>\n    <tr>\n      <th>1</th>\n      <td>18</td>\n      <td>33.770</td>\n      <td>1</td>\n      <td>1</td>\n      <td>0</td>\n      <td>0</td>\n      <td>1</td>\n      <td>0</td>\n      <td>1725.55230</td>\n    </tr>\n    <tr>\n      <th>2</th>\n      <td>28</td>\n      <td>33.000</td>\n      <td>3</td>\n      <td>1</td>\n      <td>0</td>\n      <td>0</td>\n      <td>1</td>\n      <td>0</td>\n      <td>4449.46200</td>\n    </tr>\n    <tr>\n      <th>3</th>\n      <td>33</td>\n      <td>22.705</td>\n      <td>0</td>\n      <td>1</td>\n      <td>0</td>\n      <td>1</td>\n      <td>0</td>\n      <td>0</td>\n      <td>21984.47061</td>\n    </tr>\n    <tr>\n      <th>4</th>\n      <td>32</td>\n      <td>28.880</td>\n      <td>0</td>\n      <td>1</td>\n      <td>0</td>\n      <td>1</td>\n      <td>0</td>\n      <td>0</td>\n      <td>3866.85520</td>\n    </tr>\n    <tr>\n      <th>...</th>\n      <td>...</td>\n      <td>...</td>\n      <td>...</td>\n      <td>...</td>\n      <td>...</td>\n      <td>...</td>\n      <td>...</td>\n      <td>...</td>\n      <td>...</td>\n    </tr>\n    <tr>\n      <th>1333</th>\n      <td>50</td>\n      <td>30.970</td>\n      <td>3</td>\n      <td>1</td>\n      <td>0</td>\n      <td>1</td>\n      <td>0</td>\n      <td>0</td>\n      <td>10600.54830</td>\n    </tr>\n    <tr>\n      <th>1334</th>\n      <td>18</td>\n      <td>31.920</td>\n      <td>0</td>\n      <td>0</td>\n      <td>0</td>\n      <td>0</td>\n      <td>0</td>\n      <td>0</td>\n      <td>2205.98080</td>\n    </tr>\n    <tr>\n      <th>1335</th>\n      <td>18</td>\n      <td>36.850</td>\n      <td>0</td>\n      <td>0</td>\n      <td>0</td>\n      <td>0</td>\n      <td>1</td>\n      <td>0</td>\n      <td>1629.83350</td>\n    </tr>\n    <tr>\n      <th>1336</th>\n      <td>21</td>\n      <td>25.800</td>\n      <td>0</td>\n      <td>0</td>\n      <td>0</td>\n      <td>0</td>\n      <td>0</td>\n      <td>1</td>\n      <td>2007.94500</td>\n    </tr>\n    <tr>\n      <th>1337</th>\n      <td>61</td>\n      <td>29.070</td>\n      <td>0</td>\n      <td>0</td>\n      <td>1</td>\n      <td>1</td>\n      <td>0</td>\n      <td>0</td>\n      <td>29141.36030</td>\n    </tr>\n  </tbody>\n</table>\n<p>1338 rows × 9 columns</p>\n</div>"
     },
     "metadata": {},
     "execution_count": 5
    }
   ],
   "source": [
    "dData = pd.get_dummies(dData, drop_first=True)\n",
    "\n",
    "#-- Move charges to the last columns:\n",
    "lCols = dData.columns.drop('Charges').tolist() + ['Charges']\n",
    "dData = dData[lCols]\n",
    "dData"
   ]
  },
  {
   "cell_type": "code",
   "execution_count": 6,
   "metadata": {},
   "outputs": [
    {
     "output_type": "execute_result",
     "data": {
      "text/plain": [
       "((1338, 5), (1338,))"
      ]
     },
     "metadata": {},
     "execution_count": 6
    }
   ],
   "source": [
    "# dTrainX = dData.drop(columns='Charges')\n",
    "dTrainX = dData.drop(columns=['Charges', 'Region_northwest', 'Region_southeast', 'Region_southwest'])\n",
    "dTrainY = dData['Charges']\n",
    "\n",
    "mX = dTrainX.values\n",
    "vY = dTrainY.values\n",
    "\n",
    "mX -= np.mean(mX, axis=0)\n",
    "mX /= np.std (mX, axis=0)\n",
    "vY -= np.mean(vY)\n",
    "vY /= np.std (vY)\n",
    "\n",
    "mX.shape, vY.shape"
   ]
  },
  {
   "cell_type": "markdown",
   "metadata": {},
   "source": [
    "### Exercise 1:\n",
    "* Train a linear regressor (with or without polynomial features).\n",
    "* Try to get the best $R^2$ score with $K=50$ fold cross-validation.\n",
    "* Hint: Consider using $L^1$ regularization (lasso)."
   ]
  },
  {
   "cell_type": "code",
   "execution_count": 7,
   "metadata": {},
   "outputs": [
    {
     "output_type": "execute_result",
     "data": {
      "text/plain": [
       "     P        R2\n",
       "2  3.0  0.839603\n",
       "1  2.0  0.839359\n",
       "0  1.0  0.747159"
      ],
      "text/html": "<div>\n<style scoped>\n    .dataframe tbody tr th:only-of-type {\n        vertical-align: middle;\n    }\n\n    .dataframe tbody tr th {\n        vertical-align: top;\n    }\n\n    .dataframe thead th {\n        text-align: right;\n    }\n</style>\n<table border=\"1\" class=\"dataframe\">\n  <thead>\n    <tr style=\"text-align: right;\">\n      <th></th>\n      <th>P</th>\n      <th>R2</th>\n    </tr>\n  </thead>\n  <tbody>\n    <tr>\n      <th>2</th>\n      <td>3.0</td>\n      <td>0.839603</td>\n    </tr>\n    <tr>\n      <th>1</th>\n      <td>2.0</td>\n      <td>0.839359</td>\n    </tr>\n    <tr>\n      <th>0</th>\n      <td>1.0</td>\n      <td>0.747159</td>\n    </tr>\n  </tbody>\n</table>\n</div>"
     },
     "metadata": {},
     "execution_count": 7
    }
   ],
   "source": [
    "from sklearn.preprocessing   import PolynomialFeatures\n",
    "from sklearn.model_selection import cross_val_predict, KFold\n",
    "from sklearn.metrics         import r2_score\n",
    "from sklearn.linear_model    import LinearRegression\n",
    "from sklearn.pipeline        import make_pipeline\n",
    "\n",
    "#-- Cross validation regression:\n",
    "dRes   = pd.DataFrame(columns=['P', 'R2'])\n",
    "for P in [1, 2, 3]:\n",
    "    oPolyFit = make_pipeline(\n",
    "        PolynomialFeatures(degree=P, include_bias=False),\n",
    "        LinearRegression  ()\n",
    "    )\n",
    "    vHatY               = cross_val_predict(oPolyFit, mX, vY, cv=KFold(50, shuffle=True))\n",
    "    dRes.loc[len(dRes)] = [P, r2_score(vY, vHatY)]\n",
    "\n",
    "dRes.sort_values(by='R2', ascending=False)"
   ]
  },
  {
   "cell_type": "code",
   "execution_count": 8,
   "metadata": {
    "scrolled": true
   },
   "outputs": [
    {
     "output_type": "execute_result",
     "data": {
      "text/plain": [
       "      P       lam        R2\n",
       "30  3.0  0.003162  0.841569\n",
       "33  3.0  0.010857  0.841451\n",
       "31  3.0  0.004771  0.841307\n",
       "32  3.0  0.007197  0.840971\n",
       "15  2.0  0.003162  0.840117\n",
       "34  3.0  0.016379  0.840046\n",
       "16  2.0  0.004771  0.839993\n",
       "18  2.0  0.010857  0.839685\n",
       "17  2.0  0.007197  0.839635\n",
       "35  3.0  0.024709  0.839180\n",
       "19  2.0  0.016379  0.838677\n",
       "20  2.0  0.024709  0.836688\n",
       "36  3.0  0.037276  0.835608\n",
       "21  2.0  0.037276  0.831397\n",
       "37  3.0  0.056234  0.829919\n",
       "22  2.0  0.056234  0.824665\n",
       "38  3.0  0.084834  0.818179\n",
       "23  2.0  0.084834  0.811561\n",
       "39  3.0  0.127980  0.809829\n",
       "40  3.0  0.193070  0.796039\n",
       "24  2.0  0.127980  0.781445\n",
       "41  3.0  0.291263  0.764534\n",
       "2   1.0  0.007197  0.747478\n",
       "1   1.0  0.004771  0.747357\n",
       "3   1.0  0.010857  0.747307\n",
       "0   1.0  0.003162  0.746612\n",
       "4   1.0  0.016379  0.746507\n",
       "5   1.0  0.024709  0.745270\n",
       "6   1.0  0.037276  0.742167\n",
       "7   1.0  0.056234  0.735941\n",
       "8   1.0  0.084834  0.724806\n",
       "25  2.0  0.193070  0.718521\n",
       "9   1.0  0.127980  0.698765\n",
       "42  3.0  0.439397  0.692513\n",
       "10  1.0  0.193070  0.642603\n",
       "26  2.0  0.291263  0.597881\n",
       "43  3.0  0.662870  0.573097\n",
       "11  1.0  0.291263  0.544584\n",
       "27  2.0  0.439397  0.527643\n",
       "44  3.0  1.000000  0.516265\n",
       "12  1.0  0.439397  0.423852\n",
       "28  2.0  0.662870  0.409737\n",
       "13  1.0  0.662870  0.176481\n",
       "29  2.0  1.000000  0.149282\n",
       "14  1.0  1.000000 -0.001696"
      ],
      "text/html": "<div>\n<style scoped>\n    .dataframe tbody tr th:only-of-type {\n        vertical-align: middle;\n    }\n\n    .dataframe tbody tr th {\n        vertical-align: top;\n    }\n\n    .dataframe thead th {\n        text-align: right;\n    }\n</style>\n<table border=\"1\" class=\"dataframe\">\n  <thead>\n    <tr style=\"text-align: right;\">\n      <th></th>\n      <th>P</th>\n      <th>lam</th>\n      <th>R2</th>\n    </tr>\n  </thead>\n  <tbody>\n    <tr>\n      <th>30</th>\n      <td>3.0</td>\n      <td>0.003162</td>\n      <td>0.841569</td>\n    </tr>\n    <tr>\n      <th>33</th>\n      <td>3.0</td>\n      <td>0.010857</td>\n      <td>0.841451</td>\n    </tr>\n    <tr>\n      <th>31</th>\n      <td>3.0</td>\n      <td>0.004771</td>\n      <td>0.841307</td>\n    </tr>\n    <tr>\n      <th>32</th>\n      <td>3.0</td>\n      <td>0.007197</td>\n      <td>0.840971</td>\n    </tr>\n    <tr>\n      <th>15</th>\n      <td>2.0</td>\n      <td>0.003162</td>\n      <td>0.840117</td>\n    </tr>\n    <tr>\n      <th>34</th>\n      <td>3.0</td>\n      <td>0.016379</td>\n      <td>0.840046</td>\n    </tr>\n    <tr>\n      <th>16</th>\n      <td>2.0</td>\n      <td>0.004771</td>\n      <td>0.839993</td>\n    </tr>\n    <tr>\n      <th>18</th>\n      <td>2.0</td>\n      <td>0.010857</td>\n      <td>0.839685</td>\n    </tr>\n    <tr>\n      <th>17</th>\n      <td>2.0</td>\n      <td>0.007197</td>\n      <td>0.839635</td>\n    </tr>\n    <tr>\n      <th>35</th>\n      <td>3.0</td>\n      <td>0.024709</td>\n      <td>0.839180</td>\n    </tr>\n    <tr>\n      <th>19</th>\n      <td>2.0</td>\n      <td>0.016379</td>\n      <td>0.838677</td>\n    </tr>\n    <tr>\n      <th>20</th>\n      <td>2.0</td>\n      <td>0.024709</td>\n      <td>0.836688</td>\n    </tr>\n    <tr>\n      <th>36</th>\n      <td>3.0</td>\n      <td>0.037276</td>\n      <td>0.835608</td>\n    </tr>\n    <tr>\n      <th>21</th>\n      <td>2.0</td>\n      <td>0.037276</td>\n      <td>0.831397</td>\n    </tr>\n    <tr>\n      <th>37</th>\n      <td>3.0</td>\n      <td>0.056234</td>\n      <td>0.829919</td>\n    </tr>\n    <tr>\n      <th>22</th>\n      <td>2.0</td>\n      <td>0.056234</td>\n      <td>0.824665</td>\n    </tr>\n    <tr>\n      <th>38</th>\n      <td>3.0</td>\n      <td>0.084834</td>\n      <td>0.818179</td>\n    </tr>\n    <tr>\n      <th>23</th>\n      <td>2.0</td>\n      <td>0.084834</td>\n      <td>0.811561</td>\n    </tr>\n    <tr>\n      <th>39</th>\n      <td>3.0</td>\n      <td>0.127980</td>\n      <td>0.809829</td>\n    </tr>\n    <tr>\n      <th>40</th>\n      <td>3.0</td>\n      <td>0.193070</td>\n      <td>0.796039</td>\n    </tr>\n    <tr>\n      <th>24</th>\n      <td>2.0</td>\n      <td>0.127980</td>\n      <td>0.781445</td>\n    </tr>\n    <tr>\n      <th>41</th>\n      <td>3.0</td>\n      <td>0.291263</td>\n      <td>0.764534</td>\n    </tr>\n    <tr>\n      <th>2</th>\n      <td>1.0</td>\n      <td>0.007197</td>\n      <td>0.747478</td>\n    </tr>\n    <tr>\n      <th>1</th>\n      <td>1.0</td>\n      <td>0.004771</td>\n      <td>0.747357</td>\n    </tr>\n    <tr>\n      <th>3</th>\n      <td>1.0</td>\n      <td>0.010857</td>\n      <td>0.747307</td>\n    </tr>\n    <tr>\n      <th>0</th>\n      <td>1.0</td>\n      <td>0.003162</td>\n      <td>0.746612</td>\n    </tr>\n    <tr>\n      <th>4</th>\n      <td>1.0</td>\n      <td>0.016379</td>\n      <td>0.746507</td>\n    </tr>\n    <tr>\n      <th>5</th>\n      <td>1.0</td>\n      <td>0.024709</td>\n      <td>0.745270</td>\n    </tr>\n    <tr>\n      <th>6</th>\n      <td>1.0</td>\n      <td>0.037276</td>\n      <td>0.742167</td>\n    </tr>\n    <tr>\n      <th>7</th>\n      <td>1.0</td>\n      <td>0.056234</td>\n      <td>0.735941</td>\n    </tr>\n    <tr>\n      <th>8</th>\n      <td>1.0</td>\n      <td>0.084834</td>\n      <td>0.724806</td>\n    </tr>\n    <tr>\n      <th>25</th>\n      <td>2.0</td>\n      <td>0.193070</td>\n      <td>0.718521</td>\n    </tr>\n    <tr>\n      <th>9</th>\n      <td>1.0</td>\n      <td>0.127980</td>\n      <td>0.698765</td>\n    </tr>\n    <tr>\n      <th>42</th>\n      <td>3.0</td>\n      <td>0.439397</td>\n      <td>0.692513</td>\n    </tr>\n    <tr>\n      <th>10</th>\n      <td>1.0</td>\n      <td>0.193070</td>\n      <td>0.642603</td>\n    </tr>\n    <tr>\n      <th>26</th>\n      <td>2.0</td>\n      <td>0.291263</td>\n      <td>0.597881</td>\n    </tr>\n    <tr>\n      <th>43</th>\n      <td>3.0</td>\n      <td>0.662870</td>\n      <td>0.573097</td>\n    </tr>\n    <tr>\n      <th>11</th>\n      <td>1.0</td>\n      <td>0.291263</td>\n      <td>0.544584</td>\n    </tr>\n    <tr>\n      <th>27</th>\n      <td>2.0</td>\n      <td>0.439397</td>\n      <td>0.527643</td>\n    </tr>\n    <tr>\n      <th>44</th>\n      <td>3.0</td>\n      <td>1.000000</td>\n      <td>0.516265</td>\n    </tr>\n    <tr>\n      <th>12</th>\n      <td>1.0</td>\n      <td>0.439397</td>\n      <td>0.423852</td>\n    </tr>\n    <tr>\n      <th>28</th>\n      <td>2.0</td>\n      <td>0.662870</td>\n      <td>0.409737</td>\n    </tr>\n    <tr>\n      <th>13</th>\n      <td>1.0</td>\n      <td>0.662870</td>\n      <td>0.176481</td>\n    </tr>\n    <tr>\n      <th>29</th>\n      <td>2.0</td>\n      <td>1.000000</td>\n      <td>0.149282</td>\n    </tr>\n    <tr>\n      <th>14</th>\n      <td>1.0</td>\n      <td>1.000000</td>\n      <td>-0.001696</td>\n    </tr>\n  </tbody>\n</table>\n</div>"
     },
     "metadata": {},
     "execution_count": 8
    }
   ],
   "source": [
    "from sklearn.linear_model import Lasso\n",
    "\n",
    "#-- Cross validation regression with Lasso:\n",
    "vLam = np.logspace(-2.5, 0, 15)\n",
    "dRes = pd.DataFrame(columns=['P', 'lam', 'R2'])\n",
    "for P in [1, 2, 3]:\n",
    "    for lam in vLam:\n",
    "        oLasso = make_pipeline(\n",
    "            PolynomialFeatures(degree=P, include_bias=False),\n",
    "            Lasso             (alpha=lam, max_iter=10000)\n",
    "        )\n",
    "        vHatY               = cross_val_predict(oLasso, mX, vY, cv=KFold(50, shuffle=True))\n",
    "        dRes.loc[len(dRes)] = [P, lam, r2_score(vY, vHatY)]\n",
    "\n",
    "dRes.sort_values(by='R2', ascending=False)"
   ]
  },
  {
   "cell_type": "markdown",
   "metadata": {},
   "source": [
    "### Exercise 2:\n",
    "* Try non-parametric models.\n",
    "* Hint: Consider splitting your data into two subsets and train two regressors (one for each set).\n",
    "* Improve your $R^2$ score from exercise 1."
   ]
  },
  {
   "cell_type": "markdown",
   "metadata": {},
   "source": [
    "#### Regressor tree:"
   ]
  },
  {
   "cell_type": "code",
   "execution_count": 9,
   "metadata": {},
   "outputs": [
    {
     "output_type": "stream",
     "name": "stdout",
     "text": [
      "Tree = 0.8438097797190999\n"
     ]
    }
   ],
   "source": [
    "from sklearn.tree import DecisionTreeRegressor\n",
    "\n",
    "vHatY = cross_val_predict(DecisionTreeRegressor(max_leaf_nodes=11), mX, vY, cv=KFold(len(vY), shuffle=True))\n",
    "print(f'Tree = {r2_score(vY, vHatY)}')"
   ]
  },
  {
   "cell_type": "markdown",
   "metadata": {},
   "source": [
    "#### Split on smokers:\n",
    "`SplitRegressor` trains a tree on the smokers and Lasso on the non-smokers:"
   ]
  },
  {
   "cell_type": "code",
   "execution_count": 13,
   "metadata": {},
   "outputs": [],
   "source": [
    "from sklearn.base import BaseEstimator\n",
    "from sklearn.model_selection import GridSearchCV\n",
    "from sklearn.pipeline import Pipeline\n",
    "\n",
    "from sklearn.base import BaseEstimator\n",
    "\n",
    "class SplitRegressor(BaseEstimator):\n",
    "    def __init__(self, dTreeGridParam, dLassoGridParams):\n",
    "        self.smokerIdx  = 4\n",
    "        self.dTreeGridParam   = dTreeGridParam\n",
    "        self.dLassoGridParams  = dLassoGridParams\n",
    "\n",
    "\n",
    "        # https://scikit-learn.org/stable/tutorial/statistical_inference/putting_together.html\n",
    "\n",
    "        # searching for the best classifiers\n",
    "        self.oGridTree  = GridSearchCV(DecisionTreeRegressor(), dTreeGridParam, n_jobs=-1)\n",
    "\n",
    "        pipe = Pipeline(steps=[('polynomial_features', PolynomialFeatures(degree=2, include_bias=False)), ('lasso', Lasso ())])\n",
    "        self.oGridLasso = GridSearchCV(pipe, dLassoGridParams, n_jobs=-1)\n",
    "        \n",
    "        \n",
    "    def fit(self, mX, vY):\n",
    "        vIdx = mX[:,self.smokerIdx] > 0\n",
    "        \n",
    "        #-- Smokers:\n",
    "        mX1 = mX[vIdx, :]  \n",
    "        vY1 = vY[vIdx]          \n",
    "        self.oGridTree.fit(mX1,vY1)\n",
    "        \n",
    "        #-- Non-smokers:\n",
    "        mX2 = mX[~vIdx,:]\n",
    "        vY2 = vY[~vIdx]\n",
    "        self.oGridLasso.fit(mX2, vY2)\n",
    "        \n",
    "    def predict(self, mX):\n",
    "        vIdx = mX[:,self.smokerIdx] > 0\n",
    "        \n",
    "        #-- Smokers:\n",
    "        mX1    = mX[vIdx, :]\n",
    " \n",
    "        vHatY1 = None\n",
    "        if mX1.shape[0] > 0:\n",
    "            vHatY1 = self.oGridTree.predict(mX1   )\n",
    "        \n",
    "        #-- Non-Smokers:\n",
    "        \n",
    "        mX2    = mX[~vIdx,:]\n",
    "        vHatY2 = None\n",
    "        #trans = PolynomialFeatures(degree=3)\n",
    "        if mX2.shape[0] > 0:\n",
    "            vHatY2 = self.oGridLasso.predict(mX2 )\n",
    "        \n",
    "        #-- Merge:\n",
    "        vHatY        = np.full(mX.shape[0], np.nan)\n",
    "        vHatY[vIdx]  = vHatY1\n",
    "        vHatY[~vIdx] = vHatY2\n",
    "        \n",
    "        return vHatY\n"
   ]
  },
  {
   "cell_type": "code",
   "execution_count": 19,
   "metadata": {
    "tags": []
   },
   "outputs": [
    {
     "output_type": "stream",
     "name": "stderr",
     "text": [
      "[Parallel(n_jobs=-1)]: Using backend LokyBackend with 8 concurrent workers.\n",
      "[Parallel(n_jobs=-1)]: Done  16 tasks      | elapsed:   18.5s\n",
      "Split = 0.8593964351001344\n",
      "[Parallel(n_jobs=-1)]: Done 100 out of 100 | elapsed:   40.3s finished\n"
     ]
    }
   ],
   "source": [
    "dTreeGridParam = {\"criterion\": [\"mse\", \"mae\"],\n",
    "              \"min_samples_split\": [10, 20, 40],\n",
    "              \"max_depth\": [2, 6, 8],\n",
    "              \"min_samples_leaf\": [ 20, 40],\n",
    "              \"max_leaf_nodes\": [5, 11, 20],\n",
    "              }\n",
    "dLassoGridParams = {'lasso__alpha':[0.01, 0.02, 0.024, 0.025, 0.026, 0.03], 'lasso__max_iter': [1000]}\n",
    "\n",
    "oReg      = SplitRegressor(dTreeGridParam, dLassoGridParams)\n",
    "vHatY     = cross_val_predict(oReg, mX, vY, cv=KFold(100, shuffle=True), verbose=3, n_jobs=-1)\n",
    "\n",
    "print(f'Split = {r2_score(vY, vHatY)}')\n"
   ]
  },
  {
   "cell_type": "code",
   "execution_count": null,
   "metadata": {},
   "outputs": [],
   "source": []
  },
  {
   "cell_type": "markdown",
   "metadata": {},
   "source": [
    "### Gradient boosting:\n",
    "We did not learn this (yet)"
   ]
  },
  {
   "cell_type": "code",
   "execution_count": 12,
   "metadata": {},
   "outputs": [
    {
     "output_type": "stream",
     "name": "stdout",
     "text": [
      "GBR = 0.8621184966020268\n"
     ]
    }
   ],
   "source": [
    "from sklearn.ensemble import GradientBoostingRegressor\n",
    "\n",
    "vHatY = cross_val_predict(GradientBoostingRegressor(n_estimators=100, learning_rate=0.05), dTrainX, dTrainY, cv=KFold(50, shuffle=True))\n",
    "print(f'GBR = {r2_score(vY, vHatY)}')"
   ]
  },
  {
   "cell_type": "code",
   "execution_count": null,
   "metadata": {},
   "outputs": [],
   "source": []
  }
 ],
 "metadata": {
  "kernelspec": {
   "name": "python3",
   "display_name": "Python 3.8.8 64-bit ('base': conda)"
  },
  "language_info": {
   "codemirror_mode": {
    "name": "ipython",
    "version": 3
   },
   "file_extension": ".py",
   "mimetype": "text/x-python",
   "name": "python",
   "nbconvert_exporter": "python",
   "pygments_lexer": "ipython3",
   "version": "3.8.8"
  },
  "toc": {
   "base_numbering": 1,
   "nav_menu": {},
   "number_sections": true,
   "sideBar": true,
   "skip_h1_title": false,
   "title_cell": "Table of Contents",
   "title_sidebar": "Contents",
   "toc_cell": false,
   "toc_position": {},
   "toc_section_display": true,
   "toc_window_display": false
  },
  "varInspector": {
   "cols": {
    "lenName": 16,
    "lenType": 16,
    "lenVar": 40
   },
   "kernels_config": {
    "python": {
     "delete_cmd_postfix": "",
     "delete_cmd_prefix": "del ",
     "library": "var_list.py",
     "varRefreshCmd": "print(var_dic_list())"
    },
    "r": {
     "delete_cmd_postfix": ") ",
     "delete_cmd_prefix": "rm(",
     "library": "var_list.r",
     "varRefreshCmd": "cat(var_dic_list()) "
    }
   },
   "types_to_exclude": [
    "module",
    "function",
    "builtin_function_or_method",
    "instance",
    "_Feature"
   ],
   "window_display": false
  },
  "interpreter": {
   "hash": "6438134d2751295b28bc239e6140ab5fcf89695af8bbf5309092a238fa8acf3a"
  }
 },
 "nbformat": 4,
 "nbformat_minor": 4
}