{
 "cells": [
  {
   "cell_type": "code",
   "execution_count": 1,
   "id": "7bfea931",
   "metadata": {},
   "outputs": [
    {
     "data": {
      "text/html": [
       "\n",
       "<script>\n",
       "function hidecode() {\n",
       "    x=document.getElementsByClassName(\"input\");\n",
       "    for (i = 0; i < x.length; i++) {\n",
       "        x[i].style.display=\"none\";\n",
       "    }\n",
       "    x=document.getElementsByClassName(\"output_stderr\");\n",
       "    for (i = 0; i < x.length; i++) {\n",
       "        x[i].style.display=\"none\";\n",
       "    }\n",
       "}\n",
       "function showcode() {\n",
       "    x=document.getElementsByClassName(\"input\");\n",
       "    for (i = 0; i < x.length; i++) {\n",
       "        x[i].style.display=\"\";\n",
       "    }\n",
       "    x=document.getElementsByClassName(\"output_stderr\");\n",
       "    for (i = 0; i < x.length; i++) {\n",
       "        x[i].style.display=\"\";\n",
       "    }\n",
       "}\n",
       "</script>\n",
       "<button class=\"button\" onclick=\"hidecode()\">Hide code</button>\n",
       "<button class=\"button\" onclick=\"showcode()\">Show code</button>\n",
       "<body onload=\"hidecode()\">\n"
      ],
      "text/plain": [
       "<IPython.core.display.HTML object>"
      ]
     },
     "metadata": {},
     "output_type": "display_data"
    }
   ],
   "source": [
    "%%html\n",
    "\n",
    "<script>\n",
    "function hidecode() {\n",
    "    x=document.getElementsByClassName(\"input\");\n",
    "    for (i = 0; i < x.length; i++) {\n",
    "        x[i].style.display=\"none\";\n",
    "    }\n",
    "    x=document.getElementsByClassName(\"output_stderr\");\n",
    "    for (i = 0; i < x.length; i++) {\n",
    "        x[i].style.display=\"none\";\n",
    "    }\n",
    "}\n",
    "function showcode() {\n",
    "    x=document.getElementsByClassName(\"input\");\n",
    "    for (i = 0; i < x.length; i++) {\n",
    "        x[i].style.display=\"\";\n",
    "    }\n",
    "    x=document.getElementsByClassName(\"output_stderr\");\n",
    "    for (i = 0; i < x.length; i++) {\n",
    "        x[i].style.display=\"\";\n",
    "    }\n",
    "}\n",
    "</script>\n",
    "<button class=\"button\" onclick=\"hidecode()\">Hide code</button>\n",
    "<button class=\"button\" onclick=\"showcode()\">Show code</button>\n",
    "<body onload=\"hidecode()\">"
   ]
  },
  {
   "cell_type": "markdown",
   "id": "7e86f7d9",
   "metadata": {},
   "source": [
    "Python for AI Engineer - Exercise 1 - EDA\n",
    "\n",
    "Perform an EDA on Kaggle heart dataset (https://www.kaggle.com/ronitf/heart-disease-uci)\n",
    "\n",
    "Include in your analysis the following topics:\n",
    "\n",
    "- [ ] info\n",
    "- [ ] describe\n",
    "- [ ] corr\n",
    "- [ ] plot\n",
    "- [ ] normalization\n",
    "- [ ] pca\n",
    "- [ ] svd\n",
    "- [ ] laplace transofrm\n",
    "- [ ] data engineering\n",
    "- [ ] outliers\n",
    "- [ ] missing values\n",
    "- [ ] train test split\n",
    "- [ ] find interesting subgroups\n"
   ]
  },
  {
   "cell_type": "markdown",
   "id": "28f06903",
   "metadata": {},
   "source": [
    "I will address the above topics with the following sections:\n",
    "1. Data loading\n",
    "   (info, describe)\n",
    "2. Data validation\n",
    "   Separating the features to categorical and continuous\n",
    "   (normalization, handling missing values)\n",
    "3. Data preprocessing\n",
    "   (PCA, SVD, laplace, outliers)\n",
    "4. Data Engineering\n",
    "   (one hot encoding, outliers, converting continuous to bins)\n",
    "5. Analyzing  the subgroups and correlation between the categorical and continous features\n",
    "6. Spliting the data test to train and test"
   ]
  },
  {
   "cell_type": "code",
   "execution_count": null,
   "id": "23e595bf",
   "metadata": {},
   "outputs": [],
   "source": []
  },
  {
   "cell_type": "code",
   "execution_count": 2,
   "id": "62ca6eb9",
   "metadata": {},
   "outputs": [],
   "source": [
    "# Imports\n",
    "import pandas as pd\n",
    "import numpy as np\n",
    "import seaborn as sns\n",
    "import matplotlib.pyplot as plt\n",
    "from matplotlib import pyplot\n"
   ]
  },
  {
   "cell_type": "markdown",
   "id": "a3d08a05",
   "metadata": {},
   "source": [
    "# Data loading"
   ]
  },
  {
   "cell_type": "code",
   "execution_count": 3,
   "id": "fba61ef3",
   "metadata": {},
   "outputs": [],
   "source": [
    "raw_df = pd.read_csv(\"heart.csv\")"
   ]
  },
  {
   "cell_type": "code",
   "execution_count": 4,
   "id": "6b6979ad",
   "metadata": {},
   "outputs": [
    {
     "data": {
      "text/html": [
       "<div>\n",
       "<style scoped>\n",
       "    .dataframe tbody tr th:only-of-type {\n",
       "        vertical-align: middle;\n",
       "    }\n",
       "\n",
       "    .dataframe tbody tr th {\n",
       "        vertical-align: top;\n",
       "    }\n",
       "\n",
       "    .dataframe thead th {\n",
       "        text-align: right;\n",
       "    }\n",
       "</style>\n",
       "<table border=\"1\" class=\"dataframe\">\n",
       "  <thead>\n",
       "    <tr style=\"text-align: right;\">\n",
       "      <th></th>\n",
       "      <th>age</th>\n",
       "      <th>sex</th>\n",
       "      <th>cp</th>\n",
       "      <th>trestbps</th>\n",
       "      <th>chol</th>\n",
       "      <th>fbs</th>\n",
       "      <th>restecg</th>\n",
       "      <th>thalach</th>\n",
       "      <th>exang</th>\n",
       "      <th>oldpeak</th>\n",
       "      <th>slope</th>\n",
       "      <th>ca</th>\n",
       "      <th>thal</th>\n",
       "      <th>target</th>\n",
       "    </tr>\n",
       "  </thead>\n",
       "  <tbody>\n",
       "    <tr>\n",
       "      <th>0</th>\n",
       "      <td>63</td>\n",
       "      <td>1</td>\n",
       "      <td>3</td>\n",
       "      <td>145</td>\n",
       "      <td>233</td>\n",
       "      <td>1</td>\n",
       "      <td>0</td>\n",
       "      <td>150</td>\n",
       "      <td>0</td>\n",
       "      <td>2.3</td>\n",
       "      <td>0</td>\n",
       "      <td>0</td>\n",
       "      <td>1</td>\n",
       "      <td>1</td>\n",
       "    </tr>\n",
       "    <tr>\n",
       "      <th>1</th>\n",
       "      <td>37</td>\n",
       "      <td>1</td>\n",
       "      <td>2</td>\n",
       "      <td>130</td>\n",
       "      <td>250</td>\n",
       "      <td>0</td>\n",
       "      <td>1</td>\n",
       "      <td>187</td>\n",
       "      <td>0</td>\n",
       "      <td>3.5</td>\n",
       "      <td>0</td>\n",
       "      <td>0</td>\n",
       "      <td>2</td>\n",
       "      <td>1</td>\n",
       "    </tr>\n",
       "    <tr>\n",
       "      <th>2</th>\n",
       "      <td>41</td>\n",
       "      <td>0</td>\n",
       "      <td>1</td>\n",
       "      <td>130</td>\n",
       "      <td>204</td>\n",
       "      <td>0</td>\n",
       "      <td>0</td>\n",
       "      <td>172</td>\n",
       "      <td>0</td>\n",
       "      <td>1.4</td>\n",
       "      <td>2</td>\n",
       "      <td>0</td>\n",
       "      <td>2</td>\n",
       "      <td>1</td>\n",
       "    </tr>\n",
       "    <tr>\n",
       "      <th>3</th>\n",
       "      <td>56</td>\n",
       "      <td>1</td>\n",
       "      <td>1</td>\n",
       "      <td>120</td>\n",
       "      <td>236</td>\n",
       "      <td>0</td>\n",
       "      <td>1</td>\n",
       "      <td>178</td>\n",
       "      <td>0</td>\n",
       "      <td>0.8</td>\n",
       "      <td>2</td>\n",
       "      <td>0</td>\n",
       "      <td>2</td>\n",
       "      <td>1</td>\n",
       "    </tr>\n",
       "    <tr>\n",
       "      <th>4</th>\n",
       "      <td>57</td>\n",
       "      <td>0</td>\n",
       "      <td>0</td>\n",
       "      <td>120</td>\n",
       "      <td>354</td>\n",
       "      <td>0</td>\n",
       "      <td>1</td>\n",
       "      <td>163</td>\n",
       "      <td>1</td>\n",
       "      <td>0.6</td>\n",
       "      <td>2</td>\n",
       "      <td>0</td>\n",
       "      <td>2</td>\n",
       "      <td>1</td>\n",
       "    </tr>\n",
       "  </tbody>\n",
       "</table>\n",
       "</div>"
      ],
      "text/plain": [
       "   age  sex  cp  trestbps  chol  fbs  restecg  thalach  exang  oldpeak  slope  \\\n",
       "0   63    1   3       145   233    1        0      150      0      2.3      0   \n",
       "1   37    1   2       130   250    0        1      187      0      3.5      0   \n",
       "2   41    0   1       130   204    0        0      172      0      1.4      2   \n",
       "3   56    1   1       120   236    0        1      178      0      0.8      2   \n",
       "4   57    0   0       120   354    0        1      163      1      0.6      2   \n",
       "\n",
       "   ca  thal  target  \n",
       "0   0     1       1  \n",
       "1   0     2       1  \n",
       "2   0     2       1  \n",
       "3   0     2       1  \n",
       "4   0     2       1  "
      ]
     },
     "execution_count": 4,
     "metadata": {},
     "output_type": "execute_result"
    }
   ],
   "source": [
    "# Displaying the first 5 rows\n",
    "\n",
    "raw_df.head()"
   ]
  },
  {
   "cell_type": "markdown",
   "id": "814fa9a1",
   "metadata": {},
   "source": [
    "# Describing the dataset"
   ]
  },
  {
   "cell_type": "code",
   "execution_count": 5,
   "id": "71584bf2",
   "metadata": {
    "scrolled": true
   },
   "outputs": [
    {
     "name": "stdout",
     "output_type": "stream",
     "text": [
      "<class 'pandas.core.frame.DataFrame'>\n",
      "RangeIndex: 303 entries, 0 to 302\n",
      "Data columns (total 14 columns):\n",
      " #   Column    Non-Null Count  Dtype  \n",
      "---  ------    --------------  -----  \n",
      " 0   age       303 non-null    int64  \n",
      " 1   sex       303 non-null    int64  \n",
      " 2   cp        303 non-null    int64  \n",
      " 3   trestbps  303 non-null    int64  \n",
      " 4   chol      303 non-null    int64  \n",
      " 5   fbs       303 non-null    int64  \n",
      " 6   restecg   303 non-null    int64  \n",
      " 7   thalach   303 non-null    int64  \n",
      " 8   exang     303 non-null    int64  \n",
      " 9   oldpeak   303 non-null    float64\n",
      " 10  slope     303 non-null    int64  \n",
      " 11  ca        303 non-null    int64  \n",
      " 12  thal      303 non-null    int64  \n",
      " 13  target    303 non-null    int64  \n",
      "dtypes: float64(1), int64(13)\n",
      "memory usage: 33.3 KB\n"
     ]
    }
   ],
   "source": [
    "raw_df.info()"
   ]
  },
  {
   "cell_type": "markdown",
   "id": "6108f9ea",
   "metadata": {},
   "source": [
    "From the info is seems that:\n",
    "1. All the fields are **numeric** values,\n",
    "2. There are no strings, datetime or object types\n",
    "3. There are no null values\n",
    "Thus we can perform numerical operation on them. "
   ]
  },
  {
   "cell_type": "markdown",
   "id": "0c6993a0",
   "metadata": {},
   "source": [
    "# Data validation"
   ]
  },
  {
   "cell_type": "markdown",
   "id": "5d865a9b",
   "metadata": {},
   "source": [
    "## Getting a sense of the data\n",
    "We will use\n",
    "1. <code>describe</code> and <code>nunique</code>\n",
    "2. Dataset description"
   ]
  },
  {
   "cell_type": "code",
   "execution_count": 6,
   "id": "5e3d91ba",
   "metadata": {},
   "outputs": [
    {
     "data": {
      "text/html": [
       "<div>\n",
       "<style scoped>\n",
       "    .dataframe tbody tr th:only-of-type {\n",
       "        vertical-align: middle;\n",
       "    }\n",
       "\n",
       "    .dataframe tbody tr th {\n",
       "        vertical-align: top;\n",
       "    }\n",
       "\n",
       "    .dataframe thead th {\n",
       "        text-align: right;\n",
       "    }\n",
       "</style>\n",
       "<table border=\"1\" class=\"dataframe\">\n",
       "  <thead>\n",
       "    <tr style=\"text-align: right;\">\n",
       "      <th></th>\n",
       "      <th>count</th>\n",
       "      <th>mean</th>\n",
       "      <th>std</th>\n",
       "      <th>min</th>\n",
       "      <th>25%</th>\n",
       "      <th>50%</th>\n",
       "      <th>75%</th>\n",
       "      <th>max</th>\n",
       "    </tr>\n",
       "  </thead>\n",
       "  <tbody>\n",
       "    <tr>\n",
       "      <th>age</th>\n",
       "      <td>303.0</td>\n",
       "      <td>54.366337</td>\n",
       "      <td>9.082101</td>\n",
       "      <td>29.0</td>\n",
       "      <td>47.5</td>\n",
       "      <td>55.0</td>\n",
       "      <td>61.0</td>\n",
       "      <td>77.0</td>\n",
       "    </tr>\n",
       "    <tr>\n",
       "      <th>sex</th>\n",
       "      <td>303.0</td>\n",
       "      <td>0.683168</td>\n",
       "      <td>0.466011</td>\n",
       "      <td>0.0</td>\n",
       "      <td>0.0</td>\n",
       "      <td>1.0</td>\n",
       "      <td>1.0</td>\n",
       "      <td>1.0</td>\n",
       "    </tr>\n",
       "    <tr>\n",
       "      <th>cp</th>\n",
       "      <td>303.0</td>\n",
       "      <td>0.966997</td>\n",
       "      <td>1.032052</td>\n",
       "      <td>0.0</td>\n",
       "      <td>0.0</td>\n",
       "      <td>1.0</td>\n",
       "      <td>2.0</td>\n",
       "      <td>3.0</td>\n",
       "    </tr>\n",
       "    <tr>\n",
       "      <th>trestbps</th>\n",
       "      <td>303.0</td>\n",
       "      <td>131.623762</td>\n",
       "      <td>17.538143</td>\n",
       "      <td>94.0</td>\n",
       "      <td>120.0</td>\n",
       "      <td>130.0</td>\n",
       "      <td>140.0</td>\n",
       "      <td>200.0</td>\n",
       "    </tr>\n",
       "    <tr>\n",
       "      <th>chol</th>\n",
       "      <td>303.0</td>\n",
       "      <td>246.264026</td>\n",
       "      <td>51.830751</td>\n",
       "      <td>126.0</td>\n",
       "      <td>211.0</td>\n",
       "      <td>240.0</td>\n",
       "      <td>274.5</td>\n",
       "      <td>564.0</td>\n",
       "    </tr>\n",
       "    <tr>\n",
       "      <th>fbs</th>\n",
       "      <td>303.0</td>\n",
       "      <td>0.148515</td>\n",
       "      <td>0.356198</td>\n",
       "      <td>0.0</td>\n",
       "      <td>0.0</td>\n",
       "      <td>0.0</td>\n",
       "      <td>0.0</td>\n",
       "      <td>1.0</td>\n",
       "    </tr>\n",
       "    <tr>\n",
       "      <th>restecg</th>\n",
       "      <td>303.0</td>\n",
       "      <td>0.528053</td>\n",
       "      <td>0.525860</td>\n",
       "      <td>0.0</td>\n",
       "      <td>0.0</td>\n",
       "      <td>1.0</td>\n",
       "      <td>1.0</td>\n",
       "      <td>2.0</td>\n",
       "    </tr>\n",
       "    <tr>\n",
       "      <th>thalach</th>\n",
       "      <td>303.0</td>\n",
       "      <td>149.646865</td>\n",
       "      <td>22.905161</td>\n",
       "      <td>71.0</td>\n",
       "      <td>133.5</td>\n",
       "      <td>153.0</td>\n",
       "      <td>166.0</td>\n",
       "      <td>202.0</td>\n",
       "    </tr>\n",
       "    <tr>\n",
       "      <th>exang</th>\n",
       "      <td>303.0</td>\n",
       "      <td>0.326733</td>\n",
       "      <td>0.469794</td>\n",
       "      <td>0.0</td>\n",
       "      <td>0.0</td>\n",
       "      <td>0.0</td>\n",
       "      <td>1.0</td>\n",
       "      <td>1.0</td>\n",
       "    </tr>\n",
       "    <tr>\n",
       "      <th>oldpeak</th>\n",
       "      <td>303.0</td>\n",
       "      <td>1.039604</td>\n",
       "      <td>1.161075</td>\n",
       "      <td>0.0</td>\n",
       "      <td>0.0</td>\n",
       "      <td>0.8</td>\n",
       "      <td>1.6</td>\n",
       "      <td>6.2</td>\n",
       "    </tr>\n",
       "    <tr>\n",
       "      <th>slope</th>\n",
       "      <td>303.0</td>\n",
       "      <td>1.399340</td>\n",
       "      <td>0.616226</td>\n",
       "      <td>0.0</td>\n",
       "      <td>1.0</td>\n",
       "      <td>1.0</td>\n",
       "      <td>2.0</td>\n",
       "      <td>2.0</td>\n",
       "    </tr>\n",
       "    <tr>\n",
       "      <th>ca</th>\n",
       "      <td>303.0</td>\n",
       "      <td>0.729373</td>\n",
       "      <td>1.022606</td>\n",
       "      <td>0.0</td>\n",
       "      <td>0.0</td>\n",
       "      <td>0.0</td>\n",
       "      <td>1.0</td>\n",
       "      <td>4.0</td>\n",
       "    </tr>\n",
       "    <tr>\n",
       "      <th>thal</th>\n",
       "      <td>303.0</td>\n",
       "      <td>2.313531</td>\n",
       "      <td>0.612277</td>\n",
       "      <td>0.0</td>\n",
       "      <td>2.0</td>\n",
       "      <td>2.0</td>\n",
       "      <td>3.0</td>\n",
       "      <td>3.0</td>\n",
       "    </tr>\n",
       "    <tr>\n",
       "      <th>target</th>\n",
       "      <td>303.0</td>\n",
       "      <td>0.544554</td>\n",
       "      <td>0.498835</td>\n",
       "      <td>0.0</td>\n",
       "      <td>0.0</td>\n",
       "      <td>1.0</td>\n",
       "      <td>1.0</td>\n",
       "      <td>1.0</td>\n",
       "    </tr>\n",
       "  </tbody>\n",
       "</table>\n",
       "</div>"
      ],
      "text/plain": [
       "          count        mean        std    min    25%    50%    75%    max\n",
       "age       303.0   54.366337   9.082101   29.0   47.5   55.0   61.0   77.0\n",
       "sex       303.0    0.683168   0.466011    0.0    0.0    1.0    1.0    1.0\n",
       "cp        303.0    0.966997   1.032052    0.0    0.0    1.0    2.0    3.0\n",
       "trestbps  303.0  131.623762  17.538143   94.0  120.0  130.0  140.0  200.0\n",
       "chol      303.0  246.264026  51.830751  126.0  211.0  240.0  274.5  564.0\n",
       "fbs       303.0    0.148515   0.356198    0.0    0.0    0.0    0.0    1.0\n",
       "restecg   303.0    0.528053   0.525860    0.0    0.0    1.0    1.0    2.0\n",
       "thalach   303.0  149.646865  22.905161   71.0  133.5  153.0  166.0  202.0\n",
       "exang     303.0    0.326733   0.469794    0.0    0.0    0.0    1.0    1.0\n",
       "oldpeak   303.0    1.039604   1.161075    0.0    0.0    0.8    1.6    6.2\n",
       "slope     303.0    1.399340   0.616226    0.0    1.0    1.0    2.0    2.0\n",
       "ca        303.0    0.729373   1.022606    0.0    0.0    0.0    1.0    4.0\n",
       "thal      303.0    2.313531   0.612277    0.0    2.0    2.0    3.0    3.0\n",
       "target    303.0    0.544554   0.498835    0.0    0.0    1.0    1.0    1.0"
      ]
     },
     "execution_count": 6,
     "metadata": {},
     "output_type": "execute_result"
    }
   ],
   "source": [
    "raw_df.describe().T"
   ]
  },
  {
   "cell_type": "code",
   "execution_count": 7,
   "id": "8b7fa345",
   "metadata": {},
   "outputs": [
    {
     "data": {
      "text/plain": [
       "age          41\n",
       "sex           2\n",
       "cp            4\n",
       "trestbps     49\n",
       "chol        152\n",
       "fbs           2\n",
       "restecg       3\n",
       "thalach      91\n",
       "exang         2\n",
       "oldpeak      40\n",
       "slope         3\n",
       "ca            5\n",
       "thal          4\n",
       "target        2\n",
       "dtype: int64"
      ]
     },
     "execution_count": 7,
     "metadata": {},
     "output_type": "execute_result"
    }
   ],
   "source": [
    "raw_df.nunique()"
   ]
  },
  {
   "cell_type": "markdown",
   "id": "4bc71cad",
   "metadata": {},
   "source": [
    "## Data Validation"
   ]
  },
  {
   "cell_type": "code",
   "execution_count": 8,
   "id": "6e514fd2",
   "metadata": {},
   "outputs": [],
   "source": [
    "data_df = raw_df.copy()"
   ]
  },
  {
   "cell_type": "markdown",
   "id": "6cbbce1e",
   "metadata": {},
   "source": [
    "### Remove duplicates"
   ]
  },
  {
   "cell_type": "code",
   "execution_count": 9,
   "id": "8c634660",
   "metadata": {},
   "outputs": [],
   "source": [
    "data_df.drop_duplicates(inplace=True)"
   ]
  },
  {
   "cell_type": "markdown",
   "id": "c7306cf0",
   "metadata": {},
   "source": [
    "number of duplicates found:"
   ]
  },
  {
   "cell_type": "code",
   "execution_count": 10,
   "id": "fd8bdaef",
   "metadata": {},
   "outputs": [
    {
     "data": {
      "text/plain": [
       "1"
      ]
     },
     "execution_count": 10,
     "metadata": {},
     "output_type": "execute_result"
    }
   ],
   "source": [
    "len(raw_df) - len(data_df)"
   ]
  },
  {
   "cell_type": "markdown",
   "id": "93ed274b",
   "metadata": {},
   "source": [
    "### Match the features to the description"
   ]
  },
  {
   "cell_type": "markdown",
   "id": "d239cc89",
   "metadata": {},
   "source": [
    "feature ‘ca’ ranges from 0–3, however, df.nunique() listed 0–4. So lets find the ‘4’"
   ]
  },
  {
   "cell_type": "code",
   "execution_count": 11,
   "id": "7f492ae9",
   "metadata": {},
   "outputs": [
    {
     "data": {
      "text/html": [
       "<div>\n",
       "<style scoped>\n",
       "    .dataframe tbody tr th:only-of-type {\n",
       "        vertical-align: middle;\n",
       "    }\n",
       "\n",
       "    .dataframe tbody tr th {\n",
       "        vertical-align: top;\n",
       "    }\n",
       "\n",
       "    .dataframe thead th {\n",
       "        text-align: right;\n",
       "    }\n",
       "</style>\n",
       "<table border=\"1\" class=\"dataframe\">\n",
       "  <thead>\n",
       "    <tr style=\"text-align: right;\">\n",
       "      <th></th>\n",
       "      <th>age</th>\n",
       "      <th>sex</th>\n",
       "      <th>cp</th>\n",
       "      <th>trestbps</th>\n",
       "      <th>chol</th>\n",
       "      <th>fbs</th>\n",
       "      <th>restecg</th>\n",
       "      <th>thalach</th>\n",
       "      <th>exang</th>\n",
       "      <th>oldpeak</th>\n",
       "      <th>slope</th>\n",
       "      <th>ca</th>\n",
       "      <th>thal</th>\n",
       "      <th>target</th>\n",
       "    </tr>\n",
       "  </thead>\n",
       "  <tbody>\n",
       "    <tr>\n",
       "      <th>92</th>\n",
       "      <td>52</td>\n",
       "      <td>1</td>\n",
       "      <td>2</td>\n",
       "      <td>138</td>\n",
       "      <td>223</td>\n",
       "      <td>0</td>\n",
       "      <td>1</td>\n",
       "      <td>169</td>\n",
       "      <td>0</td>\n",
       "      <td>0.0</td>\n",
       "      <td>2</td>\n",
       "      <td>4</td>\n",
       "      <td>2</td>\n",
       "      <td>1</td>\n",
       "    </tr>\n",
       "    <tr>\n",
       "      <th>158</th>\n",
       "      <td>58</td>\n",
       "      <td>1</td>\n",
       "      <td>1</td>\n",
       "      <td>125</td>\n",
       "      <td>220</td>\n",
       "      <td>0</td>\n",
       "      <td>1</td>\n",
       "      <td>144</td>\n",
       "      <td>0</td>\n",
       "      <td>0.4</td>\n",
       "      <td>1</td>\n",
       "      <td>4</td>\n",
       "      <td>3</td>\n",
       "      <td>1</td>\n",
       "    </tr>\n",
       "    <tr>\n",
       "      <th>163</th>\n",
       "      <td>38</td>\n",
       "      <td>1</td>\n",
       "      <td>2</td>\n",
       "      <td>138</td>\n",
       "      <td>175</td>\n",
       "      <td>0</td>\n",
       "      <td>1</td>\n",
       "      <td>173</td>\n",
       "      <td>0</td>\n",
       "      <td>0.0</td>\n",
       "      <td>2</td>\n",
       "      <td>4</td>\n",
       "      <td>2</td>\n",
       "      <td>1</td>\n",
       "    </tr>\n",
       "    <tr>\n",
       "      <th>251</th>\n",
       "      <td>43</td>\n",
       "      <td>1</td>\n",
       "      <td>0</td>\n",
       "      <td>132</td>\n",
       "      <td>247</td>\n",
       "      <td>1</td>\n",
       "      <td>0</td>\n",
       "      <td>143</td>\n",
       "      <td>1</td>\n",
       "      <td>0.1</td>\n",
       "      <td>1</td>\n",
       "      <td>4</td>\n",
       "      <td>3</td>\n",
       "      <td>0</td>\n",
       "    </tr>\n",
       "  </tbody>\n",
       "</table>\n",
       "</div>"
      ],
      "text/plain": [
       "     age  sex  cp  trestbps  chol  fbs  restecg  thalach  exang  oldpeak  \\\n",
       "92    52    1   2       138   223    0        1      169      0      0.0   \n",
       "158   58    1   1       125   220    0        1      144      0      0.4   \n",
       "163   38    1   2       138   175    0        1      173      0      0.0   \n",
       "251   43    1   0       132   247    1        0      143      1      0.1   \n",
       "\n",
       "     slope  ca  thal  target  \n",
       "92       2   4     2       1  \n",
       "158      1   4     3       1  \n",
       "163      2   4     2       1  \n",
       "251      1   4     3       0  "
      ]
     },
     "execution_count": 11,
     "metadata": {},
     "output_type": "execute_result"
    }
   ],
   "source": [
    "data_df[data_df.ca == 4]"
   ]
  },
  {
   "cell_type": "code",
   "execution_count": 12,
   "id": "5a051432",
   "metadata": {},
   "outputs": [],
   "source": [
    "data_df.loc[data_df.ca == 4, 'ca'] = np.NaN"
   ]
  },
  {
   "cell_type": "markdown",
   "id": "52af6753",
   "metadata": {},
   "source": [
    "Feature ‘thal’ ranges from 1–3, however, df.nunique() listed 0–3. There are two values of ‘0’. So lets change them to NaN."
   ]
  },
  {
   "cell_type": "code",
   "execution_count": 13,
   "id": "6fc42e38",
   "metadata": {},
   "outputs": [
    {
     "data": {
      "text/html": [
       "<div>\n",
       "<style scoped>\n",
       "    .dataframe tbody tr th:only-of-type {\n",
       "        vertical-align: middle;\n",
       "    }\n",
       "\n",
       "    .dataframe tbody tr th {\n",
       "        vertical-align: top;\n",
       "    }\n",
       "\n",
       "    .dataframe thead th {\n",
       "        text-align: right;\n",
       "    }\n",
       "</style>\n",
       "<table border=\"1\" class=\"dataframe\">\n",
       "  <thead>\n",
       "    <tr style=\"text-align: right;\">\n",
       "      <th></th>\n",
       "      <th>age</th>\n",
       "      <th>sex</th>\n",
       "      <th>cp</th>\n",
       "      <th>trestbps</th>\n",
       "      <th>chol</th>\n",
       "      <th>fbs</th>\n",
       "      <th>restecg</th>\n",
       "      <th>thalach</th>\n",
       "      <th>exang</th>\n",
       "      <th>oldpeak</th>\n",
       "      <th>slope</th>\n",
       "      <th>ca</th>\n",
       "      <th>thal</th>\n",
       "      <th>target</th>\n",
       "    </tr>\n",
       "  </thead>\n",
       "  <tbody>\n",
       "    <tr>\n",
       "      <th>48</th>\n",
       "      <td>53</td>\n",
       "      <td>0</td>\n",
       "      <td>2</td>\n",
       "      <td>128</td>\n",
       "      <td>216</td>\n",
       "      <td>0</td>\n",
       "      <td>0</td>\n",
       "      <td>115</td>\n",
       "      <td>0</td>\n",
       "      <td>0.0</td>\n",
       "      <td>2</td>\n",
       "      <td>0.0</td>\n",
       "      <td>0</td>\n",
       "      <td>1</td>\n",
       "    </tr>\n",
       "    <tr>\n",
       "      <th>281</th>\n",
       "      <td>52</td>\n",
       "      <td>1</td>\n",
       "      <td>0</td>\n",
       "      <td>128</td>\n",
       "      <td>204</td>\n",
       "      <td>1</td>\n",
       "      <td>1</td>\n",
       "      <td>156</td>\n",
       "      <td>1</td>\n",
       "      <td>1.0</td>\n",
       "      <td>1</td>\n",
       "      <td>0.0</td>\n",
       "      <td>0</td>\n",
       "      <td>0</td>\n",
       "    </tr>\n",
       "  </tbody>\n",
       "</table>\n",
       "</div>"
      ],
      "text/plain": [
       "     age  sex  cp  trestbps  chol  fbs  restecg  thalach  exang  oldpeak  \\\n",
       "48    53    0   2       128   216    0        0      115      0      0.0   \n",
       "281   52    1   0       128   204    1        1      156      1      1.0   \n",
       "\n",
       "     slope   ca  thal  target  \n",
       "48       2  0.0     0       1  \n",
       "281      1  0.0     0       0  "
      ]
     },
     "execution_count": 13,
     "metadata": {},
     "output_type": "execute_result"
    }
   ],
   "source": [
    "data_df[data_df.thal == 0]"
   ]
  },
  {
   "cell_type": "code",
   "execution_count": 14,
   "id": "f03c5ae2",
   "metadata": {},
   "outputs": [],
   "source": [
    "data_df.loc[data_df.thal == 0, 'thal'] = np.NaN"
   ]
  },
  {
   "cell_type": "markdown",
   "id": "f01be33c",
   "metadata": {},
   "source": [
    "### Handling invalid data"
   ]
  },
  {
   "cell_type": "markdown",
   "id": "c8766376",
   "metadata": {},
   "source": [
    "Lets use two methods of handling invalid rows:"
   ]
  },
  {
   "cell_type": "markdown",
   "id": "e21ffe57",
   "metadata": {},
   "source": [
    "Remove NaN thal values"
   ]
  },
  {
   "cell_type": "code",
   "execution_count": 15,
   "id": "183c5bc6",
   "metadata": {},
   "outputs": [],
   "source": [
    "data_df.dropna(subset=['thal'], inplace=True)"
   ]
  },
  {
   "cell_type": "markdown",
   "id": "8af864ec",
   "metadata": {},
   "source": [
    "Replace NaN ca values"
   ]
  },
  {
   "cell_type": "code",
   "execution_count": 16,
   "id": "d37804c4",
   "metadata": {},
   "outputs": [],
   "source": [
    "# Trying to find anothoer feature with high correlation to the ca"
   ]
  },
  {
   "cell_type": "code",
   "execution_count": 17,
   "id": "963ba46b",
   "metadata": {},
   "outputs": [
    {
     "data": {
      "image/png": "[encoded data removed]",
      "text/plain": [
       "<Figure size 1152x432 with 1 Axes>"
      ]
     },
     "metadata": {
      "needs_background": "light"
     },
     "output_type": "display_data"
    }
   ],
   "source": [
    "ca_pearson = data_df.corr('pearson')['ca'].drop(labels=['ca', 'target'])\n",
    "ca_spearman = data_df.corr('spearman')['ca'].drop(labels=['ca', 'target'])\n",
    "ca_kendall = data_df.corr('kendall')['ca'].drop(labels=['ca', 'target'])\n",
    "ca_corr = { 'pearson': ca_pearson, 'spearman': ca_spearman, 'kendall': ca_kendall }\n",
    "fig, ax = pyplot.subplots(figsize=(16,8))\n",
    "plt.axhline(y=0.8, color='r', linestyle='-')\n",
    "abs(pd.DataFrame(ca_corr)).plot(ax = ax, kind='bar', figsize=(16, 6), title = 'ca corr', rot=0);"
   ]
  },
  {
   "cell_type": "markdown",
   "id": "4e5b48f0",
   "metadata": {},
   "source": [
    "No luck, since there is no clear correlation with any other feature lets replace with the most common ca value"
   ]
  },
  {
   "cell_type": "code",
   "execution_count": 18,
   "id": "6977a26e",
   "metadata": {},
   "outputs": [],
   "source": [
    "most_common_ca = data_df.ca.value_counts().index[0]\n",
    "data_df.fillna(most_common_ca, inplace=True)"
   ]
  },
  {
   "cell_type": "code",
   "execution_count": null,
   "id": "d647641b",
   "metadata": {},
   "outputs": [],
   "source": []
  },
  {
   "cell_type": "code",
   "execution_count": 19,
   "id": "0000317d",
   "metadata": {},
   "outputs": [
    {
     "name": "stdout",
     "output_type": "stream",
     "text": [
      "<class 'pandas.core.frame.DataFrame'>\n",
      "Int64Index: 300 entries, 0 to 302\n",
      "Data columns (total 14 columns):\n",
      " #   Column    Non-Null Count  Dtype  \n",
      "---  ------    --------------  -----  \n",
      " 0   age       300 non-null    int64  \n",
      " 1   sex       300 non-null    int64  \n",
      " 2   cp        300 non-null    int64  \n",
      " 3   trestbps  300 non-null    int64  \n",
      " 4   chol      300 non-null    int64  \n",
      " 5   fbs       300 non-null    int64  \n",
      " 6   restecg   300 non-null    int64  \n",
      " 7   thalach   300 non-null    int64  \n",
      " 8   exang     300 non-null    int64  \n",
      " 9   oldpeak   300 non-null    float64\n",
      " 10  slope     300 non-null    int64  \n",
      " 11  ca        300 non-null    float64\n",
      " 12  thal      300 non-null    float64\n",
      " 13  target    300 non-null    int64  \n",
      "dtypes: float64(3), int64(11)\n",
      "memory usage: 35.2 KB\n"
     ]
    }
   ],
   "source": [
    "data_df.info()"
   ]
  },
  {
   "cell_type": "markdown",
   "id": "8bbe9c9e",
   "metadata": {},
   "source": [
    "based on the info, describe and data set description, lets classify the features to continuous and categorical"
   ]
  },
  {
   "cell_type": "markdown",
   "id": "ea4cc3d4",
   "metadata": {},
   "source": [
    "## Continuous Features"
   ]
  },
  {
   "cell_type": "markdown",
   "id": "574676c3",
   "metadata": {},
   "source": [
    "feature|Description|Type|Units|Min |Max\n",
    ":------- |:---------             |:--- |:----  |:---|:---\n",
    "age      |age                    | int | years |29  |77\n",
    "trestbps | resting blood pressure| int | mm Hg | 94 |200\n",
    "chol|serum cholestoral| int | mg/dl | 126 | 564\n",
    "thalach | maximum heart rate achieved                        | int   | BPM | 71  | 202\n",
    "oldpeak | ST depression induced by exercise relative to rest | float |  | 0.0 | 6.2\n",
    "ca | number of major vessels | float |  | 0.0 | 3.0\n",
    "\n"
   ]
  },
  {
   "cell_type": "markdown",
   "id": "351e0236",
   "metadata": {},
   "source": [
    "## Categorical Features"
   ]
  },
  {
   "cell_type": "markdown",
   "id": "b6bda7c2",
   "metadata": {},
   "source": [
    "feature  |Description                                    | 0   | 1   | 2   | 3          \n",
    ":------- |:-------------------------------------         |:---- |:----|:----|:----\n",
    "sex     | sex                                           | female| male\n",
    "cp      | chest pain type                               | typical_angina | atypical_angina | non-anginal pain | asymtomatic\n",
    "restecg | resting electrocardiographic results          | normal | ST-T wave abnormality| left ventricular hypertrophy\n",
    "fbs     | fasting blood sugar > 120 mg/dl               | false | true   \n",
    "exang   | exercise induced angina                       | no         | yes \n",
    "slope   | the slope of the peak exercise ST segment     |  upsloping | flat | downsloping\n",
    "thal    | maximum heart rate achieved                   | | normal | fixed defect | reversable defect\n",
    "\n"
   ]
  },
  {
   "cell_type": "markdown",
   "id": "af20bf8b",
   "metadata": {},
   "source": [
    "**Disclaimer**: some of the units were not in the original post, so I looked around other kaggle projects,\n",
    "    e.g. https://www.kaggle.com/raasik/heart-disease-beginner-eda-and-machine-learning"
   ]
  },
  {
   "cell_type": "code",
   "execution_count": 20,
   "id": "cea2bdbe",
   "metadata": {},
   "outputs": [],
   "source": [
    "data_df['target'] = data_df.target.replace({1: \"Disease\", 0: \"No_disease\"}).astype(\"category\")\n",
    "data_df['sex'] = data_df.sex.replace({1: \"Male\", 0: \"Female\"}).astype(\"category\")\n",
    "data_df['cp'] = data_df.cp.replace({0: \"typical_angina\", \n",
    "                          1: \"atypical_angina\", \n",
    "                          2:\"non-anginal pain\",\n",
    "                          3: \"asymtomatic\"}).astype(\"category\")\n",
    "data_df['restecg'] = data_df.restecg.replace({0: \"Normal\",\n",
    "                                              1: \"ST-T\", \n",
    "                                              2:\"left ventricular\"}).astype(\"category\")\n",
    "data_df['exang'] = data_df.exang.replace({1: \"Yes\", 0: \"No\"}).astype(\"category\")\n",
    "data_df['fbs'] = data_df.fbs.replace({1: \"True\", 0: \"False\"}).astype(\"category\")\n",
    "data_df['slope'] = data_df.slope.replace({0: \"upsloping\", 1: \"flat\",2:\"downsloping\"}).astype(\"category\")\n",
    "data_df['thal'] = data_df.thal.replace({1: \"fixed_defect\", 2: \"reversable_defect\", 3:\"normal\"}).astype(\"category\")"
   ]
  },
  {
   "cell_type": "markdown",
   "id": "17e6d322",
   "metadata": {},
   "source": [
    "Ploting a correlation matrix of the numerical values in the dataset"
   ]
  },
  {
   "cell_type": "code",
   "execution_count": 21,
   "id": "963a65f0",
   "metadata": {},
   "outputs": [
    {
     "data": {
      "image/png": "[encoded data removed]",
      "text/plain": [
       "<Figure size 1152x576 with 2 Axes>"
      ]
     },
     "metadata": {
      "needs_background": "light"
     },
     "output_type": "display_data"
    }
   ],
   "source": [
    "pyplot.subplots(figsize=(16,8))\n",
    "sns.heatmap(abs(data_df._get_numeric_data().corr()), annot = True);"
   ]
  },
  {
   "cell_type": "markdown",
   "id": "365e57ba",
   "metadata": {},
   "source": [
    "as we can see there is no strong correlation between the Continuous features"
   ]
  },
  {
   "cell_type": "markdown",
   "id": "e009b756",
   "metadata": {},
   "source": [
    "**one hot encoding**"
   ]
  },
  {
   "cell_type": "code",
   "execution_count": 22,
   "id": "d281ac3b",
   "metadata": {},
   "outputs": [],
   "source": [
    "cat_dummy_df = pd.get_dummies(data_df)"
   ]
  },
  {
   "cell_type": "code",
   "execution_count": 23,
   "id": "168c14c9",
   "metadata": {},
   "outputs": [],
   "source": [
    "allCorr = abs(cat_dummy_df.corr()).unstack().sort_values()"
   ]
  },
  {
   "cell_type": "code",
   "execution_count": 24,
   "id": "77dea06a",
   "metadata": {},
   "outputs": [
    {
     "data": {
      "text/plain": [
       "slope_downsloping       slope_flat                0.869158\n",
       "slope_flat              slope_downsloping         0.869158\n",
       "thal_normal             thal_reversable_defect    0.883980\n",
       "thal_reversable_defect  thal_normal               0.883980\n",
       "restecg_ST-T            restecg_Normal            0.973680\n",
       "restecg_Normal          restecg_ST-T              0.973680\n",
       "dtype: float64"
      ]
     },
     "execution_count": 24,
     "metadata": {},
     "output_type": "execute_result"
    }
   ],
   "source": [
    "allCorr[(allCorr < 0.999) & (allCorr > 0.7)]"
   ]
  },
  {
   "cell_type": "markdown",
   "id": "d0a209fe",
   "metadata": {},
   "source": [
    "we can see that there is a strong correlation between some of the categorical features between themselves, but not\n",
    "with other categorical features"
   ]
  },
  {
   "cell_type": "markdown",
   "id": "c6cf9f7b",
   "metadata": {},
   "source": [
    "# Data Preprocessing"
   ]
  },
  {
   "cell_type": "markdown",
   "id": "a4adf03b",
   "metadata": {},
   "source": [
    "### Outliers"
   ]
  },
  {
   "cell_type": "markdown",
   "id": "56713704",
   "metadata": {},
   "source": [
    "Finding the outliers count for the numeric features"
   ]
  },
  {
   "cell_type": "code",
   "execution_count": 25,
   "id": "54f6ee89",
   "metadata": {},
   "outputs": [],
   "source": [
    "numeric_data = data_df._get_numeric_data()\n",
    "Q1 = numeric_data.quantile(0.25)\n",
    "Q3 = numeric_data.quantile(0.75)\n",
    "IQR = Q3 - Q1"
   ]
  },
  {
   "cell_type": "code",
   "execution_count": 26,
   "id": "d2691f06",
   "metadata": {},
   "outputs": [
    {
     "data": {
      "image/png": "[encoded data removed]",
      "text/plain": [
       "<Figure size 1152x576 with 1 Axes>"
      ]
     },
     "metadata": {
      "needs_background": "light"
     },
     "output_type": "display_data"
    }
   ],
   "source": [
    "outliers = ((numeric_data < (Q1 - 1.5 * IQR)) | (numeric_data > (Q3 + 1.5 * IQR))).sum()\n",
    "\n",
    "outliers.plot(kind='bar', title='Outliers count', figsize=(16,8), ylabel = 'count', rot = 0);"
   ]
  },
  {
   "cell_type": "code",
   "execution_count": 27,
   "id": "e12e8294",
   "metadata": {},
   "outputs": [
    {
     "data": {
      "image/png": "[encoded data removed]",
      "text/plain": [
       "<Figure size 1152x576 with 6 Axes>"
      ]
     },
     "metadata": {
      "needs_background": "light"
     },
     "output_type": "display_data"
    }
   ],
   "source": [
    "numeric_data.plot(kind='box', subplots=True, sharey=False, figsize=(16,8));"
   ]
  },
  {
   "cell_type": "code",
   "execution_count": 28,
   "id": "6348ba51",
   "metadata": {},
   "outputs": [],
   "source": [
    "# Removing the outliers\n",
    "\n",
    "# normalize the df using Z score to normal distribution\n",
    "# keep the entries under 1.5\n",
    "\n",
    "from scipy import stats\n",
    "\n",
    "z_scores = stats.zscore(numeric_data)\n",
    "abs_z_scores = np.abs(z_scores)\n",
    "keep_entries = (abs_z_scores < 1.5).all(axis=1)\n",
    "numeric_wo_outliers = numeric_data[keep_entries]"
   ]
  },
  {
   "cell_type": "code",
   "execution_count": 29,
   "id": "3a3fc712",
   "metadata": {},
   "outputs": [
    {
     "name": "stdout",
     "output_type": "stream",
     "text": [
      "<class 'pandas.core.frame.DataFrame'>\n",
      "Int64Index: 300 entries, 0 to 302\n",
      "Data columns (total 6 columns):\n",
      " #   Column    Non-Null Count  Dtype  \n",
      "---  ------    --------------  -----  \n",
      " 0   age       300 non-null    int64  \n",
      " 1   trestbps  300 non-null    int64  \n",
      " 2   chol      300 non-null    int64  \n",
      " 3   thalach   300 non-null    int64  \n",
      " 4   oldpeak   300 non-null    float64\n",
      " 5   ca        300 non-null    float64\n",
      "dtypes: float64(2), int64(4)\n",
      "memory usage: 16.4 KB\n"
     ]
    }
   ],
   "source": [
    "numeric_data.info()"
   ]
  },
  {
   "cell_type": "markdown",
   "id": "d187603a",
   "metadata": {},
   "source": [
    "Removing the outliers"
   ]
  },
  {
   "cell_type": "code",
   "execution_count": 30,
   "id": "467eab16",
   "metadata": {},
   "outputs": [
    {
     "data": {
      "image/png": "[encoded data removed]",
      "text/plain": [
       "<Figure size 1152x576 with 6 Axes>"
      ]
     },
     "metadata": {
      "needs_background": "light"
     },
     "output_type": "display_data"
    }
   ],
   "source": [
    "numeric_wo_outliers.plot(kind='box', subplots=True, sharey=False, figsize=(16,8));"
   ]
  },
  {
   "cell_type": "markdown",
   "id": "e8e8b806",
   "metadata": {},
   "source": [
    "# Data Preprocessing"
   ]
  },
  {
   "cell_type": "markdown",
   "id": "bb0bdb82",
   "metadata": {},
   "source": [
    "## Reducing dimension using SVD"
   ]
  },
  {
   "cell_type": "code",
   "execution_count": 31,
   "id": "f5cb840e",
   "metadata": {},
   "outputs": [],
   "source": [
    "# https://www.kaggle.com/lorenzodenisi/svd-decomposition-and-applications"
   ]
  },
  {
   "cell_type": "code",
   "execution_count": 32,
   "id": "c06ca73a",
   "metadata": {},
   "outputs": [],
   "source": [
    "from numpy import linalg\n",
    "\n",
    "def svd(A, tol=1e-5):\n",
    "    #singular values and right singular vectors coming from eigenvalues and eigenvectors of A' x A\n",
    "    eigs, V = linalg.eig(A.T.dot(A))\n",
    "\n",
    "    #singular values are the square root of the eigenvalues\n",
    "    sing_vals = np.sqrt(eigs)\n",
    "\n",
    "    #sort both sigular values and right singular vector\n",
    "    idx = np.argsort(sing_vals)\n",
    "\n",
    "    sing_vals = sing_vals[idx[::-1]]\n",
    "    V = V[:, idx[::-1]]\n",
    "\n",
    "    #remove zero singular values below tol\n",
    "    sing_vals_trunc = sing_vals[sing_vals>tol]\n",
    "    V = V[:, sing_vals>tol]\n",
    "\n",
    "    #is not necessary to store the entire sigma matrix, so only the diagonal is returned\n",
    "    sigma = sing_vals_trunc\n",
    "\n",
    "    #evaluate U matrix\n",
    "    U = A @ V /sing_vals_trunc\n",
    "    \n",
    "    return U.real, sigma.real, V.T.real\n",
    "\n",
    "def truncate(U, S, V, k):\n",
    "    U_trunc = U[:, :k]\n",
    "    S_trunc = S[:k]\n",
    "    V_trunc = V[:k, :]\n",
    "    return U_trunc, S_trunc, V_trunc"
   ]
  },
  {
   "cell_type": "code",
   "execution_count": 33,
   "id": "a2e979fb",
   "metadata": {},
   "outputs": [],
   "source": [
    "# reducing parameters to k = 2\n",
    "\n",
    "k = 2\n",
    "\n",
    "A = numeric_data.values\n",
    "\n",
    "U, S, Vt = svd(A)"
   ]
  },
  {
   "cell_type": "code",
   "execution_count": 34,
   "id": "d3f9627a",
   "metadata": {},
   "outputs": [
    {
     "data": {
      "image/png": "[encoded data removed]",
      "text/plain": [
       "<Figure size 1152x576 with 1 Axes>"
      ]
     },
     "metadata": {
      "needs_background": "light"
     },
     "output_type": "display_data"
    }
   ],
   "source": [
    "plt.figure(figsize=(16,8))\n",
    "plt.barh(numeric_data.columns[::-1], S[::-1])\n",
    "plt.title(f\"Singular values, (first {k} are kept)\")\n",
    "plt.gca().xaxis.grid(True)"
   ]
  },
  {
   "cell_type": "markdown",
   "id": "e8e0aefa",
   "metadata": {},
   "source": [
    "It seems that the SVD didn't separate well the samples"
   ]
  },
  {
   "cell_type": "code",
   "execution_count": 35,
   "id": "4bd0c5b0",
   "metadata": {},
   "outputs": [
    {
     "data": {
      "image/png": "[encoded data removed]",
      "text/plain": [
       "<Figure size 432x288 with 1 Axes>"
      ]
     },
     "metadata": {
      "needs_background": "light"
     },
     "output_type": "display_data"
    }
   ],
   "source": [
    "# plot the linear combination of the features using SVD\n",
    "\n",
    "U_trunc, S_trunc, Vt_trunc = truncate(U, S, Vt, k)\n",
    "\n",
    "trunc_A = U_trunc @ np.diag(S_trunc)\n",
    "reduced_data = pd.DataFrame(trunc_A)\n",
    "\n",
    "reduced_data['target'] = data_df.target\n",
    "\n",
    "# groups = reduced_data.groupby('target')\n",
    "\n",
    "# Plot\n",
    "fig, ax = plt.subplots()\n",
    "\n",
    "ax.plot(reduced_data[reduced_data.target == \"No_disease\"][0], reduced_data[reduced_data.target == \"No_disease\"][1], \n",
    "       marker='o', linestyle='', ms=12, label=\"No_disease\")\n",
    "ax.plot(reduced_data[reduced_data.target == \"Disease\"][0], reduced_data[reduced_data.target == \"Disease\"][1], \n",
    "       marker='x', linestyle='', ms=12, label=\"Disease\")\n",
    "ax.legend()\n",
    "\n",
    "plt.show()"
   ]
  },
  {
   "cell_type": "markdown",
   "id": "f15bb806",
   "metadata": {},
   "source": [
    "## Reducing dimension using PCA"
   ]
  },
  {
   "cell_type": "code",
   "execution_count": 36,
   "id": "73db38b5",
   "metadata": {},
   "outputs": [],
   "source": [
    "data_for_pca = numeric_data.copy()"
   ]
  },
  {
   "cell_type": "code",
   "execution_count": 37,
   "id": "2558ef3b",
   "metadata": {},
   "outputs": [
    {
     "data": {
      "text/html": [
       "<div>\n",
       "<style scoped>\n",
       "    .dataframe tbody tr th:only-of-type {\n",
       "        vertical-align: middle;\n",
       "    }\n",
       "\n",
       "    .dataframe tbody tr th {\n",
       "        vertical-align: top;\n",
       "    }\n",
       "\n",
       "    .dataframe thead th {\n",
       "        text-align: right;\n",
       "    }\n",
       "</style>\n",
       "<table border=\"1\" class=\"dataframe\">\n",
       "  <thead>\n",
       "    <tr style=\"text-align: right;\">\n",
       "      <th></th>\n",
       "      <th>age</th>\n",
       "      <th>trestbps</th>\n",
       "      <th>chol</th>\n",
       "      <th>thalach</th>\n",
       "      <th>oldpeak</th>\n",
       "      <th>ca</th>\n",
       "    </tr>\n",
       "  </thead>\n",
       "  <tbody>\n",
       "    <tr>\n",
       "      <th>0</th>\n",
       "      <td>63</td>\n",
       "      <td>145</td>\n",
       "      <td>233</td>\n",
       "      <td>150</td>\n",
       "      <td>2.3</td>\n",
       "      <td>0.0</td>\n",
       "    </tr>\n",
       "    <tr>\n",
       "      <th>1</th>\n",
       "      <td>37</td>\n",
       "      <td>130</td>\n",
       "      <td>250</td>\n",
       "      <td>187</td>\n",
       "      <td>3.5</td>\n",
       "      <td>0.0</td>\n",
       "    </tr>\n",
       "    <tr>\n",
       "      <th>2</th>\n",
       "      <td>41</td>\n",
       "      <td>130</td>\n",
       "      <td>204</td>\n",
       "      <td>172</td>\n",
       "      <td>1.4</td>\n",
       "      <td>0.0</td>\n",
       "    </tr>\n",
       "    <tr>\n",
       "      <th>3</th>\n",
       "      <td>56</td>\n",
       "      <td>120</td>\n",
       "      <td>236</td>\n",
       "      <td>178</td>\n",
       "      <td>0.8</td>\n",
       "      <td>0.0</td>\n",
       "    </tr>\n",
       "    <tr>\n",
       "      <th>4</th>\n",
       "      <td>57</td>\n",
       "      <td>120</td>\n",
       "      <td>354</td>\n",
       "      <td>163</td>\n",
       "      <td>0.6</td>\n",
       "      <td>0.0</td>\n",
       "    </tr>\n",
       "  </tbody>\n",
       "</table>\n",
       "</div>"
      ],
      "text/plain": [
       "   age  trestbps  chol  thalach  oldpeak   ca\n",
       "0   63       145   233      150      2.3  0.0\n",
       "1   37       130   250      187      3.5  0.0\n",
       "2   41       130   204      172      1.4  0.0\n",
       "3   56       120   236      178      0.8  0.0\n",
       "4   57       120   354      163      0.6  0.0"
      ]
     },
     "execution_count": 37,
     "metadata": {},
     "output_type": "execute_result"
    }
   ],
   "source": [
    "data_for_pca.head()"
   ]
  },
  {
   "cell_type": "code",
   "execution_count": 38,
   "id": "0154bf6c",
   "metadata": {},
   "outputs": [],
   "source": [
    "from sklearn import preprocessing\n",
    "\n",
    "scaled_data = preprocessing.scale(data_for_pca)"
   ]
  },
  {
   "cell_type": "code",
   "execution_count": 39,
   "id": "54a080b5",
   "metadata": {},
   "outputs": [],
   "source": [
    "from sklearn.decomposition import PCA\n",
    "pca = PCA()"
   ]
  },
  {
   "cell_type": "code",
   "execution_count": 40,
   "id": "f6ba724c",
   "metadata": {},
   "outputs": [],
   "source": [
    "pca.fit(scaled_data) # do the math\n",
    "pca_data = pca.transform(scaled_data) # get PCA coordinates for scaled_data"
   ]
  },
  {
   "cell_type": "code",
   "execution_count": 41,
   "id": "ca2ad16d",
   "metadata": {},
   "outputs": [],
   "source": [
    "per_var = np.round(pca.explained_variance_ratio_* 100, decimals=1)\n",
    "pc_labels = ['PC' + str(x) for x in range(1, len(per_var)+1)]"
   ]
  },
  {
   "cell_type": "code",
   "execution_count": 42,
   "id": "61830ff5",
   "metadata": {},
   "outputs": [
    {
     "data": {
      "image/png": "[encoded data removed]",
      "text/plain": [
       "<Figure size 1152x576 with 1 Axes>"
      ]
     },
     "metadata": {
      "needs_background": "light"
     },
     "output_type": "display_data"
    }
   ],
   "source": [
    "plt.figure(figsize=(16,8))\n",
    "plt.bar(x=range(1,len(per_var)+1), height=per_var, tick_label=pc_labels)\n",
    "plt.ylabel('Percentage of Explained Variance')\n",
    "plt.xlabel('Principal Component')\n",
    "plt.title('Scree Plot')\n",
    "plt.show()"
   ]
  },
  {
   "cell_type": "code",
   "execution_count": 43,
   "id": "984e9cf4",
   "metadata": {},
   "outputs": [
    {
     "data": {
      "image/png": "[encoded data removed]",
      "text/plain": [
       "<Figure size 1152x576 with 1 Axes>"
      ]
     },
     "metadata": {
      "needs_background": "light"
     },
     "output_type": "display_data"
    }
   ],
   "source": [
    "plt.figure(figsize=(16,8))\n",
    "plt.plot(np.cumsum(pca.explained_variance_ratio_))\n",
    "plt.xlabel('number of components')\n",
    "plt.ylabel('cumulative explained variance');"
   ]
  },
  {
   "cell_type": "markdown",
   "id": "c810da8f",
   "metadata": {},
   "source": [
    "The PCA shows that the component variation is approximately the same and its hard to use to reduce the dimensions."
   ]
  },
  {
   "cell_type": "markdown",
   "id": "cbb9c961",
   "metadata": {},
   "source": [
    "Finding the most varied features"
   ]
  },
  {
   "cell_type": "code",
   "execution_count": 44,
   "id": "fedc6f84",
   "metadata": {},
   "outputs": [
    {
     "data": {
      "text/plain": [
       "array(['age', 'ca', 'thalach', 'oldpeak', 'trestbps', 'chol'],\n",
       "      dtype=object)"
      ]
     },
     "execution_count": 44,
     "metadata": {},
     "output_type": "execute_result"
    }
   ],
   "source": [
    "\n",
    "\n",
    "loading_scores = pd.Series(pca.components_[0], index=data_for_pca.columns)\n",
    "sorted_loading_scores = loading_scores.abs().sort_values(ascending=False)\n",
    "sorted_loading_scores.index.values"
   ]
  },
  {
   "cell_type": "markdown",
   "id": "bf06bd3d",
   "metadata": {},
   "source": [
    "## Performing laplace transform python"
   ]
  },
  {
   "cell_type": "markdown",
   "id": "a517b34c",
   "metadata": {},
   "source": [
    "Lets choose one of the categorical data with an non-uniform distribution"
   ]
  },
  {
   "cell_type": "code",
   "execution_count": 45,
   "id": "5d85214e",
   "metadata": {},
   "outputs": [
    {
     "data": {
      "text/plain": [
       "<AxesSubplot:title={'center':'Target Counts'}, xlabel='restecg'>"
      ]
     },
     "execution_count": 45,
     "metadata": {},
     "output_type": "execute_result"
    },
    {
     "data": {
      "image/png": "[encoded data removed]",
      "text/plain": [
       "<Figure size 432x288 with 1 Axes>"
      ]
     },
     "metadata": {
      "needs_background": "light"
     },
     "output_type": "display_data"
    }
   ],
   "source": [
    "data_df.groupby('restecg').count()['target'].plot(kind='bar', title='Target Counts', rot=0)"
   ]
  },
  {
   "cell_type": "code",
   "execution_count": 46,
   "id": "dd85c03a",
   "metadata": {},
   "outputs": [],
   "source": [
    "def laplce_smoothing(data, a, K):\n",
    "    return (data + a) / (data.sum() + K*a)"
   ]
  },
  {
   "cell_type": "code",
   "execution_count": 47,
   "id": "3923ee38",
   "metadata": {},
   "outputs": [],
   "source": [
    "restacg_before_lap = data_df.groupby('restecg').count()['target']"
   ]
  },
  {
   "cell_type": "code",
   "execution_count": 48,
   "id": "8d81f9f4",
   "metadata": {},
   "outputs": [],
   "source": [
    "restacg_df = pd.DataFrame()\n",
    "restacg_df['OriginalData'] = restacg_before_lap\n",
    "restacg_df['AfterLaplace a=50, K=1'] = laplce_smoothing(restacg_before_lap, a = 50 , K = 1) * restacg_before_lap.sum()\n",
    "restacg_df['AfterLaplace, a=50, K=2'] = laplce_smoothing(restacg_before_lap, a = 50 , K = 2) * restacg_before_lap.sum()\n",
    "restacg_df['AfterLaplace, a=25, K=1'] = laplce_smoothing(restacg_before_lap, a = 25 , K = 1) * restacg_before_lap.sum()\n",
    "restacg_df['AfterLaplace, a=25, K=2'] = laplce_smoothing(restacg_before_lap, a = 25 , K = 2) * restacg_before_lap.sum()"
   ]
  },
  {
   "cell_type": "code",
   "execution_count": 49,
   "id": "f65d6bad",
   "metadata": {},
   "outputs": [
    {
     "data": {
      "text/plain": [
       "<AxesSubplot:xlabel='restecg'>"
      ]
     },
     "execution_count": 49,
     "metadata": {},
     "output_type": "execute_result"
    },
    {
     "data": {
      "text/plain": [
       "<Figure size 1152x576 with 0 Axes>"
      ]
     },
     "metadata": {},
     "output_type": "display_data"
    },
    {
     "data": {
      "image/png": "[encoded data removed]",
      "text/plain": [
       "<Figure size 1152x576 with 1 Axes>"
      ]
     },
     "metadata": {
      "needs_background": "light"
     },
     "output_type": "display_data"
    }
   ],
   "source": [
    "plt.figure(figsize=(16,8))\n",
    "restacg_df.plot(kind='bar', figsize=(16,8))"
   ]
  },
  {
   "cell_type": "markdown",
   "id": "50600127",
   "metadata": {},
   "source": [
    "we can see that using K=2, increases the restacg 2, while maintating the 0 and 1 samples of 1 and 2 the same. using\n",
    "diffrent a, controls of how much restacg 2 will increase."
   ]
  },
  {
   "cell_type": "markdown",
   "id": "fe117958",
   "metadata": {},
   "source": [
    "# Data Engineering"
   ]
  },
  {
   "cell_type": "markdown",
   "id": "d589d323",
   "metadata": {},
   "source": [
    "Lets convert some of the continuous features to \"categorical\" using bins"
   ]
  },
  {
   "cell_type": "code",
   "execution_count": 50,
   "id": "19e5742b",
   "metadata": {},
   "outputs": [
    {
     "data": {
      "text/plain": [
       "<AxesSubplot:ylabel='target'>"
      ]
     },
     "execution_count": 50,
     "metadata": {},
     "output_type": "execute_result"
    },
    {
     "data": {
      "image/png": "[encoded data removed]",
      "text/plain": [
       "<Figure size 432x288 with 1 Axes>"
      ]
     },
     "metadata": {},
     "output_type": "display_data"
    }
   ],
   "source": [
    "data_df.target.value_counts(normalize=True).plot(kind='pie')"
   ]
  },
  {
   "cell_type": "code",
   "execution_count": 51,
   "id": "deb7cbac",
   "metadata": {},
   "outputs": [
    {
     "data": {
      "text/plain": [
       "<AxesSubplot:ylabel='sex'>"
      ]
     },
     "execution_count": 51,
     "metadata": {},
     "output_type": "execute_result"
    },
    {
     "data": {
      "image/png": "[encoded data removed]",
      "text/plain": [
       "<Figure size 432x288 with 1 Axes>"
      ]
     },
     "metadata": {},
     "output_type": "display_data"
    }
   ],
   "source": [
    "data_df.sex.value_counts(normalize=True).plot(kind='pie')"
   ]
  },
  {
   "cell_type": "code",
   "execution_count": null,
   "id": "438be456",
   "metadata": {},
   "outputs": [],
   "source": []
  },
  {
   "cell_type": "code",
   "execution_count": 52,
   "id": "13b4b616",
   "metadata": {},
   "outputs": [],
   "source": [
    "age_labels = [\"20-30\",\"30-40\",\"40-50\",\"50-60\", \"60-70\", \"70-80\", \"80-90\", \"90+\"]\n",
    "data_df['age_bins'] = pd.cut(data_df.age,bins=[20,30,40,50,60,70,80,90,120], labels=age_labels)"
   ]
  },
  {
   "cell_type": "code",
   "execution_count": 53,
   "id": "877e5c28",
   "metadata": {},
   "outputs": [],
   "source": [
    "hr_labels = [\"60-80\",\"80-100\",\"100-120\",\"120-140\",\"140-160\", \"160-180\", \"180-200\", \"200-220\"]\n",
    "data_df['hr_bins'] = pd.cut(data_df.thalach,bins=[60,80,100,120,140,160,180,200, 220], labels=hr_labels)"
   ]
  },
  {
   "cell_type": "markdown",
   "id": "065fdc41",
   "metadata": {},
   "source": [
    "## Plot all categorical features"
   ]
  },
  {
   "cell_type": "code",
   "execution_count": 54,
   "id": "892e1878",
   "metadata": {},
   "outputs": [],
   "source": [
    "categorical = ['sex', 'cp', 'fbs', 'restecg', 'slope', 'thal']"
   ]
  },
  {
   "cell_type": "code",
   "execution_count": null,
   "id": "bc98de59",
   "metadata": {},
   "outputs": [],
   "source": []
  },
  {
   "cell_type": "code",
   "execution_count": 55,
   "id": "18e9db9f",
   "metadata": {},
   "outputs": [
    {
     "data": {
      "image/png": "[encoded data removed]",
      "text/plain": [
       "<Figure size 1152x2304 with 6 Axes>"
      ]
     },
     "metadata": {
      "needs_background": "light"
     },
     "output_type": "display_data"
    }
   ],
   "source": [
    "fig, axs = plt.subplots(len(categorical), 1)\n",
    "for value, cat in enumerate(categorical):\n",
    "    data_to_plot = data_df.groupby(by=[cat, 'target'])['target'].count().unstack().plot(\n",
    "        kind='bar',\n",
    "        ax = axs[value],\n",
    "        figsize = (16,32),\n",
    "        rot=0);"
   ]
  },
  {
   "cell_type": "markdown",
   "id": "dca99941",
   "metadata": {},
   "source": [
    "**Categorical** insights:\n",
    "The following conditions may lead to greater cause of disease:\n",
    "1. Being a female (sex)\n",
    "2. Having a non-anigal pain (cp)\n",
    "3. Having a st-t (restacg)\n",
    "4. Having a donwsloping (slope)\n",
    "5. Having a reverseble defect (thal)\n",
    "\n",
    "The fbs feature doesn't seem to have any infulence"
   ]
  },
  {
   "cell_type": "code",
   "execution_count": null,
   "id": "d4434f4d",
   "metadata": {},
   "outputs": [],
   "source": []
  },
  {
   "cell_type": "markdown",
   "id": "a0dea015",
   "metadata": {},
   "source": [
    "## Plot all numerical features"
   ]
  },
  {
   "cell_type": "code",
   "execution_count": 56,
   "id": "c579f187",
   "metadata": {},
   "outputs": [
    {
     "data": {
      "text/html": [
       "<div>\n",
       "<style scoped>\n",
       "    .dataframe tbody tr th:only-of-type {\n",
       "        vertical-align: middle;\n",
       "    }\n",
       "\n",
       "    .dataframe tbody tr th {\n",
       "        vertical-align: top;\n",
       "    }\n",
       "\n",
       "    .dataframe thead th {\n",
       "        text-align: right;\n",
       "    }\n",
       "</style>\n",
       "<table border=\"1\" class=\"dataframe\">\n",
       "  <thead>\n",
       "    <tr style=\"text-align: right;\">\n",
       "      <th></th>\n",
       "      <th>age</th>\n",
       "      <th>trestbps</th>\n",
       "      <th>chol</th>\n",
       "      <th>thalach</th>\n",
       "      <th>oldpeak</th>\n",
       "      <th>ca</th>\n",
       "    </tr>\n",
       "  </thead>\n",
       "  <tbody>\n",
       "    <tr>\n",
       "      <th>0</th>\n",
       "      <td>63</td>\n",
       "      <td>145</td>\n",
       "      <td>233</td>\n",
       "      <td>150</td>\n",
       "      <td>2.3</td>\n",
       "      <td>0.0</td>\n",
       "    </tr>\n",
       "    <tr>\n",
       "      <th>1</th>\n",
       "      <td>37</td>\n",
       "      <td>130</td>\n",
       "      <td>250</td>\n",
       "      <td>187</td>\n",
       "      <td>3.5</td>\n",
       "      <td>0.0</td>\n",
       "    </tr>\n",
       "    <tr>\n",
       "      <th>2</th>\n",
       "      <td>41</td>\n",
       "      <td>130</td>\n",
       "      <td>204</td>\n",
       "      <td>172</td>\n",
       "      <td>1.4</td>\n",
       "      <td>0.0</td>\n",
       "    </tr>\n",
       "    <tr>\n",
       "      <th>3</th>\n",
       "      <td>56</td>\n",
       "      <td>120</td>\n",
       "      <td>236</td>\n",
       "      <td>178</td>\n",
       "      <td>0.8</td>\n",
       "      <td>0.0</td>\n",
       "    </tr>\n",
       "    <tr>\n",
       "      <th>4</th>\n",
       "      <td>57</td>\n",
       "      <td>120</td>\n",
       "      <td>354</td>\n",
       "      <td>163</td>\n",
       "      <td>0.6</td>\n",
       "      <td>0.0</td>\n",
       "    </tr>\n",
       "  </tbody>\n",
       "</table>\n",
       "</div>"
      ],
      "text/plain": [
       "   age  trestbps  chol  thalach  oldpeak   ca\n",
       "0   63       145   233      150      2.3  0.0\n",
       "1   37       130   250      187      3.5  0.0\n",
       "2   41       130   204      172      1.4  0.0\n",
       "3   56       120   236      178      0.8  0.0\n",
       "4   57       120   354      163      0.6  0.0"
      ]
     },
     "execution_count": 56,
     "metadata": {},
     "output_type": "execute_result"
    }
   ],
   "source": [
    "numeric_data.head()"
   ]
  },
  {
   "cell_type": "code",
   "execution_count": 57,
   "id": "e2826dd3",
   "metadata": {},
   "outputs": [
    {
     "data": {
      "image/png": "[encoded data removed]",
      "text/plain": [
       "<Figure size 720x2160 with 6 Axes>"
      ]
     },
     "metadata": {
      "needs_background": "light"
     },
     "output_type": "display_data"
    }
   ],
   "source": [
    "fig, axs = plt.subplots(len(numeric_data.columns), 1, figsize=(10,30))\n",
    "\n",
    "for value, numeric_col in enumerate(numeric_data.columns):\n",
    "    sns.boxplot(x=data_df['target'], y=data_df[numeric_col], ax = axs[value]);\n",
    "    "
   ]
  },
  {
   "cell_type": "code",
   "execution_count": 58,
   "id": "23cc6db6",
   "metadata": {},
   "outputs": [
    {
     "data": {
      "image/png": "[encoded data removed]",
      "text/plain": [
       "<Figure size 720x360 with 2 Axes>"
      ]
     },
     "metadata": {
      "needs_background": "light"
     },
     "output_type": "display_data"
    }
   ],
   "source": [
    "# Lets explore more the ca feature\n",
    "sns.catplot(x='ca', col='target', kind='count', data=data_df);"
   ]
  },
  {
   "cell_type": "markdown",
   "id": "ded6e68f",
   "metadata": {},
   "source": [
    "**Numerical** Insights:\n",
    "\n",
    "The following conditions may lead to greater cause of disease:\n",
    "1. Higher thalach (around 160)\n",
    "2. Low Oldpeak\n",
    "3. ca equals to zero"
   ]
  },
  {
   "cell_type": "code",
   "execution_count": 59,
   "id": "07385fb7",
   "metadata": {},
   "outputs": [
    {
     "data": {
      "image/png": "[encoded data removed]",
      "text/plain": [
       "<Figure size 1152x576 with 2 Axes>"
      ]
     },
     "metadata": {
      "needs_background": "light"
     },
     "output_type": "display_data"
    }
   ],
   "source": [
    "# Now the correlation only uses the numerical features\n",
    "fig, ax = pyplot.subplots(figsize=(16,8))\n",
    "sns.heatmap(abs(data_df.corr()), ax = ax, annot = True);"
   ]
  },
  {
   "cell_type": "markdown",
   "id": "c43f1dec",
   "metadata": {},
   "source": [
    "**Numerical** correlations insights:\n",
    "There isn't a strong relation between the different numerical values, the highest was 0.4"
   ]
  },
  {
   "cell_type": "code",
   "execution_count": 60,
   "id": "e6cc8664",
   "metadata": {},
   "outputs": [],
   "source": [
    "## Train split test\n",
    "from sklearn.model_selection import train_test_split"
   ]
  },
  {
   "cell_type": "markdown",
   "id": "312e7d6f",
   "metadata": {},
   "source": [
    "Split the data into train and test using\n",
    "<code>X_train, X_test, y_train, y_test = train_test_split(X, y, test_size=0.25)</code>"
   ]
  },
  {
   "cell_type": "code",
   "execution_count": 61,
   "id": "e8a3b09d",
   "metadata": {},
   "outputs": [],
   "source": [
    "X = data_df._get_numeric_data()\n",
    "y = data_df.target"
   ]
  },
  {
   "cell_type": "code",
   "execution_count": 62,
   "id": "d22d9148",
   "metadata": {},
   "outputs": [],
   "source": [
    "X_train, X_test, y_train, y_test = train_test_split(X, y, test_size=0.25)"
   ]
  },
  {
   "cell_type": "markdown",
   "id": "da5844fa",
   "metadata": {},
   "source": [
    "Lets check if the target is in the same proporotion on the train and test datasets"
   ]
  },
  {
   "cell_type": "markdown",
   "id": "871846ed",
   "metadata": {},
   "source": [
    "In the train dataset:"
   ]
  },
  {
   "cell_type": "code",
   "execution_count": 63,
   "id": "f14371b9",
   "metadata": {},
   "outputs": [
    {
     "data": {
      "text/plain": [
       "Disease       0.555556\n",
       "No_disease    0.444444\n",
       "Name: target, dtype: float64"
      ]
     },
     "execution_count": 63,
     "metadata": {},
     "output_type": "execute_result"
    }
   ],
   "source": [
    "y_train.value_counts(normalize=True)"
   ]
  },
  {
   "cell_type": "markdown",
   "id": "83943a82",
   "metadata": {},
   "source": [
    "In the test dataset:"
   ]
  },
  {
   "cell_type": "code",
   "execution_count": 64,
   "id": "5143e8a4",
   "metadata": {},
   "outputs": [
    {
     "data": {
      "text/plain": [
       "Disease       0.506667\n",
       "No_disease    0.493333\n",
       "Name: target, dtype: float64"
      ]
     },
     "execution_count": 64,
     "metadata": {},
     "output_type": "execute_result"
    }
   ],
   "source": [
    "y_test.value_counts(normalize=True)"
   ]
  },
  {
   "cell_type": "code",
   "execution_count": 65,
   "id": "b0b3de6e",
   "metadata": {},
   "outputs": [
    {
     "data": {
      "text/plain": [
       "0.25"
      ]
     },
     "execution_count": 65,
     "metadata": {},
     "output_type": "execute_result"
    }
   ],
   "source": [
    "len(y_test) / (len(y_train) + len(y_test))"
   ]
  },
  {
   "cell_type": "markdown",
   "id": "055b224e",
   "metadata": {},
   "source": [
    "# Intersting subgroups"
   ]
  },
  {
   "cell_type": "code",
   "execution_count": 66,
   "id": "b09f3ae1",
   "metadata": {},
   "outputs": [
    {
     "name": "stdout",
     "output_type": "stream",
     "text": [
      "<class 'pandas.core.frame.DataFrame'>\n",
      "Int64Index: 300 entries, 0 to 302\n",
      "Data columns (total 16 columns):\n",
      " #   Column    Non-Null Count  Dtype   \n",
      "---  ------    --------------  -----   \n",
      " 0   age       300 non-null    int64   \n",
      " 1   sex       300 non-null    category\n",
      " 2   cp        300 non-null    category\n",
      " 3   trestbps  300 non-null    int64   \n",
      " 4   chol      300 non-null    int64   \n",
      " 5   fbs       300 non-null    category\n",
      " 6   restecg   300 non-null    category\n",
      " 7   thalach   300 non-null    int64   \n",
      " 8   exang     300 non-null    category\n",
      " 9   oldpeak   300 non-null    float64 \n",
      " 10  slope     300 non-null    category\n",
      " 11  ca        300 non-null    float64 \n",
      " 12  thal      300 non-null    category\n",
      " 13  target    300 non-null    category\n",
      " 14  age_bins  300 non-null    category\n",
      " 15  hr_bins   300 non-null    category\n",
      "dtypes: category(10), float64(2), int64(4)\n",
      "memory usage: 29.2 KB\n"
     ]
    }
   ],
   "source": [
    "data_df.info()"
   ]
  },
  {
   "cell_type": "code",
   "execution_count": 67,
   "id": "8ffbd0a5",
   "metadata": {},
   "outputs": [
    {
     "data": {
      "text/plain": [
       "<AxesSubplot:xlabel='thalach', ylabel='thal'>"
      ]
     },
     "execution_count": 67,
     "metadata": {},
     "output_type": "execute_result"
    },
    {
     "data": {
      "image/png": "[encoded data removed]",
      "text/plain": [
       "<Figure size 1152x576 with 1 Axes>"
      ]
     },
     "metadata": {
      "needs_background": "light"
     },
     "output_type": "display_data"
    }
   ],
   "source": [
    "plt.figure(figsize=(16,8))\n",
    "sns.swarmplot(x='thalach',y='thal', data=data_df, hue='target')"
   ]
  },
  {
   "cell_type": "markdown",
   "id": "173552b6",
   "metadata": {},
   "source": [
    "If we look on the most distinctive numerical and categorical features, it seems the most common group are \n",
    "patients with reversible defect with maximum heart rate over 180"
   ]
  },
  {
   "cell_type": "code",
   "execution_count": null,
   "id": "9f7f4583",
   "metadata": {},
   "outputs": [],
   "source": []
  },
  {
   "cell_type": "code",
   "execution_count": 68,
   "id": "87ed738b",
   "metadata": {},
   "outputs": [
    {
     "data": {
      "text/plain": [
       "<AxesSubplot:xlabel='age_bins', ylabel='thal'>"
      ]
     },
     "execution_count": 68,
     "metadata": {},
     "output_type": "execute_result"
    },
    {
     "data": {
      "image/png": "[encoded data removed]",
      "text/plain": [
       "<Figure size 1152x288 with 1 Axes>"
      ]
     },
     "metadata": {
      "needs_background": "light"
     },
     "output_type": "display_data"
    }
   ],
   "source": [
    "plt.figure(figsize=(16,4))\n",
    "sns.stripplot(x='age_bins',y='thal', data=data_df, hue='target')"
   ]
  },
  {
   "cell_type": "markdown",
   "id": "677446d2",
   "metadata": {},
   "source": [
    "eventough there is a strong correlation between reversiable defect and being sick, it happens mostly on ages under 50 or above 70"
   ]
  },
  {
   "cell_type": "code",
   "execution_count": 69,
   "id": "d2ee1210",
   "metadata": {},
   "outputs": [
    {
     "data": {
      "text/plain": [
       "<AxesSubplot:xlabel='hr_bins', ylabel='thal'>"
      ]
     },
     "execution_count": 69,
     "metadata": {},
     "output_type": "execute_result"
    },
    {
     "data": {
      "image/png": "[encoded data removed]",
      "text/plain": [
       "<Figure size 1152x288 with 1 Axes>"
      ]
     },
     "metadata": {
      "needs_background": "light"
     },
     "output_type": "display_data"
    }
   ],
   "source": [
    "plt.figure(figsize=(16,4))\n",
    "sns.stripplot(x='hr_bins',y='thal', data=data_df, hue='target')"
   ]
  },
  {
   "cell_type": "markdown",
   "id": "980dd3f8",
   "metadata": {},
   "source": [
    "also concerning maximum heart rate, the higher the heart rate, the more likely you are to be sick, if you have a\n",
    "reversible defect"
   ]
  },
  {
   "cell_type": "markdown",
   "id": "a8fea7fe",
   "metadata": {},
   "source": [
    "# Conclusions"
   ]
  },
  {
   "cell_type": "markdown",
   "id": "29566237",
   "metadata": {},
   "source": [
    "1. The dataset was complete, without null values, and numeric\n",
    "2. There were 6 continuous features and 7 numeric features\n",
    "3. There were some discrepancies between the site description and the actual values\n",
    "4. The dataset is almost balance <code>target</code> wise\n",
    "5. The dataset has more male patients then female patients in the <code>sex</code> feature\n",
    "6. The <code>chol</code> and <code>trestbps</code> hardly affect the target\n",
    "7. The <code>thal</code> feature is correlated with the target especially on higher <code>restacg</code> rates\n",
    "8. The <code>ca</code> was classified as continuous feature but maybe it can be also a categorical feature\n",
    "9. The PCA/SVD techinques didn't help reducing the diementsion."
   ]
  }
 ],
 "metadata": {
  "kernelspec": {
   "display_name": "Python 3",
   "language": "python",
   "name": "python3"
  },
  "language_info": {
   "codemirror_mode": {
    "name": "ipython",
    "version": 3
   },
   "file_extension": ".py",
   "mimetype": "text/x-python",
   "name": "python",
   "nbconvert_exporter": "python",
   "pygments_lexer": "ipython3",
   "version": "3.8.8"
  },
  "varInspector": {
   "cols": {
    "lenName": 16,
    "lenType": 16,
    "lenVar": 40
   },
   "kernels_config": {
    "python": {
     "delete_cmd_postfix": "",
     "delete_cmd_prefix": "del ",
     "library": "var_list.py",
     "varRefreshCmd": "print(var_dic_list())"
    },
    "r": {
     "delete_cmd_postfix": ") ",
     "delete_cmd_prefix": "rm(",
     "library": "var_list.r",
     "varRefreshCmd": "cat(var_dic_list()) "
    }
   },
   "types_to_exclude": [
    "module",
    "function",
    "builtin_function_or_method",
    "instance",
    "_Feature"
   ],
   "window_display": false
  }
 },
 "nbformat": 4,
 "nbformat_minor": 5
}
