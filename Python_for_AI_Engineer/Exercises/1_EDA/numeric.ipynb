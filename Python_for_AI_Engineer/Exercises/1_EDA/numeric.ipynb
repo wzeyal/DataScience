{
 "cells": [
  {
   "cell_type": "code",
   "execution_count": 1,
   "id": "69ad9947",
   "metadata": {},
   "outputs": [],
   "source": [
    "# https://www.youtube.com/channel/UCYO_jab_esuFRV4b17AJtAw"
   ]
  },
  {
   "cell_type": "code",
   "execution_count": 2,
   "id": "516da8f3",
   "metadata": {},
   "outputs": [],
   "source": [
    "# 𝑥_(𝑛+1)=□(64&1/2 (𝑎/𝑥_𝑛 +𝑥_𝑛 ) ) a >0 "
   ]
  },
  {
   "cell_type": "code",
   "execution_count": 3,
   "id": "ac6bfad6",
   "metadata": {},
   "outputs": [],
   "source": [
    "def next_step(a, x_n):\n",
    "    print (0.5*((a/x_n) + x_n))"
   ]
  },
  {
   "cell_type": "code",
   "execution_count": 4,
   "id": "753b6362",
   "metadata": {},
   "outputs": [
    {
     "name": "stdout",
     "output_type": "stream",
     "text": [
      "1.5\n"
     ]
    }
   ],
   "source": [
    "x_n_1 = next_step(2, 2)"
   ]
  },
  {
   "cell_type": "code",
   "execution_count": 5,
   "id": "be95a551",
   "metadata": {},
   "outputs": [
    {
     "name": "stdout",
     "output_type": "stream",
     "text": [
      "1.4166666666666665\n"
     ]
    }
   ],
   "source": [
    "x_n_1 = next_step(2, 1.5)"
   ]
  },
  {
   "cell_type": "code",
   "execution_count": 6,
   "id": "79c7e900",
   "metadata": {},
   "outputs": [
    {
     "name": "stdout",
     "output_type": "stream",
     "text": [
      "1.4142156862745097\n"
     ]
    }
   ],
   "source": [
    "x_n_1 = next_step(2, 1.4166666666666665)"
   ]
  },
  {
   "cell_type": "code",
   "execution_count": 7,
   "id": "a63105c1",
   "metadata": {},
   "outputs": [
    {
     "name": "stdout",
     "output_type": "stream",
     "text": [
      "1.4142135623746899\n"
     ]
    }
   ],
   "source": [
    "x_n_1 = next_step(2, 1.4142156862745097)"
   ]
  },
  {
   "cell_type": "code",
   "execution_count": 8,
   "id": "72c5b349",
   "metadata": {},
   "outputs": [
    {
     "name": "stdout",
     "output_type": "stream",
     "text": [
      "1.414213562373095\n"
     ]
    }
   ],
   "source": [
    "x_n_1 = next_step(2, 1.4142135623746899)"
   ]
  },
  {
   "cell_type": "code",
   "execution_count": null,
   "id": "c89d790e",
   "metadata": {},
   "outputs": [],
   "source": []
  },
  {
   "cell_type": "code",
   "execution_count": 9,
   "id": "4c3cb1b3",
   "metadata": {},
   "outputs": [],
   "source": [
    "import math"
   ]
  },
  {
   "cell_type": "code",
   "execution_count": 10,
   "id": "1d058a0d",
   "metadata": {},
   "outputs": [
    {
     "data": {
      "text/plain": [
       "1.4142135623730951"
      ]
     },
     "execution_count": 10,
     "metadata": {},
     "output_type": "execute_result"
    }
   ],
   "source": [
    "math.sqrt(2)"
   ]
  },
  {
   "cell_type": "code",
   "execution_count": 11,
   "id": "a7511031",
   "metadata": {},
   "outputs": [],
   "source": [
    "def f_xy(x, y):\n",
    "    return x + y*y*y\n",
    "\n",
    "def grad_f(x, y):\n",
    "    return (1, 3 * y*y)"
   ]
  },
  {
   "cell_type": "code",
   "execution_count": 12,
   "id": "d18d04c6",
   "metadata": {},
   "outputs": [
    {
     "data": {
      "text/plain": [
       "(1, 75)"
      ]
     },
     "execution_count": 12,
     "metadata": {},
     "output_type": "execute_result"
    }
   ],
   "source": [
    "grad_f(1,5)"
   ]
  },
  {
   "cell_type": "code",
   "execution_count": 39,
   "id": "ef583963",
   "metadata": {},
   "outputs": [],
   "source": [
    "def f(x):\n",
    "    return math.exp( x ) - 2 * math.cos(x)"
   ]
  },
  {
   "cell_type": "code",
   "execution_count": 40,
   "id": "42162f3e",
   "metadata": {},
   "outputs": [],
   "source": [
    "def g(x):\n",
    "    return math.exp( x ) + 2 * math.sin(x)"
   ]
  },
  {
   "cell_type": "code",
   "execution_count": 43,
   "id": "aa2b4860",
   "metadata": {},
   "outputs": [],
   "source": [
    "def newtonRaphson(x0, epsilon, N):\n",
    "    step = 1\n",
    "    flag = 1\n",
    "    condition = True\n",
    "    while condition:\n",
    "        if g(x0) == 0.0:\n",
    "            print('error, diving by zero!')\n",
    "            break\n",
    "        \n",
    "        x1 = x0 - f(x0)/g(x0)\n",
    "        print('Iteration-%d, x1 = %0.6f and f(x1) = %0.6f' % (step, x1, f(x1)))\n",
    "        x0 = x1\n",
    "        step = step + 1\n",
    "        \n",
    "        if step > N:\n",
    "            flag = 0\n",
    "            break\n",
    "        \n",
    "        condition = abs(f(x1)) > epsilon\n",
    "    \n",
    "    if flag==1:\n",
    "        print('\\nRequired root is: %0.8f' % x1)\n",
    "        return x1\n",
    "    else:\n",
    "        print('\\nNot Convergent.')"
   ]
  },
  {
   "cell_type": "code",
   "execution_count": 52,
   "id": "b2c0c16d",
   "metadata": {},
   "outputs": [
    {
     "name": "stdout",
     "output_type": "stream",
     "text": [
      "Iteration-1, x1 = -11.040577 and f(x1) = -0.089959\n",
      "Iteration-2, x1 = -10.995552 and f(x1) = 0.000061\n",
      "\n",
      "Required root is: -10.99555227\n"
     ]
    }
   ],
   "source": [
    "root = newtonRaphson(-10.5, 0.0001, 100)"
   ]
  },
  {
   "cell_type": "code",
   "execution_count": 45,
   "id": "9abbdc09",
   "metadata": {},
   "outputs": [
    {
     "data": {
      "text/plain": [
       "float"
      ]
     },
     "execution_count": 45,
     "metadata": {},
     "output_type": "execute_result"
    }
   ],
   "source": [
    "type(root)"
   ]
  },
  {
   "cell_type": "code",
   "execution_count": null,
   "id": "0ec3a216",
   "metadata": {},
   "outputs": [],
   "source": []
  },
  {
   "cell_type": "code",
   "execution_count": 46,
   "id": "c867188f",
   "metadata": {},
   "outputs": [
    {
     "data": {
      "text/plain": [
       "4.3425683764253264e-05"
      ]
     },
     "execution_count": 46,
     "metadata": {},
     "output_type": "execute_result"
    }
   ],
   "source": [
    "f(root)"
   ]
  },
  {
   "cell_type": "code",
   "execution_count": 20,
   "id": "6afed2a6",
   "metadata": {},
   "outputs": [],
   "source": []
  },
  {
   "cell_type": "code",
   "execution_count": 50,
   "id": "10f3359e",
   "metadata": {},
   "outputs": [
    {
     "data": {
      "image/png": "[encoded data removed]",
      "text/plain": [
       "<Figure size 432x288 with 1 Axes>"
      ]
     },
     "metadata": {
      "needs_background": "light"
     },
     "output_type": "display_data"
    }
   ],
   "source": [
    "import numpy as np\n",
    "import matplotlib.pyplot as plt\n",
    "\n",
    "x = np.arange(-5*np.pi,1*np.pi,0.001)   # start,stop,step\n",
    "y = np.exp(x) - 2 * np.cos(x)\n",
    "plt.plot(x,y)\n",
    "plt.show()"
   ]
  },
  {
   "cell_type": "code",
   "execution_count": 30,
   "id": "fb9760be",
   "metadata": {},
   "outputs": [
    {
     "data": {
      "text/plain": [
       "4.3428474009621354e-05"
      ]
     },
     "execution_count": 30,
     "metadata": {},
     "output_type": "execute_result"
    }
   ],
   "source": [
    "f(0.53980099)"
   ]
  },
  {
   "cell_type": "code",
   "execution_count": 53,
   "id": "362b547e",
   "metadata": {},
   "outputs": [],
   "source": [
    "A = [[3, 1, 1,], [1, 2, 0,], [0, 0, 1]]"
   ]
  },
  {
   "cell_type": "code",
   "execution_count": 54,
   "id": "0afc2f37",
   "metadata": {},
   "outputs": [
    {
     "data": {
      "text/plain": [
       "[[3, 1, 1], [1, 2, 0], [0, 0, 1]]"
      ]
     },
     "execution_count": 54,
     "metadata": {},
     "output_type": "execute_result"
    }
   ],
   "source": [
    "A"
   ]
  },
  {
   "cell_type": "code",
   "execution_count": 109,
   "id": "2b25ea12",
   "metadata": {},
   "outputs": [],
   "source": [
    "A = np.array([\n",
    "     [3,1,1],\n",
    "     [1,2,0],\n",
    "     [0,0,1]])"
   ]
  },
  {
   "cell_type": "code",
   "execution_count": 110,
   "id": "f869c294",
   "metadata": {},
   "outputs": [],
   "source": [
    "b = np.array([[2],[1],[3]])"
   ]
  },
  {
   "cell_type": "code",
   "execution_count": 111,
   "id": "97c813ae",
   "metadata": {},
   "outputs": [],
   "source": [
    "D = np.diag(np.diag(A))"
   ]
  },
  {
   "cell_type": "code",
   "execution_count": 85,
   "id": "0d796407",
   "metadata": {},
   "outputs": [],
   "source": [
    "U = np.triu(A) - D"
   ]
  },
  {
   "cell_type": "code",
   "execution_count": 86,
   "id": "9c206bd1",
   "metadata": {},
   "outputs": [],
   "source": [
    "L = np.tril(A) - D"
   ]
  },
  {
   "cell_type": "code",
   "execution_count": 87,
   "id": "8df4112a",
   "metadata": {},
   "outputs": [
    {
     "data": {
      "text/plain": [
       "array([[2],\n",
       "       [1],\n",
       "       [3]])"
      ]
     },
     "execution_count": 87,
     "metadata": {},
     "output_type": "execute_result"
    }
   ],
   "source": [
    "b"
   ]
  },
  {
   "cell_type": "code",
   "execution_count": 77,
   "id": "46460470",
   "metadata": {},
   "outputs": [
    {
     "data": {
      "text/plain": [
       "array([[0.33333333, 0.        , 0.        ],\n",
       "       [0.        , 0.5       , 0.        ],\n",
       "       [0.        , 0.        , 1.        ]])"
      ]
     },
     "execution_count": 77,
     "metadata": {},
     "output_type": "execute_result"
    }
   ],
   "source": [
    "np.linalg.inv(D)"
   ]
  },
  {
   "cell_type": "code",
   "execution_count": 88,
   "id": "3c2025af",
   "metadata": {},
   "outputs": [],
   "source": [
    "x_n = np.array([[0],[0],[0]])"
   ]
  },
  {
   "cell_type": "code",
   "execution_count": null,
   "id": "c5d7a6fb",
   "metadata": {},
   "outputs": [],
   "source": []
  },
  {
   "cell_type": "code",
   "execution_count": 91,
   "id": "6d3b485e",
   "metadata": {},
   "outputs": [],
   "source": [
    "x_n_1 = np.linalg.inv(D)@(b - (L + U) @ x_n)"
   ]
  },
  {
   "cell_type": "code",
   "execution_count": 92,
   "id": "77b5482d",
   "metadata": {},
   "outputs": [
    {
     "data": {
      "text/plain": [
       "array([[0.66666667],\n",
       "       [0.5       ],\n",
       "       [3.        ]])"
      ]
     },
     "execution_count": 92,
     "metadata": {},
     "output_type": "execute_result"
    }
   ],
   "source": [
    "x_n_1"
   ]
  },
  {
   "cell_type": "code",
   "execution_count": 94,
   "id": "c0f6c9e1",
   "metadata": {},
   "outputs": [
    {
     "name": "stdout",
     "output_type": "stream",
     "text": [
      "[[-0.5       ]\n",
      " [ 0.16666667]\n",
      " [ 3.        ]]\n"
     ]
    }
   ],
   "source": [
    "x_n_2 = np.linalg.inv(D)@(b - (L + U) @ x_n_1)\n",
    "print(x_n_2)"
   ]
  },
  {
   "cell_type": "code",
   "execution_count": 95,
   "id": "036850d0",
   "metadata": {},
   "outputs": [
    {
     "name": "stdout",
     "output_type": "stream",
     "text": [
      "[[-0.38888889]\n",
      " [ 0.75      ]\n",
      " [ 3.        ]]\n"
     ]
    }
   ],
   "source": [
    "x_n_3 = np.linalg.inv(D)@(b - (L + U) @ x_n_2)\n",
    "print(x_n_3)"
   ]
  },
  {
   "cell_type": "code",
   "execution_count": 97,
   "id": "48c05172",
   "metadata": {},
   "outputs": [],
   "source": [
    "x_n_4 = np.linalg.inv(D)@(b - (L + U) @ x_n_3)"
   ]
  },
  {
   "cell_type": "code",
   "execution_count": null,
   "id": "bf4bc103",
   "metadata": {},
   "outputs": [],
   "source": []
  },
  {
   "cell_type": "code",
   "execution_count": 99,
   "id": "c75b0d33",
   "metadata": {},
   "outputs": [],
   "source": [
    "x_n_5 = np.linalg.inv(D)@(b - (L + U) @ x_n_4)"
   ]
  },
  {
   "cell_type": "code",
   "execution_count": null,
   "id": "b7537a18",
   "metadata": {},
   "outputs": [],
   "source": []
  },
  {
   "cell_type": "code",
   "execution_count": 100,
   "id": "dab212e1",
   "metadata": {},
   "outputs": [
    {
     "data": {
      "text/plain": [
       "array([[2.09722222],\n",
       "       [1.01851852],\n",
       "       [3.        ]])"
      ]
     },
     "execution_count": 100,
     "metadata": {},
     "output_type": "execute_result"
    }
   ],
   "source": [
    "A @ x_n_5"
   ]
  },
  {
   "cell_type": "code",
   "execution_count": 101,
   "id": "ca9b3f76",
   "metadata": {},
   "outputs": [],
   "source": [
    "inv_d = np.linalg.inv(D)"
   ]
  },
  {
   "cell_type": "code",
   "execution_count": 108,
   "id": "119346d2",
   "metadata": {},
   "outputs": [
    {
     "data": {
      "text/plain": [
       "True"
      ]
     },
     "execution_count": 108,
     "metadata": {},
     "output_type": "execute_result"
    }
   ],
   "source": [
    "np.any((D.diagonal() == 0))"
   ]
  },
  {
   "cell_type": "code",
   "execution_count": null,
   "id": "5b9811f4",
   "metadata": {},
   "outputs": [],
   "source": [
    "def jacoby(U, D, L, b, eps):\n",
    "    # check for zeros\n",
    "    if np.any((D.diagonal() == 0)):\n",
    "        printf('Error, one of the diag is zero')\n",
    "        return;\n",
    "    x_n_1 =  np.linalg.inv(D)@(b - (L + U) @ x_n_3)\n",
    "    if (abs(b - (U + D + L) * x_n_1) < eps):\n",
    "        return x_n_1\n",
    "    \n",
    "    # Complete"
   ]
  },
  {
   "cell_type": "code",
   "execution_count": null,
   "id": "2640010a",
   "metadata": {},
   "outputs": [],
   "source": [
    "# y' + 2xy = 0\n",
    "# y(0) = 1"
   ]
  },
  {
   "cell_type": "code",
   "execution_count": null,
   "id": "7a3110bc",
   "metadata": {},
   "outputs": [],
   "source": [
    "# 𝑦_(𝑛+1 )=𝑦_𝑛+ℎ 𝐹(𝑥_𝑛,𝑦_𝑛 )"
   ]
  },
  {
   "cell_type": "code",
   "execution_count": 112,
   "id": "1ae66b14",
   "metadata": {},
   "outputs": [],
   "source": [
    "x = np.arange(-10, 10,0.001)"
   ]
  },
  {
   "cell_type": "code",
   "execution_count": 113,
   "id": "3dd2c777",
   "metadata": {},
   "outputs": [],
   "source": [
    "def y_tag(x, y):\n",
    "    return (-2 * x * y)"
   ]
  },
  {
   "cell_type": "code",
   "execution_count": null,
   "id": "c9fa9381",
   "metadata": {},
   "outputs": [],
   "source": []
  },
  {
   "cell_type": "code",
   "execution_count": 114,
   "id": "cd79ab17",
   "metadata": {},
   "outputs": [],
   "source": [
    "f = lambda x, y: -2 * x *y"
   ]
  },
  {
   "cell_type": "code",
   "execution_count": 134,
   "id": "5267e6b7",
   "metadata": {},
   "outputs": [],
   "source": [
    "h = 0.05 # Step size"
   ]
  },
  {
   "cell_type": "code",
   "execution_count": 135,
   "id": "38669e0c",
   "metadata": {},
   "outputs": [],
   "source": [
    "x = np.arange(0, 3 + h, h) # Numerical grid\n",
    "y0 = 1 # Initial Condition"
   ]
  },
  {
   "cell_type": "code",
   "execution_count": 136,
   "id": "fc7d8696",
   "metadata": {},
   "outputs": [],
   "source": [
    "#intial guess\n",
    "\n",
    "y = np.zeros(len(x))\n",
    "y[0] = y0\n",
    "\n",
    "for i in range(0, len(x) - 1):\n",
    "    y[i + 1] = y[i] + h*f(x[i], y[i])"
   ]
  },
  {
   "cell_type": "code",
   "execution_count": 137,
   "id": "e353c860",
   "metadata": {},
   "outputs": [
    {
     "data": {
      "image/png": "[encoded data removed]",
      "text/plain": [
       "<Figure size 864x576 with 1 Axes>"
      ]
     },
     "metadata": {
      "needs_background": "light"
     },
     "output_type": "display_data"
    }
   ],
   "source": [
    "plt.figure(figsize = (12, 8))\n",
    "plt.plot(x, y, 'bo--', label='Approximate')\n",
    "plt.plot(x, np.exp(-x*x), 'g', label='Exact')\n",
    "\n",
    "plt.xlabel('x')\n",
    "plt.ylabel('f(x)')\n",
    "plt.grid()\n",
    "plt.legend(loc='lower right')\n",
    "plt.show()"
   ]
  },
  {
   "cell_type": "code",
   "execution_count": 144,
   "id": "22432bfb",
   "metadata": {},
   "outputs": [
    {
     "data": {
      "text/plain": [
       "600"
      ]
     },
     "execution_count": 144,
     "metadata": {},
     "output_type": "execute_result"
    }
   ],
   "source": [
    "len(yf)"
   ]
  },
  {
   "cell_type": "code",
   "execution_count": 149,
   "id": "6ee381c0",
   "metadata": {
    "scrolled": true
   },
   "outputs": [
    {
     "name": "stderr",
     "output_type": "stream",
     "text": [
      "C:\\Users\\eyalshw\\Anaconda3\\lib\\site-packages\\numpy\\core\\_asarray.py:83: ComplexWarning: Casting complex values to real discards the imaginary part\n",
      "  return array(a, dtype, copy=False, order=order)\n"
     ]
    },
    {
     "data": {
      "image/png": "[encoded data removed]",
      "text/plain": [
       "<Figure size 432x288 with 1 Axes>"
      ]
     },
     "metadata": {
      "needs_background": "light"
     },
     "output_type": "display_data"
    }
   ],
   "source": [
    "from scipy.fft import fft, fftfreq\n",
    "# Number of sample points\n",
    "N = 600\n",
    "# sample spacing\n",
    "T = 1.0 / 800.0\n",
    "x = np.linspace(-np.pi, np.pi, N, endpoint=False)\n",
    "y = np.exp(x)\n",
    "yf = fft(y)\n",
    "xf = fftfreq(N, T)[:N//2]\n",
    "import matplotlib.pyplot as plt\n",
    "plt.plot(x, yf)\n",
    "plt.grid()\n",
    "plt.show()"
   ]
  },
  {
   "cell_type": "code",
   "execution_count": 154,
   "id": "e3be62d1",
   "metadata": {},
   "outputs": [
    {
     "data": {
      "image/png": "[encoded data removed]",
      "text/plain": [
       "<Figure size 432x288 with 1 Axes>"
      ]
     },
     "metadata": {
      "needs_background": "light"
     },
     "output_type": "display_data"
    }
   ],
   "source": [
    "from scipy.fft import dct, idct\n",
    "import matplotlib.pyplot as plt\n",
    "N = 100\n",
    "t = np.linspace(-np.pi,-np.pi,N, endpoint=False)\n",
    "x = np.exp(t)\n",
    "y = dct(x, norm='ortho')\n",
    "window = np.zeros(N)\n",
    "window[:20] = 1\n",
    "yr = idct(y*window, norm='ortho')\n",
    "sum(abs(x-yr)**2) / sum(abs(x)**2)\n",
    "0.0009872817275276098\n",
    "plt.plot(t, x, '-bx')\n",
    "plt.plot(t, yr, 'ro')\n",
    "window = np.zeros(N)\n",
    "window[:15] = 1\n",
    "yr = idct(y*window, norm='ortho')\n",
    "sum(abs(x-yr)**2) / sum(abs(x)**2)\n",
    "0.06196643004256714\n",
    "plt.plot(t, yr, 'g+')\n",
    "plt.legend(['x', '$x_{20}$', '$x_{15}$'])\n",
    "plt.grid()\n",
    "plt.show()"
   ]
  },
  {
   "cell_type": "code",
   "execution_count": 168,
   "id": "a1823c6c",
   "metadata": {},
   "outputs": [
    {
     "data": {
      "image/png": "[encoded data removed]",
      "text/plain": [
       "<Figure size 432x288 with 1 Axes>"
      ]
     },
     "metadata": {
      "needs_background": "light"
     },
     "output_type": "display_data"
    }
   ],
   "source": [
    "from scipy.interpolate import interp1d\n",
    ">>>\n",
    "x = np.arange(-1, 1, 0.001)\n",
    "y = np.arctan(x)\n",
    "f = interp1d(x, y)\n",
    "f2 = interp1d(x, y, kind='cubic')\n",
    "\n",
    "xnew = np.arange(-1, 1, 0.001)\n",
    "import matplotlib.pyplot as plt\n",
    "plt.plot(x, y, 'o', xnew, f(xnew), '-', xnew, f2(xnew), '--')\n",
    "plt.legend(['data', 'linear', 'cubic'], loc='best')\n",
    "plt.show()\n"
   ]
  },
  {
   "cell_type": "code",
   "execution_count": 182,
   "id": "eca582bd",
   "metadata": {},
   "outputs": [],
   "source": []
  },
  {
   "cell_type": "code",
   "execution_count": 183,
   "id": "eb2fd3ad",
   "metadata": {},
   "outputs": [
    {
     "name": "stderr",
     "output_type": "stream",
     "text": [
      "<ipython-input-183-d72c8c1b9d48>:6: DeprecationWarning: Calling np.sum(generator) is deprecated, and in the future will give a different result. Use np.sum(np.fromiter(generator)) or the python sum builtin instead.\n",
      "  np.sum(xx * yy for xx,yy in zip(x,y))\n"
     ]
    },
    {
     "name": "stdout",
     "output_type": "stream",
     "text": [
      "Duration 1.5223 seconds\n"
     ]
    }
   ],
   "source": [
    "\n",
    "\n",
    "\n",
    "tic = time.perf_counter()\n",
    "x*y\n",
    "np.sum(xx * yy for xx,yy in zip(x,y))\n",
    "toc = time.perf_counter()\n",
    "print(f\"Duration {toc - tic:0.4f} seconds\")"
   ]
  },
  {
   "cell_type": "code",
   "execution_count": 184,
   "id": "2bf473d3",
   "metadata": {},
   "outputs": [],
   "source": [
    "import time\n",
    "\n",
    "def timing(f):\n",
    "    tic = time.perf_counter()\n",
    "    f()\n",
    "    toc = time.perf_counter()\n",
    "    print(f\"Duration {toc - tic:0.4f} seconds\")\n",
    "    "
   ]
  },
  {
   "cell_type": "code",
   "execution_count": 191,
   "id": "59ed5ddc",
   "metadata": {},
   "outputs": [],
   "source": [
    "def f_zip():\n",
    "   np.sum(xx * yy for xx,yy in zip(x,y)) "
   ]
  },
  {
   "cell_type": "code",
   "execution_count": 192,
   "id": "32cbf74a",
   "metadata": {},
   "outputs": [],
   "source": [
    "def f_dot():\n",
    "   np.sum(x*y) "
   ]
  },
  {
   "cell_type": "code",
   "execution_count": 210,
   "id": "cc55f6d4",
   "metadata": {},
   "outputs": [],
   "source": [
    "x = np.arange(1, 5)\n",
    "y = np.arange(1, 2)"
   ]
  },
  {
   "cell_type": "code",
   "execution_count": 200,
   "id": "f7776ce2",
   "metadata": {},
   "outputs": [
    {
     "name": "stderr",
     "output_type": "stream",
     "text": [
      "<ipython-input-191-5315ea3ba5b5>:2: DeprecationWarning: Calling np.sum(generator) is deprecated, and in the future will give a different result. Use np.sum(np.fromiter(generator)) or the python sum builtin instead.\n",
      "  np.sum(xx * yy for xx,yy in zip(x,y))\n"
     ]
    },
    {
     "name": "stdout",
     "output_type": "stream",
     "text": [
      "Duration 11.7577 seconds\n"
     ]
    }
   ],
   "source": [
    "timing(f_zip)"
   ]
  },
  {
   "cell_type": "code",
   "execution_count": 201,
   "id": "46a1923a",
   "metadata": {},
   "outputs": [
    {
     "name": "stdout",
     "output_type": "stream",
     "text": [
      "Duration 0.0951 seconds\n"
     ]
    }
   ],
   "source": [
    "timing(f_dot)"
   ]
  },
  {
   "cell_type": "code",
   "execution_count": 206,
   "id": "4571d6f2",
   "metadata": {},
   "outputs": [
    {
     "data": {
      "text/plain": [
       "10"
      ]
     },
     "execution_count": 206,
     "metadata": {},
     "output_type": "execute_result"
    }
   ],
   "source": [
    "np.sum(x*y)"
   ]
  },
  {
   "cell_type": "code",
   "execution_count": 211,
   "id": "c9a5fa64",
   "metadata": {},
   "outputs": [
    {
     "name": "stderr",
     "output_type": "stream",
     "text": [
      "<ipython-input-211-bde587018862>:1: DeprecationWarning: Calling np.sum(generator) is deprecated, and in the future will give a different result. Use np.sum(np.fromiter(generator)) or the python sum builtin instead.\n",
      "  np.sum(xx * yy for xx,yy in zip(x,y))\n"
     ]
    },
    {
     "data": {
      "text/plain": [
       "1"
      ]
     },
     "execution_count": 211,
     "metadata": {},
     "output_type": "execute_result"
    }
   ],
   "source": [
    "np.sum(xx * yy for xx,yy in zip(x,y)) "
   ]
  },
  {
   "cell_type": "code",
   "execution_count": null,
   "id": "4bdae5fc",
   "metadata": {},
   "outputs": [],
   "source": []
  }
 ],
 "metadata": {
  "kernelspec": {
   "display_name": "Python 3",
   "language": "python",
   "name": "python3"
  },
  "language_info": {
   "codemirror_mode": {
    "name": "ipython",
    "version": 3
   },
   "file_extension": ".py",
   "mimetype": "text/x-python",
   "name": "python",
   "nbconvert_exporter": "python",
   "pygments_lexer": "ipython3",
   "version": "3.8.8"
  },
  "varInspector": {
   "cols": {
    "lenName": 16,
    "lenType": 16,
    "lenVar": 40
   },
   "kernels_config": {
    "python": {
     "delete_cmd_postfix": "",
     "delete_cmd_prefix": "del ",
     "library": "var_list.py",
     "varRefreshCmd": "print(var_dic_list())"
    },
    "r": {
     "delete_cmd_postfix": ") ",
     "delete_cmd_prefix": "rm(",
     "library": "var_list.r",
     "varRefreshCmd": "cat(var_dic_list()) "
    }
   },
   "types_to_exclude": [
    "module",
    "function",
    "builtin_function_or_method",
    "instance",
    "_Feature"
   ],
   "window_display": false
  }
 },
 "nbformat": 4,
 "nbformat_minor": 5
}
