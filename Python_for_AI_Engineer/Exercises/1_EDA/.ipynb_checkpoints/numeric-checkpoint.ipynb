{
 "cells": [
  {
   "cell_type": "code",
   "execution_count": 1,
   "id": "fefe0712",
   "metadata": {},
   "outputs": [],
   "source": [
    "# https://www.youtube.com/channel/UCYO_jab_esuFRV4b17AJtAw"
   ]
  },
  {
   "cell_type": "code",
   "execution_count": 2,
   "id": "514dc997",
   "metadata": {},
   "outputs": [],
   "source": [
    "# 𝑥_(𝑛+1)=□(64&1/2 (𝑎/𝑥_𝑛 +𝑥_𝑛 ) ) a >0 "
   ]
  },
  {
   "cell_type": "code",
   "execution_count": 3,
   "id": "37f6808e",
   "metadata": {},
   "outputs": [],
   "source": [
    "def next_step(a, x_n):\n",
    "    print (0.5*((a/x_n) + x_n))"
   ]
  },
  {
   "cell_type": "code",
   "execution_count": 4,
   "id": "20dcfb92",
   "metadata": {},
   "outputs": [
    {
     "name": "stdout",
     "output_type": "stream",
     "text": [
      "1.5\n"
     ]
    }
   ],
   "source": [
    "x_n_1 = next_step(2, 2)"
   ]
  },
  {
   "cell_type": "code",
   "execution_count": 5,
   "id": "9a3ea7ed",
   "metadata": {},
   "outputs": [
    {
     "name": "stdout",
     "output_type": "stream",
     "text": [
      "1.4166666666666665\n"
     ]
    }
   ],
   "source": [
    "x_n_1 = next_step(2, 1.5)"
   ]
  },
  {
   "cell_type": "code",
   "execution_count": 6,
   "id": "0be4ab3a",
   "metadata": {},
   "outputs": [
    {
     "name": "stdout",
     "output_type": "stream",
     "text": [
      "1.4142156862745097\n"
     ]
    }
   ],
   "source": [
    "x_n_1 = next_step(2, 1.4166666666666665)"
   ]
  },
  {
   "cell_type": "code",
   "execution_count": 7,
   "id": "ce988c78",
   "metadata": {},
   "outputs": [
    {
     "name": "stdout",
     "output_type": "stream",
     "text": [
      "1.4142135623746899\n"
     ]
    }
   ],
   "source": [
    "x_n_1 = next_step(2, 1.4142156862745097)"
   ]
  },
  {
   "cell_type": "code",
   "execution_count": 8,
   "id": "cfb91f75",
   "metadata": {},
   "outputs": [
    {
     "name": "stdout",
     "output_type": "stream",
     "text": [
      "1.414213562373095\n"
     ]
    }
   ],
   "source": [
    "x_n_1 = next_step(2, 1.4142135623746899)"
   ]
  },
  {
   "cell_type": "code",
   "execution_count": null,
   "id": "25b2d2c3",
   "metadata": {},
   "outputs": [],
   "source": []
  },
  {
   "cell_type": "code",
   "execution_count": 9,
   "id": "f4e88c3d",
   "metadata": {},
   "outputs": [],
   "source": [
    "import math"
   ]
  },
  {
   "cell_type": "code",
   "execution_count": 10,
   "id": "ee5a11da",
   "metadata": {},
   "outputs": [
    {
     "data": {
      "text/plain": [
       "1.4142135623730951"
      ]
     },
     "execution_count": 10,
     "metadata": {},
     "output_type": "execute_result"
    }
   ],
   "source": [
    "math.sqrt(2)"
   ]
  },
  {
   "cell_type": "code",
   "execution_count": 11,
   "id": "21c1528e",
   "metadata": {},
   "outputs": [],
   "source": [
    "def f_xy(x, y):\n",
    "    return x + y*y*y\n",
    "\n",
    "def grad_f(x, y):\n",
    "    return (1, 3 * y*y)"
   ]
  },
  {
   "cell_type": "code",
   "execution_count": 12,
   "id": "a5136e42",
   "metadata": {},
   "outputs": [
    {
     "data": {
      "text/plain": [
       "(1, 75)"
      ]
     },
     "execution_count": 12,
     "metadata": {},
     "output_type": "execute_result"
    }
   ],
   "source": [
    "grad_f(1,5)"
   ]
  },
  {
   "cell_type": "code",
   "execution_count": 39,
   "id": "48c7283f",
   "metadata": {},
   "outputs": [],
   "source": [
    "def f(x):\n",
    "    return math.exp( x ) - 2 * math.cos(x)"
   ]
  },
  {
   "cell_type": "code",
   "execution_count": 40,
   "id": "4bf83d58",
   "metadata": {},
   "outputs": [],
   "source": [
    "def g(x):\n",
    "    return math.exp( x ) + 2 * math.sin(x)"
   ]
  },
  {
   "cell_type": "code",
   "execution_count": 43,
   "id": "c0e84e86",
   "metadata": {},
   "outputs": [],
   "source": [
    "def newtonRaphson(x0, epsilon, N):\n",
    "    step = 1\n",
    "    flag = 1\n",
    "    condition = True\n",
    "    while condition:\n",
    "        if g(x0) == 0.0:\n",
    "            print('error, diving by zero!')\n",
    "            break\n",
    "        \n",
    "        x1 = x0 - f(x0)/g(x0)\n",
    "        print('Iteration-%d, x1 = %0.6f and f(x1) = %0.6f' % (step, x1, f(x1)))\n",
    "        x0 = x1\n",
    "        step = step + 1\n",
    "        \n",
    "        if step > N:\n",
    "            flag = 0\n",
    "            break\n",
    "        \n",
    "        condition = abs(f(x1)) > epsilon\n",
    "    \n",
    "    if flag==1:\n",
    "        print('\\nRequired root is: %0.8f' % x1)\n",
    "        return x1\n",
    "    else:\n",
    "        print('\\nNot Convergent.')"
   ]
  },
  {
   "cell_type": "code",
   "execution_count": 52,
   "id": "aa38a237",
   "metadata": {},
   "outputs": [
    {
     "name": "stdout",
     "output_type": "stream",
     "text": [
      "Iteration-1, x1 = -11.040577 and f(x1) = -0.089959\n",
      "Iteration-2, x1 = -10.995552 and f(x1) = 0.000061\n",
      "\n",
      "Required root is: -10.99555227\n"
     ]
    }
   ],
   "source": [
    "root = newtonRaphson(-10.5, 0.0001, 100)"
   ]
  },
  {
   "cell_type": "code",
   "execution_count": 45,
   "id": "65ad0e46",
   "metadata": {},
   "outputs": [
    {
     "data": {
      "text/plain": [
       "float"
      ]
     },
     "execution_count": 45,
     "metadata": {},
     "output_type": "execute_result"
    }
   ],
   "source": [
    "type(root)"
   ]
  },
  {
   "cell_type": "code",
   "execution_count": null,
   "id": "d32e0d9e",
   "metadata": {},
   "outputs": [],
   "source": []
  },
  {
   "cell_type": "code",
   "execution_count": 46,
   "id": "0f5acaa8",
   "metadata": {},
   "outputs": [
    {
     "data": {
      "text/plain": [
       "4.3425683764253264e-05"
      ]
     },
     "execution_count": 46,
     "metadata": {},
     "output_type": "execute_result"
    }
   ],
   "source": [
    "f(root)"
   ]
  },
  {
   "cell_type": "code",
   "execution_count": 20,
   "id": "0c3a7a7a",
   "metadata": {},
   "outputs": [],
   "source": []
  },
  {
   "cell_type": "code",
   "execution_count": 50,
   "id": "55260123",
   "metadata": {},
   "outputs": [
    {
     "data": {
      "image/png": "[encoded data removed]",
      "text/plain": [
       "<Figure size 432x288 with 1 Axes>"
      ]
     },
     "metadata": {
      "needs_background": "light"
     },
     "output_type": "display_data"
    }
   ],
   "source": [
    "import numpy as np\n",
    "import matplotlib.pyplot as plt\n",
    "\n",
    "x = np.arange(-5*np.pi,1*np.pi,0.001)   # start,stop,step\n",
    "y = np.exp(x) - 2 * np.cos(x)\n",
    "plt.plot(x,y)\n",
    "plt.show()"
   ]
  },
  {
   "cell_type": "code",
   "execution_count": 30,
   "id": "0ffda3c2",
   "metadata": {},
   "outputs": [
    {
     "data": {
      "text/plain": [
       "4.3428474009621354e-05"
      ]
     },
     "execution_count": 30,
     "metadata": {},
     "output_type": "execute_result"
    }
   ],
   "source": [
    "f(0.53980099)"
   ]
  },
  {
   "cell_type": "code",
   "execution_count": 53,
   "id": "aa087f3e",
   "metadata": {},
   "outputs": [],
   "source": [
    "A = [[3, 1, 1,], [1, 2, 0,], [0, 0, 1]]"
   ]
  },
  {
   "cell_type": "code",
   "execution_count": 54,
   "id": "1535bc96",
   "metadata": {},
   "outputs": [
    {
     "data": {
      "text/plain": [
       "[[3, 1, 1], [1, 2, 0], [0, 0, 1]]"
      ]
     },
     "execution_count": 54,
     "metadata": {},
     "output_type": "execute_result"
    }
   ],
   "source": [
    "A"
   ]
  },
  {
   "cell_type": "code",
   "execution_count": 60,
   "id": "5dc805a6",
   "metadata": {},
   "outputs": [],
   "source": [
    "A = np.array([\n",
    "     [3,1,1],\n",
    "     [1,2,0],\n",
    "     [0,0,1]])"
   ]
  },
  {
   "cell_type": "code",
   "execution_count": 74,
   "id": "61f74dad",
   "metadata": {},
   "outputs": [],
   "source": [
    "b = np.array([2,1,3])"
   ]
  },
  {
   "cell_type": "code",
   "execution_count": 66,
   "id": "d0dfdd68",
   "metadata": {},
   "outputs": [],
   "source": [
    "D = np.diag(np.diag(A))"
   ]
  },
  {
   "cell_type": "code",
   "execution_count": 67,
   "id": "dbe70f1e",
   "metadata": {},
   "outputs": [],
   "source": [
    "U = np.triu(A) - D"
   ]
  },
  {
   "cell_type": "code",
   "execution_count": 68,
   "id": "55923c70",
   "metadata": {},
   "outputs": [],
   "source": [
    "L = np.tril(A) - D"
   ]
  },
  {
   "cell_type": "code",
   "execution_count": 73,
   "id": "0504a6c5",
   "metadata": {},
   "outputs": [
    {
     "data": {
      "text/plain": [
       "array([2, 1, 3])"
      ]
     },
     "execution_count": 73,
     "metadata": {},
     "output_type": "execute_result"
    }
   ],
   "source": [
    "b"
   ]
  },
  {
   "cell_type": "code",
   "execution_count": 77,
   "id": "a29cf97f",
   "metadata": {},
   "outputs": [
    {
     "data": {
      "text/plain": [
       "array([[0.33333333, 0.        , 0.        ],\n",
       "       [0.        , 0.5       , 0.        ],\n",
       "       [0.        , 0.        , 1.        ]])"
      ]
     },
     "execution_count": 77,
     "metadata": {},
     "output_type": "execute_result"
    }
   ],
   "source": [
    "np.linalg.inv(D)"
   ]
  },
  {
   "cell_type": "code",
   "execution_count": null,
   "id": "af5062a3",
   "metadata": {},
   "outputs": [],
   "source": [
    "x_n = np.array([0,0,0])"
   ]
  },
  {
   "cell_type": "code",
   "execution_count": null,
   "id": "5f14063f",
   "metadata": {},
   "outputs": [],
   "source": []
  },
  {
   "cell_type": "code",
   "execution_count": null,
   "id": "28ab6c3b",
   "metadata": {},
   "outputs": [],
   "source": [
    "x = np.linalg.inv(D)*(b - )"
   ]
  }
 ],
 "metadata": {
  "kernelspec": {
   "display_name": "Python 3",
   "language": "python",
   "name": "python3"
  },
  "language_info": {
   "codemirror_mode": {
    "name": "ipython",
    "version": 3
   },
   "file_extension": ".py",
   "mimetype": "text/x-python",
   "name": "python",
   "nbconvert_exporter": "python",
   "pygments_lexer": "ipython3",
   "version": "3.8.8"
  },
  "varInspector": {
   "cols": {
    "lenName": 16,
    "lenType": 16,
    "lenVar": 40
   },
   "kernels_config": {
    "python": {
     "delete_cmd_postfix": "",
     "delete_cmd_prefix": "del ",
     "library": "var_list.py",
     "varRefreshCmd": "print(var_dic_list())"
    },
    "r": {
     "delete_cmd_postfix": ") ",
     "delete_cmd_prefix": "rm(",
     "library": "var_list.r",
     "varRefreshCmd": "cat(var_dic_list()) "
    }
   },
   "types_to_exclude": [
    "module",
    "function",
    "builtin_function_or_method",
    "instance",
    "_Feature"
   ],
   "window_display": false
  }
 },
 "nbformat": 4,
 "nbformat_minor": 5
}
