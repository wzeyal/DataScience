{
 "cells": [
  {
   "cell_type": "markdown",
   "id": "9d03f218",
   "metadata": {},
   "source": [
    "תרגיל - ניתוח טקסט - סיווג סנטימנט\n",
    "\n",
    "מטרת התרגיל היא לסווג סנטימנט שלילי/חיובי מתוך תגובות בדף הפייסבוק של הנשיא ריבלין.\n",
    "ראשית, יש להיכנס לקישור הבא:\n",
    "https://github.com/omilab/Neural-Sentiment-Analyzer-for-Modern-Hebrew\n",
    "בקישור הנ״ל אפשר למצוא שני jupyter notebooks שבשלב זה לא רלוונטיים, אפשר להתעלם מהן. מה שכן נדרש שקריאת ההסבר בקובץ readme וקריאת המאמר עצמו. \n",
    "לאחר השלמת החלק התיאורטי, נדרש לכתוב מסווג פשוט המבוסס על TF-IDF אך לא רק ואפשר להשתמש ברעיונות נוספים כמו למשל POS. הרעיון, לממש מסווג פשוט ולא רשתות עמוקות, למשל אפשר להשתמש ב-Logistic Regression Classifier.\n",
    "\n",
    "\n",
    "References\n",
    "Introduction to Information Retrieval\n",
    "Tf-idf weighting\n",
    "How to Use Tfidftransformer & Tfidfvectorizer - A Short Tutorial\n",
    "sklearn.feature_extraction.text.TfidfVectorizer — scikit-learn 0.24.2 documentation\n"
   ]
  },
  {
   "cell_type": "code",
   "execution_count": 1,
   "id": "45aa6001",
   "metadata": {},
   "outputs": [],
   "source": [
    "import numpy as np\n",
    "import pandas as pd\n",
    "\n",
    "import matplotlib.pyplot as plt\n",
    "from bidi.algorithm import get_display\n",
    "from nltk.tokenize import TreebankWordTokenizer\n",
    "\n",
    "from keras.utils.np_utils import to_categorical\n",
    "import emoji\n",
    "import re\n",
    "import string\n",
    "import json\n",
    "import codecs"
   ]
  },
  {
   "cell_type": "markdown",
   "id": "2f7a8169",
   "metadata": {},
   "source": [
    "# Loading the data"
   ]
  },
  {
   "cell_type": "code",
   "execution_count": 4,
   "id": "e897e20d",
   "metadata": {},
   "outputs": [],
   "source": [
    "def load_data(filename):\n",
    "    data = list(codecs.open(filename, 'r', 'utf-8').readlines())\n",
    "    x, y = zip(*[d.strip().split('\\t') for d in data])\n",
    "    # Reducing any char-acter sequence of more than 3 consecutive repetitions to a respective 3-character sequence \n",
    "    # (e.g. “!!!!!!!!”turns to “!!!”)\n",
    "    # x = [re.sub(r'((.)\\2{3,})', r'\\2\\2\\2', i) for i in x]\n",
    "    x = np.asarray(list(x))\n",
    "    y = np.array(y).astype(np.int)\n",
    "    #y = to_categorical(y, 3)\n",
    "    \n",
    "    \n",
    "    return x, y"
   ]
  },
  {
   "cell_type": "code",
   "execution_count": null,
   "id": "c986eb12",
   "metadata": {},
   "outputs": [],
   "source": []
  },
  {
   "cell_type": "code",
   "execution_count": 5,
   "id": "140ad809",
   "metadata": {},
   "outputs": [],
   "source": [
    "x_token_train, y_token_train = load_data('data/token_train.tsv')\n",
    "x_token_test, y_token_test = load_data('data/token_test.tsv')\n",
    "x_morph_train, y_morph_train = load_data('data/morph_train.tsv')\n",
    "x_morph_test, y_morph_test = load_data('data/morph_test.tsv')\n"
   ]
  },
  {
   "cell_type": "code",
   "execution_count": null,
   "id": "c4f50ee5",
   "metadata": {},
   "outputs": [],
   "source": []
  },
  {
   "cell_type": "code",
   "execution_count": 6,
   "id": "be7fc2e6",
   "metadata": {},
   "outputs": [],
   "source": [
    "# putting in dataframe\n",
    "\n",
    "train_df = pd.DataFrame()\n",
    "train_df[\"x_token_train\"] = x_token_train\n",
    "train_df[\"y_token_train\"] = y_token_train\n",
    "train_df[\"x_morph_train\"] = x_morph_train\n",
    "train_df[\"y_morph_train\"] = y_morph_train\n",
    "\n",
    "test_df = pd.DataFrame()\n",
    "test_df[\"x_token_test\"] = x_token_test\n",
    "test_df[\"y_token_test\"] = y_token_test\n",
    "test_df[\"x_morph_test\"] = x_morph_test\n",
    "test_df[\"y_morph_test\"] = y_morph_test\n"
   ]
  },
  {
   "cell_type": "code",
   "execution_count": null,
   "id": "25786378",
   "metadata": {},
   "outputs": [],
   "source": []
  },
  {
   "cell_type": "markdown",
   "id": "ed5d5ff1",
   "metadata": {},
   "source": [
    "# EDA"
   ]
  },
  {
   "cell_type": "markdown",
   "id": "f6b0cdbd",
   "metadata": {},
   "source": [
    "## train_df"
   ]
  },
  {
   "cell_type": "code",
   "execution_count": 7,
   "id": "7a50b7ba",
   "metadata": {},
   "outputs": [
    {
     "name": "stdout",
     "output_type": "stream",
     "text": [
      "<class 'pandas.core.frame.DataFrame'>\n",
      "RangeIndex: 10244 entries, 0 to 10243\n",
      "Data columns (total 4 columns):\n",
      " #   Column         Non-Null Count  Dtype \n",
      "---  ------         --------------  ----- \n",
      " 0   x_token_train  10244 non-null  object\n",
      " 1   y_token_train  10244 non-null  int32 \n",
      " 2   x_morph_train  10244 non-null  object\n",
      " 3   y_morph_train  10244 non-null  int32 \n",
      "dtypes: int32(2), object(2)\n",
      "memory usage: 240.2+ KB\n"
     ]
    }
   ],
   "source": [
    "train_df.info()"
   ]
  },
  {
   "cell_type": "code",
   "execution_count": 8,
   "id": "54be0b64",
   "metadata": {},
   "outputs": [
    {
     "data": {
      "text/html": [
       "<div>\n",
       "<style scoped>\n",
       "    .dataframe tbody tr th:only-of-type {\n",
       "        vertical-align: middle;\n",
       "    }\n",
       "\n",
       "    .dataframe tbody tr th {\n",
       "        vertical-align: top;\n",
       "    }\n",
       "\n",
       "    .dataframe thead th {\n",
       "        text-align: right;\n",
       "    }\n",
       "</style>\n",
       "<table border=\"1\" class=\"dataframe\">\n",
       "  <thead>\n",
       "    <tr style=\"text-align: right;\">\n",
       "      <th></th>\n",
       "      <th>y_token_train</th>\n",
       "      <th>y_morph_train</th>\n",
       "    </tr>\n",
       "  </thead>\n",
       "  <tbody>\n",
       "    <tr>\n",
       "      <th>count</th>\n",
       "      <td>10244.00000</td>\n",
       "      <td>10244.00000</td>\n",
       "    </tr>\n",
       "    <tr>\n",
       "      <th>mean</th>\n",
       "      <td>0.36392</td>\n",
       "      <td>0.36392</td>\n",
       "    </tr>\n",
       "    <tr>\n",
       "      <th>std</th>\n",
       "      <td>0.53823</td>\n",
       "      <td>0.53823</td>\n",
       "    </tr>\n",
       "    <tr>\n",
       "      <th>min</th>\n",
       "      <td>0.00000</td>\n",
       "      <td>0.00000</td>\n",
       "    </tr>\n",
       "    <tr>\n",
       "      <th>25%</th>\n",
       "      <td>0.00000</td>\n",
       "      <td>0.00000</td>\n",
       "    </tr>\n",
       "    <tr>\n",
       "      <th>50%</th>\n",
       "      <td>0.00000</td>\n",
       "      <td>0.00000</td>\n",
       "    </tr>\n",
       "    <tr>\n",
       "      <th>75%</th>\n",
       "      <td>1.00000</td>\n",
       "      <td>1.00000</td>\n",
       "    </tr>\n",
       "    <tr>\n",
       "      <th>max</th>\n",
       "      <td>2.00000</td>\n",
       "      <td>2.00000</td>\n",
       "    </tr>\n",
       "  </tbody>\n",
       "</table>\n",
       "</div>"
      ],
      "text/plain": [
       "       y_token_train  y_morph_train\n",
       "count    10244.00000    10244.00000\n",
       "mean         0.36392        0.36392\n",
       "std          0.53823        0.53823\n",
       "min          0.00000        0.00000\n",
       "25%          0.00000        0.00000\n",
       "50%          0.00000        0.00000\n",
       "75%          1.00000        1.00000\n",
       "max          2.00000        2.00000"
      ]
     },
     "execution_count": 8,
     "metadata": {},
     "output_type": "execute_result"
    }
   ],
   "source": [
    "train_df.describe()"
   ]
  },
  {
   "cell_type": "code",
   "execution_count": 9,
   "id": "4ec82979",
   "metadata": {},
   "outputs": [
    {
     "data": {
      "text/plain": [
       "<AxesSubplot:ylabel='y_token_train'>"
      ]
     },
     "execution_count": 9,
     "metadata": {},
     "output_type": "execute_result"
    },
    {
     "data": {
      "image/png": "[encoded data removed]",
      "text/plain": [
       "<Figure size 432x288 with 1 Axes>"
      ]
     },
     "metadata": {},
     "output_type": "display_data"
    }
   ],
   "source": [
    "train_df.y_token_train.value_counts().plot(kind ='pie')"
   ]
  },
  {
   "cell_type": "code",
   "execution_count": 10,
   "id": "0a5a2c38",
   "metadata": {},
   "outputs": [
    {
     "data": {
      "text/html": [
       "<div>\n",
       "<style scoped>\n",
       "    .dataframe tbody tr th:only-of-type {\n",
       "        vertical-align: middle;\n",
       "    }\n",
       "\n",
       "    .dataframe tbody tr th {\n",
       "        vertical-align: top;\n",
       "    }\n",
       "\n",
       "    .dataframe thead th {\n",
       "        text-align: right;\n",
       "    }\n",
       "</style>\n",
       "<table border=\"1\" class=\"dataframe\">\n",
       "  <thead>\n",
       "    <tr style=\"text-align: right;\">\n",
       "      <th></th>\n",
       "      <th>y_token_train</th>\n",
       "      <th>y_morph_train</th>\n",
       "    </tr>\n",
       "  </thead>\n",
       "  <tbody>\n",
       "    <tr>\n",
       "      <th>y_token_train</th>\n",
       "      <td>1.0</td>\n",
       "      <td>1.0</td>\n",
       "    </tr>\n",
       "    <tr>\n",
       "      <th>y_morph_train</th>\n",
       "      <td>1.0</td>\n",
       "      <td>1.0</td>\n",
       "    </tr>\n",
       "  </tbody>\n",
       "</table>\n",
       "</div>"
      ],
      "text/plain": [
       "               y_token_train  y_morph_train\n",
       "y_token_train            1.0            1.0\n",
       "y_morph_train            1.0            1.0"
      ]
     },
     "execution_count": 10,
     "metadata": {},
     "output_type": "execute_result"
    }
   ],
   "source": [
    "train_df.corr()"
   ]
  },
  {
   "cell_type": "code",
   "execution_count": 11,
   "id": "431a77a2",
   "metadata": {},
   "outputs": [
    {
     "data": {
      "text/html": [
       "<div>\n",
       "<style scoped>\n",
       "    .dataframe tbody tr th:only-of-type {\n",
       "        vertical-align: middle;\n",
       "    }\n",
       "\n",
       "    .dataframe tbody tr th {\n",
       "        vertical-align: top;\n",
       "    }\n",
       "\n",
       "    .dataframe thead th {\n",
       "        text-align: right;\n",
       "    }\n",
       "</style>\n",
       "<table border=\"1\" class=\"dataframe\">\n",
       "  <thead>\n",
       "    <tr style=\"text-align: right;\">\n",
       "      <th></th>\n",
       "      <th>x_token_train</th>\n",
       "      <th>y_token_train</th>\n",
       "      <th>x_morph_train</th>\n",
       "      <th>y_morph_train</th>\n",
       "    </tr>\n",
       "  </thead>\n",
       "  <tbody>\n",
       "    <tr>\n",
       "      <th>0</th>\n",
       "      <td>ממש כואב ..... אני בוכה עם המשפחה שלא תדעו עוד...</td>\n",
       "      <td>0</td>\n",
       "      <td>ממש כואב ..... אני בכה את היא עם ה משפחה ש לא ...</td>\n",
       "      <td>0</td>\n",
       "    </tr>\n",
       "    <tr>\n",
       "      <th>1</th>\n",
       "      <td>איש יקר שלנו</td>\n",
       "      <td>0</td>\n",
       "      <td>איש יקר של אנחנו</td>\n",
       "      <td>0</td>\n",
       "    </tr>\n",
       "    <tr>\n",
       "      <th>2</th>\n",
       "      <td>כל הכבוד והמון בהצלחה</td>\n",
       "      <td>0</td>\n",
       "      <td>כל ה כבוד ו המון ב הצלחה</td>\n",
       "      <td>0</td>\n",
       "    </tr>\n",
       "    <tr>\n",
       "      <th>3</th>\n",
       "      <td>\" תל חי , רובי . בכל העצב הזה היית קרן אור של ...</td>\n",
       "      <td>0</td>\n",
       "      <td>\" תל חי , רובי . ב כל ה עצב ה זה היית קרן אור ...</td>\n",
       "      <td>0</td>\n",
       "    </tr>\n",
       "    <tr>\n",
       "      <th>4</th>\n",
       "      <td>נקי כפיים ובר לבב בהצלחה לך ולנו .</td>\n",
       "      <td>0</td>\n",
       "      <td>נקי כפיים ו בר לבב ב הצלחה ל אתה ו ל אנחנו .</td>\n",
       "      <td>0</td>\n",
       "    </tr>\n",
       "  </tbody>\n",
       "</table>\n",
       "</div>"
      ],
      "text/plain": [
       "                                       x_token_train  y_token_train  \\\n",
       "0  ממש כואב ..... אני בוכה עם המשפחה שלא תדעו עוד...              0   \n",
       "1                                       איש יקר שלנו              0   \n",
       "2                              כל הכבוד והמון בהצלחה              0   \n",
       "3  \" תל חי , רובי . בכל העצב הזה היית קרן אור של ...              0   \n",
       "4                 נקי כפיים ובר לבב בהצלחה לך ולנו .              0   \n",
       "\n",
       "                                       x_morph_train  y_morph_train  \n",
       "0  ממש כואב ..... אני בכה את היא עם ה משפחה ש לא ...              0  \n",
       "1                                   איש יקר של אנחנו              0  \n",
       "2                           כל ה כבוד ו המון ב הצלחה              0  \n",
       "3  \" תל חי , רובי . ב כל ה עצב ה זה היית קרן אור ...              0  \n",
       "4       נקי כפיים ו בר לבב ב הצלחה ל אתה ו ל אנחנו .              0  "
      ]
     },
     "execution_count": 11,
     "metadata": {},
     "output_type": "execute_result"
    }
   ],
   "source": [
    "train_df[train_df.y_token_train == 0][:5]"
   ]
  },
  {
   "cell_type": "code",
   "execution_count": 12,
   "id": "c1514a5e",
   "metadata": {},
   "outputs": [
    {
     "data": {
      "text/html": [
       "<div>\n",
       "<style scoped>\n",
       "    .dataframe tbody tr th:only-of-type {\n",
       "        vertical-align: middle;\n",
       "    }\n",
       "\n",
       "    .dataframe tbody tr th {\n",
       "        vertical-align: top;\n",
       "    }\n",
       "\n",
       "    .dataframe thead th {\n",
       "        text-align: right;\n",
       "    }\n",
       "</style>\n",
       "<table border=\"1\" class=\"dataframe\">\n",
       "  <thead>\n",
       "    <tr style=\"text-align: right;\">\n",
       "      <th></th>\n",
       "      <th>x_token_train</th>\n",
       "      <th>y_token_train</th>\n",
       "      <th>x_morph_train</th>\n",
       "      <th>y_morph_train</th>\n",
       "    </tr>\n",
       "  </thead>\n",
       "  <tbody>\n",
       "    <tr>\n",
       "      <th>9</th>\n",
       "      <td>אדוני הנשיא סליחה על הבוטות תפסיק לזיין את השכ...</td>\n",
       "      <td>1</td>\n",
       "      <td>אדוני ה נשיא סליחה על ה בוטות תפסיק לזיין את ה...</td>\n",
       "      <td>1</td>\n",
       "    </tr>\n",
       "    <tr>\n",
       "      <th>11</th>\n",
       "      <td>ואני עוד חשבתי שהגיע נשיא נורמלי</td>\n",
       "      <td>1</td>\n",
       "      <td>ו אני עוד חשבתי ש הגיע נשיא נורמלי</td>\n",
       "      <td>1</td>\n",
       "    </tr>\n",
       "    <tr>\n",
       "      <th>12</th>\n",
       "      <td>נשיא המדינה הלבן והמנותק חכם בדיבורים . הוא לא...</td>\n",
       "      <td>1</td>\n",
       "      <td>נשיא ה מדינה ה לבן ו ה מנותק חכם ב ה דיבורים ....</td>\n",
       "      <td>1</td>\n",
       "    </tr>\n",
       "    <tr>\n",
       "      <th>14</th>\n",
       "      <td>\" רובי ריבלין היקר !! אתה איש משפחה לא ???.. מ...</td>\n",
       "      <td>1</td>\n",
       "      <td>\" רובי ריבלין ה יקר !! אתה איש משפחה לא ???.. ...</td>\n",
       "      <td>1</td>\n",
       "    </tr>\n",
       "    <tr>\n",
       "      <th>18</th>\n",
       "      <td>עוד לא שבוע בתפקיד וכבר שכחת מאיפה באת ?</td>\n",
       "      <td>1</td>\n",
       "      <td>עוד לא שבוע ב ה תפקיד ו כבר שכחת מ איפה באת ?</td>\n",
       "      <td>1</td>\n",
       "    </tr>\n",
       "  </tbody>\n",
       "</table>\n",
       "</div>"
      ],
      "text/plain": [
       "                                        x_token_train  y_token_train  \\\n",
       "9   אדוני הנשיא סליחה על הבוטות תפסיק לזיין את השכ...              1   \n",
       "11                   ואני עוד חשבתי שהגיע נשיא נורמלי              1   \n",
       "12  נשיא המדינה הלבן והמנותק חכם בדיבורים . הוא לא...              1   \n",
       "14  \" רובי ריבלין היקר !! אתה איש משפחה לא ???.. מ...              1   \n",
       "18           עוד לא שבוע בתפקיד וכבר שכחת מאיפה באת ?              1   \n",
       "\n",
       "                                        x_morph_train  y_morph_train  \n",
       "9   אדוני ה נשיא סליחה על ה בוטות תפסיק לזיין את ה...              1  \n",
       "11                 ו אני עוד חשבתי ש הגיע נשיא נורמלי              1  \n",
       "12  נשיא ה מדינה ה לבן ו ה מנותק חכם ב ה דיבורים ....              1  \n",
       "14  \" רובי ריבלין ה יקר !! אתה איש משפחה לא ???.. ...              1  \n",
       "18      עוד לא שבוע ב ה תפקיד ו כבר שכחת מ איפה באת ?              1  "
      ]
     },
     "execution_count": 12,
     "metadata": {},
     "output_type": "execute_result"
    }
   ],
   "source": [
    "train_df[train_df.y_token_train == 1][:5]"
   ]
  },
  {
   "cell_type": "code",
   "execution_count": 13,
   "id": "48d58e7b",
   "metadata": {},
   "outputs": [
    {
     "data": {
      "text/html": [
       "<div>\n",
       "<style scoped>\n",
       "    .dataframe tbody tr th:only-of-type {\n",
       "        vertical-align: middle;\n",
       "    }\n",
       "\n",
       "    .dataframe tbody tr th {\n",
       "        vertical-align: top;\n",
       "    }\n",
       "\n",
       "    .dataframe thead th {\n",
       "        text-align: right;\n",
       "    }\n",
       "</style>\n",
       "<table border=\"1\" class=\"dataframe\">\n",
       "  <thead>\n",
       "    <tr style=\"text-align: right;\">\n",
       "      <th></th>\n",
       "      <th>x_token_train</th>\n",
       "      <th>y_token_train</th>\n",
       "      <th>x_morph_train</th>\n",
       "      <th>y_morph_train</th>\n",
       "    </tr>\n",
       "  </thead>\n",
       "  <tbody>\n",
       "    <tr>\n",
       "      <th>53</th>\n",
       "      <td>חייבים לעשות סוג של חרם כשכתבים שונאי ישראל עו...</td>\n",
       "      <td>2</td>\n",
       "      <td>חייבים לעשות סוג של חרם כש כתבים שונאי ישראל ע...</td>\n",
       "      <td>2</td>\n",
       "    </tr>\n",
       "    <tr>\n",
       "      <th>78</th>\n",
       "      <td>אז אתה בא ? https://www.facebook.com/events/15...</td>\n",
       "      <td>2</td>\n",
       "      <td>אז אתה בא ? https://www.facebook.com/events/15...</td>\n",
       "      <td>2</td>\n",
       "    </tr>\n",
       "    <tr>\n",
       "      <th>82</th>\n",
       "      <td>\" גאי אתה טיפש מטופש ילד כאפות שלא חונך על ברכ...</td>\n",
       "      <td>2</td>\n",
       "      <td>\" גאי אתה טיפש מטופש ילד כאפות ש לא חונך על בר...</td>\n",
       "      <td>2</td>\n",
       "    </tr>\n",
       "    <tr>\n",
       "      <th>117</th>\n",
       "      <td>שמעון יפרח העלאתי בשבילך את דבריו של שמעון פרס...</td>\n",
       "      <td>2</td>\n",
       "      <td>ש מעון יפרח העלאתי בשביל אתה את דבריו של שמעון...</td>\n",
       "      <td>2</td>\n",
       "    </tr>\n",
       "    <tr>\n",
       "      <th>181</th>\n",
       "      <td>רובי ריבלין הנשיא העשירי תחזית שניתנה לפני הבח...</td>\n",
       "      <td>2</td>\n",
       "      <td>רובי ריבלין ה נשיא ה עשירי תחזית ש ניתנה לפני ...</td>\n",
       "      <td>2</td>\n",
       "    </tr>\n",
       "  </tbody>\n",
       "</table>\n",
       "</div>"
      ],
      "text/plain": [
       "                                         x_token_train  y_token_train  \\\n",
       "53   חייבים לעשות סוג של חרם כשכתבים שונאי ישראל עו...              2   \n",
       "78   אז אתה בא ? https://www.facebook.com/events/15...              2   \n",
       "82   \" גאי אתה טיפש מטופש ילד כאפות שלא חונך על ברכ...              2   \n",
       "117  שמעון יפרח העלאתי בשבילך את דבריו של שמעון פרס...              2   \n",
       "181  רובי ריבלין הנשיא העשירי תחזית שניתנה לפני הבח...              2   \n",
       "\n",
       "                                         x_morph_train  y_morph_train  \n",
       "53   חייבים לעשות סוג של חרם כש כתבים שונאי ישראל ע...              2  \n",
       "78   אז אתה בא ? https://www.facebook.com/events/15...              2  \n",
       "82   \" גאי אתה טיפש מטופש ילד כאפות ש לא חונך על בר...              2  \n",
       "117  ש מעון יפרח העלאתי בשביל אתה את דבריו של שמעון...              2  \n",
       "181  רובי ריבלין ה נשיא ה עשירי תחזית ש ניתנה לפני ...              2  "
      ]
     },
     "execution_count": 13,
     "metadata": {},
     "output_type": "execute_result"
    }
   ],
   "source": [
    "train_df[train_df.y_token_train == 2][:5]"
   ]
  },
  {
   "cell_type": "code",
   "execution_count": null,
   "id": "425aa0c6",
   "metadata": {},
   "outputs": [],
   "source": []
  },
  {
   "cell_type": "markdown",
   "id": "0af2f93b",
   "metadata": {},
   "source": [
    "The dataset contains:\n",
    "1. **x_token_train** - collection of talkback as strings\n",
    "2. **y_token_train** - Sentiment classification (target), (0 - Positive, 1 - Negative, 2 - Neutral)\n",
    "3. **x_morph_train** - same as x_token_train, but seperated to prefix, nuclear word, suffix (morphologically rich language)\n",
    "4. **y_morph_train** - same as y_token_train, since it is the same sentiment"
   ]
  },
  {
   "cell_type": "markdown",
   "id": "771e6d60",
   "metadata": {},
   "source": [
    "morph examples:    \n",
    "\n",
    "    לנשיאות\n",
    "    ל ה נשיאות\n",
    "\n",
    "    לה הצלחה\n",
    "    ל היא הצלחה"
   ]
  },
  {
   "cell_type": "code",
   "execution_count": 14,
   "id": "b1e28038",
   "metadata": {},
   "outputs": [],
   "source": [
    "# dropping the duplicate y_morph_train column"
   ]
  },
  {
   "cell_type": "code",
   "execution_count": 15,
   "id": "60e39ac1",
   "metadata": {},
   "outputs": [],
   "source": [
    "train_df.drop('y_morph_train', axis='columns', inplace=True)\n",
    "train_df.rename(columns={\"y_token_train\": \"y_train\"}, inplace=True)"
   ]
  },
  {
   "cell_type": "code",
   "execution_count": 16,
   "id": "bafa2401",
   "metadata": {},
   "outputs": [
    {
     "data": {
      "text/html": [
       "<div>\n",
       "<style scoped>\n",
       "    .dataframe tbody tr th:only-of-type {\n",
       "        vertical-align: middle;\n",
       "    }\n",
       "\n",
       "    .dataframe tbody tr th {\n",
       "        vertical-align: top;\n",
       "    }\n",
       "\n",
       "    .dataframe thead th {\n",
       "        text-align: right;\n",
       "    }\n",
       "</style>\n",
       "<table border=\"1\" class=\"dataframe\">\n",
       "  <thead>\n",
       "    <tr style=\"text-align: right;\">\n",
       "      <th></th>\n",
       "      <th>x_token_train</th>\n",
       "      <th>y_train</th>\n",
       "      <th>x_morph_train</th>\n",
       "    </tr>\n",
       "  </thead>\n",
       "  <tbody>\n",
       "    <tr>\n",
       "      <th>0</th>\n",
       "      <td>ממש כואב ..... אני בוכה עם המשפחה שלא תדעו עוד...</td>\n",
       "      <td>0</td>\n",
       "      <td>ממש כואב ..... אני בכה את היא עם ה משפחה ש לא ...</td>\n",
       "    </tr>\n",
       "    <tr>\n",
       "      <th>1</th>\n",
       "      <td>איש יקר שלנו</td>\n",
       "      <td>0</td>\n",
       "      <td>איש יקר של אנחנו</td>\n",
       "    </tr>\n",
       "    <tr>\n",
       "      <th>2</th>\n",
       "      <td>כל הכבוד והמון בהצלחה</td>\n",
       "      <td>0</td>\n",
       "      <td>כל ה כבוד ו המון ב הצלחה</td>\n",
       "    </tr>\n",
       "    <tr>\n",
       "      <th>3</th>\n",
       "      <td>\" תל חי , רובי . בכל העצב הזה היית קרן אור של ...</td>\n",
       "      <td>0</td>\n",
       "      <td>\" תל חי , רובי . ב כל ה עצב ה זה היית קרן אור ...</td>\n",
       "    </tr>\n",
       "    <tr>\n",
       "      <th>4</th>\n",
       "      <td>נקי כפיים ובר לבב בהצלחה לך ולנו .</td>\n",
       "      <td>0</td>\n",
       "      <td>נקי כפיים ו בר לבב ב הצלחה ל אתה ו ל אנחנו .</td>\n",
       "    </tr>\n",
       "  </tbody>\n",
       "</table>\n",
       "</div>"
      ],
      "text/plain": [
       "                                       x_token_train  y_train  \\\n",
       "0  ממש כואב ..... אני בוכה עם המשפחה שלא תדעו עוד...        0   \n",
       "1                                       איש יקר שלנו        0   \n",
       "2                              כל הכבוד והמון בהצלחה        0   \n",
       "3  \" תל חי , רובי . בכל העצב הזה היית קרן אור של ...        0   \n",
       "4                 נקי כפיים ובר לבב בהצלחה לך ולנו .        0   \n",
       "\n",
       "                                       x_morph_train  \n",
       "0  ממש כואב ..... אני בכה את היא עם ה משפחה ש לא ...  \n",
       "1                                   איש יקר של אנחנו  \n",
       "2                           כל ה כבוד ו המון ב הצלחה  \n",
       "3  \" תל חי , רובי . ב כל ה עצב ה זה היית קרן אור ...  \n",
       "4       נקי כפיים ו בר לבב ב הצלחה ל אתה ו ל אנחנו .  "
      ]
     },
     "execution_count": 16,
     "metadata": {},
     "output_type": "execute_result"
    }
   ],
   "source": [
    "train_df.head()"
   ]
  },
  {
   "cell_type": "code",
   "execution_count": 17,
   "id": "d60a58fe",
   "metadata": {},
   "outputs": [],
   "source": [
    "# Cleaning methods:\n",
    "def remove_URL(text):\n",
    "    url = re.compile(r\"https?://\\S+|www\\.\\S+\")\n",
    "    return url.sub(r\"\", text)\n",
    "\n",
    "def remove_html(text):\n",
    "    html = re.compile(r\"<.*?>\")\n",
    "    return html.sub(r\"\", text)\n",
    "\n",
    "def remove_punct(text):\n",
    "    table = str.maketrans(\"\", \"\", string.punctuation)\n",
    "    return text.translate(table)\n",
    "\n",
    "def remove_stopwords(text):\n",
    "    text = [word.lower() for word in text.split() if word.lower() not in stop]\n",
    "    return \" \".join(text)"
   ]
  },
  {
   "cell_type": "code",
   "execution_count": null,
   "id": "a2ae0f7a",
   "metadata": {},
   "outputs": [],
   "source": []
  },
  {
   "cell_type": "code",
   "execution_count": 18,
   "id": "d24a4659",
   "metadata": {},
   "outputs": [],
   "source": [
    "# adding a clean token column\n",
    "train_df[\"clean_token\"] = train_df.x_token_train.map(lambda x: remove_URL(x))\n",
    "train_df[\"clean_token\"] = train_df.x_token_train.map(lambda x: remove_html(x))\n",
    "train_df[\"clean_token\"] = train_df.x_token_train.map(lambda x: remove_emoji(x))\n",
    "train_df[\"clean_token\"] = train_df.x_token_train.map(lambda x: remove_punct(x))"
   ]
  },
  {
   "cell_type": "code",
   "execution_count": null,
   "id": "aa81d91b",
   "metadata": {},
   "outputs": [],
   "source": []
  },
  {
   "cell_type": "code",
   "execution_count": 19,
   "id": "c5dac136",
   "metadata": {},
   "outputs": [],
   "source": [
    "# displaying a word cloud of the diffrent sentiment"
   ]
  },
  {
   "cell_type": "code",
   "execution_count": 20,
   "id": "5c4b7e9e",
   "metadata": {},
   "outputs": [
    {
     "ename": "NameError",
     "evalue": "name 'json' is not defined",
     "output_type": "error",
     "traceback": [
      "\u001b[1;31m---------------------------------------------------------------------------\u001b[0m",
      "\u001b[1;31mNameError\u001b[0m                                 Traceback (most recent call last)",
      "\u001b[1;32m<ipython-input-20-8578832e0130>\u001b[0m in \u001b[0;36m<module>\u001b[1;34m\u001b[0m\n\u001b[0;32m      1\u001b[0m \u001b[0mstop_words\u001b[0m \u001b[1;33m=\u001b[0m\u001b[1;33m[\u001b[0m\u001b[1;33m]\u001b[0m\u001b[1;33m\u001b[0m\u001b[1;33m\u001b[0m\u001b[0m\n\u001b[0;32m      2\u001b[0m \u001b[1;32mwith\u001b[0m \u001b[0mopen\u001b[0m\u001b[1;33m(\u001b[0m\u001b[1;34m'hebrew_stop_words.json'\u001b[0m\u001b[1;33m,\u001b[0m \u001b[1;34m'r'\u001b[0m\u001b[1;33m)\u001b[0m \u001b[1;32mas\u001b[0m \u001b[0mf\u001b[0m\u001b[1;33m:\u001b[0m\u001b[1;33m\u001b[0m\u001b[1;33m\u001b[0m\u001b[0m\n\u001b[1;32m----> 3\u001b[1;33m     \u001b[0mstop_words\u001b[0m \u001b[1;33m=\u001b[0m \u001b[0mjson\u001b[0m\u001b[1;33m.\u001b[0m\u001b[0mload\u001b[0m\u001b[1;33m(\u001b[0m\u001b[0mf\u001b[0m\u001b[1;33m)\u001b[0m\u001b[1;33m\u001b[0m\u001b[1;33m\u001b[0m\u001b[0m\n\u001b[0m\u001b[0;32m      4\u001b[0m \u001b[1;33m\u001b[0m\u001b[0m\n\u001b[0;32m      5\u001b[0m \u001b[1;31m# use get_display to convert the hebrew stop words, so the word cloud won't be reversed\u001b[0m\u001b[1;33m\u001b[0m\u001b[1;33m\u001b[0m\u001b[1;33m\u001b[0m\u001b[0m\n",
      "\u001b[1;31mNameError\u001b[0m: name 'json' is not defined"
     ]
    }
   ],
   "source": [
    "\n",
    "\n",
    "stop_words =[]\n",
    "with open('hebrew_stop_words.json', 'r') as f:\n",
    "    stop_words = json.load(f)\n",
    "    \n",
    "# use get_display to convert the hebrew stop words, so the word cloud won't be reversed \n",
    "bd_hsw = get_display(\" \".join(stop_words)).split(\" \")"
   ]
  },
  {
   "cell_type": "code",
   "execution_count": null,
   "id": "0c14136b",
   "metadata": {},
   "outputs": [],
   "source": [
    "from wordcloud import WordCloud"
   ]
  },
  {
   "cell_type": "code",
   "execution_count": null,
   "id": "71d588cb",
   "metadata": {},
   "outputs": [],
   "source": []
  },
  {
   "cell_type": "code",
   "execution_count": null,
   "id": "306cfe83",
   "metadata": {},
   "outputs": [],
   "source": [
    "# positive vs negative"
   ]
  },
  {
   "cell_type": "code",
   "execution_count": null,
   "id": "a8750dbd",
   "metadata": {},
   "outputs": [],
   "source": [
    "positive_token_df = train_df[train_df.target_label=='Positive']"
   ]
  },
  {
   "cell_type": "code",
   "execution_count": null,
   "id": "9095d6bd",
   "metadata": {},
   "outputs": [],
   "source": []
  },
  {
   "cell_type": "code",
   "execution_count": null,
   "id": "00e6b4b6",
   "metadata": {},
   "outputs": [],
   "source": []
  },
  {
   "cell_type": "code",
   "execution_count": null,
   "id": "b7f99ec1",
   "metadata": {},
   "outputs": [],
   "source": [
    "all_positive_wc = WordCloud(\n",
    "    colormap='viridis',\n",
    "    font_path='Fonts/GveretLevinAlefAlefAlef-Regular.ttf',\n",
    "    background_color=\"white\",\n",
    "    stopwords=bd_hsw,\n",
    "    max_words=30,\n",
    "    max_font_size=80).generate(get_display(\" \".join(train_df[train_df.target_label=='Positive'].clean_token)))\n",
    "\n",
    "all_negative_wc = WordCloud(\n",
    "    colormap='inferno',\n",
    "    font_path='Fonts/GveretLevinAlefAlefAlef-Regular.ttf',\n",
    "    background_color=\"white\",\n",
    "    stopwords=bd_hsw,\n",
    "    max_words=30,\n",
    "    max_font_size=80).generate(get_display(\" \".join(train_df[train_df.target_label=='Negative'].clean_token)))\n",
    "\n",
    "all_neutral_wc = WordCloud(\n",
    "    colormap='magma',\n",
    "    font_path='Fonts/GveretLevinAlefAlefAlef-Regular.ttf',\n",
    "    background_color=\"white\",\n",
    "    stopwords=bd_hsw,\n",
    "    max_words=30,\n",
    "    max_font_size=80).generate(get_display(\" \".join(train_df[train_df.target_label=='Neutral'].clean_token)))\n",
    "\n",
    "plt.figure(1, figsize=(16, 8))\n",
    "\n",
    "plt.subplot(1, 2, 1)\n",
    "plt.title(\"Positive\")\n",
    "plt.imshow(all_positive_wc)\n",
    "\n",
    "plt.subplot(1, 2, 2)\n",
    "plt.title(\"Negative\")\n",
    "plt.imshow(all_negative_wc)\n",
    "\n",
    "plt.figure(2, figsize=(8, 8))\n",
    "plt.title(\"Neutral\")\n",
    "plt.imshow(all_neutral_wc)\n",
    "\n"
   ]
  },
  {
   "cell_type": "markdown",
   "id": "59b42808",
   "metadata": {},
   "source": [
    "# TF IDF & Logistic Regression"
   ]
  },
  {
   "cell_type": "code",
   "execution_count": null,
   "id": "1a3c025a",
   "metadata": {},
   "outputs": [],
   "source": [
    "from sklearn.feature_extraction.text import TfidfVectorizer\n",
    "from sklearn.model_selection import train_test_split\n",
    "from sklearn.linear_model import LogisticRegression\n",
    "from sklearn.metrics import f1_score"
   ]
  },
  {
   "cell_type": "code",
   "execution_count": null,
   "id": "16344e11",
   "metadata": {},
   "outputs": [],
   "source": [
    "#def tfidf(data, ngrams=(1, 1)):\n",
    "#    tfidf_vectorizer = TfidfVectorizer(ngram_range=ngrams)\n",
    "#    train = tfidf_vectorizer.fit_transform(data)\n",
    "\n",
    "#    return train, tfidf_vectorizer\n",
    "\n",
    "def tfidf(list_of_words, target):\n",
    "    tfidf_vectorizer = TfidfVectorizer()\n",
    "    document_term_matrix = tfidf_vectorizer.fit_transform(list_of_words)\n",
    "    \n",
    "    # Training the model\n",
    "\n",
    "    X = document_term_matrix\n",
    "    y = target\n",
    "\n",
    "    X_train_tfidf, X_test, y_train_tfidf, y_test = train_test_split(X, y, test_size=0.2, random_state=42)\n",
    "\n",
    "    model = LogisticRegression(class_weight=\"balanced\")\n",
    "    model.fit(X_train_tfidf, y_train_tfidf)\n",
    "\n",
    "    y_pred = model.predict(X_test)\n",
    "\n",
    "    f1score = f1_score(y_test, y_pred, average='weighted')\n",
    "    print(f\"Tfidf training Model Score: {f1score * 100} %\")\n",
    "    \n",
    "    return model, tfidf_vectorizer\n",
    "\n"
   ]
  },
  {
   "cell_type": "code",
   "execution_count": null,
   "id": "be9b7548",
   "metadata": {},
   "outputs": [],
   "source": [
    "def tfidf(train_words, train_target, test_words, test_target):\n",
    "    tfidf_vectorizer = TfidfVectorizer()\n",
    "    document_term_matrix = tfidf_vectorizer.fit_transform(train_words)\n",
    "    \n",
    "    # Training the model\n",
    "\n",
    "    X = document_term_matrix\n",
    "    y = train_target\n",
    "\n",
    "    X_train_tfidf, X_test, y_train_tfidf, y_test = train_test_split(X, y, test_size=0.2, random_state=42)\n",
    "\n",
    "    model = LogisticRegression(class_weight=\"balanced\")\n",
    "    model.fit(X_train_tfidf, y_train_tfidf)\n",
    "\n",
    "    y_pred = model.predict(X_test)\n",
    "\n",
    "    f1score = f1_score(y_test, y_pred, average='weighted')\n",
    "    print(f\"Tfidf training Model Score: {f1score * 100} %\")\n",
    "    \n",
    "    # Testing the model\n",
    "    test_tfidf = tfidf_vectorizer.transform(test_words)\n",
    "    y_test_predict =model.predict(test_tfidf)\n",
    "    \n",
    "    f1score = f1_score(y_test_predict, test_target, average='weighted')\n",
    "    print(f\"Tfidf Test Model Score: {f1score * 100} %\")"
   ]
  },
  {
   "cell_type": "code",
   "execution_count": null,
   "id": "f746324c",
   "metadata": {},
   "outputs": [],
   "source": []
  },
  {
   "cell_type": "markdown",
   "id": "d7d6024b",
   "metadata": {},
   "source": [
    "## Token"
   ]
  },
  {
   "cell_type": "code",
   "execution_count": null,
   "id": "fa8ead43",
   "metadata": {},
   "outputs": [],
   "source": [
    "tfidf(train_df.x_token_train, train_df.y_train, test_df.x_token_test, test_df.y_token_test)"
   ]
  },
  {
   "cell_type": "code",
   "execution_count": null,
   "id": "d6765521",
   "metadata": {},
   "outputs": [],
   "source": []
  },
  {
   "cell_type": "markdown",
   "id": "a8b10966",
   "metadata": {},
   "source": [
    "## Morph"
   ]
  },
  {
   "cell_type": "code",
   "execution_count": null,
   "id": "32ebbde5",
   "metadata": {},
   "outputs": [],
   "source": [
    "tfidf(train_df.x_morph_train, train_df.y_train, test_df.x_morph_test, test_df.y_morph_test)"
   ]
  },
  {
   "cell_type": "code",
   "execution_count": null,
   "id": "f3884593",
   "metadata": {},
   "outputs": [],
   "source": []
  },
  {
   "cell_type": "markdown",
   "id": "23834a38",
   "metadata": {},
   "source": [
    "## Token"
   ]
  },
  {
   "cell_type": "code",
   "execution_count": null,
   "id": "ef6b69ba",
   "metadata": {},
   "outputs": [],
   "source": [
    "token_model, token_tfidf_vectorizer = tfidf(train_df.x_token_train, train_df.y_train, )\n",
    "\n",
    "# Testing the model\n",
    "test_tfidf = token_tfidf_vectorizer.transform(test_df.x_token_test)\n",
    "y_test_predict = token_model.predict(test_tfidf)\n",
    "\n",
    "f1score = f1_score(y_test_predict, test_df.y_token_test, average='weighted')\n",
    "print(f\"Tfidf Test Model Score: {f1score * 100} %\")"
   ]
  },
  {
   "cell_type": "markdown",
   "id": "cb989504",
   "metadata": {},
   "source": [
    "## Morph"
   ]
  },
  {
   "cell_type": "code",
   "execution_count": null,
   "id": "f2d9488f",
   "metadata": {},
   "outputs": [],
   "source": [
    "morph_model, morph_tfidf_vectorizer = tfidf(train_df.x_morph_train, train_df.y_train)\n",
    "\n",
    "# Testing the model\n",
    "test_tfidf = morph_tfidf_vectorizer.transform(test_df.x_morph_test)\n",
    "y_test_predict = morph_model.predict(test_tfidf)\n",
    "\n",
    "f1score = f1_score(y_test_predict, test_df.y_morph_test, average='weighted')\n",
    "print(f\"Tfidf Test Model Score: {f1score * 100} %\")"
   ]
  },
  {
   "cell_type": "code",
   "execution_count": null,
   "id": "f2f729ca",
   "metadata": {},
   "outputs": [],
   "source": []
  }
 ],
 "metadata": {
  "kernelspec": {
   "display_name": "Python 3",
   "language": "python",
   "name": "python3"
  },
  "language_info": {
   "codemirror_mode": {
    "name": "ipython",
    "version": 3
   },
   "file_extension": ".py",
   "mimetype": "text/x-python",
   "name": "python",
   "nbconvert_exporter": "python",
   "pygments_lexer": "ipython3",
   "version": "3.8.8"
  },
  "varInspector": {
   "cols": {
    "lenName": 16,
    "lenType": 16,
    "lenVar": 40
   },
   "kernels_config": {
    "python": {
     "delete_cmd_postfix": "",
     "delete_cmd_prefix": "del ",
     "library": "var_list.py",
     "varRefreshCmd": "print(var_dic_list())"
    },
    "r": {
     "delete_cmd_postfix": ") ",
     "delete_cmd_prefix": "rm(",
     "library": "var_list.r",
     "varRefreshCmd": "cat(var_dic_list()) "
    }
   },
   "types_to_exclude": [
    "module",
    "function",
    "builtin_function_or_method",
    "instance",
    "_Feature"
   ],
   "window_display": false
  }
 },
 "nbformat": 4,
 "nbformat_minor": 5
}
