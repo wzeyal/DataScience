{
 "cells": [
  {
   "cell_type": "markdown",
   "id": "9d03f218",
   "metadata": {},
   "source": [
    "תרגיל - ניתוח טקסט - סיווג סנטימנט\n",
    "\n",
    "מטרת התרגיל היא לסווג סנטימנט שלילי/חיובי מתוך תגובות בדף הפייסבוק של הנשיא ריבלין.\n",
    "ראשית, יש להיכנס לקישור הבא:\n",
    "https://github.com/omilab/Neural-Sentiment-Analyzer-for-Modern-Hebrew\n",
    "בקישור הנ״ל אפשר למצוא שני jupyter notebooks שבשלב זה לא רלוונטיים, אפשר להתעלם מהן. מה שכן נדרש שקריאת ההסבר בקובץ readme וקריאת המאמר עצמו. \n",
    "לאחר השלמת החלק התיאורטי, נדרש לכתוב מסווג פשוט המבוסס על TF-IDF אך לא רק ואפשר להשתמש ברעיונות נוספים כמו למשל POS. הרעיון, לממש מסווג פשוט ולא רשתות עמוקות, למשל אפשר להשתמש ב-Logistic Regression Classifier.\n",
    "\n",
    "\n",
    "References\n",
    "Introduction to Information Retrieval\n",
    "Tf-idf weighting\n",
    "How to Use Tfidftransformer & Tfidfvectorizer - A Short Tutorial\n",
    "sklearn.feature_extraction.text.TfidfVectorizer — scikit-learn 0.24.2 documentation\n"
   ]
  },
  {
   "cell_type": "code",
   "execution_count": null,
   "id": "06269278",
   "metadata": {},
   "outputs": [],
   "source": []
  },
  {
   "cell_type": "code",
   "execution_count": 2,
   "id": "45aa6001",
   "metadata": {},
   "outputs": [],
   "source": [
    "import codecs\n",
    "import numpy as np\n",
    "import pandas as pd\n",
    "from keras.utils.np_utils import to_categorical\n",
    "import matplotlib.pyplot as plt\n",
    "from bidi.algorithm import get_display\n",
    "from nltk.tokenize import TreebankWordTokenizer\n",
    "import emoji\n",
    "import re\n",
    "import string\n",
    "\n",
    "from sklearn.feature_extraction.text import TfidfVectorizer\n"
   ]
  },
  {
   "cell_type": "code",
   "execution_count": null,
   "id": "bd558a3a",
   "metadata": {},
   "outputs": [],
   "source": []
  },
  {
   "cell_type": "code",
   "execution_count": null,
   "id": "89ae5d4b",
   "metadata": {},
   "outputs": [],
   "source": []
  },
  {
   "cell_type": "code",
   "execution_count": 4,
   "id": "ec7f76f2",
   "metadata": {},
   "outputs": [],
   "source": [
    "def extract_emojis(text):\n",
    "  return ''.join(c for c in text if c in emoji.UNICODE_EMOJI['en'])\n",
    "\n",
    "def remove_emoji(string):\n",
    "    emoji_pattern = re.compile(\n",
    "        \"[\"\n",
    "        u\"\\U0001F600-\\U0001F64F\"  # emoticons\n",
    "        u\"\\U0001F300-\\U0001F5FF\"  # symbols & pictographs\n",
    "        u\"\\U0001F680-\\U0001F6FF\"  # transport & map symbols\n",
    "        u\"\\U0001F1E0-\\U0001F1FF\"  # flags (iOS)\n",
    "        u\"\\U00002702-\\U000027B0\"\n",
    "        u\"\\U000024C2-\\U0001F251\"\n",
    "        \"]+\",\n",
    "        flags=re.UNICODE,\n",
    "    )\n",
    "    return emoji_pattern.sub(r\"\", string)\n",
    "\n",
    "def remove_URL(text):\n",
    "    url = re.compile(r\"https?://\\S+|www\\.\\S+\")\n",
    "    return url.sub(r\"\", text)\n",
    "\n",
    "def remove_html(text):\n",
    "    html = re.compile(r\"<.*?>\")\n",
    "    return html.sub(r\"\", text)\n",
    "\n",
    "def remove_punct(text):\n",
    "    table = str.maketrans(\"\", \"\", string.punctuation)\n",
    "    return text.translate(table)\n",
    "\n",
    "def remove_stopwords(text):\n",
    "    text = [word.lower() for word in text.split() if word.lower() not in stop]\n",
    "    return \" \".join(text)"
   ]
  },
  {
   "cell_type": "code",
   "execution_count": null,
   "id": "c5383472",
   "metadata": {},
   "outputs": [],
   "source": []
  },
  {
   "cell_type": "code",
   "execution_count": 5,
   "id": "f8336372",
   "metadata": {},
   "outputs": [],
   "source": [
    "def tfidf(data, ngrams=(1, 1)):\n",
    "    tfidf_vectorizer = TfidfVectorizer(ngram_range=ngrams)\n",
    "    train = tfidf_vectorizer.fit_transform(data)\n",
    "\n",
    "    return train, tfidf_vectorizer"
   ]
  },
  {
   "cell_type": "code",
   "execution_count": null,
   "id": "9c749d7e",
   "metadata": {},
   "outputs": [],
   "source": []
  },
  {
   "cell_type": "markdown",
   "id": "1a4a80bd",
   "metadata": {},
   "source": [
    "# Loading the data"
   ]
  },
  {
   "cell_type": "code",
   "execution_count": null,
   "id": "746d0bb7",
   "metadata": {},
   "outputs": [],
   "source": [
    "def load_data(filename):\n",
    "    data = list(codecs.open(filename, 'r', 'utf-8').readlines())\n",
    "    x, y = zip(*[d.strip().split('\\t') for d in data])\n",
    "    # Reducing any char-acter sequence of more than 3 consecutive repetitions to a respective 3-character sequence \n",
    "    # (e.g. “!!!!!!!!”turns to “!!!”)\n",
    "    # x = [re.sub(r'((.)\\2{3,})', r'\\2\\2\\2', i) for i in x]\n",
    "    x = np.asarray(list(x))\n",
    "    y = np.array(y).astype(np.int)\n",
    "    #y = to_categorical(y, 3)\n",
    "    \n",
    "    \n",
    "    return x, y"
   ]
  },
  {
   "cell_type": "code",
   "execution_count": null,
   "id": "0ed41fff",
   "metadata": {},
   "outputs": [],
   "source": []
  },
  {
   "cell_type": "code",
   "execution_count": 41,
   "id": "140ad809",
   "metadata": {},
   "outputs": [],
   "source": [
    "x_token_train, y_token_train = load_data('data/token_train.tsv')\n",
    "x_token_test, y_token_test = load_data('data/token_test.tsv')\n",
    "x_morph_train, y_morph_train = load_data('data/morph_train.tsv')\n",
    "x_morph_test, y_morph_test = load_data('data/morph_test.tsv')\n"
   ]
  },
  {
   "cell_type": "code",
   "execution_count": null,
   "id": "d7c321c1",
   "metadata": {},
   "outputs": [],
   "source": []
  },
  {
   "cell_type": "code",
   "execution_count": 64,
   "id": "61109ec2",
   "metadata": {},
   "outputs": [],
   "source": [
    "# putting in dataframe\n",
    "\n",
    "train_df = pd.DataFrame()\n",
    "train_df[\"x_token_train\"] = x_token_train\n",
    "train_df[\"y_token_train\"] = y_token_train\n",
    "train_df[\"x_morph_train\"] = x_morph_train\n",
    "train_df[\"y_morph_train\"] = y_morph_train\n",
    "\n",
    "test_df = pd.DataFrame()\n",
    "test_df[\"x_token_test\"] = x_token_test\n",
    "test_df[\"y_token_test\"] = y_token_test\n",
    "test_df[\"x_morph_test\"] = x_morph_test\n",
    "test_df[\"y_morph_test\"] = y_morph_test\n"
   ]
  },
  {
   "cell_type": "code",
   "execution_count": null,
   "id": "f55c022f",
   "metadata": {},
   "outputs": [],
   "source": []
  },
  {
   "cell_type": "code",
   "execution_count": null,
   "id": "77399a0b",
   "metadata": {},
   "outputs": [],
   "source": []
  },
  {
   "cell_type": "markdown",
   "id": "717b2817",
   "metadata": {},
   "source": [
    "# EDA"
   ]
  },
  {
   "cell_type": "markdown",
   "id": "8597da00",
   "metadata": {},
   "source": [
    "## train_df"
   ]
  },
  {
   "cell_type": "code",
   "execution_count": 66,
   "id": "908c54d9",
   "metadata": {},
   "outputs": [
    {
     "data": {
      "text/html": [
       "<div>\n",
       "<style scoped>\n",
       "    .dataframe tbody tr th:only-of-type {\n",
       "        vertical-align: middle;\n",
       "    }\n",
       "\n",
       "    .dataframe tbody tr th {\n",
       "        vertical-align: top;\n",
       "    }\n",
       "\n",
       "    .dataframe thead th {\n",
       "        text-align: right;\n",
       "    }\n",
       "</style>\n",
       "<table border=\"1\" class=\"dataframe\">\n",
       "  <thead>\n",
       "    <tr style=\"text-align: right;\">\n",
       "      <th></th>\n",
       "      <th>x_token_train</th>\n",
       "      <th>y_token_train</th>\n",
       "      <th>x_morph_train</th>\n",
       "      <th>y_morph_train</th>\n",
       "    </tr>\n",
       "  </thead>\n",
       "  <tbody>\n",
       "    <tr>\n",
       "      <th>0</th>\n",
       "      <td>ממש כואב ..... אני בוכה עם המשפחה שלא תדעו עוד...</td>\n",
       "      <td>0</td>\n",
       "      <td>ממש כואב ..... אני בכה את היא עם ה משפחה ש לא ...</td>\n",
       "      <td>0</td>\n",
       "    </tr>\n",
       "    <tr>\n",
       "      <th>1</th>\n",
       "      <td>איש יקר שלנו</td>\n",
       "      <td>0</td>\n",
       "      <td>איש יקר של אנחנו</td>\n",
       "      <td>0</td>\n",
       "    </tr>\n",
       "    <tr>\n",
       "      <th>2</th>\n",
       "      <td>כל הכבוד והמון בהצלחה</td>\n",
       "      <td>0</td>\n",
       "      <td>כל ה כבוד ו המון ב הצלחה</td>\n",
       "      <td>0</td>\n",
       "    </tr>\n",
       "    <tr>\n",
       "      <th>3</th>\n",
       "      <td>\" תל חי , רובי . בכל העצב הזה היית קרן אור של ...</td>\n",
       "      <td>0</td>\n",
       "      <td>\" תל חי , רובי . ב כל ה עצב ה זה היית קרן אור ...</td>\n",
       "      <td>0</td>\n",
       "    </tr>\n",
       "    <tr>\n",
       "      <th>4</th>\n",
       "      <td>נקי כפיים ובר לבב בהצלחה לך ולנו .</td>\n",
       "      <td>0</td>\n",
       "      <td>נקי כפיים ו בר לבב ב הצלחה ל אתה ו ל אנחנו .</td>\n",
       "      <td>0</td>\n",
       "    </tr>\n",
       "    <tr>\n",
       "      <th>5</th>\n",
       "      <td>רובי חג שמח והצלחה בבחירות לנשיאות .</td>\n",
       "      <td>0</td>\n",
       "      <td>רובי חג שמח ו הצלחה ב בחירות ל ה נשיאות .</td>\n",
       "      <td>0</td>\n",
       "    </tr>\n",
       "    <tr>\n",
       "      <th>6</th>\n",
       "      <td>הנשיא לא נותן יד . דיי להתלהמות אפשר להביע דיע...</td>\n",
       "      <td>0</td>\n",
       "      <td>ה נשיא לא נותן יד . די אני ל התלהמות אפשר להבי...</td>\n",
       "      <td>0</td>\n",
       "    </tr>\n",
       "    <tr>\n",
       "      <th>7</th>\n",
       "      <td>כבוד הנשיא אין מתאים ממך בעולם מלהיות נשיא מדי...</td>\n",
       "      <td>0</td>\n",
       "      <td>כבוד ה נשיא אין מתאים מן אתה ב ה עולם מ להיות ...</td>\n",
       "      <td>0</td>\n",
       "    </tr>\n",
       "    <tr>\n",
       "      <th>8</th>\n",
       "      <td>\" כל הכבוד לך אדוני הנשיא כאיש ימין דווקא , אנ...</td>\n",
       "      <td>0</td>\n",
       "      <td>\" כל ה כבוד ל אתה אדוני ה נשיא כ איש ימין דווק...</td>\n",
       "      <td>0</td>\n",
       "    </tr>\n",
       "    <tr>\n",
       "      <th>9</th>\n",
       "      <td>אדוני הנשיא סליחה על הבוטות תפסיק לזיין את השכ...</td>\n",
       "      <td>1</td>\n",
       "      <td>אדוני ה נשיא סליחה על ה בוטות תפסיק לזיין את ה...</td>\n",
       "      <td>1</td>\n",
       "    </tr>\n",
       "    <tr>\n",
       "      <th>10</th>\n",
       "      <td>בהצלחה אדוני הנשיא</td>\n",
       "      <td>0</td>\n",
       "      <td>ב הצלחה אדוני ה נשיא</td>\n",
       "      <td>0</td>\n",
       "    </tr>\n",
       "    <tr>\n",
       "      <th>11</th>\n",
       "      <td>ואני עוד חשבתי שהגיע נשיא נורמלי</td>\n",
       "      <td>1</td>\n",
       "      <td>ו אני עוד חשבתי ש הגיע נשיא נורמלי</td>\n",
       "      <td>1</td>\n",
       "    </tr>\n",
       "    <tr>\n",
       "      <th>12</th>\n",
       "      <td>נשיא המדינה הלבן והמנותק חכם בדיבורים . הוא לא...</td>\n",
       "      <td>1</td>\n",
       "      <td>נשיא ה מדינה ה לבן ו ה מנותק חכם ב ה דיבורים ....</td>\n",
       "      <td>1</td>\n",
       "    </tr>\n",
       "    <tr>\n",
       "      <th>13</th>\n",
       "      <td>\" דרך צלחה בים סוער !!! מאמינה שתמשיך לנהוג כפ...</td>\n",
       "      <td>0</td>\n",
       "      <td>\" דרך צלחה ב ים סוער !!! מאמינה ש תמשיך לנהוג ...</td>\n",
       "      <td>0</td>\n",
       "    </tr>\n",
       "    <tr>\n",
       "      <th>14</th>\n",
       "      <td>\" רובי ריבלין היקר !! אתה איש משפחה לא ???.. מ...</td>\n",
       "      <td>1</td>\n",
       "      <td>\" רובי ריבלין ה יקר !! אתה איש משפחה לא ???.. ...</td>\n",
       "      <td>1</td>\n",
       "    </tr>\n",
       "  </tbody>\n",
       "</table>\n",
       "</div>"
      ],
      "text/plain": [
       "                                        x_token_train  y_token_train  \\\n",
       "0   ממש כואב ..... אני בוכה עם המשפחה שלא תדעו עוד...              0   \n",
       "1                                        איש יקר שלנו              0   \n",
       "2                               כל הכבוד והמון בהצלחה              0   \n",
       "3   \" תל חי , רובי . בכל העצב הזה היית קרן אור של ...              0   \n",
       "4                  נקי כפיים ובר לבב בהצלחה לך ולנו .              0   \n",
       "5                רובי חג שמח והצלחה בבחירות לנשיאות .              0   \n",
       "6   הנשיא לא נותן יד . דיי להתלהמות אפשר להביע דיע...              0   \n",
       "7   כבוד הנשיא אין מתאים ממך בעולם מלהיות נשיא מדי...              0   \n",
       "8   \" כל הכבוד לך אדוני הנשיא כאיש ימין דווקא , אנ...              0   \n",
       "9   אדוני הנשיא סליחה על הבוטות תפסיק לזיין את השכ...              1   \n",
       "10                                 בהצלחה אדוני הנשיא              0   \n",
       "11                   ואני עוד חשבתי שהגיע נשיא נורמלי              1   \n",
       "12  נשיא המדינה הלבן והמנותק חכם בדיבורים . הוא לא...              1   \n",
       "13  \" דרך צלחה בים סוער !!! מאמינה שתמשיך לנהוג כפ...              0   \n",
       "14  \" רובי ריבלין היקר !! אתה איש משפחה לא ???.. מ...              1   \n",
       "\n",
       "                                        x_morph_train  y_morph_train  \n",
       "0   ממש כואב ..... אני בכה את היא עם ה משפחה ש לא ...              0  \n",
       "1                                    איש יקר של אנחנו              0  \n",
       "2                            כל ה כבוד ו המון ב הצלחה              0  \n",
       "3   \" תל חי , רובי . ב כל ה עצב ה זה היית קרן אור ...              0  \n",
       "4        נקי כפיים ו בר לבב ב הצלחה ל אתה ו ל אנחנו .              0  \n",
       "5           רובי חג שמח ו הצלחה ב בחירות ל ה נשיאות .              0  \n",
       "6   ה נשיא לא נותן יד . די אני ל התלהמות אפשר להבי...              0  \n",
       "7   כבוד ה נשיא אין מתאים מן אתה ב ה עולם מ להיות ...              0  \n",
       "8   \" כל ה כבוד ל אתה אדוני ה נשיא כ איש ימין דווק...              0  \n",
       "9   אדוני ה נשיא סליחה על ה בוטות תפסיק לזיין את ה...              1  \n",
       "10                               ב הצלחה אדוני ה נשיא              0  \n",
       "11                 ו אני עוד חשבתי ש הגיע נשיא נורמלי              1  \n",
       "12  נשיא ה מדינה ה לבן ו ה מנותק חכם ב ה דיבורים ....              1  \n",
       "13  \" דרך צלחה ב ים סוער !!! מאמינה ש תמשיך לנהוג ...              0  \n",
       "14  \" רובי ריבלין ה יקר !! אתה איש משפחה לא ???.. ...              1  "
      ]
     },
     "execution_count": 66,
     "metadata": {},
     "output_type": "execute_result"
    }
   ],
   "source": [
    "train_df.head(15)"
   ]
  },
  {
   "cell_type": "code",
   "execution_count": 67,
   "id": "fde163b8",
   "metadata": {},
   "outputs": [
    {
     "data": {
      "text/plain": [
       "<AxesSubplot:ylabel='y_token_train'>"
      ]
     },
     "execution_count": 67,
     "metadata": {},
     "output_type": "execute_result"
    },
    {
     "data": {
      "image/png": "[encoded data removed]",
      "text/plain": [
       "<Figure size 432x288 with 1 Axes>"
      ]
     },
     "metadata": {},
     "output_type": "display_data"
    }
   ],
   "source": [
    "train_df.y_token_train.value_counts().plot(kind ='pie')"
   ]
  },
  {
   "cell_type": "code",
   "execution_count": 68,
   "id": "8a787387",
   "metadata": {},
   "outputs": [
    {
     "data": {
      "text/html": [
       "<div>\n",
       "<style scoped>\n",
       "    .dataframe tbody tr th:only-of-type {\n",
       "        vertical-align: middle;\n",
       "    }\n",
       "\n",
       "    .dataframe tbody tr th {\n",
       "        vertical-align: top;\n",
       "    }\n",
       "\n",
       "    .dataframe thead th {\n",
       "        text-align: right;\n",
       "    }\n",
       "</style>\n",
       "<table border=\"1\" class=\"dataframe\">\n",
       "  <thead>\n",
       "    <tr style=\"text-align: right;\">\n",
       "      <th></th>\n",
       "      <th>y_token_train</th>\n",
       "      <th>y_morph_train</th>\n",
       "    </tr>\n",
       "  </thead>\n",
       "  <tbody>\n",
       "    <tr>\n",
       "      <th>y_token_train</th>\n",
       "      <td>1.0</td>\n",
       "      <td>1.0</td>\n",
       "    </tr>\n",
       "    <tr>\n",
       "      <th>y_morph_train</th>\n",
       "      <td>1.0</td>\n",
       "      <td>1.0</td>\n",
       "    </tr>\n",
       "  </tbody>\n",
       "</table>\n",
       "</div>"
      ],
      "text/plain": [
       "               y_token_train  y_morph_train\n",
       "y_token_train            1.0            1.0\n",
       "y_morph_train            1.0            1.0"
      ]
     },
     "execution_count": 68,
     "metadata": {},
     "output_type": "execute_result"
    }
   ],
   "source": [
    "train_df.corr()"
   ]
  },
  {
   "cell_type": "code",
   "execution_count": 70,
   "id": "07605dcd",
   "metadata": {},
   "outputs": [
    {
     "data": {
      "text/html": [
       "<div>\n",
       "<style scoped>\n",
       "    .dataframe tbody tr th:only-of-type {\n",
       "        vertical-align: middle;\n",
       "    }\n",
       "\n",
       "    .dataframe tbody tr th {\n",
       "        vertical-align: top;\n",
       "    }\n",
       "\n",
       "    .dataframe thead th {\n",
       "        text-align: right;\n",
       "    }\n",
       "</style>\n",
       "<table border=\"1\" class=\"dataframe\">\n",
       "  <thead>\n",
       "    <tr style=\"text-align: right;\">\n",
       "      <th></th>\n",
       "      <th>x_token_train</th>\n",
       "      <th>y_token_train</th>\n",
       "      <th>x_morph_train</th>\n",
       "      <th>y_morph_train</th>\n",
       "    </tr>\n",
       "  </thead>\n",
       "  <tbody>\n",
       "    <tr>\n",
       "      <th>0</th>\n",
       "      <td>ממש כואב ..... אני בוכה עם המשפחה שלא תדעו עוד...</td>\n",
       "      <td>0</td>\n",
       "      <td>ממש כואב ..... אני בכה את היא עם ה משפחה ש לא ...</td>\n",
       "      <td>0</td>\n",
       "    </tr>\n",
       "    <tr>\n",
       "      <th>1</th>\n",
       "      <td>איש יקר שלנו</td>\n",
       "      <td>0</td>\n",
       "      <td>איש יקר של אנחנו</td>\n",
       "      <td>0</td>\n",
       "    </tr>\n",
       "    <tr>\n",
       "      <th>2</th>\n",
       "      <td>כל הכבוד והמון בהצלחה</td>\n",
       "      <td>0</td>\n",
       "      <td>כל ה כבוד ו המון ב הצלחה</td>\n",
       "      <td>0</td>\n",
       "    </tr>\n",
       "    <tr>\n",
       "      <th>3</th>\n",
       "      <td>\" תל חי , רובי . בכל העצב הזה היית קרן אור של ...</td>\n",
       "      <td>0</td>\n",
       "      <td>\" תל חי , רובי . ב כל ה עצב ה זה היית קרן אור ...</td>\n",
       "      <td>0</td>\n",
       "    </tr>\n",
       "    <tr>\n",
       "      <th>4</th>\n",
       "      <td>נקי כפיים ובר לבב בהצלחה לך ולנו .</td>\n",
       "      <td>0</td>\n",
       "      <td>נקי כפיים ו בר לבב ב הצלחה ל אתה ו ל אנחנו .</td>\n",
       "      <td>0</td>\n",
       "    </tr>\n",
       "  </tbody>\n",
       "</table>\n",
       "</div>"
      ],
      "text/plain": [
       "                                       x_token_train  y_token_train  \\\n",
       "0  ממש כואב ..... אני בוכה עם המשפחה שלא תדעו עוד...              0   \n",
       "1                                       איש יקר שלנו              0   \n",
       "2                              כל הכבוד והמון בהצלחה              0   \n",
       "3  \" תל חי , רובי . בכל העצב הזה היית קרן אור של ...              0   \n",
       "4                 נקי כפיים ובר לבב בהצלחה לך ולנו .              0   \n",
       "\n",
       "                                       x_morph_train  y_morph_train  \n",
       "0  ממש כואב ..... אני בכה את היא עם ה משפחה ש לא ...              0  \n",
       "1                                   איש יקר של אנחנו              0  \n",
       "2                           כל ה כבוד ו המון ב הצלחה              0  \n",
       "3  \" תל חי , רובי . ב כל ה עצב ה זה היית קרן אור ...              0  \n",
       "4       נקי כפיים ו בר לבב ב הצלחה ל אתה ו ל אנחנו .              0  "
      ]
     },
     "execution_count": 70,
     "metadata": {},
     "output_type": "execute_result"
    }
   ],
   "source": [
    "train_df[train_df.y_token_train == 0][:5]"
   ]
  },
  {
   "cell_type": "code",
   "execution_count": 71,
   "id": "0241df2d",
   "metadata": {},
   "outputs": [
    {
     "data": {
      "text/html": [
       "<div>\n",
       "<style scoped>\n",
       "    .dataframe tbody tr th:only-of-type {\n",
       "        vertical-align: middle;\n",
       "    }\n",
       "\n",
       "    .dataframe tbody tr th {\n",
       "        vertical-align: top;\n",
       "    }\n",
       "\n",
       "    .dataframe thead th {\n",
       "        text-align: right;\n",
       "    }\n",
       "</style>\n",
       "<table border=\"1\" class=\"dataframe\">\n",
       "  <thead>\n",
       "    <tr style=\"text-align: right;\">\n",
       "      <th></th>\n",
       "      <th>x_token_train</th>\n",
       "      <th>y_token_train</th>\n",
       "      <th>x_morph_train</th>\n",
       "      <th>y_morph_train</th>\n",
       "    </tr>\n",
       "  </thead>\n",
       "  <tbody>\n",
       "    <tr>\n",
       "      <th>9</th>\n",
       "      <td>אדוני הנשיא סליחה על הבוטות תפסיק לזיין את השכ...</td>\n",
       "      <td>1</td>\n",
       "      <td>אדוני ה נשיא סליחה על ה בוטות תפסיק לזיין את ה...</td>\n",
       "      <td>1</td>\n",
       "    </tr>\n",
       "    <tr>\n",
       "      <th>11</th>\n",
       "      <td>ואני עוד חשבתי שהגיע נשיא נורמלי</td>\n",
       "      <td>1</td>\n",
       "      <td>ו אני עוד חשבתי ש הגיע נשיא נורמלי</td>\n",
       "      <td>1</td>\n",
       "    </tr>\n",
       "    <tr>\n",
       "      <th>12</th>\n",
       "      <td>נשיא המדינה הלבן והמנותק חכם בדיבורים . הוא לא...</td>\n",
       "      <td>1</td>\n",
       "      <td>נשיא ה מדינה ה לבן ו ה מנותק חכם ב ה דיבורים ....</td>\n",
       "      <td>1</td>\n",
       "    </tr>\n",
       "    <tr>\n",
       "      <th>14</th>\n",
       "      <td>\" רובי ריבלין היקר !! אתה איש משפחה לא ???.. מ...</td>\n",
       "      <td>1</td>\n",
       "      <td>\" רובי ריבלין ה יקר !! אתה איש משפחה לא ???.. ...</td>\n",
       "      <td>1</td>\n",
       "    </tr>\n",
       "    <tr>\n",
       "      <th>18</th>\n",
       "      <td>עוד לא שבוע בתפקיד וכבר שכחת מאיפה באת ?</td>\n",
       "      <td>1</td>\n",
       "      <td>עוד לא שבוע ב ה תפקיד ו כבר שכחת מ איפה באת ?</td>\n",
       "      <td>1</td>\n",
       "    </tr>\n",
       "  </tbody>\n",
       "</table>\n",
       "</div>"
      ],
      "text/plain": [
       "                                        x_token_train  y_token_train  \\\n",
       "9   אדוני הנשיא סליחה על הבוטות תפסיק לזיין את השכ...              1   \n",
       "11                   ואני עוד חשבתי שהגיע נשיא נורמלי              1   \n",
       "12  נשיא המדינה הלבן והמנותק חכם בדיבורים . הוא לא...              1   \n",
       "14  \" רובי ריבלין היקר !! אתה איש משפחה לא ???.. מ...              1   \n",
       "18           עוד לא שבוע בתפקיד וכבר שכחת מאיפה באת ?              1   \n",
       "\n",
       "                                        x_morph_train  y_morph_train  \n",
       "9   אדוני ה נשיא סליחה על ה בוטות תפסיק לזיין את ה...              1  \n",
       "11                 ו אני עוד חשבתי ש הגיע נשיא נורמלי              1  \n",
       "12  נשיא ה מדינה ה לבן ו ה מנותק חכם ב ה דיבורים ....              1  \n",
       "14  \" רובי ריבלין ה יקר !! אתה איש משפחה לא ???.. ...              1  \n",
       "18      עוד לא שבוע ב ה תפקיד ו כבר שכחת מ איפה באת ?              1  "
      ]
     },
     "execution_count": 71,
     "metadata": {},
     "output_type": "execute_result"
    }
   ],
   "source": [
    "train_df[train_df.y_token_train == 1][:5]"
   ]
  },
  {
   "cell_type": "code",
   "execution_count": 72,
   "id": "bb8efdbf",
   "metadata": {},
   "outputs": [
    {
     "data": {
      "text/html": [
       "<div>\n",
       "<style scoped>\n",
       "    .dataframe tbody tr th:only-of-type {\n",
       "        vertical-align: middle;\n",
       "    }\n",
       "\n",
       "    .dataframe tbody tr th {\n",
       "        vertical-align: top;\n",
       "    }\n",
       "\n",
       "    .dataframe thead th {\n",
       "        text-align: right;\n",
       "    }\n",
       "</style>\n",
       "<table border=\"1\" class=\"dataframe\">\n",
       "  <thead>\n",
       "    <tr style=\"text-align: right;\">\n",
       "      <th></th>\n",
       "      <th>x_token_train</th>\n",
       "      <th>y_token_train</th>\n",
       "      <th>x_morph_train</th>\n",
       "      <th>y_morph_train</th>\n",
       "    </tr>\n",
       "  </thead>\n",
       "  <tbody>\n",
       "    <tr>\n",
       "      <th>53</th>\n",
       "      <td>חייבים לעשות סוג של חרם כשכתבים שונאי ישראל עו...</td>\n",
       "      <td>2</td>\n",
       "      <td>חייבים לעשות סוג של חרם כש כתבים שונאי ישראל ע...</td>\n",
       "      <td>2</td>\n",
       "    </tr>\n",
       "    <tr>\n",
       "      <th>78</th>\n",
       "      <td>אז אתה בא ? https://www.facebook.com/events/15...</td>\n",
       "      <td>2</td>\n",
       "      <td>אז אתה בא ? https://www.facebook.com/events/15...</td>\n",
       "      <td>2</td>\n",
       "    </tr>\n",
       "    <tr>\n",
       "      <th>82</th>\n",
       "      <td>\" גאי אתה טיפש מטופש ילד כאפות שלא חונך על ברכ...</td>\n",
       "      <td>2</td>\n",
       "      <td>\" גאי אתה טיפש מטופש ילד כאפות ש לא חונך על בר...</td>\n",
       "      <td>2</td>\n",
       "    </tr>\n",
       "    <tr>\n",
       "      <th>117</th>\n",
       "      <td>שמעון יפרח העלאתי בשבילך את דבריו של שמעון פרס...</td>\n",
       "      <td>2</td>\n",
       "      <td>ש מעון יפרח העלאתי בשביל אתה את דבריו של שמעון...</td>\n",
       "      <td>2</td>\n",
       "    </tr>\n",
       "    <tr>\n",
       "      <th>181</th>\n",
       "      <td>רובי ריבלין הנשיא העשירי תחזית שניתנה לפני הבח...</td>\n",
       "      <td>2</td>\n",
       "      <td>רובי ריבלין ה נשיא ה עשירי תחזית ש ניתנה לפני ...</td>\n",
       "      <td>2</td>\n",
       "    </tr>\n",
       "  </tbody>\n",
       "</table>\n",
       "</div>"
      ],
      "text/plain": [
       "                                         x_token_train  y_token_train  \\\n",
       "53   חייבים לעשות סוג של חרם כשכתבים שונאי ישראל עו...              2   \n",
       "78   אז אתה בא ? https://www.facebook.com/events/15...              2   \n",
       "82   \" גאי אתה טיפש מטופש ילד כאפות שלא חונך על ברכ...              2   \n",
       "117  שמעון יפרח העלאתי בשבילך את דבריו של שמעון פרס...              2   \n",
       "181  רובי ריבלין הנשיא העשירי תחזית שניתנה לפני הבח...              2   \n",
       "\n",
       "                                         x_morph_train  y_morph_train  \n",
       "53   חייבים לעשות סוג של חרם כש כתבים שונאי ישראל ע...              2  \n",
       "78   אז אתה בא ? https://www.facebook.com/events/15...              2  \n",
       "82   \" גאי אתה טיפש מטופש ילד כאפות ש לא חונך על בר...              2  \n",
       "117  ש מעון יפרח העלאתי בשביל אתה את דבריו של שמעון...              2  \n",
       "181  רובי ריבלין ה נשיא ה עשירי תחזית ש ניתנה לפני ...              2  "
      ]
     },
     "execution_count": 72,
     "metadata": {},
     "output_type": "execute_result"
    }
   ],
   "source": [
    "train_df[train_df.y_token_train == 2][:5]"
   ]
  },
  {
   "cell_type": "code",
   "execution_count": null,
   "id": "7dc85d68",
   "metadata": {},
   "outputs": [],
   "source": []
  },
  {
   "cell_type": "code",
   "execution_count": null,
   "id": "cbaeff38",
   "metadata": {},
   "outputs": [],
   "source": [
    "The dataset contains:\n",
    "1. **x_token_train** - collection of talkback as strings\n",
    "2. **y_token_train** - Sentiment classification (target), (0 - Positive, 1 - Negtive, 2 - Neutral)\n",
    "3. x_morph_train - same as x_token_train, but seperated to prefix, nuclear word, suffix (morphologically rich language)\n",
    "4. y_morph_train - same as y_token_train, since it is the same sentiment"
   ]
  },
  {
   "cell_type": "code",
   "execution_count": null,
   "id": "efef867f",
   "metadata": {},
   "outputs": [],
   "source": [
    "morph examples:    \n",
    "\n",
    "    לנשיאות\n",
    "    ל ה נשיאות\n",
    "\n",
    "    לה הצלחה\n",
    "    ל היא הצלחה"
   ]
  },
  {
   "cell_type": "code",
   "execution_count": null,
   "id": "533b3fba",
   "metadata": {},
   "outputs": [],
   "source": [
    "The y variables are the sentiment:\n"
   ]
  },
  {
   "cell_type": "code",
   "execution_count": null,
   "id": "72ad77e6",
   "metadata": {},
   "outputs": [],
   "source": []
  },
  {
   "cell_type": "markdown",
   "id": "f212ffc0",
   "metadata": {},
   "source": [
    "# morph_train_df"
   ]
  },
  {
   "cell_type": "code",
   "execution_count": null,
   "id": "a4675ddb",
   "metadata": {},
   "outputs": [],
   "source": []
  },
  {
   "cell_type": "code",
   "execution_count": null,
   "id": "c3c73221",
   "metadata": {},
   "outputs": [],
   "source": []
  },
  {
   "cell_type": "code",
   "execution_count": null,
   "id": "99ef7fa1",
   "metadata": {},
   "outputs": [],
   "source": []
  },
  {
   "cell_type": "code",
   "execution_count": 61,
   "id": "71632e28",
   "metadata": {},
   "outputs": [
    {
     "data": {
      "text/html": [
       "<div>\n",
       "<style scoped>\n",
       "    .dataframe tbody tr th:only-of-type {\n",
       "        vertical-align: middle;\n",
       "    }\n",
       "\n",
       "    .dataframe tbody tr th {\n",
       "        vertical-align: top;\n",
       "    }\n",
       "\n",
       "    .dataframe thead th {\n",
       "        text-align: right;\n",
       "    }\n",
       "</style>\n",
       "<table border=\"1\" class=\"dataframe\">\n",
       "  <thead>\n",
       "    <tr style=\"text-align: right;\">\n",
       "      <th></th>\n",
       "      <th>x_morph_train</th>\n",
       "      <th>y_token_test</th>\n",
       "    </tr>\n",
       "  </thead>\n",
       "  <tbody>\n",
       "    <tr>\n",
       "      <th>0</th>\n",
       "      <td>ממש כואב ..... אני בכה את היא עם ה משפחה ש לא ...</td>\n",
       "      <td>0</td>\n",
       "    </tr>\n",
       "    <tr>\n",
       "      <th>1</th>\n",
       "      <td>איש יקר של אנחנו</td>\n",
       "      <td>0</td>\n",
       "    </tr>\n",
       "    <tr>\n",
       "      <th>2</th>\n",
       "      <td>כל ה כבוד ו המון ב הצלחה</td>\n",
       "      <td>0</td>\n",
       "    </tr>\n",
       "    <tr>\n",
       "      <th>3</th>\n",
       "      <td>\" תל חי , רובי . ב כל ה עצב ה זה היית קרן אור ...</td>\n",
       "      <td>0</td>\n",
       "    </tr>\n",
       "    <tr>\n",
       "      <th>4</th>\n",
       "      <td>נקי כפיים ו בר לבב ב הצלחה ל אתה ו ל אנחנו .</td>\n",
       "      <td>0</td>\n",
       "    </tr>\n",
       "    <tr>\n",
       "      <th>5</th>\n",
       "      <td>רובי חג שמח ו הצלחה ב בחירות ל ה נשיאות .</td>\n",
       "      <td>0</td>\n",
       "    </tr>\n",
       "    <tr>\n",
       "      <th>6</th>\n",
       "      <td>ה נשיא לא נותן יד . די אני ל התלהמות אפשר להבי...</td>\n",
       "      <td>0</td>\n",
       "    </tr>\n",
       "    <tr>\n",
       "      <th>7</th>\n",
       "      <td>כבוד ה נשיא אין מתאים מן אתה ב ה עולם מ להיות ...</td>\n",
       "      <td>0</td>\n",
       "    </tr>\n",
       "    <tr>\n",
       "      <th>8</th>\n",
       "      <td>\" כל ה כבוד ל אתה אדוני ה נשיא כ איש ימין דווק...</td>\n",
       "      <td>0</td>\n",
       "    </tr>\n",
       "    <tr>\n",
       "      <th>9</th>\n",
       "      <td>אדוני ה נשיא סליחה על ה בוטות תפסיק לזיין את ה...</td>\n",
       "      <td>1</td>\n",
       "    </tr>\n",
       "    <tr>\n",
       "      <th>10</th>\n",
       "      <td>ב הצלחה אדוני ה נשיא</td>\n",
       "      <td>0</td>\n",
       "    </tr>\n",
       "    <tr>\n",
       "      <th>11</th>\n",
       "      <td>ו אני עוד חשבתי ש הגיע נשיא נורמלי</td>\n",
       "      <td>1</td>\n",
       "    </tr>\n",
       "    <tr>\n",
       "      <th>12</th>\n",
       "      <td>נשיא ה מדינה ה לבן ו ה מנותק חכם ב ה דיבורים ....</td>\n",
       "      <td>1</td>\n",
       "    </tr>\n",
       "    <tr>\n",
       "      <th>13</th>\n",
       "      <td>\" דרך צלחה ב ים סוער !!! מאמינה ש תמשיך לנהוג ...</td>\n",
       "      <td>0</td>\n",
       "    </tr>\n",
       "    <tr>\n",
       "      <th>14</th>\n",
       "      <td>\" רובי ריבלין ה יקר !! אתה איש משפחה לא ???.. ...</td>\n",
       "      <td>1</td>\n",
       "    </tr>\n",
       "  </tbody>\n",
       "</table>\n",
       "</div>"
      ],
      "text/plain": [
       "                                        x_morph_train  y_token_test\n",
       "0   ממש כואב ..... אני בכה את היא עם ה משפחה ש לא ...             0\n",
       "1                                    איש יקר של אנחנו             0\n",
       "2                            כל ה כבוד ו המון ב הצלחה             0\n",
       "3   \" תל חי , רובי . ב כל ה עצב ה זה היית קרן אור ...             0\n",
       "4        נקי כפיים ו בר לבב ב הצלחה ל אתה ו ל אנחנו .             0\n",
       "5           רובי חג שמח ו הצלחה ב בחירות ל ה נשיאות .             0\n",
       "6   ה נשיא לא נותן יד . די אני ל התלהמות אפשר להבי...             0\n",
       "7   כבוד ה נשיא אין מתאים מן אתה ב ה עולם מ להיות ...             0\n",
       "8   \" כל ה כבוד ל אתה אדוני ה נשיא כ איש ימין דווק...             0\n",
       "9   אדוני ה נשיא סליחה על ה בוטות תפסיק לזיין את ה...             1\n",
       "10                               ב הצלחה אדוני ה נשיא             0\n",
       "11                 ו אני עוד חשבתי ש הגיע נשיא נורמלי             1\n",
       "12  נשיא ה מדינה ה לבן ו ה מנותק חכם ב ה דיבורים ....             1\n",
       "13  \" דרך צלחה ב ים סוער !!! מאמינה ש תמשיך לנהוג ...             0\n",
       "14  \" רובי ריבלין ה יקר !! אתה איש משפחה לא ???.. ...             1"
      ]
     },
     "execution_count": 61,
     "metadata": {},
     "output_type": "execute_result"
    }
   ],
   "source": [
    "morph_train_df.head(15)"
   ]
  },
  {
   "cell_type": "code",
   "execution_count": null,
   "id": "7da09a60",
   "metadata": {},
   "outputs": [],
   "source": []
  },
  {
   "cell_type": "code",
   "execution_count": null,
   "id": "4e91eaab",
   "metadata": {},
   "outputs": [],
   "source": []
  },
  {
   "cell_type": "code",
   "execution_count": null,
   "id": "b355890a",
   "metadata": {},
   "outputs": [],
   "source": []
  },
  {
   "cell_type": "code",
   "execution_count": 44,
   "id": "e875e740",
   "metadata": {},
   "outputs": [
    {
     "data": {
      "text/html": [
       "<div>\n",
       "<style scoped>\n",
       "    .dataframe tbody tr th:only-of-type {\n",
       "        vertical-align: middle;\n",
       "    }\n",
       "\n",
       "    .dataframe tbody tr th {\n",
       "        vertical-align: top;\n",
       "    }\n",
       "\n",
       "    .dataframe thead th {\n",
       "        text-align: right;\n",
       "    }\n",
       "</style>\n",
       "<table border=\"1\" class=\"dataframe\">\n",
       "  <thead>\n",
       "    <tr style=\"text-align: right;\">\n",
       "      <th></th>\n",
       "      <th>y_token_test</th>\n",
       "    </tr>\n",
       "  </thead>\n",
       "  <tbody>\n",
       "    <tr>\n",
       "      <th>count</th>\n",
       "      <td>2560.000000</td>\n",
       "    </tr>\n",
       "    <tr>\n",
       "      <th>mean</th>\n",
       "      <td>0.364844</td>\n",
       "    </tr>\n",
       "    <tr>\n",
       "      <th>std</th>\n",
       "      <td>0.536745</td>\n",
       "    </tr>\n",
       "    <tr>\n",
       "      <th>min</th>\n",
       "      <td>0.000000</td>\n",
       "    </tr>\n",
       "    <tr>\n",
       "      <th>25%</th>\n",
       "      <td>0.000000</td>\n",
       "    </tr>\n",
       "    <tr>\n",
       "      <th>50%</th>\n",
       "      <td>0.000000</td>\n",
       "    </tr>\n",
       "    <tr>\n",
       "      <th>75%</th>\n",
       "      <td>1.000000</td>\n",
       "    </tr>\n",
       "    <tr>\n",
       "      <th>max</th>\n",
       "      <td>2.000000</td>\n",
       "    </tr>\n",
       "  </tbody>\n",
       "</table>\n",
       "</div>"
      ],
      "text/plain": [
       "       y_token_test\n",
       "count   2560.000000\n",
       "mean       0.364844\n",
       "std        0.536745\n",
       "min        0.000000\n",
       "25%        0.000000\n",
       "50%        0.000000\n",
       "75%        1.000000\n",
       "max        2.000000"
      ]
     },
     "execution_count": 44,
     "metadata": {},
     "output_type": "execute_result"
    }
   ],
   "source": [
    "token_test_df.describe()"
   ]
  },
  {
   "cell_type": "code",
   "execution_count": 16,
   "id": "3e6a599d",
   "metadata": {},
   "outputs": [
    {
     "data": {
      "text/plain": [
       "array(['ממש כואב ..... אני בוכה עם המשפחה שלא תדעו עוד צער',\n",
       "       'איש יקר שלנו', 'כל הכבוד והמון בהצלחה',\n",
       "       '\" תל חי , רובי . בכל העצב הזה היית קרן אור של תקוה . אכן יש נשיא בישראל \"',\n",
       "       'נקי כפיים ובר לבב בהצלחה לך ולנו .',\n",
       "       'רובי חג שמח והצלחה בבחירות לנשיאות .',\n",
       "       'הנשיא לא נותן יד . דיי להתלהמות אפשר להביע דיעה ולהתנגד אך לא פיזית . זו הבחירה שלה להנשא למוסלמי . נאחל לה הצלחה !',\n",
       "       'כבוד הנשיא אין מתאים ממך בעולם מלהיות נשיא מדינת ישראל עם ישראל אוהב אותך והקב ׳ ה אוהב אותך ואתה דוגמה ומופת לכל אדם באשר הוא אני מאחל לך אושר עושר ובריאות איתנה עד 120 ועוד',\n",
       "       '\" כל הכבוד לך אדוני הנשיא כאיש ימין דווקא , אני חושב שאהבה תנצח . \"',\n",
       "       'אדוני הנשיא סליחה על הבוטות תפסיק לזיין את השכל . עד היום לא התבטאת ולו במילה על המצב במדינה . לא הבעת את אהדתך לצבא . לא אמרת מילה טובה ומעודדת לתושבי הדרום . אם חשוב לך תשעה באב אז תחזור להסטוריה ותעלם מעינינו .',\n",
       "       'בהצלחה אדוני הנשיא', 'ואני עוד חשבתי שהגיע נשיא נורמלי',\n",
       "       'נשיא המדינה הלבן והמנותק חכם בדיבורים . הוא לא יהיה שם ברגע האמת לעזור לה לטפל בפצעי המכות האיומות שהיא תקבל . מנותק ומנוכר מעמו . אני בז לו .',\n",
       "       '\" דרך צלחה בים סוער !!! מאמינה שתמשיך לנהוג כפי שנהגת בהיותך יו ״ ר הכנסת , ביושרה ובליברליות נאורה , ובמנותק מן הביצה הפוליטית ... \"',\n",
       "       '\" רובי ריבלין היקר !! אתה איש משפחה לא ???.. מעניין איך היית מגיב - אם הבת שלך הייתה מתחתנת היום עם ערבי .... נשיא מדינה מעודד התבוללות בעם היהודי , לאן הגענו .... \"'],\n",
       "      dtype='<U4933')"
      ]
     },
     "execution_count": 16,
     "metadata": {},
     "output_type": "execute_result"
    }
   ],
   "source": [
    "x_token_train[:15]"
   ]
  },
  {
   "cell_type": "code",
   "execution_count": 17,
   "id": "ae9f1329",
   "metadata": {},
   "outputs": [
    {
     "data": {
      "text/plain": [
       "array([0, 0, 0, 0, 0, 0, 0, 0, 0, 1, 0, 1, 1, 0, 1])"
      ]
     },
     "execution_count": 17,
     "metadata": {},
     "output_type": "execute_result"
    }
   ],
   "source": [
    "y_token_train[:15]"
   ]
  },
  {
   "cell_type": "code",
   "execution_count": 18,
   "id": "b8a265d1",
   "metadata": {},
   "outputs": [
    {
     "data": {
      "text/plain": [
       "array(['ממש כואב ..... אני בכה את היא עם ה משפחה ש לא תדעו עוד צער',\n",
       "       'איש יקר של אנחנו', 'כל ה כבוד ו המון ב הצלחה',\n",
       "       '\" תל חי , רובי . ב כל ה עצב ה זה היית קרן אור של תקוה . אכן יש נשיא ב ישראל \"',\n",
       "       'נקי כפיים ו בר לבב ב הצלחה ל אתה ו ל אנחנו .',\n",
       "       'רובי חג שמח ו הצלחה ב בחירות ל ה נשיאות .',\n",
       "       'ה נשיא לא נותן יד . די אני ל התלהמות אפשר להביע דיעה ו להתנגד אך לא פיזית . זו ה בחירה של היא להנשא ל ה מוסלמי . נאחל ל היא הצלחה !',\n",
       "       'כבוד ה נשיא אין מתאים מן אתה ב ה עולם מ להיות נשיא מדינת ישראל עם ישראל אוהב את אתה ו ה קב ׳ ה אוהב את אתה ו אתה דוגמה ו מופת ל כל אדם באשר הוא אני מאחל ל אתה אושר עושר ו בריאות איתנה עד 120 ו עוד',\n",
       "       '\" כל ה כבוד ל אתה אדוני ה נשיא כ איש ימין דווקא , אני חושב ש אהבה תנצח . \"',\n",
       "       'אדוני ה נשיא סליחה על ה בוטות תפסיק לזיין את ה שכל . עד היום לא התבטאת ו לו ב מילה על ה מצב ב ה מדינה . לא ה בעת את אהדתך ל ה צבא . לא אמרת מילה טובה ו מעודדת ל תושבי ה דרום . אם חשוב ל אתה תשעה ב ה אב אז תחזור ל ה הסטוריה ו תעלם מ עינינו .',\n",
       "       'ב הצלחה אדוני ה נשיא', 'ו אני עוד חשבתי ש הגיע נשיא נורמלי',\n",
       "       'נשיא ה מדינה ה לבן ו ה מנותק חכם ב ה דיבורים . הוא לא יהיה שם ב רגע ה אמת לעזור ל היא לטפל ב פצעי ה מכות ה איומות ש היא תקבל . מנותק ו מנוכר מ עמו . אני בז ל הוא .',\n",
       "       '\" דרך צלחה ב ים סוער !!! מאמינה ש תמשיך לנהוג כפי ש נהגת בהיותך יו ״ ר הכנסת , ב יושרה ו ב ליברליות נאורה , ו ב מנותק מן ה ביצה ה פוליטית ... \"',\n",
       "       '\" רובי ריבלין ה יקר !! אתה איש משפחה לא ???.. מעניין איך היית מגיב - אם ה בת של אתה הייתה מתחתנת היום עם ערבי .... נשיא מדינה מעודד התבוללות ב ה עם ה יהודי , לאן הגענו .... \"'],\n",
       "      dtype='<U2936')"
      ]
     },
     "execution_count": 18,
     "metadata": {},
     "output_type": "execute_result"
    }
   ],
   "source": [
    "x_morph_train[:15]"
   ]
  },
  {
   "cell_type": "code",
   "execution_count": 19,
   "id": "3da9498f",
   "metadata": {},
   "outputs": [
    {
     "data": {
      "text/plain": [
       "array([0, 0, 0, 0, 0, 0, 0, 0, 0, 1, 0, 1, 1, 0, 1])"
      ]
     },
     "execution_count": 19,
     "metadata": {},
     "output_type": "execute_result"
    }
   ],
   "source": [
    "y_morph_train[:15]"
   ]
  },
  {
   "cell_type": "code",
   "execution_count": null,
   "id": "0044fe86",
   "metadata": {},
   "outputs": [],
   "source": []
  },
  {
   "cell_type": "code",
   "execution_count": 21,
   "id": "b7b6762c",
   "metadata": {},
   "outputs": [],
   "source": [
    "y_diff = y_token_train - y_morph_train"
   ]
  },
  {
   "cell_type": "code",
   "execution_count": null,
   "id": "22c42aa7",
   "metadata": {},
   "outputs": [],
   "source": []
  },
  {
   "cell_type": "code",
   "execution_count": 30,
   "id": "c0f909dc",
   "metadata": {},
   "outputs": [
    {
     "name": "stdout",
     "output_type": "stream",
     "text": [
      "0\n",
      "0\n",
      "0\n"
     ]
    }
   ],
   "source": [
    "print(y_diff.sum())\n",
    "print(y_diff.min())\n",
    "print(y_diff.max())"
   ]
  },
  {
   "cell_type": "markdown",
   "id": "3bc56758",
   "metadata": {},
   "source": [
    "The morph data is the same as the token data, it is just seperated to the prefix, nuclear word, suffix:\n",
    "1. example 1:\n",
    "לנשיאות\n",
    "ל ה נשיאות\n",
    "\n",
    "2. example 2:\n",
    "לה הצלחה\n",
    "ל היא הצלחה"
   ]
  },
  {
   "cell_type": "markdown",
   "id": "bb6e97a0",
   "metadata": {},
   "source": [
    "The y variables are the sentiment:"
   ]
  },
  {
   "cell_type": "code",
   "execution_count": 33,
   "id": "28ebf8e1",
   "metadata": {},
   "outputs": [
    {
     "data": {
      "text/plain": [
       "array([0, 1, 2])"
      ]
     },
     "execution_count": 33,
     "metadata": {},
     "output_type": "execute_result"
    }
   ],
   "source": [
    "np.unique(y_morph_train)"
   ]
  },
  {
   "cell_type": "markdown",
   "id": "92396276",
   "metadata": {},
   "source": [
    "Which repesent the sentiment:\n",
    "0 - Positive\n",
    "1 - Negtive\n",
    "2 - Neutral"
   ]
  },
  {
   "cell_type": "code",
   "execution_count": null,
   "id": "1b762f83",
   "metadata": {},
   "outputs": [],
   "source": []
  },
  {
   "cell_type": "code",
   "execution_count": 32,
   "id": "5c4b7e9e",
   "metadata": {},
   "outputs": [],
   "source": [
    "stop_words =[]\n",
    "with open('hebrew_stop_words.json', 'r') as f:\n",
    "    stop_words = json.load(f)"
   ]
  },
  {
   "cell_type": "code",
   "execution_count": null,
   "id": "b7f99ec1",
   "metadata": {},
   "outputs": [],
   "source": []
  },
  {
   "cell_type": "code",
   "execution_count": null,
   "id": "2a49c1f3",
   "metadata": {},
   "outputs": [],
   "source": [
    "# prepare the courpus\n",
    "\n",
    "tokenizer = TreebankWordTokenizer()\n",
    "\n",
    "train_df = pd.DataFrame()\n",
    "train_df[\"text\"] = x_token_train;\n",
    "\n",
    "train_df[\"emoji\"] = train_df.text.map(lambda x: set(extract_emojis(x)))\n",
    "\n",
    "train_df[\"clean_text\"] = train_df.text.map(lambda x: remove_URL(x))\n",
    "train_df[\"clean_text\"] = train_df.text.map(lambda x: remove_html(x))\n",
    "train_df[\"clean_text\"] = train_df.text.map(lambda x: remove_emoji(x))\n",
    "train_df[\"clean_text\"] = train_df.text.map(lambda x: remove_punct(x))\n",
    "\n",
    "train_df[\"clean_tokens\"] = train_df.clean_text.map(tokenizer.tokenize)\n",
    "\n",
    "train_df[\"target\"] = y_token_train\n"
   ]
  },
  {
   "cell_type": "code",
   "execution_count": null,
   "id": "11e3b3ce",
   "metadata": {},
   "outputs": [],
   "source": [
    "train_df.info()"
   ]
  },
  {
   "cell_type": "code",
   "execution_count": null,
   "id": "3947caba",
   "metadata": {},
   "outputs": [],
   "source": [
    "from wordcloud import WordCloud"
   ]
  },
  {
   "cell_type": "code",
   "execution_count": null,
   "id": "b26c157a",
   "metadata": {},
   "outputs": [],
   "source": [
    "bd_hsw = get_display(\" \".join(stop_words)).split(\" \")"
   ]
  },
  {
   "cell_type": "code",
   "execution_count": null,
   "id": "83f18093",
   "metadata": {
    "scrolled": true
   },
   "outputs": [],
   "source": [
    "\n",
    "\n",
    "all_words_wc = WordCloud(\n",
    "    font_path='Fonts/GveretLevinAlefAlefAlef-Regular.ttf',\n",
    "    background_color=\"white\",\n",
    "    stopwords=bd_hsw,\n",
    "    max_words=30,\n",
    "    max_font_size=80).generate(get_display(all_clean_words))\n",
    "\n",
    "plt.figure(figsize=(16, 8))\n",
    "plt.imshow(all_words_wc, )"
   ]
  },
  {
   "cell_type": "code",
   "execution_count": null,
   "id": "73c70ff7",
   "metadata": {
    "scrolled": true
   },
   "outputs": [],
   "source": [
    "# Divide the corpus to negative and positive\n",
    "\n",
    "positive_df = train_df[train_df[\"target\"] == 0]\n",
    "negative_df = train_df[train_df[\"target\"] == 1]\n",
    "\n",
    "all_positive_wc = WordCloud(\n",
    "    font_path='Fonts/GveretLevinAlefAlefAlef-Regular.ttf',\n",
    "    background_color=\"white\",\n",
    "    stopwords=bd_hsw,\n",
    "    max_words=30,\n",
    "    max_font_size=80).generate(get_display(\" \".join(positive_df.clean_text)))\n",
    "\n",
    "all_negative_wc = WordCloud(\n",
    "    font_path='Fonts/GveretLevinAlefAlefAlef-Regular.ttf',\n",
    "    background_color=\"white\",\n",
    "    stopwords=bd_hsw,\n",
    "    max_words=30,\n",
    "    max_font_size=80).generate(get_display(\" \".join(negative_df.clean_text)))\n",
    "\n",
    "plt.figure(1, figsize=(16, 8))\n",
    "\n",
    "plt.subplot(1, 2, 1)\n",
    "plt.title(\"positive\")\n",
    "plt.imshow(all_positive_wc)\n",
    "\n",
    "plt.subplot(1, 2, 2)\n",
    "plt.title(\"negative\")\n",
    "plt.imshow(all_negative_wc)\n"
   ]
  },
  {
   "cell_type": "code",
   "execution_count": null,
   "id": "abf5272a",
   "metadata": {},
   "outputs": [],
   "source": [
    "Bag of words"
   ]
  },
  {
   "cell_type": "code",
   "execution_count": null,
   "id": "30801bee",
   "metadata": {},
   "outputs": [],
   "source": [
    "train_df.head()"
   ]
  },
  {
   "cell_type": "code",
   "execution_count": null,
   "id": "14e045b0",
   "metadata": {},
   "outputs": [],
   "source": []
  },
  {
   "cell_type": "code",
   "execution_count": null,
   "id": "ec04a55f",
   "metadata": {},
   "outputs": [],
   "source": [
    "from sklearn.feature_extraction.text import CountVectorizer\n",
    "\n",
    "\n",
    "def count_vect(data, ngrams=(1, 1)):\n",
    "    count_vectorizer = CountVectorizer(ngram_range=ngrams)\n",
    "    emb = count_vectorizer.fit_transform(data)\n",
    "\n",
    "    return emb, count_vectorizer"
   ]
  },
  {
   "cell_type": "code",
   "execution_count": null,
   "id": "2aefcce6",
   "metadata": {},
   "outputs": [],
   "source": [
    "train_counts, count_vectorizer = count_vect(train_df[\"clean_text\"])\n",
    "test_counts = count_vectorizer.transform(x_token_test)"
   ]
  },
  {
   "cell_type": "code",
   "execution_count": null,
   "id": "36ca2ca7",
   "metadata": {},
   "outputs": [],
   "source": [
    "type(train_counts)"
   ]
  },
  {
   "cell_type": "code",
   "execution_count": null,
   "id": "9efd1f01",
   "metadata": {},
   "outputs": [],
   "source": [
    "train_counts.todense().shape"
   ]
  },
  {
   "cell_type": "code",
   "execution_count": null,
   "id": "58b72b5c",
   "metadata": {},
   "outputs": [],
   "source": []
  },
  {
   "cell_type": "code",
   "execution_count": null,
   "id": "99aa0adf",
   "metadata": {},
   "outputs": [],
   "source": []
  },
  {
   "cell_type": "code",
   "execution_count": null,
   "id": "72f6c2bc",
   "metadata": {},
   "outputs": [],
   "source": [
    "def remove_stopwords(text):\n",
    "    text = [word.lower() for word in text.split() if word.lower() not in stop]\n",
    "\n",
    "    return \" \".join(text)"
   ]
  },
  {
   "cell_type": "code",
   "execution_count": null,
   "id": "efc8368c",
   "metadata": {},
   "outputs": [],
   "source": []
  },
  {
   "cell_type": "code",
   "execution_count": null,
   "id": "e989e3df",
   "metadata": {},
   "outputs": [],
   "source": [
    "print(train_counts.todense()[0][0:].sum())"
   ]
  },
  {
   "cell_type": "code",
   "execution_count": null,
   "id": "69bca5b1",
   "metadata": {},
   "outputs": [],
   "source": [
    "train_counts, count_vectorizer = count_vect(train_df.clean_text, ngrams=(1, 2))\n",
    "test_counts = count_vectorizer.transform(x_token_test)"
   ]
  },
  {
   "cell_type": "code",
   "execution_count": null,
   "id": "f43e13a1",
   "metadata": {},
   "outputs": [],
   "source": [
    "print(train_counts.todense()[0][0:].sum())"
   ]
  },
  {
   "cell_type": "code",
   "execution_count": null,
   "id": "87b74149",
   "metadata": {},
   "outputs": [],
   "source": [
    "# TF IDF\n",
    "from sklearn.feature_extraction.text import TfidfVectorizer\n",
    "\n",
    "\n",
    "def tfidf(data, ngrams=(1, 1)):\n",
    "    tfidf_vectorizer = TfidfVectorizer(ngram_range=ngrams)\n",
    "    train = tfidf_vectorizer.fit_transform(data)\n",
    "\n",
    "    return train, tfidf_vectorizer\n",
    "\n",
    "\n",
    "train_tfidf, tfidf_vectorizer = tfidf(train_df.clean_text)\n",
    "test_tfidf = tfidf_vectorizer.transform(x_token_test)"
   ]
  },
  {
   "cell_type": "code",
   "execution_count": null,
   "id": "dd554cb5",
   "metadata": {},
   "outputs": [],
   "source": [
    "[x for x in train_tfidf.todense()[0][0:].tolist()[0] if x != 0]"
   ]
  },
  {
   "cell_type": "code",
   "execution_count": null,
   "id": "454dc3b9",
   "metadata": {},
   "outputs": [],
   "source": [
    "print(train_tfidf.todense()[0][0:].sum())"
   ]
  },
  {
   "cell_type": "code",
   "execution_count": null,
   "id": "199542ae",
   "metadata": {},
   "outputs": [],
   "source": [
    "rain_tfidf, tfidf_vectorizer = tfidf(train_df.clean_text, ngrams=(1, 2))\n",
    "test_tfidf = tfidf_vectorizer.transform(x_token_test)"
   ]
  },
  {
   "cell_type": "code",
   "execution_count": null,
   "id": "99393d4b",
   "metadata": {},
   "outputs": [],
   "source": [
    "print(train_tfidf.todense()[0][0:].sum())"
   ]
  },
  {
   "cell_type": "code",
   "execution_count": null,
   "id": "9d5fe0ca",
   "metadata": {},
   "outputs": [],
   "source": []
  },
  {
   "cell_type": "code",
   "execution_count": null,
   "id": "00759844",
   "metadata": {},
   "outputs": [],
   "source": [
    "X_counts = train_counts\n",
    "X_tfidf = train_tfidf\n",
    "y = y_token_train"
   ]
  },
  {
   "cell_type": "code",
   "execution_count": null,
   "id": "b9915654",
   "metadata": {},
   "outputs": [],
   "source": [
    "type(y)"
   ]
  },
  {
   "cell_type": "code",
   "execution_count": null,
   "id": "dfb01cf3",
   "metadata": {},
   "outputs": [],
   "source": [
    "# TF IDF"
   ]
  },
  {
   "cell_type": "code",
   "execution_count": null,
   "id": "1bae44f8",
   "metadata": {},
   "outputs": [],
   "source": [
    "test_df = pd.DataFrame()\n",
    "test_df[\"text\"] = x_token_test;\n"
   ]
  },
  {
   "cell_type": "code",
   "execution_count": null,
   "id": "1da6d7e3",
   "metadata": {},
   "outputs": [],
   "source": []
  },
  {
   "cell_type": "code",
   "execution_count": null,
   "id": "8253bea9",
   "metadata": {},
   "outputs": [],
   "source": [
    "from sklearn.feature_extraction.text import TfidfVectorizer\n",
    "\n",
    "\n",
    "def tfidf(data, ngrams=(1, 1)):\n",
    "    tfidf_vectorizer = TfidfVectorizer(ngram_range=ngrams)\n",
    "    train = tfidf_vectorizer.fit_transform(data)\n",
    "\n",
    "    return train, tfidf_vectorizer\n",
    "\n",
    "\n",
    "train_tfidf, tfidf_vectorizer = tfidf(train_df.clean_text)\n",
    "test_tfidf = tfidf_vectorizer.transform(test_df[\"text\"])"
   ]
  },
  {
   "cell_type": "code",
   "execution_count": null,
   "id": "1123a0c6",
   "metadata": {},
   "outputs": [],
   "source": [
    "type(train_df.clean_text)"
   ]
  },
  {
   "cell_type": "code",
   "execution_count": null,
   "id": "95879c0a",
   "metadata": {},
   "outputs": [],
   "source": [
    "train_tfidf, tfidf_vectorizer = tfidf(train_df[\"clean_text\"])"
   ]
  },
  {
   "cell_type": "code",
   "execution_count": null,
   "id": "572d778c",
   "metadata": {},
   "outputs": [],
   "source": [
    "X = train_tfidf\n",
    "y = y_token_train\n",
    "\n",
    "X_train_tfidf, X_test, y_train_tfidf, y_test = train_test_split(\n",
    "    X, y, test_size=0.2, random_state=2020\n",
    ")"
   ]
  },
  {
   "cell_type": "code",
   "execution_count": null,
   "id": "1ae42dff",
   "metadata": {},
   "outputs": [],
   "source": []
  },
  {
   "cell_type": "code",
   "execution_count": null,
   "id": "a4997bda",
   "metadata": {},
   "outputs": [],
   "source": [
    "model = LogisticRegression(class_weight=\"balanced\")\n",
    "model.fit(X_train_tfidf, y_train_tfidf)"
   ]
  },
  {
   "cell_type": "code",
   "execution_count": null,
   "id": "fcad5af5",
   "metadata": {},
   "outputs": [],
   "source": [
    "y_pred = model.predict(X_test)"
   ]
  },
  {
   "cell_type": "code",
   "execution_count": null,
   "id": "60c9353a",
   "metadata": {},
   "outputs": [],
   "source": [
    "X_test"
   ]
  },
  {
   "cell_type": "code",
   "execution_count": null,
   "id": "b50f6f35",
   "metadata": {},
   "outputs": [],
   "source": [
    "y_pred"
   ]
  },
  {
   "cell_type": "code",
   "execution_count": null,
   "id": "3fcb166a",
   "metadata": {},
   "outputs": [],
   "source": [
    "(1 - abs((y_test - y_pred).sum() / len(y_pred))) * 100"
   ]
  },
  {
   "cell_type": "code",
   "execution_count": null,
   "id": "e3710954",
   "metadata": {},
   "outputs": [],
   "source": []
  },
  {
   "cell_type": "code",
   "execution_count": null,
   "id": "f4184c66",
   "metadata": {
    "scrolled": true
   },
   "outputs": [],
   "source": [
    "f1score = f1_score(y_test, y_pred, average='weighted')\n",
    "print(f\"Tfidf Model Score: {f1score * 100} %\")"
   ]
  },
  {
   "cell_type": "code",
   "execution_count": null,
   "id": "9c2c8413",
   "metadata": {},
   "outputs": [],
   "source": []
  },
  {
   "cell_type": "code",
   "execution_count": null,
   "id": "22763751",
   "metadata": {},
   "outputs": [],
   "source": []
  },
  {
   "cell_type": "code",
   "execution_count": null,
   "id": "65125e97",
   "metadata": {},
   "outputs": [],
   "source": [
    "test_dfidf = "
   ]
  }
 ],
 "metadata": {
  "kernelspec": {
   "display_name": "Python 3",
   "language": "python",
   "name": "python3"
  },
  "language_info": {
   "codemirror_mode": {
    "name": "ipython",
    "version": 3
   },
   "file_extension": ".py",
   "mimetype": "text/x-python",
   "name": "python",
   "nbconvert_exporter": "python",
   "pygments_lexer": "ipython3",
   "version": "3.8.8"
  },
  "varInspector": {
   "cols": {
    "lenName": 16,
    "lenType": 16,
    "lenVar": 40
   },
   "kernels_config": {
    "python": {
     "delete_cmd_postfix": "",
     "delete_cmd_prefix": "del ",
     "library": "var_list.py",
     "varRefreshCmd": "print(var_dic_list())"
    },
    "r": {
     "delete_cmd_postfix": ") ",
     "delete_cmd_prefix": "rm(",
     "library": "var_list.r",
     "varRefreshCmd": "cat(var_dic_list()) "
    }
   },
   "types_to_exclude": [
    "module",
    "function",
    "builtin_function_or_method",
    "instance",
    "_Feature"
   ],
   "window_display": false
  }
 },
 "nbformat": 4,
 "nbformat_minor": 5
}
