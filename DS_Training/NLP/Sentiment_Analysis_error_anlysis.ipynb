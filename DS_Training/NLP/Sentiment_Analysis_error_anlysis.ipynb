{
 "cells": [
  {
   "cell_type": "markdown",
   "id": "2448a064",
   "metadata": {},
   "source": [
    "Instructions:\n",
    "\n",
    "https://docs.google.com/document/d/1EUrcRXN7OWYpOvrb8mcUJYZn1vdR63MoLpuFz8ep10I/edit?usp=sharing"
   ]
  },
  {
   "cell_type": "markdown",
   "id": "9d03f218",
   "metadata": {},
   "source": [
    "תרגיל - ניתוח טקסט - סיווג  סנטימנט\n",
    "\n",
    "מטרת התרגיל היא לסווג סנטימנט שלילי/חיובי מתוך תגובות בדף הפייסבוק של הנשיא ריבלין.\n",
    "ראשית, יש להיכנס לקישור הבא:\n",
    "https://github.com/omilab/Neural-Sentiment-Analyzer-for-Modern-Hebrew\n",
    "בקישור הנ״ל אפשר למצוא שני jupyter notebooks שבשלב זה לא רלוונטיים, אפשר להתעלם מהן. מה שכן נדרש שקריאת ההסבר בקובץ readme וקריאת המאמר עצמו. \n",
    "לאחר השלמת החלק התיאורטי, נדרש לכתוב מסווג פשוט המבוסס על TF-IDF אך לא רק ואפשר להשתמש ברעיונות נוספים כמו למשל POS. הרעיון, לממש מסווג פשוט ולא רשתות עמוקות, למשל אפשר להשתמש ב-Logistic Regression Classifier.\n",
    "\n",
    "\n",
    "References\n",
    "Introduction to Information Retrieval\n",
    "Tf-idf weighting\n",
    "How to Use Tfidftransformer & Tfidfvectorizer - A Short Tutorial\n",
    "sklearn.feature_extraction.text.TfidfVectorizer — scikit-learn 0.24.2 documentation\n"
   ]
  },
  {
   "cell_type": "code",
   "execution_count": 1,
   "id": "45aa6001",
   "metadata": {},
   "outputs": [],
   "source": [
    "import numpy as np\n",
    "import pandas as pd\n",
    "\n",
    "import matplotlib.pyplot as plt\n",
    "from bidi.algorithm import get_display\n",
    "from nltk.tokenize import TreebankWordTokenizer\n",
    "\n",
    "from keras.utils.np_utils import to_categorical\n",
    "import emoji\n",
    "import re\n",
    "import string\n",
    "import json\n",
    "import codecs\n",
    "import pandas as pd\n",
    "import os\n",
    "from nltk.corpus import stopwords\n",
    "import string\n",
    "import re\n",
    "from nltk.stem.wordnet import WordNetLemmatizer\n",
    "from nltk.tokenize import word_tokenize\n",
    "from nltk.stem.snowball import SnowballStemmer\n",
    "from sklearn.ensemble import ExtraTreesClassifier\n",
    "from sklearn.preprocessing import LabelEncoder\n",
    "from sklearn.feature_extraction.text import TfidfVectorizer\n",
    "from sklearn.cluster import KMeans\n",
    "from sklearn.metrics import adjusted_rand_score\n",
    "from collections import Counter\n",
    "import numpy as np\n",
    "import matplotlib.pyplot as plt\n",
    "import chart_studio.plotly as py\n",
    "import operator\n",
    "from sklearn.feature_extraction.text import CountVectorizer\n",
    "from wordcloud import WordCloud\n",
    "import time\n",
    "from sklearn.metrics import accuracy_score\n",
    "from sklearn.linear_model import LogisticRegression\n",
    "from sklearn.neighbors import KNeighborsClassifier\n",
    "from sklearn.naive_bayes import MultinomialNB\n",
    "from sklearn.tree import DecisionTreeClassifier\n",
    "from sklearn.ensemble import RandomForestClassifier\n",
    "from sklearn.model_selection import GridSearchCV\n",
    "from sklearn.svm import SVC\n",
    "from sklearn.cluster import AgglomerativeClustering"
   ]
  },
  {
   "cell_type": "markdown",
   "id": "cbd2f4d1",
   "metadata": {},
   "source": [
    "# Loading the data"
   ]
  },
  {
   "cell_type": "code",
   "execution_count": 2,
   "id": "5221b63a",
   "metadata": {},
   "outputs": [],
   "source": [
    "def load_data(filename):\n",
    "    data = list(codecs.open(filename, 'r', 'utf-8').readlines())\n",
    "    x, y = zip(*[d.strip().split('\\t') for d in data])\n",
    "    # Reducing any char-acter sequence of more than 3 consecutive repetitions to a respective 3-character sequence \n",
    "    # (e.g. “!!!!!!!!”turns to “!!!”)\n",
    "    # x = [re.sub(r'((.)\\2{3,})', r'\\2\\2\\2', i) for i in x]\n",
    "    x = np.asarray(list(x))\n",
    "    y = np.array(y).astype(np.int)\n",
    "    #y = to_categorical(y, 3)\n",
    "    \n",
    "    \n",
    "    return x, y"
   ]
  },
  {
   "cell_type": "code",
   "execution_count": 3,
   "id": "140ad809",
   "metadata": {},
   "outputs": [],
   "source": [
    "x_token_train, y_token_train = load_data('data/token_train.tsv')\n",
    "x_token_test, y_token_test = load_data('data/token_test.tsv')\n",
    "x_morph_train, y_morph_train = load_data('data/morph_train.tsv')\n",
    "x_morph_test, y_morph_test = load_data('data/morph_test.tsv')\n"
   ]
  },
  {
   "cell_type": "code",
   "execution_count": 4,
   "id": "9787b4a3",
   "metadata": {},
   "outputs": [],
   "source": [
    "stopwords_he = pd.read_excel('stopwords-he.xlsx')"
   ]
  },
  {
   "cell_type": "code",
   "execution_count": 5,
   "id": "40038dde",
   "metadata": {},
   "outputs": [],
   "source": [
    "stopwords_he_list = stopwords_he.Undotted"
   ]
  },
  {
   "cell_type": "code",
   "execution_count": 6,
   "id": "75bdee06",
   "metadata": {},
   "outputs": [],
   "source": [
    "# putting in dataframe\n",
    "\n",
    "train_df = pd.DataFrame()\n",
    "train_df[\"x_token_train\"] = x_token_train\n",
    "train_df[\"y_token_train\"] = y_token_train\n",
    "train_df[\"x_morph_train\"] = x_morph_train\n",
    "train_df[\"y_morph_train\"] = y_morph_train\n",
    "\n",
    "test_df = pd.DataFrame()\n",
    "test_df[\"x_token_test\"] = x_token_test\n",
    "test_df[\"y_token_test\"] = y_token_test\n",
    "test_df[\"x_morph_test\"] = x_morph_test\n",
    "test_df[\"y_morph_test\"] = y_morph_test\n"
   ]
  },
  {
   "cell_type": "code",
   "execution_count": null,
   "id": "6d5b356e",
   "metadata": {},
   "outputs": [],
   "source": []
  },
  {
   "cell_type": "markdown",
   "id": "e319efc0",
   "metadata": {},
   "source": [
    "# EDA"
   ]
  },
  {
   "cell_type": "markdown",
   "id": "61424d3c",
   "metadata": {},
   "source": [
    "## train_df"
   ]
  },
  {
   "cell_type": "code",
   "execution_count": 7,
   "id": "62468a5e",
   "metadata": {},
   "outputs": [
    {
     "name": "stdout",
     "output_type": "stream",
     "text": [
      "<class 'pandas.core.frame.DataFrame'>\n",
      "RangeIndex: 10244 entries, 0 to 10243\n",
      "Data columns (total 4 columns):\n",
      " #   Column         Non-Null Count  Dtype \n",
      "---  ------         --------------  ----- \n",
      " 0   x_token_train  10244 non-null  object\n",
      " 1   y_token_train  10244 non-null  int32 \n",
      " 2   x_morph_train  10244 non-null  object\n",
      " 3   y_morph_train  10244 non-null  int32 \n",
      "dtypes: int32(2), object(2)\n",
      "memory usage: 240.2+ KB\n"
     ]
    }
   ],
   "source": [
    "train_df.info()"
   ]
  },
  {
   "cell_type": "code",
   "execution_count": 8,
   "id": "480749ec",
   "metadata": {},
   "outputs": [
    {
     "data": {
      "text/html": [
       "<div>\n",
       "<style scoped>\n",
       "    .dataframe tbody tr th:only-of-type {\n",
       "        vertical-align: middle;\n",
       "    }\n",
       "\n",
       "    .dataframe tbody tr th {\n",
       "        vertical-align: top;\n",
       "    }\n",
       "\n",
       "    .dataframe thead th {\n",
       "        text-align: right;\n",
       "    }\n",
       "</style>\n",
       "<table border=\"1\" class=\"dataframe\">\n",
       "  <thead>\n",
       "    <tr style=\"text-align: right;\">\n",
       "      <th></th>\n",
       "      <th>y_token_train</th>\n",
       "      <th>y_morph_train</th>\n",
       "    </tr>\n",
       "  </thead>\n",
       "  <tbody>\n",
       "    <tr>\n",
       "      <th>count</th>\n",
       "      <td>10244.00000</td>\n",
       "      <td>10244.00000</td>\n",
       "    </tr>\n",
       "    <tr>\n",
       "      <th>mean</th>\n",
       "      <td>0.36392</td>\n",
       "      <td>0.36392</td>\n",
       "    </tr>\n",
       "    <tr>\n",
       "      <th>std</th>\n",
       "      <td>0.53823</td>\n",
       "      <td>0.53823</td>\n",
       "    </tr>\n",
       "    <tr>\n",
       "      <th>min</th>\n",
       "      <td>0.00000</td>\n",
       "      <td>0.00000</td>\n",
       "    </tr>\n",
       "    <tr>\n",
       "      <th>25%</th>\n",
       "      <td>0.00000</td>\n",
       "      <td>0.00000</td>\n",
       "    </tr>\n",
       "    <tr>\n",
       "      <th>50%</th>\n",
       "      <td>0.00000</td>\n",
       "      <td>0.00000</td>\n",
       "    </tr>\n",
       "    <tr>\n",
       "      <th>75%</th>\n",
       "      <td>1.00000</td>\n",
       "      <td>1.00000</td>\n",
       "    </tr>\n",
       "    <tr>\n",
       "      <th>max</th>\n",
       "      <td>2.00000</td>\n",
       "      <td>2.00000</td>\n",
       "    </tr>\n",
       "  </tbody>\n",
       "</table>\n",
       "</div>"
      ],
      "text/plain": [
       "       y_token_train  y_morph_train\n",
       "count    10244.00000    10244.00000\n",
       "mean         0.36392        0.36392\n",
       "std          0.53823        0.53823\n",
       "min          0.00000        0.00000\n",
       "25%          0.00000        0.00000\n",
       "50%          0.00000        0.00000\n",
       "75%          1.00000        1.00000\n",
       "max          2.00000        2.00000"
      ]
     },
     "execution_count": 8,
     "metadata": {},
     "output_type": "execute_result"
    }
   ],
   "source": [
    "train_df.describe()"
   ]
  },
  {
   "cell_type": "code",
   "execution_count": 9,
   "id": "c1ed41c5",
   "metadata": {},
   "outputs": [
    {
     "data": {
      "text/plain": [
       "<AxesSubplot:ylabel='y_token_train'>"
      ]
     },
     "execution_count": 9,
     "metadata": {},
     "output_type": "execute_result"
    },
    {
     "data": {
      "image/png": "[encoded data removed]",
      "text/plain": [
       "<Figure size 432x288 with 1 Axes>"
      ]
     },
     "metadata": {},
     "output_type": "display_data"
    }
   ],
   "source": [
    "train_df.y_token_train.value_counts().plot(kind ='pie')"
   ]
  },
  {
   "cell_type": "code",
   "execution_count": 10,
   "id": "d8a83fbb",
   "metadata": {},
   "outputs": [
    {
     "data": {
      "text/html": [
       "<div>\n",
       "<style scoped>\n",
       "    .dataframe tbody tr th:only-of-type {\n",
       "        vertical-align: middle;\n",
       "    }\n",
       "\n",
       "    .dataframe tbody tr th {\n",
       "        vertical-align: top;\n",
       "    }\n",
       "\n",
       "    .dataframe thead th {\n",
       "        text-align: right;\n",
       "    }\n",
       "</style>\n",
       "<table border=\"1\" class=\"dataframe\">\n",
       "  <thead>\n",
       "    <tr style=\"text-align: right;\">\n",
       "      <th></th>\n",
       "      <th>y_token_train</th>\n",
       "      <th>y_morph_train</th>\n",
       "    </tr>\n",
       "  </thead>\n",
       "  <tbody>\n",
       "    <tr>\n",
       "      <th>y_token_train</th>\n",
       "      <td>1.0</td>\n",
       "      <td>1.0</td>\n",
       "    </tr>\n",
       "    <tr>\n",
       "      <th>y_morph_train</th>\n",
       "      <td>1.0</td>\n",
       "      <td>1.0</td>\n",
       "    </tr>\n",
       "  </tbody>\n",
       "</table>\n",
       "</div>"
      ],
      "text/plain": [
       "               y_token_train  y_morph_train\n",
       "y_token_train            1.0            1.0\n",
       "y_morph_train            1.0            1.0"
      ]
     },
     "execution_count": 10,
     "metadata": {},
     "output_type": "execute_result"
    }
   ],
   "source": [
    "train_df.corr()"
   ]
  },
  {
   "cell_type": "code",
   "execution_count": 11,
   "id": "96548fd8",
   "metadata": {},
   "outputs": [
    {
     "data": {
      "text/html": [
       "<div>\n",
       "<style scoped>\n",
       "    .dataframe tbody tr th:only-of-type {\n",
       "        vertical-align: middle;\n",
       "    }\n",
       "\n",
       "    .dataframe tbody tr th {\n",
       "        vertical-align: top;\n",
       "    }\n",
       "\n",
       "    .dataframe thead th {\n",
       "        text-align: right;\n",
       "    }\n",
       "</style>\n",
       "<table border=\"1\" class=\"dataframe\">\n",
       "  <thead>\n",
       "    <tr style=\"text-align: right;\">\n",
       "      <th></th>\n",
       "      <th>x_token_train</th>\n",
       "      <th>y_token_train</th>\n",
       "      <th>x_morph_train</th>\n",
       "      <th>y_morph_train</th>\n",
       "    </tr>\n",
       "  </thead>\n",
       "  <tbody>\n",
       "    <tr>\n",
       "      <th>0</th>\n",
       "      <td>ממש כואב ..... אני בוכה עם המשפחה שלא תדעו עוד...</td>\n",
       "      <td>0</td>\n",
       "      <td>ממש כואב ..... אני בכה את היא עם ה משפחה ש לא ...</td>\n",
       "      <td>0</td>\n",
       "    </tr>\n",
       "    <tr>\n",
       "      <th>1</th>\n",
       "      <td>איש יקר שלנו</td>\n",
       "      <td>0</td>\n",
       "      <td>איש יקר של אנחנו</td>\n",
       "      <td>0</td>\n",
       "    </tr>\n",
       "    <tr>\n",
       "      <th>2</th>\n",
       "      <td>כל הכבוד והמון בהצלחה</td>\n",
       "      <td>0</td>\n",
       "      <td>כל ה כבוד ו המון ב הצלחה</td>\n",
       "      <td>0</td>\n",
       "    </tr>\n",
       "    <tr>\n",
       "      <th>3</th>\n",
       "      <td>\" תל חי , רובי . בכל העצב הזה היית קרן אור של ...</td>\n",
       "      <td>0</td>\n",
       "      <td>\" תל חי , רובי . ב כל ה עצב ה זה היית קרן אור ...</td>\n",
       "      <td>0</td>\n",
       "    </tr>\n",
       "    <tr>\n",
       "      <th>4</th>\n",
       "      <td>נקי כפיים ובר לבב בהצלחה לך ולנו .</td>\n",
       "      <td>0</td>\n",
       "      <td>נקי כפיים ו בר לבב ב הצלחה ל אתה ו ל אנחנו .</td>\n",
       "      <td>0</td>\n",
       "    </tr>\n",
       "  </tbody>\n",
       "</table>\n",
       "</div>"
      ],
      "text/plain": [
       "                                       x_token_train  y_token_train  \\\n",
       "0  ממש כואב ..... אני בוכה עם המשפחה שלא תדעו עוד...              0   \n",
       "1                                       איש יקר שלנו              0   \n",
       "2                              כל הכבוד והמון בהצלחה              0   \n",
       "3  \" תל חי , רובי . בכל העצב הזה היית קרן אור של ...              0   \n",
       "4                 נקי כפיים ובר לבב בהצלחה לך ולנו .              0   \n",
       "\n",
       "                                       x_morph_train  y_morph_train  \n",
       "0  ממש כואב ..... אני בכה את היא עם ה משפחה ש לא ...              0  \n",
       "1                                   איש יקר של אנחנו              0  \n",
       "2                           כל ה כבוד ו המון ב הצלחה              0  \n",
       "3  \" תל חי , רובי . ב כל ה עצב ה זה היית קרן אור ...              0  \n",
       "4       נקי כפיים ו בר לבב ב הצלחה ל אתה ו ל אנחנו .              0  "
      ]
     },
     "execution_count": 11,
     "metadata": {},
     "output_type": "execute_result"
    }
   ],
   "source": [
    "train_df[train_df.y_token_train == 0][:5]"
   ]
  },
  {
   "cell_type": "code",
   "execution_count": 12,
   "id": "67d8f1a1",
   "metadata": {},
   "outputs": [
    {
     "data": {
      "text/html": [
       "<div>\n",
       "<style scoped>\n",
       "    .dataframe tbody tr th:only-of-type {\n",
       "        vertical-align: middle;\n",
       "    }\n",
       "\n",
       "    .dataframe tbody tr th {\n",
       "        vertical-align: top;\n",
       "    }\n",
       "\n",
       "    .dataframe thead th {\n",
       "        text-align: right;\n",
       "    }\n",
       "</style>\n",
       "<table border=\"1\" class=\"dataframe\">\n",
       "  <thead>\n",
       "    <tr style=\"text-align: right;\">\n",
       "      <th></th>\n",
       "      <th>x_token_train</th>\n",
       "      <th>y_token_train</th>\n",
       "      <th>x_morph_train</th>\n",
       "      <th>y_morph_train</th>\n",
       "    </tr>\n",
       "  </thead>\n",
       "  <tbody>\n",
       "    <tr>\n",
       "      <th>9</th>\n",
       "      <td>אדוני הנשיא סליחה על הבוטות תפסיק לזיין את השכ...</td>\n",
       "      <td>1</td>\n",
       "      <td>אדוני ה נשיא סליחה על ה בוטות תפסיק לזיין את ה...</td>\n",
       "      <td>1</td>\n",
       "    </tr>\n",
       "    <tr>\n",
       "      <th>11</th>\n",
       "      <td>ואני עוד חשבתי שהגיע נשיא נורמלי</td>\n",
       "      <td>1</td>\n",
       "      <td>ו אני עוד חשבתי ש הגיע נשיא נורמלי</td>\n",
       "      <td>1</td>\n",
       "    </tr>\n",
       "    <tr>\n",
       "      <th>12</th>\n",
       "      <td>נשיא המדינה הלבן והמנותק חכם בדיבורים . הוא לא...</td>\n",
       "      <td>1</td>\n",
       "      <td>נשיא ה מדינה ה לבן ו ה מנותק חכם ב ה דיבורים ....</td>\n",
       "      <td>1</td>\n",
       "    </tr>\n",
       "    <tr>\n",
       "      <th>14</th>\n",
       "      <td>\" רובי ריבלין היקר !! אתה איש משפחה לא ???.. מ...</td>\n",
       "      <td>1</td>\n",
       "      <td>\" רובי ריבלין ה יקר !! אתה איש משפחה לא ???.. ...</td>\n",
       "      <td>1</td>\n",
       "    </tr>\n",
       "    <tr>\n",
       "      <th>18</th>\n",
       "      <td>עוד לא שבוע בתפקיד וכבר שכחת מאיפה באת ?</td>\n",
       "      <td>1</td>\n",
       "      <td>עוד לא שבוע ב ה תפקיד ו כבר שכחת מ איפה באת ?</td>\n",
       "      <td>1</td>\n",
       "    </tr>\n",
       "  </tbody>\n",
       "</table>\n",
       "</div>"
      ],
      "text/plain": [
       "                                        x_token_train  y_token_train  \\\n",
       "9   אדוני הנשיא סליחה על הבוטות תפסיק לזיין את השכ...              1   \n",
       "11                   ואני עוד חשבתי שהגיע נשיא נורמלי              1   \n",
       "12  נשיא המדינה הלבן והמנותק חכם בדיבורים . הוא לא...              1   \n",
       "14  \" רובי ריבלין היקר !! אתה איש משפחה לא ???.. מ...              1   \n",
       "18           עוד לא שבוע בתפקיד וכבר שכחת מאיפה באת ?              1   \n",
       "\n",
       "                                        x_morph_train  y_morph_train  \n",
       "9   אדוני ה נשיא סליחה על ה בוטות תפסיק לזיין את ה...              1  \n",
       "11                 ו אני עוד חשבתי ש הגיע נשיא נורמלי              1  \n",
       "12  נשיא ה מדינה ה לבן ו ה מנותק חכם ב ה דיבורים ....              1  \n",
       "14  \" רובי ריבלין ה יקר !! אתה איש משפחה לא ???.. ...              1  \n",
       "18      עוד לא שבוע ב ה תפקיד ו כבר שכחת מ איפה באת ?              1  "
      ]
     },
     "execution_count": 12,
     "metadata": {},
     "output_type": "execute_result"
    }
   ],
   "source": [
    "train_df[train_df.y_token_train == 1][:5]"
   ]
  },
  {
   "cell_type": "code",
   "execution_count": 13,
   "id": "fd886e2c",
   "metadata": {},
   "outputs": [
    {
     "data": {
      "text/html": [
       "<div>\n",
       "<style scoped>\n",
       "    .dataframe tbody tr th:only-of-type {\n",
       "        vertical-align: middle;\n",
       "    }\n",
       "\n",
       "    .dataframe tbody tr th {\n",
       "        vertical-align: top;\n",
       "    }\n",
       "\n",
       "    .dataframe thead th {\n",
       "        text-align: right;\n",
       "    }\n",
       "</style>\n",
       "<table border=\"1\" class=\"dataframe\">\n",
       "  <thead>\n",
       "    <tr style=\"text-align: right;\">\n",
       "      <th></th>\n",
       "      <th>x_token_train</th>\n",
       "      <th>y_token_train</th>\n",
       "      <th>x_morph_train</th>\n",
       "      <th>y_morph_train</th>\n",
       "    </tr>\n",
       "  </thead>\n",
       "  <tbody>\n",
       "    <tr>\n",
       "      <th>53</th>\n",
       "      <td>חייבים לעשות סוג של חרם כשכתבים שונאי ישראל עו...</td>\n",
       "      <td>2</td>\n",
       "      <td>חייבים לעשות סוג של חרם כש כתבים שונאי ישראל ע...</td>\n",
       "      <td>2</td>\n",
       "    </tr>\n",
       "    <tr>\n",
       "      <th>78</th>\n",
       "      <td>אז אתה בא ? https://www.facebook.com/events/15...</td>\n",
       "      <td>2</td>\n",
       "      <td>אז אתה בא ? https://www.facebook.com/events/15...</td>\n",
       "      <td>2</td>\n",
       "    </tr>\n",
       "    <tr>\n",
       "      <th>82</th>\n",
       "      <td>\" גאי אתה טיפש מטופש ילד כאפות שלא חונך על ברכ...</td>\n",
       "      <td>2</td>\n",
       "      <td>\" גאי אתה טיפש מטופש ילד כאפות ש לא חונך על בר...</td>\n",
       "      <td>2</td>\n",
       "    </tr>\n",
       "    <tr>\n",
       "      <th>117</th>\n",
       "      <td>שמעון יפרח העלאתי בשבילך את דבריו של שמעון פרס...</td>\n",
       "      <td>2</td>\n",
       "      <td>ש מעון יפרח העלאתי בשביל אתה את דבריו של שמעון...</td>\n",
       "      <td>2</td>\n",
       "    </tr>\n",
       "    <tr>\n",
       "      <th>181</th>\n",
       "      <td>רובי ריבלין הנשיא העשירי תחזית שניתנה לפני הבח...</td>\n",
       "      <td>2</td>\n",
       "      <td>רובי ריבלין ה נשיא ה עשירי תחזית ש ניתנה לפני ...</td>\n",
       "      <td>2</td>\n",
       "    </tr>\n",
       "  </tbody>\n",
       "</table>\n",
       "</div>"
      ],
      "text/plain": [
       "                                         x_token_train  y_token_train  \\\n",
       "53   חייבים לעשות סוג של חרם כשכתבים שונאי ישראל עו...              2   \n",
       "78   אז אתה בא ? https://www.facebook.com/events/15...              2   \n",
       "82   \" גאי אתה טיפש מטופש ילד כאפות שלא חונך על ברכ...              2   \n",
       "117  שמעון יפרח העלאתי בשבילך את דבריו של שמעון פרס...              2   \n",
       "181  רובי ריבלין הנשיא העשירי תחזית שניתנה לפני הבח...              2   \n",
       "\n",
       "                                         x_morph_train  y_morph_train  \n",
       "53   חייבים לעשות סוג של חרם כש כתבים שונאי ישראל ע...              2  \n",
       "78   אז אתה בא ? https://www.facebook.com/events/15...              2  \n",
       "82   \" גאי אתה טיפש מטופש ילד כאפות ש לא חונך על בר...              2  \n",
       "117  ש מעון יפרח העלאתי בשביל אתה את דבריו של שמעון...              2  \n",
       "181  רובי ריבלין ה נשיא ה עשירי תחזית ש ניתנה לפני ...              2  "
      ]
     },
     "execution_count": 13,
     "metadata": {},
     "output_type": "execute_result"
    }
   ],
   "source": [
    "train_df[train_df.y_token_train == 2][:5]"
   ]
  },
  {
   "cell_type": "markdown",
   "id": "1ca5b56f",
   "metadata": {},
   "source": [
    "The dataset contains:\n",
    "1. **x_token_train** - collection of talkback as strings\n",
    "2. **y_token_train** - Sentiment classification (target), (0 - Positive, 1 - Negative, 2 - Neutral)\n",
    "3. **x_morph_train** - same as x_token_train, but seperated to prefix, nuclear word, suffix (morphologically rich language)\n",
    "4. **y_morph_train** - same as y_token_train, since it is the same sentiment"
   ]
  },
  {
   "cell_type": "markdown",
   "id": "0dd55098",
   "metadata": {},
   "source": [
    "morph examples:    \n",
    "\n",
    "    לנשיאות\n",
    "    ל ה נשיאות\n",
    "\n",
    "    לה הצלחה\n",
    "    ל היא הצלחה"
   ]
  },
  {
   "cell_type": "code",
   "execution_count": 14,
   "id": "8145d8e5",
   "metadata": {},
   "outputs": [],
   "source": [
    "# dropping the duplicate y_morph_train column"
   ]
  },
  {
   "cell_type": "code",
   "execution_count": 15,
   "id": "a3d113c6",
   "metadata": {},
   "outputs": [],
   "source": [
    "train_df.drop('y_morph_train', axis='columns', inplace=True)\n",
    "train_df.rename(columns={\"y_token_train\": \"y_train\"}, inplace=True)"
   ]
  },
  {
   "cell_type": "code",
   "execution_count": 16,
   "id": "f4177835",
   "metadata": {},
   "outputs": [
    {
     "data": {
      "text/html": [
       "<div>\n",
       "<style scoped>\n",
       "    .dataframe tbody tr th:only-of-type {\n",
       "        vertical-align: middle;\n",
       "    }\n",
       "\n",
       "    .dataframe tbody tr th {\n",
       "        vertical-align: top;\n",
       "    }\n",
       "\n",
       "    .dataframe thead th {\n",
       "        text-align: right;\n",
       "    }\n",
       "</style>\n",
       "<table border=\"1\" class=\"dataframe\">\n",
       "  <thead>\n",
       "    <tr style=\"text-align: right;\">\n",
       "      <th></th>\n",
       "      <th>x_token_train</th>\n",
       "      <th>y_train</th>\n",
       "      <th>x_morph_train</th>\n",
       "    </tr>\n",
       "  </thead>\n",
       "  <tbody>\n",
       "    <tr>\n",
       "      <th>0</th>\n",
       "      <td>ממש כואב ..... אני בוכה עם המשפחה שלא תדעו עוד...</td>\n",
       "      <td>0</td>\n",
       "      <td>ממש כואב ..... אני בכה את היא עם ה משפחה ש לא ...</td>\n",
       "    </tr>\n",
       "    <tr>\n",
       "      <th>1</th>\n",
       "      <td>איש יקר שלנו</td>\n",
       "      <td>0</td>\n",
       "      <td>איש יקר של אנחנו</td>\n",
       "    </tr>\n",
       "    <tr>\n",
       "      <th>2</th>\n",
       "      <td>כל הכבוד והמון בהצלחה</td>\n",
       "      <td>0</td>\n",
       "      <td>כל ה כבוד ו המון ב הצלחה</td>\n",
       "    </tr>\n",
       "    <tr>\n",
       "      <th>3</th>\n",
       "      <td>\" תל חי , רובי . בכל העצב הזה היית קרן אור של ...</td>\n",
       "      <td>0</td>\n",
       "      <td>\" תל חי , רובי . ב כל ה עצב ה זה היית קרן אור ...</td>\n",
       "    </tr>\n",
       "    <tr>\n",
       "      <th>4</th>\n",
       "      <td>נקי כפיים ובר לבב בהצלחה לך ולנו .</td>\n",
       "      <td>0</td>\n",
       "      <td>נקי כפיים ו בר לבב ב הצלחה ל אתה ו ל אנחנו .</td>\n",
       "    </tr>\n",
       "  </tbody>\n",
       "</table>\n",
       "</div>"
      ],
      "text/plain": [
       "                                       x_token_train  y_train  \\\n",
       "0  ממש כואב ..... אני בוכה עם המשפחה שלא תדעו עוד...        0   \n",
       "1                                       איש יקר שלנו        0   \n",
       "2                              כל הכבוד והמון בהצלחה        0   \n",
       "3  \" תל חי , רובי . בכל העצב הזה היית קרן אור של ...        0   \n",
       "4                 נקי כפיים ובר לבב בהצלחה לך ולנו .        0   \n",
       "\n",
       "                                       x_morph_train  \n",
       "0  ממש כואב ..... אני בכה את היא עם ה משפחה ש לא ...  \n",
       "1                                   איש יקר של אנחנו  \n",
       "2                           כל ה כבוד ו המון ב הצלחה  \n",
       "3  \" תל חי , רובי . ב כל ה עצב ה זה היית קרן אור ...  \n",
       "4       נקי כפיים ו בר לבב ב הצלחה ל אתה ו ל אנחנו .  "
      ]
     },
     "execution_count": 16,
     "metadata": {},
     "output_type": "execute_result"
    }
   ],
   "source": [
    "train_df.head()"
   ]
  },
  {
   "cell_type": "code",
   "execution_count": 17,
   "id": "2d66aed9",
   "metadata": {},
   "outputs": [],
   "source": [
    "# Cleaning methods:\n",
    "def remove_URL(text):\n",
    "    url = re.compile(r\"https?://\\S+|www\\.\\S+\")\n",
    "    return url.sub(r\"\", text)\n",
    "\n",
    "def remove_html(text):\n",
    "    html = re.compile(r\"<.*?>\")\n",
    "    return html.sub(r\"\", text)\n",
    "\n",
    "def keep_only_heb(p_text):\n",
    "    CHARS_PATTERN = re.compile(r\"\"\"[^אבגדהוזחטיכלמנסעפצקרשתןףץםך'\\- \"]\"\"\")\n",
    "    return CHARS_PATTERN.sub('', p_text)\n",
    "\n",
    "def remove_punct(text):\n",
    "    table = str.maketrans(\"\", \"\", string.punctuation)\n",
    "    return text.translate(table)\n",
    "\n",
    "def remove_stopwords(text):\n",
    "    text = [word for word in text.split() if word not in stop_words]\n",
    "    return \" \".join(text)\n",
    "\n",
    "def remove_k_length(text, k = 1):\n",
    "    text = [word for word in text.split() if len(word) > 1]\n",
    "    return \" \".join(text)\n",
    "\n",
    "def consildate_k_chars(text, k):\n",
    "    while True:\n",
    "        count = 0\n",
    "        chars = set(text)\n",
    "        for c in chars:\n",
    "            if c * k in text:\n",
    "                text = text.replace(c * k, c)\n",
    "                count += 1\n",
    "        if count == 0:\n",
    "            break\n",
    "    return text\n",
    "\n",
    "def remove_emoji(string):\n",
    "    emoji_pattern = re.compile(\n",
    "        \"[\"\n",
    "        u\"\\U0001F600-\\U0001F64F\"  # emoticons\n",
    "        u\"\\U0001F300-\\U0001F5FF\"  # symbols & pictographs\n",
    "        u\"\\U0001F680-\\U0001F6FF\"  # transport & map symbols\n",
    "        u\"\\U0001F1E0-\\U0001F1FF\"  # flags (iOS)\n",
    "        u\"\\U00002702-\\U000027B0\"\n",
    "        u\"\\U000024C2-\\U0001F251\"\n",
    "        \"]+\",\n",
    "        flags=re.UNICODE,\n",
    "    )\n",
    "    return emoji_pattern.sub(r\"\", string)"
   ]
  },
  {
   "cell_type": "code",
   "execution_count": 18,
   "id": "3da55f2d",
   "metadata": {},
   "outputs": [
    {
     "data": {
      "text/html": [
       "<div>\n",
       "<style scoped>\n",
       "    .dataframe tbody tr th:only-of-type {\n",
       "        vertical-align: middle;\n",
       "    }\n",
       "\n",
       "    .dataframe tbody tr th {\n",
       "        vertical-align: top;\n",
       "    }\n",
       "\n",
       "    .dataframe thead th {\n",
       "        text-align: right;\n",
       "    }\n",
       "</style>\n",
       "<table border=\"1\" class=\"dataframe\">\n",
       "  <thead>\n",
       "    <tr style=\"text-align: right;\">\n",
       "      <th></th>\n",
       "      <th>x_token_train</th>\n",
       "      <th>y_train</th>\n",
       "      <th>x_morph_train</th>\n",
       "      <th>clean_morph</th>\n",
       "      <th>clean_len</th>\n",
       "    </tr>\n",
       "  </thead>\n",
       "  <tbody>\n",
       "    <tr>\n",
       "      <th>0</th>\n",
       "      <td>ממש כואב ..... אני בוכה עם המשפחה שלא תדעו עוד...</td>\n",
       "      <td>0</td>\n",
       "      <td>ממש כואב ..... אני בכה את היא עם ה משפחה ש לא ...</td>\n",
       "      <td>ממש כואב בכה משפחה תדעו עוד צער</td>\n",
       "      <td>31</td>\n",
       "    </tr>\n",
       "    <tr>\n",
       "      <th>2</th>\n",
       "      <td>כל הכבוד והמון בהצלחה</td>\n",
       "      <td>0</td>\n",
       "      <td>כל ה כבוד ו המון ב הצלחה</td>\n",
       "      <td>כבוד המון הצלחה</td>\n",
       "      <td>15</td>\n",
       "    </tr>\n",
       "    <tr>\n",
       "      <th>3</th>\n",
       "      <td>\" תל חי , רובי . בכל העצב הזה היית קרן אור של ...</td>\n",
       "      <td>0</td>\n",
       "      <td>\" תל חי , רובי . ב כל ה עצב ה זה היית קרן אור ...</td>\n",
       "      <td>תל חי רובי עצב היית קרן אור תקוה אכן נשיא ישראל</td>\n",
       "      <td>47</td>\n",
       "    </tr>\n",
       "    <tr>\n",
       "      <th>4</th>\n",
       "      <td>נקי כפיים ובר לבב בהצלחה לך ולנו .</td>\n",
       "      <td>0</td>\n",
       "      <td>נקי כפיים ו בר לבב ב הצלחה ל אתה ו ל אנחנו .</td>\n",
       "      <td>נקי כפיים בר לבב הצלחה</td>\n",
       "      <td>22</td>\n",
       "    </tr>\n",
       "    <tr>\n",
       "      <th>5</th>\n",
       "      <td>רובי חג שמח והצלחה בבחירות לנשיאות .</td>\n",
       "      <td>0</td>\n",
       "      <td>רובי חג שמח ו הצלחה ב בחירות ל ה נשיאות .</td>\n",
       "      <td>רובי חג שמח הצלחה בחירות נשיאות</td>\n",
       "      <td>31</td>\n",
       "    </tr>\n",
       "  </tbody>\n",
       "</table>\n",
       "</div>"
      ],
      "text/plain": [
       "                                       x_token_train  y_train  \\\n",
       "0  ממש כואב ..... אני בוכה עם המשפחה שלא תדעו עוד...        0   \n",
       "2                              כל הכבוד והמון בהצלחה        0   \n",
       "3  \" תל חי , רובי . בכל העצב הזה היית קרן אור של ...        0   \n",
       "4                 נקי כפיים ובר לבב בהצלחה לך ולנו .        0   \n",
       "5               רובי חג שמח והצלחה בבחירות לנשיאות .        0   \n",
       "\n",
       "                                       x_morph_train  \\\n",
       "0  ממש כואב ..... אני בכה את היא עם ה משפחה ש לא ...   \n",
       "2                           כל ה כבוד ו המון ב הצלחה   \n",
       "3  \" תל חי , רובי . ב כל ה עצב ה זה היית קרן אור ...   \n",
       "4       נקי כפיים ו בר לבב ב הצלחה ל אתה ו ל אנחנו .   \n",
       "5          רובי חג שמח ו הצלחה ב בחירות ל ה נשיאות .   \n",
       "\n",
       "                                       clean_morph  clean_len  \n",
       "0                  ממש כואב בכה משפחה תדעו עוד צער         31  \n",
       "2                                  כבוד המון הצלחה         15  \n",
       "3  תל חי רובי עצב היית קרן אור תקוה אכן נשיא ישראל         47  \n",
       "4                           נקי כפיים בר לבב הצלחה         22  \n",
       "5                  רובי חג שמח הצלחה בחירות נשיאות         31  "
      ]
     },
     "execution_count": 18,
     "metadata": {},
     "output_type": "execute_result"
    }
   ],
   "source": [
    "# adding a clean token column\n",
    "stop_words =[]\n",
    "with open('hebrew_stop_words.json', 'r', encoding=\"utf8\") as f:\n",
    "    stop_words = json.load(f)\n",
    "    \n",
    "# use get_display to convert the hebrew stop words, so the word cloud won't be reversed \n",
    "bd_hsw = get_display(\" \".join(stop_words)).split(\" \")\n",
    "\n",
    "train_df[\"clean_morph\"] = train_df.x_morph_train.map(lambda x: keep_only_heb(x))\n",
    "train_df[\"clean_morph\"] = train_df.clean_morph.map(lambda x: remove_URL(x))\n",
    "train_df[\"clean_morph\"] = train_df.clean_morph.map(lambda x: remove_html(x))\n",
    "train_df[\"clean_morph\"] = train_df.clean_morph.map(lambda x: remove_emoji(x))\n",
    "train_df[\"clean_morph\"] = train_df.clean_morph.map(lambda x: remove_punct(x))\n",
    "train_df[\"clean_morph\"] = train_df.clean_morph.map(lambda x: remove_stopwords(x))\n",
    "train_df[\"clean_morph\"] = train_df.clean_morph.map(lambda x: remove_k_length(x))\n",
    "train_df[\"clean_len\"] = train_df.clean_morph.map(lambda x: len((x)))\n",
    "train_df = train_df[train_df.clean_len > 10]\n",
    "train_df.describe()\n",
    "train_df.head()\n"
   ]
  },
  {
   "cell_type": "code",
   "execution_count": 19,
   "id": "956a03b0",
   "metadata": {},
   "outputs": [
    {
     "data": {
      "text/html": [
       "<div>\n",
       "<style scoped>\n",
       "    .dataframe tbody tr th:only-of-type {\n",
       "        vertical-align: middle;\n",
       "    }\n",
       "\n",
       "    .dataframe tbody tr th {\n",
       "        vertical-align: top;\n",
       "    }\n",
       "\n",
       "    .dataframe thead th {\n",
       "        text-align: right;\n",
       "    }\n",
       "</style>\n",
       "<table border=\"1\" class=\"dataframe\">\n",
       "  <thead>\n",
       "    <tr style=\"text-align: right;\">\n",
       "      <th></th>\n",
       "      <th>x_token_test</th>\n",
       "      <th>y_token_test</th>\n",
       "      <th>x_morph_test</th>\n",
       "      <th>y_morph_test</th>\n",
       "    </tr>\n",
       "  </thead>\n",
       "  <tbody>\n",
       "    <tr>\n",
       "      <th>0</th>\n",
       "      <td>\" שמע ישראל , השם ישמור ויקרא הגורל = ( י.ק.ו....</td>\n",
       "      <td>0</td>\n",
       "      <td>\" שמע ישראל , ה שם ישמור ו יקרא ה גורל =  ( י....</td>\n",
       "      <td>0</td>\n",
       "    </tr>\n",
       "    <tr>\n",
       "      <th>1</th>\n",
       "      <td>איחולי הצלחה בתפקידך .</td>\n",
       "      <td>0</td>\n",
       "      <td>איחולי הצלחה ב תפקידך .</td>\n",
       "      <td>0</td>\n",
       "    </tr>\n",
       "    <tr>\n",
       "      <th>2</th>\n",
       "      <td>כל הכבוד !!!</td>\n",
       "      <td>0</td>\n",
       "      <td>כל ה כבוד !!!</td>\n",
       "      <td>0</td>\n",
       "    </tr>\n",
       "    <tr>\n",
       "      <th>3</th>\n",
       "      <td>\" בוקר טוב ישראל בוקר טוב לכבוד נשיא מדינת ישר...</td>\n",
       "      <td>0</td>\n",
       "      <td>\" בוקר טוב ישראל בוקר טוב לכבוד נשיא מדינת ישר...</td>\n",
       "      <td>0</td>\n",
       "    </tr>\n",
       "    <tr>\n",
       "      <th>4</th>\n",
       "      <td>איפה הגינוי ? http://www.iba.org.il/bet/bet.as...</td>\n",
       "      <td>1</td>\n",
       "      <td>איפה ה גינוי ? http://www.iba.org.il/bet/bet.a...</td>\n",
       "      <td>1</td>\n",
       "    </tr>\n",
       "  </tbody>\n",
       "</table>\n",
       "</div>"
      ],
      "text/plain": [
       "                                        x_token_test  y_token_test  \\\n",
       "0  \" שמע ישראל , השם ישמור ויקרא הגורל = ( י.ק.ו....             0   \n",
       "1                             איחולי הצלחה בתפקידך .             0   \n",
       "2                                       כל הכבוד !!!             0   \n",
       "3  \" בוקר טוב ישראל בוקר טוב לכבוד נשיא מדינת ישר...             0   \n",
       "4  איפה הגינוי ? http://www.iba.org.il/bet/bet.as...             1   \n",
       "\n",
       "                                        x_morph_test  y_morph_test  \n",
       "0  \" שמע ישראל , ה שם ישמור ו יקרא ה גורל =  ( י....             0  \n",
       "1                            איחולי הצלחה ב תפקידך .             0  \n",
       "2                                      כל ה כבוד !!!             0  \n",
       "3  \" בוקר טוב ישראל בוקר טוב לכבוד נשיא מדינת ישר...             0  \n",
       "4  איפה ה גינוי ? http://www.iba.org.il/bet/bet.a...             1  "
      ]
     },
     "execution_count": 19,
     "metadata": {},
     "output_type": "execute_result"
    }
   ],
   "source": [
    "test_df.head()"
   ]
  },
  {
   "cell_type": "code",
   "execution_count": 20,
   "id": "b109848c",
   "metadata": {
    "scrolled": true
   },
   "outputs": [
    {
     "data": {
      "text/html": [
       "<div>\n",
       "<style scoped>\n",
       "    .dataframe tbody tr th:only-of-type {\n",
       "        vertical-align: middle;\n",
       "    }\n",
       "\n",
       "    .dataframe tbody tr th {\n",
       "        vertical-align: top;\n",
       "    }\n",
       "\n",
       "    .dataframe thead th {\n",
       "        text-align: right;\n",
       "    }\n",
       "</style>\n",
       "<table border=\"1\" class=\"dataframe\">\n",
       "  <thead>\n",
       "    <tr style=\"text-align: right;\">\n",
       "      <th></th>\n",
       "      <th>x_token_test</th>\n",
       "      <th>y_token_test</th>\n",
       "      <th>x_morph_test</th>\n",
       "      <th>y_morph_test</th>\n",
       "      <th>clean_morph</th>\n",
       "      <th>clean_len</th>\n",
       "    </tr>\n",
       "  </thead>\n",
       "  <tbody>\n",
       "    <tr>\n",
       "      <th>0</th>\n",
       "      <td>\" שמע ישראל , השם ישמור ויקרא הגורל = ( י.ק.ו....</td>\n",
       "      <td>0</td>\n",
       "      <td>\" שמע ישראל , ה שם ישמור ו יקרא ה גורל =  ( י....</td>\n",
       "      <td>0</td>\n",
       "      <td>שמע ישראל ישמור יקרא גורל יקוק אימרו אמן אבא ב...</td>\n",
       "      <td>223</td>\n",
       "    </tr>\n",
       "    <tr>\n",
       "      <th>1</th>\n",
       "      <td>איחולי הצלחה בתפקידך .</td>\n",
       "      <td>0</td>\n",
       "      <td>איחולי הצלחה ב תפקידך .</td>\n",
       "      <td>0</td>\n",
       "      <td>איחולי הצלחה תפקידך</td>\n",
       "      <td>19</td>\n",
       "    </tr>\n",
       "    <tr>\n",
       "      <th>3</th>\n",
       "      <td>\" בוקר טוב ישראל בוקר טוב לכבוד נשיא מדינת ישר...</td>\n",
       "      <td>0</td>\n",
       "      <td>\" בוקר טוב ישראל בוקר טוב לכבוד נשיא מדינת ישר...</td>\n",
       "      <td>0</td>\n",
       "      <td>בוקר טוב ישראל בוקר טוב לכבוד נשיא מדינת ישראל...</td>\n",
       "      <td>127</td>\n",
       "    </tr>\n",
       "    <tr>\n",
       "      <th>5</th>\n",
       "      <td>\" מילים רגישות ונכונות כתמיד מפיך , חסר רק אזכ...</td>\n",
       "      <td>0</td>\n",
       "      <td>\" מילים רגישות ו נכונות כ תמיד מ פיך , חסר רק ...</td>\n",
       "      <td>0</td>\n",
       "      <td>מילים רגישות נכונות תמיד פיך חסר אזכור ספורט נ...</td>\n",
       "      <td>186</td>\n",
       "    </tr>\n",
       "    <tr>\n",
       "      <th>6</th>\n",
       "      <td>נכון שמאחרת לברך ונכון שאני הקטנה מכולם אבל לא...</td>\n",
       "      <td>0</td>\n",
       "      <td>נכון ש מאחרת לברך ו נכון ש אני ה קטנה מ כולם א...</td>\n",
       "      <td>0</td>\n",
       "      <td>נכון מאחרת לברך נכון קטנה אחרונה לברך האמין הצ...</td>\n",
       "      <td>72</td>\n",
       "    </tr>\n",
       "  </tbody>\n",
       "</table>\n",
       "</div>"
      ],
      "text/plain": [
       "                                        x_token_test  y_token_test  \\\n",
       "0  \" שמע ישראל , השם ישמור ויקרא הגורל = ( י.ק.ו....             0   \n",
       "1                             איחולי הצלחה בתפקידך .             0   \n",
       "3  \" בוקר טוב ישראל בוקר טוב לכבוד נשיא מדינת ישר...             0   \n",
       "5  \" מילים רגישות ונכונות כתמיד מפיך , חסר רק אזכ...             0   \n",
       "6  נכון שמאחרת לברך ונכון שאני הקטנה מכולם אבל לא...             0   \n",
       "\n",
       "                                        x_morph_test  y_morph_test  \\\n",
       "0  \" שמע ישראל , ה שם ישמור ו יקרא ה גורל =  ( י....             0   \n",
       "1                            איחולי הצלחה ב תפקידך .             0   \n",
       "3  \" בוקר טוב ישראל בוקר טוב לכבוד נשיא מדינת ישר...             0   \n",
       "5  \" מילים רגישות ו נכונות כ תמיד מ פיך , חסר רק ...             0   \n",
       "6  נכון ש מאחרת לברך ו נכון ש אני ה קטנה מ כולם א...             0   \n",
       "\n",
       "                                         clean_morph  clean_len  \n",
       "0  שמע ישראל ישמור יקרא גורל יקוק אימרו אמן אבא ב...        223  \n",
       "1                                איחולי הצלחה תפקידך         19  \n",
       "3  בוקר טוב ישראל בוקר טוב לכבוד נשיא מדינת ישראל...        127  \n",
       "5  מילים רגישות נכונות תמיד פיך חסר אזכור ספורט נ...        186  \n",
       "6  נכון מאחרת לברך נכון קטנה אחרונה לברך האמין הצ...         72  "
      ]
     },
     "execution_count": 20,
     "metadata": {},
     "output_type": "execute_result"
    }
   ],
   "source": [
    "test_df[\"clean_morph\"] = test_df.x_morph_test.map(lambda x: keep_only_heb(x))\n",
    "test_df[\"clean_morph\"] = test_df.clean_morph.map(lambda x: remove_URL(x))\n",
    "test_df[\"clean_morph\"] = test_df.clean_morph.map(lambda x: remove_html(x))\n",
    "test_df[\"clean_morph\"] = test_df.clean_morph.map(lambda x: remove_emoji(x))\n",
    "test_df[\"clean_morph\"] = test_df.clean_morph.map(lambda x: remove_punct(x))\n",
    "test_df[\"clean_morph\"] = test_df.clean_morph.map(lambda x: remove_stopwords(x))\n",
    "test_df[\"clean_morph\"] = test_df.clean_morph.map(lambda x: remove_k_length(x))\n",
    "test_df[\"clean_len\"] = test_df.clean_morph.map(lambda x: len((x)))\n",
    "test_df = test_df[test_df.clean_len > 10]\n",
    "test_df.describe()\n",
    "test_df.head()"
   ]
  },
  {
   "cell_type": "code",
   "execution_count": null,
   "id": "f066aa28",
   "metadata": {},
   "outputs": [],
   "source": []
  },
  {
   "cell_type": "code",
   "execution_count": null,
   "id": "6789caed",
   "metadata": {},
   "outputs": [],
   "source": []
  },
  {
   "cell_type": "markdown",
   "id": "d4e375a8",
   "metadata": {},
   "source": [
    "# Error Analysis"
   ]
  },
  {
   "cell_type": "markdown",
   "id": "22accdf0",
   "metadata": {},
   "source": [
    "##  1. Find high distinctive words"
   ]
  },
  {
   "cell_type": "markdown",
   "id": "5d003be3",
   "metadata": {},
   "source": [
    "as in the reference example, we will use <code>ExtraTreesClassifier</code> and <code>CountVectorizer(word)</code> in order to find out which of the words.\n",
    "\n",
    "We will use the text that have gone\n",
    "1. Morphing (ובהצלחה -> ו ב הצלחה)\n",
    "2. Extracting only hebrew words\n",
    "3. Removing more than 3 duplicate charecters (שולטטטטט-> שולט)"
   ]
  },
  {
   "cell_type": "markdown",
   "id": "40ae4247",
   "metadata": {},
   "source": [
    "### 1.a Plot word frequency, wordclouds, connection words that affect the classification"
   ]
  },
  {
   "cell_type": "code",
   "execution_count": 21,
   "id": "17223e1d",
   "metadata": {},
   "outputs": [],
   "source": [
    "clean_train_df = train_df.copy()\n",
    "clean_train_df = clean_train_df[['clean_morph', 'y_train']]\n",
    "\n",
    "clean_test_df = test_df.copy()\n",
    "clean_test_df = clean_test_df[['clean_morph', 'y_morph_test']]"
   ]
  },
  {
   "cell_type": "markdown",
   "id": "4f7d190c",
   "metadata": {},
   "source": [
    "#### wordcloud"
   ]
  },
  {
   "cell_type": "code",
   "execution_count": 22,
   "id": "c79d0aef",
   "metadata": {},
   "outputs": [
    {
     "data": {
      "text/plain": [
       "<matplotlib.image.AxesImage at 0x20471b5a490>"
      ]
     },
     "execution_count": 22,
     "metadata": {},
     "output_type": "execute_result"
    },
    {
     "data": {
      "image/png": "[encoded data removed]",
      "text/plain": [
       "<Figure size 1152x576 with 2 Axes>"
      ]
     },
     "metadata": {
      "needs_background": "light"
     },
     "output_type": "display_data"
    },
    {
     "data": {
      "image/png": "[encoded data removed]",
      "text/plain": [
       "<Figure size 576x576 with 1 Axes>"
      ]
     },
     "metadata": {
      "needs_background": "light"
     },
     "output_type": "display_data"
    }
   ],
   "source": [
    "# Display \n",
    "\n",
    "# (as in the previous exerceise, but now with a cleaner text)\n",
    "\n",
    "from wordcloud import WordCloud\n",
    "all_positive_wc = WordCloud(\n",
    "    colormap='viridis',\n",
    "    font_path='Fonts/GveretLevinAlefAlefAlef-Regular.ttf',\n",
    "    background_color=\"white\",\n",
    "    max_words=30,\n",
    "    max_font_size=80).generate(get_display(\" \".join(clean_train_df[clean_train_df.y_train==0].clean_morph)))\n",
    "\n",
    "all_negative_wc = WordCloud(\n",
    "    colormap='inferno',\n",
    "    font_path='Fonts/GveretLevinAlefAlefAlef-Regular.ttf',\n",
    "    background_color=\"white\",\n",
    "    max_words=30,\n",
    "    max_font_size=80).generate(get_display(\" \".join(clean_train_df[clean_train_df.y_train==1].clean_morph)))\n",
    "\n",
    "all_neutral_wc = WordCloud(\n",
    "    colormap='magma',\n",
    "    font_path='Fonts/GveretLevinAlefAlefAlef-Regular.ttf',\n",
    "    background_color=\"white\",\n",
    "    max_words=30,\n",
    "    max_font_size=80).generate(get_display(\" \".join(clean_train_df[clean_train_df.y_train==2].clean_morph)))\n",
    "\n",
    "plt.figure(1, figsize=(16, 8))\n",
    "\n",
    "plt.subplot(1, 2, 1)\n",
    "plt.title(\"Positive\")\n",
    "plt.imshow(all_positive_wc)\n",
    "\n",
    "plt.subplot(1, 2, 2)\n",
    "plt.title(\"Negative\")\n",
    "plt.imshow(all_negative_wc)\n",
    "\n",
    "plt.figure(2, figsize=(8, 8))\n",
    "plt.title(\"Neutral\")\n",
    "plt.imshow(all_neutral_wc)"
   ]
  },
  {
   "cell_type": "markdown",
   "id": "b157f126",
   "metadata": {},
   "source": [
    "#### word frequency"
   ]
  },
  {
   "cell_type": "markdown",
   "id": "8a5895a5",
   "metadata": {},
   "source": [
    "Positive sentiment"
   ]
  },
  {
   "cell_type": "code",
   "execution_count": 23,
   "id": "7507f887",
   "metadata": {},
   "outputs": [],
   "source": [
    "vect = CountVectorizer(analyzer='word', lowercase=False)\n",
    "vect_pos = vect.fit_transform(clean_train_df[clean_train_df.y_train == 0].clean_morph)\n",
    "\n",
    "# Visualising the high frequency words for positive set\n",
    "\n",
    "df_pos_freq = pd.DataFrame(vect_pos.sum(axis=0), columns=list(vect.get_feature_names()), index = ['pos_frequency']).T\n",
    "most_freq_pos = df_pos_freq.nlargest(6, 'pos_frequency')"
   ]
  },
  {
   "cell_type": "code",
   "execution_count": 24,
   "id": "ee957472",
   "metadata": {},
   "outputs": [
    {
     "data": {
      "text/html": [
       "<div>\n",
       "<style scoped>\n",
       "    .dataframe tbody tr th:only-of-type {\n",
       "        vertical-align: middle;\n",
       "    }\n",
       "\n",
       "    .dataframe tbody tr th {\n",
       "        vertical-align: top;\n",
       "    }\n",
       "\n",
       "    .dataframe thead th {\n",
       "        text-align: right;\n",
       "    }\n",
       "</style>\n",
       "<table border=\"1\" class=\"dataframe\">\n",
       "  <thead>\n",
       "    <tr style=\"text-align: right;\">\n",
       "      <th></th>\n",
       "      <th>pos_frequency</th>\n",
       "    </tr>\n",
       "  </thead>\n",
       "  <tbody>\n",
       "    <tr>\n",
       "      <th>נשיא</th>\n",
       "      <td>3052</td>\n",
       "    </tr>\n",
       "    <tr>\n",
       "      <th>כבוד</th>\n",
       "      <td>1403</td>\n",
       "    </tr>\n",
       "    <tr>\n",
       "      <th>הצלחה</th>\n",
       "      <td>1255</td>\n",
       "    </tr>\n",
       "    <tr>\n",
       "      <th>ישראל</th>\n",
       "      <td>1035</td>\n",
       "    </tr>\n",
       "    <tr>\n",
       "      <th>רובי</th>\n",
       "      <td>706</td>\n",
       "    </tr>\n",
       "    <tr>\n",
       "      <th>שלום</th>\n",
       "      <td>618</td>\n",
       "    </tr>\n",
       "  </tbody>\n",
       "</table>\n",
       "</div>"
      ],
      "text/plain": [
       "       pos_frequency\n",
       "נשיא            3052\n",
       "כבוד            1403\n",
       "הצלחה           1255\n",
       "ישראל           1035\n",
       "רובי             706\n",
       "שלום             618"
      ]
     },
     "execution_count": 24,
     "metadata": {},
     "output_type": "execute_result"
    }
   ],
   "source": [
    "most_freq_pos"
   ]
  },
  {
   "cell_type": "markdown",
   "id": "4095eace",
   "metadata": {},
   "source": [
    "Negative Sentiment"
   ]
  },
  {
   "cell_type": "code",
   "execution_count": 25,
   "id": "62085707",
   "metadata": {},
   "outputs": [],
   "source": [
    "vect = CountVectorizer(analyzer='word', lowercase=False)\n",
    "vect_neg = vect.fit_transform(clean_train_df[clean_train_df.y_train == 1].clean_morph)\n",
    "\n",
    "# Visualising the high frequency words for positive set\n",
    "\n",
    "df_neg_freq = pd.DataFrame(vect_neg.sum(axis=0), columns=list(vect.get_feature_names()), index = ['neg_frequency']).T\n",
    "most_freq_neg = df_neg_freq.nlargest(6, 'neg_frequency')"
   ]
  },
  {
   "cell_type": "code",
   "execution_count": 26,
   "id": "d9de5a20",
   "metadata": {},
   "outputs": [
    {
     "data": {
      "text/html": [
       "<div>\n",
       "<style scoped>\n",
       "    .dataframe tbody tr th:only-of-type {\n",
       "        vertical-align: middle;\n",
       "    }\n",
       "\n",
       "    .dataframe tbody tr th {\n",
       "        vertical-align: top;\n",
       "    }\n",
       "\n",
       "    .dataframe thead th {\n",
       "        text-align: right;\n",
       "    }\n",
       "</style>\n",
       "<table border=\"1\" class=\"dataframe\">\n",
       "  <thead>\n",
       "    <tr style=\"text-align: right;\">\n",
       "      <th></th>\n",
       "      <th>neg_frequency</th>\n",
       "    </tr>\n",
       "  </thead>\n",
       "  <tbody>\n",
       "    <tr>\n",
       "      <th>נשיא</th>\n",
       "      <td>1604</td>\n",
       "    </tr>\n",
       "    <tr>\n",
       "      <th>ישראל</th>\n",
       "      <td>1005</td>\n",
       "    </tr>\n",
       "    <tr>\n",
       "      <th>מדינה</th>\n",
       "      <td>610</td>\n",
       "    </tr>\n",
       "    <tr>\n",
       "      <th>יהודי</th>\n",
       "      <td>551</td>\n",
       "    </tr>\n",
       "    <tr>\n",
       "      <th>כבוד</th>\n",
       "      <td>550</td>\n",
       "    </tr>\n",
       "    <tr>\n",
       "      <th>התבוללות</th>\n",
       "      <td>523</td>\n",
       "    </tr>\n",
       "  </tbody>\n",
       "</table>\n",
       "</div>"
      ],
      "text/plain": [
       "          neg_frequency\n",
       "נשיא               1604\n",
       "ישראל              1005\n",
       "מדינה               610\n",
       "יהודי               551\n",
       "כבוד                550\n",
       "התבוללות            523"
      ]
     },
     "execution_count": 26,
     "metadata": {},
     "output_type": "execute_result"
    }
   ],
   "source": [
    "most_freq_neg"
   ]
  },
  {
   "cell_type": "markdown",
   "id": "4102918f",
   "metadata": {},
   "source": [
    "Neutral Sentiment"
   ]
  },
  {
   "cell_type": "code",
   "execution_count": 27,
   "id": "bc7d1e1c",
   "metadata": {},
   "outputs": [],
   "source": [
    "vect = CountVectorizer(analyzer='word', lowercase=False)\n",
    "vect_nut = vect.fit_transform(clean_train_df[clean_train_df.y_train == 2].clean_morph)\n",
    "\n",
    "# Visualising the high frequency words for positive set\n",
    "\n",
    "df_nut_freq = pd.DataFrame(vect_nut.sum(axis=0), columns=list(vect.get_feature_names()), index = ['nut_frequency']).T\n",
    "nut_freq_neg = df_nut_freq.nlargest(6, 'nut_frequency')"
   ]
  },
  {
   "cell_type": "code",
   "execution_count": 28,
   "id": "45fb363f",
   "metadata": {},
   "outputs": [
    {
     "data": {
      "text/html": [
       "<div>\n",
       "<style scoped>\n",
       "    .dataframe tbody tr th:only-of-type {\n",
       "        vertical-align: middle;\n",
       "    }\n",
       "\n",
       "    .dataframe tbody tr th {\n",
       "        vertical-align: top;\n",
       "    }\n",
       "\n",
       "    .dataframe thead th {\n",
       "        text-align: right;\n",
       "    }\n",
       "</style>\n",
       "<table border=\"1\" class=\"dataframe\">\n",
       "  <thead>\n",
       "    <tr style=\"text-align: right;\">\n",
       "      <th></th>\n",
       "      <th>nut_frequency</th>\n",
       "    </tr>\n",
       "  </thead>\n",
       "  <tbody>\n",
       "    <tr>\n",
       "      <th>ישראל</th>\n",
       "      <td>48</td>\n",
       "    </tr>\n",
       "    <tr>\n",
       "      <th>אנשים</th>\n",
       "      <td>32</td>\n",
       "    </tr>\n",
       "    <tr>\n",
       "      <th>נשיא</th>\n",
       "      <td>31</td>\n",
       "    </tr>\n",
       "    <tr>\n",
       "      <th>עוד</th>\n",
       "      <td>31</td>\n",
       "    </tr>\n",
       "    <tr>\n",
       "      <th>גאי</th>\n",
       "      <td>25</td>\n",
       "    </tr>\n",
       "    <tr>\n",
       "      <th>צפון</th>\n",
       "      <td>24</td>\n",
       "    </tr>\n",
       "  </tbody>\n",
       "</table>\n",
       "</div>"
      ],
      "text/plain": [
       "       nut_frequency\n",
       "ישראל             48\n",
       "אנשים             32\n",
       "נשיא              31\n",
       "עוד               31\n",
       "גאי               25\n",
       "צפון              24"
      ]
     },
     "execution_count": 28,
     "metadata": {},
     "output_type": "execute_result"
    }
   ],
   "source": [
    "nut_freq_neg"
   ]
  },
  {
   "cell_type": "markdown",
   "id": "f40f49e1",
   "metadata": {},
   "source": [
    "Displaying most frequent pos/neg words:"
   ]
  },
  {
   "cell_type": "code",
   "execution_count": 29,
   "id": "b29767d3",
   "metadata": {},
   "outputs": [],
   "source": [
    "merged_index = most_freq_neg.index.append(most_freq_pos.index).append(nut_freq_neg.index)"
   ]
  },
  {
   "cell_type": "code",
   "execution_count": 30,
   "id": "31b6501f",
   "metadata": {},
   "outputs": [
    {
     "data": {
      "text/plain": [
       "Index(['נשיא', 'ישראל', 'מדינה', 'יהודי', 'כבוד', 'התבוללות', 'נשיא', 'כבוד',\n",
       "       'הצלחה', 'ישראל', 'רובי', 'שלום', 'ישראל', 'אנשים', 'נשיא', 'עוד',\n",
       "       'גאי', 'צפון'],\n",
       "      dtype='object')"
      ]
     },
     "execution_count": 30,
     "metadata": {},
     "output_type": "execute_result"
    }
   ],
   "source": [
    "merged_index"
   ]
  },
  {
   "cell_type": "code",
   "execution_count": 31,
   "id": "f89a3ea7",
   "metadata": {},
   "outputs": [],
   "source": [
    "word_freq_df = pd.DataFrame()\n",
    "\n",
    "for feature in set(merged_index):\n",
    "    pos_freq = neg_freq = nut_freq = 0\n",
    "    if feature in df_pos_freq.index:\n",
    "        pos_freq = df_pos_freq.loc[feature].pos_frequency\n",
    "        \n",
    "    if feature in df_neg_freq.index:\n",
    "        neg_freq = df_neg_freq.loc[feature].neg_frequency\n",
    "        \n",
    "    if feature in df_nut_freq.index:\n",
    "        nut_freq = df_nut_freq.loc[feature].nut_frequency\n",
    "    \n",
    "    word_freq_df = word_freq_df.append(\n",
    "        {'feature'  : get_display(feature),\n",
    "         'orig_feature' : feature,\n",
    "         'pos_freq' : pos_freq,\n",
    "         'neg_freq' : neg_freq,\n",
    "         'nut_freq' : nut_freq},\n",
    "        ignore_index=True)\n",
    "    \n",
    "word_freq_df.set_index('feature', inplace=True)"
   ]
  },
  {
   "cell_type": "code",
   "execution_count": 32,
   "id": "a8ba7332",
   "metadata": {},
   "outputs": [
    {
     "data": {
      "text/html": [
       "<div>\n",
       "<style scoped>\n",
       "    .dataframe tbody tr th:only-of-type {\n",
       "        vertical-align: middle;\n",
       "    }\n",
       "\n",
       "    .dataframe tbody tr th {\n",
       "        vertical-align: top;\n",
       "    }\n",
       "\n",
       "    .dataframe thead th {\n",
       "        text-align: right;\n",
       "    }\n",
       "</style>\n",
       "<table border=\"1\" class=\"dataframe\">\n",
       "  <thead>\n",
       "    <tr style=\"text-align: right;\">\n",
       "      <th></th>\n",
       "      <th>neg_freq</th>\n",
       "      <th>nut_freq</th>\n",
       "      <th>orig_feature</th>\n",
       "      <th>pos_freq</th>\n",
       "    </tr>\n",
       "    <tr>\n",
       "      <th>feature</th>\n",
       "      <th></th>\n",
       "      <th></th>\n",
       "      <th></th>\n",
       "      <th></th>\n",
       "    </tr>\n",
       "  </thead>\n",
       "  <tbody>\n",
       "    <tr>\n",
       "      <th>הנידמ</th>\n",
       "      <td>610.0</td>\n",
       "      <td>10.0</td>\n",
       "      <td>מדינה</td>\n",
       "      <td>580.0</td>\n",
       "    </tr>\n",
       "    <tr>\n",
       "      <th>החלצה</th>\n",
       "      <td>33.0</td>\n",
       "      <td>6.0</td>\n",
       "      <td>הצלחה</td>\n",
       "      <td>1255.0</td>\n",
       "    </tr>\n",
       "    <tr>\n",
       "      <th>ןופצ</th>\n",
       "      <td>5.0</td>\n",
       "      <td>24.0</td>\n",
       "      <td>צפון</td>\n",
       "      <td>6.0</td>\n",
       "    </tr>\n",
       "    <tr>\n",
       "      <th>תוללובתה</th>\n",
       "      <td>523.0</td>\n",
       "      <td>2.0</td>\n",
       "      <td>התבוללות</td>\n",
       "      <td>49.0</td>\n",
       "    </tr>\n",
       "    <tr>\n",
       "      <th>דובכ</th>\n",
       "      <td>550.0</td>\n",
       "      <td>17.0</td>\n",
       "      <td>כבוד</td>\n",
       "      <td>1403.0</td>\n",
       "    </tr>\n",
       "    <tr>\n",
       "      <th>אישנ</th>\n",
       "      <td>1604.0</td>\n",
       "      <td>31.0</td>\n",
       "      <td>נשיא</td>\n",
       "      <td>3052.0</td>\n",
       "    </tr>\n",
       "    <tr>\n",
       "      <th>יבור</th>\n",
       "      <td>301.0</td>\n",
       "      <td>9.0</td>\n",
       "      <td>רובי</td>\n",
       "      <td>706.0</td>\n",
       "    </tr>\n",
       "    <tr>\n",
       "      <th>םולש</th>\n",
       "      <td>132.0</td>\n",
       "      <td>16.0</td>\n",
       "      <td>שלום</td>\n",
       "      <td>618.0</td>\n",
       "    </tr>\n",
       "    <tr>\n",
       "      <th>םישנא</th>\n",
       "      <td>160.0</td>\n",
       "      <td>32.0</td>\n",
       "      <td>אנשים</td>\n",
       "      <td>125.0</td>\n",
       "    </tr>\n",
       "    <tr>\n",
       "      <th>דוע</th>\n",
       "      <td>329.0</td>\n",
       "      <td>31.0</td>\n",
       "      <td>עוד</td>\n",
       "      <td>184.0</td>\n",
       "    </tr>\n",
       "    <tr>\n",
       "      <th>יאג</th>\n",
       "      <td>0.0</td>\n",
       "      <td>25.0</td>\n",
       "      <td>גאי</td>\n",
       "      <td>0.0</td>\n",
       "    </tr>\n",
       "    <tr>\n",
       "      <th>לארשי</th>\n",
       "      <td>1005.0</td>\n",
       "      <td>48.0</td>\n",
       "      <td>ישראל</td>\n",
       "      <td>1035.0</td>\n",
       "    </tr>\n",
       "    <tr>\n",
       "      <th>ידוהי</th>\n",
       "      <td>551.0</td>\n",
       "      <td>10.0</td>\n",
       "      <td>יהודי</td>\n",
       "      <td>93.0</td>\n",
       "    </tr>\n",
       "  </tbody>\n",
       "</table>\n",
       "</div>"
      ],
      "text/plain": [
       "          neg_freq  nut_freq orig_feature  pos_freq\n",
       "feature                                            \n",
       "הנידמ        610.0      10.0        מדינה     580.0\n",
       "החלצה         33.0       6.0        הצלחה    1255.0\n",
       "ןופצ           5.0      24.0         צפון       6.0\n",
       "תוללובתה     523.0       2.0     התבוללות      49.0\n",
       "דובכ         550.0      17.0         כבוד    1403.0\n",
       "אישנ        1604.0      31.0         נשיא    3052.0\n",
       "יבור         301.0       9.0         רובי     706.0\n",
       "םולש         132.0      16.0         שלום     618.0\n",
       "םישנא        160.0      32.0        אנשים     125.0\n",
       "דוע          329.0      31.0          עוד     184.0\n",
       "יאג            0.0      25.0          גאי       0.0\n",
       "לארשי       1005.0      48.0        ישראל    1035.0\n",
       "ידוהי        551.0      10.0        יהודי      93.0"
      ]
     },
     "execution_count": 32,
     "metadata": {},
     "output_type": "execute_result"
    }
   ],
   "source": [
    "word_freq_df"
   ]
  },
  {
   "cell_type": "code",
   "execution_count": 33,
   "id": "1d21281d",
   "metadata": {},
   "outputs": [
    {
     "data": {
      "text/plain": [
       "<AxesSubplot:ylabel='feature'>"
      ]
     },
     "execution_count": 33,
     "metadata": {},
     "output_type": "execute_result"
    },
    {
     "data": {
      "image/png": "[encoded data removed]",
      "text/plain": [
       "<Figure size 1152x576 with 1 Axes>"
      ]
     },
     "metadata": {
      "needs_background": "light"
     },
     "output_type": "display_data"
    }
   ],
   "source": [
    "word_freq_df.plot(kind = 'barh', figsize=(16,8))"
   ]
  },
  {
   "cell_type": "markdown",
   "id": "dd73e88d",
   "metadata": {},
   "source": [
    "## 2. Perform a naive classification based on the words found"
   ]
  },
  {
   "cell_type": "markdown",
   "id": "1fd6fb00",
   "metadata": {},
   "source": [
    "Check dataset balance"
   ]
  },
  {
   "cell_type": "code",
   "execution_count": 34,
   "id": "a9abc81a",
   "metadata": {},
   "outputs": [
    {
     "data": {
      "text/plain": [
       "0    0.637297\n",
       "1    0.333113\n",
       "2    0.029590\n",
       "Name: y_train, dtype: float64"
      ]
     },
     "execution_count": 34,
     "metadata": {},
     "output_type": "execute_result"
    }
   ],
   "source": [
    "clean_train_df.y_train.value_counts(normalize=True)"
   ]
  },
  {
   "cell_type": "code",
   "execution_count": 35,
   "id": "61b53e47",
   "metadata": {},
   "outputs": [
    {
     "data": {
      "text/plain": [
       "<AxesSubplot:ylabel='y_train'>"
      ]
     },
     "execution_count": 35,
     "metadata": {},
     "output_type": "execute_result"
    },
    {
     "data": {
      "image/png": "[encoded data removed]",
      "text/plain": [
       "<Figure size 432x288 with 1 Axes>"
      ]
     },
     "metadata": {},
     "output_type": "display_data"
    }
   ],
   "source": [
    "clean_train_df.y_train.value_counts().plot(kind ='pie')"
   ]
  },
  {
   "cell_type": "markdown",
   "id": "6b380109",
   "metadata": {},
   "source": [
    "There is a positive bias in dataset, so the positive classification is biased"
   ]
  },
  {
   "cell_type": "code",
   "execution_count": 36,
   "id": "08f67c93",
   "metadata": {},
   "outputs": [],
   "source": [
    "from sklearn import metrics\n",
    "from sklearn.model_selection import train_test_split\n",
    "import math\n",
    "from sklearn.metrics import confusion_matrix\n",
    "from sklearn.metrics import classification_report\n",
    "from sklearn.inspection import permutation_importance"
   ]
  },
  {
   "cell_type": "code",
   "execution_count": 37,
   "id": "bbcc7dbc",
   "metadata": {},
   "outputs": [],
   "source": [
    "def show_most_informative_features(vectorizer, clf, n=20):\n",
    "    # https://inblog.in/Feature-Importance-in-Naive-Bayes-Classifiers-5qob5d5sFW\n",
    "    feature_names = vectorizer.get_feature_names()\n",
    "    coefs_with_fns = sorted(zip(clf.coef_[0], feature_names))\n",
    "    important_feature = coefs_with_fns[:-(n + 1):-1]\n",
    "    \n",
    "    print(\"important_features: \")\n",
    "    for feature in important_feature:\n",
    "        print(feature)"
   ]
  },
  {
   "cell_type": "code",
   "execution_count": 1,
   "id": "8bce461d",
   "metadata": {},
   "outputs": [],
   "source": [
    "# classify the dataset using ExtraTreesClassifier and CountVectorizer (as in the refernce)\n",
    "def perform_classification(train_words, train_target, test_words):\n",
    "    \n",
    "    ################################## Splitting with feature selection data ###############################a\n",
    "\n",
    "    # Vectorising the required data\n",
    "    vect_algo = TfidfVectorizer(lowercase=False, ngram_range=(1, 1), analyzer='word')\n",
    "    vect_algo.fit(train_words)\n",
    "    Xf_train = vect_algo.transform(train_words)\n",
    "    Xf_test = vect_algo.transform(test_words)\n",
    "\n",
    "    # Encoding target data\n",
    "    # Creating an object and fitting on target strings\n",
    "    le = LabelEncoder()\n",
    "    yf_train = le.fit_transform(train_target)\n",
    "    \n",
    "    ########################################### Naive Bayes #########################################\n",
    "\n",
    "    # Fit the Naive Bayes classifier model to the object\n",
    "    clf = MultinomialNB()\n",
    "    clf.fit(Xf_train, yf_train)\n",
    "\n",
    "    # predict the outcome for testing data\n",
    "    predictions = clf.predict(Xf_test)\n",
    "    \n",
    "    show_most_informative_features(vect_algo, clf )\n",
    "\n",
    "    return predictions"
   ]
  },
  {
   "cell_type": "code",
   "execution_count": 39,
   "id": "17b5c7fe",
   "metadata": {
    "scrolled": true
   },
   "outputs": [
    {
     "name": "stdout",
     "output_type": "stream",
     "text": [
      "important_features: \n",
      "(-4.4910829730212365, 'נשיא')\n",
      "(-4.750195746439047, 'הצלחה')\n",
      "(-4.827365395427418, 'כבוד')\n",
      "(-5.333458789073194, 'שלום')\n",
      "(-5.368122943203613, 'ישראל')\n",
      "(-5.424658629110523, 'רובי')\n",
      "(-5.607098348841417, 'טוב')\n",
      "(-5.692956424075565, 'מדינת')\n",
      "(-5.704987849634659, 'יקר')\n",
      "(-5.710523011567993, 'בת')\n",
      "(-5.785036792327588, 'איש')\n",
      "(-5.795307148995947, 'אדוני')\n",
      "(-5.826337433609571, 'ריבלין')\n",
      "(-5.869042217447564, 'מדינה')\n",
      "(-5.894985274452706, 'רוך')\n",
      "(-5.915873017654391, 'יהי')\n",
      "(-5.922611583432285, 'אוהבים')\n",
      "(-5.932364270411059, 'מזל')\n",
      "(-5.99790845657988, 'זכרו')\n",
      "(-6.020482184647493, 'לב')\n"
     ]
    },
    {
     "name": "stderr",
     "output_type": "stream",
     "text": [
      "C:\\Users\\eyalshw\\Anaconda3\\lib\\site-packages\\sklearn\\utils\\deprecation.py:101: FutureWarning: Attribute coef_ was deprecated in version 0.24 and will be removed in 1.1 (renaming of 0.26).\n",
      "  warnings.warn(msg, category=FutureWarning)\n"
     ]
    }
   ],
   "source": [
    "y_predict = perform_classification(\n",
    "    clean_train_df.clean_morph,\n",
    "    clean_train_df.y_train,\n",
    "    clean_test_df.clean_morph)\n"
   ]
  },
  {
   "cell_type": "markdown",
   "id": "ddaf0a51",
   "metadata": {},
   "source": [
    "The feature importance is similar to the naive frequency count"
   ]
  },
  {
   "cell_type": "markdown",
   "id": "ad8e8142",
   "metadata": {},
   "source": [
    "## 3. Explain the confusion matrix"
   ]
  },
  {
   "cell_type": "code",
   "execution_count": 40,
   "id": "0ee3b39e",
   "metadata": {},
   "outputs": [],
   "source": [
    "le = LabelEncoder()\n",
    "y_true = le.fit_transform(clean_test_df.y_morph_test)"
   ]
  },
  {
   "cell_type": "code",
   "execution_count": 41,
   "id": "2a10170a",
   "metadata": {},
   "outputs": [
    {
     "name": "stdout",
     "output_type": "stream",
     "text": [
      "[[1377   48    0]\n",
      " [ 179  582    0]\n",
      " [  36   31    2]]\n"
     ]
    }
   ],
   "source": [
    "cf_matrix = confusion_matrix(y_true, y_predict)\n",
    "print(cf_matrix)"
   ]
  },
  {
   "cell_type": "code",
   "execution_count": 42,
   "id": "26b39747",
   "metadata": {},
   "outputs": [
    {
     "data": {
      "text/plain": [
       "<AxesSubplot:>"
      ]
     },
     "execution_count": 42,
     "metadata": {},
     "output_type": "execute_result"
    },
    {
     "data": {
      "image/png": "[encoded data removed]",
      "text/plain": [
       "<Figure size 432x288 with 2 Axes>"
      ]
     },
     "metadata": {
      "needs_background": "light"
     },
     "output_type": "display_data"
    }
   ],
   "source": [
    "import seaborn as sns\n",
    "sns.heatmap(cf_matrix, annot=True)"
   ]
  },
  {
   "cell_type": "code",
   "execution_count": 43,
   "id": "de196638",
   "metadata": {},
   "outputs": [
    {
     "data": {
      "text/plain": [
       "array([[1377,   48,    0],\n",
       "       [ 179,  582,    0],\n",
       "       [  36,   31,    2]], dtype=int64)"
      ]
     },
     "execution_count": 43,
     "metadata": {},
     "output_type": "execute_result"
    }
   ],
   "source": [
    "cf_matrix"
   ]
  },
  {
   "cell_type": "code",
   "execution_count": 44,
   "id": "1684132d",
   "metadata": {},
   "outputs": [
    {
     "name": "stdout",
     "output_type": "stream",
     "text": [
      "              precision    recall  f1-score   support\n",
      "\n",
      "    Positive     0.8649    0.9663    0.9128      1425\n",
      "    Negative     0.8805    0.7648    0.8186       761\n",
      "     Neutral     1.0000    0.0290    0.0563        69\n",
      "\n",
      "    accuracy                         0.8696      2255\n",
      "   macro avg     0.9151    0.5867    0.5959      2255\n",
      "weighted avg     0.8743    0.8696    0.8548      2255\n",
      "\n"
     ]
    }
   ],
   "source": [
    "target_names = ['Positive', 'Negative', 'Neutral']\n",
    "print(classification_report(y_true, y_predict, target_names=target_names, digits=4))"
   ]
  },
  {
   "cell_type": "markdown",
   "id": "8eadad83",
   "metadata": {},
   "source": [
    "Model Estimation\n",
    "\n",
    "1. From the confusion matrix we can see the there are a lot of negative sentiment were wrongly classified as positive\n",
    "2. There is a bias in the model for positive sentiments \n",
    "3. There is very small amount of neutral sentiments, which leads to the big difference between the high precision, low recall and low f1-score\n",
    "4. Overall accuarcy is 86.96%\n"
   ]
  },
  {
   "cell_type": "code",
   "execution_count": null,
   "id": "57310a65",
   "metadata": {},
   "outputs": [],
   "source": []
  }
 ],
 "metadata": {
  "kernelspec": {
   "display_name": "Python 3",
   "language": "python",
   "name": "python3"
  },
  "language_info": {
   "codemirror_mode": {
    "name": "ipython",
    "version": 3
   },
   "file_extension": ".py",
   "mimetype": "text/x-python",
   "name": "python",
   "nbconvert_exporter": "python",
   "pygments_lexer": "ipython3",
   "version": "3.8.8"
  },
  "varInspector": {
   "cols": {
    "lenName": 16,
    "lenType": 16,
    "lenVar": 40
   },
   "kernels_config": {
    "python": {
     "delete_cmd_postfix": "",
     "delete_cmd_prefix": "del ",
     "library": "var_list.py",
     "varRefreshCmd": "print(var_dic_list())"
    },
    "r": {
     "delete_cmd_postfix": ") ",
     "delete_cmd_prefix": "rm(",
     "library": "var_list.r",
     "varRefreshCmd": "cat(var_dic_list()) "
    }
   },
   "position": {
    "height": "525.208px",
    "left": "1761.56px",
    "right": "20px",
    "top": "120px",
    "width": "351.771px"
   },
   "types_to_exclude": [
    "module",
    "function",
    "builtin_function_or_method",
    "instance",
    "_Feature"
   ],
   "window_display": false
  }
 },
 "nbformat": 4,
 "nbformat_minor": 5
}
